{
 "cells": [
  {
   "cell_type": "markdown",
   "source": [
    "Finetuning the model on financial_phrasebank dataset, that consists of pairs of text-labels to classify financial-related sentences, if they are either <span style=\"color: red;\">positive</span>, <span style=\"color: purple;\">neutral</span> or <span style=\"color: green;\">negative</span>."
   ],
   "metadata": {
    "collapsed": false
   }
  },
  {
   "cell_type": "markdown",
   "source": [
    "# 1.Experimental Setup1"
   ],
   "metadata": {
    "collapsed": false
   }
  },
  {
   "cell_type": "markdown",
   "source": [
    "## 1.1 Setup"
   ],
   "metadata": {
    "collapsed": false
   }
  },
  {
   "cell_type": "markdown",
   "source": [
    "## 1.2 Training"
   ],
   "metadata": {
    "collapsed": false
   }
  },
  {
   "cell_type": "markdown",
   "source": [
    "### 1.2.1 Run code on CPU version"
   ],
   "metadata": {
    "collapsed": false
   }
  },
  {
   "cell_type": "code",
   "execution_count": null,
   "outputs": [],
   "source": [
    "!pwd"
   ],
   "metadata": {
    "collapsed": false,
    "is_executing": true
   }
  },
  {
   "cell_type": "code",
   "execution_count": 1,
   "outputs": [
    {
     "name": "stdout",
     "output_type": "stream",
     "text": [
      "/Users/wengbenjue/opt/anaconda3/envs/peft/lib/python3.11/site-packages/bitsandbytes/cextension.py:34: UserWarning: The installed version of bitsandbytes was compiled without GPU support. 8-bit optimizers, 8-bit multiplication, and GPU quantization are unavailable.\r\n",
      "  warn(\"The installed version of bitsandbytes was compiled without GPU support. \"\r\n",
      "'NoneType' object has no attribute 'cadam32bit_grad_fp32'\r\n",
      "/Users/wengbenjue/opt/anaconda3/envs/peft/lib/python3.11/site-packages/trl/trainer/ppo_config.py:141: UserWarning: The `optimize_cuda_cache` arguement will be deprecated soon, please use `optimize_device_cache` instead.\r\n",
      "  warnings.warn(\r\n",
      "Some weights of BertForSequenceClassification were not initialized from the model checkpoint at ../../../pretrain_models/bert-large-cased and are newly initialized: ['classifier.weight', 'classifier.bias']\r\n",
      "You should probably TRAIN this model on a down-stream task to be able to use it for predictions and inference.\r\n",
      "use AutoModelForSequenceClassification load bert model.\r\n",
      "trainable params: 6294531 || all params: 339876870 || trainable%: 1.8520033446230102\r\n",
      "tokenizer padding setting: [PAD]\r\n",
      "Sentence: seeing ppl walking w/ crutches makes me really excited for the next 3 weeks of my life\r\n",
      "Map: 100%|████████████████████████| 2862/2862 [00:00<00:00, 30320.35 examples/s]\r\n",
      "Map: 100%|██████████████████████████| 955/955 [00:00<00:00, 30976.18 examples/s]\r\n",
      "Map: 100%|██████████████████████| 14587/14587 [00:00<00:00, 27631.40 examples/s]\r\n",
      "  0%|                                                    | 0/55 [00:00<?, ?it/s]/Users/wengbenjue/opt/anaconda3/envs/peft/lib/python3.11/site-packages/torch/utils/checkpoint.py:429: UserWarning: torch.utils.checkpoint: please pass in use_reentrant=True or use_reentrant=False explicitly. The default value of use_reentrant will be updated to be False in the future. To maintain current behavior, pass use_reentrant=True. It is recommended that you use use_reentrant=False. Refer to docs for more details on the differences between the two variants.\r\n",
      "  warnings.warn(\r\n",
      "{'loss': 0.7917, 'learning_rate': 0.0008181818181818183, 'epoch': 0.89}         \r\n",
      " 20%|████████▌                                  | 11/55 [02:47<10:54, 14.88s/it]\r\n",
      "  0%|                                                    | 0/15 [00:00<?, ?it/s]\u001B[A\r\n",
      " 13%|█████▊                                      | 2/15 [00:01<00:06,  1.88it/s]\u001B[A\r\n",
      " 20%|████████▊                                   | 3/15 [00:02<00:09,  1.21it/s]\u001B[A\r\n",
      " 27%|███████████▋                                | 4/15 [00:03<00:10,  1.04it/s]\u001B[A\r\n",
      " 33%|██████████████▋                             | 5/15 [00:04<00:10,  1.03s/it]\u001B[A\r\n",
      " 40%|█████████████████▌                          | 6/15 [00:05<00:09,  1.05s/it]\u001B[A\r\n",
      " 47%|████████████████████▌                       | 7/15 [00:06<00:08,  1.05s/it]\u001B[A\r\n",
      " 53%|███████████████████████▍                    | 8/15 [00:07<00:07,  1.09s/it]\u001B[A\r\n",
      " 60%|██████████████████████████▍                 | 9/15 [00:09<00:06,  1.14s/it]\u001B[A\r\n",
      " 67%|████████████████████████████▋              | 10/15 [00:10<00:05,  1.15s/it]\u001B[A\r\n",
      " 73%|███████████████████████████████▌           | 11/15 [00:11<00:04,  1.15s/it]\u001B[A\r\n",
      " 80%|██████████████████████████████████▍        | 12/15 [00:12<00:03,  1.12s/it]\u001B[A\r\n",
      " 87%|█████████████████████████████████████▎     | 13/15 [00:13<00:02,  1.13s/it]\u001B[A\r\n",
      " 93%|████████████████████████████████████████▏  | 14/15 [00:14<00:01,  1.15s/it]\u001B[A\r\n",
      "                                                                                \u001B[A\r\n",
      "\u001B[A{'eval_loss': 0.6834097504615784, 'eval_accuracy': 0.5602094240837696, 'eval_precision': 0.563654613642271, 'eval_recall': 0.5602094240837696, 'eval_f1': 0.533670623060449, 'eval_runtime': 17.802, 'eval_samples_per_second': 53.646, 'eval_steps_per_second': 0.843, 'epoch': 0.98}\r\n",
      " 20%|████████▌                                  | 11/55 [03:09<10:54, 14.88s/it]\r\n",
      "100%|███████████████████████████████████████████| 15/15 [00:16<00:00,  1.34s/it]\u001B[A\r\n",
      "                                                                                \u001B[A/Users/wengbenjue/opt/anaconda3/envs/peft/lib/python3.11/site-packages/torch/utils/checkpoint.py:429: UserWarning: torch.utils.checkpoint: please pass in use_reentrant=True or use_reentrant=False explicitly. The default value of use_reentrant will be updated to be False in the future. To maintain current behavior, pass use_reentrant=True. It is recommended that you use use_reentrant=False. Refer to docs for more details on the differences between the two variants.\r\n",
      "  warnings.warn(\r\n",
      "{'loss': 0.7084, 'learning_rate': 0.0006363636363636364, 'epoch': 1.78}         \r\n",
      " 40%|█████████████████▏                         | 22/55 [06:00<09:14, 16.80s/it]\r\n",
      "  0%|                                                    | 0/15 [00:00<?, ?it/s]\u001B[A\r\n",
      " 13%|█████▊                                      | 2/15 [00:01<00:07,  1.66it/s]\u001B[A\r\n",
      " 20%|████████▊                                   | 3/15 [00:02<00:10,  1.18it/s]\u001B[A\r\n",
      " 27%|███████████▋                                | 4/15 [00:03<00:11,  1.02s/it]\u001B[A\r\n",
      " 33%|██████████████▋                             | 5/15 [00:04<00:10,  1.10s/it]\u001B[A\r\n",
      " 40%|█████████████████▌                          | 6/15 [00:06<00:10,  1.13s/it]\u001B[A\r\n",
      " 47%|████████████████████▌                       | 7/15 [00:07<00:09,  1.19s/it]\u001B[A\r\n",
      " 53%|███████████████████████▍                    | 8/15 [00:08<00:08,  1.21s/it]\u001B[A\r\n",
      " 60%|██████████████████████████▍                 | 9/15 [00:09<00:07,  1.19s/it]\u001B[A\r\n",
      " 67%|████████████████████████████▋              | 10/15 [00:11<00:06,  1.22s/it]\u001B[A\r\n",
      " 73%|███████████████████████████████▌           | 11/15 [00:12<00:04,  1.23s/it]\u001B[A\r\n",
      " 80%|██████████████████████████████████▍        | 12/15 [00:13<00:03,  1.23s/it]\u001B[A\r\n",
      " 87%|█████████████████████████████████████▎     | 13/15 [00:14<00:02,  1.23s/it]\u001B[A\r\n",
      " 93%|████████████████████████████████████████▏  | 14/15 [00:16<00:01,  1.23s/it]\u001B[A\r\n",
      "                                                                                \u001B[A\r\n",
      "\u001B[A{'eval_loss': 0.6810303926467896, 'eval_accuracy': 0.5581151832460733, 'eval_precision': 0.5644296836897186, 'eval_recall': 0.5581151832460733, 'eval_f1': 0.555785801338934, 'eval_runtime': 18.5334, 'eval_samples_per_second': 51.528, 'eval_steps_per_second': 0.809, 'epoch': 1.96}\r\n",
      " 40%|█████████████████▏                         | 22/55 [06:26<09:14, 16.80s/it]\r\n",
      "100%|███████████████████████████████████████████| 15/15 [00:17<00:00,  1.19s/it]\u001B[A\r\n",
      "                                                                                \u001B[A/Users/wengbenjue/opt/anaconda3/envs/peft/lib/python3.11/site-packages/torch/utils/checkpoint.py:429: UserWarning: torch.utils.checkpoint: please pass in use_reentrant=True or use_reentrant=False explicitly. The default value of use_reentrant will be updated to be False in the future. To maintain current behavior, pass use_reentrant=True. It is recommended that you use use_reentrant=False. Refer to docs for more details on the differences between the two variants.\r\n",
      "  warnings.warn(\r\n",
      "{'loss': 0.6708, 'learning_rate': 0.00045454545454545455, 'epoch': 2.67}        \r\n",
      " 60%|█████████████████████████▊                 | 33/55 [09:22<06:06, 16.68s/it]\r\n",
      "  0%|                                                    | 0/15 [00:00<?, ?it/s]\u001B[A\r\n",
      " 13%|█████▊                                      | 2/15 [00:01<00:07,  1.73it/s]\u001B[A\r\n",
      " 20%|████████▊                                   | 3/15 [00:02<00:09,  1.22it/s]\u001B[A\r\n",
      " 27%|███████████▋                                | 4/15 [00:03<00:10,  1.01it/s]\u001B[A\r\n",
      " 33%|██████████████▋                             | 5/15 [00:04<00:10,  1.05s/it]\u001B[A\r\n",
      " 40%|█████████████████▌                          | 6/15 [00:05<00:09,  1.07s/it]\u001B[A\r\n",
      " 47%|████████████████████▌                       | 7/15 [00:07<00:08,  1.12s/it]\u001B[A\r\n",
      " 53%|███████████████████████▍                    | 8/15 [00:08<00:08,  1.16s/it]\u001B[A\r\n",
      " 60%|██████████████████████████▍                 | 9/15 [00:09<00:06,  1.16s/it]\u001B[A\r\n",
      " 67%|████████████████████████████▋              | 10/15 [00:10<00:05,  1.16s/it]\u001B[A\r\n",
      " 73%|███████████████████████████████▌           | 11/15 [00:11<00:04,  1.19s/it]\u001B[A\r\n",
      " 80%|██████████████████████████████████▍        | 12/15 [00:13<00:03,  1.17s/it]\u001B[A\r\n",
      " 87%|█████████████████████████████████████▎     | 13/15 [00:14<00:02,  1.14s/it]\u001B[A\r\n",
      " 93%|████████████████████████████████████████▏  | 14/15 [00:15<00:01,  1.17s/it]\u001B[A\r\n",
      "                                                                                \u001B[A\r\n",
      "\u001B[A{'eval_loss': 0.6584972739219666, 'eval_accuracy': 0.6104712041884817, 'eval_precision': 0.6137045151937968, 'eval_recall': 0.6104712041884817, 'eval_f1': 0.6102713021369963, 'eval_runtime': 17.6262, 'eval_samples_per_second': 54.181, 'eval_steps_per_second': 0.851, 'epoch': 2.93}\r\n",
      " 60%|█████████████████████████▊                 | 33/55 [09:51<06:06, 16.68s/it]\r\n",
      "100%|███████████████████████████████████████████| 15/15 [00:16<00:00,  1.13s/it]\u001B[A\r\n",
      "                                                                                \u001B[A/Users/wengbenjue/opt/anaconda3/envs/peft/lib/python3.11/site-packages/torch/utils/checkpoint.py:429: UserWarning: torch.utils.checkpoint: please pass in use_reentrant=True or use_reentrant=False explicitly. The default value of use_reentrant will be updated to be False in the future. To maintain current behavior, pass use_reentrant=True. It is recommended that you use use_reentrant=False. Refer to docs for more details on the differences between the two variants.\r\n",
      "  warnings.warn(\r\n",
      "{'loss': 0.6414, 'learning_rate': 0.00027272727272727274, 'epoch': 3.56}        \r\n",
      " 82%|███████████████████████████████████▏       | 45/55 [12:58<02:46, 16.60s/it]\r\n",
      "  0%|                                                    | 0/15 [00:00<?, ?it/s]\u001B[A\r\n",
      " 13%|█████▊                                      | 2/15 [00:01<00:08,  1.59it/s]\u001B[A\r\n",
      " 20%|████████▊                                   | 3/15 [00:02<00:10,  1.15it/s]\u001B[A\r\n",
      " 27%|███████████▋                                | 4/15 [00:03<00:10,  1.03it/s]\u001B[A\r\n",
      " 33%|██████████████▋                             | 5/15 [00:04<00:10,  1.07s/it]\u001B[A\r\n",
      " 40%|█████████████████▌                          | 6/15 [00:06<00:10,  1.12s/it]\u001B[A\r\n",
      " 47%|████████████████████▌                       | 7/15 [00:07<00:09,  1.13s/it]\u001B[A\r\n",
      " 53%|███████████████████████▍                    | 8/15 [00:08<00:08,  1.16s/it]\u001B[A\r\n",
      " 60%|██████████████████████████▍                 | 9/15 [00:09<00:07,  1.18s/it]\u001B[A\r\n",
      " 67%|████████████████████████████▋              | 10/15 [00:10<00:05,  1.17s/it]\u001B[A\r\n",
      " 73%|███████████████████████████████▌           | 11/15 [00:12<00:04,  1.19s/it]\u001B[A\r\n",
      " 80%|██████████████████████████████████▍        | 12/15 [00:13<00:03,  1.22s/it]\u001B[A\r\n",
      " 87%|█████████████████████████████████████▎     | 13/15 [00:14<00:02,  1.20s/it]\u001B[A\r\n",
      " 93%|████████████████████████████████████████▏  | 14/15 [00:15<00:01,  1.19s/it]\u001B[A\r\n",
      "                                                                                \u001B[A\r\n",
      "\u001B[A{'eval_loss': 0.6403513550758362, 'eval_accuracy': 0.6272251308900524, 'eval_precision': 0.6303889284001906, 'eval_recall': 0.6272251308900524, 'eval_f1': 0.627082066594294, 'eval_runtime': 17.9663, 'eval_samples_per_second': 53.155, 'eval_steps_per_second': 0.835, 'epoch': 4.0}\r\n",
      " 82%|███████████████████████████████████▏       | 45/55 [13:16<02:46, 16.60s/it]\r\n",
      "100%|███████████████████████████████████████████| 15/15 [00:16<00:00,  1.17s/it]\u001B[A\r\n",
      "                                                                                \u001B[A/Users/wengbenjue/opt/anaconda3/envs/peft/lib/python3.11/site-packages/torch/utils/checkpoint.py:429: UserWarning: torch.utils.checkpoint: please pass in use_reentrant=True or use_reentrant=False explicitly. The default value of use_reentrant will be updated to be False in the future. To maintain current behavior, pass use_reentrant=True. It is recommended that you use use_reentrant=False. Refer to docs for more details on the differences between the two variants.\r\n",
      "  warnings.warn(\r\n",
      "{'loss': 0.6116, 'learning_rate': 9.090909090909092e-05, 'epoch': 4.44}         \r\n",
      "100%|███████████████████████████████████████████| 55/55 [16:10<00:00, 17.51s/it]\r\n",
      "  0%|                                                    | 0/15 [00:00<?, ?it/s]\u001B[A\r\n",
      " 13%|█████▊                                      | 2/15 [00:01<00:08,  1.58it/s]\u001B[A\r\n",
      " 20%|████████▊                                   | 3/15 [00:02<00:10,  1.17it/s]\u001B[A\r\n",
      " 27%|███████████▋                                | 4/15 [00:03<00:11,  1.03s/it]\u001B[A\r\n",
      " 33%|██████████████▋                             | 5/15 [00:05<00:11,  1.11s/it]\u001B[A\r\n",
      " 40%|█████████████████▌                          | 6/15 [00:06<00:10,  1.15s/it]\u001B[A\r\n",
      " 47%|████████████████████▌                       | 7/15 [00:07<00:09,  1.17s/it]\u001B[A\r\n",
      " 53%|███████████████████████▍                    | 8/15 [00:08<00:08,  1.21s/it]\u001B[A\r\n",
      " 60%|██████████████████████████▍                 | 9/15 [00:10<00:07,  1.23s/it]\u001B[A\r\n",
      " 67%|████████████████████████████▋              | 10/15 [00:11<00:06,  1.23s/it]\u001B[A\r\n",
      " 73%|███████████████████████████████▌           | 11/15 [00:12<00:05,  1.26s/it]\u001B[A\r\n",
      " 80%|██████████████████████████████████▍        | 12/15 [00:13<00:03,  1.26s/it]\u001B[A\r\n",
      " 87%|█████████████████████████████████████▎     | 13/15 [00:15<00:02,  1.28s/it]\u001B[A\r\n",
      " 93%|████████████████████████████████████████▏  | 14/15 [00:16<00:01,  1.29s/it]\u001B[A\r\n",
      "                                                                                \u001B[A\r\n",
      "\u001B[A{'eval_loss': 0.641559362411499, 'eval_accuracy': 0.643979057591623, 'eval_precision': 0.6564819473719997, 'eval_recall': 0.643979057591623, 'eval_f1': 0.6408018973464, 'eval_runtime': 18.9729, 'eval_samples_per_second': 50.335, 'eval_steps_per_second': 0.791, 'epoch': 4.89}\r\n",
      "100%|███████████████████████████████████████████| 55/55 [16:29<00:00, 17.51s/it]\r\n",
      "100%|███████████████████████████████████████████| 15/15 [00:17<00:00,  1.25s/it]\u001B[A\r\n",
      "{'train_runtime': 989.442, 'train_samples_per_second': 14.463, 'train_steps_per_second': 0.056, 'train_loss': 0.6789069955999201, 'epoch': 4.89}\r\n",
      "100%|███████████████████████████████████████████| 55/55 [16:29<00:00, 17.99s/it]\r\n"
     ]
    }
   ],
   "source": [
    "!python ../../../peft_train.py \\\n",
    "--model_name ../../../pretrain_models/bert-large-cased \\\n",
    "--max_seq_len 2048 \\\n",
    "--group_by_length \\\n",
    "--max_steps 200 \\\n",
    "--dataset_name ../../../text-classification/tweet_eval_stance_abortion \\\n",
    "--num_labels 3 \\\n",
    "--epochs 5 \\\n",
    "--learning_rate 1e-3 \\\n",
    "--model_type SEQ_CLS \\\n",
    "--output_model_path ./result/bert-large-cased-tweet_eval_stance_abortion-lora \\\n",
    "--bnb_4bit_compute_dtype float32 \\\n",
    "--use_4b False\n"
   ],
   "metadata": {
    "collapsed": false,
    "ExecuteTime": {
     "end_time": "2023-12-06T10:22:59.717351Z",
     "start_time": "2023-12-06T10:06:24.465095Z"
    }
   }
  },
  {
   "cell_type": "markdown",
   "source": [
    "### 1.2.2 Run code on GPU version\n",
    "Load the model together with the adapter with few lines of code! Check the snippet below to load the adapter from the Hub and run the example evaluation."
   ],
   "metadata": {
    "collapsed": false
   }
  },
  {
   "cell_type": "code",
   "execution_count": null,
   "outputs": [],
   "source": [
    "!pip install -q -U trl transformers accelerate git+https://github.com/huggingface/peft.git\n",
    "!pip install -q datasets bitsandbytes einops wandb evaluate\n",
    "from google.colab import drive\n",
    "drive.mount('/content/drive')\n",
    "%cd /content/drive/MyDrive/Colab Notebooks/llms-peft-cook-colab/experiments/bert-large-cased-lora/tweet_eval_irony"
   ],
   "metadata": {
    "collapsed": false
   }
  },
  {
   "cell_type": "code",
   "execution_count": 1,
   "outputs": [
    {
     "name": "stdout",
     "output_type": "stream",
     "text": [
      "/Users/wengbenjue/opt/anaconda3/envs/peft/lib/python3.11/site-packages/bitsandbytes/cextension.py:34: UserWarning: The installed version of bitsandbytes was compiled without GPU support. 8-bit optimizers, 8-bit multiplication, and GPU quantization are unavailable.\r\n",
      "  warn(\"The installed version of bitsandbytes was compiled without GPU support. \"\r\n",
      "'NoneType' object has no attribute 'cadam32bit_grad_fp32'\r\n",
      "/Users/wengbenjue/opt/anaconda3/envs/peft/lib/python3.11/site-packages/trl/trainer/ppo_config.py:141: UserWarning: The `optimize_cuda_cache` arguement will be deprecated soon, please use `optimize_device_cache` instead.\r\n",
      "  warnings.warn(\r\n",
      "Using the latest cached version of the module from /Users/wengbenjue/.cache/huggingface/modules/evaluate_modules/metrics/evaluate-metric--accuracy/f887c0aab52c2d38e1f8a215681126379eca617f96c447638f751434e8e65b14 (last modified on Mon Apr 24 01:17:15 2023) since it couldn't be found locally at evaluate-metric--accuracy, or remotely on the Hugging Face Hub.\r\n",
      "Traceback (most recent call last):\r\n",
      "  File \"/Users/wengbenjue/opt/anaconda3/envs/peft/lib/python3.11/site-packages/urllib3/connection.py\", line 174, in _new_conn\r\n",
      "    conn = connection.create_connection(\r\n",
      "           ^^^^^^^^^^^^^^^^^^^^^^^^^^^^^\r\n",
      "  File \"/Users/wengbenjue/opt/anaconda3/envs/peft/lib/python3.11/site-packages/urllib3/util/connection.py\", line 95, in create_connection\r\n",
      "    raise err\r\n",
      "  File \"/Users/wengbenjue/opt/anaconda3/envs/peft/lib/python3.11/site-packages/urllib3/util/connection.py\", line 85, in create_connection\r\n",
      "    sock.connect(sa)\r\n",
      "TimeoutError: timed out\r\n",
      "\r\n",
      "During handling of the above exception, another exception occurred:\r\n",
      "\r\n",
      "Traceback (most recent call last):\r\n",
      "  File \"/Users/wengbenjue/opt/anaconda3/envs/peft/lib/python3.11/site-packages/urllib3/connectionpool.py\", line 715, in urlopen\r\n",
      "    httplib_response = self._make_request(\r\n",
      "                       ^^^^^^^^^^^^^^^^^^^\r\n",
      "  File \"/Users/wengbenjue/opt/anaconda3/envs/peft/lib/python3.11/site-packages/urllib3/connectionpool.py\", line 404, in _make_request\r\n",
      "    self._validate_conn(conn)\r\n",
      "  File \"/Users/wengbenjue/opt/anaconda3/envs/peft/lib/python3.11/site-packages/urllib3/connectionpool.py\", line 1058, in _validate_conn\r\n",
      "    conn.connect()\r\n",
      "  File \"/Users/wengbenjue/opt/anaconda3/envs/peft/lib/python3.11/site-packages/urllib3/connection.py\", line 363, in connect\r\n",
      "    self.sock = conn = self._new_conn()\r\n",
      "                       ^^^^^^^^^^^^^^^^\r\n",
      "  File \"/Users/wengbenjue/opt/anaconda3/envs/peft/lib/python3.11/site-packages/urllib3/connection.py\", line 179, in _new_conn\r\n",
      "    raise ConnectTimeoutError(\r\n",
      "urllib3.exceptions.ConnectTimeoutError: (<urllib3.connection.HTTPSConnection object at 0x2bd316b10>, 'Connection to huggingface.co timed out. (connect timeout=10)')\r\n",
      "\r\n",
      "During handling of the above exception, another exception occurred:\r\n",
      "\r\n",
      "Traceback (most recent call last):\r\n",
      "  File \"/Users/wengbenjue/opt/anaconda3/envs/peft/lib/python3.11/site-packages/requests/adapters.py\", line 486, in send\r\n",
      "    resp = conn.urlopen(\r\n",
      "           ^^^^^^^^^^^^^\r\n",
      "  File \"/Users/wengbenjue/opt/anaconda3/envs/peft/lib/python3.11/site-packages/urllib3/connectionpool.py\", line 799, in urlopen\r\n",
      "    retries = retries.increment(\r\n",
      "              ^^^^^^^^^^^^^^^^^^\r\n",
      "  File \"/Users/wengbenjue/opt/anaconda3/envs/peft/lib/python3.11/site-packages/urllib3/util/retry.py\", line 592, in increment\r\n",
      "    raise MaxRetryError(_pool, url, error or ResponseError(cause))\r\n",
      "urllib3.exceptions.MaxRetryError: HTTPSConnectionPool(host='huggingface.co', port=443): Max retries exceeded with url: /bert-large-cased/resolve/main/config.json (Caused by ConnectTimeoutError(<urllib3.connection.HTTPSConnection object at 0x2bd316b10>, 'Connection to huggingface.co timed out. (connect timeout=10)'))\r\n",
      "\r\n",
      "During handling of the above exception, another exception occurred:\r\n",
      "\r\n",
      "Traceback (most recent call last):\r\n",
      "  File \"/Users/wengbenjue/opt/anaconda3/envs/peft/lib/python3.11/site-packages/huggingface_hub/file_download.py\", line 1247, in hf_hub_download\r\n",
      "    metadata = get_hf_file_metadata(\r\n",
      "               ^^^^^^^^^^^^^^^^^^^^^\r\n",
      "  File \"/Users/wengbenjue/opt/anaconda3/envs/peft/lib/python3.11/site-packages/huggingface_hub/utils/_validators.py\", line 118, in _inner_fn\r\n",
      "    return fn(*args, **kwargs)\r\n",
      "           ^^^^^^^^^^^^^^^^^^^\r\n",
      "  File \"/Users/wengbenjue/opt/anaconda3/envs/peft/lib/python3.11/site-packages/huggingface_hub/file_download.py\", line 1624, in get_hf_file_metadata\r\n",
      "    r = _request_wrapper(\r\n",
      "        ^^^^^^^^^^^^^^^^^\r\n",
      "  File \"/Users/wengbenjue/opt/anaconda3/envs/peft/lib/python3.11/site-packages/huggingface_hub/file_download.py\", line 402, in _request_wrapper\r\n",
      "    response = _request_wrapper(\r\n",
      "               ^^^^^^^^^^^^^^^^^\r\n",
      "  File \"/Users/wengbenjue/opt/anaconda3/envs/peft/lib/python3.11/site-packages/huggingface_hub/file_download.py\", line 425, in _request_wrapper\r\n",
      "    response = get_session().request(method=method, url=url, **params)\r\n",
      "               ^^^^^^^^^^^^^^^^^^^^^^^^^^^^^^^^^^^^^^^^^^^^^^^^^^^^^^^\r\n",
      "  File \"/Users/wengbenjue/opt/anaconda3/envs/peft/lib/python3.11/site-packages/requests/sessions.py\", line 589, in request\r\n",
      "    resp = self.send(prep, **send_kwargs)\r\n",
      "           ^^^^^^^^^^^^^^^^^^^^^^^^^^^^^^\r\n",
      "  File \"/Users/wengbenjue/opt/anaconda3/envs/peft/lib/python3.11/site-packages/requests/sessions.py\", line 703, in send\r\n",
      "    r = adapter.send(request, **kwargs)\r\n",
      "        ^^^^^^^^^^^^^^^^^^^^^^^^^^^^^^^\r\n",
      "  File \"/Users/wengbenjue/opt/anaconda3/envs/peft/lib/python3.11/site-packages/huggingface_hub/utils/_http.py\", line 63, in send\r\n",
      "    return super().send(request, *args, **kwargs)\r\n",
      "           ^^^^^^^^^^^^^^^^^^^^^^^^^^^^^^^^^^^^^^\r\n",
      "  File \"/Users/wengbenjue/opt/anaconda3/envs/peft/lib/python3.11/site-packages/requests/adapters.py\", line 507, in send\r\n",
      "    raise ConnectTimeout(e, request=request)\r\n",
      "requests.exceptions.ConnectTimeout: (MaxRetryError(\"HTTPSConnectionPool(host='huggingface.co', port=443): Max retries exceeded with url: /bert-large-cased/resolve/main/config.json (Caused by ConnectTimeoutError(<urllib3.connection.HTTPSConnection object at 0x2bd316b10>, 'Connection to huggingface.co timed out. (connect timeout=10)'))\"), '(Request ID: 5a552948-f039-49fc-b89c-aca86d7d0a34)')\r\n",
      "\r\n",
      "The above exception was the direct cause of the following exception:\r\n",
      "\r\n",
      "Traceback (most recent call last):\r\n",
      "  File \"/Users/wengbenjue/opt/anaconda3/envs/peft/lib/python3.11/site-packages/transformers/utils/hub.py\", line 430, in cached_file\r\n",
      "    resolved_file = hf_hub_download(\r\n",
      "                    ^^^^^^^^^^^^^^^^\r\n",
      "  File \"/Users/wengbenjue/opt/anaconda3/envs/peft/lib/python3.11/site-packages/huggingface_hub/utils/_validators.py\", line 118, in _inner_fn\r\n",
      "    return fn(*args, **kwargs)\r\n",
      "           ^^^^^^^^^^^^^^^^^^^\r\n",
      "  File \"/Users/wengbenjue/opt/anaconda3/envs/peft/lib/python3.11/site-packages/huggingface_hub/file_download.py\", line 1377, in hf_hub_download\r\n",
      "    raise LocalEntryNotFoundError(\r\n",
      "huggingface_hub.utils._errors.LocalEntryNotFoundError: An error happened while trying to locate the file on the Hub and we cannot find the requested files in the local cache. Please check your connection and try again or make sure your Internet connection is on.\r\n",
      "\r\n",
      "The above exception was the direct cause of the following exception:\r\n",
      "\r\n",
      "Traceback (most recent call last):\r\n",
      "  File \"/Users/wengbenjue/sourcecode/peft/llms-peft-cook/experiments/bert-large-cased-lora/tweet_eval/../../../peft_train.py\", line 359, in <module>\r\n",
      "    model, peft_config, tokenizer = create_and_prepare_model(script_args)\r\n",
      "                                    ^^^^^^^^^^^^^^^^^^^^^^^^^^^^^^^^^^^^^\r\n",
      "  File \"/Users/wengbenjue/sourcecode/peft/llms-peft-cook/experiments/bert-large-cased-lora/tweet_eval/../../../peft_train.py\", line 236, in create_and_prepare_model\r\n",
      "    model = BertForSequenceClassification.from_pretrained(\r\n",
      "            ^^^^^^^^^^^^^^^^^^^^^^^^^^^^^^^^^^^^^^^^^^^^^^\r\n",
      "  File \"/Users/wengbenjue/opt/anaconda3/envs/peft/lib/python3.11/site-packages/transformers/modeling_utils.py\", line 2760, in from_pretrained\r\n",
      "    config, model_kwargs = cls.config_class.from_pretrained(\r\n",
      "                           ^^^^^^^^^^^^^^^^^^^^^^^^^^^^^^^^^\r\n",
      "  File \"/Users/wengbenjue/opt/anaconda3/envs/peft/lib/python3.11/site-packages/transformers/configuration_utils.py\", line 593, in from_pretrained\r\n",
      "    config_dict, kwargs = cls.get_config_dict(pretrained_model_name_or_path, **kwargs)\r\n",
      "                          ^^^^^^^^^^^^^^^^^^^^^^^^^^^^^^^^^^^^^^^^^^^^^^^^^^^^^^^^^^^^\r\n",
      "  File \"/Users/wengbenjue/opt/anaconda3/envs/peft/lib/python3.11/site-packages/transformers/configuration_utils.py\", line 622, in get_config_dict\r\n",
      "    config_dict, kwargs = cls._get_config_dict(pretrained_model_name_or_path, **kwargs)\r\n",
      "                          ^^^^^^^^^^^^^^^^^^^^^^^^^^^^^^^^^^^^^^^^^^^^^^^^^^^^^^^^^^^^^\r\n",
      "  File \"/Users/wengbenjue/opt/anaconda3/envs/peft/lib/python3.11/site-packages/transformers/configuration_utils.py\", line 677, in _get_config_dict\r\n",
      "    resolved_config_file = cached_file(\r\n",
      "                           ^^^^^^^^^^^^\r\n",
      "  File \"/Users/wengbenjue/opt/anaconda3/envs/peft/lib/python3.11/site-packages/transformers/utils/hub.py\", line 470, in cached_file\r\n",
      "    raise EnvironmentError(\r\n",
      "OSError: We couldn't connect to 'https://huggingface.co' to load this file, couldn't find it in the cached files and it looks like bert-large-cased is not the path to a directory containing a file named config.json.\r\n",
      "Checkout your internet connection or see how to run the library in offline mode at 'https://huggingface.co/docs/transformers/installation#offline-mode'.\r\n"
     ]
    }
   ],
   "source": [
    "import os\n",
    "os.environ[\"CUDA_VISIBLE_DEVICES\"] = \"0\"\n",
    "!python ../../../peft_train.py \\\n",
    "--model_name bert-large-cased \\\n",
    "--max_seq_len 2048 \\\n",
    "--group_by_length \\\n",
    "--max_steps 200 \\\n",
    "--dataset_name ../../../text-classification/tweet_eval_stance_abortion \\\n",
    "--num_labels 2 \\\n",
    "--epochs 5 \\\n",
    "--learning_rate 1e-3\\\n",
    "--model_type SEQ_CLS \\\n",
    "--output_model_path ./result/bert-base-cased-tweet_eval_stance_abortion-lora \\\n",
    "--bnb_4bit_compute_dtype float16 \\\n",
    "--load_in_8bit \\\n",
    "--use_4b"
   ],
   "metadata": {
    "collapsed": false,
    "ExecuteTime": {
     "start_time": "2023-12-04T09:22:51.795569Z"
    }
   }
  },
  {
   "cell_type": "markdown",
   "source": [
    "# Load your adapter from the Hub"
   ],
   "metadata": {
    "collapsed": false
   }
  },
  {
   "cell_type": "code",
   "execution_count": 7,
   "outputs": [],
   "source": [
    "import torch\n",
    "from peft import PeftModel, PeftConfig\n",
    "from transformers import AutoModelForSeq2SeqLM, AutoTokenizer\n",
    "\n",
    "peft_model_id = \"./result/flan-t5-cup-lora\"\n",
    "base_model_name_or_path = '.../../../pretrain_models/google-flan-t5-small'\n",
    "config = PeftConfig.from_pretrained(peft_model_id)\n",
    "\n",
    "# model = AutoModelForSeq2SeqLM.from_pretrained(config.base_model_name_or_path, torch_dtype=\"auto\", device_map=\"auto\")\n",
    "model = AutoModelForSeq2SeqLM.from_pretrained(config.base_model_name_or_path, torch_dtype=\"auto\", device_map=\"cpu\")\n",
    "tokenizer = AutoTokenizer.from_pretrained(config.base_model_name_or_path)\n",
    "\n",
    "# Load the Lora model\n",
    "model = PeftModel.from_pretrained(model, peft_model_id)"
   ],
   "metadata": {
    "collapsed": false,
    "ExecuteTime": {
     "end_time": "2023-12-02T16:37:01.962850Z",
     "start_time": "2023-12-02T16:37:01.696535Z"
    }
   }
  },
  {
   "cell_type": "code",
   "execution_count": 9,
   "outputs": [
    {
     "name": "stdout",
     "output_type": "stream",
     "text": [
      "input sentence:  In January-September 2009 , the Group 's net interest income increased to EUR 112.4 mn from EUR 74.3 mn in January-September 2008 .\n",
      " output prediction:  ['positive positive positive positive positive positive positive positive positive positive']\n"
     ]
    }
   ],
   "source": [
    "model.eval()\n",
    "input_text = \"In January-September 2009 , the Group 's net interest income increased to EUR 112.4 mn from EUR 74.3 mn in January-September 2008 .\"\n",
    "inputs = tokenizer(input_text, return_tensors=\"pt\")\n",
    "\n",
    "outputs = model.generate(input_ids=inputs[\"input_ids\"], max_new_tokens=10)\n",
    "\n",
    "print(\"input sentence: \", input_text)\n",
    "print(\" output prediction: \", tokenizer.batch_decode(outputs.detach().cpu().numpy(), skip_special_tokens=True))"
   ],
   "metadata": {
    "collapsed": false,
    "ExecuteTime": {
     "end_time": "2023-12-02T16:40:55.202266Z",
     "start_time": "2023-12-02T16:40:55.100686Z"
    }
   }
  },
  {
   "cell_type": "code",
   "execution_count": 8,
   "outputs": [
    {
     "name": "stdout",
     "output_type": "stream",
     "text": [
      "input sentence:  In January-September 2009 , the Group 's net interest income increased to EUR 112.4 mn from EUR 74.3 mn in January-September 2008 .\n",
      " output prediction:  ['positive positive positive positive positive positive positive positive positive positive']\n"
     ]
    }
   ],
   "source": [
    "model.eval()\n",
    "input_text = \"In January-September 2009 , the Group 's net interest income increased to EUR 112.4 mn from EUR 74.3 mn in January-September 2008 .\"\n",
    "inputs = tokenizer(input_text, return_tensors=\"pt\")\n",
    "\n",
    "outputs = model.generate(input_ids=inputs[\"input_ids\"], max_new_tokens=10)\n",
    "\n",
    "print(\"input sentence: \", input_text)\n",
    "print(\" output prediction: \", tokenizer.batch_decode(outputs.detach().cpu().numpy(), skip_special_tokens=True))"
   ],
   "metadata": {
    "collapsed": false,
    "ExecuteTime": {
     "end_time": "2023-12-02T16:37:04.919570Z",
     "start_time": "2023-12-02T16:37:04.379496Z"
    }
   }
  },
  {
   "cell_type": "markdown",
   "source": [
    "## 1.3 Experimental Result"
   ],
   "metadata": {
    "collapsed": false
   }
  },
  {
   "cell_type": "code",
   "execution_count": null,
   "outputs": [],
   "source": [
    "class HTMLRender:\n",
    "    def __init__(self,html_str):\n",
    "        self.html_str =html_str\n",
    "    def _repr_html_(self):\n",
    "       return self.html_str\n"
   ],
   "metadata": {
    "collapsed": false,
    "is_executing": true
   }
  },
  {
   "cell_type": "code",
   "execution_count": null,
   "outputs": [],
   "source": [
    "model_accurcy_html = '''\n",
    "<table>\n",
    "  <tr>\n",
    "    <th>eval loss</th>\n",
    "    <th>eval accuracy</th>\n",
    "    <th>eval precision</th>\n",
    "    <th>eval recall</th>\n",
    "    <th>eval f1</th>\n",
    "  </tr>\n",
    "  <tr>\n",
    "    <td style=\"background-color:#4C72B0;\">0.102</td>\n",
    "    <td style=\"background-color:#55A868;\">0.896</td>\n",
    "    <td style=\"background-color:#C44E52;\">0.90</td>\n",
    "     <td style=\"background-color:#8172B2;\">0.896</td>\n",
    "    <td style=\"background-color:#64B5CD;\">0.894</td>\n",
    "  </tr>\n",
    "\n",
    "</table>\n",
    "\n",
    "       '''\n",
    "HTMLRender(model_accurcy_html)"
   ],
   "metadata": {
    "collapsed": false,
    "is_executing": true
   }
  },
  {
   "cell_type": "code",
   "execution_count": null,
   "outputs": [],
   "source": [
    "accuracy_html = '''\n",
    "<img src=\"./image/flan-t5-small-accuracy.png\" alt=\"flan-t5-small-accuracy\" width=\"70%\">\n",
    "'''\n",
    "HTMLRender(accuracy_html)"
   ],
   "metadata": {
    "collapsed": false,
    "is_executing": true
   }
  },
  {
   "cell_type": "code",
   "execution_count": null,
   "outputs": [],
   "source": [
    "## Load your adapter from the Hub\n"
   ],
   "metadata": {
    "collapsed": false
   }
  }
 ],
 "metadata": {
  "kernelspec": {
   "display_name": "Python 3",
   "language": "python",
   "name": "python3"
  },
  "language_info": {
   "codemirror_mode": {
    "name": "ipython",
    "version": 2
   },
   "file_extension": ".py",
   "mimetype": "text/x-python",
   "name": "python",
   "nbconvert_exporter": "python",
   "pygments_lexer": "ipython2",
   "version": "2.7.6"
  }
 },
 "nbformat": 4,
 "nbformat_minor": 0
}
