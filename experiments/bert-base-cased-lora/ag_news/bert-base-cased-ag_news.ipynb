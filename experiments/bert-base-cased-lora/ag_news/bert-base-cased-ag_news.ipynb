{
 "cells": [
  {
   "cell_type": "markdown",
   "source": [
    "Finetuning the model on financial_phrasebank dataset, that consists of pairs of text-labels to classify financial-related sentences, if they are either <span style=\"color: red;\">positive</span>, <span style=\"color: purple;\">neutral</span> or <span style=\"color: green;\">negative</span>."
   ],
   "metadata": {
    "collapsed": false
   }
  },
  {
   "cell_type": "markdown",
   "source": [
    "# 1.Experimental Setup1"
   ],
   "metadata": {
    "collapsed": false
   }
  },
  {
   "cell_type": "markdown",
   "source": [
    "## 1.1 Setup"
   ],
   "metadata": {
    "collapsed": false
   }
  },
  {
   "cell_type": "markdown",
   "source": [
    "## 1.2 Training"
   ],
   "metadata": {
    "collapsed": false
   }
  },
  {
   "cell_type": "markdown",
   "source": [
    "### 1.2.1 Run code on CPU version"
   ],
   "metadata": {
    "collapsed": false
   }
  },
  {
   "cell_type": "code",
   "execution_count": null,
   "outputs": [],
   "source": [
    "!pwd"
   ],
   "metadata": {
    "collapsed": false,
    "is_executing": true
   }
  },
  {
   "cell_type": "code",
   "execution_count": 1,
   "outputs": [
    {
     "name": "stdout",
     "output_type": "stream",
     "text": [
      "/Users/wengbenjue/opt/anaconda3/envs/peft/lib/python3.11/site-packages/bitsandbytes/cextension.py:34: UserWarning: The installed version of bitsandbytes was compiled without GPU support. 8-bit optimizers, 8-bit multiplication, and GPU quantization are unavailable.\r\n",
      "  warn(\"The installed version of bitsandbytes was compiled without GPU support. \"\r\n",
      "'NoneType' object has no attribute 'cadam32bit_grad_fp32'\r\n",
      "/Users/wengbenjue/opt/anaconda3/envs/peft/lib/python3.11/site-packages/trl/trainer/ppo_config.py:141: UserWarning: The `optimize_cuda_cache` arguement will be deprecated soon, please use `optimize_device_cache` instead.\r\n",
      "  warnings.warn(\r\n",
      "Some weights of BertForSequenceClassification were not initialized from the model checkpoint at ../../../pretrain_models/bert-base-cased and are newly initialized: ['classifier.bias', 'classifier.weight']\r\n",
      "You should probably TRAIN this model on a down-stream task to be able to use it for predictions and inference.\r\n",
      "use AutoModelForSequenceClassification load bert model.\r\n",
      "trainable params: 2362372 || all params: 110675720 || trainable%: 2.1344988765376907\r\n",
      "tokenizer padding setting: [PAD]\r\n",
      "Sentence: 5 EU ministers back digital passports FLORENCE Interior ministers from the five largest West European countries have agreed to adopt digital fingerprinting on passports, officials here said, but a second day of talks on Monday found them still deadlocked on a plan to create migrant holding \r\n",
      "  0%|                                                   | 0/235 [00:00<?, ?it/s]/Users/wengbenjue/opt/anaconda3/envs/peft/lib/python3.11/site-packages/torch/utils/checkpoint.py:429: UserWarning: torch.utils.checkpoint: please pass in use_reentrant=True or use_reentrant=False explicitly. The default value of use_reentrant will be updated to be False in the future. To maintain current behavior, pass use_reentrant=True. It is recommended that you use use_reentrant=False. Refer to docs for more details on the differences between the two variants.\r\n",
      "  warnings.warn(\r\n",
      "{'loss': 1.3899, 'learning_rate': 0.0009574468085106384, 'epoch': 0.21}         \r\n",
      "{'loss': 0.9751, 'learning_rate': 0.0009148936170212766, 'epoch': 0.42}         \r\n",
      "{'loss': 0.631, 'learning_rate': 0.0008723404255319149, 'epoch': 0.63}          \r\n",
      "{'loss': 0.436, 'learning_rate': 0.0008297872340425531, 'epoch': 0.84}          \r\n",
      " 20%|████████▍                                 | 47/235 [03:04<21:29,  6.86s/it]\r\n",
      "  0%|                                                    | 0/48 [00:00<?, ?it/s]\u001B[A\r\n",
      "  4%|█▊                                          | 2/48 [00:01<00:34,  1.33it/s]\u001B[A\r\n",
      "  6%|██▊                                         | 3/48 [00:03<00:48,  1.07s/it]\u001B[A\r\n",
      "  8%|███▋                                        | 4/48 [00:04<00:53,  1.21s/it]\u001B[A\r\n",
      " 10%|████▌                                       | 5/48 [00:06<00:57,  1.35s/it]\u001B[A\r\n",
      " 12%|█████▌                                      | 6/48 [00:07<00:58,  1.39s/it]\u001B[A\r\n",
      " 15%|██████▍                                     | 7/48 [00:08<00:57,  1.40s/it]\u001B[A\r\n",
      " 17%|███████▎                                    | 8/48 [00:10<00:57,  1.43s/it]\u001B[A\r\n",
      " 19%|████████▎                                   | 9/48 [00:11<00:56,  1.46s/it]\u001B[A\r\n",
      " 21%|████████▉                                  | 10/48 [00:13<00:55,  1.46s/it]\u001B[A\r\n",
      " 23%|█████████▊                                 | 11/48 [00:14<00:54,  1.47s/it]\u001B[A\r\n",
      " 25%|██████████▊                                | 12/48 [00:16<00:53,  1.48s/it]\u001B[A\r\n",
      " 27%|███████████▋                               | 13/48 [00:17<00:50,  1.43s/it]\u001B[A\r\n",
      " 29%|████████████▌                              | 14/48 [00:19<00:49,  1.44s/it]\u001B[A\r\n",
      " 31%|█████████████▍                             | 15/48 [00:20<00:48,  1.47s/it]\u001B[A\r\n",
      " 33%|██████████████▎                            | 16/48 [00:22<00:47,  1.48s/it]\u001B[A\r\n",
      " 35%|███████████████▏                           | 17/48 [00:23<00:45,  1.47s/it]\u001B[A\r\n",
      " 38%|████████████████▏                          | 18/48 [00:25<00:44,  1.50s/it]\u001B[A\r\n",
      " 40%|█████████████████                          | 19/48 [00:26<00:43,  1.49s/it]\u001B[A\r\n",
      " 42%|█████████████████▉                         | 20/48 [00:28<00:41,  1.47s/it]\u001B[A\r\n",
      " 44%|██████████████████▊                        | 21/48 [00:29<00:38,  1.42s/it]\u001B[A\r\n",
      " 46%|███████████████████▋                       | 22/48 [00:30<00:29,  1.15s/it]\u001B[A\r\n",
      " 48%|████████████████████▌                      | 23/48 [00:30<00:23,  1.06it/s]\u001B[A\r\n",
      " 50%|█████████████████████▌                     | 24/48 [00:31<00:19,  1.22it/s]\u001B[A\r\n",
      " 52%|██████████████████████▍                    | 25/48 [00:31<00:16,  1.37it/s]\u001B[A\r\n",
      " 54%|███████████████████████▎                   | 26/48 [00:31<00:13,  1.63it/s]\u001B[A\r\n",
      " 56%|████████████████████████▏                  | 27/48 [00:32<00:10,  1.91it/s]\u001B[A\r\n",
      " 58%|█████████████████████████                  | 28/48 [00:32<00:09,  2.13it/s]\u001B[A\r\n",
      " 60%|█████████████████████████▉                 | 29/48 [00:32<00:08,  2.21it/s]\u001B[A\r\n",
      " 62%|██████████████████████████▉                | 30/48 [00:33<00:07,  2.32it/s]\u001B[A\r\n",
      " 65%|███████████████████████████▊               | 31/48 [00:34<00:08,  1.97it/s]\u001B[A\r\n",
      " 67%|████████████████████████████▋              | 32/48 [00:34<00:09,  1.76it/s]\u001B[A\r\n",
      " 69%|█████████████████████████████▌             | 33/48 [00:35<00:09,  1.54it/s]\u001B[A\r\n",
      " 71%|██████████████████████████████▍            | 34/48 [00:36<00:09,  1.46it/s]\u001B[A\r\n",
      " 73%|███████████████████████████████▎           | 35/48 [00:37<00:09,  1.43it/s]\u001B[A\r\n",
      " 75%|████████████████████████████████▎          | 36/48 [00:37<00:08,  1.39it/s]\u001B[A\r\n",
      " 77%|█████████████████████████████████▏         | 37/48 [00:38<00:07,  1.38it/s]\u001B[A\r\n",
      " 79%|██████████████████████████████████         | 38/48 [00:39<00:07,  1.38it/s]\u001B[A\r\n",
      " 81%|██████████████████████████████████▉        | 39/48 [00:39<00:06,  1.41it/s]\u001B[A\r\n",
      " 83%|███████████████████████████████████▊       | 40/48 [00:40<00:05,  1.43it/s]\u001B[A\r\n",
      " 85%|████████████████████████████████████▋      | 41/48 [00:41<00:04,  1.46it/s]\u001B[A\r\n",
      " 88%|█████████████████████████████████████▋     | 42/48 [00:41<00:04,  1.48it/s]\u001B[A\r\n",
      " 90%|██████████████████████████████████████▌    | 43/48 [00:42<00:03,  1.51it/s]\u001B[A\r\n",
      " 92%|███████████████████████████████████████▍   | 44/48 [00:43<00:02,  1.53it/s]\u001B[A\r\n",
      " 94%|████████████████████████████████████████▎  | 45/48 [00:43<00:01,  1.56it/s]\u001B[A\r\n",
      " 96%|█████████████████████████████████████████▏ | 46/48 [00:44<00:01,  1.78it/s]\u001B[A\r\n",
      " 98%|██████████████████████████████████████████ | 47/48 [00:44<00:00,  1.83it/s]\u001B[A\r\n",
      "                                                                                \u001B[A\r\n",
      "\u001B[A{'eval_loss': 0.39266201853752136, 'eval_accuracy': 0.8730263157894737, 'eval_precision': 0.8752898387531766, 'eval_recall': 0.8730263157894737, 'eval_f1': 0.8730324949072851, 'eval_runtime': 46.9832, 'eval_samples_per_second': 64.704, 'eval_steps_per_second': 1.022, 'epoch': 0.99}\r\n",
      " 20%|████████▍                                 | 47/235 [03:58<21:29,  6.86s/it]\r\n",
      "100%|███████████████████████████████████████████| 48/48 [00:45<00:00,  1.41it/s]\u001B[A\r\n",
      "                                                                                \u001B[A/Users/wengbenjue/opt/anaconda3/envs/peft/lib/python3.11/site-packages/torch/utils/checkpoint.py:429: UserWarning: torch.utils.checkpoint: please pass in use_reentrant=True or use_reentrant=False explicitly. The default value of use_reentrant will be updated to be False in the future. To maintain current behavior, pass use_reentrant=True. It is recommended that you use use_reentrant=False. Refer to docs for more details on the differences between the two variants.\r\n",
      "  warnings.warn(\r\n",
      "{'loss': 0.3927, 'learning_rate': 0.0007872340425531915, 'epoch': 1.05}         \r\n",
      "{'loss': 0.3494, 'learning_rate': 0.0007446808510638298, 'epoch': 1.26}         \r\n",
      "{'loss': 0.2866, 'learning_rate': 0.0007021276595744682, 'epoch': 1.47}         \r\n",
      "{'loss': 0.3044, 'learning_rate': 0.0006595744680851064, 'epoch': 1.68}         \r\n",
      "{'loss': 0.2828, 'learning_rate': 0.0006170212765957447, 'epoch': 1.89}         \r\n",
      " 40%|████████████████▉                         | 95/235 [12:03<21:08,  9.06s/it]\r\n",
      "  0%|                                                    | 0/48 [00:00<?, ?it/s]\u001B[A\r\n",
      "  4%|█▊                                          | 2/48 [00:00<00:15,  3.00it/s]\u001B[A\r\n",
      "  6%|██▊                                         | 3/48 [00:01<00:19,  2.26it/s]\u001B[A\r\n",
      "  8%|███▋                                        | 4/48 [00:01<00:23,  1.89it/s]\u001B[A\r\n",
      " 10%|████▌                                       | 5/48 [00:02<00:25,  1.71it/s]\u001B[A\r\n",
      " 12%|█████▌                                      | 6/48 [00:03<00:24,  1.69it/s]\u001B[A\r\n",
      " 15%|██████▍                                     | 7/48 [00:03<00:25,  1.64it/s]\u001B[A\r\n",
      " 17%|███████▎                                    | 8/48 [00:04<00:25,  1.56it/s]\u001B[A\r\n",
      " 19%|████████▎                                   | 9/48 [00:05<00:24,  1.57it/s]\u001B[A\r\n",
      " 21%|████████▉                                  | 10/48 [00:05<00:23,  1.59it/s]\u001B[A\r\n",
      " 23%|█████████▊                                 | 11/48 [00:06<00:23,  1.55it/s]\u001B[A\r\n",
      " 25%|██████████▊                                | 12/48 [00:07<00:24,  1.50it/s]\u001B[A\r\n",
      " 27%|███████████▋                               | 13/48 [00:07<00:23,  1.46it/s]\u001B[A\r\n",
      " 29%|████████████▌                              | 14/48 [00:08<00:21,  1.57it/s]\u001B[A\r\n",
      " 31%|█████████████▍                             | 15/48 [00:09<00:21,  1.52it/s]\u001B[A\r\n",
      " 33%|██████████████▎                            | 16/48 [00:09<00:21,  1.50it/s]\u001B[A\r\n",
      " 35%|███████████████▏                           | 17/48 [00:10<00:21,  1.46it/s]\u001B[A\r\n",
      " 38%|████████████████▏                          | 18/48 [00:11<00:19,  1.51it/s]\u001B[A\r\n",
      " 40%|█████████████████                          | 19/48 [00:11<00:19,  1.50it/s]\u001B[A\r\n",
      " 42%|█████████████████▉                         | 20/48 [00:12<00:18,  1.51it/s]\u001B[A\r\n",
      " 44%|██████████████████▊                        | 21/48 [00:13<00:17,  1.54it/s]\u001B[A\r\n",
      " 46%|███████████████████▋                       | 22/48 [00:13<00:16,  1.56it/s]\u001B[A\r\n",
      " 48%|████████████████████▌                      | 23/48 [00:14<00:16,  1.54it/s]\u001B[A\r\n",
      " 50%|█████████████████████▌                     | 24/48 [00:15<00:15,  1.55it/s]\u001B[A\r\n",
      " 52%|██████████████████████▍                    | 25/48 [00:15<00:14,  1.58it/s]\u001B[A\r\n",
      " 54%|███████████████████████▎                   | 26/48 [00:16<00:13,  1.59it/s]\u001B[A\r\n",
      " 56%|████████████████████████▏                  | 27/48 [00:16<00:13,  1.58it/s]\u001B[A\r\n",
      " 58%|█████████████████████████                  | 28/48 [00:17<00:12,  1.57it/s]\u001B[A\r\n",
      " 60%|█████████████████████████▉                 | 29/48 [00:18<00:11,  1.64it/s]\u001B[A\r\n",
      " 62%|██████████████████████████▉                | 30/48 [00:18<00:11,  1.63it/s]\u001B[A\r\n",
      " 65%|███████████████████████████▊               | 31/48 [00:19<00:10,  1.58it/s]\u001B[A\r\n",
      " 67%|████████████████████████████▋              | 32/48 [00:20<00:10,  1.58it/s]\u001B[A\r\n",
      " 69%|█████████████████████████████▌             | 33/48 [00:20<00:09,  1.60it/s]\u001B[A\r\n",
      " 71%|██████████████████████████████▍            | 34/48 [00:21<00:08,  1.58it/s]\u001B[A\r\n",
      " 73%|███████████████████████████████▎           | 35/48 [00:22<00:08,  1.56it/s]\u001B[A\r\n",
      " 75%|████████████████████████████████▎          | 36/48 [00:22<00:07,  1.58it/s]\u001B[A\r\n",
      " 77%|█████████████████████████████████▏         | 37/48 [00:23<00:07,  1.55it/s]\u001B[A\r\n",
      " 79%|██████████████████████████████████         | 38/48 [00:23<00:06,  1.52it/s]\u001B[A\r\n",
      " 81%|██████████████████████████████████▉        | 39/48 [00:24<00:05,  1.50it/s]\u001B[A\r\n",
      " 83%|███████████████████████████████████▊       | 40/48 [00:25<00:05,  1.55it/s]\u001B[A\r\n",
      " 85%|████████████████████████████████████▋      | 41/48 [00:25<00:04,  1.55it/s]\u001B[A\r\n",
      " 88%|█████████████████████████████████████▋     | 42/48 [00:26<00:03,  1.53it/s]\u001B[A\r\n",
      " 90%|██████████████████████████████████████▌    | 43/48 [00:27<00:03,  1.59it/s]\u001B[A\r\n",
      " 92%|███████████████████████████████████████▍   | 44/48 [00:27<00:02,  1.63it/s]\u001B[A\r\n",
      " 94%|████████████████████████████████████████▎  | 45/48 [00:28<00:01,  1.65it/s]\u001B[A\r\n",
      " 96%|█████████████████████████████████████████▏ | 46/48 [00:28<00:01,  1.64it/s]\u001B[A\r\n",
      " 98%|██████████████████████████████████████████ | 47/48 [00:29<00:00,  1.65it/s]\u001B[A\r\n",
      "                                                                                \u001B[A\r\n",
      "\u001B[A{'eval_loss': 0.32081595063209534, 'eval_accuracy': 0.8927631578947368, 'eval_precision': 0.8940515609295824, 'eval_recall': 0.8927631578947368, 'eval_f1': 0.8921316189608873, 'eval_runtime': 30.6031, 'eval_samples_per_second': 99.336, 'eval_steps_per_second': 1.568, 'epoch': 2.0}\r\n",
      " 40%|████████████████▉                         | 95/235 [12:33<21:08,  9.06s/it]\r\n",
      "100%|███████████████████████████████████████████| 48/48 [00:29<00:00,  1.87it/s]\u001B[A\r\n",
      "                                                                                \u001B[A/Users/wengbenjue/opt/anaconda3/envs/peft/lib/python3.11/site-packages/torch/utils/checkpoint.py:429: UserWarning: torch.utils.checkpoint: please pass in use_reentrant=True or use_reentrant=False explicitly. The default value of use_reentrant will be updated to be False in the future. To maintain current behavior, pass use_reentrant=True. It is recommended that you use use_reentrant=False. Refer to docs for more details on the differences between the two variants.\r\n",
      "  warnings.warn(\r\n",
      "{'loss': 0.278, 'learning_rate': 0.0005744680851063831, 'epoch': 2.11}          \r\n",
      " 43%|█████████████████▍                       | 100/235 [12:58<16:50,  7.48s/it]/Users/wengbenjue/opt/anaconda3/envs/peft/lib/python3.11/site-packages/torch/utils/checkpoint.py:429: UserWarning: torch.utils.checkpoint: please pass in use_reentrant=True or use_reentrant=False explicitly. The default value of use_reentrant will be updated to be False in the future. To maintain current behavior, pass use_reentrant=True. It is recommended that you use use_reentrant=False. Refer to docs for more details on the differences between the two variants.\r\n",
      "  warnings.warn(\r\n",
      "{'loss': 0.2455, 'learning_rate': 0.0005319148936170213, 'epoch': 2.32}         \r\n",
      "{'loss': 0.2541, 'learning_rate': 0.0004893617021276596, 'epoch': 2.53}         \r\n",
      "{'loss': 0.2323, 'learning_rate': 0.00044680851063829785, 'epoch': 2.74}        \r\n",
      "{'loss': 0.2216, 'learning_rate': 0.00040425531914893613, 'epoch': 2.95}        \r\n",
      " 60%|████████████████████████▊                | 142/235 [15:56<06:30,  4.20s/it]\r\n",
      "  0%|                                                    | 0/48 [00:00<?, ?it/s]\u001B[A\r\n",
      "  4%|█▊                                          | 2/48 [00:00<00:06,  6.62it/s]\u001B[A\r\n",
      "  6%|██▊                                         | 3/48 [00:00<00:09,  4.70it/s]\u001B[A\r\n",
      "  8%|███▋                                        | 4/48 [00:00<00:10,  4.07it/s]\u001B[A\r\n",
      " 10%|████▌                                       | 5/48 [00:01<00:11,  3.76it/s]\u001B[A\r\n",
      " 12%|█████▌                                      | 6/48 [00:01<00:11,  3.62it/s]\u001B[A\r\n",
      " 15%|██████▍                                     | 7/48 [00:01<00:11,  3.53it/s]\u001B[A\r\n",
      " 17%|███████▎                                    | 8/48 [00:02<00:11,  3.48it/s]\u001B[A\r\n",
      " 19%|████████▎                                   | 9/48 [00:02<00:11,  3.44it/s]\u001B[A\r\n",
      " 21%|████████▉                                  | 10/48 [00:02<00:11,  3.42it/s]\u001B[A\r\n",
      " 23%|█████████▊                                 | 11/48 [00:02<00:10,  3.41it/s]\u001B[A\r\n",
      " 25%|██████████▊                                | 12/48 [00:03<00:10,  3.40it/s]\u001B[A\r\n",
      " 27%|███████████▋                               | 13/48 [00:03<00:10,  3.41it/s]\u001B[A\r\n",
      " 29%|████████████▌                              | 14/48 [00:03<00:09,  3.40it/s]\u001B[A\r\n",
      " 31%|█████████████▍                             | 15/48 [00:04<00:09,  3.41it/s]\u001B[A\r\n",
      " 33%|██████████████▎                            | 16/48 [00:04<00:09,  3.39it/s]\u001B[A\r\n",
      " 35%|███████████████▏                           | 17/48 [00:04<00:09,  3.39it/s]\u001B[A\r\n",
      " 38%|████████████████▏                          | 18/48 [00:05<00:08,  3.40it/s]\u001B[A\r\n",
      " 40%|█████████████████                          | 19/48 [00:05<00:08,  3.40it/s]\u001B[A\r\n",
      " 42%|█████████████████▉                         | 20/48 [00:05<00:08,  3.40it/s]\u001B[A\r\n",
      " 44%|██████████████████▊                        | 21/48 [00:05<00:07,  3.40it/s]\u001B[A\r\n",
      " 46%|███████████████████▋                       | 22/48 [00:06<00:07,  3.41it/s]\u001B[A\r\n",
      " 48%|████████████████████▌                      | 23/48 [00:06<00:07,  3.43it/s]\u001B[A\r\n",
      " 50%|█████████████████████▌                     | 24/48 [00:06<00:07,  3.42it/s]\u001B[A\r\n",
      " 52%|██████████████████████▍                    | 25/48 [00:07<00:06,  3.42it/s]\u001B[A\r\n",
      " 54%|███████████████████████▎                   | 26/48 [00:07<00:06,  3.42it/s]\u001B[A\r\n",
      " 56%|████████████████████████▏                  | 27/48 [00:07<00:06,  3.42it/s]\u001B[A\r\n",
      " 58%|█████████████████████████                  | 28/48 [00:07<00:05,  3.41it/s]\u001B[A\r\n",
      " 60%|█████████████████████████▉                 | 29/48 [00:08<00:05,  3.41it/s]\u001B[A\r\n",
      " 62%|██████████████████████████▉                | 30/48 [00:08<00:05,  3.42it/s]\u001B[A\r\n",
      " 65%|███████████████████████████▊               | 31/48 [00:08<00:04,  3.41it/s]\u001B[A\r\n",
      " 67%|████████████████████████████▋              | 32/48 [00:09<00:04,  3.41it/s]\u001B[A\r\n",
      " 69%|█████████████████████████████▌             | 33/48 [00:09<00:04,  3.42it/s]\u001B[A\r\n",
      " 71%|██████████████████████████████▍            | 34/48 [00:09<00:04,  3.42it/s]\u001B[A\r\n",
      " 73%|███████████████████████████████▎           | 35/48 [00:10<00:03,  3.42it/s]\u001B[A\r\n",
      " 75%|████████████████████████████████▎          | 36/48 [00:10<00:03,  3.42it/s]\u001B[A\r\n",
      " 77%|█████████████████████████████████▏         | 37/48 [00:10<00:03,  3.42it/s]\u001B[A\r\n",
      " 79%|██████████████████████████████████         | 38/48 [00:10<00:02,  3.42it/s]\u001B[A\r\n",
      " 81%|██████████████████████████████████▉        | 39/48 [00:11<00:02,  3.42it/s]\u001B[A\r\n",
      " 83%|███████████████████████████████████▊       | 40/48 [00:11<00:02,  3.42it/s]\u001B[A\r\n",
      " 85%|████████████████████████████████████▋      | 41/48 [00:11<00:02,  3.42it/s]\u001B[A\r\n",
      " 88%|█████████████████████████████████████▋     | 42/48 [00:12<00:01,  3.42it/s]\u001B[A\r\n",
      " 90%|██████████████████████████████████████▌    | 43/48 [00:12<00:01,  3.42it/s]\u001B[A\r\n",
      " 92%|███████████████████████████████████████▍   | 44/48 [00:12<00:01,  3.42it/s]\u001B[A\r\n",
      " 94%|████████████████████████████████████████▎  | 45/48 [00:12<00:00,  3.42it/s]\u001B[A\r\n",
      " 96%|█████████████████████████████████████████▏ | 46/48 [00:13<00:00,  3.42it/s]\u001B[A\r\n",
      " 98%|██████████████████████████████████████████ | 47/48 [00:13<00:00,  3.42it/s]\u001B[A\r\n",
      "                                                                                \u001B[A\r\n",
      "\u001B[A{'eval_loss': 0.2861877977848053, 'eval_accuracy': 0.9023026315789474, 'eval_precision': 0.9031499005637673, 'eval_recall': 0.9023026315789474, 'eval_f1': 0.9020824517521572, 'eval_runtime': 13.9975, 'eval_samples_per_second': 217.182, 'eval_steps_per_second': 3.429, 'epoch': 2.99}\r\n",
      " 60%|████████████████████████▊                | 142/235 [16:12<06:30,  4.20s/it]\r\n",
      "100%|███████████████████████████████████████████| 48/48 [00:13<00:00,  4.03it/s]\u001B[A\r\n",
      "                                                                                \u001B[A/Users/wengbenjue/opt/anaconda3/envs/peft/lib/python3.11/site-packages/torch/utils/checkpoint.py:429: UserWarning: torch.utils.checkpoint: please pass in use_reentrant=True or use_reentrant=False explicitly. The default value of use_reentrant will be updated to be False in the future. To maintain current behavior, pass use_reentrant=True. It is recommended that you use use_reentrant=False. Refer to docs for more details on the differences between the two variants.\r\n",
      "  warnings.warn(\r\n",
      "{'loss': 0.2256, 'learning_rate': 0.0003617021276595745, 'epoch': 3.16}         \r\n",
      "{'loss': 0.1916, 'learning_rate': 0.0003191489361702128, 'epoch': 3.37}         \r\n",
      "{'loss': 0.2273, 'learning_rate': 0.0002765957446808511, 'epoch': 3.58}         \r\n",
      "{'loss': 0.2112, 'learning_rate': 0.00023404255319148937, 'epoch': 3.79}        \r\n",
      "{'loss': 0.1868, 'learning_rate': 0.00019148936170212765, 'epoch': 4.0}         \r\n",
      " 81%|█████████████████████████████████▏       | 190/235 [19:31<03:09,  4.22s/it]\r\n",
      "  0%|                                                    | 0/48 [00:00<?, ?it/s]\u001B[A\r\n",
      "  4%|█▊                                          | 2/48 [00:00<00:06,  6.62it/s]\u001B[A\r\n",
      "  6%|██▊                                         | 3/48 [00:00<00:09,  4.67it/s]\u001B[A\r\n",
      "  8%|███▋                                        | 4/48 [00:00<00:10,  4.05it/s]\u001B[A\r\n",
      " 10%|████▌                                       | 5/48 [00:01<00:11,  3.76it/s]\u001B[A\r\n",
      " 12%|█████▌                                      | 6/48 [00:01<00:11,  3.60it/s]\u001B[A\r\n",
      " 15%|██████▍                                     | 7/48 [00:01<00:11,  3.51it/s]\u001B[A\r\n",
      " 17%|███████▎                                    | 8/48 [00:02<00:11,  3.44it/s]\u001B[A\r\n",
      " 19%|████████▎                                   | 9/48 [00:02<00:11,  3.41it/s]\u001B[A\r\n",
      " 21%|████████▉                                  | 10/48 [00:02<00:11,  3.39it/s]\u001B[A\r\n",
      " 23%|█████████▊                                 | 11/48 [00:03<00:11,  3.36it/s]\u001B[A\r\n",
      " 25%|██████████▊                                | 12/48 [00:03<00:10,  3.36it/s]\u001B[A\r\n",
      " 27%|███████████▋                               | 13/48 [00:03<00:10,  3.35it/s]\u001B[A\r\n",
      " 29%|████████████▌                              | 14/48 [00:03<00:10,  3.34it/s]\u001B[A\r\n",
      " 31%|█████████████▍                             | 15/48 [00:04<00:09,  3.36it/s]\u001B[A\r\n",
      " 33%|██████████████▎                            | 16/48 [00:04<00:09,  3.35it/s]\u001B[A\r\n",
      " 35%|███████████████▏                           | 17/48 [00:04<00:09,  3.34it/s]\u001B[A\r\n",
      " 38%|████████████████▏                          | 18/48 [00:05<00:09,  3.32it/s]\u001B[A\r\n",
      " 40%|█████████████████                          | 19/48 [00:05<00:08,  3.30it/s]\u001B[A\r\n",
      " 42%|█████████████████▉                         | 20/48 [00:05<00:08,  3.30it/s]\u001B[A\r\n",
      " 44%|██████████████████▊                        | 21/48 [00:06<00:08,  3.30it/s]\u001B[A\r\n",
      " 46%|███████████████████▋                       | 22/48 [00:06<00:07,  3.31it/s]\u001B[A\r\n",
      " 48%|████████████████████▌                      | 23/48 [00:06<00:07,  3.31it/s]\u001B[A\r\n",
      " 50%|█████████████████████▌                     | 24/48 [00:06<00:07,  3.31it/s]\u001B[A\r\n",
      " 52%|██████████████████████▍                    | 25/48 [00:07<00:06,  3.31it/s]\u001B[A\r\n",
      " 54%|███████████████████████▎                   | 26/48 [00:07<00:06,  3.31it/s]\u001B[A\r\n",
      " 56%|████████████████████████▏                  | 27/48 [00:07<00:06,  3.33it/s]\u001B[A\r\n",
      " 58%|█████████████████████████                  | 28/48 [00:08<00:06,  3.33it/s]\u001B[A\r\n",
      " 60%|█████████████████████████▉                 | 29/48 [00:08<00:05,  3.34it/s]\u001B[A\r\n",
      " 62%|██████████████████████████▉                | 30/48 [00:08<00:05,  3.35it/s]\u001B[A\r\n",
      " 65%|███████████████████████████▊               | 31/48 [00:09<00:05,  3.35it/s]\u001B[A\r\n",
      " 67%|████████████████████████████▋              | 32/48 [00:09<00:04,  3.35it/s]\u001B[A\r\n",
      " 69%|█████████████████████████████▌             | 33/48 [00:09<00:04,  3.36it/s]\u001B[A\r\n",
      " 71%|██████████████████████████████▍            | 34/48 [00:09<00:04,  3.36it/s]\u001B[A\r\n",
      " 73%|███████████████████████████████▎           | 35/48 [00:10<00:03,  3.36it/s]\u001B[A\r\n",
      " 75%|████████████████████████████████▎          | 36/48 [00:10<00:03,  3.36it/s]\u001B[A\r\n",
      " 77%|█████████████████████████████████▏         | 37/48 [00:10<00:03,  3.37it/s]\u001B[A\r\n",
      " 79%|██████████████████████████████████         | 38/48 [00:11<00:02,  3.37it/s]\u001B[A\r\n",
      " 81%|██████████████████████████████████▉        | 39/48 [00:11<00:02,  3.37it/s]\u001B[A\r\n",
      " 83%|███████████████████████████████████▊       | 40/48 [00:11<00:02,  3.38it/s]\u001B[A\r\n",
      " 85%|████████████████████████████████████▋      | 41/48 [00:11<00:02,  3.38it/s]\u001B[A\r\n",
      " 88%|█████████████████████████████████████▋     | 42/48 [00:12<00:01,  3.38it/s]\u001B[A\r\n",
      " 90%|██████████████████████████████████████▌    | 43/48 [00:12<00:01,  3.38it/s]\u001B[A\r\n",
      " 92%|███████████████████████████████████████▍   | 44/48 [00:12<00:01,  3.38it/s]\u001B[A\r\n",
      " 94%|████████████████████████████████████████▎  | 45/48 [00:13<00:00,  3.37it/s]\u001B[A\r\n",
      " 96%|█████████████████████████████████████████▏ | 46/48 [00:13<00:00,  3.37it/s]\u001B[A\r\n",
      " 98%|██████████████████████████████████████████ | 47/48 [00:13<00:00,  3.39it/s]\u001B[A\r\n",
      "                                                                                \u001B[A\r\n",
      "\u001B[A{'eval_loss': 0.2624450623989105, 'eval_accuracy': 0.9108552631578948, 'eval_precision': 0.9119565832762456, 'eval_recall': 0.9108552631578948, 'eval_f1': 0.91050558013021, 'eval_runtime': 14.2263, 'eval_samples_per_second': 213.688, 'eval_steps_per_second': 3.374, 'epoch': 4.0}\r\n",
      " 81%|█████████████████████████████████▏       | 190/235 [19:45<03:09,  4.22s/it]\r\n",
      "100%|███████████████████████████████████████████| 48/48 [00:13<00:00,  3.97it/s]\u001B[A\r\n",
      "                                                                                \u001B[A/Users/wengbenjue/opt/anaconda3/envs/peft/lib/python3.11/site-packages/torch/utils/checkpoint.py:429: UserWarning: torch.utils.checkpoint: please pass in use_reentrant=True or use_reentrant=False explicitly. The default value of use_reentrant will be updated to be False in the future. To maintain current behavior, pass use_reentrant=True. It is recommended that you use use_reentrant=False. Refer to docs for more details on the differences between the two variants.\r\n",
      "  warnings.warn(\r\n",
      "{'loss': 0.199, 'learning_rate': 0.00014893617021276596, 'epoch': 4.21}         \r\n",
      " 85%|██████████████████████████████████▉      | 200/235 [20:28<02:36,  4.47s/it]/Users/wengbenjue/opt/anaconda3/envs/peft/lib/python3.11/site-packages/torch/utils/checkpoint.py:429: UserWarning: torch.utils.checkpoint: please pass in use_reentrant=True or use_reentrant=False explicitly. The default value of use_reentrant will be updated to be False in the future. To maintain current behavior, pass use_reentrant=True. It is recommended that you use use_reentrant=False. Refer to docs for more details on the differences between the two variants.\r\n",
      "  warnings.warn(\r\n",
      "{'loss': 0.1739, 'learning_rate': 0.00010638297872340425, 'epoch': 4.42}        \r\n",
      "{'loss': 0.1879, 'learning_rate': 6.382978723404255e-05, 'epoch': 4.63}         \r\n",
      "{'loss': 0.1881, 'learning_rate': 2.1276595744680852e-05, 'epoch': 4.84}        \r\n",
      "100%|█████████████████████████████████████████| 235/235 [22:58<00:00,  4.12s/it]\r\n",
      "  0%|                                                    | 0/48 [00:00<?, ?it/s]\u001B[A\r\n",
      "  4%|█▊                                          | 2/48 [00:00<00:06,  6.77it/s]\u001B[A\r\n",
      "  6%|██▊                                         | 3/48 [00:00<00:09,  4.78it/s]\u001B[A\r\n",
      "  8%|███▋                                        | 4/48 [00:00<00:10,  4.12it/s]\u001B[A\r\n",
      " 10%|████▌                                       | 5/48 [00:01<00:11,  3.83it/s]\u001B[A\r\n",
      " 12%|█████▌                                      | 6/48 [00:01<00:11,  3.67it/s]\u001B[A\r\n",
      " 15%|██████▍                                     | 7/48 [00:01<00:11,  3.58it/s]\u001B[A\r\n",
      " 17%|███████▎                                    | 8/48 [00:02<00:11,  3.52it/s]\u001B[A\r\n",
      " 19%|████████▎                                   | 9/48 [00:02<00:11,  3.48it/s]\u001B[A\r\n",
      " 21%|████████▉                                  | 10/48 [00:02<00:10,  3.47it/s]\u001B[A\r\n",
      " 23%|█████████▊                                 | 11/48 [00:02<00:10,  3.45it/s]\u001B[A\r\n",
      " 25%|██████████▊                                | 12/48 [00:03<00:10,  3.45it/s]\u001B[A\r\n",
      " 27%|███████████▋                               | 13/48 [00:03<00:10,  3.45it/s]\u001B[A\r\n",
      " 29%|████████████▌                              | 14/48 [00:03<00:09,  3.45it/s]\u001B[A\r\n",
      " 31%|█████████████▍                             | 15/48 [00:04<00:09,  3.45it/s]\u001B[A\r\n",
      " 33%|██████████████▎                            | 16/48 [00:04<00:09,  3.46it/s]\u001B[A\r\n",
      " 35%|███████████████▏                           | 17/48 [00:04<00:08,  3.47it/s]\u001B[A\r\n",
      " 38%|████████████████▏                          | 18/48 [00:04<00:08,  3.47it/s]\u001B[A\r\n",
      " 40%|█████████████████                          | 19/48 [00:05<00:08,  3.47it/s]\u001B[A\r\n",
      " 42%|█████████████████▉                         | 20/48 [00:05<00:08,  3.47it/s]\u001B[A\r\n",
      " 44%|██████████████████▊                        | 21/48 [00:05<00:07,  3.48it/s]\u001B[A\r\n",
      " 46%|███████████████████▋                       | 22/48 [00:06<00:07,  3.48it/s]\u001B[A\r\n",
      " 48%|████████████████████▌                      | 23/48 [00:06<00:07,  3.48it/s]\u001B[A\r\n",
      " 50%|█████████████████████▌                     | 24/48 [00:06<00:06,  3.49it/s]\u001B[A\r\n",
      " 52%|██████████████████████▍                    | 25/48 [00:06<00:06,  3.48it/s]\u001B[A\r\n",
      " 54%|███████████████████████▎                   | 26/48 [00:07<00:06,  3.48it/s]\u001B[A\r\n",
      " 56%|████████████████████████▏                  | 27/48 [00:07<00:06,  3.48it/s]\u001B[A\r\n",
      " 58%|█████████████████████████                  | 28/48 [00:07<00:05,  3.48it/s]\u001B[A\r\n",
      " 60%|█████████████████████████▉                 | 29/48 [00:08<00:05,  3.47it/s]\u001B[A\r\n",
      " 62%|██████████████████████████▉                | 30/48 [00:08<00:05,  3.47it/s]\u001B[A\r\n",
      " 65%|███████████████████████████▊               | 31/48 [00:08<00:04,  3.48it/s]\u001B[A\r\n",
      " 67%|████████████████████████████▋              | 32/48 [00:08<00:04,  3.47it/s]\u001B[A\r\n",
      " 69%|█████████████████████████████▌             | 33/48 [00:09<00:04,  3.47it/s]\u001B[A\r\n",
      " 71%|██████████████████████████████▍            | 34/48 [00:09<00:04,  3.48it/s]\u001B[A\r\n",
      " 73%|███████████████████████████████▎           | 35/48 [00:09<00:03,  3.48it/s]\u001B[A\r\n",
      " 75%|████████████████████████████████▎          | 36/48 [00:10<00:03,  3.48it/s]\u001B[A\r\n",
      " 77%|█████████████████████████████████▏         | 37/48 [00:10<00:03,  3.48it/s]\u001B[A\r\n",
      " 79%|██████████████████████████████████         | 38/48 [00:10<00:02,  3.49it/s]\u001B[A\r\n",
      " 81%|██████████████████████████████████▉        | 39/48 [00:11<00:02,  3.48it/s]\u001B[A\r\n",
      " 83%|███████████████████████████████████▊       | 40/48 [00:11<00:02,  3.48it/s]\u001B[A\r\n",
      " 85%|████████████████████████████████████▋      | 41/48 [00:11<00:02,  3.48it/s]\u001B[A\r\n",
      " 88%|█████████████████████████████████████▋     | 42/48 [00:11<00:01,  3.49it/s]\u001B[A\r\n",
      " 90%|██████████████████████████████████████▌    | 43/48 [00:12<00:01,  3.49it/s]\u001B[A\r\n",
      " 92%|███████████████████████████████████████▍   | 44/48 [00:12<00:01,  3.49it/s]\u001B[A\r\n",
      " 94%|████████████████████████████████████████▎  | 45/48 [00:12<00:00,  3.49it/s]\u001B[A\r\n",
      " 96%|█████████████████████████████████████████▏ | 46/48 [00:13<00:00,  3.49it/s]\u001B[A\r\n",
      " 98%|██████████████████████████████████████████ | 47/48 [00:13<00:00,  3.49it/s]\u001B[A\r\n",
      "                                                                                \u001B[A\r\n",
      "\u001B[A{'eval_loss': 0.24857378005981445, 'eval_accuracy': 0.9171052631578948, 'eval_precision': 0.9178098924245447, 'eval_recall': 0.9171052631578948, 'eval_f1': 0.9169153374817606, 'eval_runtime': 13.7437, 'eval_samples_per_second': 221.191, 'eval_steps_per_second': 3.492, 'epoch': 4.95}\r\n",
      "100%|█████████████████████████████████████████| 235/235 [23:12<00:00,  4.12s/it]\r\n",
      "100%|███████████████████████████████████████████| 48/48 [00:13<00:00,  4.10it/s]\u001B[A\r\n",
      "{'train_runtime': 1392.1188, 'train_samples_per_second': 43.674, 'train_steps_per_second': 0.169, 'train_loss': 0.34769122803464847, 'epoch': 4.95}\r\n",
      "100%|█████████████████████████████████████████| 235/235 [23:12<00:00,  5.92s/it]\r\n"
     ]
    }
   ],
   "source": [
    "!python ../../../peft_train.py \\\n",
    "--model_name ../../../pretrain_models/bert-base-cased \\\n",
    "--max_seq_len 2048 \\\n",
    "--group_by_length \\\n",
    "--max_steps 200 \\\n",
    "--dataset_name ../../../text-classification/ag_news \\\n",
    "--num_labels 4 \\\n",
    "--epochs 5 \\\n",
    "--learning_rate 1e-3 \\\n",
    "--model_type SEQ_CLS \\\n",
    "--output_model_path ./result/bert-base-cased-ag_news-lora \\\n",
    "--bnb_4bit_compute_dtype float32 \\\n",
    "--use_4b False\n"
   ],
   "metadata": {
    "collapsed": false,
    "ExecuteTime": {
     "start_time": "2023-12-10T11:48:17.068780Z"
    }
   }
  },
  {
   "cell_type": "markdown",
   "source": [
    "### 1.2.2 Run code on GPU version\n",
    "Load the model together with the adapter with few lines of code! Check the snippet below to load the adapter from the Hub and run the example evaluation."
   ],
   "metadata": {
    "collapsed": false
   }
  },
  {
   "cell_type": "code",
   "execution_count": null,
   "outputs": [],
   "source": [
    "!pip install -q -U trl transformers accelerate git+https://github.com/huggingface/peft.git\n",
    "!pip install -q datasets bitsandbytes einops wandb evaluate\n",
    "from google.colab import drive\n",
    "drive.mount('/content/drive')\n",
    "%cd /content/drive/MyDrive/Colab Notebooks/llms-peft-cook-colab/experiments/bert-base-cased-lora/ag_news"
   ],
   "metadata": {
    "collapsed": false
   }
  },
  {
   "cell_type": "code",
   "execution_count": 1,
   "outputs": [
    {
     "name": "stdout",
     "output_type": "stream",
     "text": [
      "/Users/wengbenjue/opt/anaconda3/envs/peft/lib/python3.11/site-packages/bitsandbytes/cextension.py:34: UserWarning: The installed version of bitsandbytes was compiled without GPU support. 8-bit optimizers, 8-bit multiplication, and GPU quantization are unavailable.\r\n",
      "  warn(\"The installed version of bitsandbytes was compiled without GPU support. \"\r\n",
      "'NoneType' object has no attribute 'cadam32bit_grad_fp32'\r\n",
      "/Users/wengbenjue/opt/anaconda3/envs/peft/lib/python3.11/site-packages/trl/trainer/ppo_config.py:141: UserWarning: The `optimize_cuda_cache` arguement will be deprecated soon, please use `optimize_device_cache` instead.\r\n",
      "  warnings.warn(\r\n",
      "Using the latest cached version of the module from /Users/wengbenjue/.cache/huggingface/modules/evaluate_modules/metrics/evaluate-metric--accuracy/f887c0aab52c2d38e1f8a215681126379eca617f96c447638f751434e8e65b14 (last modified on Mon Apr 24 01:17:15 2023) since it couldn't be found locally at evaluate-metric--accuracy, or remotely on the Hugging Face Hub.\r\n",
      "Traceback (most recent call last):\r\n",
      "  File \"/Users/wengbenjue/sourcecode/peft/llms-peft-cook/experiments/bert-base-cased-lora/ag_news/../../../peft_train.py\", line 353, in <module>\r\n",
      "    script_args = parser.parse_args_into_dataclasses()[0]\r\n",
      "                                    ~~~~~~~~~~~~~~~~~~^^^~\r\n",
      "  File \"/Users/wengbenjue/sourcecode/peft/llms-peft-cook/experiments/bert-base-cased-lora/ag_news/../../../peft_train.py\", line 253, in create_and_prepare_model\r\n",
      "    )\r\n",
      "     \r\n",
      "  File \"/Users/wengbenjue/opt/anaconda3/envs/peft/lib/python3.11/site-packages/transformers/models/auto/auto_factory.py\", line 569, in from_pretrained\r\n",
      "    raise ValueError(\r\n",
      "ValueError: Unrecognized configuration class <class 'transformers.models.bert.configuration_bert.BertConfig'> for this kind of AutoModel: AutoModelForSeq2SeqLM.\r\n",
      "Model type should be one of BartConfig, BigBirdPegasusConfig, BlenderbotConfig, BlenderbotSmallConfig, EncoderDecoderConfig, FSMTConfig, GPTSanJapaneseConfig, LEDConfig, LongT5Config, M2M100Config, MarianConfig, MBartConfig, MT5Config, MvpConfig, NllbMoeConfig, PegasusConfig, PegasusXConfig, PLBartConfig, ProphetNetConfig, SeamlessM4TConfig, SwitchTransformersConfig, T5Config, UMT5Config, XLMProphetNetConfig.\r\n"
     ]
    }
   ],
   "source": [
    "import os\n",
    "os.environ[\"CUDA_VISIBLE_DEVICES\"] = \"0\"\n",
    "!python ../../../peft_train.py \\\n",
    "--model_name bert-base-cased \\\n",
    "--max_seq_len 2048 \\\n",
    "--group_by_length \\\n",
    "--max_steps 200 \\\n",
    "--dataset_name ../../../text-classification/ag_news \\\n",
    "--num_labels 2 \\\n",
    "--epochs 5 \\\n",
    "--learning_rate 1e-3\\\n",
    "--model_type SEQ_CLS \\\n",
    "--output_model_path ./result/bert-base-cased-ag_news-lora \\\n",
    "--bnb_4bit_compute_dtype float16 \\\n",
    "--load_in_8bit \\\n",
    "--use_4b"
   ],
   "metadata": {
    "collapsed": false,
    "ExecuteTime": {
     "end_time": "2023-12-03T11:02:50.043994Z",
     "start_time": "2023-12-03T10:55:03.994618Z"
    }
   }
  },
  {
   "cell_type": "markdown",
   "source": [
    "# Load your adapter from the Hub"
   ],
   "metadata": {
    "collapsed": false
   }
  },
  {
   "cell_type": "code",
   "execution_count": 7,
   "outputs": [],
   "source": [
    "import torch\n",
    "from peft import PeftModel, PeftConfig\n",
    "from transformers import AutoModelForSeq2SeqLM, AutoTokenizer\n",
    "\n",
    "peft_model_id = \"./result/flan-t5-cup-lora\"\n",
    "base_model_name_or_path = '.../../../pretrain_models/google-flan-t5-small'\n",
    "config = PeftConfig.from_pretrained(peft_model_id)\n",
    "\n",
    "# model = AutoModelForSeq2SeqLM.from_pretrained(config.base_model_name_or_path, torch_dtype=\"auto\", device_map=\"auto\")\n",
    "model = AutoModelForSeq2SeqLM.from_pretrained(config.base_model_name_or_path, torch_dtype=\"auto\", device_map=\"cpu\")\n",
    "tokenizer = AutoTokenizer.from_pretrained(config.base_model_name_or_path)\n",
    "\n",
    "# Load the Lora model\n",
    "model = PeftModel.from_pretrained(model, peft_model_id)"
   ],
   "metadata": {
    "collapsed": false,
    "ExecuteTime": {
     "end_time": "2023-12-02T16:37:01.962850Z",
     "start_time": "2023-12-02T16:37:01.696535Z"
    }
   }
  },
  {
   "cell_type": "code",
   "execution_count": 9,
   "outputs": [
    {
     "name": "stdout",
     "output_type": "stream",
     "text": [
      "input sentence:  In January-September 2009 , the Group 's net interest income increased to EUR 112.4 mn from EUR 74.3 mn in January-September 2008 .\n",
      " output prediction:  ['positive positive positive positive positive positive positive positive positive positive']\n"
     ]
    }
   ],
   "source": [
    "model.eval()\n",
    "input_text = \"In January-September 2009 , the Group 's net interest income increased to EUR 112.4 mn from EUR 74.3 mn in January-September 2008 .\"\n",
    "inputs = tokenizer(input_text, return_tensors=\"pt\")\n",
    "\n",
    "outputs = model.generate(input_ids=inputs[\"input_ids\"], max_new_tokens=10)\n",
    "\n",
    "print(\"input sentence: \", input_text)\n",
    "print(\" output prediction: \", tokenizer.batch_decode(outputs.detach().cpu().numpy(), skip_special_tokens=True))"
   ],
   "metadata": {
    "collapsed": false,
    "ExecuteTime": {
     "end_time": "2023-12-02T16:40:55.202266Z",
     "start_time": "2023-12-02T16:40:55.100686Z"
    }
   }
  },
  {
   "cell_type": "code",
   "execution_count": 8,
   "outputs": [
    {
     "name": "stdout",
     "output_type": "stream",
     "text": [
      "input sentence:  In January-September 2009 , the Group 's net interest income increased to EUR 112.4 mn from EUR 74.3 mn in January-September 2008 .\n",
      " output prediction:  ['positive positive positive positive positive positive positive positive positive positive']\n"
     ]
    }
   ],
   "source": [
    "model.eval()\n",
    "input_text = \"In January-September 2009 , the Group 's net interest income increased to EUR 112.4 mn from EUR 74.3 mn in January-September 2008 .\"\n",
    "inputs = tokenizer(input_text, return_tensors=\"pt\")\n",
    "\n",
    "outputs = model.generate(input_ids=inputs[\"input_ids\"], max_new_tokens=10)\n",
    "\n",
    "print(\"input sentence: \", input_text)\n",
    "print(\" output prediction: \", tokenizer.batch_decode(outputs.detach().cpu().numpy(), skip_special_tokens=True))"
   ],
   "metadata": {
    "collapsed": false,
    "ExecuteTime": {
     "end_time": "2023-12-02T16:37:04.919570Z",
     "start_time": "2023-12-02T16:37:04.379496Z"
    }
   }
  },
  {
   "cell_type": "markdown",
   "source": [
    "## 1.3 Experimental Result"
   ],
   "metadata": {
    "collapsed": false
   }
  },
  {
   "cell_type": "code",
   "execution_count": null,
   "outputs": [],
   "source": [
    "class HTMLRender:\n",
    "    def __init__(self,html_str):\n",
    "        self.html_str =html_str\n",
    "    def _repr_html_(self):\n",
    "       return self.html_str\n"
   ],
   "metadata": {
    "collapsed": false,
    "is_executing": true
   }
  },
  {
   "cell_type": "code",
   "execution_count": null,
   "outputs": [],
   "source": [
    "model_accurcy_html = '''\n",
    "<table>\n",
    "  <tr>\n",
    "    <th>eval loss</th>\n",
    "    <th>eval accuracy</th>\n",
    "    <th>eval precision</th>\n",
    "    <th>eval recall</th>\n",
    "    <th>eval f1</th>\n",
    "  </tr>\n",
    "  <tr>\n",
    "    <td style=\"background-color:#4C72B0;\">0.102</td>\n",
    "    <td style=\"background-color:#55A868;\">0.896</td>\n",
    "    <td style=\"background-color:#C44E52;\">0.90</td>\n",
    "     <td style=\"background-color:#8172B2;\">0.896</td>\n",
    "    <td style=\"background-color:#64B5CD;\">0.894</td>\n",
    "  </tr>\n",
    "\n",
    "</table>\n",
    "\n",
    "       '''\n",
    "HTMLRender(model_accurcy_html)"
   ],
   "metadata": {
    "collapsed": false,
    "is_executing": true
   }
  },
  {
   "cell_type": "code",
   "execution_count": null,
   "outputs": [],
   "source": [
    "accuracy_html = '''\n",
    "<img src=\"./image/flan-t5-small-accuracy.png\" alt=\"flan-t5-small-accuracy\" width=\"70%\">\n",
    "'''\n",
    "HTMLRender(accuracy_html)"
   ],
   "metadata": {
    "collapsed": false,
    "is_executing": true
   }
  },
  {
   "cell_type": "code",
   "execution_count": null,
   "outputs": [],
   "source": [
    "## Load your adapter from the Hub\n"
   ],
   "metadata": {
    "collapsed": false
   }
  }
 ],
 "metadata": {
  "kernelspec": {
   "display_name": "Python 3",
   "language": "python",
   "name": "python3"
  },
  "language_info": {
   "codemirror_mode": {
    "name": "ipython",
    "version": 2
   },
   "file_extension": ".py",
   "mimetype": "text/x-python",
   "name": "python",
   "nbconvert_exporter": "python",
   "pygments_lexer": "ipython2",
   "version": "2.7.6"
  }
 },
 "nbformat": 4,
 "nbformat_minor": 0
}
