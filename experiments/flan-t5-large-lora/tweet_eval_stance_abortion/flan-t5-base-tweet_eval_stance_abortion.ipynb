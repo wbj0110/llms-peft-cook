{
 "cells": [
  {
   "cell_type": "markdown",
   "source": [
    "Finetuning the model on financial_phrasebank dataset, that consists of pairs of text-labels to classify financial-related sentences, if they are either <span style=\"color: red;\">positive</span>, <span style=\"color: purple;\">neutral</span> or <span style=\"color: green;\">negative</span>."
   ],
   "metadata": {
    "collapsed": false
   }
  },
  {
   "cell_type": "markdown",
   "source": [
    "# 1.Experimental Setup1"
   ],
   "metadata": {
    "collapsed": false
   }
  },
  {
   "cell_type": "markdown",
   "source": [
    "## 1.1 Setup"
   ],
   "metadata": {
    "collapsed": false
   }
  },
  {
   "cell_type": "markdown",
   "source": [
    "## 1.2 Training"
   ],
   "metadata": {
    "collapsed": false
   }
  },
  {
   "cell_type": "markdown",
   "source": [
    "### 1.2.1 Run code on CPU version"
   ],
   "metadata": {
    "collapsed": false
   }
  },
  {
   "cell_type": "code",
   "execution_count": null,
   "outputs": [],
   "source": [
    "!pwd"
   ],
   "metadata": {
    "collapsed": false,
    "is_executing": true
   }
  },
  {
   "cell_type": "code",
   "execution_count": 1,
   "outputs": [
    {
     "name": "stdout",
     "output_type": "stream",
     "text": [
      "/Users/wengbenjue/opt/anaconda3/envs/peft/lib/python3.11/site-packages/bitsandbytes/cextension.py:34: UserWarning: The installed version of bitsandbytes was compiled without GPU support. 8-bit optimizers, 8-bit multiplication, and GPU quantization are unavailable.\r\n",
      "  warn(\"The installed version of bitsandbytes was compiled without GPU support. \"\r\n",
      "'NoneType' object has no attribute 'cadam32bit_grad_fp32'\r\n",
      "/Users/wengbenjue/opt/anaconda3/envs/peft/lib/python3.11/site-packages/trl/trainer/ppo_config.py:141: UserWarning: The `optimize_cuda_cache` arguement will be deprecated soon, please use `optimize_device_cache` instead.\r\n",
      "  warnings.warn(\r\n",
      "use AutoModelForSeq2SeqLM load  model.\r\n",
      "trainable params: 18874368 || all params: 802024448 || trainable%: 2.3533407300820834\r\n",
      "tokenizer padding setting: </s>\r\n",
      "Sentence: seeing ppl walking w/ crutches makes me really excited for the next 3 weeks of my life\r\n",
      "number of labels:2\r\n",
      "Running tokenizer on dataset: 100%|█| 2862/2862 [00:00<00:00, 11041.49 examples/\r\n",
      "Running tokenizer on dataset: 100%|█| 955/955 [00:00<00:00, 20125.61 examples/s]\r\n",
      "Running tokenizer on dataset: 100%|█| 14587/14587 [00:00<00:00, 22132.30 example\r\n",
      "  0%|                                                    | 0/55 [00:00<?, ?it/s]/Users/wengbenjue/opt/anaconda3/envs/peft/lib/python3.11/site-packages/torch/utils/checkpoint.py:429: UserWarning: torch.utils.checkpoint: please pass in use_reentrant=True or use_reentrant=False explicitly. The default value of use_reentrant will be updated to be False in the future. To maintain current behavior, pass use_reentrant=True. It is recommended that you use use_reentrant=False. Refer to docs for more details on the differences between the two variants.\r\n",
      "  warnings.warn(\r\n",
      "{'loss': 4.3702, 'learning_rate': 0.0008181818181818183, 'epoch': 0.89}         \r\n",
      " 20%|████████▌                                  | 11/55 [10:40<45:37, 62.22s/it]\r\n",
      "  0%|                                                    | 0/15 [00:00<?, ?it/s]\u001B[A\r\n",
      " 13%|█████▊                                      | 2/15 [00:04<00:27,  2.09s/it]\u001B[A\r\n",
      " 20%|████████▊                                   | 3/15 [00:08<00:34,  2.86s/it]\u001B[A\r\n",
      " 27%|███████████▋                                | 4/15 [00:11<00:35,  3.22s/it]\u001B[A\r\n",
      " 33%|██████████████▋                             | 5/15 [00:16<00:36,  3.61s/it]\u001B[A\r\n",
      " 40%|█████████████████▌                          | 6/15 [00:21<00:35,  3.98s/it]\u001B[A\r\n",
      " 47%|████████████████████▌                       | 7/15 [00:24<00:30,  3.78s/it]\u001B[A\r\n",
      " 53%|███████████████████████▍                    | 8/15 [00:28<00:27,  3.90s/it]\u001B[A\r\n",
      " 60%|██████████████████████████▍                 | 9/15 [00:32<00:24,  4.02s/it]\u001B[A\r\n",
      " 67%|████████████████████████████▋              | 10/15 [00:37<00:20,  4.09s/it]\u001B[A\r\n",
      " 73%|███████████████████████████████▌           | 11/15 [00:40<00:15,  4.00s/it]\u001B[A\r\n",
      " 80%|██████████████████████████████████▍        | 12/15 [00:45<00:12,  4.05s/it]\u001B[A\r\n",
      " 87%|█████████████████████████████████████▎     | 13/15 [00:49<00:08,  4.12s/it]\u001B[A\r\n",
      " 93%|████████████████████████████████████████▏  | 14/15 [00:53<00:04,  4.05s/it]\u001B[A\r\n",
      "                                                                                \u001B[A\r\n",
      "\u001B[A{'eval_loss': 1.7325507402420044, 'eval_accuracy': 0.08167539267015707, 'eval_precision': 0.6566354064783384, 'eval_recall': 0.08167539267015707, 'eval_f1': 0.13159439547551244, 'eval_runtime': 63.6737, 'eval_samples_per_second': 14.998, 'eval_steps_per_second': 0.236, 'epoch': 0.98}\r\n",
      " 20%|████████▌                                  | 11/55 [12:00<45:37, 62.22s/it]\r\n",
      "100%|███████████████████████████████████████████| 15/15 [00:59<00:00,  4.73s/it]\u001B[A\r\n",
      "                                                                                \u001B[A/Users/wengbenjue/opt/anaconda3/envs/peft/lib/python3.11/site-packages/torch/utils/checkpoint.py:429: UserWarning: torch.utils.checkpoint: please pass in use_reentrant=True or use_reentrant=False explicitly. The default value of use_reentrant will be updated to be False in the future. To maintain current behavior, pass use_reentrant=True. It is recommended that you use use_reentrant=False. Refer to docs for more details on the differences between the two variants.\r\n",
      "  warnings.warn(\r\n",
      "{'loss': 1.3069, 'learning_rate': 0.0006363636363636364, 'epoch': 1.78}         \r\n",
      " 40%|█████████████████▏                         | 22/55 [23:05<32:56, 59.88s/it]\r\n",
      "  0%|                                                    | 0/15 [00:00<?, ?it/s]\u001B[A\r\n",
      " 13%|█████▊                                      | 2/15 [00:02<00:18,  1.40s/it]\u001B[A\r\n",
      " 20%|████████▊                                   | 3/15 [00:05<00:23,  1.92s/it]\u001B[A\r\n",
      " 27%|███████████▋                                | 4/15 [00:08<00:24,  2.20s/it]\u001B[A\r\n",
      " 33%|██████████████▋                             | 5/15 [00:10<00:23,  2.31s/it]\u001B[A\r\n",
      " 40%|█████████████████▌                          | 6/15 [00:13<00:22,  2.51s/it]\u001B[A\r\n",
      " 47%|████████████████████▌                       | 7/15 [00:15<00:18,  2.36s/it]\u001B[A\r\n",
      " 53%|███████████████████████▍                    | 8/15 [00:17<00:15,  2.26s/it]\u001B[A\r\n",
      " 60%|██████████████████████████▍                 | 9/15 [00:19<00:12,  2.05s/it]\u001B[A\r\n",
      " 67%|████████████████████████████▋              | 10/15 [00:20<00:09,  1.94s/it]\u001B[A\r\n",
      " 73%|███████████████████████████████▌           | 11/15 [00:23<00:08,  2.11s/it]\u001B[A\r\n",
      " 80%|██████████████████████████████████▍        | 12/15 [00:26<00:07,  2.38s/it]\u001B[A\r\n",
      " 87%|█████████████████████████████████████▎     | 13/15 [00:29<00:04,  2.50s/it]\u001B[A\r\n",
      " 93%|████████████████████████████████████████▏  | 14/15 [00:31<00:02,  2.56s/it]\u001B[A\r\n",
      "                                                                                \u001B[A\r\n",
      "\u001B[A{'eval_loss': 0.40552741289138794, 'eval_accuracy': 0.5539267015706806, 'eval_precision': 0.5583884340261838, 'eval_recall': 0.5539267015706806, 'eval_f1': 0.5528035179671172, 'eval_runtime': 36.9572, 'eval_samples_per_second': 25.841, 'eval_steps_per_second': 0.406, 'epoch': 1.96}\r\n",
      " 40%|█████████████████▏                         | 22/55 [24:00<32:56, 59.88s/it]\r\n",
      "100%|███████████████████████████████████████████| 15/15 [00:34<00:00,  2.55s/it]\u001B[A\r\n",
      "                                                                                \u001B[A/Users/wengbenjue/opt/anaconda3/envs/peft/lib/python3.11/site-packages/torch/utils/checkpoint.py:429: UserWarning: torch.utils.checkpoint: please pass in use_reentrant=True or use_reentrant=False explicitly. The default value of use_reentrant will be updated to be False in the future. To maintain current behavior, pass use_reentrant=True. It is recommended that you use use_reentrant=False. Refer to docs for more details on the differences between the two variants.\r\n",
      "  warnings.warn(\r\n",
      "{'loss': 0.5263, 'learning_rate': 0.00045454545454545455, 'epoch': 2.67}        \r\n",
      " 60%|█████████████████████████▊                 | 33/55 [30:51<14:50, 40.46s/it]\r\n",
      "  0%|                                                    | 0/15 [00:00<?, ?it/s]\u001B[A\r\n",
      " 13%|█████▊                                      | 2/15 [00:03<00:19,  1.52s/it]\u001B[A\r\n",
      " 20%|████████▊                                   | 3/15 [00:05<00:23,  2.00s/it]\u001B[A\r\n",
      " 27%|███████████▋                                | 4/15 [00:08<00:25,  2.34s/it]\u001B[A\r\n",
      " 33%|██████████████▋                             | 5/15 [00:12<00:27,  2.70s/it]\u001B[A\r\n",
      " 40%|█████████████████▌                          | 6/15 [00:14<00:24,  2.68s/it]\u001B[A\r\n",
      " 47%|████████████████████▌                       | 7/15 [00:17<00:21,  2.71s/it]\u001B[A\r\n",
      " 53%|███████████████████████▍                    | 8/15 [00:20<00:19,  2.76s/it]\u001B[A\r\n",
      " 60%|██████████████████████████▍                 | 9/15 [00:23<00:17,  2.88s/it]\u001B[A\r\n",
      " 67%|████████████████████████████▋              | 10/15 [00:25<00:13,  2.76s/it]\u001B[A\r\n",
      " 73%|███████████████████████████████▌           | 11/15 [00:28<00:11,  2.80s/it]\u001B[A\r\n",
      " 80%|██████████████████████████████████▍        | 12/15 [00:32<00:08,  2.92s/it]\u001B[A\r\n",
      " 87%|█████████████████████████████████████▎     | 13/15 [00:34<00:05,  2.83s/it]\u001B[A\r\n",
      " 93%|████████████████████████████████████████▏  | 14/15 [00:37<00:02,  2.92s/it]\u001B[A\r\n",
      "                                                                                \u001B[A\r\n",
      "\u001B[A{'eval_loss': 0.3706798851490021, 'eval_accuracy': 0.5832460732984294, 'eval_precision': 0.6031700515888997, 'eval_recall': 0.5832460732984294, 'eval_f1': 0.5726305060108463, 'eval_runtime': 44.2225, 'eval_samples_per_second': 21.595, 'eval_steps_per_second': 0.339, 'epoch': 2.93}\r\n",
      " 60%|█████████████████████████▊                 | 33/55 [32:04<14:50, 40.46s/it]\r\n",
      "100%|███████████████████████████████████████████| 15/15 [00:41<00:00,  2.96s/it]\u001B[A\r\n",
      "                                                                                \u001B[A/Users/wengbenjue/opt/anaconda3/envs/peft/lib/python3.11/site-packages/torch/utils/checkpoint.py:429: UserWarning: torch.utils.checkpoint: please pass in use_reentrant=True or use_reentrant=False explicitly. The default value of use_reentrant will be updated to be False in the future. To maintain current behavior, pass use_reentrant=True. It is recommended that you use use_reentrant=False. Refer to docs for more details on the differences between the two variants.\r\n",
      "  warnings.warn(\r\n",
      "{'loss': 0.4419, 'learning_rate': 0.00027272727272727274, 'epoch': 3.56}        \r\n",
      " 82%|███████████████████████████████████▏       | 45/55 [40:03<07:09, 42.93s/it]\r\n",
      "  0%|                                                    | 0/15 [00:00<?, ?it/s]\u001B[A\r\n",
      " 13%|█████▊                                      | 2/15 [00:02<00:19,  1.47s/it]\u001B[A\r\n",
      " 20%|████████▊                                   | 3/15 [00:05<00:23,  1.93s/it]\u001B[A\r\n",
      " 27%|███████████▋                                | 4/15 [00:08<00:27,  2.51s/it]\u001B[A\r\n",
      " 33%|██████████████▋                             | 5/15 [00:12<00:28,  2.81s/it]\u001B[A\r\n",
      " 40%|█████████████████▌                          | 6/15 [00:15<00:24,  2.75s/it]\u001B[A\r\n",
      " 47%|████████████████████▌                       | 7/15 [00:17<00:22,  2.77s/it]\u001B[A\r\n",
      " 53%|███████████████████████▍                    | 8/15 [00:20<00:19,  2.83s/it]\u001B[A\r\n",
      " 60%|██████████████████████████▍                 | 9/15 [00:24<00:18,  3.03s/it]\u001B[A\r\n",
      " 67%|████████████████████████████▋              | 10/15 [00:26<00:14,  2.88s/it]\u001B[A\r\n",
      " 73%|███████████████████████████████▌           | 11/15 [00:29<00:11,  2.92s/it]\u001B[A\r\n",
      " 80%|██████████████████████████████████▍        | 12/15 [00:33<00:09,  3.11s/it]\u001B[A\r\n",
      " 87%|█████████████████████████████████████▎     | 13/15 [00:36<00:05,  2.98s/it]\u001B[A\r\n",
      " 93%|████████████████████████████████████████▏  | 14/15 [00:39<00:03,  3.03s/it]\u001B[A\r\n",
      "                                                                                \u001B[A\r\n",
      "\u001B[A{'eval_loss': 0.3460213243961334, 'eval_accuracy': 0.5895287958115183, 'eval_precision': 0.5893099718348798, 'eval_recall': 0.5895287958115183, 'eval_f1': 0.5893961272209453, 'eval_runtime': 45.9992, 'eval_samples_per_second': 20.761, 'eval_steps_per_second': 0.326, 'epoch': 4.0}\r\n",
      " 82%|███████████████████████████████████▏       | 45/55 [40:49<07:09, 42.93s/it]\r\n",
      "100%|███████████████████████████████████████████| 15/15 [00:42<00:00,  3.12s/it]\u001B[A\r\n",
      "                                                                                \u001B[A/Users/wengbenjue/opt/anaconda3/envs/peft/lib/python3.11/site-packages/torch/utils/checkpoint.py:429: UserWarning: torch.utils.checkpoint: please pass in use_reentrant=True or use_reentrant=False explicitly. The default value of use_reentrant will be updated to be False in the future. To maintain current behavior, pass use_reentrant=True. It is recommended that you use use_reentrant=False. Refer to docs for more details on the differences between the two variants.\r\n",
      "  warnings.warn(\r\n",
      "{'loss': 0.4201, 'learning_rate': 9.090909090909092e-05, 'epoch': 4.44}         \r\n",
      "100%|███████████████████████████████████████████| 55/55 [47:45<00:00, 43.61s/it]\r\n",
      "  0%|                                                    | 0/15 [00:00<?, ?it/s]\u001B[A\r\n",
      " 13%|█████▊                                      | 2/15 [00:02<00:15,  1.19s/it]\u001B[A\r\n",
      " 20%|████████▊                                   | 3/15 [00:05<00:23,  1.93s/it]\u001B[A\r\n",
      " 27%|███████████▋                                | 4/15 [00:08<00:25,  2.29s/it]\u001B[A\r\n",
      " 33%|██████████████▋                             | 5/15 [00:11<00:25,  2.56s/it]\u001B[A\r\n",
      " 40%|█████████████████▌                          | 6/15 [00:14<00:23,  2.62s/it]\u001B[A\r\n",
      " 47%|████████████████████▌                       | 7/15 [00:17<00:22,  2.77s/it]\u001B[A\r\n",
      " 53%|███████████████████████▍                    | 8/15 [00:20<00:20,  2.86s/it]\u001B[A\r\n",
      " 60%|██████████████████████████▍                 | 9/15 [00:23<00:17,  2.86s/it]\u001B[A\r\n",
      " 67%|████████████████████████████▋              | 10/15 [00:26<00:14,  2.92s/it]\u001B[A\r\n",
      " 73%|███████████████████████████████▌           | 11/15 [00:29<00:11,  2.92s/it]\u001B[A\r\n",
      " 80%|██████████████████████████████████▍        | 12/15 [00:32<00:08,  2.96s/it]\u001B[A\r\n",
      " 87%|█████████████████████████████████████▎     | 13/15 [00:34<00:05,  2.93s/it]\u001B[A\r\n",
      " 93%|████████████████████████████████████████▏  | 14/15 [00:38<00:03,  3.09s/it]\u001B[A\r\n",
      "                                                                                \u001B[A\r\n",
      "\u001B[A{'eval_loss': 0.34566745162010193, 'eval_accuracy': 0.5937172774869109, 'eval_precision': 0.5969998235190305, 'eval_recall': 0.5937172774869109, 'eval_f1': 0.5934526312772521, 'eval_runtime': 44.7842, 'eval_samples_per_second': 21.324, 'eval_steps_per_second': 0.335, 'epoch': 4.89}\r\n",
      "100%|███████████████████████████████████████████| 55/55 [48:30<00:00, 43.61s/it]\r\n",
      "100%|███████████████████████████████████████████| 15/15 [00:41<00:00,  3.07s/it]\u001B[A\r\n",
      "{'train_runtime': 2910.5398, 'train_samples_per_second': 4.917, 'train_steps_per_second': 0.019, 'train_loss': 1.3213783394206653, 'epoch': 4.89}\r\n",
      "100%|███████████████████████████████████████████| 55/55 [48:30<00:00, 52.92s/it]\r\n"
     ]
    }
   ],
   "source": [
    "!python ../../../peft_train.py \\\n",
    "--model_name ../../../pretrain_models/flan-t5-large \\\n",
    "--max_seq_len 2048 \\\n",
    "--group_by_length \\\n",
    "--max_steps 200 \\\n",
    "--dataset_name ../../../text-classification/tweet_eval_stance_abortion \\\n",
    "--num_labels 3 \\\n",
    "--epochs 5 \\\n",
    "--learning_rate 1e-3 \\\n",
    "--per_device_train_batch_size 64 \\\n",
    "--per_device_eval_batch_size 64 \\\n",
    "--model_type SEQ_2_SEQ_LM \\\n",
    "--output_model_path ./result/flan-t5-tweet_eval_stance_abortion-lora \\\n",
    "--bnb_4bit_compute_dtype float32 \\\n",
    "--use_4b False\n"
   ],
   "metadata": {
    "collapsed": false,
    "ExecuteTime": {
     "end_time": "2023-12-06T17:59:43.177113Z",
     "start_time": "2023-12-06T17:11:01.920559Z"
    }
   }
  },
  {
   "cell_type": "markdown",
   "source": [
    "### 1.2.2 Run code on GPU version\n",
    "Load the model together with the adapter with few lines of code! Check the snippet below to load the adapter from the Hub and run the example evaluation."
   ],
   "metadata": {
    "collapsed": false
   }
  },
  {
   "cell_type": "code",
   "execution_count": null,
   "outputs": [],
   "source": [
    "!pip install -q -U trl transformers accelerate git+https://github.com/huggingface/peft.git\n",
    "!pip install -q datasets bitsandbytes einops wandb evaluate\n",
    "from google.colab import drive\n",
    "drive.mount('/content/drive')\n",
    "%cd /content/drive/MyDrive/Colab Notebooks/llms-peft-cook-colab/experiments/flan-t5-large-lora/tweet_eval_stance_abortion"
   ],
   "metadata": {
    "collapsed": false
   }
  },
  {
   "cell_type": "code",
   "execution_count": null,
   "outputs": [],
   "source": [
    "import os\n",
    "os.environ[\"CUDA_VISIBLE_DEVICES\"] = \"0\"\n",
    "!python ../../../peft_train.py \\\n",
    "--model_name google/flan-t5-large \\\n",
    "--max_seq_len 2048 \\\n",
    "--group_by_length \\\n",
    "--max_steps 200 \\\n",
    "--dataset_name ../../../text-classification/tweet_eval_stance_abortion \\\n",
    "--num_labels 3 \\\n",
    "--epochs 5 \\\n",
    "--learning_rate 1e-3 \\\n",
    "--per_device_train_batch_size 64 \\\n",
    "--per_device_eval_batch_size 64 \\\n",
    "--model_type SEQ_2_SEQ_LM \\\n",
    "--output_model_path ./result/flan-t5-tweet_eval_stance_abortion-lora \\\n",
    "--bnb_4bit_compute_dtype float16 \\\n",
    "--load_in_8bit \\\n",
    "--use_4b"
   ],
   "metadata": {
    "collapsed": false,
    "is_executing": true
   }
  },
  {
   "cell_type": "markdown",
   "source": [
    "# Load your adapter from the Hub"
   ],
   "metadata": {
    "collapsed": false
   }
  },
  {
   "cell_type": "code",
   "execution_count": 7,
   "outputs": [],
   "source": [
    "import torch\n",
    "from peft import PeftModel, PeftConfig\n",
    "from transformers import AutoModelForSeq2SeqLM, AutoTokenizer\n",
    "\n",
    "peft_model_id = \"./result/flan-t5-cup-lora\"\n",
    "base_model_name_or_path = '.../../../pretrain_models/google-flan-t5-small'\n",
    "config = PeftConfig.from_pretrained(peft_model_id)\n",
    "\n",
    "# model = AutoModelForSeq2SeqLM.from_pretrained(config.base_model_name_or_path, torch_dtype=\"auto\", device_map=\"auto\")\n",
    "model = AutoModelForSeq2SeqLM.from_pretrained(config.base_model_name_or_path, torch_dtype=\"auto\", device_map=\"cpu\")\n",
    "tokenizer = AutoTokenizer.from_pretrained(config.base_model_name_or_path)\n",
    "\n",
    "# Load the Lora model\n",
    "model = PeftModel.from_pretrained(model, peft_model_id)"
   ],
   "metadata": {
    "collapsed": false,
    "ExecuteTime": {
     "end_time": "2023-12-02T16:37:01.962850Z",
     "start_time": "2023-12-02T16:37:01.696535Z"
    }
   }
  },
  {
   "cell_type": "code",
   "execution_count": 9,
   "outputs": [
    {
     "name": "stdout",
     "output_type": "stream",
     "text": [
      "input sentence:  In January-September 2009 , the Group 's net interest income increased to EUR 112.4 mn from EUR 74.3 mn in January-September 2008 .\n",
      " output prediction:  ['positive positive positive positive positive positive positive positive positive positive']\n"
     ]
    }
   ],
   "source": [
    "model.eval()\n",
    "input_text = \"In January-September 2009 , the Group 's net interest income increased to EUR 112.4 mn from EUR 74.3 mn in January-September 2008 .\"\n",
    "inputs = tokenizer(input_text, return_tensors=\"pt\")\n",
    "\n",
    "outputs = model.generate(input_ids=inputs[\"input_ids\"], max_new_tokens=10)\n",
    "\n",
    "print(\"input sentence: \", input_text)\n",
    "print(\" output prediction: \", tokenizer.batch_decode(outputs.detach().cpu().numpy(), skip_special_tokens=True))"
   ],
   "metadata": {
    "collapsed": false,
    "ExecuteTime": {
     "end_time": "2023-12-02T16:40:55.202266Z",
     "start_time": "2023-12-02T16:40:55.100686Z"
    }
   }
  },
  {
   "cell_type": "code",
   "execution_count": 8,
   "outputs": [
    {
     "name": "stdout",
     "output_type": "stream",
     "text": [
      "input sentence:  In January-September 2009 , the Group 's net interest income increased to EUR 112.4 mn from EUR 74.3 mn in January-September 2008 .\n",
      " output prediction:  ['positive positive positive positive positive positive positive positive positive positive']\n"
     ]
    }
   ],
   "source": [
    "model.eval()\n",
    "input_text = \"In January-September 2009 , the Group 's net interest income increased to EUR 112.4 mn from EUR 74.3 mn in January-September 2008 .\"\n",
    "inputs = tokenizer(input_text, return_tensors=\"pt\")\n",
    "\n",
    "outputs = model.generate(input_ids=inputs[\"input_ids\"], max_new_tokens=10)\n",
    "\n",
    "print(\"input sentence: \", input_text)\n",
    "print(\" output prediction: \", tokenizer.batch_decode(outputs.detach().cpu().numpy(), skip_special_tokens=True))"
   ],
   "metadata": {
    "collapsed": false,
    "ExecuteTime": {
     "end_time": "2023-12-02T16:37:04.919570Z",
     "start_time": "2023-12-02T16:37:04.379496Z"
    }
   }
  },
  {
   "cell_type": "markdown",
   "source": [
    "## 1.3 Experimental Result"
   ],
   "metadata": {
    "collapsed": false
   }
  },
  {
   "cell_type": "code",
   "execution_count": null,
   "outputs": [],
   "source": [
    "class HTMLRender:\n",
    "    def __init__(self,html_str):\n",
    "        self.html_str =html_str\n",
    "    def _repr_html_(self):\n",
    "       return self.html_str\n"
   ],
   "metadata": {
    "collapsed": false,
    "is_executing": true
   }
  },
  {
   "cell_type": "code",
   "execution_count": null,
   "outputs": [],
   "source": [
    "model_accurcy_html = '''\n",
    "<table>\n",
    "  <tr>\n",
    "    <th>eval loss</th>\n",
    "    <th>eval accuracy</th>\n",
    "    <th>eval precision</th>\n",
    "    <th>eval recall</th>\n",
    "    <th>eval f1</th>\n",
    "  </tr>\n",
    "  <tr>\n",
    "    <td style=\"background-color:#4C72B0;\">0.102</td>\n",
    "    <td style=\"background-color:#55A868;\">0.896</td>\n",
    "    <td style=\"background-color:#C44E52;\">0.90</td>\n",
    "     <td style=\"background-color:#8172B2;\">0.896</td>\n",
    "    <td style=\"background-color:#64B5CD;\">0.894</td>\n",
    "  </tr>\n",
    "\n",
    "</table>\n",
    "\n",
    "       '''\n",
    "HTMLRender(model_accurcy_html)"
   ],
   "metadata": {
    "collapsed": false,
    "is_executing": true
   }
  },
  {
   "cell_type": "code",
   "execution_count": null,
   "outputs": [],
   "source": [
    "accuracy_html = '''\n",
    "<img src=\"./image/flan-t5-small-accuracy.png\" alt=\"flan-t5-small-accuracy\" width=\"70%\">\n",
    "'''\n",
    "HTMLRender(accuracy_html)"
   ],
   "metadata": {
    "collapsed": false,
    "is_executing": true
   }
  },
  {
   "cell_type": "code",
   "execution_count": null,
   "outputs": [],
   "source": [
    "## Load your adapter from the Hub\n"
   ],
   "metadata": {
    "collapsed": false
   }
  }
 ],
 "metadata": {
  "kernelspec": {
   "display_name": "Python 3",
   "language": "python",
   "name": "python3"
  },
  "language_info": {
   "codemirror_mode": {
    "name": "ipython",
    "version": 2
   },
   "file_extension": ".py",
   "mimetype": "text/x-python",
   "name": "python",
   "nbconvert_exporter": "python",
   "pygments_lexer": "ipython2",
   "version": "2.7.6"
  }
 },
 "nbformat": 4,
 "nbformat_minor": 0
}
