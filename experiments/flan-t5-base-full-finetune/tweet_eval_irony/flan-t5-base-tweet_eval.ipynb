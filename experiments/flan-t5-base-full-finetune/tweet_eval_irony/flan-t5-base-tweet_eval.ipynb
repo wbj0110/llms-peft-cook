{
 "cells": [
  {
   "cell_type": "markdown",
   "source": [
    "Finetuning the model on financial_phrasebank dataset, that consists of pairs of text-labels to classify financial-related sentences, if they are either <span style=\"color: red;\">positive</span>, <span style=\"color: purple;\">neutral</span> or <span style=\"color: green;\">negative</span>."
   ],
   "metadata": {
    "collapsed": false
   }
  },
  {
   "cell_type": "markdown",
   "source": [
    "# 1.Experimental Setup1"
   ],
   "metadata": {
    "collapsed": false
   }
  },
  {
   "cell_type": "markdown",
   "source": [
    "## 1.1 Setup"
   ],
   "metadata": {
    "collapsed": false
   }
  },
  {
   "cell_type": "markdown",
   "source": [
    "## 1.2 Training"
   ],
   "metadata": {
    "collapsed": false
   }
  },
  {
   "cell_type": "markdown",
   "source": [
    "### 1.2.1 Run code on CPU version"
   ],
   "metadata": {
    "collapsed": false
   }
  },
  {
   "cell_type": "code",
   "execution_count": null,
   "outputs": [],
   "source": [
    "!pwd"
   ],
   "metadata": {
    "collapsed": false,
    "is_executing": true
   }
  },
  {
   "cell_type": "code",
   "execution_count": 3,
   "outputs": [
    {
     "name": "stderr",
     "output_type": "stream",
     "text": [
      "python(12713) MallocStackLogging: can't turn off malloc stack logging because it was not enabled.\n"
     ]
    },
    {
     "name": "stdout",
     "output_type": "stream",
     "text": [
      "/Users/wengbenjue/opt/anaconda3/envs/peft/lib/python3.11/site-packages/bitsandbytes/cextension.py:34: UserWarning: The installed version of bitsandbytes was compiled without GPU support. 8-bit optimizers, 8-bit multiplication, and GPU quantization are unavailable.\r\n",
      "  warn(\"The installed version of bitsandbytes was compiled without GPU support. \"\r\n",
      "'NoneType' object has no attribute 'cadam32bit_grad_fp32'\r\n",
      "/Users/wengbenjue/opt/anaconda3/envs/peft/lib/python3.11/site-packages/trl/trainer/ppo_config.py:141: UserWarning: The `optimize_cuda_cache` arguement will be deprecated soon, please use `optimize_device_cache` instead.\r\n",
      "  warnings.warn(\r\n",
      "use AutoModelForSeq2SeqLM load  model.\r\n",
      "You are using the default legacy behaviour of the <class 'transformers.models.t5.tokenization_t5.T5Tokenizer'>. This is expected, and simply means that the `legacy` (previous) behavior will be used so nothing changes for you. If you want to use the new behaviour, set `legacy=False`. This should only be set if you understand what it means, and thouroughly read the reason why this was added as explained in https://github.com/huggingface/transformers/pull/24565\r\n",
      "trainable params: 247577856 || all params: 247577856 || trainable%: 100.0\r\n",
      "tokenizer padding setting: </s>\r\n",
      "Sentence: seeing ppl walking w/ crutches makes me really excited for the next 3 weeks of my life\r\n",
      "number of labels:2\r\n",
      "Running tokenizer on dataset: 100%|█| 5724/5724 [00:00<00:00, 23314.43 examples/\r\n",
      "Running tokenizer on dataset: 100%|█| 1910/1910 [00:00<00:00, 23745.31 examples/\r\n",
      "Running tokenizer on dataset: 100%|█| 19972/19972 [00:00<00:00, 19972.22 example\r\n",
      "  0%|                                                   | 0/110 [00:00<?, ?it/s]/Users/wengbenjue/opt/anaconda3/envs/peft/lib/python3.11/site-packages/torch/utils/checkpoint.py:429: UserWarning: torch.utils.checkpoint: please pass in use_reentrant=True or use_reentrant=False explicitly. The default value of use_reentrant will be updated to be False in the future. To maintain current behavior, pass use_reentrant=True. It is recommended that you use use_reentrant=False. Refer to docs for more details on the differences between the two variants.\r\n",
      "  warnings.warn(\r\n",
      "{'loss': 1.557, 'learning_rate': 0.0009090909090909091, 'epoch': 0.44}          \r\n",
      "{'loss': 0.4202, 'learning_rate': 0.0008181818181818183, 'epoch': 0.89}         \r\n",
      " 20%|████████▍                                 | 22/110 [03:55<14:47, 10.08s/it]\r\n",
      "  0%|                                                    | 0/30 [00:00<?, ?it/s]\u001B[A\r\n",
      "  7%|██▉                                         | 2/30 [00:00<00:09,  3.08it/s]\u001B[A\r\n",
      " 10%|████▍                                       | 3/30 [00:01<00:15,  1.70it/s]\u001B[A\r\n",
      " 13%|█████▊                                      | 4/30 [00:02<00:16,  1.60it/s]\u001B[A\r\n",
      " 17%|███████▎                                    | 5/30 [00:02<00:15,  1.56it/s]\u001B[A\r\n",
      " 20%|████████▊                                   | 6/30 [00:03<00:15,  1.53it/s]\u001B[A\r\n",
      " 23%|██████████▎                                 | 7/30 [00:04<00:17,  1.30it/s]\u001B[A\r\n",
      " 27%|███████████▋                                | 8/30 [00:05<00:16,  1.34it/s]\u001B[A\r\n",
      " 30%|█████████████▏                              | 9/30 [00:05<00:14,  1.44it/s]\u001B[A\r\n",
      " 33%|██████████████▎                            | 10/30 [00:06<00:13,  1.43it/s]\u001B[A\r\n",
      " 37%|███████████████▊                           | 11/30 [00:07<00:14,  1.29it/s]\u001B[A\r\n",
      " 40%|█████████████████▏                         | 12/30 [00:08<00:13,  1.36it/s]\u001B[A\r\n",
      " 43%|██████████████████▋                        | 13/30 [00:08<00:12,  1.36it/s]\u001B[A\r\n",
      " 47%|████████████████████                       | 14/30 [00:09<00:11,  1.36it/s]\u001B[A\r\n",
      " 50%|█████████████████████▌                     | 15/30 [00:10<00:10,  1.44it/s]\u001B[A\r\n",
      " 53%|██████████████████████▉                    | 16/30 [00:11<00:10,  1.39it/s]\u001B[A\r\n",
      " 57%|████████████████████████▎                  | 17/30 [00:12<00:10,  1.23it/s]\u001B[A\r\n",
      " 60%|█████████████████████████▊                 | 18/30 [00:12<00:09,  1.26it/s]\u001B[A\r\n",
      " 63%|███████████████████████████▏               | 19/30 [00:13<00:08,  1.29it/s]\u001B[A\r\n",
      " 67%|████████████████████████████▋              | 20/30 [00:14<00:07,  1.30it/s]\u001B[A\r\n",
      " 70%|██████████████████████████████             | 21/30 [00:15<00:06,  1.30it/s]\u001B[A\r\n",
      " 73%|███████████████████████████████▌           | 22/30 [00:16<00:06,  1.19it/s]\u001B[A\r\n",
      " 77%|████████████████████████████████▉          | 23/30 [00:16<00:05,  1.28it/s]\u001B[A\r\n",
      " 80%|██████████████████████████████████▍        | 24/30 [00:17<00:04,  1.25it/s]\u001B[A\r\n",
      " 83%|███████████████████████████████████▊       | 25/30 [00:18<00:03,  1.27it/s]\u001B[A\r\n",
      " 87%|█████████████████████████████████████▎     | 26/30 [00:19<00:03,  1.17it/s]\u001B[A\r\n",
      " 90%|██████████████████████████████████████▋    | 27/30 [00:20<00:02,  1.17it/s]\u001B[A\r\n",
      " 93%|████████████████████████████████████████▏  | 28/30 [00:21<00:01,  1.01it/s]\u001B[A\r\n",
      " 97%|█████████████████████████████████████████▌ | 29/30 [00:22<00:00,  1.10it/s]\u001B[A\r\n",
      "                                                                                \u001B[A\r\n",
      "\u001B[A{'eval_loss': 0.31702038645744324, 'eval_accuracy': 0.6366492146596858, 'eval_precision': 0.636918666733963, 'eval_recall': 0.6366492146596858, 'eval_f1': 0.6367497543349414, 'eval_runtime': 27.4647, 'eval_samples_per_second': 69.544, 'eval_steps_per_second': 1.092, 'epoch': 0.98}\r\n",
      " 20%|████████▍                                 | 22/110 [04:35<14:47, 10.08s/it]\r\n",
      "100%|███████████████████████████████████████████| 30/30 [00:26<00:00,  1.50s/it]\u001B[A\r\n",
      "                                                                                \u001B[A/Users/wengbenjue/opt/anaconda3/envs/peft/lib/python3.11/site-packages/torch/utils/checkpoint.py:429: UserWarning: torch.utils.checkpoint: please pass in use_reentrant=True or use_reentrant=False explicitly. The default value of use_reentrant will be updated to be False in the future. To maintain current behavior, pass use_reentrant=True. It is recommended that you use use_reentrant=False. Refer to docs for more details on the differences between the two variants.\r\n",
      "  warnings.warn(\r\n",
      "{'loss': 0.3012, 'learning_rate': 0.0007272727272727273, 'epoch': 1.33}         \r\n",
      "{'loss': 0.2513, 'learning_rate': 0.0006363636363636364, 'epoch': 1.78}         \r\n",
      " 41%|█████████████████▏                        | 45/110 [09:26<16:57, 15.65s/it]\r\n",
      "  0%|                                                    | 0/30 [00:00<?, ?it/s]\u001B[A\r\n",
      "  7%|██▉                                         | 2/30 [00:00<00:11,  2.45it/s]\u001B[A\r\n",
      " 10%|████▍                                       | 3/30 [00:01<00:16,  1.64it/s]\u001B[A\r\n",
      " 13%|█████▊                                      | 4/30 [00:02<00:17,  1.48it/s]\u001B[A\r\n",
      " 17%|███████▎                                    | 5/30 [00:03<00:18,  1.37it/s]\u001B[A\r\n",
      " 20%|████████▊                                   | 6/30 [00:04<00:18,  1.29it/s]\u001B[A\r\n",
      " 23%|██████████▎                                 | 7/30 [00:09<00:48,  2.13s/it]\u001B[A\r\n",
      " 27%|███████████▋                                | 8/30 [00:09<00:37,  1.70s/it]\u001B[A\r\n",
      " 30%|█████████████▏                              | 9/30 [00:10<00:30,  1.44s/it]\u001B[A\r\n",
      " 33%|██████████████▎                            | 10/30 [00:11<00:25,  1.25s/it]\u001B[A\r\n",
      " 37%|███████████████▊                           | 11/30 [00:16<00:43,  2.29s/it]\u001B[A\r\n",
      " 40%|█████████████████▏                         | 12/30 [00:17<00:32,  1.81s/it]\u001B[A\r\n",
      " 43%|██████████████████▋                        | 13/30 [00:20<00:40,  2.38s/it]\u001B[A\r\n",
      " 47%|████████████████████                       | 14/30 [00:21<00:31,  1.97s/it]\u001B[A\r\n",
      " 50%|█████████████████████▌                     | 15/30 [00:22<00:24,  1.63s/it]\u001B[A\r\n",
      " 53%|██████████████████████▉                    | 16/30 [00:23<00:19,  1.37s/it]\u001B[A\r\n",
      " 57%|████████████████████████▎                  | 17/30 [00:24<00:15,  1.21s/it]\u001B[A\r\n",
      " 60%|█████████████████████████▊                 | 18/30 [00:27<00:22,  1.88s/it]\u001B[A\r\n",
      " 63%|███████████████████████████▏               | 19/30 [00:31<00:26,  2.42s/it]\u001B[A\r\n",
      " 67%|████████████████████████████▋              | 20/30 [00:41<00:48,  4.86s/it]\u001B[A\r\n",
      " 70%|██████████████████████████████             | 21/30 [00:44<00:38,  4.23s/it]\u001B[A\r\n",
      " 73%|███████████████████████████████▌           | 22/30 [00:50<00:37,  4.70s/it]\u001B[A\r\n",
      " 77%|████████████████████████████████▉          | 23/30 [00:53<00:28,  4.09s/it]\u001B[A\r\n",
      " 80%|██████████████████████████████████▍        | 24/30 [00:56<00:22,  3.78s/it]\u001B[A\r\n",
      " 83%|███████████████████████████████████▊       | 25/30 [01:00<00:19,  3.95s/it]\u001B[A\r\n",
      " 87%|█████████████████████████████████████▎     | 26/30 [01:05<00:16,  4.25s/it]\u001B[A\r\n",
      " 90%|██████████████████████████████████████▋    | 27/30 [01:10<00:13,  4.53s/it]\u001B[A\r\n",
      " 93%|████████████████████████████████████████▏  | 28/30 [01:14<00:08,  4.32s/it]\u001B[A\r\n",
      " 97%|█████████████████████████████████████████▌ | 29/30 [01:15<00:03,  3.43s/it]\u001B[A\r\n",
      "                                                                                \u001B[A\r\n",
      "\u001B[A{'eval_loss': 0.3700105845928192, 'eval_accuracy': 0.6586387434554973, 'eval_precision': 0.6869573732394978, 'eval_recall': 0.6586387434554973, 'eval_f1': 0.650412353864746, 'eval_runtime': 78.519, 'eval_samples_per_second': 24.325, 'eval_steps_per_second': 0.382, 'epoch': 2.0}\r\n",
      " 41%|█████████████████▏                        | 45/110 [10:45<16:57, 15.65s/it]\r\n",
      "100%|███████████████████████████████████████████| 30/30 [01:17<00:00,  2.70s/it]\u001B[A\r\n",
      "                                                                                \u001B[A/Users/wengbenjue/opt/anaconda3/envs/peft/lib/python3.11/site-packages/torch/utils/checkpoint.py:429: UserWarning: torch.utils.checkpoint: please pass in use_reentrant=True or use_reentrant=False explicitly. The default value of use_reentrant will be updated to be False in the future. To maintain current behavior, pass use_reentrant=True. It is recommended that you use use_reentrant=False. Refer to docs for more details on the differences between the two variants.\r\n",
      "  warnings.warn(\r\n",
      "{'loss': 0.1815, 'learning_rate': 0.0005454545454545455, 'epoch': 2.22}         \r\n",
      "{'loss': 0.1179, 'learning_rate': 0.00045454545454545455, 'epoch': 2.67}        \r\n",
      " 61%|█████████████████████████▌                | 67/110 [16:04<09:37, 13.42s/it]\r\n",
      "  0%|                                                    | 0/30 [00:00<?, ?it/s]\u001B[A\r\n",
      "  7%|██▉                                         | 2/30 [00:02<00:35,  1.28s/it]\u001B[A\r\n",
      " 10%|████▍                                       | 3/30 [00:03<00:33,  1.24s/it]\u001B[A\r\n",
      " 13%|█████▊                                      | 4/30 [00:05<00:35,  1.36s/it]\u001B[A\r\n",
      " 17%|███████▎                                    | 5/30 [00:06<00:29,  1.18s/it]\u001B[A\r\n",
      " 20%|████████▊                                   | 6/30 [00:06<00:25,  1.05s/it]\u001B[A\r\n",
      " 23%|██████████▎                                 | 7/30 [00:10<00:41,  1.79s/it]\u001B[A\r\n",
      " 27%|███████████▋                                | 8/30 [00:10<00:30,  1.41s/it]\u001B[A\r\n",
      " 30%|█████████████▏                              | 9/30 [00:11<00:25,  1.21s/it]\u001B[A\r\n",
      " 33%|██████████████▎                            | 10/30 [00:12<00:21,  1.08s/it]\u001B[A\r\n",
      " 37%|███████████████▊                           | 11/30 [00:16<00:36,  1.90s/it]\u001B[A\r\n",
      " 40%|█████████████████▏                         | 12/30 [00:16<00:27,  1.51s/it]\u001B[A\r\n",
      " 43%|██████████████████▋                        | 13/30 [00:20<00:35,  2.11s/it]\u001B[A\r\n",
      " 47%|████████████████████                       | 14/30 [00:21<00:29,  1.82s/it]\u001B[A\r\n",
      " 50%|█████████████████████▌                     | 15/30 [00:22<00:22,  1.51s/it]\u001B[A\r\n",
      " 53%|██████████████████████▉                    | 16/30 [00:22<00:17,  1.26s/it]\u001B[A\r\n",
      " 57%|████████████████████████▎                  | 17/30 [00:23<00:14,  1.10s/it]\u001B[A\r\n",
      " 60%|█████████████████████████▊                 | 18/30 [00:28<00:27,  2.28s/it]\u001B[A\r\n",
      " 63%|███████████████████████████▏               | 19/30 [00:34<00:35,  3.26s/it]\u001B[A\r\n",
      " 67%|████████████████████████████▋              | 20/30 [00:36<00:30,  3.08s/it]\u001B[A\r\n",
      " 70%|██████████████████████████████             | 21/30 [00:44<00:41,  4.57s/it]\u001B[A\r\n",
      " 73%|███████████████████████████████▌           | 22/30 [00:50<00:40,  5.00s/it]\u001B[A\r\n",
      " 77%|████████████████████████████████▉          | 23/30 [00:54<00:32,  4.71s/it]\u001B[A\r\n",
      " 80%|██████████████████████████████████▍        | 24/30 [00:57<00:25,  4.18s/it]\u001B[A\r\n",
      " 83%|███████████████████████████████████▊       | 25/30 [01:01<00:19,  3.93s/it]\u001B[A\r\n",
      " 87%|█████████████████████████████████████▎     | 26/30 [01:04<00:14,  3.60s/it]\u001B[A\r\n",
      " 90%|██████████████████████████████████████▋    | 27/30 [01:07<00:10,  3.55s/it]\u001B[A\r\n",
      " 93%|████████████████████████████████████████▏  | 28/30 [01:10<00:06,  3.46s/it]\u001B[A\r\n",
      " 97%|█████████████████████████████████████████▌ | 29/30 [01:16<00:04,  4.29s/it]\u001B[A\r\n",
      "                                                                                \u001B[A\r\n",
      "\u001B[A{'eval_loss': 0.707181453704834, 'eval_accuracy': 0.6481675392670158, 'eval_precision': 0.6814150294017052, 'eval_recall': 0.6481675392670158, 'eval_f1': 0.6374032823875755, 'eval_runtime': 88.9265, 'eval_samples_per_second': 21.478, 'eval_steps_per_second': 0.337, 'epoch': 2.98}\r\n",
      " 61%|█████████████████████████▌                | 67/110 [17:38<09:37, 13.42s/it]\r\n",
      "100%|███████████████████████████████████████████| 30/30 [01:25<00:00,  4.81s/it]\u001B[A\r\n",
      "                                                                                \u001B[A/Users/wengbenjue/opt/anaconda3/envs/peft/lib/python3.11/site-packages/torch/utils/checkpoint.py:429: UserWarning: torch.utils.checkpoint: please pass in use_reentrant=True or use_reentrant=False explicitly. The default value of use_reentrant will be updated to be False in the future. To maintain current behavior, pass use_reentrant=True. It is recommended that you use use_reentrant=False. Refer to docs for more details on the differences between the two variants.\r\n",
      "  warnings.warn(\r\n",
      "{'loss': 0.0863, 'learning_rate': 0.00036363636363636367, 'epoch': 3.11}        \r\n",
      "{'loss': 0.0473, 'learning_rate': 0.00027272727272727274, 'epoch': 3.56}        \r\n",
      "{'loss': 0.0375, 'learning_rate': 0.00018181818181818183, 'epoch': 4.0}         \r\n",
      " 82%|██████████████████████████████████▎       | 90/110 [22:58<04:07, 12.36s/it]\r\n",
      "  0%|                                                    | 0/30 [00:00<?, ?it/s]\u001B[A\r\n",
      "  7%|██▉                                         | 2/30 [00:00<00:09,  2.97it/s]\u001B[A\r\n",
      " 10%|████▍                                       | 3/30 [00:01<00:12,  2.14it/s]\u001B[A\r\n",
      " 13%|█████▊                                      | 4/30 [00:01<00:14,  1.85it/s]\u001B[A\r\n",
      " 17%|███████▎                                    | 5/30 [00:02<00:15,  1.66it/s]\u001B[A\r\n",
      " 20%|████████▊                                   | 6/30 [00:03<00:16,  1.50it/s]\u001B[A\r\n",
      " 23%|██████████▎                                 | 7/30 [00:14<01:30,  3.92s/it]\u001B[A\r\n",
      " 27%|███████████▋                                | 8/30 [00:15<01:04,  2.94s/it]\u001B[A\r\n",
      " 30%|█████████████▏                              | 9/30 [00:15<00:47,  2.26s/it]\u001B[A\r\n",
      " 33%|██████████████▎                            | 10/30 [00:16<00:35,  1.79s/it]\u001B[A\r\n",
      " 37%|███████████████▊                           | 11/30 [00:20<00:48,  2.56s/it]\u001B[A\r\n",
      " 40%|█████████████████▏                         | 12/30 [00:21<00:35,  2.00s/it]\u001B[A\r\n",
      " 43%|██████████████████▋                        | 13/30 [00:25<00:42,  2.49s/it]\u001B[A\r\n",
      " 47%|████████████████████                       | 14/30 [00:26<00:33,  2.11s/it]\u001B[A\r\n",
      " 50%|█████████████████████▌                     | 15/30 [00:27<00:25,  1.69s/it]\u001B[A\r\n",
      " 53%|██████████████████████▉                    | 16/30 [00:27<00:19,  1.39s/it]\u001B[A\r\n",
      " 57%|████████████████████████▎                  | 17/30 [00:28<00:15,  1.19s/it]\u001B[A\r\n",
      " 60%|█████████████████████████▊                 | 18/30 [00:32<00:22,  1.89s/it]\u001B[A\r\n",
      " 63%|███████████████████████████▏               | 19/30 [00:38<00:35,  3.26s/it]\u001B[A\r\n",
      " 67%|████████████████████████████▋              | 20/30 [00:42<00:35,  3.51s/it]\u001B[A\r\n",
      " 70%|██████████████████████████████             | 21/30 [00:45<00:28,  3.22s/it]\u001B[A\r\n",
      " 73%|███████████████████████████████▌           | 22/30 [00:52<00:35,  4.45s/it]\u001B[A\r\n",
      " 77%|████████████████████████████████▉          | 23/30 [01:03<00:44,  6.33s/it]\u001B[A\r\n",
      " 80%|██████████████████████████████████▍        | 24/30 [01:09<00:37,  6.25s/it]\u001B[A\r\n",
      " 83%|███████████████████████████████████▊       | 25/30 [01:15<00:30,  6.10s/it]\u001B[A\r\n",
      " 87%|█████████████████████████████████████▎     | 26/30 [01:18<00:20,  5.17s/it]\u001B[A\r\n",
      " 90%|██████████████████████████████████████▋    | 27/30 [01:22<00:14,  4.91s/it]\u001B[A\r\n",
      " 93%|████████████████████████████████████████▏  | 28/30 [01:26<00:09,  4.81s/it]\u001B[A\r\n",
      " 97%|█████████████████████████████████████████▌ | 29/30 [01:32<00:05,  5.08s/it]\u001B[A\r\n",
      "                                                                                \u001B[A\r\n",
      "\u001B[A{'eval_loss': 0.8022122979164124, 'eval_accuracy': 0.6670157068062827, 'eval_precision': 0.6781560062229941, 'eval_recall': 0.6670157068062827, 'eval_f1': 0.6648100904834191, 'eval_runtime': 104.1018, 'eval_samples_per_second': 18.347, 'eval_steps_per_second': 0.288, 'epoch': 4.0}\r\n",
      " 82%|██████████████████████████████████▎       | 90/110 [24:42<04:07, 12.36s/it]\r\n",
      "100%|███████████████████████████████████████████| 30/30 [01:43<00:00,  5.09s/it]\u001B[A\r\n",
      "                                                                                \u001B[A/Users/wengbenjue/opt/anaconda3/envs/peft/lib/python3.11/site-packages/torch/utils/checkpoint.py:429: UserWarning: torch.utils.checkpoint: please pass in use_reentrant=True or use_reentrant=False explicitly. The default value of use_reentrant will be updated to be False in the future. To maintain current behavior, pass use_reentrant=True. It is recommended that you use use_reentrant=False. Refer to docs for more details on the differences between the two variants.\r\n",
      "  warnings.warn(\r\n",
      "{'loss': 0.0227, 'learning_rate': 9.090909090909092e-05, 'epoch': 4.44}         \r\n",
      " 91%|█████████████████████████████████████▎   | 100/110 [27:08<02:20, 14.09s/it]/Users/wengbenjue/opt/anaconda3/envs/peft/lib/python3.11/site-packages/torch/utils/checkpoint.py:429: UserWarning: torch.utils.checkpoint: please pass in use_reentrant=True or use_reentrant=False explicitly. The default value of use_reentrant will be updated to be False in the future. To maintain current behavior, pass use_reentrant=True. It is recommended that you use use_reentrant=False. Refer to docs for more details on the differences between the two variants.\r\n",
      "  warnings.warn(\r\n",
      "{'loss': 0.0283, 'learning_rate': 0.0, 'epoch': 4.89}                           \r\n",
      "100%|█████████████████████████████████████████| 110/110 [30:16<00:00, 18.55s/it]\r\n",
      "  0%|                                                    | 0/30 [00:00<?, ?it/s]\u001B[A\r\n",
      "  7%|██▉                                         | 2/30 [00:01<00:14,  1.96it/s]\u001B[A\r\n",
      " 10%|████▍                                       | 3/30 [00:02<00:19,  1.41it/s]\u001B[A\r\n",
      " 13%|█████▊                                      | 4/30 [00:02<00:19,  1.33it/s]\u001B[A\r\n",
      " 17%|███████▎                                    | 5/30 [00:03<00:20,  1.25it/s]\u001B[A\r\n",
      " 20%|████████▊                                   | 6/30 [00:04<00:20,  1.18it/s]\u001B[A\r\n",
      " 23%|██████████▎                                 | 7/30 [00:08<00:39,  1.74s/it]\u001B[A\r\n",
      " 27%|███████████▋                                | 8/30 [00:09<00:32,  1.49s/it]\u001B[A\r\n",
      " 30%|█████████████▏                              | 9/30 [00:10<00:27,  1.31s/it]\u001B[A\r\n",
      " 33%|██████████████▎                            | 10/30 [00:10<00:22,  1.14s/it]\u001B[A\r\n",
      " 37%|███████████████▊                           | 11/30 [00:16<00:46,  2.47s/it]\u001B[A\r\n",
      " 40%|█████████████████▏                         | 12/30 [00:17<00:35,  1.99s/it]\u001B[A\r\n",
      " 43%|██████████████████▋                        | 13/30 [00:22<00:52,  3.09s/it]\u001B[A\r\n",
      " 47%|████████████████████                       | 14/30 [00:24<00:41,  2.58s/it]\u001B[A\r\n",
      " 50%|█████████████████████▌                     | 15/30 [00:25<00:31,  2.13s/it]\u001B[A\r\n",
      " 53%|██████████████████████▉                    | 16/30 [00:26<00:24,  1.76s/it]\u001B[A\r\n",
      " 57%|████████████████████████▎                  | 17/30 [00:27<00:19,  1.47s/it]\u001B[A\r\n",
      " 60%|█████████████████████████▊                 | 18/30 [00:39<00:55,  4.63s/it]\u001B[A\r\n",
      " 63%|███████████████████████████▏               | 19/30 [00:45<00:56,  5.10s/it]\u001B[A\r\n",
      " 67%|████████████████████████████▋              | 20/30 [00:48<00:44,  4.48s/it]\u001B[A\r\n",
      " 70%|██████████████████████████████             | 21/30 [00:50<00:34,  3.85s/it]\u001B[A\r\n",
      " 73%|███████████████████████████████▌           | 22/30 [00:56<00:35,  4.39s/it]\u001B[A\r\n",
      " 77%|████████████████████████████████▉          | 23/30 [00:59<00:27,  3.98s/it]\u001B[A\r\n",
      " 80%|██████████████████████████████████▍        | 24/30 [01:04<00:26,  4.35s/it]\u001B[A\r\n",
      " 83%|███████████████████████████████████▊       | 25/30 [01:08<00:21,  4.31s/it]\u001B[A\r\n",
      " 87%|█████████████████████████████████████▎     | 26/30 [01:12<00:16,  4.12s/it]\u001B[A\r\n",
      " 90%|██████████████████████████████████████▋    | 27/30 [01:15<00:11,  3.92s/it]\u001B[A\r\n",
      " 93%|████████████████████████████████████████▏  | 28/30 [01:19<00:07,  3.84s/it]\u001B[A\r\n",
      " 97%|█████████████████████████████████████████▌ | 29/30 [01:31<00:06,  6.37s/it]\u001B[A\r\n",
      "                                                                                \u001B[A\r\n",
      "\u001B[A{'eval_loss': 0.9090946912765503, 'eval_accuracy': 0.6722513089005235, 'eval_precision': 0.6886910233376481, 'eval_recall': 0.6722513089005235, 'eval_f1': 0.66854047230168, 'eval_runtime': 104.5312, 'eval_samples_per_second': 18.272, 'eval_steps_per_second': 0.287, 'epoch': 4.89}\r\n",
      "100%|█████████████████████████████████████████| 110/110 [32:00<00:00, 18.55s/it]\r\n",
      "100%|███████████████████████████████████████████| 30/30 [01:43<00:00,  6.74s/it]\u001B[A\r\n",
      "{'train_runtime': 1920.6752, 'train_samples_per_second': 14.901, 'train_steps_per_second': 0.057, 'train_loss': 0.2774026586250825, 'epoch': 4.89}\r\n",
      "100%|█████████████████████████████████████████| 110/110 [32:00<00:00, 17.46s/it]\r\n"
     ]
    }
   ],
   "source": [
    "!python ../../../peft_train.py \\\n",
    "--model_name ../../../pretrain_models/flan-t5-base \\\n",
    "--max_seq_len 2048 \\\n",
    "--group_by_length \\\n",
    "--max_steps 200 \\\n",
    "--dataset_name ../../../text-classification/tweet_eval_irony \\\n",
    "--num_labels 2 \\\n",
    "--epochs 5 \\\n",
    "--learning_rate 1e-3 \\\n",
    "--per_device_train_batch_size 64 \\\n",
    "--per_device_eval_batch_size 64 \\\n",
    "--model_type SEQ_2_SEQ_LM \\\n",
    "--output_model_path ./result/flan-t5-base-tweet_eval_irony-lora \\\n",
    "--need_hyperparameters_search False \\\n",
    "--enable_peft False \\\n",
    "--bnb_4bit_compute_dtype float32 \\\n",
    "--use_4b False"
   ],
   "metadata": {
    "collapsed": false,
    "ExecuteTime": {
     "end_time": "2023-12-06T05:58:23.533100Z",
     "start_time": "2023-12-06T05:26:10.571488Z"
    }
   }
  },
  {
   "cell_type": "markdown",
   "source": [
    "### 1.2.2 Run code on GPU version\n",
    "Load the model together with the adapter with few lines of code! Check the snippet below to load the adapter from the Hub and run the example evaluation."
   ],
   "metadata": {
    "collapsed": false
   }
  },
  {
   "cell_type": "code",
   "execution_count": null,
   "outputs": [],
   "source": [
    "!pip install -q -U trl transformers accelerate git+https://github.com/huggingface/peft.git\n",
    "!pip install -q datasets bitsandbytes einops wandb evaluate\n",
    "from google.colab import drive\n",
    "drive.mount('/content/drive')\n",
    "%cd /content/drive/MyDrive/Colab Notebooks/llms-peft-cook-colab/experiments/flan-t5-base-full-finetune/tweet_eval_irony"
   ],
   "metadata": {
    "collapsed": false
   }
  },
  {
   "cell_type": "code",
   "execution_count": null,
   "outputs": [],
   "source": [
    "import os\n",
    "os.environ[\"CUDA_VISIBLE_DEVICES\"] = \"0\"\n",
    "!python ../../../peft_train.py \\\n",
    "--model_name google/flan-t5-base \\\n",
    "--max_seq_len 2048 \\\n",
    "--group_by_length \\\n",
    "--max_steps 200 \\\n",
    "--dataset_name ../../../text-classification/tweet_eval_irony \\\n",
    "--num_labels 2 \\\n",
    "--epochs 5 \\\n",
    "--learning_rate 1e-3\\\n",
    "--per_device_train_batch_size 64 \\\n",
    "--per_device_eval_batch_size 64 \\\n",
    "--model_type SEQ_2_SEQ_LM \\\n",
    "--output_model_path ./result/flan-t5-base-tweet_eval_irony-lora \\\n",
    "--bnb_4bit_compute_dtype float16 \\\n",
    "--need_hyperparameters_search False \\\n",
    "--enable_peft False \\\n",
    "--use_4b False"
   ],
   "metadata": {
    "collapsed": false,
    "is_executing": true
   }
  },
  {
   "cell_type": "markdown",
   "source": [
    "# Load your adapter from the Hub"
   ],
   "metadata": {
    "collapsed": false
   }
  },
  {
   "cell_type": "code",
   "execution_count": 7,
   "outputs": [],
   "source": [
    "import torch\n",
    "from peft import PeftModel, PeftConfig\n",
    "from transformers import AutoModelForSeq2SeqLM, AutoTokenizer\n",
    "\n",
    "peft_model_id = \"./result/flan-t5-cup-lora\"\n",
    "base_model_name_or_path = '.../../../pretrain_models/google-flan-t5-small'\n",
    "config = PeftConfig.from_pretrained(peft_model_id)\n",
    "\n",
    "# model = AutoModelForSeq2SeqLM.from_pretrained(config.base_model_name_or_path, torch_dtype=\"auto\", device_map=\"auto\")\n",
    "model = AutoModelForSeq2SeqLM.from_pretrained(config.base_model_name_or_path, torch_dtype=\"auto\", device_map=\"cpu\")\n",
    "tokenizer = AutoTokenizer.from_pretrained(config.base_model_name_or_path)\n",
    "\n",
    "# Load the Lora model\n",
    "model = PeftModel.from_pretrained(model, peft_model_id)"
   ],
   "metadata": {
    "collapsed": false,
    "ExecuteTime": {
     "end_time": "2023-12-02T16:37:01.962850Z",
     "start_time": "2023-12-02T16:37:01.696535Z"
    }
   }
  },
  {
   "cell_type": "code",
   "execution_count": 9,
   "outputs": [
    {
     "name": "stdout",
     "output_type": "stream",
     "text": [
      "input sentence:  In January-September 2009 , the Group 's net interest income increased to EUR 112.4 mn from EUR 74.3 mn in January-September 2008 .\n",
      " output prediction:  ['positive positive positive positive positive positive positive positive positive positive']\n"
     ]
    }
   ],
   "source": [
    "model.eval()\n",
    "input_text = \"In January-September 2009 , the Group 's net interest income increased to EUR 112.4 mn from EUR 74.3 mn in January-September 2008 .\"\n",
    "inputs = tokenizer(input_text, return_tensors=\"pt\")\n",
    "\n",
    "outputs = model.generate(input_ids=inputs[\"input_ids\"], max_new_tokens=10)\n",
    "\n",
    "print(\"input sentence: \", input_text)\n",
    "print(\" output prediction: \", tokenizer.batch_decode(outputs.detach().cpu().numpy(), skip_special_tokens=True))"
   ],
   "metadata": {
    "collapsed": false,
    "ExecuteTime": {
     "end_time": "2023-12-02T16:40:55.202266Z",
     "start_time": "2023-12-02T16:40:55.100686Z"
    }
   }
  },
  {
   "cell_type": "code",
   "execution_count": 8,
   "outputs": [
    {
     "name": "stdout",
     "output_type": "stream",
     "text": [
      "input sentence:  In January-September 2009 , the Group 's net interest income increased to EUR 112.4 mn from EUR 74.3 mn in January-September 2008 .\n",
      " output prediction:  ['positive positive positive positive positive positive positive positive positive positive']\n"
     ]
    }
   ],
   "source": [
    "model.eval()\n",
    "input_text = \"In January-September 2009 , the Group 's net interest income increased to EUR 112.4 mn from EUR 74.3 mn in January-September 2008 .\"\n",
    "inputs = tokenizer(input_text, return_tensors=\"pt\")\n",
    "\n",
    "outputs = model.generate(input_ids=inputs[\"input_ids\"], max_new_tokens=10)\n",
    "\n",
    "print(\"input sentence: \", input_text)\n",
    "print(\" output prediction: \", tokenizer.batch_decode(outputs.detach().cpu().numpy(), skip_special_tokens=True))"
   ],
   "metadata": {
    "collapsed": false,
    "ExecuteTime": {
     "end_time": "2023-12-02T16:37:04.919570Z",
     "start_time": "2023-12-02T16:37:04.379496Z"
    }
   }
  },
  {
   "cell_type": "markdown",
   "source": [
    "## 1.3 Experimental Result"
   ],
   "metadata": {
    "collapsed": false
   }
  },
  {
   "cell_type": "code",
   "execution_count": null,
   "outputs": [],
   "source": [
    "class HTMLRender:\n",
    "    def __init__(self,html_str):\n",
    "        self.html_str =html_str\n",
    "    def _repr_html_(self):\n",
    "       return self.html_str\n"
   ],
   "metadata": {
    "collapsed": false,
    "is_executing": true
   }
  },
  {
   "cell_type": "code",
   "execution_count": null,
   "outputs": [],
   "source": [
    "model_accurcy_html = '''\n",
    "<table>\n",
    "  <tr>\n",
    "    <th>eval loss</th>\n",
    "    <th>eval accuracy</th>\n",
    "    <th>eval precision</th>\n",
    "    <th>eval recall</th>\n",
    "    <th>eval f1</th>\n",
    "  </tr>\n",
    "  <tr>\n",
    "    <td style=\"background-color:#4C72B0;\">0.102</td>\n",
    "    <td style=\"background-color:#55A868;\">0.896</td>\n",
    "    <td style=\"background-color:#C44E52;\">0.90</td>\n",
    "     <td style=\"background-color:#8172B2;\">0.896</td>\n",
    "    <td style=\"background-color:#64B5CD;\">0.894</td>\n",
    "  </tr>\n",
    "\n",
    "</table>\n",
    "\n",
    "       '''\n",
    "HTMLRender(model_accurcy_html)"
   ],
   "metadata": {
    "collapsed": false,
    "is_executing": true
   }
  },
  {
   "cell_type": "code",
   "execution_count": null,
   "outputs": [],
   "source": [
    "accuracy_html = '''\n",
    "<img src=\"./image/flan-t5-small-accuracy.png\" alt=\"flan-t5-small-accuracy\" width=\"70%\">\n",
    "'''\n",
    "HTMLRender(accuracy_html)"
   ],
   "metadata": {
    "collapsed": false,
    "is_executing": true
   }
  },
  {
   "cell_type": "code",
   "execution_count": null,
   "outputs": [],
   "source": [
    "## Load your adapter from the Hub\n"
   ],
   "metadata": {
    "collapsed": false
   }
  }
 ],
 "metadata": {
  "kernelspec": {
   "display_name": "Python 3",
   "language": "python",
   "name": "python3"
  },
  "language_info": {
   "codemirror_mode": {
    "name": "ipython",
    "version": 2
   },
   "file_extension": ".py",
   "mimetype": "text/x-python",
   "name": "python",
   "nbconvert_exporter": "python",
   "pygments_lexer": "ipython2",
   "version": "2.7.6"
  }
 },
 "nbformat": 4,
 "nbformat_minor": 0
}
