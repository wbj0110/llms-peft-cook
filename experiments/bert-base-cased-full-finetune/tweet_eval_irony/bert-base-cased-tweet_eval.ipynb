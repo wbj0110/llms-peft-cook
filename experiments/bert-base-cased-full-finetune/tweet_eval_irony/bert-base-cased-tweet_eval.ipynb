{
 "cells": [
  {
   "cell_type": "markdown",
   "metadata": {
    "collapsed": false
   },
   "source": [
    "Finetuning the model on financial_phrasebank dataset, that consists of pairs of text-labels to classify financial-related sentences, if they are either <span style=\"color: red;\">positive</span>, <span style=\"color: purple;\">neutral</span> or <span style=\"color: green;\">negative</span>."
   ]
  },
  {
   "cell_type": "markdown",
   "metadata": {
    "collapsed": false
   },
   "source": [
    "# 1.Experimental Setup1"
   ]
  },
  {
   "cell_type": "markdown",
   "metadata": {
    "collapsed": false
   },
   "source": [
    "## 1.1 Setup"
   ]
  },
  {
   "cell_type": "markdown",
   "metadata": {
    "collapsed": false
   },
   "source": [
    "## 1.2 Training"
   ]
  },
  {
   "cell_type": "markdown",
   "metadata": {
    "collapsed": false
   },
   "source": [
    "### 1.2.1 Run code on CPU version"
   ]
  },
  {
   "cell_type": "code",
   "execution_count": null,
   "metadata": {
    "collapsed": false,
    "is_executing": true
   },
   "outputs": [],
   "source": [
    "!pwd"
   ]
  },
  {
   "cell_type": "code",
   "execution_count": null,
   "metadata": {
    "collapsed": false
   },
   "outputs": [],
   "source": []
  },
  {
   "cell_type": "code",
   "execution_count": 1,
   "metadata": {
    "collapsed": false,
    "ExecuteTime": {
     "end_time": "2023-12-10T12:40:16.653884Z",
     "start_time": "2023-12-10T12:15:51.663140Z"
    }
   },
   "outputs": [
    {
     "name": "stdout",
     "output_type": "stream",
     "text": [
      "/Users/wengbenjue/opt/anaconda3/envs/peft/lib/python3.11/site-packages/bitsandbytes/cextension.py:34: UserWarning: The installed version of bitsandbytes was compiled without GPU support. 8-bit optimizers, 8-bit multiplication, and GPU quantization are unavailable.\r\n",
      "  warn(\"The installed version of bitsandbytes was compiled without GPU support. \"\r\n",
      "'NoneType' object has no attribute 'cadam32bit_grad_fp32'\r\n",
      "/Users/wengbenjue/opt/anaconda3/envs/peft/lib/python3.11/site-packages/trl/trainer/ppo_config.py:141: UserWarning: The `optimize_cuda_cache` arguement will be deprecated soon, please use `optimize_device_cache` instead.\r\n",
      "  warnings.warn(\r\n",
      "Some weights of BertForSequenceClassification were not initialized from the model checkpoint at ../../../pretrain_models/bert-base-cased and are newly initialized: ['classifier.bias', 'classifier.weight']\r\n",
      "You should probably TRAIN this model on a down-stream task to be able to use it for predictions and inference.\r\n",
      "use AutoModelForSequenceClassification load bert model.\r\n",
      "trainable params: 108311810 || all params: 108311810 || trainable%: 100.0\r\n",
      "tokenizer padding setting: [PAD]\r\n",
      "Sentence: seeing ppl walking w/ crutches makes me really excited for the next 3 weeks of my life\r\n",
      "Map: 100%|████████████████████████| 5724/5724 [00:00<00:00, 29418.56 examples/s]\r\n",
      "Map: 100%|████████████████████████| 1910/1910 [00:00<00:00, 29613.89 examples/s]\r\n",
      "Map: 100%|██████████████████████| 19972/19972 [00:00<00:00, 27001.08 examples/s]\r\n",
      "  0%|                                                   | 0/110 [00:00<?, ?it/s]/Users/wengbenjue/opt/anaconda3/envs/peft/lib/python3.11/site-packages/torch/utils/checkpoint.py:429: UserWarning: torch.utils.checkpoint: please pass in use_reentrant=True or use_reentrant=False explicitly. The default value of use_reentrant will be updated to be False in the future. To maintain current behavior, pass use_reentrant=True. It is recommended that you use use_reentrant=False. Refer to docs for more details on the differences between the two variants.\r\n",
      "  warnings.warn(\r\n",
      "{'loss': 0.7807, 'learning_rate': 0.0009090909090909091, 'epoch': 0.44}         \r\n",
      "{'loss': 0.7197, 'learning_rate': 0.0008181818181818183, 'epoch': 0.89}         \r\n",
      " 20%|████████▍                                 | 22/110 [04:51<20:18, 13.85s/it]\r\n",
      "  0%|                                                    | 0/30 [00:00<?, ?it/s]\u001B[A\r\n",
      "  7%|██▉                                         | 2/30 [00:00<00:13,  2.06it/s]\u001B[A\r\n",
      " 10%|████▍                                       | 3/30 [00:01<00:19,  1.42it/s]\u001B[A\r\n",
      " 13%|█████▊                                      | 4/30 [00:03<00:21,  1.20it/s]\u001B[A\r\n",
      " 17%|███████▎                                    | 5/30 [00:03<00:21,  1.16it/s]\u001B[A\r\n",
      " 20%|████████▊                                   | 6/30 [00:04<00:20,  1.14it/s]\u001B[A\r\n",
      " 23%|██████████▎                                 | 7/30 [00:05<00:20,  1.11it/s]\u001B[A\r\n",
      " 27%|███████████▋                                | 8/30 [00:06<00:19,  1.10it/s]\u001B[A\r\n",
      " 30%|█████████████▏                              | 9/30 [00:07<00:19,  1.08it/s]\u001B[A\r\n",
      " 33%|██████████████▎                            | 10/30 [00:08<00:18,  1.07it/s]\u001B[A\r\n",
      " 37%|███████████████▊                           | 11/30 [00:09<00:16,  1.12it/s]\u001B[A\r\n",
      " 40%|█████████████████▏                         | 12/30 [00:10<00:17,  1.03it/s]\u001B[A\r\n",
      " 43%|██████████████████▋                        | 13/30 [00:11<00:16,  1.02it/s]\u001B[A\r\n",
      " 47%|████████████████████                       | 14/30 [00:12<00:15,  1.01it/s]\u001B[A\r\n",
      " 50%|█████████████████████▌                     | 15/30 [00:13<00:14,  1.03it/s]\u001B[A\r\n",
      " 53%|██████████████████████▉                    | 16/30 [00:14<00:13,  1.04it/s]\u001B[A\r\n",
      " 57%|████████████████████████▎                  | 17/30 [00:15<00:12,  1.03it/s]\u001B[A\r\n",
      " 60%|█████████████████████████▊                 | 18/30 [00:16<00:11,  1.00it/s]\u001B[A\r\n",
      " 63%|███████████████████████████▏               | 19/30 [00:17<00:10,  1.01it/s]\u001B[A\r\n",
      " 67%|████████████████████████████▋              | 20/30 [00:18<00:09,  1.03it/s]\u001B[A\r\n",
      " 70%|██████████████████████████████             | 21/30 [00:19<00:08,  1.06it/s]\u001B[A\r\n",
      " 73%|███████████████████████████████▌           | 22/30 [00:20<00:07,  1.06it/s]\u001B[A\r\n",
      " 77%|████████████████████████████████▉          | 23/30 [00:21<00:06,  1.06it/s]\u001B[A\r\n",
      " 80%|██████████████████████████████████▍        | 24/30 [00:22<00:05,  1.03it/s]\u001B[A\r\n",
      " 83%|███████████████████████████████████▊       | 25/30 [00:23<00:04,  1.04it/s]\u001B[A\r\n",
      " 87%|█████████████████████████████████████▎     | 26/30 [00:24<00:03,  1.02it/s]\u001B[A\r\n",
      " 90%|██████████████████████████████████████▋    | 27/30 [00:25<00:02,  1.06it/s]\u001B[A\r\n",
      " 93%|████████████████████████████████████████▏  | 28/30 [00:26<00:01,  1.04it/s]\u001B[A\r\n",
      " 97%|█████████████████████████████████████████▌ | 29/30 [00:27<00:00,  1.03it/s]\u001B[A\r\n",
      "                                                                                \u001B[A\r\n",
      "\u001B[A{'eval_loss': 0.6970342397689819, 'eval_accuracy': 0.5225130890052356, 'eval_precision': 0.27301992818179327, 'eval_recall': 0.5225130890052356, 'eval_f1': 0.3586437846129471, 'eval_runtime': 29.5528, 'eval_samples_per_second': 64.63, 'eval_steps_per_second': 1.015, 'epoch': 0.98}\r\n",
      " 20%|████████▍                                 | 22/110 [05:27<20:18, 13.85s/it]\r\n",
      "100%|███████████████████████████████████████████| 30/30 [00:28<00:00,  1.13s/it]\u001B[A\r\n",
      "                                                                                \u001B[A/Users/wengbenjue/opt/anaconda3/envs/peft/lib/python3.11/site-packages/torch/utils/checkpoint.py:429: UserWarning: torch.utils.checkpoint: please pass in use_reentrant=True or use_reentrant=False explicitly. The default value of use_reentrant will be updated to be False in the future. To maintain current behavior, pass use_reentrant=True. It is recommended that you use use_reentrant=False. Refer to docs for more details on the differences between the two variants.\r\n",
      "  warnings.warn(\r\n",
      "{'loss': 0.7166, 'learning_rate': 0.0007272727272727273, 'epoch': 1.33}         \r\n",
      "{'loss': 0.7043, 'learning_rate': 0.0006363636363636364, 'epoch': 1.78}         \r\n",
      " 41%|█████████████████▏                        | 45/110 [11:33<16:46, 15.49s/it]\r\n",
      "  0%|                                                    | 0/30 [00:00<?, ?it/s]\u001B[A\r\n",
      "  7%|██▉                                         | 2/30 [00:00<00:12,  2.16it/s]\u001B[A\r\n",
      " 10%|████▍                                       | 3/30 [00:01<00:16,  1.61it/s]\u001B[A\r\n",
      " 13%|█████▊                                      | 4/30 [00:02<00:18,  1.40it/s]\u001B[A\r\n",
      " 17%|███████▎                                    | 5/30 [00:03<00:18,  1.35it/s]\u001B[A\r\n",
      " 20%|████████▊                                   | 6/30 [00:04<00:17,  1.36it/s]\u001B[A\r\n",
      " 23%|██████████▎                                 | 7/30 [00:05<00:18,  1.25it/s]\u001B[A\r\n",
      " 27%|███████████▋                                | 8/30 [00:06<00:19,  1.16it/s]\u001B[A\r\n",
      " 30%|█████████████▏                              | 9/30 [00:07<00:18,  1.13it/s]\u001B[A\r\n",
      " 33%|██████████████▎                            | 10/30 [00:07<00:18,  1.10it/s]\u001B[A\r\n",
      " 37%|███████████████▊                           | 11/30 [00:08<00:17,  1.07it/s]\u001B[A\r\n",
      " 40%|█████████████████▏                         | 12/30 [00:09<00:17,  1.06it/s]\u001B[A\r\n",
      " 43%|██████████████████▋                        | 13/30 [00:10<00:15,  1.09it/s]\u001B[A\r\n",
      " 47%|████████████████████                       | 14/30 [00:11<00:14,  1.10it/s]\u001B[A\r\n",
      " 50%|█████████████████████▌                     | 15/30 [00:12<00:13,  1.10it/s]\u001B[A\r\n",
      " 53%|██████████████████████▉                    | 16/30 [00:13<00:13,  1.06it/s]\u001B[A\r\n",
      " 57%|████████████████████████▎                  | 17/30 [00:14<00:12,  1.06it/s]\u001B[A\r\n",
      " 60%|█████████████████████████▊                 | 18/30 [00:15<00:11,  1.06it/s]\u001B[A\r\n",
      " 63%|███████████████████████████▏               | 19/30 [00:16<00:10,  1.06it/s]\u001B[A\r\n",
      " 67%|████████████████████████████▋              | 20/30 [00:17<00:09,  1.07it/s]\u001B[A\r\n",
      " 70%|██████████████████████████████             | 21/30 [00:18<00:08,  1.04it/s]\u001B[A\r\n",
      " 73%|███████████████████████████████▌           | 22/30 [00:19<00:07,  1.05it/s]\u001B[A\r\n",
      " 77%|████████████████████████████████▉          | 23/30 [00:20<00:06,  1.12it/s]\u001B[A\r\n",
      " 80%|██████████████████████████████████▍        | 24/30 [00:21<00:05,  1.08it/s]\u001B[A\r\n",
      " 83%|███████████████████████████████████▊       | 25/30 [00:22<00:04,  1.03it/s]\u001B[A\r\n",
      " 87%|█████████████████████████████████████▎     | 26/30 [00:23<00:03,  1.04it/s]\u001B[A\r\n",
      " 90%|██████████████████████████████████████▋    | 27/30 [00:23<00:02,  1.07it/s]\u001B[A\r\n",
      " 93%|████████████████████████████████████████▏  | 28/30 [00:24<00:01,  1.06it/s]\u001B[A\r\n",
      " 97%|█████████████████████████████████████████▌ | 29/30 [00:26<00:00,  1.00it/s]\u001B[A\r\n",
      "                                                                                \u001B[A\r\n",
      "\u001B[A{'eval_loss': 0.6935692429542542, 'eval_accuracy': 0.5225130890052356, 'eval_precision': 0.27301992818179327, 'eval_recall': 0.5225130890052356, 'eval_f1': 0.3586437846129471, 'eval_runtime': 27.7824, 'eval_samples_per_second': 68.749, 'eval_steps_per_second': 1.08, 'epoch': 2.0}\r\n",
      " 41%|█████████████████▏                        | 45/110 [12:01<16:46, 15.49s/it]\r\n",
      "100%|███████████████████████████████████████████| 30/30 [00:26<00:00,  1.10it/s]\u001B[A\r\n",
      "                                                                                \u001B[A/Users/wengbenjue/opt/anaconda3/envs/peft/lib/python3.11/site-packages/torch/utils/checkpoint.py:429: UserWarning: torch.utils.checkpoint: please pass in use_reentrant=True or use_reentrant=False explicitly. The default value of use_reentrant will be updated to be False in the future. To maintain current behavior, pass use_reentrant=True. It is recommended that you use use_reentrant=False. Refer to docs for more details on the differences between the two variants.\r\n",
      "  warnings.warn(\r\n",
      "{'loss': 0.7023, 'learning_rate': 0.0005454545454545455, 'epoch': 2.22}         \r\n",
      "{'loss': 0.7507, 'learning_rate': 0.00045454545454545455, 'epoch': 2.67}        \r\n",
      " 61%|█████████████████████████▌                | 67/110 [16:53<07:19, 10.21s/it]\r\n",
      "  0%|                                                    | 0/30 [00:00<?, ?it/s]\u001B[A\r\n",
      "  7%|██▉                                         | 2/30 [00:00<00:08,  3.23it/s]\u001B[A\r\n",
      " 10%|████▍                                       | 3/30 [00:01<00:11,  2.39it/s]\u001B[A\r\n",
      " 13%|█████▊                                      | 4/30 [00:01<00:12,  2.07it/s]\u001B[A\r\n",
      " 17%|███████▎                                    | 5/30 [00:02<00:13,  1.90it/s]\u001B[A\r\n",
      " 20%|████████▊                                   | 6/30 [00:03<00:13,  1.78it/s]\u001B[A\r\n",
      " 23%|██████████▎                                 | 7/30 [00:03<00:12,  1.78it/s]\u001B[A\r\n",
      " 27%|███████████▋                                | 8/30 [00:04<00:12,  1.75it/s]\u001B[A\r\n",
      " 30%|█████████████▏                              | 9/30 [00:04<00:12,  1.69it/s]\u001B[A\r\n",
      " 33%|██████████████▎                            | 10/30 [00:05<00:11,  1.68it/s]\u001B[A\r\n",
      " 37%|███████████████▊                           | 11/30 [00:05<00:10,  1.78it/s]\u001B[A\r\n",
      " 40%|█████████████████▏                         | 12/30 [00:06<00:10,  1.74it/s]\u001B[A\r\n",
      " 43%|██████████████████▋                        | 13/30 [00:07<00:10,  1.70it/s]\u001B[A\r\n",
      " 47%|████████████████████                       | 14/30 [00:07<00:09,  1.70it/s]\u001B[A\r\n",
      " 50%|█████████████████████▌                     | 15/30 [00:08<00:08,  1.74it/s]\u001B[A\r\n",
      " 53%|██████████████████████▉                    | 16/30 [00:08<00:08,  1.73it/s]\u001B[A\r\n",
      " 57%|████████████████████████▎                  | 17/30 [00:09<00:07,  1.69it/s]\u001B[A\r\n",
      " 60%|█████████████████████████▊                 | 18/30 [00:10<00:07,  1.67it/s]\u001B[A\r\n",
      " 63%|███████████████████████████▏               | 19/30 [00:10<00:06,  1.70it/s]\u001B[A\r\n",
      " 67%|████████████████████████████▋              | 20/30 [00:11<00:05,  1.69it/s]\u001B[A\r\n",
      " 70%|██████████████████████████████             | 21/30 [00:11<00:05,  1.66it/s]\u001B[A\r\n",
      " 73%|███████████████████████████████▌           | 22/30 [00:12<00:04,  1.64it/s]\u001B[A\r\n",
      " 77%|████████████████████████████████▉          | 23/30 [00:13<00:04,  1.67it/s]\u001B[A\r\n",
      " 80%|██████████████████████████████████▍        | 24/30 [00:13<00:03,  1.67it/s]\u001B[A\r\n",
      " 83%|███████████████████████████████████▊       | 25/30 [00:14<00:03,  1.66it/s]\u001B[A\r\n",
      " 87%|█████████████████████████████████████▎     | 26/30 [00:14<00:02,  1.64it/s]\u001B[A\r\n",
      " 90%|██████████████████████████████████████▋    | 27/30 [00:15<00:01,  1.73it/s]\u001B[A\r\n",
      " 93%|████████████████████████████████████████▏  | 28/30 [00:16<00:01,  1.72it/s]\u001B[A\r\n",
      " 97%|█████████████████████████████████████████▌ | 29/30 [00:16<00:00,  1.71it/s]\u001B[A\r\n",
      "                                                                                \u001B[A\r\n",
      "\u001B[A{'eval_loss': 0.6957229375839233, 'eval_accuracy': 0.5225130890052356, 'eval_precision': 0.27301992818179327, 'eval_recall': 0.5225130890052356, 'eval_f1': 0.3586437846129471, 'eval_runtime': 17.7778, 'eval_samples_per_second': 107.437, 'eval_steps_per_second': 1.687, 'epoch': 2.98}\r\n",
      " 61%|█████████████████████████▌                | 67/110 [17:15<07:19, 10.21s/it]\r\n",
      "100%|███████████████████████████████████████████| 30/30 [00:17<00:00,  1.78it/s]\u001B[A\r\n",
      "                                                                                \u001B[A/Users/wengbenjue/opt/anaconda3/envs/peft/lib/python3.11/site-packages/torch/utils/checkpoint.py:429: UserWarning: torch.utils.checkpoint: please pass in use_reentrant=True or use_reentrant=False explicitly. The default value of use_reentrant will be updated to be False in the future. To maintain current behavior, pass use_reentrant=True. It is recommended that you use use_reentrant=False. Refer to docs for more details on the differences between the two variants.\r\n",
      "  warnings.warn(\r\n",
      "{'loss': 0.713, 'learning_rate': 0.00036363636363636367, 'epoch': 3.11}         \r\n",
      "{'loss': 0.7122, 'learning_rate': 0.00027272727272727274, 'epoch': 3.56}        \r\n",
      "{'loss': 0.7006, 'learning_rate': 0.00018181818181818183, 'epoch': 4.0}         \r\n",
      " 82%|██████████████████████████████████▎       | 90/110 [20:43<02:51,  8.58s/it]\r\n",
      "  0%|                                                    | 0/30 [00:00<?, ?it/s]\u001B[A\r\n",
      "  7%|██▉                                         | 2/30 [00:00<00:08,  3.30it/s]\u001B[A\r\n",
      " 10%|████▍                                       | 3/30 [00:01<00:10,  2.46it/s]\u001B[A\r\n",
      " 13%|█████▊                                      | 4/30 [00:01<00:11,  2.30it/s]\u001B[A\r\n",
      " 17%|███████▎                                    | 5/30 [00:02<00:11,  2.12it/s]\u001B[A\r\n",
      " 20%|████████▊                                   | 6/30 [00:02<00:11,  2.00it/s]\u001B[A\r\n",
      " 23%|██████████▎                                 | 7/30 [00:03<00:12,  1.91it/s]\u001B[A\r\n",
      " 27%|███████████▋                                | 8/30 [00:03<00:11,  1.92it/s]\u001B[A\r\n",
      " 30%|█████████████▏                              | 9/30 [00:04<00:11,  1.89it/s]\u001B[A\r\n",
      " 33%|██████████████▎                            | 10/30 [00:04<00:10,  1.86it/s]\u001B[A\r\n",
      " 37%|███████████████▊                           | 11/30 [00:05<00:10,  1.86it/s]\u001B[A\r\n",
      " 40%|█████████████████▏                         | 12/30 [00:05<00:09,  1.96it/s]\u001B[A\r\n",
      " 43%|██████████████████▋                        | 13/30 [00:06<00:08,  1.93it/s]\u001B[A\r\n",
      " 47%|████████████████████                       | 14/30 [00:06<00:08,  1.90it/s]\u001B[A\r\n",
      " 50%|█████████████████████▌                     | 15/30 [00:07<00:08,  1.82it/s]\u001B[A\r\n",
      " 53%|██████████████████████▉                    | 16/30 [00:08<00:07,  1.85it/s]\u001B[A\r\n",
      " 57%|████████████████████████▎                  | 17/30 [00:08<00:07,  1.83it/s]\u001B[A\r\n",
      " 60%|█████████████████████████▊                 | 18/30 [00:09<00:06,  1.81it/s]\u001B[A\r\n",
      " 63%|███████████████████████████▏               | 19/30 [00:09<00:06,  1.82it/s]\u001B[A\r\n",
      " 67%|████████████████████████████▋              | 20/30 [00:10<00:05,  1.86it/s]\u001B[A\r\n",
      " 70%|██████████████████████████████             | 21/30 [00:10<00:04,  1.87it/s]\u001B[A\r\n",
      " 73%|███████████████████████████████▌           | 22/30 [00:11<00:04,  1.86it/s]\u001B[A\r\n",
      " 77%|████████████████████████████████▉          | 23/30 [00:11<00:03,  1.86it/s]\u001B[A\r\n",
      " 80%|██████████████████████████████████▍        | 24/30 [00:12<00:03,  1.87it/s]\u001B[A\r\n",
      " 83%|███████████████████████████████████▊       | 25/30 [00:13<00:02,  1.83it/s]\u001B[A\r\n",
      " 87%|█████████████████████████████████████▎     | 26/30 [00:13<00:02,  1.83it/s]\u001B[A\r\n",
      " 90%|██████████████████████████████████████▋    | 27/30 [00:14<00:01,  1.84it/s]\u001B[A\r\n",
      " 93%|████████████████████████████████████████▏  | 28/30 [00:14<00:01,  1.95it/s]\u001B[A\r\n",
      " 97%|█████████████████████████████████████████▌ | 29/30 [00:15<00:00,  1.93it/s]\u001B[A\r\n",
      "                                                                                \u001B[A\r\n",
      "\u001B[A{'eval_loss': 0.6964152455329895, 'eval_accuracy': 0.4774869109947644, 'eval_precision': 0.22799375017132206, 'eval_recall': 0.4774869109947644, 'eval_f1': 0.3086237156819455, 'eval_runtime': 16.1385, 'eval_samples_per_second': 118.351, 'eval_steps_per_second': 1.859, 'epoch': 4.0}\r\n",
      " 82%|██████████████████████████████████▎       | 90/110 [20:59<02:51,  8.58s/it]\r\n",
      "100%|███████████████████████████████████████████| 30/30 [00:15<00:00,  1.96it/s]\u001B[A\r\n",
      "                                                                                \u001B[A/Users/wengbenjue/opt/anaconda3/envs/peft/lib/python3.11/site-packages/torch/utils/checkpoint.py:429: UserWarning: torch.utils.checkpoint: please pass in use_reentrant=True or use_reentrant=False explicitly. The default value of use_reentrant will be updated to be False in the future. To maintain current behavior, pass use_reentrant=True. It is recommended that you use use_reentrant=False. Refer to docs for more details on the differences between the two variants.\r\n",
      "  warnings.warn(\r\n",
      "{'loss': 0.7016, 'learning_rate': 9.090909090909092e-05, 'epoch': 4.44}         \r\n",
      " 91%|█████████████████████████████████████▎   | 100/110 [22:30<01:32,  9.29s/it]/Users/wengbenjue/opt/anaconda3/envs/peft/lib/python3.11/site-packages/torch/utils/checkpoint.py:429: UserWarning: torch.utils.checkpoint: please pass in use_reentrant=True or use_reentrant=False explicitly. The default value of use_reentrant will be updated to be False in the future. To maintain current behavior, pass use_reentrant=True. It is recommended that you use use_reentrant=False. Refer to docs for more details on the differences between the two variants.\r\n",
      "  warnings.warn(\r\n",
      "{'loss': 0.6952, 'learning_rate': 0.0, 'epoch': 4.89}                           \r\n",
      "100%|█████████████████████████████████████████| 110/110 [24:03<00:00,  9.14s/it]\r\n",
      "  0%|                                                    | 0/30 [00:00<?, ?it/s]\u001B[A\r\n",
      "  7%|██▉                                         | 2/30 [00:00<00:07,  3.60it/s]\u001B[A\r\n",
      " 10%|████▍                                       | 3/30 [00:01<00:10,  2.52it/s]\u001B[A\r\n",
      " 13%|█████▊                                      | 4/30 [00:01<00:12,  2.16it/s]\u001B[A\r\n",
      " 17%|███████▎                                    | 5/30 [00:02<00:11,  2.09it/s]\u001B[A\r\n",
      " 20%|████████▊                                   | 6/30 [00:02<00:12,  1.98it/s]\u001B[A\r\n",
      " 23%|██████████▎                                 | 7/30 [00:03<00:12,  1.86it/s]\u001B[A\r\n",
      " 27%|███████████▋                                | 8/30 [00:03<00:12,  1.83it/s]\u001B[A\r\n",
      " 30%|█████████████▏                              | 9/30 [00:04<00:10,  1.95it/s]\u001B[A\r\n",
      " 33%|██████████████▎                            | 10/30 [00:04<00:10,  1.95it/s]\u001B[A\r\n",
      " 37%|███████████████▊                           | 11/30 [00:05<00:09,  1.91it/s]\u001B[A\r\n",
      " 40%|█████████████████▏                         | 12/30 [00:06<00:09,  1.84it/s]\u001B[A\r\n",
      " 43%|██████████████████▋                        | 13/30 [00:06<00:09,  1.84it/s]\u001B[A\r\n",
      " 47%|████████████████████                       | 14/30 [00:07<00:08,  1.81it/s]\u001B[A\r\n",
      " 50%|█████████████████████▌                     | 15/30 [00:07<00:08,  1.81it/s]\u001B[A\r\n",
      " 53%|██████████████████████▉                    | 16/30 [00:08<00:07,  1.79it/s]\u001B[A\r\n",
      " 57%|████████████████████████▎                  | 17/30 [00:08<00:07,  1.82it/s]\u001B[A\r\n",
      " 60%|█████████████████████████▊                 | 18/30 [00:09<00:06,  1.86it/s]\u001B[A\r\n",
      " 63%|███████████████████████████▏               | 19/30 [00:09<00:06,  1.83it/s]\u001B[A\r\n",
      " 67%|████████████████████████████▋              | 20/30 [00:10<00:05,  1.80it/s]\u001B[A\r\n",
      " 70%|██████████████████████████████             | 21/30 [00:10<00:04,  1.83it/s]\u001B[A\r\n",
      " 73%|███████████████████████████████▌           | 22/30 [00:11<00:04,  1.83it/s]\u001B[A\r\n",
      " 77%|████████████████████████████████▉          | 23/30 [00:12<00:03,  1.79it/s]\u001B[A\r\n",
      " 80%|██████████████████████████████████▍        | 24/30 [00:12<00:03,  1.79it/s]\u001B[A\r\n",
      " 83%|███████████████████████████████████▊       | 25/30 [00:13<00:02,  1.83it/s]\u001B[A\r\n",
      " 87%|█████████████████████████████████████▎     | 26/30 [00:13<00:02,  1.88it/s]\u001B[A\r\n",
      " 90%|██████████████████████████████████████▋    | 27/30 [00:14<00:01,  1.85it/s]\u001B[A\r\n",
      " 93%|████████████████████████████████████████▏  | 28/30 [00:14<00:01,  1.78it/s]\u001B[A\r\n",
      " 97%|█████████████████████████████████████████▌ | 29/30 [00:15<00:00,  1.78it/s]\u001B[A\r\n",
      "                                                                                \u001B[A\r\n",
      "\u001B[A{'eval_loss': 0.6976997256278992, 'eval_accuracy': 0.4774869109947644, 'eval_precision': 0.22799375017132206, 'eval_recall': 0.4774869109947644, 'eval_f1': 0.3086237156819455, 'eval_runtime': 16.3299, 'eval_samples_per_second': 116.963, 'eval_steps_per_second': 1.837, 'epoch': 4.89}\r\n",
      "100%|█████████████████████████████████████████| 110/110 [24:19<00:00,  9.14s/it]\r\n",
      "100%|███████████████████████████████████████████| 30/30 [00:15<00:00,  1.92it/s]\u001B[A\r\n",
      "{'train_runtime': 1459.8685, 'train_samples_per_second': 19.605, 'train_steps_per_second': 0.075, 'train_loss': 0.7179016893560236, 'epoch': 4.89}\r\n",
      "100%|█████████████████████████████████████████| 110/110 [24:19<00:00, 13.27s/it]\r\n"
     ]
    }
   ],
   "source": [
    "!python ../../../peft_train.py \\\n",
    "--model_name ../../../pretrain_models/bert-base-cased \\\n",
    "--max_seq_len 2048 \\\n",
    "--group_by_length \\\n",
    "--max_steps 200 \\\n",
    "--dataset_name ../../../text-classification/tweet_eval_irony \\\n",
    "--num_labels 2 \\\n",
    "--epochs 5 \\\n",
    "--learning_rate 1e-3 \\\n",
    "--model_type SEQ_CLS \\\n",
    "--output_model_path ./result/bert-base-cased-tweet_eval_irony \\\n",
    "--need_hyperparameters_search False \\\n",
    "--enable_peft False \\\n",
    "--bnb_4bit_compute_dtype float32 \\\n",
    "--use_4b False"
   ]
  },
  {
   "cell_type": "markdown",
   "metadata": {
    "collapsed": false
   },
   "source": [
    "### 1.2.2 Run code on GPU version\n",
    "Load the model together with the adapter with few lines of code! Check the snippet below to load the adapter from the Hub and run the example evaluation."
   ]
  },
  {
   "cell_type": "code",
   "execution_count": null,
   "metadata": {
    "collapsed": false
   },
   "outputs": [],
   "source": [
    "!pip install -q -U trl transformers accelerate git+https://github.com/huggingface/peft.git\n",
    "!pip install -q datasets bitsandbytes einops wandb evaluate\n",
    "from google.colab import drive\n",
    "drive.mount('/content/drive')\n",
    "%cd /content/drive/MyDrive/Colab Notebooks/llms-peft-cook-colab/experiments/bert-base-cased-full-finetune/tweet_eval_irony"
   ]
  },
  {
   "cell_type": "code",
   "execution_count": null,
   "metadata": {
    "collapsed": false,
    "is_executing": true
   },
   "outputs": [],
   "source": [
    "import os\n",
    "os.environ[\"CUDA_VISIBLE_DEVICES\"] = \"0\"\n",
    "!python ../../../peft_train.py \\\n",
    "--model_name bert-base-cased \\\n",
    "--max_seq_len 2048 \\\n",
    "--group_by_length \\\n",
    "--max_steps 200 \\\n",
    "--dataset_name ../../../text-classification/tweet_eval_irony \\\n",
    "--num_labels 2 \\\n",
    "--epochs 5 \\\n",
    "--learning_rate 1e-3\\\n",
    "--model_type SEQ_CLS \\\n",
    "--output_model_path ./result/bert-base-cased-tweet_eval_irony \\\n",
    "--bnb_4bit_compute_dtype float16 \\\n",
    "--need_hyperparameters_search False \\\n",
    "--enable_peft False \\\n",
    "--use_4b False"
   ]
  },
  {
   "cell_type": "markdown",
   "metadata": {
    "collapsed": false
   },
   "source": [
    "# Load your adapter from the Hub"
   ]
  },
  {
   "cell_type": "code",
   "execution_count": 7,
   "metadata": {
    "ExecuteTime": {
     "end_time": "2023-12-02T16:37:01.962850Z",
     "start_time": "2023-12-02T16:37:01.696535Z"
    },
    "collapsed": false
   },
   "outputs": [],
   "source": [
    "import torch\n",
    "from peft import PeftModel, PeftConfig\n",
    "from transformers import AutoModelForSeq2SeqLM, AutoTokenizer\n",
    "\n",
    "peft_model_id = \"./result/flan-t5-cup-lora\"\n",
    "base_model_name_or_path = '.../../../pretrain_models/google-flan-t5-small'\n",
    "config = PeftConfig.from_pretrained(peft_model_id)\n",
    "\n",
    "# model = AutoModelForSeq2SeqLM.from_pretrained(config.base_model_name_or_path, torch_dtype=\"auto\", device_map=\"auto\")\n",
    "model = AutoModelForSeq2SeqLM.from_pretrained(config.base_model_name_or_path, torch_dtype=\"auto\", device_map=\"cpu\")\n",
    "tokenizer = AutoTokenizer.from_pretrained(config.base_model_name_or_path)\n",
    "\n",
    "# Load the Lora model\n",
    "model = PeftModel.from_pretrained(model, peft_model_id)"
   ]
  },
  {
   "cell_type": "code",
   "execution_count": 9,
   "metadata": {
    "ExecuteTime": {
     "end_time": "2023-12-02T16:40:55.202266Z",
     "start_time": "2023-12-02T16:40:55.100686Z"
    },
    "collapsed": false
   },
   "outputs": [
    {
     "name": "stdout",
     "output_type": "stream",
     "text": [
      "input sentence:  In January-September 2009 , the Group 's net interest income increased to EUR 112.4 mn from EUR 74.3 mn in January-September 2008 .\n",
      " output prediction:  ['positive positive positive positive positive positive positive positive positive positive']\n"
     ]
    }
   ],
   "source": [
    "model.eval()\n",
    "input_text = \"In January-September 2009 , the Group 's net interest income increased to EUR 112.4 mn from EUR 74.3 mn in January-September 2008 .\"\n",
    "inputs = tokenizer(input_text, return_tensors=\"pt\")\n",
    "\n",
    "outputs = model.generate(input_ids=inputs[\"input_ids\"], max_new_tokens=10)\n",
    "\n",
    "print(\"input sentence: \", input_text)\n",
    "print(\" output prediction: \", tokenizer.batch_decode(outputs.detach().cpu().numpy(), skip_special_tokens=True))"
   ]
  },
  {
   "cell_type": "code",
   "execution_count": 8,
   "metadata": {
    "ExecuteTime": {
     "end_time": "2023-12-02T16:37:04.919570Z",
     "start_time": "2023-12-02T16:37:04.379496Z"
    },
    "collapsed": false
   },
   "outputs": [
    {
     "name": "stdout",
     "output_type": "stream",
     "text": [
      "input sentence:  In January-September 2009 , the Group 's net interest income increased to EUR 112.4 mn from EUR 74.3 mn in January-September 2008 .\n",
      " output prediction:  ['positive positive positive positive positive positive positive positive positive positive']\n"
     ]
    }
   ],
   "source": [
    "model.eval()\n",
    "input_text = \"In January-September 2009 , the Group 's net interest income increased to EUR 112.4 mn from EUR 74.3 mn in January-September 2008 .\"\n",
    "inputs = tokenizer(input_text, return_tensors=\"pt\")\n",
    "\n",
    "outputs = model.generate(input_ids=inputs[\"input_ids\"], max_new_tokens=10)\n",
    "\n",
    "print(\"input sentence: \", input_text)\n",
    "print(\" output prediction: \", tokenizer.batch_decode(outputs.detach().cpu().numpy(), skip_special_tokens=True))"
   ]
  },
  {
   "cell_type": "markdown",
   "metadata": {
    "collapsed": false
   },
   "source": [
    "## 1.3 Experimental Result"
   ]
  },
  {
   "cell_type": "code",
   "execution_count": null,
   "metadata": {
    "collapsed": false,
    "is_executing": true
   },
   "outputs": [],
   "source": [
    "class HTMLRender:\n",
    "    def __init__(self,html_str):\n",
    "        self.html_str =html_str\n",
    "    def _repr_html_(self):\n",
    "       return self.html_str\n"
   ]
  },
  {
   "cell_type": "code",
   "execution_count": null,
   "metadata": {
    "collapsed": false,
    "is_executing": true
   },
   "outputs": [],
   "source": [
    "model_accurcy_html = '''\n",
    "<table>\n",
    "  <tr>\n",
    "    <th>eval loss</th>\n",
    "    <th>eval accuracy</th>\n",
    "    <th>eval precision</th>\n",
    "    <th>eval recall</th>\n",
    "    <th>eval f1</th>\n",
    "  </tr>\n",
    "  <tr>\n",
    "    <td style=\"background-color:#4C72B0;\">0.102</td>\n",
    "    <td style=\"background-color:#55A868;\">0.896</td>\n",
    "    <td style=\"background-color:#C44E52;\">0.90</td>\n",
    "     <td style=\"background-color:#8172B2;\">0.896</td>\n",
    "    <td style=\"background-color:#64B5CD;\">0.894</td>\n",
    "  </tr>\n",
    "\n",
    "</table>\n",
    "\n",
    "       '''\n",
    "HTMLRender(model_accurcy_html)"
   ]
  },
  {
   "cell_type": "code",
   "execution_count": null,
   "metadata": {
    "collapsed": false,
    "is_executing": true
   },
   "outputs": [],
   "source": [
    "accuracy_html = '''\n",
    "<img src=\"./image/flan-t5-small-accuracy.png\" alt=\"flan-t5-small-accuracy\" width=\"70%\">\n",
    "'''\n",
    "HTMLRender(accuracy_html)"
   ]
  },
  {
   "cell_type": "code",
   "execution_count": null,
   "metadata": {
    "collapsed": false
   },
   "outputs": [],
   "source": [
    "## Load your adapter from the Hub\n"
   ]
  }
 ],
 "metadata": {
  "kernelspec": {
   "display_name": "Python 3",
   "language": "python",
   "name": "python3"
  },
  "language_info": {
   "codemirror_mode": {
    "name": "ipython",
    "version": 2
   },
   "file_extension": ".py",
   "mimetype": "text/x-python",
   "name": "python",
   "nbconvert_exporter": "python",
   "pygments_lexer": "ipython2",
   "version": "2.7.6"
  }
 },
 "nbformat": 4,
 "nbformat_minor": 0
}
