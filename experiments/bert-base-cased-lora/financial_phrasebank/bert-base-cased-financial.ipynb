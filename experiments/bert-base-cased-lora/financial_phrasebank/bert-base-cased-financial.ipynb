{
 "cells": [
  {
   "cell_type": "markdown",
   "metadata": {
    "collapsed": false
   },
   "source": [
    "Finetuning the model on financial_phrasebank dataset, that consists of pairs of text-labels to classify financial-related sentences, if they are either <span style=\"color: red;\">positive</span>, <span style=\"color: purple;\">neutral</span> or <span style=\"color: green;\">negative</span>."
   ]
  },
  {
   "cell_type": "markdown",
   "metadata": {
    "collapsed": false
   },
   "source": [
    "# 1.Experimental Setup1"
   ]
  },
  {
   "cell_type": "markdown",
   "metadata": {
    "collapsed": false
   },
   "source": [
    "## 1.1 Setup"
   ]
  },
  {
   "cell_type": "markdown",
   "metadata": {
    "collapsed": false
   },
   "source": [
    "## 1.2 Training"
   ]
  },
  {
   "cell_type": "markdown",
   "metadata": {
    "collapsed": false
   },
   "source": [
    "### 1.2.1 Run code on CPU version"
   ]
  },
  {
   "cell_type": "code",
   "execution_count": null,
   "metadata": {
    "collapsed": false,
    "is_executing": true
   },
   "outputs": [],
   "source": [
    "!pwd"
   ]
  },
  {
   "cell_type": "code",
   "execution_count": 1,
   "metadata": {
    "ExecuteTime": {
     "end_time": "2023-12-04T06:59:01.736697Z",
     "start_time": "2023-12-04T03:54:11.150309Z"
    },
    "collapsed": false
   },
   "outputs": [
    {
     "name": "stdout",
     "output_type": "stream",
     "text": [
      "/Users/wengbenjue/opt/anaconda3/envs/peft/lib/python3.11/site-packages/bitsandbytes/cextension.py:34: UserWarning: The installed version of bitsandbytes was compiled without GPU support. 8-bit optimizers, 8-bit multiplication, and GPU quantization are unavailable.\n",
      "  warn(\"The installed version of bitsandbytes was compiled without GPU support. \"\n",
      "'NoneType' object has no attribute 'cadam32bit_grad_fp32'\n",
      "/Users/wengbenjue/opt/anaconda3/envs/peft/lib/python3.11/site-packages/trl/trainer/ppo_config.py:141: UserWarning: The `optimize_cuda_cache` arguement will be deprecated soon, please use `optimize_device_cache` instead.\n",
      "  warnings.warn(\n",
      "Some weights of BertForSequenceClassification were not initialized from the model checkpoint at ../../../pretrain_models/bert-base-cased and are newly initialized: ['classifier.bias', 'classifier.weight']\n",
      "You should probably TRAIN this model on a down-stream task to be able to use it for predictions and inference.\n",
      "use AutoModelForSequenceClassification load bert model.\n",
      "trainable params: 2361603 || all params: 110674182 || trainable%: 2.1338337065820827\n",
      "tokenizer padding setting: [PAD]\n",
      "Sentence: N-Viro operates processing facilities independently as well as in partnership with municipalities .\n",
      "Map: 100%|██████████████████████████| 453/453 [00:00<00:00, 20189.78 examples/s]\n",
      "  0%|                                                  | 0/1270 [00:00<?, ?it/s]/Users/wengbenjue/opt/anaconda3/envs/peft/lib/python3.11/site-packages/torch/utils/checkpoint.py:429: UserWarning: torch.utils.checkpoint: please pass in use_reentrant=True or use_reentrant=False explicitly. The default value of use_reentrant will be updated to be False in the future. To maintain current behavior, pass use_reentrant=True. It is recommended that you use use_reentrant=False. Refer to docs for more details on the differences between the two variants.\n",
      "  warnings.warn(\n",
      "{'loss': 1.0233, 'learning_rate': 0.0009921259842519685, 'epoch': 0.04}         \n",
      "{'loss': 0.6645, 'learning_rate': 0.000984251968503937, 'epoch': 0.08}          \n",
      "{'loss': 0.5642, 'learning_rate': 0.0009763779527559056, 'epoch': 0.12}         \n",
      "{'loss': 0.6033, 'learning_rate': 0.000968503937007874, 'epoch': 0.16}          \n",
      "{'loss': 0.4349, 'learning_rate': 0.0009606299212598425, 'epoch': 0.2}          \n",
      "{'loss': 0.5181, 'learning_rate': 0.000952755905511811, 'epoch': 0.24}          \n",
      "{'loss': 0.5488, 'learning_rate': 0.0009448818897637795, 'epoch': 0.27}         \n",
      "{'loss': 0.4627, 'learning_rate': 0.000937007874015748, 'epoch': 0.31}          \n",
      "{'loss': 0.4196, 'learning_rate': 0.0009291338582677166, 'epoch': 0.35}         \n",
      "{'loss': 0.3194, 'learning_rate': 0.0009212598425196851, 'epoch': 0.39}         \n",
      "  8%|███▏                                    | 100/1270 [00:57<11:34,  1.68it/s]/Users/wengbenjue/opt/anaconda3/envs/peft/lib/python3.11/site-packages/torch/utils/checkpoint.py:429: UserWarning: torch.utils.checkpoint: please pass in use_reentrant=True or use_reentrant=False explicitly. The default value of use_reentrant will be updated to be False in the future. To maintain current behavior, pass use_reentrant=True. It is recommended that you use use_reentrant=False. Refer to docs for more details on the differences between the two variants.\n",
      "  warnings.warn(\n",
      "{'loss': 0.428, 'learning_rate': 0.0009133858267716536, 'epoch': 0.43}          \n",
      "{'loss': 0.2202, 'learning_rate': 0.000905511811023622, 'epoch': 0.47}          \n",
      "{'loss': 0.1344, 'learning_rate': 0.0008976377952755906, 'epoch': 0.51}         \n",
      "{'loss': 0.1868, 'learning_rate': 0.000889763779527559, 'epoch': 0.55}          \n",
      "{'loss': 0.2798, 'learning_rate': 0.0008818897637795275, 'epoch': 0.59}         \n",
      "{'loss': 0.3078, 'learning_rate': 0.0008740157480314961, 'epoch': 0.63}         \n",
      "{'loss': 0.1892, 'learning_rate': 0.0008661417322834646, 'epoch': 0.67}         \n",
      "{'loss': 0.2095, 'learning_rate': 0.0008582677165354331, 'epoch': 0.71}         \n",
      "{'loss': 0.1556, 'learning_rate': 0.0008503937007874016, 'epoch': 0.75}         \n",
      "{'loss': 0.1734, 'learning_rate': 0.0008425196850393701, 'epoch': 0.79}         \n",
      " 16%|██████▎                                 | 200/1270 [01:54<09:25,  1.89it/s]/Users/wengbenjue/opt/anaconda3/envs/peft/lib/python3.11/site-packages/torch/utils/checkpoint.py:429: UserWarning: torch.utils.checkpoint: please pass in use_reentrant=True or use_reentrant=False explicitly. The default value of use_reentrant will be updated to be False in the future. To maintain current behavior, pass use_reentrant=True. It is recommended that you use use_reentrant=False. Refer to docs for more details on the differences between the two variants.\n",
      "  warnings.warn(\n",
      "{'loss': 0.0624, 'learning_rate': 0.0008346456692913386, 'epoch': 0.82}         \n",
      "{'loss': 0.0863, 'learning_rate': 0.000826771653543307, 'epoch': 0.86}          \n",
      "{'loss': 0.3395, 'learning_rate': 0.0008188976377952756, 'epoch': 0.9}          \n",
      "{'loss': 0.2436, 'learning_rate': 0.0008110236220472441, 'epoch': 0.94}         \n",
      "{'loss': 0.2565, 'learning_rate': 0.0008031496062992126, 'epoch': 0.98}         \n",
      " 20%|████████                                | 254/1270 [02:23<09:37,  1.76it/s]\n",
      "  0%|                                                    | 0/57 [00:00<?, ?it/s]\u001B[A\n",
      "  4%|█▌                                          | 2/57 [00:00<00:03, 14.11it/s]\u001B[A\n",
      "  7%|███                                         | 4/57 [00:00<00:05,  9.06it/s]\u001B[A\n",
      " 11%|████▋                                       | 6/57 [00:00<00:06,  8.18it/s]\u001B[A\n",
      " 12%|█████▍                                      | 7/57 [00:00<00:06,  7.95it/s]\u001B[A\n",
      " 14%|██████▏                                     | 8/57 [00:00<00:06,  7.78it/s]\u001B[A\n",
      " 16%|██████▉                                     | 9/57 [00:01<00:06,  7.56it/s]\u001B[A\n",
      " 18%|███████▌                                   | 10/57 [00:01<00:06,  7.45it/s]\u001B[A\n",
      " 19%|████████▎                                  | 11/57 [00:01<00:06,  7.36it/s]\u001B[A\n",
      " 21%|█████████                                  | 12/57 [00:01<00:06,  7.28it/s]\u001B[A\n",
      " 23%|█████████▊                                 | 13/57 [00:01<00:06,  7.25it/s]\u001B[A\n",
      " 25%|██████████▌                                | 14/57 [00:01<00:05,  7.28it/s]\u001B[A\n",
      " 26%|███████████▎                               | 15/57 [00:01<00:05,  7.28it/s]\u001B[A\n",
      " 28%|████████████                               | 16/57 [00:02<00:05,  7.30it/s]\u001B[A\n",
      " 30%|████████████▊                              | 17/57 [00:02<00:05,  7.31it/s]\u001B[A\n",
      " 32%|█████████████▌                             | 18/57 [00:02<00:05,  7.29it/s]\u001B[A\n",
      " 33%|██████████████▎                            | 19/57 [00:02<00:05,  7.30it/s]\u001B[A\n",
      " 35%|███████████████                            | 20/57 [00:02<00:05,  7.28it/s]\u001B[A\n",
      " 37%|███████████████▊                           | 21/57 [00:02<00:04,  7.24it/s]\u001B[A\n",
      " 39%|████████████████▌                          | 22/57 [00:02<00:04,  7.29it/s]\u001B[A\n",
      " 40%|█████████████████▎                         | 23/57 [00:03<00:04,  7.26it/s]\u001B[A\n",
      " 42%|██████████████████                         | 24/57 [00:03<00:04,  7.23it/s]\u001B[A\n",
      " 44%|██████████████████▊                        | 25/57 [00:03<00:04,  7.19it/s]\u001B[A\n",
      " 46%|███████████████████▌                       | 26/57 [00:03<00:04,  7.21it/s]\u001B[A\n",
      " 47%|████████████████████▎                      | 27/57 [00:03<00:04,  7.22it/s]\u001B[A\n",
      " 49%|█████████████████████                      | 28/57 [00:03<00:03,  7.27it/s]\u001B[A\n",
      " 51%|█████████████████████▉                     | 29/57 [00:03<00:03,  7.25it/s]\u001B[A\n",
      " 53%|██████████████████████▋                    | 30/57 [00:04<00:03,  7.20it/s]\u001B[A\n",
      " 54%|███████████████████████▍                   | 31/57 [00:04<00:03,  7.24it/s]\u001B[A\n",
      " 56%|████████████████████████▏                  | 32/57 [00:04<00:03,  7.22it/s]\u001B[A\n",
      " 58%|████████████████████████▉                  | 33/57 [00:04<00:03,  7.18it/s]\u001B[A\n",
      " 60%|█████████████████████████▋                 | 34/57 [00:04<00:03,  7.15it/s]\u001B[A\n",
      " 61%|██████████████████████████▍                | 35/57 [00:04<00:03,  7.11it/s]\u001B[A\n",
      " 63%|███████████████████████████▏               | 36/57 [00:04<00:02,  7.13it/s]\u001B[A\n",
      " 65%|███████████████████████████▉               | 37/57 [00:04<00:02,  7.17it/s]\u001B[A\n",
      " 67%|████████████████████████████▋              | 38/57 [00:05<00:02,  7.15it/s]\u001B[A\n",
      " 68%|█████████████████████████████▍             | 39/57 [00:05<00:02,  7.20it/s]\u001B[A\n",
      " 70%|██████████████████████████████▏            | 40/57 [00:05<00:02,  7.13it/s]\u001B[A\n",
      " 72%|██████████████████████████████▉            | 41/57 [00:05<00:02,  7.10it/s]\u001B[A\n",
      " 74%|███████████████████████████████▋           | 42/57 [00:05<00:02,  7.01it/s]\u001B[A\n",
      " 75%|████████████████████████████████▍          | 43/57 [00:05<00:01,  7.06it/s]\u001B[A\n",
      " 77%|█████████████████████████████████▏         | 44/57 [00:05<00:01,  7.06it/s]\u001B[A\n",
      " 79%|█████████████████████████████████▉         | 45/57 [00:06<00:01,  6.99it/s]\u001B[A\n",
      " 81%|██████████████████████████████████▋        | 46/57 [00:06<00:01,  6.92it/s]\u001B[A\n",
      " 82%|███████████████████████████████████▍       | 47/57 [00:06<00:01,  7.00it/s]\u001B[A\n",
      " 84%|████████████████████████████████████▏      | 48/57 [00:06<00:01,  7.01it/s]\u001B[A\n",
      " 86%|████████████████████████████████████▉      | 49/57 [00:06<00:01,  7.00it/s]\u001B[A\n",
      " 88%|█████████████████████████████████████▋     | 50/57 [00:06<00:00,  7.01it/s]\u001B[A\n",
      " 89%|██████████████████████████████████████▍    | 51/57 [00:06<00:00,  7.05it/s]\u001B[A\n",
      " 91%|███████████████████████████████████████▏   | 52/57 [00:07<00:00,  6.88it/s]\u001B[A\n",
      " 93%|███████████████████████████████████████▉   | 53/57 [00:07<00:00,  6.88it/s]\u001B[A\n",
      " 95%|████████████████████████████████████████▋  | 54/57 [00:07<00:00,  6.89it/s]\u001B[A\n",
      " 96%|█████████████████████████████████████████▍ | 55/57 [00:07<00:00,  6.86it/s]\u001B[A\n",
      " 98%|██████████████████████████████████████████▏| 56/57 [00:07<00:00,  6.93it/s]\u001B[A\n",
      "                                                                                \u001B[A\n",
      "\u001B[A{'eval_loss': 0.08436259627342224, 'eval_accuracy': 0.9757174392935982, 'eval_precision': 0.9758347548555895, 'eval_recall': 0.9757174392935982, 'eval_f1': 0.9756054036044756, 'eval_runtime': 10.0087, 'eval_samples_per_second': 45.261, 'eval_steps_per_second': 5.695, 'epoch': 1.0}\n",
      " 20%|████████                                | 254/1270 [02:35<09:37,  1.76it/s]\n",
      "100%|███████████████████████████████████████████| 57/57 [00:08<00:00,  2.13it/s]\u001B[A\n",
      "                                                                                \u001B[A/Users/wengbenjue/opt/anaconda3/envs/peft/lib/python3.11/site-packages/torch/utils/checkpoint.py:429: UserWarning: torch.utils.checkpoint: please pass in use_reentrant=True or use_reentrant=False explicitly. The default value of use_reentrant will be updated to be False in the future. To maintain current behavior, pass use_reentrant=True. It is recommended that you use use_reentrant=False. Refer to docs for more details on the differences between the two variants.\n",
      "  warnings.warn(\n",
      "{'loss': 0.1646, 'learning_rate': 0.0007952755905511811, 'epoch': 1.02}         \n",
      "{'loss': 0.0126, 'learning_rate': 0.0007874015748031497, 'epoch': 1.06}         \n",
      "{'loss': 0.1769, 'learning_rate': 0.0007795275590551181, 'epoch': 1.1}          \n",
      "{'loss': 0.1391, 'learning_rate': 0.0007716535433070866, 'epoch': 1.14}         \n",
      "{'loss': 0.1042, 'learning_rate': 0.0007637795275590551, 'epoch': 1.18}         \n",
      " 24%|█████████▍                              | 300/1270 [03:01<09:11,  1.76it/s]/Users/wengbenjue/opt/anaconda3/envs/peft/lib/python3.11/site-packages/torch/utils/checkpoint.py:429: UserWarning: torch.utils.checkpoint: please pass in use_reentrant=True or use_reentrant=False explicitly. The default value of use_reentrant will be updated to be False in the future. To maintain current behavior, pass use_reentrant=True. It is recommended that you use use_reentrant=False. Refer to docs for more details on the differences between the two variants.\n",
      "  warnings.warn(\n",
      "{'loss': 0.1865, 'learning_rate': 0.0007559055118110237, 'epoch': 1.22}         \n",
      "{'loss': 0.1734, 'learning_rate': 0.0007480314960629921, 'epoch': 1.26}         \n",
      "{'loss': 0.1792, 'learning_rate': 0.0007401574803149606, 'epoch': 1.3}          \n",
      "{'loss': 0.1089, 'learning_rate': 0.0007322834645669292, 'epoch': 1.33}         \n",
      "{'loss': 0.1286, 'learning_rate': 0.0007244094488188977, 'epoch': 1.37}         \n",
      "{'loss': 0.0628, 'learning_rate': 0.0007165354330708661, 'epoch': 1.41}         \n",
      "{'loss': 0.0828, 'learning_rate': 0.0007086614173228346, 'epoch': 1.45}         \n",
      "{'loss': 0.0781, 'learning_rate': 0.0007007874015748032, 'epoch': 1.49}         \n",
      "{'loss': 0.16, 'learning_rate': 0.0006929133858267717, 'epoch': 1.53}           \n",
      "{'loss': 0.0608, 'learning_rate': 0.0006850393700787401, 'epoch': 1.57}         \n",
      " 31%|████████████▌                           | 400/1270 [04:03<08:14,  1.76it/s]/Users/wengbenjue/opt/anaconda3/envs/peft/lib/python3.11/site-packages/torch/utils/checkpoint.py:429: UserWarning: torch.utils.checkpoint: please pass in use_reentrant=True or use_reentrant=False explicitly. The default value of use_reentrant will be updated to be False in the future. To maintain current behavior, pass use_reentrant=True. It is recommended that you use use_reentrant=False. Refer to docs for more details on the differences between the two variants.\n",
      "  warnings.warn(\n",
      "{'loss': 0.1216, 'learning_rate': 0.0006771653543307087, 'epoch': 1.61}         \n",
      "{'loss': 0.0989, 'learning_rate': 0.0006692913385826772, 'epoch': 1.65}         \n",
      "{'loss': 0.0942, 'learning_rate': 0.0006614173228346457, 'epoch': 1.69}         \n",
      "{'loss': 0.0091, 'learning_rate': 0.0006535433070866141, 'epoch': 1.73}         \n",
      "{'loss': 0.0909, 'learning_rate': 0.0006456692913385827, 'epoch': 1.77}         \n",
      "{'loss': 0.107, 'learning_rate': 0.0006377952755905512, 'epoch': 1.81}          \n",
      "{'loss': 0.0764, 'learning_rate': 0.0006299212598425197, 'epoch': 1.84}         \n",
      "{'loss': 0.0533, 'learning_rate': 0.0006220472440944882, 'epoch': 1.88}         \n",
      "{'loss': 0.0505, 'learning_rate': 0.0006141732283464567, 'epoch': 1.92}         \n",
      "{'loss': 0.0243, 'learning_rate': 0.0006062992125984252, 'epoch': 1.96}         \n",
      " 39%|███████████████▋                        | 500/1270 [05:04<10:01,  1.28it/s]/Users/wengbenjue/opt/anaconda3/envs/peft/lib/python3.11/site-packages/torch/utils/checkpoint.py:429: UserWarning: torch.utils.checkpoint: please pass in use_reentrant=True or use_reentrant=False explicitly. The default value of use_reentrant will be updated to be False in the future. To maintain current behavior, pass use_reentrant=True. It is recommended that you use use_reentrant=False. Refer to docs for more details on the differences between the two variants.\n",
      "  warnings.warn(\n",
      " 40%|████████████████                        | 509/1270 [05:12<10:39,  1.19it/s]\n",
      "  0%|                                                    | 0/57 [00:00<?, ?it/s]\u001B[A\n",
      "  5%|██▎                                         | 3/57 [00:00<00:02, 18.13it/s]\u001B[A\n",
      "  9%|███▊                                        | 5/57 [00:00<00:03, 14.63it/s]\u001B[A\n",
      " 12%|█████▍                                      | 7/57 [00:00<00:03, 13.52it/s]\u001B[A\n",
      " 16%|██████▉                                     | 9/57 [00:00<00:03, 12.59it/s]\u001B[A\n",
      " 19%|████████▎                                  | 11/57 [00:00<00:03, 12.68it/s]\u001B[A\n",
      " 23%|█████████▊                                 | 13/57 [00:00<00:03, 12.41it/s]\u001B[A\n",
      " 26%|███████████▎                               | 15/57 [00:01<00:03, 12.36it/s]\u001B[A\n",
      " 30%|████████████▊                              | 17/57 [00:01<00:03, 12.07it/s]\u001B[A\n",
      " 33%|██████████████▎                            | 19/57 [00:01<00:03, 12.22it/s]\u001B[A\n",
      " 37%|███████████████▊                           | 21/57 [00:01<00:02, 12.18it/s]\u001B[A\n",
      " 40%|█████████████████▎                         | 23/57 [00:01<00:02, 12.42it/s]\u001B[A\n",
      " 44%|██████████████████▊                        | 25/57 [00:01<00:02, 12.46it/s]\u001B[A\n",
      " 47%|████████████████████▎                      | 27/57 [00:02<00:02, 12.41it/s]\u001B[A\n",
      " 51%|█████████████████████▉                     | 29/57 [00:02<00:02, 12.37it/s]\u001B[A\n",
      " 54%|███████████████████████▍                   | 31/57 [00:02<00:02, 12.40it/s]\u001B[A\n",
      " 58%|████████████████████████▉                  | 33/57 [00:02<00:01, 12.42it/s]\u001B[A\n",
      " 61%|██████████████████████████▍                | 35/57 [00:02<00:01, 12.51it/s]\u001B[A\n",
      " 65%|███████████████████████████▉               | 37/57 [00:02<00:01, 12.95it/s]\u001B[A\n",
      " 68%|█████████████████████████████▍             | 39/57 [00:03<00:01, 13.33it/s]\u001B[A\n",
      " 72%|██████████████████████████████▉            | 41/57 [00:03<00:01, 13.76it/s]\u001B[A\n",
      " 75%|████████████████████████████████▍          | 43/57 [00:03<00:00, 14.01it/s]\u001B[A\n",
      " 79%|█████████████████████████████████▉         | 45/57 [00:03<00:00, 14.06it/s]\u001B[A\n",
      " 82%|███████████████████████████████████▍       | 47/57 [00:03<00:00, 14.34it/s]\u001B[A\n",
      " 86%|████████████████████████████████████▉      | 49/57 [00:03<00:00, 14.75it/s]\u001B[A\n",
      " 89%|██████████████████████████████████████▍    | 51/57 [00:03<00:00, 14.75it/s]\u001B[A\n",
      " 93%|███████████████████████████████████████▉   | 53/57 [00:03<00:00, 14.82it/s]\u001B[A\n",
      " 96%|█████████████████████████████████████████▍ | 55/57 [00:04<00:00, 14.72it/s]\u001B[A\n",
      "                                                                                \u001B[A\n",
      "\u001B[A{'eval_loss': 0.07980373501777649, 'eval_accuracy': 0.9823399558498896, 'eval_precision': 0.9827019269629037, 'eval_recall': 0.9823399558498896, 'eval_f1': 0.9822515275526209, 'eval_runtime': 4.3386, 'eval_samples_per_second': 104.412, 'eval_steps_per_second': 13.138, 'epoch': 2.0}\n",
      " 40%|████████████████                        | 509/1270 [05:16<10:39,  1.19it/s]\n",
      "100%|███████████████████████████████████████████| 57/57 [00:04<00:00, 15.38it/s]\u001B[A\n",
      "                                                                                \u001B[A/Users/wengbenjue/opt/anaconda3/envs/peft/lib/python3.11/site-packages/torch/utils/checkpoint.py:429: UserWarning: torch.utils.checkpoint: please pass in use_reentrant=True or use_reentrant=False explicitly. The default value of use_reentrant will be updated to be False in the future. To maintain current behavior, pass use_reentrant=True. It is recommended that you use use_reentrant=False. Refer to docs for more details on the differences between the two variants.\n",
      "  warnings.warn(\n",
      "{'loss': 0.0485, 'learning_rate': 0.0005984251968503937, 'epoch': 2.0}          \n",
      "{'loss': 0.0447, 'learning_rate': 0.0005905511811023622, 'epoch': 2.04}         \n",
      "{'loss': 0.1036, 'learning_rate': 0.0005826771653543307, 'epoch': 2.08}         \n",
      "{'loss': 0.0117, 'learning_rate': 0.0005748031496062992, 'epoch': 2.12}         \n",
      "{'loss': 0.0708, 'learning_rate': 0.0005669291338582678, 'epoch': 2.16}         \n",
      "{'loss': 0.0637, 'learning_rate': 0.0005590551181102363, 'epoch': 2.2}          \n",
      "{'loss': 0.0347, 'learning_rate': 0.0005511811023622047, 'epoch': 2.24}         \n",
      "{'loss': 0.018, 'learning_rate': 0.0005433070866141732, 'epoch': 2.28}          \n",
      "{'loss': 0.0522, 'learning_rate': 0.0005354330708661418, 'epoch': 2.32}         \n",
      "{'loss': 0.0046, 'learning_rate': 0.0005275590551181102, 'epoch': 2.36}         \n",
      " 47%|██████████████████▉                     | 600/1270 [06:22<08:17,  1.35it/s]/Users/wengbenjue/opt/anaconda3/envs/peft/lib/python3.11/site-packages/torch/utils/checkpoint.py:429: UserWarning: torch.utils.checkpoint: please pass in use_reentrant=True or use_reentrant=False explicitly. The default value of use_reentrant will be updated to be False in the future. To maintain current behavior, pass use_reentrant=True. It is recommended that you use use_reentrant=False. Refer to docs for more details on the differences between the two variants.\n",
      "  warnings.warn(\n",
      "{'loss': 0.0372, 'learning_rate': 0.0005196850393700787, 'epoch': 2.39}         \n",
      "{'loss': 0.0871, 'learning_rate': 0.0005118110236220473, 'epoch': 2.43}         \n",
      "{'loss': 0.0398, 'learning_rate': 0.0005039370078740158, 'epoch': 2.47}         \n",
      "{'loss': 0.0454, 'learning_rate': 0.0004960629921259843, 'epoch': 2.51}         \n",
      "{'loss': 0.0053, 'learning_rate': 0.0004881889763779528, 'epoch': 2.55}         \n",
      "{'loss': 0.0423, 'learning_rate': 0.00048031496062992123, 'epoch': 2.59}        \n",
      "{'loss': 0.1436, 'learning_rate': 0.00047244094488188977, 'epoch': 2.63}        \n",
      "{'loss': 0.0058, 'learning_rate': 0.0004645669291338583, 'epoch': 2.67}         \n",
      "{'loss': 0.0503, 'learning_rate': 0.0004566929133858268, 'epoch': 2.71}         \n",
      "{'loss': 0.0702, 'learning_rate': 0.0004488188976377953, 'epoch': 2.75}         \n",
      " 55%|██████████████████████                  | 700/1270 [07:43<07:17,  1.30it/s]/Users/wengbenjue/opt/anaconda3/envs/peft/lib/python3.11/site-packages/torch/utils/checkpoint.py:429: UserWarning: torch.utils.checkpoint: please pass in use_reentrant=True or use_reentrant=False explicitly. The default value of use_reentrant will be updated to be False in the future. To maintain current behavior, pass use_reentrant=True. It is recommended that you use use_reentrant=False. Refer to docs for more details on the differences between the two variants.\n",
      "  warnings.warn(\n",
      "{'loss': 0.0302, 'learning_rate': 0.00044094488188976377, 'epoch': 2.79}        \n",
      "{'loss': 0.0203, 'learning_rate': 0.0004330708661417323, 'epoch': 2.83}         \n",
      "{'loss': 0.0748, 'learning_rate': 0.0004251968503937008, 'epoch': 2.87}         \n",
      "{'loss': 0.0202, 'learning_rate': 0.0004173228346456693, 'epoch': 2.9}          \n",
      "{'loss': 0.0411, 'learning_rate': 0.0004094488188976378, 'epoch': 2.94}         \n",
      "{'loss': 0.0495, 'learning_rate': 0.0004015748031496063, 'epoch': 2.98}         \n",
      " 60%|████████████████████████                | 764/1270 [08:30<06:12,  1.36it/s]\n",
      "  0%|                                                    | 0/57 [00:00<?, ?it/s]\u001B[A\n",
      "  5%|██▎                                         | 3/57 [00:00<00:02, 20.85it/s]\u001B[A\n",
      " 11%|████▋                                       | 6/57 [00:00<00:03, 16.40it/s]\u001B[A\n",
      " 14%|██████▏                                     | 8/57 [00:00<00:03, 15.24it/s]\u001B[A\n",
      " 18%|███████▌                                   | 10/57 [00:00<00:03, 14.67it/s]\u001B[A\n",
      " 21%|█████████                                  | 12/57 [00:00<00:03, 14.02it/s]\u001B[A\n",
      " 25%|██████████▌                                | 14/57 [00:00<00:03, 14.04it/s]\u001B[A\n",
      " 28%|████████████                               | 16/57 [00:01<00:02, 14.17it/s]\u001B[A\n",
      " 32%|█████████████▌                             | 18/57 [00:01<00:02, 14.00it/s]\u001B[A\n",
      " 35%|███████████████                            | 20/57 [00:01<00:02, 13.84it/s]\u001B[A\n",
      " 39%|████████████████▌                          | 22/57 [00:01<00:02, 13.66it/s]\u001B[A\n",
      " 42%|██████████████████                         | 24/57 [00:01<00:02, 13.69it/s]\u001B[A\n",
      " 46%|███████████████████▌                       | 26/57 [00:01<00:02, 13.66it/s]\u001B[A\n",
      " 49%|█████████████████████                      | 28/57 [00:01<00:02, 13.82it/s]\u001B[A\n",
      " 53%|██████████████████████▋                    | 30/57 [00:02<00:01, 13.73it/s]\u001B[A\n",
      " 56%|████████████████████████▏                  | 32/57 [00:02<00:01, 13.55it/s]\u001B[A\n",
      " 60%|█████████████████████████▋                 | 34/57 [00:02<00:01, 13.47it/s]\u001B[A\n",
      " 63%|███████████████████████████▏               | 36/57 [00:02<00:01, 13.58it/s]\u001B[A\n",
      " 67%|████████████████████████████▋              | 38/57 [00:02<00:01, 13.60it/s]\u001B[A\n",
      " 70%|██████████████████████████████▏            | 40/57 [00:02<00:01, 13.70it/s]\u001B[A\n",
      " 74%|███████████████████████████████▋           | 42/57 [00:02<00:01, 13.89it/s]\u001B[A\n",
      " 77%|█████████████████████████████████▏         | 44/57 [00:03<00:00, 13.76it/s]\u001B[A\n",
      " 81%|██████████████████████████████████▋        | 46/57 [00:03<00:00, 13.70it/s]\u001B[A\n",
      " 84%|████████████████████████████████████▏      | 48/57 [00:03<00:00, 13.80it/s]\u001B[A\n",
      " 88%|█████████████████████████████████████▋     | 50/57 [00:03<00:00, 13.77it/s]\u001B[A\n",
      " 91%|███████████████████████████████████████▏   | 52/57 [00:03<00:00, 13.90it/s]\u001B[A\n",
      " 95%|████████████████████████████████████████▋  | 54/57 [00:03<00:00, 13.91it/s]\u001B[A\n",
      "                                                                                \u001B[A\n",
      "\u001B[A{'eval_loss': 0.05422640219330788, 'eval_accuracy': 0.9867549668874173, 'eval_precision': 0.9869652055082518, 'eval_recall': 0.9867549668874173, 'eval_f1': 0.9868182074088584, 'eval_runtime': 4.1411, 'eval_samples_per_second': 109.391, 'eval_steps_per_second': 13.764, 'epoch': 3.0}\n",
      " 60%|████████████████████████                | 764/1270 [08:35<06:12,  1.36it/s]\n",
      "100%|███████████████████████████████████████████| 57/57 [00:04<00:00, 13.63it/s]\u001B[A\n",
      "                                                                                \u001B[A/Users/wengbenjue/opt/anaconda3/envs/peft/lib/python3.11/site-packages/torch/utils/checkpoint.py:429: UserWarning: torch.utils.checkpoint: please pass in use_reentrant=True or use_reentrant=False explicitly. The default value of use_reentrant will be updated to be False in the future. To maintain current behavior, pass use_reentrant=True. It is recommended that you use use_reentrant=False. Refer to docs for more details on the differences between the two variants.\n",
      "  warnings.warn(\n",
      "{'loss': 0.0708, 'learning_rate': 0.00039370078740157485, 'epoch': 3.02}        \n",
      "{'loss': 0.0242, 'learning_rate': 0.0003858267716535433, 'epoch': 3.06}         \n",
      "{'loss': 0.0036, 'learning_rate': 0.0003779527559055118, 'epoch': 3.1}          \n",
      "{'loss': 0.0423, 'learning_rate': 0.0003700787401574803, 'epoch': 3.14}         \n",
      " 63%|█████████████████████████▏              | 800/1270 [09:03<04:14,  1.85it/s]/Users/wengbenjue/opt/anaconda3/envs/peft/lib/python3.11/site-packages/torch/utils/checkpoint.py:429: UserWarning: torch.utils.checkpoint: please pass in use_reentrant=True or use_reentrant=False explicitly. The default value of use_reentrant will be updated to be False in the future. To maintain current behavior, pass use_reentrant=True. It is recommended that you use use_reentrant=False. Refer to docs for more details on the differences between the two variants.\n",
      "  warnings.warn(\n",
      "{'loss': 0.0026, 'learning_rate': 0.00036220472440944885, 'epoch': 3.18}        \n",
      "{'loss': 0.1135, 'learning_rate': 0.0003543307086614173, 'epoch': 3.22}         \n",
      "{'loss': 0.023, 'learning_rate': 0.0003464566929133858, 'epoch': 3.26}          \n",
      "{'loss': 0.0171, 'learning_rate': 0.00033858267716535437, 'epoch': 3.3}         \n",
      "{'loss': 0.0333, 'learning_rate': 0.00033070866141732285, 'epoch': 3.34}        \n",
      "{'loss': 0.084, 'learning_rate': 0.00032283464566929134, 'epoch': 3.38}         \n",
      "{'loss': 0.0189, 'learning_rate': 0.00031496062992125983, 'epoch': 3.42}        \n",
      "{'loss': 0.0367, 'learning_rate': 0.00030708661417322837, 'epoch': 3.45}        \n",
      "{'loss': 0.0387, 'learning_rate': 0.00029921259842519685, 'epoch': 3.49}        \n",
      "{'loss': 0.0298, 'learning_rate': 0.00029133858267716534, 'epoch': 3.53}        \n",
      " 71%|████████████████████████████▎           | 900/1270 [09:53<03:03,  2.01it/s]/Users/wengbenjue/opt/anaconda3/envs/peft/lib/python3.11/site-packages/torch/utils/checkpoint.py:429: UserWarning: torch.utils.checkpoint: please pass in use_reentrant=True or use_reentrant=False explicitly. The default value of use_reentrant will be updated to be False in the future. To maintain current behavior, pass use_reentrant=True. It is recommended that you use use_reentrant=False. Refer to docs for more details on the differences between the two variants.\n",
      "  warnings.warn(\n",
      "{'loss': 0.0124, 'learning_rate': 0.0002834645669291339, 'epoch': 3.57}         \n",
      "{'loss': 0.0027, 'learning_rate': 0.00027559055118110237, 'epoch': 3.61}        \n",
      "{'loss': 0.0036, 'learning_rate': 0.0002677165354330709, 'epoch': 3.65}         \n",
      "{'loss': 0.003, 'learning_rate': 0.00025984251968503934, 'epoch': 3.69}         \n",
      "{'loss': 0.0015, 'learning_rate': 0.0002519685039370079, 'epoch': 3.73}         \n",
      "{'loss': 0.0931, 'learning_rate': 0.0002440944881889764, 'epoch': 3.77}         \n",
      "{'loss': 0.0009, 'learning_rate': 0.00023622047244094488, 'epoch': 3.81}        \n",
      "{'loss': 0.0341, 'learning_rate': 0.0002283464566929134, 'epoch': 3.85}         \n",
      "{'loss': 0.0333, 'learning_rate': 0.00022047244094488188, 'epoch': 3.89}        \n",
      "{'loss': 0.0662, 'learning_rate': 0.0002125984251968504, 'epoch': 3.93}         \n",
      " 79%|██████████████████████████████▋        | 1000/1270 [10:45<02:14,  2.01it/s]/Users/wengbenjue/opt/anaconda3/envs/peft/lib/python3.11/site-packages/torch/utils/checkpoint.py:429: UserWarning: torch.utils.checkpoint: please pass in use_reentrant=True or use_reentrant=False explicitly. The default value of use_reentrant will be updated to be False in the future. To maintain current behavior, pass use_reentrant=True. It is recommended that you use use_reentrant=False. Refer to docs for more details on the differences between the two variants.\n",
      "  warnings.warn(\n",
      "{'loss': 0.0026, 'learning_rate': 0.0002047244094488189, 'epoch': 3.96}         \n",
      " 80%|███████████████████████████████▎       | 1019/1270 [10:54<02:00,  2.08it/s]\n",
      "  0%|                                                    | 0/57 [00:00<?, ?it/s]\u001B[A\n",
      "  5%|██▎                                         | 3/57 [00:00<00:01, 28.79it/s]\u001B[A\n",
      " 11%|████▋                                       | 6/57 [00:00<00:02, 21.95it/s]\u001B[A\n",
      " 16%|██████▉                                     | 9/57 [00:00<00:02, 20.39it/s]\u001B[A\n",
      " 21%|█████████                                  | 12/57 [00:00<00:02, 20.17it/s]\u001B[A\n",
      " 26%|███████████▎                               | 15/57 [00:00<00:02, 19.46it/s]\u001B[A\n",
      " 30%|████████████▊                              | 17/57 [00:00<00:02, 19.28it/s]\u001B[A\n",
      " 33%|██████████████▎                            | 19/57 [00:00<00:01, 19.01it/s]\u001B[A\n",
      " 37%|███████████████▊                           | 21/57 [00:01<00:01, 18.70it/s]\u001B[A\n",
      " 42%|██████████████████                         | 24/57 [00:01<00:01, 18.95it/s]\u001B[A\n",
      " 46%|███████████████████▌                       | 26/57 [00:01<00:01, 18.86it/s]\u001B[A\n",
      " 49%|█████████████████████                      | 28/57 [00:01<00:01, 18.61it/s]\u001B[A\n",
      " 53%|██████████████████████▋                    | 30/57 [00:01<00:01, 18.59it/s]\u001B[A\n",
      " 56%|████████████████████████▏                  | 32/57 [00:01<00:01, 18.38it/s]\u001B[A\n",
      " 61%|██████████████████████████▍                | 35/57 [00:01<00:01, 18.84it/s]\u001B[A\n",
      " 65%|███████████████████████████▉               | 37/57 [00:01<00:01, 18.70it/s]\u001B[A\n",
      " 68%|█████████████████████████████▍             | 39/57 [00:02<00:00, 18.41it/s]\u001B[A\n",
      " 72%|██████████████████████████████▉            | 41/57 [00:02<00:00, 18.40it/s]\u001B[A\n",
      " 75%|████████████████████████████████▍          | 43/57 [00:02<00:00, 18.10it/s]\u001B[A\n",
      " 81%|██████████████████████████████████▋        | 46/57 [00:02<00:00, 18.54it/s]\u001B[A\n",
      " 84%|████████████████████████████████████▏      | 48/57 [00:02<00:00, 18.48it/s]\u001B[A\n",
      " 88%|█████████████████████████████████████▋     | 50/57 [00:02<00:00, 18.29it/s]\u001B[A\n",
      " 91%|███████████████████████████████████████▏   | 52/57 [00:02<00:00, 18.35it/s]\u001B[A\n",
      " 95%|████████████████████████████████████████▋  | 54/57 [00:02<00:00, 18.30it/s]\u001B[A\n",
      "                                                                                \u001B[A\n",
      "\u001B[A{'eval_loss': 0.02342943102121353, 'eval_accuracy': 0.9955849889624724, 'eval_precision': 0.9957251480430288, 'eval_recall': 0.9955849889624724, 'eval_f1': 0.9956010584431256, 'eval_runtime': 3.0504, 'eval_samples_per_second': 148.506, 'eval_steps_per_second': 18.686, 'epoch': 4.0}\n",
      " 80%|███████████████████████████████▎       | 1019/1270 [10:57<02:00,  2.08it/s]\n",
      "100%|███████████████████████████████████████████| 57/57 [00:02<00:00, 18.65it/s]\u001B[A\n",
      "                                                                                \u001B[A/Users/wengbenjue/opt/anaconda3/envs/peft/lib/python3.11/site-packages/torch/utils/checkpoint.py:429: UserWarning: torch.utils.checkpoint: please pass in use_reentrant=True or use_reentrant=False explicitly. The default value of use_reentrant will be updated to be False in the future. To maintain current behavior, pass use_reentrant=True. It is recommended that you use use_reentrant=False. Refer to docs for more details on the differences between the two variants.\n",
      "  warnings.warn(\n",
      "{'loss': 0.0076, 'learning_rate': 0.00019685039370078743, 'epoch': 4.0}         \n",
      "{'loss': 0.003, 'learning_rate': 0.0001889763779527559, 'epoch': 4.04}          \n",
      "{'loss': 0.0019, 'learning_rate': 0.00018110236220472443, 'epoch': 4.08}        \n",
      "{'loss': 0.0018, 'learning_rate': 0.0001732283464566929, 'epoch': 4.12}         \n",
      "{'loss': 0.011, 'learning_rate': 0.00016535433070866143, 'epoch': 4.16}         \n",
      "{'loss': 0.0404, 'learning_rate': 0.00015748031496062991, 'epoch': 4.2}         \n",
      "{'loss': 0.0695, 'learning_rate': 0.00014960629921259843, 'epoch': 4.24}        \n",
      "{'loss': 0.0365, 'learning_rate': 0.00014173228346456694, 'epoch': 4.28}        \n",
      "{'loss': 0.0023, 'learning_rate': 0.00013385826771653546, 'epoch': 4.32}        \n",
      " 87%|█████████████████████████████████▊     | 1100/1270 [11:36<01:20,  2.12it/s]/Users/wengbenjue/opt/anaconda3/envs/peft/lib/python3.11/site-packages/torch/utils/checkpoint.py:429: UserWarning: torch.utils.checkpoint: please pass in use_reentrant=True or use_reentrant=False explicitly. The default value of use_reentrant will be updated to be False in the future. To maintain current behavior, pass use_reentrant=True. It is recommended that you use use_reentrant=False. Refer to docs for more details on the differences between the two variants.\n",
      "  warnings.warn(\n",
      "{'loss': 0.0017, 'learning_rate': 0.00012598425196850394, 'epoch': 4.36}        \n",
      "{'loss': 0.0028, 'learning_rate': 0.00011811023622047244, 'epoch': 4.4}         \n",
      "{'loss': 0.0703, 'learning_rate': 0.00011023622047244094, 'epoch': 4.44}        \n",
      "{'loss': 0.032, 'learning_rate': 0.00010236220472440946, 'epoch': 4.47}         \n",
      "{'loss': 0.046, 'learning_rate': 9.448818897637796e-05, 'epoch': 4.51}          \n",
      "{'loss': 0.002, 'learning_rate': 8.661417322834646e-05, 'epoch': 4.55}          \n",
      "{'loss': 0.0167, 'learning_rate': 7.874015748031496e-05, 'epoch': 4.59}         \n",
      "{'loss': 0.0025, 'learning_rate': 7.086614173228347e-05, 'epoch': 4.63}         \n",
      "{'loss': 0.0079, 'learning_rate': 6.299212598425197e-05, 'epoch': 4.67}         \n",
      "{'loss': 0.0178, 'learning_rate': 5.511811023622047e-05, 'epoch': 4.71}         \n",
      " 94%|████████████████████████████████████▊  | 1200/1270 [12:25<00:33,  2.09it/s]/Users/wengbenjue/opt/anaconda3/envs/peft/lib/python3.11/site-packages/torch/utils/checkpoint.py:429: UserWarning: torch.utils.checkpoint: please pass in use_reentrant=True or use_reentrant=False explicitly. The default value of use_reentrant will be updated to be False in the future. To maintain current behavior, pass use_reentrant=True. It is recommended that you use use_reentrant=False. Refer to docs for more details on the differences between the two variants.\n",
      "  warnings.warn(\n",
      "{'loss': 0.0429, 'learning_rate': 4.724409448818898e-05, 'epoch': 4.75}         \n",
      "{'loss': 0.0017, 'learning_rate': 3.937007874015748e-05, 'epoch': 4.79}         \n",
      "{'loss': 0.0626, 'learning_rate': 3.1496062992125985e-05, 'epoch': 4.83}        \n",
      "{'loss': 0.0086, 'learning_rate': 2.362204724409449e-05, 'epoch': 4.87}         \n",
      "{'loss': 0.0038, 'learning_rate': 1.5748031496062993e-05, 'epoch': 4.91}        \n",
      "{'loss': 0.0042, 'learning_rate': 7.874015748031496e-06, 'epoch': 4.95}         \n",
      "{'loss': 0.0298, 'learning_rate': 0.0, 'epoch': 4.99}                           \n",
      "100%|███████████████████████████████████████| 1270/1270 [12:59<00:00,  2.08it/s]\n",
      "  0%|                                                    | 0/57 [00:00<?, ?it/s]\u001B[A\n",
      "  5%|██▎                                         | 3/57 [00:00<00:01, 28.38it/s]\u001B[A\n",
      " 11%|████▋                                       | 6/57 [00:00<00:02, 21.85it/s]\u001B[A\n",
      " 16%|██████▉                                     | 9/57 [00:00<00:02, 20.30it/s]\u001B[A\n",
      " 21%|█████████                                  | 12/57 [00:00<00:02, 20.15it/s]\u001B[A\n",
      " 26%|███████████▎                               | 15/57 [00:00<00:02, 19.66it/s]\u001B[A\n",
      " 30%|████████████▊                              | 17/57 [00:00<00:02, 19.40it/s]\u001B[A\n",
      " 33%|██████████████▎                            | 19/57 [00:00<00:01, 19.18it/s]\u001B[A\n",
      " 37%|███████████████▊                           | 21/57 [00:01<00:01, 18.75it/s]\u001B[A\n",
      " 42%|██████████████████                         | 24/57 [00:01<00:01, 19.16it/s]\u001B[A\n",
      " 46%|███████████████████▌                       | 26/57 [00:01<00:01, 19.00it/s]\u001B[A\n",
      " 49%|█████████████████████                      | 28/57 [00:01<00:01, 18.83it/s]\u001B[A\n",
      " 53%|██████████████████████▋                    | 30/57 [00:01<00:01, 18.66it/s]\u001B[A\n",
      " 56%|████████████████████████▏                  | 32/57 [00:01<00:01, 18.41it/s]\u001B[A\n",
      " 61%|██████████████████████████▍                | 35/57 [00:01<00:01, 18.72it/s]\u001B[A\n",
      " 65%|███████████████████████████▉               | 37/57 [00:01<00:01, 18.56it/s]\u001B[A\n",
      " 68%|█████████████████████████████▍             | 39/57 [00:02<00:00, 18.49it/s]\u001B[A\n",
      " 72%|██████████████████████████████▉            | 41/57 [00:02<00:00, 18.41it/s]\u001B[A\n",
      " 75%|████████████████████████████████▍          | 43/57 [00:02<00:00, 18.35it/s]\u001B[A\n",
      " 79%|█████████████████████████████████▉         | 45/57 [00:02<00:00, 18.73it/s]\u001B[A\n",
      " 82%|███████████████████████████████████▍       | 47/57 [00:02<00:00, 18.57it/s]\u001B[A\n",
      " 86%|████████████████████████████████████▉      | 49/57 [00:02<00:00, 18.42it/s]\u001B[A\n",
      " 89%|██████████████████████████████████████▍    | 51/57 [00:02<00:00, 18.05it/s]\u001B[A\n",
      " 93%|███████████████████████████████████████▉   | 53/57 [00:02<00:00, 18.10it/s]\u001B[A\n",
      "                                                                                \u001B[A\n",
      "\u001B[A{'eval_loss': 0.025691209360957146, 'eval_accuracy': 0.9955849889624724, 'eval_precision': 0.9957251480430288, 'eval_recall': 0.9955849889624724, 'eval_f1': 0.9956010584431256, 'eval_runtime': 3.0444, 'eval_samples_per_second': 148.797, 'eval_steps_per_second': 18.723, 'epoch': 4.99}\n",
      "100%|███████████████████████████████████████| 1270/1270 [13:02<00:00,  2.08it/s]\n",
      "100%|███████████████████████████████████████████| 57/57 [00:02<00:00, 18.56it/s]\u001B[A\n",
      "{'train_runtime': 782.4612, 'train_samples_per_second': 26.04, 'train_steps_per_second': 1.623, 'train_loss': 0.10953797142674017, 'epoch': 4.99}\n",
      "100%|███████████████████████████████████████| 1270/1270 [13:02<00:00,  1.62it/s]\n"
     ]
    }
   ],
   "source": [
    "!python ../../../peft_train.py \\\n",
    "--model_name ../../../pretrain_models/bert-base-cased \\\n",
    "--max_seq_len 2048 \\\n",
    "--group_by_length \\\n",
    "--max_steps 200 \\\n",
    "--dataset_name ../../../text-classification/financial_phrasebank \\\n",
    "--num_labels 3 \\\n",
    "--epochs 5 \\\n",
    "--learning_rate 1e-3 \\\n",
    "--model_type SEQ_CLS \\\n",
    "--output_model_path ./result/bert-base-cased-financial-lora \\\n",
    "--bnb_4bit_compute_dtype float32 \\\n",
    "--use_4b False\n"
   ]
  },
  {
   "cell_type": "markdown",
   "metadata": {
    "collapsed": false
   },
   "source": [
    "### 1.2.2 Run code on GPU version\n",
    "Load the model together with the adapter with few lines of code! Check the snippet below to load the adapter from the Hub and run the example evaluation."
   ]
  },
  {
   "cell_type": "code",
   "execution_count": null,
   "metadata": {
    "collapsed": false
   },
   "outputs": [],
   "source": [
    "!pip install -q -U trl transformers accelerate git+https://github.com/huggingface/peft.git\n",
    "!pip install -q datasets bitsandbytes einops wandb evaluate\n",
    "from google.colab import drive\n",
    "drive.mount('/content/drive')\n",
    "%cd /content/drive/MyDrive/Colab Notebooks/llms-peft-cook-colab/experiments/bert-base-cased-lora/financial_phrasebank"
   ]
  },
  {
   "cell_type": "code",
   "execution_count": null,
   "metadata": {
    "collapsed": false,
    "is_executing": true
   },
   "outputs": [],
   "source": [
    "import os\n",
    "os.environ[\"CUDA_VISIBLE_DEVICES\"] = \"0\"\n",
    "!python ../../../peft_train.py \\\n",
    "--model_name bert-base-cased \\\n",
    "--max_seq_len 2048 \\\n",
    "--group_by_length \\\n",
    "--max_steps 200 \\\n",
    "--dataset_name ../../../text-classification/financial_phrasebank \\\n",
    "--num_labels 3 \\\n",
    "--epochs 5 \\\n",
    "--learning_rate 1e-3\\\n",
    "--model_type SEQ_CLS \\\n",
    "--output_model_path ./result/bert-base-cased-financial-lora \\\n",
    "--bnb_4bit_compute_dtype float16 \\\n",
    "--load_in_8bit \\\n",
    "--use_4b"
   ]
  },
  {
   "cell_type": "markdown",
   "metadata": {
    "collapsed": false
   },
   "source": [
    "# Load your adapter from the Hub"
   ]
  },
  {
   "cell_type": "code",
   "execution_count": 7,
   "metadata": {
    "ExecuteTime": {
     "end_time": "2023-12-02T16:37:01.962850Z",
     "start_time": "2023-12-02T16:37:01.696535Z"
    },
    "collapsed": false
   },
   "outputs": [],
   "source": [
    "import torch\n",
    "from peft import PeftModel, PeftConfig\n",
    "from transformers import AutoModelForSeq2SeqLM, AutoTokenizer\n",
    "\n",
    "peft_model_id = \"./result/flan-t5-cup-lora\"\n",
    "base_model_name_or_path = '.../../../pretrain_models/google-flan-t5-small'\n",
    "config = PeftConfig.from_pretrained(peft_model_id)\n",
    "\n",
    "# model = AutoModelForSeq2SeqLM.from_pretrained(config.base_model_name_or_path, torch_dtype=\"auto\", device_map=\"auto\")\n",
    "model = AutoModelForSeq2SeqLM.from_pretrained(config.base_model_name_or_path, torch_dtype=\"auto\", device_map=\"cpu\")\n",
    "tokenizer = AutoTokenizer.from_pretrained(config.base_model_name_or_path)\n",
    "\n",
    "# Load the Lora model\n",
    "model = PeftModel.from_pretrained(model, peft_model_id)"
   ]
  },
  {
   "cell_type": "code",
   "execution_count": 9,
   "metadata": {
    "ExecuteTime": {
     "end_time": "2023-12-02T16:40:55.202266Z",
     "start_time": "2023-12-02T16:40:55.100686Z"
    },
    "collapsed": false
   },
   "outputs": [
    {
     "name": "stdout",
     "output_type": "stream",
     "text": [
      "input sentence:  In January-September 2009 , the Group 's net interest income increased to EUR 112.4 mn from EUR 74.3 mn in January-September 2008 .\n",
      " output prediction:  ['positive positive positive positive positive positive positive positive positive positive']\n"
     ]
    }
   ],
   "source": [
    "model.eval()\n",
    "input_text = \"In January-September 2009 , the Group 's net interest income increased to EUR 112.4 mn from EUR 74.3 mn in January-September 2008 .\"\n",
    "inputs = tokenizer(input_text, return_tensors=\"pt\")\n",
    "\n",
    "outputs = model.generate(input_ids=inputs[\"input_ids\"], max_new_tokens=10)\n",
    "\n",
    "print(\"input sentence: \", input_text)\n",
    "print(\" output prediction: \", tokenizer.batch_decode(outputs.detach().cpu().numpy(), skip_special_tokens=True))"
   ]
  },
  {
   "cell_type": "code",
   "execution_count": 8,
   "metadata": {
    "ExecuteTime": {
     "end_time": "2023-12-02T16:37:04.919570Z",
     "start_time": "2023-12-02T16:37:04.379496Z"
    },
    "collapsed": false
   },
   "outputs": [
    {
     "name": "stdout",
     "output_type": "stream",
     "text": [
      "input sentence:  In January-September 2009 , the Group 's net interest income increased to EUR 112.4 mn from EUR 74.3 mn in January-September 2008 .\n",
      " output prediction:  ['positive positive positive positive positive positive positive positive positive positive']\n"
     ]
    }
   ],
   "source": [
    "model.eval()\n",
    "input_text = \"In January-September 2009 , the Group 's net interest income increased to EUR 112.4 mn from EUR 74.3 mn in January-September 2008 .\"\n",
    "inputs = tokenizer(input_text, return_tensors=\"pt\")\n",
    "\n",
    "outputs = model.generate(input_ids=inputs[\"input_ids\"], max_new_tokens=10)\n",
    "\n",
    "print(\"input sentence: \", input_text)\n",
    "print(\" output prediction: \", tokenizer.batch_decode(outputs.detach().cpu().numpy(), skip_special_tokens=True))"
   ]
  },
  {
   "cell_type": "markdown",
   "metadata": {
    "collapsed": false
   },
   "source": [
    "## 1.3 Experimental Result"
   ]
  },
  {
   "cell_type": "code",
   "execution_count": 1,
   "metadata": {
    "collapsed": false,
    "ExecuteTime": {
     "end_time": "2023-12-12T16:38:17.885453Z",
     "start_time": "2023-12-12T16:38:17.882787Z"
    }
   },
   "outputs": [],
   "source": [
    "class HTMLRender:\n",
    "    def __init__(self,html_str):\n",
    "        self.html_str =html_str\n",
    "    def _repr_html_(self):\n",
    "       return self.html_str\n"
   ]
  },
  {
   "cell_type": "code",
   "execution_count": 2,
   "metadata": {
    "collapsed": false,
    "ExecuteTime": {
     "end_time": "2023-12-12T16:38:18.059977Z",
     "start_time": "2023-12-12T16:38:18.043854Z"
    }
   },
   "outputs": [
    {
     "data": {
      "text/plain": "<__main__.HTMLRender at 0x10752bc50>",
      "text/html": "\n<table>\n  <tr>\n    <th>eval loss</th>\n    <th>eval accuracy</th>\n    <th>eval precision</th>\n    <th>eval recall</th>\n    <th>eval f1</th>\n  </tr>\n  <tr>\n    <td style=\"background-color:#4C72B0;\">0.102</td>\n    <td style=\"background-color:#55A868;\">0.896</td>\n    <td style=\"background-color:#C44E52;\">0.90</td>\n     <td style=\"background-color:#8172B2;\">0.896</td>\n    <td style=\"background-color:#64B5CD;\">0.894</td>\n  </tr>\n\n</table>\n\n       "
     },
     "execution_count": 2,
     "metadata": {},
     "output_type": "execute_result"
    }
   ],
   "source": [
    "model_accurcy_html = '''\n",
    "<table>\n",
    "  <tr>\n",
    "    <th>eval loss</th>\n",
    "    <th>eval accuracy</th>\n",
    "    <th>eval precision</th>\n",
    "    <th>eval recall</th>\n",
    "    <th>eval f1</th>\n",
    "  </tr>\n",
    "  <tr>\n",
    "    <td style=\"background-color:#4C72B0;\">0.102</td>\n",
    "    <td style=\"background-color:#55A868;\">0.896</td>\n",
    "    <td style=\"background-color:#C44E52;\">0.90</td>\n",
    "     <td style=\"background-color:#8172B2;\">0.896</td>\n",
    "    <td style=\"background-color:#64B5CD;\">0.894</td>\n",
    "  </tr>\n",
    "\n",
    "</table>\n",
    "\n",
    "       '''\n",
    "HTMLRender(model_accurcy_html)"
   ]
  },
  {
   "cell_type": "code",
   "execution_count": null,
   "metadata": {
    "collapsed": false,
    "is_executing": true
   },
   "outputs": [],
   "source": [
    "accuracy_html = '''\n",
    "<img src=\"./image/flan-t5-small-accuracy.png\" alt=\"flan-t5-small-accuracy\" width=\"70%\">\n",
    "'''\n",
    "HTMLRender(accuracy_html)"
   ]
  },
  {
   "cell_type": "code",
   "execution_count": null,
   "metadata": {
    "collapsed": false
   },
   "outputs": [],
   "source": [
    "## Load your adapter from the Hub\n"
   ]
  }
 ],
 "metadata": {
  "kernelspec": {
   "display_name": "Python 3",
   "language": "python",
   "name": "python3"
  },
  "language_info": {
   "codemirror_mode": {
    "name": "ipython",
    "version": 3
   },
   "file_extension": ".py",
   "mimetype": "text/x-python",
   "name": "python",
   "nbconvert_exporter": "python",
   "pygments_lexer": "ipython3",
   "version": "3.11.5"
  }
 },
 "nbformat": 4,
 "nbformat_minor": 0
}
