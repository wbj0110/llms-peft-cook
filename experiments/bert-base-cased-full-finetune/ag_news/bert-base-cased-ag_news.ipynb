{
 "cells": [
  {
   "cell_type": "markdown",
   "metadata": {
    "collapsed": false
   },
   "source": [
    "Finetuning the model on financial_phrasebank dataset, that consists of pairs of text-labels to classify financial-related sentences, if they are either <span style=\"color: red;\">positive</span>, <span style=\"color: purple;\">neutral</span> or <span style=\"color: green;\">negative</span>."
   ]
  },
  {
   "cell_type": "markdown",
   "metadata": {
    "collapsed": false
   },
   "source": [
    "# 1.Experimental Setup1"
   ]
  },
  {
   "cell_type": "markdown",
   "metadata": {
    "collapsed": false
   },
   "source": [
    "## 1.1 Setup"
   ]
  },
  {
   "cell_type": "markdown",
   "metadata": {
    "collapsed": false
   },
   "source": [
    "## 1.2 Training"
   ]
  },
  {
   "cell_type": "markdown",
   "metadata": {
    "collapsed": false
   },
   "source": [
    "### 1.2.1 Run code on CPU version"
   ]
  },
  {
   "cell_type": "code",
   "execution_count": null,
   "metadata": {
    "collapsed": false,
    "is_executing": true
   },
   "outputs": [],
   "source": [
    "!pwd"
   ]
  },
  {
   "cell_type": "code",
   "execution_count": 1,
   "metadata": {
    "collapsed": false,
    "ExecuteTime": {
     "end_time": "2023-12-10T13:05:03.199756Z",
     "start_time": "2023-12-10T12:14:41.993295Z"
    }
   },
   "outputs": [
    {
     "name": "stdout",
     "output_type": "stream",
     "text": [
      "/Users/wengbenjue/opt/anaconda3/envs/peft/lib/python3.11/site-packages/bitsandbytes/cextension.py:34: UserWarning: The installed version of bitsandbytes was compiled without GPU support. 8-bit optimizers, 8-bit multiplication, and GPU quantization are unavailable.\r\n",
      "  warn(\"The installed version of bitsandbytes was compiled without GPU support. \"\r\n",
      "'NoneType' object has no attribute 'cadam32bit_grad_fp32'\r\n",
      "/Users/wengbenjue/opt/anaconda3/envs/peft/lib/python3.11/site-packages/trl/trainer/ppo_config.py:141: UserWarning: The `optimize_cuda_cache` arguement will be deprecated soon, please use `optimize_device_cache` instead.\r\n",
      "  warnings.warn(\r\n",
      "Some weights of BertForSequenceClassification were not initialized from the model checkpoint at ../../../pretrain_models/bert-base-cased and are newly initialized: ['classifier.bias', 'classifier.weight']\r\n",
      "You should probably TRAIN this model on a down-stream task to be able to use it for predictions and inference.\r\n",
      "use AutoModelForSequenceClassification load bert model.\r\n",
      "trainable params: 108313348 || all params: 108313348 || trainable%: 100.0\r\n",
      "tokenizer padding setting: [PAD]\r\n",
      "Sentence: 5 EU ministers back digital passports FLORENCE Interior ministers from the five largest West European countries have agreed to adopt digital fingerprinting on passports, officials here said, but a second day of talks on Monday found them still deadlocked on a plan to create migrant holding \r\n",
      "  0%|                                                   | 0/235 [00:00<?, ?it/s]/Users/wengbenjue/opt/anaconda3/envs/peft/lib/python3.11/site-packages/torch/utils/checkpoint.py:429: UserWarning: torch.utils.checkpoint: please pass in use_reentrant=True or use_reentrant=False explicitly. The default value of use_reentrant will be updated to be False in the future. To maintain current behavior, pass use_reentrant=True. It is recommended that you use use_reentrant=False. Refer to docs for more details on the differences between the two variants.\r\n",
      "  warnings.warn(\r\n",
      "{'loss': 1.4614, 'learning_rate': 0.0009574468085106384, 'epoch': 0.21}         \r\n",
      "{'loss': 1.4113, 'learning_rate': 0.0009148936170212766, 'epoch': 0.42}         \r\n",
      "{'loss': 1.4268, 'learning_rate': 0.0008723404255319149, 'epoch': 0.63}         \r\n",
      "{'loss': 1.4151, 'learning_rate': 0.0008297872340425531, 'epoch': 0.84}         \r\n",
      " 20%|████████▍                                 | 47/235 [07:38<49:12, 15.70s/it]\r\n",
      "  0%|                                                    | 0/48 [00:00<?, ?it/s]\u001B[A\r\n",
      "  4%|█▊                                          | 2/48 [00:01<00:25,  1.81it/s]\u001B[A\r\n",
      "  6%|██▊                                         | 3/48 [00:01<00:29,  1.53it/s]\u001B[A\r\n",
      "  8%|███▋                                        | 4/48 [00:03<00:36,  1.21it/s]\u001B[A\r\n",
      " 10%|████▌                                       | 5/48 [00:04<00:40,  1.07it/s]\u001B[A\r\n",
      " 12%|█████▌                                      | 6/48 [00:05<00:42,  1.01s/it]\u001B[A\r\n",
      " 15%|██████▍                                     | 7/48 [00:06<00:43,  1.05s/it]\u001B[A\r\n",
      " 17%|███████▎                                    | 8/48 [00:07<00:42,  1.05s/it]\u001B[A\r\n",
      " 19%|████████▎                                   | 9/48 [00:08<00:41,  1.05s/it]\u001B[A\r\n",
      " 21%|████████▉                                  | 10/48 [00:09<00:39,  1.05s/it]\u001B[A\r\n",
      " 23%|█████████▊                                 | 11/48 [00:10<00:39,  1.07s/it]\u001B[A\r\n",
      " 25%|██████████▊                                | 12/48 [00:11<00:40,  1.12s/it]\u001B[A\r\n",
      " 27%|███████████▋                               | 13/48 [00:13<00:40,  1.15s/it]\u001B[A\r\n",
      " 29%|████████████▌                              | 14/48 [00:14<00:36,  1.08s/it]\u001B[A\r\n",
      " 31%|█████████████▍                             | 15/48 [00:15<00:35,  1.07s/it]\u001B[A\r\n",
      " 33%|██████████████▎                            | 16/48 [00:16<00:34,  1.09s/it]\u001B[A\r\n",
      " 35%|███████████████▏                           | 17/48 [00:17<00:33,  1.09s/it]\u001B[A\r\n",
      " 38%|████████████████▏                          | 18/48 [00:18<00:30,  1.03s/it]\u001B[A\r\n",
      " 40%|█████████████████                          | 19/48 [00:19<00:31,  1.08s/it]\u001B[A\r\n",
      " 42%|█████████████████▉                         | 20/48 [00:20<00:31,  1.13s/it]\u001B[A\r\n",
      " 44%|██████████████████▊                        | 21/48 [00:21<00:31,  1.16s/it]\u001B[A\r\n",
      " 46%|███████████████████▋                       | 22/48 [00:23<00:29,  1.14s/it]\u001B[A\r\n",
      " 48%|████████████████████▌                      | 23/48 [00:24<00:28,  1.16s/it]\u001B[A\r\n",
      " 50%|█████████████████████▌                     | 24/48 [00:25<00:27,  1.16s/it]\u001B[A\r\n",
      " 52%|██████████████████████▍                    | 25/48 [00:26<00:26,  1.15s/it]\u001B[A\r\n",
      " 54%|███████████████████████▎                   | 26/48 [00:27<00:25,  1.16s/it]\u001B[A\r\n",
      " 56%|████████████████████████▏                  | 27/48 [00:28<00:24,  1.15s/it]\u001B[A\r\n",
      " 58%|█████████████████████████                  | 28/48 [00:29<00:22,  1.14s/it]\u001B[A\r\n",
      " 60%|█████████████████████████▉                 | 29/48 [00:30<00:20,  1.08s/it]\u001B[A\r\n",
      " 62%|██████████████████████████▉                | 30/48 [00:32<00:20,  1.12s/it]\u001B[A\r\n",
      " 65%|███████████████████████████▊               | 31/48 [00:33<00:19,  1.12s/it]\u001B[A\r\n",
      " 67%|████████████████████████████▋              | 32/48 [00:34<00:17,  1.08s/it]\u001B[A\r\n",
      " 69%|█████████████████████████████▌             | 33/48 [00:35<00:16,  1.10s/it]\u001B[A\r\n",
      " 71%|██████████████████████████████▍            | 34/48 [00:36<00:14,  1.06s/it]\u001B[A\r\n",
      " 73%|███████████████████████████████▎           | 35/48 [00:37<00:14,  1.10s/it]\u001B[A\r\n",
      " 75%|████████████████████████████████▎          | 36/48 [00:38<00:13,  1.12s/it]\u001B[A\r\n",
      " 77%|█████████████████████████████████▏         | 37/48 [00:39<00:12,  1.15s/it]\u001B[A\r\n",
      " 79%|██████████████████████████████████         | 38/48 [00:41<00:11,  1.15s/it]\u001B[A\r\n",
      " 81%|██████████████████████████████████▉        | 39/48 [00:42<00:10,  1.13s/it]\u001B[A\r\n",
      " 83%|███████████████████████████████████▊       | 40/48 [00:43<00:09,  1.19s/it]\u001B[A\r\n",
      " 85%|████████████████████████████████████▋      | 41/48 [00:44<00:08,  1.21s/it]\u001B[A\r\n",
      " 88%|█████████████████████████████████████▋     | 42/48 [00:45<00:07,  1.20s/it]\u001B[A\r\n",
      " 90%|██████████████████████████████████████▌    | 43/48 [00:47<00:06,  1.24s/it]\u001B[A\r\n",
      " 92%|███████████████████████████████████████▍   | 44/48 [00:48<00:04,  1.20s/it]\u001B[A\r\n",
      " 94%|████████████████████████████████████████▎  | 45/48 [00:49<00:03,  1.17s/it]\u001B[A\r\n",
      " 96%|█████████████████████████████████████████▏ | 46/48 [00:50<00:02,  1.12s/it]\u001B[A\r\n",
      " 98%|██████████████████████████████████████████ | 47/48 [00:51<00:01,  1.11s/it]\u001B[A\r\n",
      "                                                                                \u001B[A\r\n",
      "\u001B[A{'eval_loss': 1.3921163082122803, 'eval_accuracy': 0.25, 'eval_precision': 0.0625, 'eval_recall': 0.25, 'eval_f1': 0.1, 'eval_runtime': 53.7972, 'eval_samples_per_second': 56.509, 'eval_steps_per_second': 0.892, 'epoch': 0.99}\r\n",
      " 20%|████████▍                                 | 47/235 [08:40<49:12, 15.70s/it]\r\n",
      "100%|███████████████████████████████████████████| 48/48 [00:52<00:00,  1.15s/it]\u001B[A\r\n",
      "                                                                                \u001B[A/Users/wengbenjue/opt/anaconda3/envs/peft/lib/python3.11/site-packages/torch/utils/checkpoint.py:429: UserWarning: torch.utils.checkpoint: please pass in use_reentrant=True or use_reentrant=False explicitly. The default value of use_reentrant will be updated to be False in the future. To maintain current behavior, pass use_reentrant=True. It is recommended that you use use_reentrant=False. Refer to docs for more details on the differences between the two variants.\r\n",
      "  warnings.warn(\r\n",
      "{'loss': 1.4119, 'learning_rate': 0.0007872340425531915, 'epoch': 1.05}         \r\n",
      "{'loss': 1.4104, 'learning_rate': 0.0007446808510638298, 'epoch': 1.26}         \r\n",
      "{'loss': 1.4003, 'learning_rate': 0.0007021276595744682, 'epoch': 1.47}         \r\n",
      "{'loss': 1.405, 'learning_rate': 0.0006595744680851064, 'epoch': 1.68}          \r\n",
      "{'loss': 1.4117, 'learning_rate': 0.0006170212765957447, 'epoch': 1.89}         \r\n",
      " 40%|████████████████▉                         | 95/235 [19:43<22:45,  9.75s/it]\r\n",
      "  0%|                                                    | 0/48 [00:00<?, ?it/s]\u001B[A\r\n",
      "  4%|█▊                                          | 2/48 [00:00<00:14,  3.16it/s]\u001B[A\r\n",
      "  6%|██▊                                         | 3/48 [00:01<00:19,  2.31it/s]\u001B[A\r\n",
      "  8%|███▋                                        | 4/48 [00:01<00:20,  2.15it/s]\u001B[A\r\n",
      " 10%|████▌                                       | 5/48 [00:02<00:21,  1.96it/s]\u001B[A\r\n",
      " 12%|█████▌                                      | 6/48 [00:02<00:22,  1.83it/s]\u001B[A\r\n",
      " 15%|██████▍                                     | 7/48 [00:03<00:22,  1.79it/s]\u001B[A\r\n",
      " 17%|███████▎                                    | 8/48 [00:04<00:22,  1.81it/s]\u001B[A\r\n",
      " 19%|████████▎                                   | 9/48 [00:04<00:22,  1.76it/s]\u001B[A\r\n",
      " 21%|████████▉                                  | 10/48 [00:05<00:21,  1.74it/s]\u001B[A\r\n",
      " 23%|█████████▊                                 | 11/48 [00:05<00:21,  1.75it/s]\u001B[A\r\n",
      " 25%|██████████▊                                | 12/48 [00:06<00:19,  1.83it/s]\u001B[A\r\n",
      " 27%|███████████▋                               | 13/48 [00:06<00:19,  1.79it/s]\u001B[A\r\n",
      " 29%|████████████▌                              | 14/48 [00:07<00:19,  1.75it/s]\u001B[A\r\n",
      " 31%|█████████████▍                             | 15/48 [00:08<00:18,  1.74it/s]\u001B[A\r\n",
      " 33%|██████████████▎                            | 16/48 [00:08<00:17,  1.79it/s]\u001B[A\r\n",
      " 35%|███████████████▏                           | 17/48 [00:09<00:17,  1.79it/s]\u001B[A\r\n",
      " 38%|████████████████▏                          | 18/48 [00:09<00:16,  1.77it/s]\u001B[A\r\n",
      " 40%|█████████████████                          | 19/48 [00:10<00:16,  1.76it/s]\u001B[A\r\n",
      " 42%|█████████████████▉                         | 20/48 [00:10<00:15,  1.80it/s]\u001B[A\r\n",
      " 44%|██████████████████▊                        | 21/48 [00:11<00:15,  1.76it/s]\u001B[A\r\n",
      " 46%|███████████████████▋                       | 22/48 [00:12<00:14,  1.73it/s]\u001B[A\r\n",
      " 48%|████████████████████▌                      | 23/48 [00:12<00:14,  1.75it/s]\u001B[A\r\n",
      " 50%|█████████████████████▌                     | 24/48 [00:13<00:13,  1.78it/s]\u001B[A\r\n",
      " 52%|██████████████████████▍                    | 25/48 [00:13<00:12,  1.77it/s]\u001B[A\r\n",
      " 54%|███████████████████████▎                   | 26/48 [00:14<00:12,  1.76it/s]\u001B[A\r\n",
      " 56%|████████████████████████▏                  | 27/48 [00:14<00:12,  1.74it/s]\u001B[A\r\n",
      " 58%|█████████████████████████                  | 28/48 [00:15<00:10,  1.89it/s]\u001B[A\r\n",
      " 60%|█████████████████████████▉                 | 29/48 [00:15<00:10,  1.84it/s]\u001B[A\r\n",
      " 62%|██████████████████████████▉                | 30/48 [00:16<00:10,  1.79it/s]\u001B[A\r\n",
      " 65%|███████████████████████████▊               | 31/48 [00:17<00:09,  1.78it/s]\u001B[A\r\n",
      " 67%|████████████████████████████▋              | 32/48 [00:17<00:08,  1.82it/s]\u001B[A\r\n",
      " 69%|█████████████████████████████▌             | 33/48 [00:18<00:08,  1.78it/s]\u001B[A\r\n",
      " 71%|██████████████████████████████▍            | 34/48 [00:18<00:08,  1.73it/s]\u001B[A\r\n",
      " 73%|███████████████████████████████▎           | 35/48 [00:19<00:07,  1.70it/s]\u001B[A\r\n",
      " 75%|████████████████████████████████▎          | 36/48 [00:19<00:07,  1.70it/s]\u001B[A\r\n",
      " 77%|█████████████████████████████████▏         | 37/48 [00:20<00:06,  1.65it/s]\u001B[A\r\n",
      " 79%|██████████████████████████████████         | 38/48 [00:21<00:06,  1.62it/s]\u001B[A\r\n",
      " 81%|██████████████████████████████████▉        | 39/48 [00:21<00:05,  1.63it/s]\u001B[A\r\n",
      " 83%|███████████████████████████████████▊       | 40/48 [00:22<00:04,  1.67it/s]\u001B[A\r\n",
      " 85%|████████████████████████████████████▋      | 41/48 [00:23<00:04,  1.71it/s]\u001B[A\r\n",
      " 88%|█████████████████████████████████████▋     | 42/48 [00:23<00:03,  1.73it/s]\u001B[A\r\n",
      " 90%|██████████████████████████████████████▌    | 43/48 [00:24<00:02,  1.75it/s]\u001B[A\r\n",
      " 92%|███████████████████████████████████████▍   | 44/48 [00:24<00:02,  1.80it/s]\u001B[A\r\n",
      " 94%|████████████████████████████████████████▎  | 45/48 [00:25<00:01,  1.87it/s]\u001B[A\r\n",
      " 96%|█████████████████████████████████████████▏ | 46/48 [00:25<00:01,  1.83it/s]\u001B[A\r\n",
      " 98%|██████████████████████████████████████████ | 47/48 [00:26<00:00,  1.78it/s]\u001B[A\r\n",
      "                                                                                \u001B[A\r\n",
      "\u001B[A{'eval_loss': 1.4020856618881226, 'eval_accuracy': 0.25, 'eval_precision': 0.0625, 'eval_recall': 0.25, 'eval_f1': 0.1, 'eval_runtime': 27.2181, 'eval_samples_per_second': 111.69, 'eval_steps_per_second': 1.764, 'epoch': 2.0}\r\n",
      " 40%|████████████████▉                         | 95/235 [20:10<22:45,  9.75s/it]\r\n",
      "100%|███████████████████████████████████████████| 48/48 [00:26<00:00,  2.05it/s]\u001B[A\r\n",
      "                                                                                \u001B[A/Users/wengbenjue/opt/anaconda3/envs/peft/lib/python3.11/site-packages/torch/utils/checkpoint.py:429: UserWarning: torch.utils.checkpoint: please pass in use_reentrant=True or use_reentrant=False explicitly. The default value of use_reentrant will be updated to be False in the future. To maintain current behavior, pass use_reentrant=True. It is recommended that you use use_reentrant=False. Refer to docs for more details on the differences between the two variants.\r\n",
      "  warnings.warn(\r\n",
      "{'loss': 1.4069, 'learning_rate': 0.0005744680851063831, 'epoch': 2.11}         \r\n",
      " 43%|█████████████████▍                       | 100/235 [20:56<25:11, 11.20s/it]/Users/wengbenjue/opt/anaconda3/envs/peft/lib/python3.11/site-packages/torch/utils/checkpoint.py:429: UserWarning: torch.utils.checkpoint: please pass in use_reentrant=True or use_reentrant=False explicitly. The default value of use_reentrant will be updated to be False in the future. To maintain current behavior, pass use_reentrant=True. It is recommended that you use use_reentrant=False. Refer to docs for more details on the differences between the two variants.\r\n",
      "  warnings.warn(\r\n",
      "{'loss': 1.4008, 'learning_rate': 0.0005319148936170213, 'epoch': 2.32}         \r\n",
      "{'loss': 1.4091, 'learning_rate': 0.0004893617021276596, 'epoch': 2.53}         \r\n",
      "{'loss': 1.41, 'learning_rate': 0.00044680851063829785, 'epoch': 2.74}          \r\n",
      "{'loss': 1.3972, 'learning_rate': 0.00040425531914893613, 'epoch': 2.95}        \r\n",
      " 60%|████████████████████████▊                | 142/235 [26:24<07:09,  4.62s/it]\r\n",
      "  0%|                                                    | 0/48 [00:00<?, ?it/s]\u001B[A\r\n",
      "  4%|█▊                                          | 2/48 [00:00<00:06,  7.54it/s]\u001B[A\r\n",
      "  6%|██▊                                         | 3/48 [00:00<00:08,  5.31it/s]\u001B[A\r\n",
      "  8%|███▋                                        | 4/48 [00:00<00:09,  4.58it/s]\u001B[A\r\n",
      " 10%|████▌                                       | 5/48 [00:01<00:10,  4.24it/s]\u001B[A\r\n",
      " 12%|█████▌                                      | 6/48 [00:01<00:10,  4.07it/s]\u001B[A\r\n",
      " 15%|██████▍                                     | 7/48 [00:01<00:10,  3.93it/s]\u001B[A\r\n",
      " 17%|███████▎                                    | 8/48 [00:01<00:10,  3.83it/s]\u001B[A\r\n",
      " 19%|████████▎                                   | 9/48 [00:02<00:10,  3.78it/s]\u001B[A\r\n",
      " 21%|████████▉                                  | 10/48 [00:02<00:10,  3.75it/s]\u001B[A\r\n",
      " 23%|█████████▊                                 | 11/48 [00:02<00:09,  3.73it/s]\u001B[A\r\n",
      " 25%|██████████▊                                | 12/48 [00:02<00:09,  3.72it/s]\u001B[A\r\n",
      " 27%|███████████▋                               | 13/48 [00:03<00:09,  3.73it/s]\u001B[A\r\n",
      " 29%|████████████▌                              | 14/48 [00:03<00:09,  3.69it/s]\u001B[A\r\n",
      " 31%|█████████████▍                             | 15/48 [00:03<00:08,  3.68it/s]\u001B[A\r\n",
      " 33%|██████████████▎                            | 16/48 [00:04<00:08,  3.69it/s]\u001B[A\r\n",
      " 35%|███████████████▏                           | 17/48 [00:04<00:08,  3.67it/s]\u001B[A\r\n",
      " 38%|████████████████▏                          | 18/48 [00:04<00:08,  3.66it/s]\u001B[A\r\n",
      " 40%|█████████████████                          | 19/48 [00:04<00:07,  3.66it/s]\u001B[A\r\n",
      " 42%|█████████████████▉                         | 20/48 [00:05<00:07,  3.68it/s]\u001B[A\r\n",
      " 44%|██████████████████▊                        | 21/48 [00:05<00:07,  3.68it/s]\u001B[A\r\n",
      " 46%|███████████████████▋                       | 22/48 [00:05<00:07,  3.70it/s]\u001B[A\r\n",
      " 48%|████████████████████▌                      | 23/48 [00:05<00:06,  3.70it/s]\u001B[A\r\n",
      " 50%|█████████████████████▌                     | 24/48 [00:06<00:06,  3.72it/s]\u001B[A\r\n",
      " 52%|██████████████████████▍                    | 25/48 [00:06<00:06,  3.73it/s]\u001B[A\r\n",
      " 54%|███████████████████████▎                   | 26/48 [00:06<00:05,  3.74it/s]\u001B[A\r\n",
      " 56%|████████████████████████▏                  | 27/48 [00:07<00:05,  3.75it/s]\u001B[A\r\n",
      " 58%|█████████████████████████                  | 28/48 [00:07<00:05,  3.75it/s]\u001B[A\r\n",
      " 60%|█████████████████████████▉                 | 29/48 [00:07<00:05,  3.76it/s]\u001B[A\r\n",
      " 62%|██████████████████████████▉                | 30/48 [00:07<00:04,  3.77it/s]\u001B[A\r\n",
      " 65%|███████████████████████████▊               | 31/48 [00:08<00:04,  3.78it/s]\u001B[A\r\n",
      " 67%|████████████████████████████▋              | 32/48 [00:08<00:04,  3.78it/s]\u001B[A\r\n",
      " 69%|█████████████████████████████▌             | 33/48 [00:08<00:03,  3.78it/s]\u001B[A\r\n",
      " 71%|██████████████████████████████▍            | 34/48 [00:08<00:03,  3.78it/s]\u001B[A\r\n",
      " 73%|███████████████████████████████▎           | 35/48 [00:09<00:03,  3.79it/s]\u001B[A\r\n",
      " 75%|████████████████████████████████▎          | 36/48 [00:09<00:03,  3.79it/s]\u001B[A\r\n",
      " 77%|█████████████████████████████████▏         | 37/48 [00:09<00:02,  3.79it/s]\u001B[A\r\n",
      " 79%|██████████████████████████████████         | 38/48 [00:09<00:02,  3.79it/s]\u001B[A\r\n",
      " 81%|██████████████████████████████████▉        | 39/48 [00:10<00:02,  3.79it/s]\u001B[A\r\n",
      " 83%|███████████████████████████████████▊       | 40/48 [00:10<00:02,  3.79it/s]\u001B[A\r\n",
      " 85%|████████████████████████████████████▋      | 41/48 [00:10<00:01,  3.79it/s]\u001B[A\r\n",
      " 88%|█████████████████████████████████████▋     | 42/48 [00:10<00:01,  3.78it/s]\u001B[A\r\n",
      " 90%|██████████████████████████████████████▌    | 43/48 [00:11<00:01,  3.78it/s]\u001B[A\r\n",
      " 92%|███████████████████████████████████████▍   | 44/48 [00:11<00:01,  3.78it/s]\u001B[A\r\n",
      " 94%|████████████████████████████████████████▎  | 45/48 [00:11<00:00,  3.78it/s]\u001B[A\r\n",
      " 96%|█████████████████████████████████████████▏ | 46/48 [00:12<00:00,  3.78it/s]\u001B[A\r\n",
      " 98%|██████████████████████████████████████████ | 47/48 [00:12<00:00,  3.79it/s]\u001B[A\r\n",
      "                                                                                \u001B[A\r\n",
      "\u001B[A{'eval_loss': 1.3867387771606445, 'eval_accuracy': 0.25, 'eval_precision': 0.0625, 'eval_recall': 0.25, 'eval_f1': 0.1, 'eval_runtime': 12.712, 'eval_samples_per_second': 239.144, 'eval_steps_per_second': 3.776, 'epoch': 2.99}\r\n",
      " 60%|████████████████████████▊                | 142/235 [26:39<07:09,  4.62s/it]\r\n",
      "100%|███████████████████████████████████████████| 48/48 [00:12<00:00,  4.44it/s]\u001B[A\r\n",
      "                                                                                \u001B[A/Users/wengbenjue/opt/anaconda3/envs/peft/lib/python3.11/site-packages/torch/utils/checkpoint.py:429: UserWarning: torch.utils.checkpoint: please pass in use_reentrant=True or use_reentrant=False explicitly. The default value of use_reentrant will be updated to be False in the future. To maintain current behavior, pass use_reentrant=True. It is recommended that you use use_reentrant=False. Refer to docs for more details on the differences between the two variants.\r\n",
      "  warnings.warn(\r\n",
      "{'loss': 1.3993, 'learning_rate': 0.0003617021276595745, 'epoch': 3.16}         \r\n",
      "{'loss': 1.4083, 'learning_rate': 0.0003191489361702128, 'epoch': 3.37}         \r\n",
      "{'loss': 1.4003, 'learning_rate': 0.0002765957446808511, 'epoch': 3.58}         \r\n",
      "{'loss': 1.4052, 'learning_rate': 0.00023404255319148937, 'epoch': 3.79}        \r\n",
      "{'loss': 1.402, 'learning_rate': 0.00019148936170212765, 'epoch': 4.0}          \r\n",
      " 81%|█████████████████████████████████▏       | 190/235 [34:57<14:57, 19.95s/it]\r\n",
      "  0%|                                                    | 0/48 [00:00<?, ?it/s]\u001B[A\r\n",
      "  4%|█▊                                          | 2/48 [00:01<00:26,  1.70it/s]\u001B[A\r\n",
      "  6%|██▊                                         | 3/48 [00:02<00:36,  1.22it/s]\u001B[A\r\n",
      "  8%|███▋                                        | 4/48 [00:03<00:38,  1.15it/s]\u001B[A\r\n",
      " 10%|████▌                                       | 5/48 [00:04<00:42,  1.02it/s]\u001B[A\r\n",
      " 12%|█████▌                                      | 6/48 [00:05<00:43,  1.03s/it]\u001B[A\r\n",
      " 15%|██████▍                                     | 7/48 [00:06<00:43,  1.05s/it]\u001B[A\r\n",
      " 17%|███████▎                                    | 8/48 [00:07<00:43,  1.09s/it]\u001B[A\r\n",
      " 19%|████████▎                                   | 9/48 [00:09<00:43,  1.12s/it]\u001B[A\r\n",
      " 21%|████████▉                                  | 10/48 [00:10<00:41,  1.10s/it]\u001B[A\r\n",
      " 23%|█████████▊                                 | 11/48 [00:11<00:41,  1.12s/it]\u001B[A\r\n",
      " 25%|██████████▊                                | 12/48 [00:12<00:40,  1.11s/it]\u001B[A\r\n",
      " 27%|███████████▋                               | 13/48 [00:13<00:38,  1.10s/it]\u001B[A\r\n",
      " 29%|████████████▌                              | 14/48 [00:14<00:37,  1.09s/it]\u001B[A\r\n",
      " 31%|█████████████▍                             | 15/48 [00:15<00:36,  1.10s/it]\u001B[A\r\n",
      " 33%|██████████████▎                            | 16/48 [00:16<00:34,  1.09s/it]\u001B[A\r\n",
      " 35%|███████████████▏                           | 17/48 [00:17<00:33,  1.07s/it]\u001B[A\r\n",
      " 38%|████████████████▏                          | 18/48 [00:18<00:31,  1.06s/it]\u001B[A\r\n",
      " 40%|█████████████████                          | 19/48 [00:19<00:31,  1.09s/it]\u001B[A\r\n",
      " 42%|█████████████████▉                         | 20/48 [00:21<00:31,  1.13s/it]\u001B[A\r\n",
      " 44%|██████████████████▊                        | 21/48 [00:22<00:30,  1.14s/it]\u001B[A\r\n",
      " 46%|███████████████████▋                       | 22/48 [00:23<00:30,  1.16s/it]\u001B[A\r\n",
      " 48%|████████████████████▌                      | 23/48 [00:24<00:28,  1.13s/it]\u001B[A\r\n",
      " 50%|█████████████████████▌                     | 24/48 [00:25<00:27,  1.13s/it]\u001B[A\r\n",
      " 52%|██████████████████████▍                    | 25/48 [00:26<00:26,  1.14s/it]\u001B[A\r\n",
      " 54%|███████████████████████▎                   | 26/48 [00:27<00:24,  1.13s/it]\u001B[A\r\n",
      " 56%|████████████████████████▏                  | 27/48 [00:29<00:23,  1.12s/it]\u001B[A\r\n",
      " 58%|█████████████████████████                  | 28/48 [00:30<00:21,  1.09s/it]\u001B[A\r\n",
      " 60%|█████████████████████████▉                 | 29/48 [00:31<00:20,  1.10s/it]\u001B[A\r\n",
      " 62%|██████████████████████████▉                | 30/48 [00:32<00:19,  1.09s/it]\u001B[A\r\n",
      " 65%|███████████████████████████▊               | 31/48 [00:33<00:18,  1.09s/it]\u001B[A\r\n",
      " 67%|████████████████████████████▋              | 32/48 [00:34<00:17,  1.12s/it]\u001B[A\r\n",
      " 69%|█████████████████████████████▌             | 33/48 [00:35<00:16,  1.09s/it]\u001B[A\r\n",
      " 71%|██████████████████████████████▍            | 34/48 [00:36<00:15,  1.12s/it]\u001B[A\r\n",
      " 73%|███████████████████████████████▎           | 35/48 [00:37<00:14,  1.11s/it]\u001B[A\r\n",
      " 75%|████████████████████████████████▎          | 36/48 [00:38<00:13,  1.11s/it]\u001B[A\r\n",
      " 77%|█████████████████████████████████▏         | 37/48 [00:40<00:12,  1.11s/it]\u001B[A\r\n",
      " 79%|██████████████████████████████████         | 38/48 [00:41<00:10,  1.07s/it]\u001B[A\r\n",
      " 81%|██████████████████████████████████▉        | 39/48 [00:42<00:09,  1.07s/it]\u001B[A\r\n",
      " 83%|███████████████████████████████████▊       | 40/48 [00:43<00:08,  1.12s/it]\u001B[A\r\n",
      " 85%|████████████████████████████████████▋      | 41/48 [00:44<00:07,  1.12s/it]\u001B[A\r\n",
      " 88%|█████████████████████████████████████▋     | 42/48 [00:45<00:06,  1.10s/it]\u001B[A\r\n",
      " 90%|██████████████████████████████████████▌    | 43/48 [00:46<00:05,  1.14s/it]\u001B[A\r\n",
      " 92%|███████████████████████████████████████▍   | 44/48 [00:47<00:04,  1.13s/it]\u001B[A\r\n",
      " 94%|████████████████████████████████████████▎  | 45/48 [00:48<00:03,  1.12s/it]\u001B[A\r\n",
      " 96%|█████████████████████████████████████████▏ | 46/48 [00:50<00:02,  1.12s/it]\u001B[A\r\n",
      " 98%|██████████████████████████████████████████ | 47/48 [00:51<00:01,  1.13s/it]\u001B[A\r\n",
      "                                                                                \u001B[A\r\n",
      "\u001B[A{'eval_loss': 1.386815071105957, 'eval_accuracy': 0.25, 'eval_precision': 0.0625, 'eval_recall': 0.25, 'eval_f1': 0.1, 'eval_runtime': 52.9995, 'eval_samples_per_second': 57.359, 'eval_steps_per_second': 0.906, 'epoch': 4.0}\r\n",
      " 81%|█████████████████████████████████▏       | 190/235 [35:50<14:57, 19.95s/it]\r\n",
      "100%|███████████████████████████████████████████| 48/48 [00:51<00:00,  1.07it/s]\u001B[A\r\n",
      "                                                                                \u001B[A/Users/wengbenjue/opt/anaconda3/envs/peft/lib/python3.11/site-packages/torch/utils/checkpoint.py:429: UserWarning: torch.utils.checkpoint: please pass in use_reentrant=True or use_reentrant=False explicitly. The default value of use_reentrant will be updated to be False in the future. To maintain current behavior, pass use_reentrant=True. It is recommended that you use use_reentrant=False. Refer to docs for more details on the differences between the two variants.\r\n",
      "  warnings.warn(\r\n",
      "{'loss': 1.4, 'learning_rate': 0.00014893617021276596, 'epoch': 4.21}           \r\n",
      " 85%|██████████████████████████████████▉      | 200/235 [38:58<11:17, 19.36s/it]/Users/wengbenjue/opt/anaconda3/envs/peft/lib/python3.11/site-packages/torch/utils/checkpoint.py:429: UserWarning: torch.utils.checkpoint: please pass in use_reentrant=True or use_reentrant=False explicitly. The default value of use_reentrant will be updated to be False in the future. To maintain current behavior, pass use_reentrant=True. It is recommended that you use use_reentrant=False. Refer to docs for more details on the differences between the two variants.\r\n",
      "  warnings.warn(\r\n",
      "{'loss': 1.3967, 'learning_rate': 0.00010638297872340425, 'epoch': 4.42}        \r\n",
      "{'loss': 1.4052, 'learning_rate': 6.382978723404255e-05, 'epoch': 4.63}         \r\n",
      "{'loss': 1.4034, 'learning_rate': 2.1276595744680852e-05, 'epoch': 4.84}        \r\n",
      "100%|█████████████████████████████████████████| 235/235 [49:23<00:00, 18.26s/it]\r\n",
      "  0%|                                                    | 0/48 [00:00<?, ?it/s]\u001B[A\r\n",
      "  4%|█▊                                          | 2/48 [00:01<00:26,  1.72it/s]\u001B[A\r\n",
      "  6%|██▊                                         | 3/48 [00:02<00:37,  1.19it/s]\u001B[A\r\n",
      "  8%|███▋                                        | 4/48 [00:03<00:42,  1.03it/s]\u001B[A\r\n",
      " 10%|████▌                                       | 5/48 [00:04<00:43,  1.02s/it]\u001B[A\r\n",
      " 12%|█████▌                                      | 6/48 [00:05<00:44,  1.06s/it]\u001B[A\r\n",
      " 15%|██████▍                                     | 7/48 [00:06<00:44,  1.08s/it]\u001B[A\r\n",
      " 17%|███████▎                                    | 8/48 [00:07<00:41,  1.05s/it]\u001B[A\r\n",
      " 19%|████████▎                                   | 9/48 [00:08<00:40,  1.03s/it]\u001B[A\r\n",
      " 21%|████████▉                                  | 10/48 [00:09<00:39,  1.04s/it]\u001B[A\r\n",
      " 23%|█████████▊                                 | 11/48 [00:11<00:39,  1.07s/it]\u001B[A\r\n",
      " 25%|██████████▊                                | 12/48 [00:12<00:39,  1.09s/it]\u001B[A\r\n",
      " 27%|███████████▋                               | 13/48 [00:13<00:38,  1.11s/it]\u001B[A\r\n",
      " 29%|████████████▌                              | 14/48 [00:14<00:38,  1.13s/it]\u001B[A\r\n",
      " 31%|█████████████▍                             | 15/48 [00:15<00:36,  1.12s/it]\u001B[A\r\n",
      " 33%|██████████████▎                            | 16/48 [00:16<00:35,  1.10s/it]\u001B[A\r\n",
      " 35%|███████████████▏                           | 17/48 [00:17<00:33,  1.09s/it]\u001B[A\r\n",
      " 38%|████████████████▏                          | 18/48 [00:18<00:32,  1.07s/it]\u001B[A\r\n",
      " 40%|█████████████████                          | 19/48 [00:19<00:31,  1.08s/it]\u001B[A\r\n",
      " 42%|█████████████████▉                         | 20/48 [00:21<00:30,  1.09s/it]\u001B[A\r\n",
      " 44%|██████████████████▊                        | 21/48 [00:22<00:29,  1.09s/it]\u001B[A\r\n",
      " 46%|███████████████████▋                       | 22/48 [00:23<00:27,  1.06s/it]\u001B[A\r\n",
      " 48%|████████████████████▌                      | 23/48 [00:24<00:26,  1.08s/it]\u001B[A\r\n",
      " 50%|█████████████████████▌                     | 24/48 [00:25<00:26,  1.09s/it]\u001B[A\r\n",
      " 52%|██████████████████████▍                    | 25/48 [00:26<00:25,  1.10s/it]\u001B[A\r\n",
      " 54%|███████████████████████▎                   | 26/48 [00:27<00:25,  1.14s/it]\u001B[A\r\n",
      " 56%|████████████████████████▏                  | 27/48 [00:28<00:23,  1.10s/it]\u001B[A\r\n",
      " 58%|█████████████████████████                  | 28/48 [00:29<00:21,  1.09s/it]\u001B[A\r\n",
      " 60%|█████████████████████████▉                 | 29/48 [00:30<00:20,  1.07s/it]\u001B[A\r\n",
      " 62%|██████████████████████████▉                | 30/48 [00:31<00:19,  1.09s/it]\u001B[A\r\n",
      " 65%|███████████████████████████▊               | 31/48 [00:33<00:18,  1.11s/it]\u001B[A\r\n",
      " 67%|████████████████████████████▋              | 32/48 [00:34<00:17,  1.10s/it]\u001B[A\r\n",
      " 69%|█████████████████████████████▌             | 33/48 [00:35<00:17,  1.14s/it]\u001B[A\r\n",
      " 71%|██████████████████████████████▍            | 34/48 [00:36<00:16,  1.15s/it]\u001B[A\r\n",
      " 73%|███████████████████████████████▎           | 35/48 [00:37<00:15,  1.18s/it]\u001B[A\r\n",
      " 75%|████████████████████████████████▎          | 36/48 [00:38<00:13,  1.15s/it]\u001B[A\r\n",
      " 77%|█████████████████████████████████▏         | 37/48 [00:40<00:12,  1.15s/it]\u001B[A\r\n",
      " 79%|██████████████████████████████████         | 38/48 [00:41<00:11,  1.11s/it]\u001B[A\r\n",
      " 81%|██████████████████████████████████▉        | 39/48 [00:42<00:10,  1.14s/it]\u001B[A\r\n",
      " 83%|███████████████████████████████████▊       | 40/48 [00:43<00:08,  1.11s/it]\u001B[A\r\n",
      " 85%|████████████████████████████████████▋      | 41/48 [00:44<00:07,  1.14s/it]\u001B[A\r\n",
      " 88%|█████████████████████████████████████▋     | 42/48 [00:45<00:06,  1.11s/it]\u001B[A\r\n",
      " 90%|██████████████████████████████████████▌    | 43/48 [00:46<00:05,  1.07s/it]\u001B[A\r\n",
      " 92%|███████████████████████████████████████▍   | 44/48 [00:47<00:04,  1.06s/it]\u001B[A\r\n",
      " 94%|████████████████████████████████████████▎  | 45/48 [00:48<00:03,  1.07s/it]\u001B[A\r\n",
      " 96%|█████████████████████████████████████████▏ | 46/48 [00:49<00:02,  1.10s/it]\u001B[A\r\n",
      " 98%|██████████████████████████████████████████ | 47/48 [00:51<00:01,  1.20s/it]\u001B[A\r\n",
      "                                                                                \u001B[A\r\n",
      "\u001B[A{'eval_loss': 1.386489987373352, 'eval_accuracy': 0.25, 'eval_precision': 0.0625, 'eval_recall': 0.25, 'eval_f1': 0.1, 'eval_runtime': 53.13, 'eval_samples_per_second': 57.218, 'eval_steps_per_second': 0.903, 'epoch': 4.95}\r\n",
      "100%|█████████████████████████████████████████| 235/235 [50:17<00:00, 18.26s/it]\r\n",
      "100%|███████████████████████████████████████████| 48/48 [00:51<00:00,  1.02s/it]\u001B[A\r\n",
      "{'train_runtime': 3017.0256, 'train_samples_per_second': 20.152, 'train_steps_per_second': 0.078, 'train_loss': 1.408480481898531, 'epoch': 4.95}\r\n",
      "100%|█████████████████████████████████████████| 235/235 [50:17<00:00, 12.84s/it]\r\n"
     ]
    }
   ],
   "source": [
    "!python ../../../peft_train.py \\\n",
    "--model_name ../../../pretrain_models/bert-base-cased \\\n",
    "--max_seq_len 2048 \\\n",
    "--group_by_length \\\n",
    "--max_steps 200 \\\n",
    "--dataset_name ../../../text-classification/ag_news \\\n",
    "--num_labels 4 \\\n",
    "--epochs 5 \\\n",
    "--learning_rate 1e-3 \\\n",
    "--model_type SEQ_CLS \\\n",
    "--output_model_path ./result/bert-base-cased-ag_news \\\n",
    "--need_hyperparameters_search False \\\n",
    "--enable_peft False \\\n",
    "--bnb_4bit_compute_dtype float32 \\\n",
    "--use_4b False\n"
   ]
  },
  {
   "cell_type": "markdown",
   "metadata": {
    "collapsed": false
   },
   "source": [
    "### 1.2.2 Run code on GPU version\n",
    "Load the model together with the adapter with few lines of code! Check the snippet below to load the adapter from the Hub and run the example evaluation."
   ]
  },
  {
   "cell_type": "code",
   "execution_count": null,
   "metadata": {
    "collapsed": false
   },
   "outputs": [],
   "source": [
    "!pip install -q -U trl transformers accelerate git+https://github.com/huggingface/peft.git\n",
    "!pip install -q datasets bitsandbytes einops wandb evaluate\n",
    "from google.colab import drive\n",
    "drive.mount('/content/drive')\n",
    "%cd /content/drive/MyDrive/Colab Notebooks/llms-peft-cook-colab/experiments/bert-base-cased-full-finetune/ag_news"
   ]
  },
  {
   "cell_type": "code",
   "execution_count": null,
   "metadata": {
    "collapsed": false
   },
   "outputs": [],
   "source": []
  },
  {
   "cell_type": "code",
   "execution_count": 1,
   "metadata": {
    "ExecuteTime": {
     "end_time": "2023-12-03T10:03:39.029735Z",
     "start_time": "2023-12-03T09:56:00.036957Z"
    },
    "collapsed": false
   },
   "outputs": [
    {
     "name": "stdout",
     "output_type": "stream",
     "text": [
      "/Users/wengbenjue/opt/anaconda3/envs/peft/lib/python3.11/site-packages/bitsandbytes/cextension.py:34: UserWarning: The installed version of bitsandbytes was compiled without GPU support. 8-bit optimizers, 8-bit multiplication, and GPU quantization are unavailable.\r\n",
      "  warn(\"The installed version of bitsandbytes was compiled without GPU support. \"\r\n",
      "'NoneType' object has no attribute 'cadam32bit_grad_fp32'\r\n",
      "/Users/wengbenjue/opt/anaconda3/envs/peft/lib/python3.11/site-packages/trl/trainer/ppo_config.py:141: UserWarning: The `optimize_cuda_cache` arguement will be deprecated soon, please use `optimize_device_cache` instead.\r\n",
      "  warnings.warn(\r\n",
      "Using the latest cached version of the module from /Users/wengbenjue/.cache/huggingface/modules/evaluate_modules/metrics/evaluate-metric--accuracy/f887c0aab52c2d38e1f8a215681126379eca617f96c447638f751434e8e65b14 (last modified on Mon Apr 24 01:17:15 2023) since it couldn't be found locally at evaluate-metric--accuracy, or remotely on the Hugging Face Hub.\r\n",
      "Traceback (most recent call last):\r\n",
      "  File \"/Users/wengbenjue/sourcecode/peft/llms-peft-cook/experiments/flan-t5-base-lora/ag_news/../../../peft_train.py\", line 353, in <module>\r\n",
      "    model, peft_config, tokenizer = create_and_prepare_model(script_args)\r\n",
      "                                    ^^^^^^^^^^^^^^^^^^^^^^^^^^^^^^^^^^^^^\r\n",
      "  File \"/Users/wengbenjue/sourcecode/peft/llms-peft-cook/experiments/flan-t5-base-lora/ag_news/../../../peft_train.py\", line 253, in create_and_prepare_model\r\n",
      "    model = AutoModelForSeq2SeqLM.from_pretrained(\r\n",
      "            ^^^^^^^^^^^^^^^^^^^^^^^^^^^^^^^^^^^^^^\r\n",
      "  File \"/Users/wengbenjue/opt/anaconda3/envs/peft/lib/python3.11/site-packages/transformers/models/auto/auto_factory.py\", line 566, in from_pretrained\r\n",
      "    return model_class.from_pretrained(\r\n",
      "           ^^^^^^^^^^^^^^^^^^^^^^^^^^^^\r\n",
      "  File \"/Users/wengbenjue/opt/anaconda3/envs/peft/lib/python3.11/site-packages/transformers/modeling_utils.py\", line 2714, in from_pretrained\r\n",
      "    raise ImportError(\r\n",
      "ImportError: Using `load_in_8bit=True` requires Accelerate: `pip install accelerate` and the latest version of bitsandbytes `pip install -i https://test.pypi.org/simple/ bitsandbytes` or pip install bitsandbytes` \r\n"
     ]
    }
   ],
   "source": [
    "import os\n",
    "os.environ[\"CUDA_VISIBLE_DEVICES\"] = \"0\"\n",
    "!python ../../../peft_train.py \\\n",
    "--model_name bert-base-cased \\\n",
    "--max_seq_len 2048 \\\n",
    "--group_by_length \\\n",
    "--max_steps 200 \\\n",
    "--dataset_name ../../../text-classification/ag_news \\\n",
    "--num_labels 2 \\\n",
    "--epochs 5 \\\n",
    "--learning_rate 1e-3\\\n",
    "--model_type SEQ_CLS \\\n",
    "--output_model_path ./result/bert-base-cased-ag_news-lora \\\n",
    "--bnb_4bit_compute_dtype float16 \\\n",
    "--need_hyperparameters_search False \\\n",
    "--enable_peft False \\\n",
    "--use_4b False\n"
   ]
  },
  {
   "cell_type": "markdown",
   "metadata": {
    "collapsed": false
   },
   "source": [
    "# Load your adapter from the Hub"
   ]
  },
  {
   "cell_type": "code",
   "execution_count": 7,
   "metadata": {
    "ExecuteTime": {
     "end_time": "2023-12-02T16:37:01.962850Z",
     "start_time": "2023-12-02T16:37:01.696535Z"
    },
    "collapsed": false
   },
   "outputs": [],
   "source": [
    "import torch\n",
    "from peft import PeftModel, PeftConfig\n",
    "from transformers import AutoModelForSeq2SeqLM, AutoTokenizer\n",
    "\n",
    "peft_model_id = \"./result/flan-t5-cup-lora\"\n",
    "base_model_name_or_path = '.../../../pretrain_models/google-flan-t5-small'\n",
    "config = PeftConfig.from_pretrained(peft_model_id)\n",
    "\n",
    "# model = AutoModelForSeq2SeqLM.from_pretrained(config.base_model_name_or_path, torch_dtype=\"auto\", device_map=\"auto\")\n",
    "model = AutoModelForSeq2SeqLM.from_pretrained(config.base_model_name_or_path, torch_dtype=\"auto\", device_map=\"cpu\")\n",
    "tokenizer = AutoTokenizer.from_pretrained(config.base_model_name_or_path)\n",
    "\n",
    "# Load the Lora model\n",
    "model = PeftModel.from_pretrained(model, peft_model_id)"
   ]
  },
  {
   "cell_type": "code",
   "execution_count": 9,
   "metadata": {
    "ExecuteTime": {
     "end_time": "2023-12-02T16:40:55.202266Z",
     "start_time": "2023-12-02T16:40:55.100686Z"
    },
    "collapsed": false
   },
   "outputs": [
    {
     "name": "stdout",
     "output_type": "stream",
     "text": [
      "input sentence:  In January-September 2009 , the Group 's net interest income increased to EUR 112.4 mn from EUR 74.3 mn in January-September 2008 .\n",
      " output prediction:  ['positive positive positive positive positive positive positive positive positive positive']\n"
     ]
    }
   ],
   "source": [
    "model.eval()\n",
    "input_text = \"In January-September 2009 , the Group 's net interest income increased to EUR 112.4 mn from EUR 74.3 mn in January-September 2008 .\"\n",
    "inputs = tokenizer(input_text, return_tensors=\"pt\")\n",
    "\n",
    "outputs = model.generate(input_ids=inputs[\"input_ids\"], max_new_tokens=10)\n",
    "\n",
    "print(\"input sentence: \", input_text)\n",
    "print(\" output prediction: \", tokenizer.batch_decode(outputs.detach().cpu().numpy(), skip_special_tokens=True))"
   ]
  },
  {
   "cell_type": "code",
   "execution_count": 8,
   "metadata": {
    "ExecuteTime": {
     "end_time": "2023-12-02T16:37:04.919570Z",
     "start_time": "2023-12-02T16:37:04.379496Z"
    },
    "collapsed": false
   },
   "outputs": [
    {
     "name": "stdout",
     "output_type": "stream",
     "text": [
      "input sentence:  In January-September 2009 , the Group 's net interest income increased to EUR 112.4 mn from EUR 74.3 mn in January-September 2008 .\n",
      " output prediction:  ['positive positive positive positive positive positive positive positive positive positive']\n"
     ]
    }
   ],
   "source": [
    "model.eval()\n",
    "input_text = \"In January-September 2009 , the Group 's net interest income increased to EUR 112.4 mn from EUR 74.3 mn in January-September 2008 .\"\n",
    "inputs = tokenizer(input_text, return_tensors=\"pt\")\n",
    "\n",
    "outputs = model.generate(input_ids=inputs[\"input_ids\"], max_new_tokens=10)\n",
    "\n",
    "print(\"input sentence: \", input_text)\n",
    "print(\" output prediction: \", tokenizer.batch_decode(outputs.detach().cpu().numpy(), skip_special_tokens=True))"
   ]
  },
  {
   "cell_type": "markdown",
   "metadata": {
    "collapsed": false
   },
   "source": [
    "## 1.3 Experimental Result"
   ]
  },
  {
   "cell_type": "code",
   "execution_count": null,
   "metadata": {
    "collapsed": false,
    "is_executing": true
   },
   "outputs": [],
   "source": [
    "class HTMLRender:\n",
    "    def __init__(self,html_str):\n",
    "        self.html_str =html_str\n",
    "    def _repr_html_(self):\n",
    "       return self.html_str\n"
   ]
  },
  {
   "cell_type": "code",
   "execution_count": null,
   "metadata": {
    "collapsed": false,
    "is_executing": true
   },
   "outputs": [],
   "source": [
    "model_accurcy_html = '''\n",
    "<table>\n",
    "  <tr>\n",
    "    <th>eval loss</th>\n",
    "    <th>eval accuracy</th>\n",
    "    <th>eval precision</th>\n",
    "    <th>eval recall</th>\n",
    "    <th>eval f1</th>\n",
    "  </tr>\n",
    "  <tr>\n",
    "    <td style=\"background-color:#4C72B0;\">0.102</td>\n",
    "    <td style=\"background-color:#55A868;\">0.896</td>\n",
    "    <td style=\"background-color:#C44E52;\">0.90</td>\n",
    "     <td style=\"background-color:#8172B2;\">0.896</td>\n",
    "    <td style=\"background-color:#64B5CD;\">0.894</td>\n",
    "  </tr>\n",
    "\n",
    "</table>\n",
    "\n",
    "       '''\n",
    "HTMLRender(model_accurcy_html)"
   ]
  },
  {
   "cell_type": "code",
   "execution_count": null,
   "metadata": {
    "collapsed": false,
    "is_executing": true
   },
   "outputs": [],
   "source": [
    "accuracy_html = '''\n",
    "<img src=\"./image/flan-t5-small-accuracy.png\" alt=\"flan-t5-small-accuracy\" width=\"70%\">\n",
    "'''\n",
    "HTMLRender(accuracy_html)"
   ]
  },
  {
   "cell_type": "code",
   "execution_count": null,
   "metadata": {
    "collapsed": false
   },
   "outputs": [],
   "source": [
    "## Load your adapter from the Hub\n"
   ]
  }
 ],
 "metadata": {
  "kernelspec": {
   "display_name": "Python 3",
   "language": "python",
   "name": "python3"
  },
  "language_info": {
   "codemirror_mode": {
    "name": "ipython",
    "version": 3
   },
   "file_extension": ".py",
   "mimetype": "text/x-python",
   "name": "python",
   "nbconvert_exporter": "python",
   "pygments_lexer": "ipython3",
   "version": "3.11.5"
  }
 },
 "nbformat": 4,
 "nbformat_minor": 0
}
