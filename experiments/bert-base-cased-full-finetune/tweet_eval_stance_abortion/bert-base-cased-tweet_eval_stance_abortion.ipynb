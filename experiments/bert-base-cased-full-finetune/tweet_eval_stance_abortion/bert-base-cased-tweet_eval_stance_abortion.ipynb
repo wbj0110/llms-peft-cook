{
 "cells": [
  {
   "cell_type": "markdown",
   "metadata": {
    "collapsed": false
   },
   "source": [
    "Finetuning the model on financial_phrasebank dataset, that consists of pairs of text-labels to classify financial-related sentences, if they are either <span style=\"color: red;\">positive</span>, <span style=\"color: purple;\">neutral</span> or <span style=\"color: green;\">negative</span>."
   ]
  },
  {
   "cell_type": "markdown",
   "metadata": {
    "collapsed": false
   },
   "source": [
    "# 1.Experimental Setup1"
   ]
  },
  {
   "cell_type": "markdown",
   "metadata": {
    "collapsed": false
   },
   "source": [
    "## 1.1 Setup"
   ]
  },
  {
   "cell_type": "markdown",
   "metadata": {
    "collapsed": false
   },
   "source": [
    "## 1.2 Training"
   ]
  },
  {
   "cell_type": "markdown",
   "metadata": {
    "collapsed": false
   },
   "source": [
    "### 1.2.1 Run code on CPU version"
   ]
  },
  {
   "cell_type": "code",
   "execution_count": null,
   "metadata": {
    "collapsed": false,
    "is_executing": true
   },
   "outputs": [],
   "source": [
    "!pwd"
   ]
  },
  {
   "cell_type": "code",
   "execution_count": null,
   "metadata": {
    "collapsed": false
   },
   "outputs": [],
   "source": []
  },
  {
   "cell_type": "code",
   "execution_count": 3,
   "metadata": {
    "collapsed": false,
    "ExecuteTime": {
     "end_time": "2023-12-10T14:07:18.460186Z",
     "start_time": "2023-12-10T13:53:28.931781Z"
    }
   },
   "outputs": [
    {
     "name": "stdout",
     "output_type": "stream",
     "text": [
      "/Users/wengbenjue/opt/anaconda3/envs/peft/lib/python3.11/site-packages/bitsandbytes/cextension.py:34: UserWarning: The installed version of bitsandbytes was compiled without GPU support. 8-bit optimizers, 8-bit multiplication, and GPU quantization are unavailable.\r\n",
      "  warn(\"The installed version of bitsandbytes was compiled without GPU support. \"\r\n",
      "'NoneType' object has no attribute 'cadam32bit_grad_fp32'\r\n",
      "/Users/wengbenjue/opt/anaconda3/envs/peft/lib/python3.11/site-packages/trl/trainer/ppo_config.py:141: UserWarning: The `optimize_cuda_cache` arguement will be deprecated soon, please use `optimize_device_cache` instead.\r\n",
      "  warnings.warn(\r\n",
      "Some weights of BertForSequenceClassification were not initialized from the model checkpoint at ../../../pretrain_models/bert-base-cased and are newly initialized: ['classifier.weight', 'classifier.bias']\r\n",
      "You should probably TRAIN this model on a down-stream task to be able to use it for predictions and inference.\r\n",
      "use AutoModelForSequenceClassification load bert model.\r\n",
      "trainable params: 108312579 || all params: 108312579 || trainable%: 100.0\r\n",
      "tokenizer padding setting: [PAD]\r\n",
      "Sentence: seeing ppl walking w/ crutches makes me really excited for the next 3 weeks of my life\r\n",
      "  0%|                                                    | 0/55 [00:00<?, ?it/s]/Users/wengbenjue/opt/anaconda3/envs/peft/lib/python3.11/site-packages/torch/utils/checkpoint.py:429: UserWarning: torch.utils.checkpoint: please pass in use_reentrant=True or use_reentrant=False explicitly. The default value of use_reentrant will be updated to be False in the future. To maintain current behavior, pass use_reentrant=True. It is recommended that you use use_reentrant=False. Refer to docs for more details on the differences between the two variants.\r\n",
      "  warnings.warn(\r\n",
      "{'loss': 1.4285, 'learning_rate': 0.0008181818181818183, 'epoch': 0.89}         \r\n",
      " 20%|████████▌                                  | 11/55 [02:38<10:45, 14.66s/it]\r\n",
      "  0%|                                                    | 0/15 [00:00<?, ?it/s]\u001B[A\r\n",
      " 13%|█████▊                                      | 2/15 [00:00<00:05,  2.30it/s]\u001B[A\r\n",
      " 20%|████████▊                                   | 3/15 [00:01<00:07,  1.51it/s]\u001B[A\r\n",
      " 27%|███████████▋                                | 4/15 [00:02<00:08,  1.33it/s]\u001B[A\r\n",
      " 33%|██████████████▋                             | 5/15 [00:03<00:08,  1.20it/s]\u001B[A\r\n",
      " 40%|█████████████████▌                          | 6/15 [00:04<00:07,  1.13it/s]\u001B[A\r\n",
      " 47%|████████████████████▌                       | 7/15 [00:05<00:07,  1.12it/s]\u001B[A\r\n",
      " 53%|███████████████████████▍                    | 8/15 [00:06<00:06,  1.11it/s]\u001B[A\r\n",
      " 60%|██████████████████████████▍                 | 9/15 [00:07<00:05,  1.09it/s]\u001B[A\r\n",
      " 67%|████████████████████████████▋              | 10/15 [00:08<00:04,  1.07it/s]\u001B[A\r\n",
      " 73%|███████████████████████████████▌           | 11/15 [00:09<00:03,  1.05it/s]\u001B[A\r\n",
      " 80%|██████████████████████████████████▍        | 12/15 [00:10<00:02,  1.06it/s]\u001B[A\r\n",
      " 87%|█████████████████████████████████████▎     | 13/15 [00:11<00:01,  1.05it/s]\u001B[A\r\n",
      " 93%|████████████████████████████████████████▏  | 14/15 [00:12<00:00,  1.00it/s]\u001B[A\r\n",
      "                                                                                \u001B[A\r\n",
      "\u001B[A{'eval_loss': 0.871715247631073, 'eval_accuracy': 0.4774869109947644, 'eval_precision': 0.22799375017132206, 'eval_recall': 0.4774869109947644, 'eval_f1': 0.3086237156819455, 'eval_runtime': 14.8276, 'eval_samples_per_second': 64.407, 'eval_steps_per_second': 1.012, 'epoch': 0.98}\r\n",
      " 20%|████████▌                                  | 11/55 [02:57<10:45, 14.66s/it]\r\n",
      "100%|███████████████████████████████████████████| 15/15 [00:13<00:00,  1.12s/it]\u001B[A\r\n",
      "                                                                                \u001B[A/Users/wengbenjue/opt/anaconda3/envs/peft/lib/python3.11/site-packages/torch/utils/checkpoint.py:429: UserWarning: torch.utils.checkpoint: please pass in use_reentrant=True or use_reentrant=False explicitly. The default value of use_reentrant will be updated to be False in the future. To maintain current behavior, pass use_reentrant=True. It is recommended that you use use_reentrant=False. Refer to docs for more details on the differences between the two variants.\r\n",
      "  warnings.warn(\r\n",
      "{'loss': 0.7452, 'learning_rate': 0.0006363636363636364, 'epoch': 1.78}         \r\n",
      " 40%|█████████████████▏                         | 22/55 [05:33<07:58, 14.51s/it]\r\n",
      "  0%|                                                    | 0/15 [00:00<?, ?it/s]\u001B[A\r\n",
      " 13%|█████▊                                      | 2/15 [00:00<00:05,  2.30it/s]\u001B[A\r\n",
      " 20%|████████▊                                   | 3/15 [00:01<00:07,  1.64it/s]\u001B[A\r\n",
      " 27%|███████████▋                                | 4/15 [00:02<00:07,  1.51it/s]\u001B[A\r\n",
      " 33%|██████████████▋                             | 5/15 [00:03<00:06,  1.43it/s]\u001B[A\r\n",
      " 40%|█████████████████▌                          | 6/15 [00:04<00:06,  1.34it/s]\u001B[A\r\n",
      " 47%|████████████████████▌                       | 7/15 [00:04<00:06,  1.26it/s]\u001B[A\r\n",
      " 53%|███████████████████████▍                    | 8/15 [00:05<00:05,  1.21it/s]\u001B[A\r\n",
      " 60%|██████████████████████████▍                 | 9/15 [00:06<00:05,  1.19it/s]\u001B[A\r\n",
      " 67%|████████████████████████████▋              | 10/15 [00:07<00:04,  1.23it/s]\u001B[A\r\n",
      " 73%|███████████████████████████████▌           | 11/15 [00:08<00:03,  1.26it/s]\u001B[A\r\n",
      " 80%|██████████████████████████████████▍        | 12/15 [00:09<00:02,  1.23it/s]\u001B[A\r\n",
      " 87%|█████████████████████████████████████▎     | 13/15 [00:09<00:01,  1.23it/s]\u001B[A\r\n",
      " 93%|████████████████████████████████████████▏  | 14/15 [00:10<00:00,  1.21it/s]\u001B[A\r\n",
      "                                                                                \u001B[A\r\n",
      "\u001B[A{'eval_loss': 0.6989436745643616, 'eval_accuracy': 0.5225130890052356, 'eval_precision': 0.27301992818179327, 'eval_recall': 0.5225130890052356, 'eval_f1': 0.3586437846129471, 'eval_runtime': 12.4853, 'eval_samples_per_second': 76.49, 'eval_steps_per_second': 1.201, 'epoch': 1.96}\r\n",
      " 40%|█████████████████▏                         | 22/55 [05:52<07:58, 14.51s/it]\r\n",
      "100%|███████████████████████████████████████████| 15/15 [00:11<00:00,  1.24it/s]\u001B[A\r\n",
      "                                                                                \u001B[A/Users/wengbenjue/opt/anaconda3/envs/peft/lib/python3.11/site-packages/torch/utils/checkpoint.py:429: UserWarning: torch.utils.checkpoint: please pass in use_reentrant=True or use_reentrant=False explicitly. The default value of use_reentrant will be updated to be False in the future. To maintain current behavior, pass use_reentrant=True. It is recommended that you use use_reentrant=False. Refer to docs for more details on the differences between the two variants.\r\n",
      "  warnings.warn(\r\n",
      "{'loss': 0.7051, 'learning_rate': 0.00045454545454545455, 'epoch': 2.67}        \r\n",
      " 60%|█████████████████████████▊                 | 33/55 [08:20<05:11, 14.15s/it]\r\n",
      "  0%|                                                    | 0/15 [00:00<?, ?it/s]\u001B[A\r\n",
      " 13%|█████▊                                      | 2/15 [00:00<00:05,  2.50it/s]\u001B[A\r\n",
      " 20%|████████▊                                   | 3/15 [00:01<00:07,  1.69it/s]\u001B[A\r\n",
      " 27%|███████████▋                                | 4/15 [00:02<00:07,  1.45it/s]\u001B[A\r\n",
      " 33%|██████████████▋                             | 5/15 [00:03<00:07,  1.36it/s]\u001B[A\r\n",
      " 40%|█████████████████▌                          | 6/15 [00:04<00:06,  1.33it/s]\u001B[A\r\n",
      " 47%|████████████████████▌                       | 7/15 [00:04<00:06,  1.33it/s]\u001B[A\r\n",
      " 53%|███████████████████████▍                    | 8/15 [00:05<00:05,  1.34it/s]\u001B[A\r\n",
      " 60%|██████████████████████████▍                 | 9/15 [00:06<00:04,  1.27it/s]\u001B[A\r\n",
      " 67%|████████████████████████████▋              | 10/15 [00:07<00:04,  1.24it/s]\u001B[A\r\n",
      " 73%|███████████████████████████████▌           | 11/15 [00:08<00:03,  1.23it/s]\u001B[A\r\n",
      " 80%|██████████████████████████████████▍        | 12/15 [00:08<00:02,  1.28it/s]\u001B[A\r\n",
      " 87%|█████████████████████████████████████▎     | 13/15 [00:09<00:01,  1.30it/s]\u001B[A\r\n",
      " 93%|████████████████████████████████████████▏  | 14/15 [00:10<00:00,  1.23it/s]\u001B[A\r\n",
      "                                                                                \u001B[A\r\n",
      "\u001B[A{'eval_loss': 0.6923156976699829, 'eval_accuracy': 0.5225130890052356, 'eval_precision': 0.27301992818179327, 'eval_recall': 0.5225130890052356, 'eval_f1': 0.3586437846129471, 'eval_runtime': 12.2667, 'eval_samples_per_second': 77.853, 'eval_steps_per_second': 1.223, 'epoch': 2.93}\r\n",
      " 60%|█████████████████████████▊                 | 33/55 [08:42<05:11, 14.15s/it]\r\n",
      "100%|███████████████████████████████████████████| 15/15 [00:11<00:00,  1.22it/s]\u001B[A\r\n",
      "                                                                                \u001B[A/Users/wengbenjue/opt/anaconda3/envs/peft/lib/python3.11/site-packages/torch/utils/checkpoint.py:429: UserWarning: torch.utils.checkpoint: please pass in use_reentrant=True or use_reentrant=False explicitly. The default value of use_reentrant will be updated to be False in the future. To maintain current behavior, pass use_reentrant=True. It is recommended that you use use_reentrant=False. Refer to docs for more details on the differences between the two variants.\r\n",
      "  warnings.warn(\r\n",
      "{'loss': 0.6995, 'learning_rate': 0.00027272727272727274, 'epoch': 3.56}        \r\n",
      " 82%|███████████████████████████████████▏       | 45/55 [11:13<02:14, 13.40s/it]\r\n",
      "  0%|                                                    | 0/15 [00:00<?, ?it/s]\u001B[A\r\n",
      " 13%|█████▊                                      | 2/15 [00:00<00:05,  2.30it/s]\u001B[A\r\n",
      " 20%|████████▊                                   | 3/15 [00:01<00:07,  1.61it/s]\u001B[A\r\n",
      " 27%|███████████▋                                | 4/15 [00:02<00:08,  1.32it/s]\u001B[A\r\n",
      " 33%|██████████████▋                             | 5/15 [00:03<00:08,  1.17it/s]\u001B[A\r\n",
      " 40%|█████████████████▌                          | 6/15 [00:04<00:07,  1.13it/s]\u001B[A\r\n",
      " 47%|████████████████████▌                       | 7/15 [00:05<00:07,  1.07it/s]\u001B[A\r\n",
      " 53%|███████████████████████▍                    | 8/15 [00:06<00:06,  1.08it/s]\u001B[A\r\n",
      " 60%|██████████████████████████▍                 | 9/15 [00:07<00:05,  1.10it/s]\u001B[A\r\n",
      " 67%|████████████████████████████▋              | 10/15 [00:08<00:04,  1.15it/s]\u001B[A\r\n",
      " 73%|███████████████████████████████▌           | 11/15 [00:09<00:03,  1.18it/s]\u001B[A\r\n",
      " 80%|██████████████████████████████████▍        | 12/15 [00:09<00:02,  1.17it/s]\u001B[A\r\n",
      " 87%|█████████████████████████████████████▎     | 13/15 [00:10<00:01,  1.18it/s]\u001B[A\r\n",
      " 93%|████████████████████████████████████████▏  | 14/15 [00:11<00:00,  1.18it/s]\u001B[A\r\n",
      "                                                                                \u001B[A\r\n",
      "\u001B[A                                                                             {'eval_loss': 0.6975106596946716, 'eval_accuracy': 0.4774869109947644, 'eval_precision': 0.22799375017132206, 'eval_recall': 0.4774869109947644, 'eval_f1': 0.3086237156819455, 'eval_runtime': 13.2817, 'eval_samples_per_second': 71.903, 'eval_steps_per_second': 1.129, 'epoch': 4.0}\r\n",
      " 82%|███████████████████████████████████▏       | 45/55 [11:26<02:14, 13.40s/it]\r\n",
      "100%|███████████████████████████████████████████| 15/15 [00:12<00:00,  1.23it/s]\u001B[A\r\n",
      "                                                                                \u001B[A/Users/wengbenjue/opt/anaconda3/envs/peft/lib/python3.11/site-packages/torch/utils/checkpoint.py:429: UserWarning: torch.utils.checkpoint: please pass in use_reentrant=True or use_reentrant=False explicitly. The default value of use_reentrant will be updated to be False in the future. To maintain current behavior, pass use_reentrant=True. It is recommended that you use use_reentrant=False. Refer to docs for more details on the differences between the two variants.\r\n",
      "  warnings.warn(\r\n",
      "{'loss': 0.7047, 'learning_rate': 9.090909090909092e-05, 'epoch': 4.44}         \r\n",
      "100%|███████████████████████████████████████████| 55/55 [13:34<00:00, 12.57s/it]\r\n",
      "  0%|                                                    | 0/15 [00:00<?, ?it/s]\u001B[A\r\n",
      " 13%|█████▊                                      | 2/15 [00:00<00:05,  2.56it/s]\u001B[A\r\n",
      " 20%|████████▊                                   | 3/15 [00:01<00:06,  1.96it/s]\u001B[A\r\n",
      " 27%|███████████▋                                | 4/15 [00:02<00:06,  1.63it/s]\u001B[A\r\n",
      " 33%|██████████████▋                             | 5/15 [00:02<00:06,  1.58it/s]\u001B[A\r\n",
      " 40%|█████████████████▌                          | 6/15 [00:03<00:05,  1.52it/s]\u001B[A\r\n",
      " 47%|████████████████████▌                       | 7/15 [00:04<00:05,  1.51it/s]\u001B[A\r\n",
      " 53%|███████████████████████▍                    | 8/15 [00:04<00:04,  1.50it/s]\u001B[A\r\n",
      " 60%|██████████████████████████▍                 | 9/15 [00:05<00:04,  1.46it/s]\u001B[A\r\n",
      " 67%|████████████████████████████▋              | 10/15 [00:06<00:03,  1.42it/s]\u001B[A\r\n",
      " 73%|███████████████████████████████▌           | 11/15 [00:07<00:02,  1.39it/s]\u001B[A\r\n",
      " 80%|██████████████████████████████████▍        | 12/15 [00:07<00:02,  1.36it/s]\u001B[A\r\n",
      " 87%|█████████████████████████████████████▎     | 13/15 [00:08<00:01,  1.40it/s]\u001B[A\r\n",
      " 93%|████████████████████████████████████████▏  | 14/15 [00:09<00:00,  1.45it/s]\u001B[A\r\n",
      "                                                                                \u001B[A\r\n",
      "\u001B[A{'eval_loss': 0.6924357414245605, 'eval_accuracy': 0.5225130890052356, 'eval_precision': 0.27301992818179327, 'eval_recall': 0.5225130890052356, 'eval_f1': 0.3586437846129471, 'eval_runtime': 10.7457, 'eval_samples_per_second': 88.873, 'eval_steps_per_second': 1.396, 'epoch': 4.89}\r\n",
      "100%|███████████████████████████████████████████| 55/55 [13:44<00:00, 12.57s/it]\r\n",
      "100%|███████████████████████████████████████████| 15/15 [00:09<00:00,  1.43it/s]\u001B[A\r\n",
      "{'train_runtime': 824.8176, 'train_samples_per_second': 17.349, 'train_steps_per_second': 0.067, 'train_loss': 0.8431432550603694, 'epoch': 4.89}\r\n",
      "100%|███████████████████████████████████████████| 55/55 [13:44<00:00, 15.00s/it]\r\n"
     ]
    }
   ],
   "source": [
    "!python ../../../peft_train.py \\\n",
    "--model_name ../../../pretrain_models/bert-base-cased \\\n",
    "--max_seq_len 2048 \\\n",
    "--group_by_length \\\n",
    "--max_steps 200 \\\n",
    "--dataset_name ../../../text-classification/tweet_eval_stance_abortion \\\n",
    "--num_labels 3 \\\n",
    "--epochs 5 \\\n",
    "--learning_rate 1e-3 \\\n",
    "--per_device_train_batch_size 64 \\\n",
    "--per_device_eval_batch_size 64 \\\n",
    "--model_type SEQ_CLS \\\n",
    "--output_model_path ./result/bert-base-cased-tweet_eval_stance_abortion \\\n",
    "--need_hyperparameters_search False \\\n",
    "--enable_peft False \\\n",
    "--bnb_4bit_compute_dtype float32 \\\n",
    "--use_4b False"
   ]
  },
  {
   "cell_type": "markdown",
   "metadata": {
    "collapsed": false
   },
   "source": [
    "### 1.2.2 Run code on GPU version\n",
    "Load the model together with the adapter with few lines of code! Check the snippet below to load the adapter from the Hub and run the example evaluation."
   ]
  },
  {
   "cell_type": "code",
   "execution_count": null,
   "metadata": {
    "collapsed": false
   },
   "outputs": [],
   "source": [
    "!pip install -q -U trl transformers accelerate git+https://github.com/huggingface/peft.git\n",
    "!pip install -q datasets bitsandbytes einops wandb evaluate\n",
    "from google.colab import drive\n",
    "drive.mount('/content/drive')\n",
    "%cd /content/drive/MyDrive/Colab Notebooks/llms-peft-cook-colab/experiments/bert-base-cased-full-finetune/tweet_eval_stance_abortion"
   ]
  },
  {
   "cell_type": "code",
   "execution_count": 1,
   "metadata": {
    "ExecuteTime": {
     "end_time": "2023-12-04T14:24:23.104426Z",
     "start_time": "2023-12-04T14:14:51.567270Z"
    },
    "collapsed": false
   },
   "outputs": [
    {
     "name": "stdout",
     "output_type": "stream",
     "text": [
      "/Users/wengbenjue/opt/anaconda3/envs/peft/lib/python3.11/site-packages/bitsandbytes/cextension.py:34: UserWarning: The installed version of bitsandbytes was compiled without GPU support. 8-bit optimizers, 8-bit multiplication, and GPU quantization are unavailable.\n",
      "  warn(\"The installed version of bitsandbytes was compiled without GPU support. \"\n",
      "'NoneType' object has no attribute 'cadam32bit_grad_fp32'\n",
      "/Users/wengbenjue/opt/anaconda3/envs/peft/lib/python3.11/site-packages/trl/trainer/ppo_config.py:141: UserWarning: The `optimize_cuda_cache` arguement will be deprecated soon, please use `optimize_device_cache` instead.\n",
      "  warnings.warn(\n",
      "Traceback (most recent call last):\n",
      "  File \"/Users/wengbenjue/opt/anaconda3/envs/peft/lib/python3.11/site-packages/urllib3/connectionpool.py\", line 715, in urlopen\n",
      "    httplib_response = self._make_request(\n",
      "                       ^^^^^^^^^^^^^^^^^^^\n",
      "  File \"/Users/wengbenjue/opt/anaconda3/envs/peft/lib/python3.11/site-packages/urllib3/connectionpool.py\", line 404, in _make_request\n",
      "    self._validate_conn(conn)\n",
      "  File \"/Users/wengbenjue/opt/anaconda3/envs/peft/lib/python3.11/site-packages/urllib3/connectionpool.py\", line 1058, in _validate_conn\n",
      "    conn.connect()\n",
      "  File \"/Users/wengbenjue/opt/anaconda3/envs/peft/lib/python3.11/site-packages/urllib3/connection.py\", line 419, in connect\n",
      "    self.sock = ssl_wrap_socket(\n",
      "                ^^^^^^^^^^^^^^^^\n",
      "  File \"/Users/wengbenjue/opt/anaconda3/envs/peft/lib/python3.11/site-packages/urllib3/util/ssl_.py\", line 449, in ssl_wrap_socket\n",
      "    ssl_sock = _ssl_wrap_socket_impl(\n",
      "               ^^^^^^^^^^^^^^^^^^^^^^\n",
      "  File \"/Users/wengbenjue/opt/anaconda3/envs/peft/lib/python3.11/site-packages/urllib3/util/ssl_.py\", line 493, in _ssl_wrap_socket_impl\n",
      "    return ssl_context.wrap_socket(sock, server_hostname=server_hostname)\n",
      "           ^^^^^^^^^^^^^^^^^^^^^^^^^^^^^^^^^^^^^^^^^^^^^^^^^^^^^^^^^^^^^^\n",
      "  File \"/Users/wengbenjue/opt/anaconda3/envs/peft/lib/python3.11/ssl.py\", line 517, in wrap_socket\n",
      "    return self.sslsocket_class._create(\n",
      "           ^^^^^^^^^^^^^^^^^^^^^^^^^^^^^\n",
      "  File \"/Users/wengbenjue/opt/anaconda3/envs/peft/lib/python3.11/ssl.py\", line 1108, in _create\n",
      "    self.do_handshake()\n",
      "  File \"/Users/wengbenjue/opt/anaconda3/envs/peft/lib/python3.11/ssl.py\", line 1379, in do_handshake\n",
      "    self._sslobj.do_handshake()\n",
      "ConnectionResetError: [Errno 54] Connection reset by peer\n",
      "\n",
      "During handling of the above exception, another exception occurred:\n",
      "\n",
      "Traceback (most recent call last):\n",
      "  File \"/Users/wengbenjue/opt/anaconda3/envs/peft/lib/python3.11/site-packages/requests/adapters.py\", line 486, in send\n",
      "    resp = conn.urlopen(\n",
      "           ^^^^^^^^^^^^^\n",
      "  File \"/Users/wengbenjue/opt/anaconda3/envs/peft/lib/python3.11/site-packages/urllib3/connectionpool.py\", line 799, in urlopen\n",
      "    retries = retries.increment(\n",
      "              ^^^^^^^^^^^^^^^^^^\n",
      "  File \"/Users/wengbenjue/opt/anaconda3/envs/peft/lib/python3.11/site-packages/urllib3/util/retry.py\", line 550, in increment\n",
      "    raise six.reraise(type(error), error, _stacktrace)\n",
      "          ^^^^^^^^^^^^^^^^^^^^^^^^^^^^^^^^^^^^^^^^^^^^\n",
      "  File \"/Users/wengbenjue/opt/anaconda3/envs/peft/lib/python3.11/site-packages/urllib3/packages/six.py\", line 769, in reraise\n",
      "    raise value.with_traceback(tb)\n",
      "  File \"/Users/wengbenjue/opt/anaconda3/envs/peft/lib/python3.11/site-packages/urllib3/connectionpool.py\", line 715, in urlopen\n",
      "    httplib_response = self._make_request(\n",
      "                       ^^^^^^^^^^^^^^^^^^^\n",
      "  File \"/Users/wengbenjue/opt/anaconda3/envs/peft/lib/python3.11/site-packages/urllib3/connectionpool.py\", line 404, in _make_request\n",
      "    self._validate_conn(conn)\n",
      "  File \"/Users/wengbenjue/opt/anaconda3/envs/peft/lib/python3.11/site-packages/urllib3/connectionpool.py\", line 1058, in _validate_conn\n",
      "    conn.connect()\n",
      "  File \"/Users/wengbenjue/opt/anaconda3/envs/peft/lib/python3.11/site-packages/urllib3/connection.py\", line 419, in connect\n",
      "    self.sock = ssl_wrap_socket(\n",
      "                ^^^^^^^^^^^^^^^^\n",
      "  File \"/Users/wengbenjue/opt/anaconda3/envs/peft/lib/python3.11/site-packages/urllib3/util/ssl_.py\", line 449, in ssl_wrap_socket\n",
      "    ssl_sock = _ssl_wrap_socket_impl(\n",
      "               ^^^^^^^^^^^^^^^^^^^^^^\n",
      "  File \"/Users/wengbenjue/opt/anaconda3/envs/peft/lib/python3.11/site-packages/urllib3/util/ssl_.py\", line 493, in _ssl_wrap_socket_impl\n",
      "    return ssl_context.wrap_socket(sock, server_hostname=server_hostname)\n",
      "           ^^^^^^^^^^^^^^^^^^^^^^^^^^^^^^^^^^^^^^^^^^^^^^^^^^^^^^^^^^^^^^\n",
      "  File \"/Users/wengbenjue/opt/anaconda3/envs/peft/lib/python3.11/ssl.py\", line 517, in wrap_socket\n",
      "    return self.sslsocket_class._create(\n",
      "           ^^^^^^^^^^^^^^^^^^^^^^^^^^^^^\n",
      "  File \"/Users/wengbenjue/opt/anaconda3/envs/peft/lib/python3.11/ssl.py\", line 1108, in _create\n",
      "    self.do_handshake()\n",
      "  File \"/Users/wengbenjue/opt/anaconda3/envs/peft/lib/python3.11/ssl.py\", line 1379, in do_handshake\n",
      "    self._sslobj.do_handshake()\n",
      "urllib3.exceptions.ProtocolError: ('Connection aborted.', ConnectionResetError(54, 'Connection reset by peer'))\n",
      "\n",
      "During handling of the above exception, another exception occurred:\n",
      "\n",
      "Traceback (most recent call last):\n",
      "  File \"/Users/wengbenjue/opt/anaconda3/envs/peft/lib/python3.11/site-packages/huggingface_hub/file_download.py\", line 1247, in hf_hub_download\n",
      "    metadata = get_hf_file_metadata(\n",
      "               ^^^^^^^^^^^^^^^^^^^^^\n",
      "  File \"/Users/wengbenjue/opt/anaconda3/envs/peft/lib/python3.11/site-packages/huggingface_hub/utils/_validators.py\", line 118, in _inner_fn\n",
      "    return fn(*args, **kwargs)\n",
      "           ^^^^^^^^^^^^^^^^^^^\n",
      "  File \"/Users/wengbenjue/opt/anaconda3/envs/peft/lib/python3.11/site-packages/huggingface_hub/file_download.py\", line 1624, in get_hf_file_metadata\n",
      "    r = _request_wrapper(\n",
      "        ^^^^^^^^^^^^^^^^^\n",
      "  File \"/Users/wengbenjue/opt/anaconda3/envs/peft/lib/python3.11/site-packages/huggingface_hub/file_download.py\", line 402, in _request_wrapper\n",
      "    response = _request_wrapper(\n",
      "               ^^^^^^^^^^^^^^^^^\n",
      "  File \"/Users/wengbenjue/opt/anaconda3/envs/peft/lib/python3.11/site-packages/huggingface_hub/file_download.py\", line 425, in _request_wrapper\n",
      "    response = get_session().request(method=method, url=url, **params)\n",
      "               ^^^^^^^^^^^^^^^^^^^^^^^^^^^^^^^^^^^^^^^^^^^^^^^^^^^^^^^\n",
      "  File \"/Users/wengbenjue/opt/anaconda3/envs/peft/lib/python3.11/site-packages/requests/sessions.py\", line 589, in request\n",
      "    resp = self.send(prep, **send_kwargs)\n",
      "           ^^^^^^^^^^^^^^^^^^^^^^^^^^^^^^\n",
      "  File \"/Users/wengbenjue/opt/anaconda3/envs/peft/lib/python3.11/site-packages/requests/sessions.py\", line 703, in send\n",
      "    r = adapter.send(request, **kwargs)\n",
      "        ^^^^^^^^^^^^^^^^^^^^^^^^^^^^^^^\n",
      "  File \"/Users/wengbenjue/opt/anaconda3/envs/peft/lib/python3.11/site-packages/huggingface_hub/utils/_http.py\", line 63, in send\n",
      "    return super().send(request, *args, **kwargs)\n",
      "           ^^^^^^^^^^^^^^^^^^^^^^^^^^^^^^^^^^^^^^\n",
      "  File \"/Users/wengbenjue/opt/anaconda3/envs/peft/lib/python3.11/site-packages/requests/adapters.py\", line 501, in send\n",
      "    raise ConnectionError(err, request=request)\n",
      "requests.exceptions.ConnectionError: (ProtocolError('Connection aborted.', ConnectionResetError(54, 'Connection reset by peer')), '(Request ID: f31af556-77dc-4a71-a5ec-465a5a7d72b1)')\n",
      "\n",
      "The above exception was the direct cause of the following exception:\n",
      "\n",
      "Traceback (most recent call last):\n",
      "  File \"/Users/wengbenjue/opt/anaconda3/envs/peft/lib/python3.11/site-packages/transformers/utils/hub.py\", line 430, in cached_file\n",
      "    resolved_file = hf_hub_download(\n",
      "                    ^^^^^^^^^^^^^^^^\n",
      "  File \"/Users/wengbenjue/opt/anaconda3/envs/peft/lib/python3.11/site-packages/huggingface_hub/utils/_validators.py\", line 118, in _inner_fn\n",
      "    return fn(*args, **kwargs)\n",
      "           ^^^^^^^^^^^^^^^^^^^\n",
      "  File \"/Users/wengbenjue/opt/anaconda3/envs/peft/lib/python3.11/site-packages/huggingface_hub/file_download.py\", line 1377, in hf_hub_download\n",
      "    raise LocalEntryNotFoundError(\n",
      "huggingface_hub.utils._errors.LocalEntryNotFoundError: An error happened while trying to locate the file on the Hub and we cannot find the requested files in the local cache. Please check your connection and try again or make sure your Internet connection is on.\n",
      "\n",
      "The above exception was the direct cause of the following exception:\n",
      "\n",
      "Traceback (most recent call last):\n",
      "  File \"/Users/wengbenjue/sourcecode/peft/llms-peft-cook/experiments/bert-base-cased-full-finetune/tweet_eval_stance_abortion/../../../peft_train.py\", line 360, in <module>\n",
      "    model, peft_config, tokenizer = create_and_prepare_model(script_args)\n",
      "                                    ^^^^^^^^^^^^^^^^^^^^^^^^^^^^^^^^^^^^^\n",
      "  File \"/Users/wengbenjue/sourcecode/peft/llms-peft-cook/experiments/bert-base-cased-full-finetune/tweet_eval_stance_abortion/../../../peft_train.py\", line 236, in create_and_prepare_model\n",
      "    model = BertForSequenceClassification.from_pretrained(\n",
      "            ^^^^^^^^^^^^^^^^^^^^^^^^^^^^^^^^^^^^^^^^^^^^^^\n",
      "  File \"/Users/wengbenjue/opt/anaconda3/envs/peft/lib/python3.11/site-packages/transformers/modeling_utils.py\", line 2760, in from_pretrained\n",
      "    config, model_kwargs = cls.config_class.from_pretrained(\n",
      "                           ^^^^^^^^^^^^^^^^^^^^^^^^^^^^^^^^^\n",
      "  File \"/Users/wengbenjue/opt/anaconda3/envs/peft/lib/python3.11/site-packages/transformers/configuration_utils.py\", line 593, in from_pretrained\n",
      "    config_dict, kwargs = cls.get_config_dict(pretrained_model_name_or_path, **kwargs)\n",
      "                          ^^^^^^^^^^^^^^^^^^^^^^^^^^^^^^^^^^^^^^^^^^^^^^^^^^^^^^^^^^^^\n",
      "  File \"/Users/wengbenjue/opt/anaconda3/envs/peft/lib/python3.11/site-packages/transformers/configuration_utils.py\", line 622, in get_config_dict\n",
      "    config_dict, kwargs = cls._get_config_dict(pretrained_model_name_or_path, **kwargs)\n",
      "                          ^^^^^^^^^^^^^^^^^^^^^^^^^^^^^^^^^^^^^^^^^^^^^^^^^^^^^^^^^^^^^\n",
      "  File \"/Users/wengbenjue/opt/anaconda3/envs/peft/lib/python3.11/site-packages/transformers/configuration_utils.py\", line 677, in _get_config_dict\n",
      "    resolved_config_file = cached_file(\n",
      "                           ^^^^^^^^^^^^\n",
      "  File \"/Users/wengbenjue/opt/anaconda3/envs/peft/lib/python3.11/site-packages/transformers/utils/hub.py\", line 470, in cached_file\n",
      "    raise EnvironmentError(\n",
      "OSError: We couldn't connect to 'https://huggingface.co' to load this file, couldn't find it in the cached files and it looks like bert-base-cased is not the path to a directory containing a file named config.json.\n",
      "Checkout your internet connection or see how to run the library in offline mode at 'https://huggingface.co/docs/transformers/installation#offline-mode'.\n"
     ]
    }
   ],
   "source": [
    "import os\n",
    "os.environ[\"CUDA_VISIBLE_DEVICES\"] = \"0\"\n",
    "!python ../../../peft_train.py \\\n",
    "--model_name bert-base-cased \\\n",
    "--max_seq_len 2048 \\\n",
    "--group_by_length \\\n",
    "--max_steps 200 \\\n",
    "--dataset_name ../../../text-classification/tweet_eval_stance_abortion \\\n",
    "--num_labels 2 \\\n",
    "--epochs 5 \\\n",
    "--learning_rate 1e-3 \\\n",
    "--per_device_train_batch_size 64 \\\n",
    "--per_device_eval_batch_size 64 \\\n",
    "--model_type SEQ_CLS \\\n",
    "--output_model_path ./result/bert-base-cased-tweet_eval_stance_abortion \\\n",
    "--bnb_4bit_compute_dtype float16 \\\n",
    "--need_hyperparameters_search False \\\n",
    "--enable_peft False \\\n",
    "--use_4b False"
   ]
  },
  {
   "cell_type": "markdown",
   "metadata": {
    "collapsed": false
   },
   "source": [
    "# Load your adapter from the Hub"
   ]
  },
  {
   "cell_type": "code",
   "execution_count": 7,
   "metadata": {
    "ExecuteTime": {
     "end_time": "2023-12-02T16:37:01.962850Z",
     "start_time": "2023-12-02T16:37:01.696535Z"
    },
    "collapsed": false
   },
   "outputs": [],
   "source": [
    "import torch\n",
    "from peft import PeftModel, PeftConfig\n",
    "from transformers import AutoModelForSeq2SeqLM, AutoTokenizer\n",
    "\n",
    "peft_model_id = \"./result/flan-t5-cup-lora\"\n",
    "base_model_name_or_path = '.../../../pretrain_models/google-flan-t5-small'\n",
    "config = PeftConfig.from_pretrained(peft_model_id)\n",
    "\n",
    "# model = AutoModelForSeq2SeqLM.from_pretrained(config.base_model_name_or_path, torch_dtype=\"auto\", device_map=\"auto\")\n",
    "model = AutoModelForSeq2SeqLM.from_pretrained(config.base_model_name_or_path, torch_dtype=\"auto\", device_map=\"cpu\")\n",
    "tokenizer = AutoTokenizer.from_pretrained(config.base_model_name_or_path)\n",
    "\n",
    "# Load the Lora model\n",
    "model = PeftModel.from_pretrained(model, peft_model_id)"
   ]
  },
  {
   "cell_type": "code",
   "execution_count": 9,
   "metadata": {
    "ExecuteTime": {
     "end_time": "2023-12-02T16:40:55.202266Z",
     "start_time": "2023-12-02T16:40:55.100686Z"
    },
    "collapsed": false
   },
   "outputs": [
    {
     "name": "stdout",
     "output_type": "stream",
     "text": [
      "input sentence:  In January-September 2009 , the Group 's net interest income increased to EUR 112.4 mn from EUR 74.3 mn in January-September 2008 .\n",
      " output prediction:  ['positive positive positive positive positive positive positive positive positive positive']\n"
     ]
    }
   ],
   "source": [
    "model.eval()\n",
    "input_text = \"In January-September 2009 , the Group 's net interest income increased to EUR 112.4 mn from EUR 74.3 mn in January-September 2008 .\"\n",
    "inputs = tokenizer(input_text, return_tensors=\"pt\")\n",
    "\n",
    "outputs = model.generate(input_ids=inputs[\"input_ids\"], max_new_tokens=10)\n",
    "\n",
    "print(\"input sentence: \", input_text)\n",
    "print(\" output prediction: \", tokenizer.batch_decode(outputs.detach().cpu().numpy(), skip_special_tokens=True))"
   ]
  },
  {
   "cell_type": "code",
   "execution_count": 8,
   "metadata": {
    "ExecuteTime": {
     "end_time": "2023-12-02T16:37:04.919570Z",
     "start_time": "2023-12-02T16:37:04.379496Z"
    },
    "collapsed": false
   },
   "outputs": [
    {
     "name": "stdout",
     "output_type": "stream",
     "text": [
      "input sentence:  In January-September 2009 , the Group 's net interest income increased to EUR 112.4 mn from EUR 74.3 mn in January-September 2008 .\n",
      " output prediction:  ['positive positive positive positive positive positive positive positive positive positive']\n"
     ]
    }
   ],
   "source": [
    "model.eval()\n",
    "input_text = \"In January-September 2009 , the Group 's net interest income increased to EUR 112.4 mn from EUR 74.3 mn in January-September 2008 .\"\n",
    "inputs = tokenizer(input_text, return_tensors=\"pt\")\n",
    "\n",
    "outputs = model.generate(input_ids=inputs[\"input_ids\"], max_new_tokens=10)\n",
    "\n",
    "print(\"input sentence: \", input_text)\n",
    "print(\" output prediction: \", tokenizer.batch_decode(outputs.detach().cpu().numpy(), skip_special_tokens=True))"
   ]
  },
  {
   "cell_type": "markdown",
   "metadata": {
    "collapsed": false
   },
   "source": [
    "## 1.3 Experimental Result"
   ]
  },
  {
   "cell_type": "code",
   "execution_count": null,
   "metadata": {
    "collapsed": false,
    "is_executing": true
   },
   "outputs": [],
   "source": [
    "class HTMLRender:\n",
    "    def __init__(self,html_str):\n",
    "        self.html_str =html_str\n",
    "    def _repr_html_(self):\n",
    "       return self.html_str\n"
   ]
  },
  {
   "cell_type": "code",
   "execution_count": null,
   "metadata": {
    "collapsed": false,
    "is_executing": true
   },
   "outputs": [],
   "source": [
    "model_accurcy_html = '''\n",
    "<table>\n",
    "  <tr>\n",
    "    <th>eval loss</th>\n",
    "    <th>eval accuracy</th>\n",
    "    <th>eval precision</th>\n",
    "    <th>eval recall</th>\n",
    "    <th>eval f1</th>\n",
    "  </tr>\n",
    "  <tr>\n",
    "    <td style=\"background-color:#4C72B0;\">0.102</td>\n",
    "    <td style=\"background-color:#55A868;\">0.896</td>\n",
    "    <td style=\"background-color:#C44E52;\">0.90</td>\n",
    "     <td style=\"background-color:#8172B2;\">0.896</td>\n",
    "    <td style=\"background-color:#64B5CD;\">0.894</td>\n",
    "  </tr>\n",
    "\n",
    "</table>\n",
    "\n",
    "       '''\n",
    "HTMLRender(model_accurcy_html)"
   ]
  },
  {
   "cell_type": "code",
   "execution_count": null,
   "metadata": {
    "collapsed": false,
    "is_executing": true
   },
   "outputs": [],
   "source": [
    "accuracy_html = '''\n",
    "<img src=\"./image/flan-t5-small-accuracy.png\" alt=\"flan-t5-small-accuracy\" width=\"70%\">\n",
    "'''\n",
    "HTMLRender(accuracy_html)"
   ]
  },
  {
   "cell_type": "code",
   "execution_count": null,
   "metadata": {
    "collapsed": false
   },
   "outputs": [],
   "source": [
    "## Load your adapter from the Hub\n"
   ]
  }
 ],
 "metadata": {
  "kernelspec": {
   "display_name": "Python 3",
   "language": "python",
   "name": "python3"
  },
  "language_info": {
   "codemirror_mode": {
    "name": "ipython",
    "version": 3
   },
   "file_extension": ".py",
   "mimetype": "text/x-python",
   "name": "python",
   "nbconvert_exporter": "python",
   "pygments_lexer": "ipython3",
   "version": "3.11.5"
  }
 },
 "nbformat": 4,
 "nbformat_minor": 0
}
