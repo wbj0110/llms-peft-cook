{
 "cells": [
  {
   "cell_type": "markdown",
   "metadata": {
    "collapsed": false
   },
   "source": [
    "Finetuning the model on financial_phrasebank dataset, that consists of pairs of text-labels to classify financial-related sentences, if they are either <span style=\"color: red;\">positive</span>, <span style=\"color: purple;\">neutral</span> or <span style=\"color: green;\">negative</span>."
   ]
  },
  {
   "cell_type": "markdown",
   "metadata": {
    "collapsed": false
   },
   "source": [
    "# 1.Experimental Setup1"
   ]
  },
  {
   "cell_type": "markdown",
   "metadata": {
    "collapsed": false
   },
   "source": [
    "## 1.1 Setup"
   ]
  },
  {
   "cell_type": "markdown",
   "metadata": {
    "collapsed": false
   },
   "source": [
    "## 1.2 Training"
   ]
  },
  {
   "cell_type": "markdown",
   "metadata": {
    "collapsed": false
   },
   "source": [
    "### 1.2.1 Run code on CPU version"
   ]
  },
  {
   "cell_type": "code",
   "execution_count": null,
   "metadata": {
    "collapsed": false,
    "is_executing": true
   },
   "outputs": [],
   "source": [
    "!pwd"
   ]
  },
  {
   "cell_type": "code",
   "execution_count": 1,
   "metadata": {
    "collapsed": false,
    "ExecuteTime": {
     "end_time": "2023-12-13T05:16:19.527039Z",
     "start_time": "2023-12-13T05:03:13.426524Z"
    }
   },
   "outputs": [
    {
     "name": "stdout",
     "output_type": "stream",
     "text": [
      "/Users/wengbenjue/opt/anaconda3/envs/peft/lib/python3.11/site-packages/bitsandbytes/cextension.py:34: UserWarning: The installed version of bitsandbytes was compiled without GPU support. 8-bit optimizers, 8-bit multiplication, and GPU quantization are unavailable.\r\n",
      "  warn(\"The installed version of bitsandbytes was compiled without GPU support. \"\r\n",
      "'NoneType' object has no attribute 'cadam32bit_grad_fp32'\r\n",
      "/Users/wengbenjue/opt/anaconda3/envs/peft/lib/python3.11/site-packages/trl/trainer/ppo_config.py:141: UserWarning: The `optimize_cuda_cache` arguement will be deprecated soon, please use `optimize_device_cache` instead.\r\n",
      "  warnings.warn(\r\n",
      "Some weights of BertForSequenceClassification were not initialized from the model checkpoint at ../../../pretrain_models/bert-large-cased and are newly initialized: ['classifier.weight', 'classifier.bias']\r\n",
      "You should probably TRAIN this model on a down-stream task to be able to use it for predictions and inference.\r\n",
      "use AutoModelForSequenceClassification load bert model.\r\n",
      "trainable params: 6293506 || all params: 339874820 || trainable%: 1.8517129336030247\r\n",
      "tokenizer padding setting: [PAD]\r\n",
      "imdb-truncated原始数据集特征: {'label': Value(dtype='int64', id=None), 'text': Value(dtype='string', id=None)}\r\n",
      "imdb-truncated更新后数据集特征: {'label': ClassLabel(names=['0', '1'], id=None), 'text': Value(dtype='string', id=None)}\r\n",
      "Sentence: . . . or type on a computer keyboard, they'd probably give this eponymous film a rating of \"10.\" After all, no elephants are shown being killed during the movie; it is not even implied that any are hurt. To the contrary, the master of ELEPHANT WALK, John Wiley (Peter Finch), complains that he cannot shoot any of the pachyderms--no matter how menacing--without a permit from the government (and his tone suggests such permits are not within the realm of probability). Furthermore, the elements conspire--in the form of an unusual drought and a human cholera epidemic--to leave the Wiley plantation house vulnerable to total destruction by the Elephant People (as the natives dub them) to close the story. If you happen to see the current release EARTH, you'll detect the Elephant People are faring less well today.\r\n",
      "  0%|                                                    | 0/40 [00:00<?, ?it/s]/Users/wengbenjue/opt/anaconda3/envs/peft/lib/python3.11/site-packages/torch/utils/checkpoint.py:429: UserWarning: torch.utils.checkpoint: please pass in use_reentrant=True or use_reentrant=False explicitly. The default value of use_reentrant will be updated to be False in the future. To maintain current behavior, pass use_reentrant=True. It is recommended that you use use_reentrant=False. Refer to docs for more details on the differences between the two variants.\r\n",
      "  warnings.warn(\r\n",
      " 20%|████████▊                                   | 8/40 [01:32<06:17, 11.79s/it]\r\n",
      "  0%|                                                    | 0/32 [00:00<?, ?it/s]\u001B[A\r\n",
      "  6%|██▊                                         | 2/32 [00:00<00:14,  2.05it/s]\u001B[A\r\n",
      "  9%|████▏                                       | 3/32 [00:01<00:20,  1.44it/s]\u001B[A\r\n",
      " 12%|█████▌                                      | 4/32 [00:02<00:22,  1.25it/s]\u001B[A\r\n",
      " 16%|██████▉                                     | 5/32 [00:03<00:23,  1.17it/s]\u001B[A\r\n",
      " 19%|████████▎                                   | 6/32 [00:04<00:23,  1.11it/s]\u001B[A\r\n",
      " 22%|█████████▋                                  | 7/32 [00:05<00:23,  1.08it/s]\u001B[A\r\n",
      " 25%|███████████                                 | 8/32 [00:06<00:22,  1.07it/s]\u001B[A\r\n",
      " 28%|████████████▍                               | 9/32 [00:07<00:21,  1.06it/s]\u001B[A\r\n",
      " 31%|█████████████▍                             | 10/32 [00:08<00:20,  1.05it/s]\u001B[A\r\n",
      " 34%|██████████████▊                            | 11/32 [00:09<00:20,  1.05it/s]\u001B[A\r\n",
      " 38%|████████████████▏                          | 12/32 [00:10<00:19,  1.04it/s]\u001B[A\r\n",
      " 41%|█████████████████▍                         | 13/32 [00:11<00:18,  1.04it/s]\u001B[A\r\n",
      " 44%|██████████████████▊                        | 14/32 [00:12<00:17,  1.02it/s]\u001B[A\r\n",
      " 47%|████████████████████▏                      | 15/32 [00:13<00:17,  1.00s/it]\u001B[A\r\n",
      " 50%|█████████████████████▌                     | 16/32 [00:14<00:16,  1.01s/it]\u001B[A\r\n",
      " 53%|██████████████████████▊                    | 17/32 [00:15<00:15,  1.01s/it]\u001B[A\r\n",
      " 56%|████████████████████████▏                  | 18/32 [00:16<00:14,  1.01s/it]\u001B[A\r\n",
      " 59%|█████████████████████████▌                 | 19/32 [00:17<00:13,  1.01s/it]\u001B[A\r\n",
      " 62%|██████████████████████████▉                | 20/32 [00:18<00:12,  1.01s/it]\u001B[A\r\n",
      " 66%|████████████████████████████▏              | 21/32 [00:19<00:11,  1.01s/it]\u001B[A\r\n",
      " 69%|█████████████████████████████▌             | 22/32 [00:20<00:10,  1.01s/it]\u001B[A\r\n",
      " 72%|██████████████████████████████▉            | 23/32 [00:21<00:09,  1.02s/it]\u001B[A\r\n",
      " 75%|████████████████████████████████▎          | 24/32 [00:22<00:08,  1.03s/it]\u001B[A\r\n",
      " 78%|█████████████████████████████████▌         | 25/32 [00:23<00:07,  1.04s/it]\u001B[A\r\n",
      " 81%|██████████████████████████████████▉        | 26/32 [00:25<00:06,  1.05s/it]\u001B[A\r\n",
      " 84%|████████████████████████████████████▎      | 27/32 [00:26<00:05,  1.06s/it]\u001B[A\r\n",
      " 88%|█████████████████████████████████████▋     | 28/32 [00:27<00:04,  1.07s/it]\u001B[A\r\n",
      " 91%|██████████████████████████████████████▉    | 29/32 [00:28<00:03,  1.07s/it]\u001B[A\r\n",
      " 94%|████████████████████████████████████████▎  | 30/32 [00:29<00:02,  1.11s/it]\u001B[A\r\n",
      " 97%|█████████████████████████████████████████▋ | 31/32 [00:30<00:01,  1.13s/it]\u001B[A\r\n",
      "                                                                                \u001B[A\r\n",
      "\u001B[A{'eval_loss': 0.6889640688896179, 'eval_accuracy': 0.552, 'eval_precision': 0.5837974422442244, 'eval_recall': 0.552, 'eval_f1': 0.5050467554047127, 'eval_runtime': 31.8033, 'eval_samples_per_second': 62.887, 'eval_steps_per_second': 1.006, 'epoch': 1.0}\r\n",
      " 20%|████████▊                                   | 8/40 [02:03<06:17, 11.79s/it]\r\n",
      "100%|███████████████████████████████████████████| 32/32 [00:31<00:00,  1.10it/s]\u001B[A\r\n",
      "                                                                                \u001B[A/Users/wengbenjue/opt/anaconda3/envs/peft/lib/python3.11/site-packages/torch/utils/checkpoint.py:429: UserWarning: torch.utils.checkpoint: please pass in use_reentrant=True or use_reentrant=False explicitly. The default value of use_reentrant will be updated to be False in the future. To maintain current behavior, pass use_reentrant=True. It is recommended that you use use_reentrant=False. Refer to docs for more details on the differences between the two variants.\r\n",
      "  warnings.warn(\r\n",
      "{'loss': 0.7784, 'learning_rate': 0.00075, 'epoch': 1.25}                       \r\n",
      " 40%|█████████████████▏                         | 16/40 [04:34<07:50, 19.61s/it]\r\n",
      "  0%|                                                    | 0/32 [00:00<?, ?it/s]\u001B[A\r\n",
      "  6%|██▊                                         | 2/32 [00:01<00:21,  1.39it/s]\u001B[A\r\n",
      "  9%|████▏                                       | 3/32 [00:02<00:30,  1.04s/it]\u001B[A\r\n",
      " 12%|█████▌                                      | 4/32 [00:04<00:33,  1.21s/it]\u001B[A\r\n",
      " 16%|██████▉                                     | 5/32 [00:05<00:35,  1.31s/it]\u001B[A\r\n",
      " 19%|████████▎                                   | 6/32 [00:07<00:35,  1.37s/it]\u001B[A\r\n",
      " 22%|█████████▋                                  | 7/32 [00:08<00:34,  1.40s/it]\u001B[A\r\n",
      " 25%|███████████                                 | 8/32 [00:10<00:34,  1.44s/it]\u001B[A\r\n",
      " 28%|████████████▍                               | 9/32 [00:11<00:33,  1.45s/it]\u001B[A\r\n",
      " 31%|█████████████▍                             | 10/32 [00:13<00:32,  1.46s/it]\u001B[A\r\n",
      " 34%|██████████████▊                            | 11/32 [00:14<00:30,  1.45s/it]\u001B[A\r\n",
      " 38%|████████████████▏                          | 12/32 [00:16<00:28,  1.43s/it]\u001B[A\r\n",
      " 41%|█████████████████▍                         | 13/32 [00:17<00:27,  1.42s/it]\u001B[A\r\n",
      " 44%|██████████████████▊                        | 14/32 [00:18<00:25,  1.42s/it]\u001B[A\r\n",
      " 47%|████████████████████▏                      | 15/32 [00:20<00:24,  1.42s/it]\u001B[A\r\n",
      " 50%|█████████████████████▌                     | 16/32 [00:21<00:22,  1.43s/it]\u001B[A\r\n",
      " 53%|██████████████████████▊                    | 17/32 [00:23<00:21,  1.42s/it]\u001B[A\r\n",
      " 56%|████████████████████████▏                  | 18/32 [00:24<00:19,  1.42s/it]\u001B[A\r\n",
      " 59%|█████████████████████████▌                 | 19/32 [00:26<00:18,  1.41s/it]\u001B[A\r\n",
      " 62%|██████████████████████████▉                | 20/32 [00:27<00:16,  1.42s/it]\u001B[A\r\n",
      " 66%|████████████████████████████▏              | 21/32 [00:28<00:15,  1.41s/it]\u001B[A\r\n",
      " 69%|█████████████████████████████▌             | 22/32 [00:30<00:14,  1.40s/it]\u001B[A\r\n",
      " 72%|██████████████████████████████▉            | 23/32 [00:31<00:12,  1.40s/it]\u001B[A\r\n",
      " 75%|████████████████████████████████▎          | 24/32 [00:33<00:11,  1.39s/it]\u001B[A\r\n",
      " 78%|█████████████████████████████████▌         | 25/32 [00:34<00:09,  1.37s/it]\u001B[A\r\n",
      " 81%|██████████████████████████████████▉        | 26/32 [00:35<00:08,  1.37s/it]\u001B[A\r\n",
      " 84%|████████████████████████████████████▎      | 27/32 [00:37<00:06,  1.36s/it]\u001B[A\r\n",
      " 88%|█████████████████████████████████████▋     | 28/32 [00:38<00:05,  1.36s/it]\u001B[A\r\n",
      " 91%|██████████████████████████████████████▉    | 29/32 [00:39<00:04,  1.36s/it]\u001B[A\r\n",
      " 94%|████████████████████████████████████████▎  | 30/32 [00:41<00:02,  1.37s/it]\u001B[A\r\n",
      " 97%|█████████████████████████████████████████▋ | 31/32 [00:42<00:01,  1.37s/it]\u001B[A\r\n",
      "                                                                                \u001B[A\r\n",
      "\u001B[A{'eval_loss': 0.7139146327972412, 'eval_accuracy': 0.5, 'eval_precision': 0.25, 'eval_recall': 0.5, 'eval_f1': 0.3333333333333333, 'eval_runtime': 44.3129, 'eval_samples_per_second': 45.134, 'eval_steps_per_second': 0.722, 'epoch': 2.0}\r\n",
      " 40%|█████████████████▏                         | 16/40 [05:19<07:50, 19.61s/it]\r\n",
      "100%|███████████████████████████████████████████| 32/32 [00:42<00:00,  1.07s/it]\u001B[A\r\n",
      "                                                                                \u001B[A/Users/wengbenjue/opt/anaconda3/envs/peft/lib/python3.11/site-packages/torch/utils/checkpoint.py:429: UserWarning: torch.utils.checkpoint: please pass in use_reentrant=True or use_reentrant=False explicitly. The default value of use_reentrant will be updated to be False in the future. To maintain current behavior, pass use_reentrant=True. It is recommended that you use use_reentrant=False. Refer to docs for more details on the differences between the two variants.\r\n",
      "  warnings.warn(\r\n",
      "{'loss': 0.7175, 'learning_rate': 0.0005, 'epoch': 2.5}                         \r\n",
      " 60%|█████████████████████████▊                 | 24/40 [07:28<04:20, 16.28s/it]\r\n",
      "  0%|                                                    | 0/32 [00:00<?, ?it/s]\u001B[A\r\n",
      "  6%|██▊                                         | 2/32 [00:01<00:15,  1.88it/s]\u001B[A\r\n",
      "  9%|████▏                                       | 3/32 [00:02<00:22,  1.31it/s]\u001B[A\r\n",
      " 12%|█████▌                                      | 4/32 [00:03<00:24,  1.12it/s]\u001B[A\r\n",
      " 16%|██████▉                                     | 5/32 [00:04<00:25,  1.04it/s]\u001B[A\r\n",
      " 19%|████████▎                                   | 6/32 [00:05<00:26,  1.01s/it]\u001B[A\r\n",
      " 22%|█████████▋                                  | 7/32 [00:06<00:25,  1.04s/it]\u001B[A\r\n",
      " 25%|███████████                                 | 8/32 [00:07<00:25,  1.06s/it]\u001B[A\r\n",
      " 28%|████████████▍                               | 9/32 [00:08<00:24,  1.07s/it]\u001B[A\r\n",
      " 31%|█████████████▍                             | 10/32 [00:09<00:23,  1.07s/it]\u001B[A\r\n",
      " 34%|██████████████▊                            | 11/32 [00:10<00:22,  1.07s/it]\u001B[A\r\n",
      " 38%|████████████████▏                          | 12/32 [00:11<00:21,  1.07s/it]\u001B[A\r\n",
      " 41%|█████████████████▍                         | 13/32 [00:13<00:20,  1.07s/it]\u001B[A\r\n",
      " 44%|██████████████████▊                        | 14/32 [00:14<00:19,  1.07s/it]\u001B[A\r\n",
      " 47%|████████████████████▏                      | 15/32 [00:15<00:18,  1.07s/it]\u001B[A\r\n",
      " 50%|█████████████████████▌                     | 16/32 [00:16<00:17,  1.07s/it]\u001B[A\r\n",
      " 53%|██████████████████████▊                    | 17/32 [00:17<00:16,  1.09s/it]\u001B[A\r\n",
      " 56%|████████████████████████▏                  | 18/32 [00:18<00:15,  1.08s/it]\u001B[A\r\n",
      " 59%|█████████████████████████▌                 | 19/32 [00:19<00:14,  1.09s/it]\u001B[A\r\n",
      " 62%|██████████████████████████▉                | 20/32 [00:20<00:13,  1.09s/it]\u001B[A\r\n",
      " 66%|████████████████████████████▏              | 21/32 [00:21<00:11,  1.09s/it]\u001B[A\r\n",
      " 69%|█████████████████████████████▌             | 22/32 [00:22<00:10,  1.09s/it]\u001B[A\r\n",
      " 72%|██████████████████████████████▉            | 23/32 [00:23<00:09,  1.08s/it]\u001B[A\r\n",
      " 75%|████████████████████████████████▎          | 24/32 [00:24<00:08,  1.08s/it]\u001B[A\r\n",
      " 78%|█████████████████████████████████▌         | 25/32 [00:26<00:07,  1.08s/it]\u001B[A\r\n",
      " 81%|██████████████████████████████████▉        | 26/32 [00:27<00:06,  1.08s/it]\u001B[A\r\n",
      " 84%|████████████████████████████████████▎      | 27/32 [00:28<00:05,  1.07s/it]\u001B[A\r\n",
      " 88%|█████████████████████████████████████▋     | 28/32 [00:29<00:04,  1.07s/it]\u001B[A\r\n",
      " 91%|██████████████████████████████████████▉    | 29/32 [00:30<00:03,  1.07s/it]\u001B[A\r\n",
      " 94%|████████████████████████████████████████▎  | 30/32 [00:31<00:02,  1.07s/it]\u001B[A\r\n",
      " 97%|█████████████████████████████████████████▋ | 31/32 [00:32<00:01,  1.07s/it]\u001B[A\r\n",
      "                                                                                \u001B[A\r\n",
      "\u001B[A{'eval_loss': 0.5574547052383423, 'eval_accuracy': 0.744, 'eval_precision': 0.7447675911658962, 'eval_recall': 0.744, 'eval_f1': 0.7437991385246032, 'eval_runtime': 33.7779, 'eval_samples_per_second': 59.21, 'eval_steps_per_second': 0.947, 'epoch': 3.0}\r\n",
      " 60%|█████████████████████████▊                 | 24/40 [08:01<04:20, 16.28s/it]\r\n",
      "100%|███████████████████████████████████████████| 32/32 [00:32<00:00,  1.20it/s]\u001B[A\r\n",
      "                                                                                \u001B[A/Users/wengbenjue/opt/anaconda3/envs/peft/lib/python3.11/site-packages/torch/utils/checkpoint.py:429: UserWarning: torch.utils.checkpoint: please pass in use_reentrant=True or use_reentrant=False explicitly. The default value of use_reentrant will be updated to be False in the future. To maintain current behavior, pass use_reentrant=True. It is recommended that you use use_reentrant=False. Refer to docs for more details on the differences between the two variants.\r\n",
      "  warnings.warn(\r\n",
      "{'loss': 0.584, 'learning_rate': 0.00025, 'epoch': 3.75}                        \r\n",
      " 80%|██████████████████████████████████▍        | 32/40 [09:57<01:58, 14.87s/it]\r\n",
      "  0%|                                                    | 0/32 [00:00<?, ?it/s]\u001B[A\r\n",
      "  6%|██▊                                         | 2/32 [00:01<00:15,  1.90it/s]\u001B[A\r\n",
      "  9%|████▏                                       | 3/32 [00:02<00:21,  1.34it/s]\u001B[A\r\n",
      " 12%|█████▌                                      | 4/32 [00:03<00:28,  1.00s/it]\u001B[A\r\n",
      " 16%|██████▉                                     | 5/32 [00:04<00:28,  1.04s/it]\u001B[A\r\n",
      " 19%|████████▎                                   | 6/32 [00:05<00:27,  1.06s/it]\u001B[A\r\n",
      " 22%|█████████▋                                  | 7/32 [00:06<00:26,  1.06s/it]\u001B[A\r\n",
      " 25%|███████████                                 | 8/32 [00:07<00:25,  1.06s/it]\u001B[A\r\n",
      " 28%|████████████▍                               | 9/32 [00:08<00:24,  1.06s/it]\u001B[A\r\n",
      " 31%|█████████████▍                             | 10/32 [00:09<00:23,  1.06s/it]\u001B[A\r\n",
      " 34%|██████████████▊                            | 11/32 [00:11<00:22,  1.06s/it]\u001B[A\r\n",
      " 38%|████████████████▏                          | 12/32 [00:12<00:21,  1.06s/it]\u001B[A\r\n",
      " 41%|█████████████████▍                         | 13/32 [00:13<00:20,  1.07s/it]\u001B[A\r\n",
      " 44%|██████████████████▊                        | 14/32 [00:14<00:19,  1.07s/it]\u001B[A\r\n",
      " 47%|████████████████████▏                      | 15/32 [00:15<00:18,  1.08s/it]\u001B[A\r\n",
      " 50%|█████████████████████▌                     | 16/32 [00:16<00:17,  1.09s/it]\u001B[A\r\n",
      " 53%|██████████████████████▊                    | 17/32 [00:17<00:16,  1.09s/it]\u001B[A\r\n",
      " 56%|████████████████████████▏                  | 18/32 [00:18<00:15,  1.09s/it]\u001B[A\r\n",
      " 59%|█████████████████████████▌                 | 19/32 [00:19<00:14,  1.08s/it]\u001B[A\r\n",
      " 62%|██████████████████████████▉                | 20/32 [00:20<00:12,  1.07s/it]\u001B[A\r\n",
      " 66%|████████████████████████████▏              | 21/32 [00:21<00:11,  1.07s/it]\u001B[A\r\n",
      " 69%|█████████████████████████████▌             | 22/32 [00:22<00:10,  1.07s/it]\u001B[A\r\n",
      " 72%|██████████████████████████████▉            | 23/32 [00:23<00:09,  1.08s/it]\u001B[A\r\n",
      " 75%|████████████████████████████████▎          | 24/32 [00:25<00:08,  1.08s/it]\u001B[A\r\n",
      " 78%|█████████████████████████████████▌         | 25/32 [00:26<00:07,  1.08s/it]\u001B[A\r\n",
      " 81%|██████████████████████████████████▉        | 26/32 [00:27<00:06,  1.08s/it]\u001B[A\r\n",
      " 84%|████████████████████████████████████▎      | 27/32 [00:28<00:05,  1.08s/it]\u001B[A\r\n",
      " 88%|█████████████████████████████████████▋     | 28/32 [00:29<00:04,  1.08s/it]\u001B[A\r\n",
      " 91%|██████████████████████████████████████▉    | 29/32 [00:30<00:03,  1.07s/it]\u001B[A\r\n",
      " 94%|████████████████████████████████████████▎  | 30/32 [00:31<00:02,  1.07s/it]\u001B[A\r\n",
      " 97%|█████████████████████████████████████████▋ | 31/32 [00:32<00:01,  1.07s/it]\u001B[A\r\n",
      "                                                                                \u001B[A\r\n",
      "\u001B[A{'eval_loss': 0.44225457310676575, 'eval_accuracy': 0.815, 'eval_precision': 0.8163781431917432, 'eval_recall': 0.815, 'eval_f1': 0.8147983153654329, 'eval_runtime': 33.9077, 'eval_samples_per_second': 58.984, 'eval_steps_per_second': 0.944, 'epoch': 4.0}\r\n",
      " 80%|██████████████████████████████████▍        | 32/40 [10:31<01:58, 14.87s/it]\r\n",
      "100%|███████████████████████████████████████████| 32/32 [00:32<00:00,  1.19it/s]\u001B[A\r\n",
      "                                                                                \u001B[A/Users/wengbenjue/opt/anaconda3/envs/peft/lib/python3.11/site-packages/torch/utils/checkpoint.py:429: UserWarning: torch.utils.checkpoint: please pass in use_reentrant=True or use_reentrant=False explicitly. The default value of use_reentrant will be updated to be False in the future. To maintain current behavior, pass use_reentrant=True. It is recommended that you use use_reentrant=False. Refer to docs for more details on the differences between the two variants.\r\n",
      "  warnings.warn(\r\n",
      "{'loss': 0.4313, 'learning_rate': 0.0, 'epoch': 5.0}                            \r\n",
      "100%|███████████████████████████████████████████| 40/40 [12:27<00:00, 14.72s/it]\r\n",
      "  0%|                                                    | 0/32 [00:00<?, ?it/s]\u001B[A\r\n",
      "  6%|██▊                                         | 2/32 [00:01<00:15,  1.92it/s]\u001B[A\r\n",
      "  9%|████▏                                       | 3/32 [00:02<00:21,  1.34it/s]\u001B[A\r\n",
      " 12%|█████▌                                      | 4/32 [00:03<00:24,  1.16it/s]\u001B[A\r\n",
      " 16%|██████▉                                     | 5/32 [00:04<00:25,  1.08it/s]\u001B[A\r\n",
      " 19%|████████▎                                   | 6/32 [00:05<00:25,  1.03it/s]\u001B[A\r\n",
      " 22%|█████████▋                                  | 7/32 [00:06<00:24,  1.00it/s]\u001B[A\r\n",
      " 25%|███████████                                 | 8/32 [00:07<00:24,  1.01s/it]\u001B[A\r\n",
      " 28%|████████████▍                               | 9/32 [00:08<00:23,  1.02s/it]\u001B[A\r\n",
      " 31%|█████████████▍                             | 10/32 [00:09<00:22,  1.03s/it]\u001B[A\r\n",
      " 34%|██████████████▊                            | 11/32 [00:10<00:21,  1.03s/it]\u001B[A\r\n",
      " 38%|████████████████▏                          | 12/32 [00:11<00:20,  1.03s/it]\u001B[A\r\n",
      " 41%|█████████████████▍                         | 13/32 [00:12<00:19,  1.03s/it]\u001B[A\r\n",
      " 44%|██████████████████▊                        | 14/32 [00:13<00:18,  1.03s/it]\u001B[A\r\n",
      " 47%|████████████████████▏                      | 15/32 [00:14<00:17,  1.04s/it]\u001B[A\r\n",
      " 50%|█████████████████████▌                     | 16/32 [00:15<00:16,  1.04s/it]\u001B[A\r\n",
      " 53%|██████████████████████▊                    | 17/32 [00:16<00:15,  1.05s/it]\u001B[A\r\n",
      " 56%|████████████████████████▏                  | 18/32 [00:17<00:14,  1.05s/it]\u001B[A\r\n",
      " 59%|█████████████████████████▌                 | 19/32 [00:18<00:13,  1.05s/it]\u001B[A\r\n",
      " 62%|██████████████████████████▉                | 20/32 [00:19<00:12,  1.05s/it]\u001B[A\r\n",
      " 66%|████████████████████████████▏              | 21/32 [00:20<00:11,  1.05s/it]\u001B[A\r\n",
      " 69%|█████████████████████████████▌             | 22/32 [00:21<00:10,  1.05s/it]\u001B[A\r\n",
      " 72%|██████████████████████████████▉            | 23/32 [00:23<00:09,  1.04s/it]\u001B[A\r\n",
      " 75%|████████████████████████████████▎          | 24/32 [00:24<00:08,  1.04s/it]\u001B[A\r\n",
      " 78%|█████████████████████████████████▌         | 25/32 [00:25<00:07,  1.04s/it]\u001B[A\r\n",
      " 81%|██████████████████████████████████▉        | 26/32 [00:26<00:06,  1.04s/it]\u001B[A\r\n",
      " 84%|████████████████████████████████████▎      | 27/32 [00:27<00:05,  1.04s/it]\u001B[A\r\n",
      " 88%|█████████████████████████████████████▋     | 28/32 [00:28<00:04,  1.05s/it]\u001B[A\r\n",
      " 91%|██████████████████████████████████████▉    | 29/32 [00:29<00:03,  1.05s/it]\u001B[A\r\n",
      " 94%|████████████████████████████████████████▎  | 30/32 [00:30<00:02,  1.06s/it]\u001B[A\r\n",
      " 97%|█████████████████████████████████████████▋ | 31/32 [00:31<00:01,  1.06s/it]\u001B[A\r\n",
      "                                                                                \u001B[A\r\n",
      "\u001B[A{'eval_loss': 0.397195428609848, 'eval_accuracy': 0.826, 'eval_precision': 0.8301412923715081, 'eval_recall': 0.826, 'eval_f1': 0.8254526194144839, 'eval_runtime': 32.7071, 'eval_samples_per_second': 61.149, 'eval_steps_per_second': 0.978, 'epoch': 5.0}\r\n",
      "100%|███████████████████████████████████████████| 40/40 [13:00<00:00, 14.72s/it]\r\n",
      "100%|███████████████████████████████████████████| 32/32 [00:31<00:00,  1.21it/s]\u001B[A\r\n",
      "{'train_runtime': 780.1798, 'train_samples_per_second': 12.818, 'train_steps_per_second': 0.051, 'train_loss': 0.6278183579444885, 'epoch': 5.0}\r\n",
      "100%|███████████████████████████████████████████| 40/40 [13:00<00:00, 19.50s/it]\r\n"
     ]
    }
   ],
   "source": [
    "!python ../../../peft_train.py \\\n",
    "--model_name ../../../pretrain_models/bert-large-cased \\\n",
    "--max_seq_len 2048 \\\n",
    "--group_by_length \\\n",
    "--max_steps 200 \\\n",
    "--dataset_name ../../../text-classification/shawhin-imdb-truncated \\\n",
    "--num_labels 2 \\\n",
    "--epochs 5 \\\n",
    "--learning_rate 1e-3 \\\n",
    "--model_type SEQ_CLS \\\n",
    "--output_model_path ./result/bert-large-cased-lora \\\n",
    "--bnb_4bit_compute_dtype float16 \\\n",
    "--use_4b False\n"
   ]
  },
  {
   "cell_type": "markdown",
   "metadata": {
    "collapsed": false
   },
   "source": [
    "### 1.2.2 Run code on GPU version\n",
    "Load the model together with the adapter with few lines of code! Check the snippet below to load the adapter from the Hub and run the example evaluation."
   ]
  },
  {
   "cell_type": "code",
   "execution_count": null,
   "metadata": {
    "collapsed": false
   },
   "outputs": [],
   "source": []
  },
  {
   "cell_type": "code",
   "execution_count": null,
   "metadata": {
    "collapsed": false
   },
   "outputs": [],
   "source": [
    "!pip install -q -U trl transformers accelerate git+https://github.com/huggingface/peft.git\n",
    "!pip install -q datasets bitsandbytes einops wandb evaluate\n",
    "from google.colab import drive\n",
    "drive.mount('/content/drive')\n",
    "%cd /content/drive/MyDrive/Colab Notebooks/llms-peft-cook-colab/experiments/bert-large-cased-lora/imdb-truncated"
   ]
  },
  {
   "cell_type": "code",
   "execution_count": null,
   "metadata": {
    "collapsed": false,
    "is_executing": true
   },
   "outputs": [],
   "source": [
    "import os\n",
    "os.environ[\"CUDA_VISIBLE_DEVICES\"] = \"0\"\n",
    "!python ../../../peft_train.py \\\n",
    "--model_name bert-large-cased \\\n",
    "--max_seq_len 2048 \\\n",
    "--group_by_length \\\n",
    "--max_steps 200 \\\n",
    "--dataset_name ../../../text-classification/shawhin-imdb-truncated \\\n",
    "--num_labels 2 \\\n",
    "--epochs 5 \\\n",
    "--learning_rate 1e-3\\\n",
    "--model_type SEQ_CLS \\\n",
    "--output_model_path ./result/bert-large-cased-imdb-lora \\\n",
    "--bnb_4bit_compute_dtype float32 \\\n",
    "--load_in_8bit \\\n",
    "--use_4b"
   ]
  },
  {
   "cell_type": "markdown",
   "metadata": {
    "collapsed": false
   },
   "source": [
    "# Load your adapter from the Hub"
   ]
  },
  {
   "cell_type": "code",
   "execution_count": 7,
   "metadata": {
    "ExecuteTime": {
     "end_time": "2023-12-02T16:37:01.962850Z",
     "start_time": "2023-12-02T16:37:01.696535Z"
    },
    "collapsed": false
   },
   "outputs": [],
   "source": [
    "import torch\n",
    "from peft import PeftModel, PeftConfig\n",
    "from transformers import AutoModelForSeq2SeqLM, AutoTokenizer\n",
    "\n",
    "peft_model_id = \"./result/flan-t5-cup-lora\"\n",
    "base_model_name_or_path = '.../../../pretrain_models/google-flan-t5-small'\n",
    "config = PeftConfig.from_pretrained(peft_model_id)\n",
    "\n",
    "# model = AutoModelForSeq2SeqLM.from_pretrained(config.base_model_name_or_path, torch_dtype=\"auto\", device_map=\"auto\")\n",
    "model = AutoModelForSeq2SeqLM.from_pretrained(config.base_model_name_or_path, torch_dtype=\"auto\", device_map=\"cpu\")\n",
    "tokenizer = AutoTokenizer.from_pretrained(config.base_model_name_or_path)\n",
    "\n",
    "# Load the Lora model\n",
    "model = PeftModel.from_pretrained(model, peft_model_id)"
   ]
  },
  {
   "cell_type": "code",
   "execution_count": 9,
   "metadata": {
    "ExecuteTime": {
     "end_time": "2023-12-02T16:40:55.202266Z",
     "start_time": "2023-12-02T16:40:55.100686Z"
    },
    "collapsed": false
   },
   "outputs": [
    {
     "name": "stdout",
     "output_type": "stream",
     "text": [
      "input sentence:  In January-September 2009 , the Group 's net interest income increased to EUR 112.4 mn from EUR 74.3 mn in January-September 2008 .\n",
      " output prediction:  ['positive positive positive positive positive positive positive positive positive positive']\n"
     ]
    }
   ],
   "source": [
    "model.eval()\n",
    "input_text = \"In January-September 2009 , the Group 's net interest income increased to EUR 112.4 mn from EUR 74.3 mn in January-September 2008 .\"\n",
    "inputs = tokenizer(input_text, return_tensors=\"pt\")\n",
    "\n",
    "outputs = model.generate(input_ids=inputs[\"input_ids\"], max_new_tokens=10)\n",
    "\n",
    "print(\"input sentence: \", input_text)\n",
    "print(\" output prediction: \", tokenizer.batch_decode(outputs.detach().cpu().numpy(), skip_special_tokens=True))"
   ]
  },
  {
   "cell_type": "code",
   "execution_count": 8,
   "metadata": {
    "ExecuteTime": {
     "end_time": "2023-12-02T16:37:04.919570Z",
     "start_time": "2023-12-02T16:37:04.379496Z"
    },
    "collapsed": false
   },
   "outputs": [
    {
     "name": "stdout",
     "output_type": "stream",
     "text": [
      "input sentence:  In January-September 2009 , the Group 's net interest income increased to EUR 112.4 mn from EUR 74.3 mn in January-September 2008 .\n",
      " output prediction:  ['positive positive positive positive positive positive positive positive positive positive']\n"
     ]
    }
   ],
   "source": [
    "model.eval()\n",
    "input_text = \"In January-September 2009 , the Group 's net interest income increased to EUR 112.4 mn from EUR 74.3 mn in January-September 2008 .\"\n",
    "inputs = tokenizer(input_text, return_tensors=\"pt\")\n",
    "\n",
    "outputs = model.generate(input_ids=inputs[\"input_ids\"], max_new_tokens=10)\n",
    "\n",
    "print(\"input sentence: \", input_text)\n",
    "print(\" output prediction: \", tokenizer.batch_decode(outputs.detach().cpu().numpy(), skip_special_tokens=True))"
   ]
  },
  {
   "cell_type": "markdown",
   "metadata": {
    "collapsed": false
   },
   "source": [
    "## 1.3 Experimental Result"
   ]
  },
  {
   "cell_type": "code",
   "execution_count": null,
   "metadata": {
    "collapsed": false,
    "is_executing": true
   },
   "outputs": [],
   "source": [
    "class HTMLRender:\n",
    "    def __init__(self,html_str):\n",
    "        self.html_str =html_str\n",
    "    def _repr_html_(self):\n",
    "       return self.html_str\n"
   ]
  },
  {
   "cell_type": "code",
   "execution_count": null,
   "metadata": {
    "collapsed": false,
    "is_executing": true
   },
   "outputs": [],
   "source": [
    "model_accurcy_html = '''\n",
    "<table>\n",
    "  <tr>\n",
    "    <th>eval loss</th>\n",
    "    <th>eval accuracy</th>\n",
    "    <th>eval precision</th>\n",
    "    <th>eval recall</th>\n",
    "    <th>eval f1</th>\n",
    "  </tr>\n",
    "  <tr>\n",
    "    <td style=\"background-color:#4C72B0;\">0.102</td>\n",
    "    <td style=\"background-color:#55A868;\">0.896</td>\n",
    "    <td style=\"background-color:#C44E52;\">0.90</td>\n",
    "     <td style=\"background-color:#8172B2;\">0.896</td>\n",
    "    <td style=\"background-color:#64B5CD;\">0.894</td>\n",
    "  </tr>\n",
    "\n",
    "</table>\n",
    "\n",
    "       '''\n",
    "HTMLRender(model_accurcy_html)"
   ]
  },
  {
   "cell_type": "code",
   "execution_count": null,
   "metadata": {
    "collapsed": false,
    "is_executing": true
   },
   "outputs": [],
   "source": [
    "accuracy_html = '''\n",
    "<img src=\"./image/flan-t5-small-accuracy.png\" alt=\"flan-t5-small-accuracy\" width=\"70%\">\n",
    "'''\n",
    "HTMLRender(accuracy_html)"
   ]
  },
  {
   "cell_type": "code",
   "execution_count": null,
   "metadata": {
    "collapsed": false
   },
   "outputs": [],
   "source": [
    "## Load your adapter from the Hub\n"
   ]
  }
 ],
 "metadata": {
  "kernelspec": {
   "display_name": "Python 3",
   "language": "python",
   "name": "python3"
  },
  "language_info": {
   "codemirror_mode": {
    "name": "ipython",
    "version": 3
   },
   "file_extension": ".py",
   "mimetype": "text/x-python",
   "name": "python",
   "nbconvert_exporter": "python",
   "pygments_lexer": "ipython3",
   "version": "3.11.5"
  }
 },
 "nbformat": 4,
 "nbformat_minor": 0
}
