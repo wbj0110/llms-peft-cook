{
 "cells": [
  {
   "cell_type": "markdown",
   "metadata": {
    "collapsed": false
   },
   "source": [
    "Finetuning the model on financial_phrasebank dataset, that consists of pairs of text-labels to classify financial-related sentences, if they are either <span style=\"color: red;\">positive</span>, <span style=\"color: purple;\">neutral</span> or <span style=\"color: green;\">negative</span>."
   ]
  },
  {
   "cell_type": "markdown",
   "metadata": {
    "collapsed": false
   },
   "source": [
    "# 1.Experimental Setup1"
   ]
  },
  {
   "cell_type": "markdown",
   "metadata": {
    "collapsed": false
   },
   "source": [
    "## 1.1 Setup"
   ]
  },
  {
   "cell_type": "markdown",
   "metadata": {
    "collapsed": false
   },
   "source": [
    "## 1.2 Training"
   ]
  },
  {
   "cell_type": "markdown",
   "metadata": {
    "collapsed": false
   },
   "source": [
    "### 1.2.1 Run code on CPU version"
   ]
  },
  {
   "cell_type": "code",
   "execution_count": null,
   "metadata": {
    "collapsed": false,
    "is_executing": true
   },
   "outputs": [],
   "source": [
    "!pwd"
   ]
  },
  {
   "cell_type": "code",
   "execution_count": 1,
   "metadata": {
    "collapsed": false,
    "ExecuteTime": {
     "end_time": "2023-12-06T11:26:23.429013Z",
     "start_time": "2023-12-06T11:19:59.952394Z"
    }
   },
   "outputs": [
    {
     "name": "stdout",
     "output_type": "stream",
     "text": [
      "/Users/wengbenjue/opt/anaconda3/envs/peft/lib/python3.11/site-packages/bitsandbytes/cextension.py:34: UserWarning: The installed version of bitsandbytes was compiled without GPU support. 8-bit optimizers, 8-bit multiplication, and GPU quantization are unavailable.\r\n",
      "  warn(\"The installed version of bitsandbytes was compiled without GPU support. \"\r\n",
      "'NoneType' object has no attribute 'cadam32bit_grad_fp32'\r\n",
      "/Users/wengbenjue/opt/anaconda3/envs/peft/lib/python3.11/site-packages/trl/trainer/ppo_config.py:141: UserWarning: The `optimize_cuda_cache` arguement will be deprecated soon, please use `optimize_device_cache` instead.\r\n",
      "  warnings.warn(\r\n",
      "Some weights of BertForSequenceClassification were not initialized from the model checkpoint at ../../../pretrain_models/bert-base-cased and are newly initialized: ['classifier.weight', 'classifier.bias']\r\n",
      "You should probably TRAIN this model on a down-stream task to be able to use it for predictions and inference.\r\n",
      "use AutoModelForSequenceClassification load bert model.\r\n",
      "trainable params: 2361603 || all params: 110674182 || trainable%: 2.1338337065820827\r\n",
      "tokenizer padding setting: [PAD]\r\n",
      "Sentence: seeing ppl walking w/ crutches makes me really excited for the next 3 weeks of my life\r\n",
      "Map: 100%|████████████████████████| 2862/2862 [00:00<00:00, 28241.02 examples/s]\r\n",
      "Map: 100%|██████████████████████████| 955/955 [00:00<00:00, 28938.56 examples/s]\r\n",
      "Map: 100%|██████████████████████| 14587/14587 [00:00<00:00, 24887.44 examples/s]\r\n",
      "  0%|                                                    | 0/55 [00:00<?, ?it/s]/Users/wengbenjue/opt/anaconda3/envs/peft/lib/python3.11/site-packages/torch/utils/checkpoint.py:429: UserWarning: torch.utils.checkpoint: please pass in use_reentrant=True or use_reentrant=False explicitly. The default value of use_reentrant will be updated to be False in the future. To maintain current behavior, pass use_reentrant=True. It is recommended that you use use_reentrant=False. Refer to docs for more details on the differences between the two variants.\r\n",
      "  warnings.warn(\r\n",
      "{'loss': 0.7541, 'learning_rate': 0.0008181818181818183, 'epoch': 0.89}         \r\n",
      " 20%|████████▌                                  | 11/55 [01:12<04:39,  6.35s/it]\r\n",
      "  0%|                                                    | 0/15 [00:00<?, ?it/s]\u001B[A\r\n",
      " 13%|█████▊                                      | 2/15 [00:00<00:03,  3.34it/s]\u001B[A\r\n",
      " 20%|████████▊                                   | 3/15 [00:01<00:04,  2.57it/s]\u001B[A\r\n",
      " 27%|███████████▋                                | 4/15 [00:01<00:05,  2.18it/s]\u001B[A\r\n",
      " 33%|██████████████▋                             | 5/15 [00:02<00:04,  2.01it/s]\u001B[A\r\n",
      " 40%|█████████████████▌                          | 6/15 [00:02<00:04,  2.10it/s]\u001B[A\r\n",
      " 47%|████████████████████▌                       | 7/15 [00:03<00:04,  1.91it/s]\u001B[A\r\n",
      " 53%|███████████████████████▍                    | 8/15 [00:03<00:03,  1.88it/s]\u001B[A\r\n",
      " 60%|██████████████████████████▍                 | 9/15 [00:04<00:03,  1.96it/s]\u001B[A\r\n",
      " 67%|████████████████████████████▋              | 10/15 [00:04<00:02,  1.89it/s]\u001B[A\r\n",
      " 73%|███████████████████████████████▌           | 11/15 [00:05<00:02,  1.89it/s]\u001B[A\r\n",
      " 80%|██████████████████████████████████▍        | 12/15 [00:05<00:01,  1.89it/s]\u001B[A\r\n",
      " 87%|█████████████████████████████████████▎     | 13/15 [00:06<00:01,  1.86it/s]\u001B[A\r\n",
      " 93%|████████████████████████████████████████▏  | 14/15 [00:06<00:00,  1.96it/s]\u001B[A\r\n",
      "                                                                                \u001B[A\r\n",
      "\u001B[A{'eval_loss': 0.6770862936973572, 'eval_accuracy': 0.5905759162303665, 'eval_precision': 0.6026799183601029, 'eval_recall': 0.5905759162303665, 'eval_f1': 0.5651628178580468, 'eval_runtime': 8.6124, 'eval_samples_per_second': 110.887, 'eval_steps_per_second': 1.742, 'epoch': 0.98}\r\n",
      " 20%|████████▌                                  | 11/55 [01:24<04:39,  6.35s/it]\r\n",
      "100%|███████████████████████████████████████████| 15/15 [00:08<00:00,  1.41it/s]\u001B[A\r\n",
      "                                                                                \u001B[A/Users/wengbenjue/opt/anaconda3/envs/peft/lib/python3.11/site-packages/torch/utils/checkpoint.py:429: UserWarning: torch.utils.checkpoint: please pass in use_reentrant=True or use_reentrant=False explicitly. The default value of use_reentrant will be updated to be False in the future. To maintain current behavior, pass use_reentrant=True. It is recommended that you use use_reentrant=False. Refer to docs for more details on the differences between the two variants.\r\n",
      "  warnings.warn(\r\n",
      "{'loss': 0.6745, 'learning_rate': 0.0006363636363636364, 'epoch': 1.78}         \r\n",
      " 40%|█████████████████▏                         | 22/55 [02:31<03:30,  6.37s/it]\r\n",
      "  0%|                                                    | 0/15 [00:00<?, ?it/s]\u001B[A\r\n",
      " 13%|█████▊                                      | 2/15 [00:00<00:02,  4.34it/s]\u001B[A\r\n",
      " 20%|████████▊                                   | 3/15 [00:00<00:03,  3.47it/s]\u001B[A\r\n",
      " 27%|███████████▋                                | 4/15 [00:01<00:04,  2.74it/s]\u001B[A\r\n",
      " 33%|██████████████▋                             | 5/15 [00:01<00:03,  2.67it/s]\u001B[A\r\n",
      " 40%|█████████████████▌                          | 6/15 [00:02<00:03,  2.49it/s]\u001B[A\r\n",
      " 47%|████████████████████▌                       | 7/15 [00:02<00:03,  2.54it/s]\u001B[A\r\n",
      " 53%|███████████████████████▍                    | 8/15 [00:03<00:02,  2.39it/s]\u001B[A\r\n",
      " 60%|██████████████████████████▍                 | 9/15 [00:03<00:02,  2.32it/s]\u001B[A\r\n",
      " 67%|████████████████████████████▋              | 10/15 [00:03<00:02,  2.34it/s]\u001B[A\r\n",
      " 73%|███████████████████████████████▌           | 11/15 [00:04<00:01,  2.31it/s]\u001B[A\r\n",
      " 80%|██████████████████████████████████▍        | 12/15 [00:04<00:01,  2.21it/s]\u001B[A\r\n",
      " 87%|█████████████████████████████████████▎     | 13/15 [00:05<00:00,  2.21it/s]\u001B[A\r\n",
      " 93%|████████████████████████████████████████▏  | 14/15 [00:05<00:00,  2.32it/s]\u001B[A\r\n",
      "                                                                                \u001B[A\r\n",
      "\u001B[A{'eval_loss': 0.6723833680152893, 'eval_accuracy': 0.5759162303664922, 'eval_precision': 0.5804829791633455, 'eval_recall': 0.5759162303664922, 'eval_f1': 0.5749910321653232, 'eval_runtime': 6.6502, 'eval_samples_per_second': 143.605, 'eval_steps_per_second': 2.256, 'epoch': 1.96}\r\n",
      " 40%|█████████████████▏                         | 22/55 [02:41<03:30,  6.37s/it]\r\n",
      "100%|███████████████████████████████████████████| 15/15 [00:06<00:00,  2.25it/s]\u001B[A\r\n",
      "                                                                                \u001B[A/Users/wengbenjue/opt/anaconda3/envs/peft/lib/python3.11/site-packages/torch/utils/checkpoint.py:429: UserWarning: torch.utils.checkpoint: please pass in use_reentrant=True or use_reentrant=False explicitly. The default value of use_reentrant will be updated to be False in the future. To maintain current behavior, pass use_reentrant=True. It is recommended that you use use_reentrant=False. Refer to docs for more details on the differences between the two variants.\r\n",
      "  warnings.warn(\r\n",
      "{'loss': 0.6457, 'learning_rate': 0.00045454545454545455, 'epoch': 2.67}        \r\n",
      " 60%|█████████████████████████▊                 | 33/55 [03:46<02:16,  6.19s/it]\r\n",
      "  0%|                                                    | 0/15 [00:00<?, ?it/s]\u001B[A\r\n",
      " 13%|█████▊                                      | 2/15 [00:00<00:02,  4.69it/s]\u001B[A\r\n",
      " 20%|████████▊                                   | 3/15 [00:00<00:03,  3.22it/s]\u001B[A\r\n",
      " 27%|███████████▋                                | 4/15 [00:01<00:04,  2.68it/s]\u001B[A\r\n",
      " 33%|██████████████▋                             | 5/15 [00:01<00:03,  2.56it/s]\u001B[A\r\n",
      " 40%|█████████████████▌                          | 6/15 [00:02<00:03,  2.60it/s]\u001B[A\r\n",
      " 47%|████████████████████▌                       | 7/15 [00:02<00:03,  2.41it/s]\u001B[A\r\n",
      " 53%|███████████████████████▍                    | 8/15 [00:03<00:02,  2.34it/s]\u001B[A\r\n",
      " 60%|██████████████████████████▍                 | 9/15 [00:03<00:02,  2.33it/s]\u001B[A\r\n",
      " 67%|████████████████████████████▋              | 10/15 [00:03<00:02,  2.38it/s]\u001B[A\r\n",
      " 73%|███████████████████████████████▌           | 11/15 [00:04<00:01,  2.25it/s]\u001B[A\r\n",
      " 80%|██████████████████████████████████▍        | 12/15 [00:04<00:01,  2.19it/s]\u001B[A\r\n",
      " 87%|█████████████████████████████████████▎     | 13/15 [00:05<00:00,  2.35it/s]\u001B[A\r\n",
      " 93%|████████████████████████████████████████▏  | 14/15 [00:05<00:00,  2.27it/s]\u001B[A\r\n",
      "                                                                                \u001B[A\r\n",
      "\u001B[A{'eval_loss': 0.6441197991371155, 'eval_accuracy': 0.6052356020942409, 'eval_precision': 0.6069676422172682, 'eval_recall': 0.6052356020942409, 'eval_f1': 0.6053784562229345, 'eval_runtime': 6.6417, 'eval_samples_per_second': 143.789, 'eval_steps_per_second': 2.258, 'epoch': 2.93}\r\n",
      " 60%|█████████████████████████▊                 | 33/55 [03:56<02:16,  6.19s/it]\r\n",
      "100%|███████████████████████████████████████████| 15/15 [00:06<00:00,  2.28it/s]\u001B[A\r\n",
      "                                                                                \u001B[A/Users/wengbenjue/opt/anaconda3/envs/peft/lib/python3.11/site-packages/torch/utils/checkpoint.py:429: UserWarning: torch.utils.checkpoint: please pass in use_reentrant=True or use_reentrant=False explicitly. The default value of use_reentrant will be updated to be False in the future. To maintain current behavior, pass use_reentrant=True. It is recommended that you use use_reentrant=False. Refer to docs for more details on the differences between the two variants.\r\n",
      "  warnings.warn(\r\n",
      "{'loss': 0.6143, 'learning_rate': 0.00027272727272727274, 'epoch': 3.56}        \r\n",
      " 82%|███████████████████████████████████▏       | 45/55 [05:05<00:59,  5.99s/it]\r\n",
      "  0%|                                                    | 0/15 [00:00<?, ?it/s]\u001B[A\r\n",
      " 13%|█████▊                                      | 2/15 [00:00<00:03,  3.98it/s]\u001B[A\r\n",
      " 20%|████████▊                                   | 3/15 [00:00<00:03,  3.21it/s]\u001B[A\r\n",
      " 27%|███████████▋                                | 4/15 [00:01<00:03,  2.94it/s]\u001B[A\r\n",
      " 33%|██████████████▋                             | 5/15 [00:01<00:03,  2.74it/s]\u001B[A\r\n",
      " 40%|█████████████████▌                          | 6/15 [00:02<00:03,  2.43it/s]\u001B[A\r\n",
      " 47%|████████████████████▌                       | 7/15 [00:02<00:03,  2.33it/s]\u001B[A\r\n",
      " 53%|███████████████████████▍                    | 8/15 [00:03<00:02,  2.50it/s]\u001B[A\r\n",
      " 60%|██████████████████████████▍                 | 9/15 [00:03<00:02,  2.37it/s]\u001B[A\r\n",
      " 67%|████████████████████████████▋              | 10/15 [00:03<00:02,  2.28it/s]\u001B[A\r\n",
      " 73%|███████████████████████████████▌           | 11/15 [00:04<00:01,  2.29it/s]\u001B[A\r\n",
      " 80%|██████████████████████████████████▍        | 12/15 [00:04<00:01,  2.40it/s]\u001B[A\r\n",
      " 87%|█████████████████████████████████████▎     | 13/15 [00:05<00:00,  2.29it/s]\u001B[A\r\n",
      " 93%|████████████████████████████████████████▏  | 14/15 [00:05<00:00,  2.25it/s]\u001B[A\r\n",
      "                                                                                \u001B[A\r\n",
      "\u001B[A{'eval_loss': 0.6321095824241638, 'eval_accuracy': 0.6272251308900524, 'eval_precision': 0.6331973597429764, 'eval_recall': 0.6272251308900524, 'eval_f1': 0.6261988026170148, 'eval_runtime': 6.4572, 'eval_samples_per_second': 147.897, 'eval_steps_per_second': 2.323, 'epoch': 4.0}\r\n",
      " 82%|███████████████████████████████████▏       | 45/55 [05:11<00:59,  5.99s/it]\r\n",
      "100%|███████████████████████████████████████████| 15/15 [00:06<00:00,  2.43it/s]\u001B[A\r\n",
      "                                                                                \u001B[A/Users/wengbenjue/opt/anaconda3/envs/peft/lib/python3.11/site-packages/torch/utils/checkpoint.py:429: UserWarning: torch.utils.checkpoint: please pass in use_reentrant=True or use_reentrant=False explicitly. The default value of use_reentrant will be updated to be False in the future. To maintain current behavior, pass use_reentrant=True. It is recommended that you use use_reentrant=False. Refer to docs for more details on the differences between the two variants.\r\n",
      "  warnings.warn(\r\n",
      "{'loss': 0.5889, 'learning_rate': 9.090909090909092e-05, 'epoch': 4.44}         \r\n",
      "100%|███████████████████████████████████████████| 55/55 [06:12<00:00,  6.17s/it]\r\n",
      "  0%|                                                    | 0/15 [00:00<?, ?it/s]\u001B[A\r\n",
      " 13%|█████▊                                      | 2/15 [00:00<00:03,  4.22it/s]\u001B[A\r\n",
      " 20%|████████▊                                   | 3/15 [00:00<00:03,  3.08it/s]\u001B[A\r\n",
      " 27%|███████████▋                                | 4/15 [00:01<00:03,  2.88it/s]\u001B[A\r\n",
      " 33%|██████████████▋                             | 5/15 [00:01<00:03,  2.61it/s]\u001B[A\r\n",
      " 40%|█████████████████▌                          | 6/15 [00:02<00:03,  2.43it/s]\u001B[A\r\n",
      " 47%|████████████████████▌                       | 7/15 [00:02<00:03,  2.43it/s]\u001B[A\r\n",
      " 53%|███████████████████████▍                    | 8/15 [00:02<00:02,  2.54it/s]\u001B[A\r\n",
      " 60%|██████████████████████████▍                 | 9/15 [00:03<00:02,  2.40it/s]\u001B[A\r\n",
      " 67%|████████████████████████████▋              | 10/15 [00:03<00:02,  2.31it/s]\u001B[A\r\n",
      " 73%|███████████████████████████████▌           | 11/15 [00:04<00:01,  2.35it/s]\u001B[A\r\n",
      " 80%|██████████████████████████████████▍        | 12/15 [00:04<00:01,  2.47it/s]\u001B[A\r\n",
      " 87%|█████████████████████████████████████▎     | 13/15 [00:05<00:00,  2.35it/s]\u001B[A\r\n",
      " 93%|████████████████████████████████████████▏  | 14/15 [00:05<00:00,  2.28it/s]\u001B[A\r\n",
      "                                                                                \u001B[A\r\n",
      "\u001B[A{'eval_loss': 0.6246156096458435, 'eval_accuracy': 0.643979057591623, 'eval_precision': 0.6519785810147042, 'eval_recall': 0.643979057591623, 'eval_f1': 0.6424297796444394, 'eval_runtime': 6.3814, 'eval_samples_per_second': 149.655, 'eval_steps_per_second': 2.351, 'epoch': 4.89}\r\n",
      "100%|███████████████████████████████████████████| 55/55 [06:18<00:00,  6.17s/it]\r\n",
      "100%|███████████████████████████████████████████| 15/15 [00:05<00:00,  2.42it/s]\u001B[A\r\n",
      "{'train_runtime': 378.7429, 'train_samples_per_second': 37.783, 'train_steps_per_second': 0.145, 'train_loss': 0.6489197470925071, 'epoch': 4.89}\r\n",
      "100%|███████████████████████████████████████████| 55/55 [06:18<00:00,  6.89s/it]\r\n"
     ]
    }
   ],
   "source": [
    "!python ../../../peft_train.py \\\n",
    "--model_name ../../../pretrain_models/bert-base-cased \\\n",
    "--max_seq_len 2048 \\\n",
    "--group_by_length \\\n",
    "--max_steps 200 \\\n",
    "--dataset_name ../../../text-classification/tweet_eval_stance_abortion \\\n",
    "--num_labels 3 \\\n",
    "--epochs 5 \\\n",
    "--learning_rate 1e-3 \\\n",
    "--per_device_train_batch_size 64 \\\n",
    "--per_device_eval_batch_size 64 \\\n",
    "--model_type SEQ_CLS \\\n",
    "--output_model_path ./result/fbert-base-cased-tweet_eval_stance_abortion-lora \\\n",
    "--bnb_4bit_compute_dtype float32 \\\n",
    "--use_4b False\n"
   ]
  },
  {
   "cell_type": "markdown",
   "metadata": {
    "collapsed": false
   },
   "source": [
    "### 1.2.2 Run code on GPU version\n",
    "Load the model together with the adapter with few lines of code! Check the snippet below to load the adapter from the Hub and run the example evaluation."
   ]
  },
  {
   "cell_type": "code",
   "execution_count": null,
   "metadata": {
    "collapsed": false
   },
   "outputs": [],
   "source": [
    "!pip install -q -U trl transformers accelerate git+https://github.com/huggingface/peft.git\n",
    "!pip install -q datasets bitsandbytes einops wandb evaluate\n",
    "from google.colab import drive\n",
    "drive.mount('/content/drive')\n",
    "%cd /content/drive/MyDrive/Colab Notebooks/llms-peft-cook-colab/experiments/bert-base-cased-lora/tweet_eval_stance_abortion"
   ]
  },
  {
   "cell_type": "code",
   "execution_count": null,
   "metadata": {
    "collapsed": false,
    "is_executing": true
   },
   "outputs": [],
   "source": [
    "import os\n",
    "os.environ[\"CUDA_VISIBLE_DEVICES\"] = \"0\"\n",
    "!python ../../../peft_train.py \\\n",
    "--model_name bert-base-cased \\\n",
    "--max_seq_len 2048 \\\n",
    "--group_by_length \\\n",
    "--max_steps 200 \\\n",
    "--dataset_name ../../../text-classification/tweet_eval_stance_abortion \\\n",
    "--num_labels 2 \\\n",
    "--epochs 5 \\\n",
    "--learning_rate 1e-3 \\\n",
    "--per_device_train_batch_size 64 \\\n",
    "--per_device_eval_batch_size 64 \\\n",
    "--model_type SEQ_CLS \\\n",
    "--output_model_path ./result/bert-base-cased-tweet_eval_stance_abortion-lora \\\n",
    "--bnb_4bit_compute_dtype float16 \\\n",
    "--load_in_8bit \\\n",
    "--use_4b"
   ]
  },
  {
   "cell_type": "markdown",
   "metadata": {
    "collapsed": false
   },
   "source": [
    "# Load your adapter from the Hub"
   ]
  },
  {
   "cell_type": "code",
   "execution_count": 7,
   "metadata": {
    "ExecuteTime": {
     "end_time": "2023-12-02T16:37:01.962850Z",
     "start_time": "2023-12-02T16:37:01.696535Z"
    },
    "collapsed": false
   },
   "outputs": [],
   "source": [
    "import torch\n",
    "from peft import PeftModel, PeftConfig\n",
    "from transformers import AutoModelForSeq2SeqLM, AutoTokenizer\n",
    "\n",
    "peft_model_id = \"./result/flan-t5-cup-lora\"\n",
    "base_model_name_or_path = '.../../../pretrain_models/google-flan-t5-small'\n",
    "config = PeftConfig.from_pretrained(peft_model_id)\n",
    "\n",
    "# model = AutoModelForSeq2SeqLM.from_pretrained(config.base_model_name_or_path, torch_dtype=\"auto\", device_map=\"auto\")\n",
    "model = AutoModelForSeq2SeqLM.from_pretrained(config.base_model_name_or_path, torch_dtype=\"auto\", device_map=\"cpu\")\n",
    "tokenizer = AutoTokenizer.from_pretrained(config.base_model_name_or_path)\n",
    "\n",
    "# Load the Lora model\n",
    "model = PeftModel.from_pretrained(model, peft_model_id)"
   ]
  },
  {
   "cell_type": "code",
   "execution_count": 9,
   "metadata": {
    "ExecuteTime": {
     "end_time": "2023-12-02T16:40:55.202266Z",
     "start_time": "2023-12-02T16:40:55.100686Z"
    },
    "collapsed": false
   },
   "outputs": [
    {
     "name": "stdout",
     "output_type": "stream",
     "text": [
      "input sentence:  In January-September 2009 , the Group 's net interest income increased to EUR 112.4 mn from EUR 74.3 mn in January-September 2008 .\n",
      " output prediction:  ['positive positive positive positive positive positive positive positive positive positive']\n"
     ]
    }
   ],
   "source": [
    "model.eval()\n",
    "input_text = \"In January-September 2009 , the Group 's net interest income increased to EUR 112.4 mn from EUR 74.3 mn in January-September 2008 .\"\n",
    "inputs = tokenizer(input_text, return_tensors=\"pt\")\n",
    "\n",
    "outputs = model.generate(input_ids=inputs[\"input_ids\"], max_new_tokens=10)\n",
    "\n",
    "print(\"input sentence: \", input_text)\n",
    "print(\" output prediction: \", tokenizer.batch_decode(outputs.detach().cpu().numpy(), skip_special_tokens=True))"
   ]
  },
  {
   "cell_type": "code",
   "execution_count": 8,
   "metadata": {
    "ExecuteTime": {
     "end_time": "2023-12-02T16:37:04.919570Z",
     "start_time": "2023-12-02T16:37:04.379496Z"
    },
    "collapsed": false
   },
   "outputs": [
    {
     "name": "stdout",
     "output_type": "stream",
     "text": [
      "input sentence:  In January-September 2009 , the Group 's net interest income increased to EUR 112.4 mn from EUR 74.3 mn in January-September 2008 .\n",
      " output prediction:  ['positive positive positive positive positive positive positive positive positive positive']\n"
     ]
    }
   ],
   "source": [
    "model.eval()\n",
    "input_text = \"In January-September 2009 , the Group 's net interest income increased to EUR 112.4 mn from EUR 74.3 mn in January-September 2008 .\"\n",
    "inputs = tokenizer(input_text, return_tensors=\"pt\")\n",
    "\n",
    "outputs = model.generate(input_ids=inputs[\"input_ids\"], max_new_tokens=10)\n",
    "\n",
    "print(\"input sentence: \", input_text)\n",
    "print(\" output prediction: \", tokenizer.batch_decode(outputs.detach().cpu().numpy(), skip_special_tokens=True))"
   ]
  },
  {
   "cell_type": "markdown",
   "metadata": {
    "collapsed": false
   },
   "source": [
    "## 1.3 Experimental Result"
   ]
  },
  {
   "cell_type": "code",
   "execution_count": null,
   "metadata": {
    "collapsed": false,
    "is_executing": true
   },
   "outputs": [],
   "source": [
    "class HTMLRender:\n",
    "    def __init__(self,html_str):\n",
    "        self.html_str =html_str\n",
    "    def _repr_html_(self):\n",
    "       return self.html_str\n"
   ]
  },
  {
   "cell_type": "code",
   "execution_count": null,
   "metadata": {
    "collapsed": false,
    "is_executing": true
   },
   "outputs": [],
   "source": [
    "model_accurcy_html = '''\n",
    "<table>\n",
    "  <tr>\n",
    "    <th>eval loss</th>\n",
    "    <th>eval accuracy</th>\n",
    "    <th>eval precision</th>\n",
    "    <th>eval recall</th>\n",
    "    <th>eval f1</th>\n",
    "  </tr>\n",
    "  <tr>\n",
    "    <td style=\"background-color:#4C72B0;\">0.102</td>\n",
    "    <td style=\"background-color:#55A868;\">0.896</td>\n",
    "    <td style=\"background-color:#C44E52;\">0.90</td>\n",
    "     <td style=\"background-color:#8172B2;\">0.896</td>\n",
    "    <td style=\"background-color:#64B5CD;\">0.894</td>\n",
    "  </tr>\n",
    "\n",
    "</table>\n",
    "\n",
    "       '''\n",
    "HTMLRender(model_accurcy_html)"
   ]
  },
  {
   "cell_type": "code",
   "execution_count": null,
   "metadata": {
    "collapsed": false,
    "is_executing": true
   },
   "outputs": [],
   "source": [
    "accuracy_html = '''\n",
    "<img src=\"./image/flan-t5-small-accuracy.png\" alt=\"flan-t5-small-accuracy\" width=\"70%\">\n",
    "'''\n",
    "HTMLRender(accuracy_html)"
   ]
  },
  {
   "cell_type": "code",
   "execution_count": null,
   "metadata": {
    "collapsed": false
   },
   "outputs": [],
   "source": [
    "## Load your adapter from the Hub\n"
   ]
  }
 ],
 "metadata": {
  "kernelspec": {
   "display_name": "Python 3",
   "language": "python",
   "name": "python3"
  },
  "language_info": {
   "codemirror_mode": {
    "name": "ipython",
    "version": 2
   },
   "file_extension": ".py",
   "mimetype": "text/x-python",
   "name": "python",
   "nbconvert_exporter": "python",
   "pygments_lexer": "ipython2",
   "version": "2.7.6"
  }
 },
 "nbformat": 4,
 "nbformat_minor": 0
}
