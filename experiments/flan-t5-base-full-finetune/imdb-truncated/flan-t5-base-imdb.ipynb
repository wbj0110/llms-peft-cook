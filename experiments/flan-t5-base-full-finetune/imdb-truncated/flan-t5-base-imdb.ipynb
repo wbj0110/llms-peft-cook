{
 "cells": [
  {
   "cell_type": "markdown",
   "metadata": {
    "collapsed": false
   },
   "source": [
    "Finetuning the model on financial_phrasebank dataset, that consists of pairs of text-labels to classify financial-related sentences, if they are either <span style=\"color: red;\">positive</span>, <span style=\"color: purple;\">neutral</span> or <span style=\"color: green;\">negative</span>."
   ]
  },
  {
   "cell_type": "markdown",
   "metadata": {
    "collapsed": false
   },
   "source": [
    "# 1.Experimental Setup1"
   ]
  },
  {
   "cell_type": "markdown",
   "metadata": {
    "collapsed": false
   },
   "source": [
    "## 1.1 Setup"
   ]
  },
  {
   "cell_type": "markdown",
   "metadata": {
    "collapsed": false
   },
   "source": [
    "## 1.2 Training"
   ]
  },
  {
   "cell_type": "markdown",
   "metadata": {
    "collapsed": false
   },
   "source": [
    "### 1.2.1 Run code on CPU version"
   ]
  },
  {
   "cell_type": "code",
   "execution_count": null,
   "metadata": {
    "collapsed": false,
    "is_executing": true
   },
   "outputs": [],
   "source": [
    "!pwd"
   ]
  },
  {
   "cell_type": "code",
   "execution_count": 2,
   "metadata": {
    "collapsed": false,
    "ExecuteTime": {
     "end_time": "2023-12-06T00:51:07.752826Z",
     "start_time": "2023-12-06T00:46:24.553739Z"
    }
   },
   "outputs": [
    {
     "name": "stdout",
     "output_type": "stream",
     "text": [
      "/Users/wengbenjue/opt/anaconda3/envs/peft/lib/python3.11/site-packages/bitsandbytes/cextension.py:34: UserWarning: The installed version of bitsandbytes was compiled without GPU support. 8-bit optimizers, 8-bit multiplication, and GPU quantization are unavailable.\r\n",
      "  warn(\"The installed version of bitsandbytes was compiled without GPU support. \"\r\n",
      "'NoneType' object has no attribute 'cadam32bit_grad_fp32'\r\n",
      "/Users/wengbenjue/opt/anaconda3/envs/peft/lib/python3.11/site-packages/trl/trainer/ppo_config.py:141: UserWarning: The `optimize_cuda_cache` arguement will be deprecated soon, please use `optimize_device_cache` instead.\r\n",
      "  warnings.warn(\r\n",
      "use AutoModelForSeq2SeqLM load  model.\r\n",
      "You are using the default legacy behaviour of the <class 'transformers.models.t5.tokenization_t5.T5Tokenizer'>. This is expected, and simply means that the `legacy` (previous) behavior will be used so nothing changes for you. If you want to use the new behaviour, set `legacy=False`. This should only be set if you understand what it means, and thouroughly read the reason why this was added as explained in https://github.com/huggingface/transformers/pull/24565\r\n",
      "trainable params: 247577856 || all params: 247577856 || trainable%: 100.0\r\n",
      "tokenizer padding setting: </s>\r\n",
      "imdb-truncated原始数据集特征: {'label': Value(dtype='int64', id=None), 'text': Value(dtype='string', id=None)}\r\n",
      "imdb-truncated更新后数据集特征: {'label': ClassLabel(names=['0', '1'], id=None), 'text': Value(dtype='string', id=None)}\r\n",
      "Sentence: . . . or type on a computer keyboard, they'd probably give this eponymous film a rating of \"10.\" After all, no elephants are shown being killed during the movie; it is not even implied that any are hurt. To the contrary, the master of ELEPHANT WALK, John Wiley (Peter Finch), complains that he cannot shoot any of the pachyderms--no matter how menacing--without a permit from the government (and his tone suggests such permits are not within the realm of probability). Furthermore, the elements conspire--in the form of an unusual drought and a human cholera epidemic--to leave the Wiley plantation house vulnerable to total destruction by the Elephant People (as the natives dub them) to close the story. If you happen to see the current release EARTH, you'll detect the Elephant People are faring less well today.\r\n",
      "number of labels:2\r\n",
      "Running tokenizer on dataset: 100%|█| 2000/2000 [00:00<00:00, 7371.88 examples/s\r\n",
      "Running tokenizer on dataset: 100%|█| 2000/2000 [00:00<00:00, 7428.89 examples/s\r\n",
      "  0%|                                                    | 0/40 [00:00<?, ?it/s]/Users/wengbenjue/opt/anaconda3/envs/peft/lib/python3.11/site-packages/torch/utils/checkpoint.py:429: UserWarning: torch.utils.checkpoint: please pass in use_reentrant=True or use_reentrant=False explicitly. The default value of use_reentrant will be updated to be False in the future. To maintain current behavior, pass use_reentrant=True. It is recommended that you use use_reentrant=False. Refer to docs for more details on the differences between the two variants.\r\n",
      "  warnings.warn(\r\n",
      " 20%|████████▊                                   | 8/40 [00:53<03:32,  6.64s/it]\r\n",
      "  0%|                                                    | 0/32 [00:00<?, ?it/s]\u001B[A\r\n",
      "  6%|██▊                                         | 2/32 [00:00<00:06,  4.69it/s]\u001B[A\r\n",
      "  9%|████▏                                       | 3/32 [00:00<00:08,  3.32it/s]\u001B[A\r\n",
      " 12%|█████▌                                      | 4/32 [00:01<00:09,  2.91it/s]\u001B[A\r\n",
      " 16%|██████▉                                     | 5/32 [00:01<00:10,  2.69it/s]\u001B[A\r\n",
      " 19%|████████▎                                   | 6/32 [00:02<00:10,  2.57it/s]\u001B[A\r\n",
      " 22%|█████████▋                                  | 7/32 [00:02<00:09,  2.52it/s]\u001B[A\r\n",
      " 25%|███████████                                 | 8/32 [00:02<00:09,  2.46it/s]\u001B[A\r\n",
      " 28%|████████████▍                               | 9/32 [00:03<00:09,  2.44it/s]\u001B[A\r\n",
      " 31%|█████████████▍                             | 10/32 [00:03<00:09,  2.43it/s]\u001B[A\r\n",
      " 34%|██████████████▊                            | 11/32 [00:04<00:08,  2.43it/s]\u001B[A\r\n",
      " 38%|████████████████▏                          | 12/32 [00:04<00:08,  2.40it/s]\u001B[A\r\n",
      " 41%|█████████████████▍                         | 13/32 [00:05<00:07,  2.40it/s]\u001B[A\r\n",
      " 44%|██████████████████▊                        | 14/32 [00:05<00:07,  2.39it/s]\u001B[A\r\n",
      " 47%|████████████████████▏                      | 15/32 [00:05<00:07,  2.39it/s]\u001B[A\r\n",
      " 50%|█████████████████████▌                     | 16/32 [00:06<00:06,  2.39it/s]\u001B[A\r\n",
      " 53%|██████████████████████▊                    | 17/32 [00:06<00:06,  2.38it/s]\u001B[A\r\n",
      " 56%|████████████████████████▏                  | 18/32 [00:07<00:05,  2.38it/s]\u001B[A\r\n",
      " 59%|█████████████████████████▌                 | 19/32 [00:07<00:05,  2.36it/s]\u001B[A\r\n",
      " 62%|██████████████████████████▉                | 20/32 [00:08<00:05,  2.36it/s]\u001B[A\r\n",
      " 66%|████████████████████████████▏              | 21/32 [00:08<00:04,  2.37it/s]\u001B[A\r\n",
      " 69%|█████████████████████████████▌             | 22/32 [00:08<00:04,  2.37it/s]\u001B[A\r\n",
      " 72%|██████████████████████████████▉            | 23/32 [00:09<00:03,  2.39it/s]\u001B[A\r\n",
      " 75%|████████████████████████████████▎          | 24/32 [00:09<00:03,  2.39it/s]\u001B[A\r\n",
      " 78%|█████████████████████████████████▌         | 25/32 [00:10<00:02,  2.39it/s]\u001B[A\r\n",
      " 81%|██████████████████████████████████▉        | 26/32 [00:10<00:02,  2.40it/s]\u001B[A\r\n",
      " 84%|████████████████████████████████████▎      | 27/32 [00:10<00:02,  2.39it/s]\u001B[A\r\n",
      " 88%|█████████████████████████████████████▋     | 28/32 [00:11<00:01,  2.40it/s]\u001B[A\r\n",
      " 91%|██████████████████████████████████████▉    | 29/32 [00:11<00:01,  2.40it/s]\u001B[A\r\n",
      " 94%|████████████████████████████████████████▎  | 30/32 [00:12<00:00,  2.38it/s]\u001B[A\r\n",
      " 97%|█████████████████████████████████████████▋ | 31/32 [00:12<00:00,  2.39it/s]\u001B[A\r\n",
      "                                                                                \u001B[A\r\n",
      "\u001B[A{'eval_loss': 0.1711202710866928, 'eval_accuracy': 0.883, 'eval_precision': 0.8832590831402027, 'eval_recall': 0.883, 'eval_f1': 0.8829802236577982, 'eval_runtime': 13.2957, 'eval_samples_per_second': 150.424, 'eval_steps_per_second': 2.407, 'epoch': 1.0}\r\n",
      " 20%|████████▊                                   | 8/40 [01:06<03:32,  6.64s/it]\r\n",
      "100%|███████████████████████████████████████████| 32/32 [00:12<00:00,  2.76it/s]\u001B[A\r\n",
      "                                                                                \u001B[A/Users/wengbenjue/opt/anaconda3/envs/peft/lib/python3.11/site-packages/torch/utils/checkpoint.py:429: UserWarning: torch.utils.checkpoint: please pass in use_reentrant=True or use_reentrant=False explicitly. The default value of use_reentrant will be updated to be False in the future. To maintain current behavior, pass use_reentrant=True. It is recommended that you use use_reentrant=False. Refer to docs for more details on the differences between the two variants.\r\n",
      "  warnings.warn(\r\n",
      "{'loss': 0.657, 'learning_rate': 0.00075, 'epoch': 1.25}                        \r\n",
      " 40%|█████████████████▏                         | 16/40 [01:48<02:12,  5.51s/it]\r\n",
      "  0%|                                                    | 0/32 [00:00<?, ?it/s]\u001B[A\r\n",
      "  6%|██▊                                         | 2/32 [00:00<00:04,  6.68it/s]\u001B[A\r\n",
      "  9%|████▏                                       | 3/32 [00:00<00:06,  4.67it/s]\u001B[A\r\n",
      " 12%|█████▌                                      | 4/32 [00:00<00:06,  4.06it/s]\u001B[A\r\n",
      " 16%|██████▉                                     | 5/32 [00:01<00:07,  3.77it/s]\u001B[A\r\n",
      " 19%|████████▎                                   | 6/32 [00:01<00:07,  3.60it/s]\u001B[A\r\n",
      " 22%|█████████▋                                  | 7/32 [00:01<00:07,  3.51it/s]\u001B[A\r\n",
      " 25%|███████████                                 | 8/32 [00:02<00:07,  3.28it/s]\u001B[A\r\n",
      " 28%|████████████▍                               | 9/32 [00:02<00:07,  3.28it/s]\u001B[A\r\n",
      " 31%|█████████████▍                             | 10/32 [00:02<00:06,  3.28it/s]\u001B[A\r\n",
      " 34%|██████████████▊                            | 11/32 [00:03<00:06,  3.29it/s]\u001B[A\r\n",
      " 38%|████████████████▏                          | 12/32 [00:03<00:06,  3.22it/s]\u001B[A\r\n",
      " 41%|█████████████████▍                         | 13/32 [00:03<00:05,  3.24it/s]\u001B[A\r\n",
      " 44%|██████████████████▊                        | 14/32 [00:04<00:05,  3.19it/s]\u001B[A\r\n",
      " 47%|████████████████████▏                      | 15/32 [00:04<00:05,  3.22it/s]\u001B[A\r\n",
      " 50%|█████████████████████▌                     | 16/32 [00:04<00:04,  3.24it/s]\u001B[A\r\n",
      " 53%|██████████████████████▊                    | 17/32 [00:04<00:04,  3.19it/s]\u001B[A\r\n",
      " 56%|████████████████████████▏                  | 18/32 [00:05<00:04,  3.19it/s]\u001B[A\r\n",
      " 59%|█████████████████████████▌                 | 19/32 [00:05<00:04,  3.07it/s]\u001B[A\r\n",
      " 62%|██████████████████████████▉                | 20/32 [00:05<00:03,  3.09it/s]\u001B[A\r\n",
      " 66%|████████████████████████████▏              | 21/32 [00:06<00:03,  3.11it/s]\u001B[A\r\n",
      " 69%|█████████████████████████████▌             | 22/32 [00:06<00:03,  3.05it/s]\u001B[A\r\n",
      " 72%|██████████████████████████████▉            | 23/32 [00:06<00:02,  3.08it/s]\u001B[A\r\n",
      " 75%|████████████████████████████████▎          | 24/32 [00:07<00:02,  3.00it/s]\u001B[A\r\n",
      " 78%|█████████████████████████████████▌         | 25/32 [00:07<00:02,  2.93it/s]\u001B[A\r\n",
      " 81%|██████████████████████████████████▉        | 26/32 [00:07<00:02,  2.97it/s]\u001B[A\r\n",
      " 84%|████████████████████████████████████▎      | 27/32 [00:08<00:01,  2.91it/s]\u001B[A\r\n",
      " 88%|█████████████████████████████████████▋     | 28/32 [00:08<00:01,  2.91it/s]\u001B[A\r\n",
      " 91%|██████████████████████████████████████▉    | 29/32 [00:09<00:01,  2.85it/s]\u001B[A\r\n",
      " 94%|████████████████████████████████████████▎  | 30/32 [00:09<00:00,  2.75it/s]\u001B[A\r\n",
      " 97%|█████████████████████████████████████████▋ | 31/32 [00:09<00:00,  2.74it/s]\u001B[A\r\n",
      "                                                                                \u001B[A\r\n",
      "\u001B[A{'eval_loss': 0.17218203842639923, 'eval_accuracy': 0.883, 'eval_precision': 0.8870266250065684, 'eval_recall': 0.883, 'eval_f1': 0.8826948894073485, 'eval_runtime': 10.4802, 'eval_samples_per_second': 190.836, 'eval_steps_per_second': 3.053, 'epoch': 2.0}\r\n",
      " 40%|█████████████████▏                         | 16/40 [01:59<02:12,  5.51s/it]\r\n",
      "100%|███████████████████████████████████████████| 32/32 [00:10<00:00,  3.11it/s]\u001B[A\r\n",
      "                                                                                \u001B[A/Users/wengbenjue/opt/anaconda3/envs/peft/lib/python3.11/site-packages/torch/utils/checkpoint.py:429: UserWarning: torch.utils.checkpoint: please pass in use_reentrant=True or use_reentrant=False explicitly. The default value of use_reentrant will be updated to be False in the future. To maintain current behavior, pass use_reentrant=True. It is recommended that you use use_reentrant=False. Refer to docs for more details on the differences between the two variants.\r\n",
      "  warnings.warn(\r\n",
      "{'loss': 0.1062, 'learning_rate': 0.0005, 'epoch': 2.5}                         \r\n",
      " 60%|█████████████████████████▊                 | 24/40 [02:41<01:26,  5.38s/it]\r\n",
      "  0%|                                                    | 0/32 [00:00<?, ?it/s]\u001B[A\r\n",
      "  6%|██▊                                         | 2/32 [00:00<00:04,  6.66it/s]\u001B[A\r\n",
      "  9%|████▏                                       | 3/32 [00:00<00:06,  4.68it/s]\u001B[A\r\n",
      " 12%|█████▌                                      | 4/32 [00:00<00:06,  4.06it/s]\u001B[A\r\n",
      " 16%|██████▉                                     | 5/32 [00:01<00:07,  3.76it/s]\u001B[A\r\n",
      " 19%|████████▎                                   | 6/32 [00:01<00:07,  3.60it/s]\u001B[A\r\n",
      " 22%|█████████▋                                  | 7/32 [00:01<00:07,  3.51it/s]\u001B[A\r\n",
      " 25%|███████████                                 | 8/32 [00:02<00:07,  3.34it/s]\u001B[A\r\n",
      " 28%|████████████▍                               | 9/32 [00:02<00:06,  3.34it/s]\u001B[A\r\n",
      " 31%|█████████████▍                             | 10/32 [00:02<00:06,  3.33it/s]\u001B[A\r\n",
      " 34%|██████████████▊                            | 11/32 [00:03<00:06,  3.32it/s]\u001B[A\r\n",
      " 38%|████████████████▏                          | 12/32 [00:03<00:06,  3.24it/s]\u001B[A\r\n",
      " 41%|█████████████████▍                         | 13/32 [00:03<00:05,  3.26it/s]\u001B[A\r\n",
      " 44%|██████████████████▊                        | 14/32 [00:04<00:05,  3.18it/s]\u001B[A\r\n",
      " 47%|████████████████████▏                      | 15/32 [00:04<00:05,  3.22it/s]\u001B[A\r\n",
      " 50%|█████████████████████▌                     | 16/32 [00:04<00:04,  3.24it/s]\u001B[A\r\n",
      " 53%|██████████████████████▊                    | 17/32 [00:04<00:04,  3.15it/s]\u001B[A\r\n",
      " 56%|████████████████████████▏                  | 18/32 [00:05<00:04,  3.19it/s]\u001B[A\r\n",
      " 59%|█████████████████████████▌                 | 19/32 [00:05<00:04,  3.02it/s]\u001B[A\r\n",
      " 62%|██████████████████████████▉                | 20/32 [00:05<00:03,  3.02it/s]\u001B[A\r\n",
      " 66%|████████████████████████████▏              | 21/32 [00:06<00:03,  3.06it/s]\u001B[A\r\n",
      " 69%|█████████████████████████████▌             | 22/32 [00:06<00:03,  3.02it/s]\u001B[A\r\n",
      " 72%|██████████████████████████████▉            | 23/32 [00:06<00:02,  3.05it/s]\u001B[A\r\n",
      " 75%|████████████████████████████████▎          | 24/32 [00:07<00:02,  2.96it/s]\u001B[A\r\n",
      " 78%|█████████████████████████████████▌         | 25/32 [00:07<00:02,  2.89it/s]\u001B[A\r\n",
      " 81%|██████████████████████████████████▉        | 26/32 [00:07<00:02,  2.95it/s]\u001B[A\r\n",
      " 84%|████████████████████████████████████▎      | 27/32 [00:08<00:01,  2.91it/s]\u001B[A\r\n",
      " 88%|█████████████████████████████████████▋     | 28/32 [00:08<00:01,  2.91it/s]\u001B[A\r\n",
      " 91%|██████████████████████████████████████▉    | 29/32 [00:09<00:01,  2.84it/s]\u001B[A\r\n",
      " 94%|████████████████████████████████████████▎  | 30/32 [00:09<00:00,  2.82it/s]\u001B[A\r\n",
      " 97%|█████████████████████████████████████████▋ | 31/32 [00:09<00:00,  2.82it/s]\u001B[A\r\n",
      "                                                                                \u001B[A\r\n",
      "\u001B[A{'eval_loss': 0.23123276233673096, 'eval_accuracy': 0.879, 'eval_precision': 0.8823786981770927, 'eval_recall': 0.879, 'eval_f1': 0.8787321192514262, 'eval_runtime': 10.3858, 'eval_samples_per_second': 192.571, 'eval_steps_per_second': 3.081, 'epoch': 3.0}\r\n",
      " 60%|█████████████████████████▊                 | 24/40 [02:52<01:26,  5.38s/it]\r\n",
      "100%|███████████████████████████████████████████| 32/32 [00:10<00:00,  3.39it/s]\u001B[A\r\n",
      "                                                                                \u001B[A/Users/wengbenjue/opt/anaconda3/envs/peft/lib/python3.11/site-packages/torch/utils/checkpoint.py:429: UserWarning: torch.utils.checkpoint: please pass in use_reentrant=True or use_reentrant=False explicitly. The default value of use_reentrant will be updated to be False in the future. To maintain current behavior, pass use_reentrant=True. It is recommended that you use use_reentrant=False. Refer to docs for more details on the differences between the two variants.\r\n",
      "  warnings.warn(\r\n",
      "{'loss': 0.0274, 'learning_rate': 0.00025, 'epoch': 3.75}                       \r\n",
      " 80%|██████████████████████████████████▍        | 32/40 [03:34<00:42,  5.36s/it]\r\n",
      "  0%|                                                    | 0/32 [00:00<?, ?it/s]\u001B[A\r\n",
      "  6%|██▊                                         | 2/32 [00:00<00:04,  6.67it/s]\u001B[A\r\n",
      "  9%|████▏                                       | 3/32 [00:00<00:06,  4.68it/s]\u001B[A\r\n",
      " 12%|█████▌                                      | 4/32 [00:00<00:06,  4.06it/s]\u001B[A\r\n",
      " 16%|██████▉                                     | 5/32 [00:01<00:07,  3.76it/s]\u001B[A\r\n",
      " 19%|████████▎                                   | 6/32 [00:01<00:07,  3.60it/s]\u001B[A\r\n",
      " 22%|█████████▋                                  | 7/32 [00:01<00:07,  3.50it/s]\u001B[A\r\n",
      " 25%|███████████                                 | 8/32 [00:02<00:07,  3.13it/s]\u001B[A\r\n",
      " 28%|████████████▍                               | 9/32 [00:02<00:07,  3.19it/s]\u001B[A\r\n",
      " 31%|█████████████▍                             | 10/32 [00:02<00:06,  3.22it/s]\u001B[A\r\n",
      " 34%|██████████████▊                            | 11/32 [00:03<00:06,  3.25it/s]\u001B[A\r\n",
      " 38%|████████████████▏                          | 12/32 [00:03<00:06,  3.19it/s]\u001B[A\r\n",
      " 41%|█████████████████▍                         | 13/32 [00:03<00:05,  3.23it/s]\u001B[A\r\n",
      " 44%|██████████████████▊                        | 14/32 [00:04<00:05,  3.17it/s]\u001B[A\r\n",
      " 47%|████████████████████▏                      | 15/32 [00:04<00:05,  3.21it/s]\u001B[A\r\n",
      " 50%|█████████████████████▌                     | 16/32 [00:04<00:04,  3.24it/s]\u001B[A\r\n",
      " 53%|██████████████████████▊                    | 17/32 [00:04<00:04,  3.18it/s]\u001B[A\r\n",
      " 56%|████████████████████████▏                  | 18/32 [00:05<00:04,  3.21it/s]\u001B[A\r\n",
      " 59%|█████████████████████████▌                 | 19/32 [00:05<00:04,  3.10it/s]\u001B[A\r\n",
      " 62%|██████████████████████████▉                | 20/32 [00:05<00:03,  3.07it/s]\u001B[A\r\n",
      " 66%|████████████████████████████▏              | 21/32 [00:06<00:03,  3.08it/s]\u001B[A\r\n",
      " 69%|█████████████████████████████▌             | 22/32 [00:06<00:03,  3.00it/s]\u001B[A\r\n",
      " 72%|██████████████████████████████▉            | 23/32 [00:06<00:02,  3.04it/s]\u001B[A\r\n",
      " 75%|████████████████████████████████▎          | 24/32 [00:07<00:02,  2.99it/s]\u001B[A\r\n",
      " 78%|█████████████████████████████████▌         | 25/32 [00:07<00:02,  2.94it/s]\u001B[A\r\n",
      " 81%|██████████████████████████████████▉        | 26/32 [00:08<00:02,  2.99it/s]\u001B[A\r\n",
      " 84%|████████████████████████████████████▎      | 27/32 [00:08<00:01,  2.93it/s]\u001B[A\r\n",
      " 88%|█████████████████████████████████████▋     | 28/32 [00:08<00:01,  2.98it/s]\u001B[A\r\n",
      " 91%|██████████████████████████████████████▉    | 29/32 [00:09<00:01,  2.89it/s]\u001B[A\r\n",
      " 94%|████████████████████████████████████████▎  | 30/32 [00:09<00:00,  2.87it/s]\u001B[A\r\n",
      " 97%|█████████████████████████████████████████▋ | 31/32 [00:09<00:00,  2.90it/s]\u001B[A\r\n",
      "                                                                                \u001B[A\r\n",
      "\u001B[A{'eval_loss': 0.29365143179893494, 'eval_accuracy': 0.888, 'eval_precision': 0.8916090691815775, 'eval_recall': 0.888, 'eval_f1': 0.8877413560844185, 'eval_runtime': 10.3756, 'eval_samples_per_second': 192.759, 'eval_steps_per_second': 3.084, 'epoch': 4.0}\r\n",
      " 80%|██████████████████████████████████▍        | 32/40 [03:44<00:42,  5.36s/it]\r\n",
      "100%|███████████████████████████████████████████| 32/32 [00:10<00:00,  3.40it/s]\u001B[A\r\n",
      "                                                                                \u001B[A/Users/wengbenjue/opt/anaconda3/envs/peft/lib/python3.11/site-packages/torch/utils/checkpoint.py:429: UserWarning: torch.utils.checkpoint: please pass in use_reentrant=True or use_reentrant=False explicitly. The default value of use_reentrant will be updated to be False in the future. To maintain current behavior, pass use_reentrant=True. It is recommended that you use use_reentrant=False. Refer to docs for more details on the differences between the two variants.\r\n",
      "  warnings.warn(\r\n",
      "{'loss': 0.0142, 'learning_rate': 0.0, 'epoch': 5.0}                            \r\n",
      "100%|███████████████████████████████████████████| 40/40 [04:26<00:00,  5.37s/it]\r\n",
      "  0%|                                                    | 0/32 [00:00<?, ?it/s]\u001B[A\r\n",
      "  6%|██▊                                         | 2/32 [00:00<00:04,  6.67it/s]\u001B[A\r\n",
      "  9%|████▏                                       | 3/32 [00:00<00:06,  4.68it/s]\u001B[A\r\n",
      " 12%|█████▌                                      | 4/32 [00:00<00:06,  4.06it/s]\u001B[A\r\n",
      " 16%|██████▉                                     | 5/32 [00:01<00:07,  3.71it/s]\u001B[A\r\n",
      " 19%|████████▎                                   | 6/32 [00:01<00:07,  3.52it/s]\u001B[A\r\n",
      " 22%|█████████▋                                  | 7/32 [00:01<00:07,  3.42it/s]\u001B[A\r\n",
      " 25%|███████████                                 | 8/32 [00:02<00:07,  3.14it/s]\u001B[A\r\n",
      " 28%|████████████▍                               | 9/32 [00:02<00:07,  3.19it/s]\u001B[A\r\n",
      " 31%|█████████████▍                             | 10/32 [00:02<00:06,  3.23it/s]\u001B[A\r\n",
      " 34%|██████████████▊                            | 11/32 [00:03<00:06,  3.25it/s]\u001B[A\r\n",
      " 38%|████████████████▏                          | 12/32 [00:03<00:06,  3.19it/s]\u001B[A\r\n",
      " 41%|█████████████████▍                         | 13/32 [00:03<00:05,  3.22it/s]\u001B[A\r\n",
      " 44%|██████████████████▊                        | 14/32 [00:04<00:05,  3.17it/s]\u001B[A\r\n",
      " 47%|████████████████████▏                      | 15/32 [00:04<00:05,  3.21it/s]\u001B[A\r\n",
      " 50%|█████████████████████▌                     | 16/32 [00:04<00:04,  3.24it/s]\u001B[A\r\n",
      " 53%|██████████████████████▊                    | 17/32 [00:05<00:04,  3.18it/s]\u001B[A\r\n",
      " 56%|████████████████████████▏                  | 18/32 [00:05<00:04,  3.21it/s]\u001B[A\r\n",
      " 59%|█████████████████████████▌                 | 19/32 [00:05<00:04,  3.09it/s]\u001B[A\r\n",
      " 62%|██████████████████████████▉                | 20/32 [00:05<00:03,  3.07it/s]\u001B[A\r\n",
      " 66%|████████████████████████████▏              | 21/32 [00:06<00:03,  3.10it/s]\u001B[A\r\n",
      " 69%|█████████████████████████████▌             | 22/32 [00:06<00:03,  3.05it/s]\u001B[A\r\n",
      " 72%|██████████████████████████████▉            | 23/32 [00:06<00:02,  3.08it/s]\u001B[A\r\n",
      " 75%|████████████████████████████████▎          | 24/32 [00:07<00:02,  3.01it/s]\u001B[A\r\n",
      " 78%|█████████████████████████████████▌         | 25/32 [00:07<00:02,  2.96it/s]\u001B[A\r\n",
      " 81%|██████████████████████████████████▉        | 26/32 [00:07<00:01,  3.00it/s]\u001B[A\r\n",
      " 84%|████████████████████████████████████▎      | 27/32 [00:08<00:01,  2.97it/s]\u001B[A\r\n",
      " 88%|█████████████████████████████████████▋     | 28/32 [00:08<00:01,  2.97it/s]\u001B[A\r\n",
      " 91%|██████████████████████████████████████▉    | 29/32 [00:09<00:01,  2.95it/s]\u001B[A\r\n",
      " 94%|████████████████████████████████████████▎  | 30/32 [00:09<00:00,  2.91it/s]\u001B[A\r\n",
      " 97%|█████████████████████████████████████████▋ | 31/32 [00:09<00:00,  2.88it/s]\u001B[A\r\n",
      "                                                                                \u001B[A\r\n",
      "\u001B[A{'eval_loss': 0.28683874011039734, 'eval_accuracy': 0.886, 'eval_precision': 0.8865009051731043, 'eval_recall': 0.886, 'eval_f1': 0.8859630520288573, 'eval_runtime': 10.366, 'eval_samples_per_second': 192.939, 'eval_steps_per_second': 3.087, 'epoch': 5.0}\r\n",
      "100%|███████████████████████████████████████████| 40/40 [04:37<00:00,  5.37s/it]\r\n",
      "100%|███████████████████████████████████████████| 32/32 [00:10<00:00,  3.34it/s]\u001B[A\r\n",
      "{'train_runtime': 277.0678, 'train_samples_per_second': 36.092, 'train_steps_per_second': 0.144, 'train_loss': 0.20122067928314208, 'epoch': 5.0}\r\n",
      "100%|███████████████████████████████████████████| 40/40 [04:37<00:00,  6.93s/it]\r\n"
     ]
    }
   ],
   "source": [
    "!python ../../../peft_train.py \\\n",
    "--model_name ../../../pretrain_models/flan-t5-base \\\n",
    "--max_seq_len 2048 \\\n",
    "--group_by_length \\\n",
    "--max_steps 200 \\\n",
    "--dataset_name ../../../text-classification/shawhin-imdb-truncated \\\n",
    "--num_labels 2 \\\n",
    "--epochs 5 \\\n",
    "--learning_rate 1e-3 \\\n",
    "--per_device_train_batch_size 64 \\\n",
    "--per_device_eval_batch_size 64 \\\n",
    "--model_type SEQ_2_SEQ_LM \\\n",
    "--output_model_path ./result/flan-t5-base-imdb \\\n",
    "--need_hyperparameters_search False \\\n",
    "--enable_peft False \\\n",
    "--bnb_4bit_compute_dtype float16 \\\n",
    "--use_4b False"
   ]
  },
  {
   "cell_type": "markdown",
   "metadata": {
    "collapsed": false
   },
   "source": [
    "### 1.2.2 Run code on GPU version\n",
    "Load the model together with the adapter with few lines of code! Check the snippet below to load the adapter from the Hub and run the example evaluation."
   ]
  },
  {
   "cell_type": "code",
   "execution_count": null,
   "metadata": {
    "collapsed": false
   },
   "outputs": [],
   "source": [
    "!pip install -q -U trl transformers accelerate git+https://github.com/huggingface/peft.git\n",
    "!pip install -q datasets bitsandbytes einops wandb evaluate\n",
    "from google.colab import drive\n",
    "drive.mount('/content/drive')\n",
    "%cd /content/drive/MyDrive/Colab Notebooks/llms-peft-cook-colab/experiments/flan-t5-base-full-finetune/imdb-truncated"
   ]
  },
  {
   "cell_type": "code",
   "execution_count": null,
   "metadata": {
    "collapsed": false,
    "is_executing": true
   },
   "outputs": [],
   "source": [
    "import os\n",
    "os.environ[\"CUDA_VISIBLE_DEVICES\"] = \"0\"\n",
    "!python ../../../peft_train.py \\\n",
    "--model_name google/flan-t5-base \\\n",
    "--max_seq_len 2048 \\\n",
    "--group_by_length \\\n",
    "--max_steps 200 \\\n",
    "--dataset_name ../../../text-classification/shawhin-imdb-truncated \\\n",
    "--num_labels 2 \\\n",
    "--epochs 5 \\\n",
    "--learning_rate 1e-3 \\\n",
    "--per_device_train_batch_size 64 \\\n",
    "--per_device_eval_batch_size 64 \\\n",
    "--model_type SEQ_2_SEQ_LM \\\n",
    "--output_model_path ./result/flan-t5-base-imdb \\\n",
    "--bnb_4bit_compute_dtype float16 \\\n",
    "--need_hyperparameters_search False \\\n",
    "--enable_peft False \\\n",
    "--use_4b False\n"
   ]
  },
  {
   "cell_type": "markdown",
   "metadata": {
    "collapsed": false
   },
   "source": [
    "# Load your adapter from the Hub"
   ]
  },
  {
   "cell_type": "code",
   "execution_count": 7,
   "metadata": {
    "ExecuteTime": {
     "end_time": "2023-12-02T16:37:01.962850Z",
     "start_time": "2023-12-02T16:37:01.696535Z"
    },
    "collapsed": false
   },
   "outputs": [],
   "source": [
    "import torch\n",
    "from peft import PeftModel, PeftConfig\n",
    "from transformers import AutoModelForSeq2SeqLM, AutoTokenizer\n",
    "\n",
    "peft_model_id = \"./result/flan-t5-cup-lora\"\n",
    "base_model_name_or_path = '.../../../pretrain_models/google-flan-t5-small'\n",
    "config = PeftConfig.from_pretrained(peft_model_id)\n",
    "\n",
    "# model = AutoModelForSeq2SeqLM.from_pretrained(config.base_model_name_or_path, torch_dtype=\"auto\", device_map=\"auto\")\n",
    "model = AutoModelForSeq2SeqLM.from_pretrained(config.base_model_name_or_path, torch_dtype=\"auto\", device_map=\"cpu\")\n",
    "tokenizer = AutoTokenizer.from_pretrained(config.base_model_name_or_path)\n",
    "\n",
    "# Load the Lora model\n",
    "model = PeftModel.from_pretrained(model, peft_model_id)"
   ]
  },
  {
   "cell_type": "code",
   "execution_count": 9,
   "metadata": {
    "ExecuteTime": {
     "end_time": "2023-12-02T16:40:55.202266Z",
     "start_time": "2023-12-02T16:40:55.100686Z"
    },
    "collapsed": false
   },
   "outputs": [
    {
     "name": "stdout",
     "output_type": "stream",
     "text": [
      "input sentence:  In January-September 2009 , the Group 's net interest income increased to EUR 112.4 mn from EUR 74.3 mn in January-September 2008 .\n",
      " output prediction:  ['positive positive positive positive positive positive positive positive positive positive']\n"
     ]
    }
   ],
   "source": [
    "model.eval()\n",
    "input_text = \"In January-September 2009 , the Group 's net interest income increased to EUR 112.4 mn from EUR 74.3 mn in January-September 2008 .\"\n",
    "inputs = tokenizer(input_text, return_tensors=\"pt\")\n",
    "\n",
    "outputs = model.generate(input_ids=inputs[\"input_ids\"], max_new_tokens=10)\n",
    "\n",
    "print(\"input sentence: \", input_text)\n",
    "print(\" output prediction: \", tokenizer.batch_decode(outputs.detach().cpu().numpy(), skip_special_tokens=True))"
   ]
  },
  {
   "cell_type": "code",
   "execution_count": 8,
   "metadata": {
    "ExecuteTime": {
     "end_time": "2023-12-02T16:37:04.919570Z",
     "start_time": "2023-12-02T16:37:04.379496Z"
    },
    "collapsed": false
   },
   "outputs": [
    {
     "name": "stdout",
     "output_type": "stream",
     "text": [
      "input sentence:  In January-September 2009 , the Group 's net interest income increased to EUR 112.4 mn from EUR 74.3 mn in January-September 2008 .\n",
      " output prediction:  ['positive positive positive positive positive positive positive positive positive positive']\n"
     ]
    }
   ],
   "source": [
    "model.eval()\n",
    "input_text = \"In January-September 2009 , the Group 's net interest income increased to EUR 112.4 mn from EUR 74.3 mn in January-September 2008 .\"\n",
    "inputs = tokenizer(input_text, return_tensors=\"pt\")\n",
    "\n",
    "outputs = model.generate(input_ids=inputs[\"input_ids\"], max_new_tokens=10)\n",
    "\n",
    "print(\"input sentence: \", input_text)\n",
    "print(\" output prediction: \", tokenizer.batch_decode(outputs.detach().cpu().numpy(), skip_special_tokens=True))"
   ]
  },
  {
   "cell_type": "markdown",
   "metadata": {
    "collapsed": false
   },
   "source": [
    "## 1.3 Experimental Result"
   ]
  },
  {
   "cell_type": "code",
   "execution_count": null,
   "metadata": {
    "collapsed": false,
    "is_executing": true
   },
   "outputs": [],
   "source": [
    "class HTMLRender:\n",
    "    def __init__(self,html_str):\n",
    "        self.html_str =html_str\n",
    "    def _repr_html_(self):\n",
    "       return self.html_str\n"
   ]
  },
  {
   "cell_type": "code",
   "execution_count": null,
   "metadata": {
    "collapsed": false,
    "is_executing": true
   },
   "outputs": [],
   "source": [
    "model_accurcy_html = '''\n",
    "<table>\n",
    "  <tr>\n",
    "    <th>eval loss</th>\n",
    "    <th>eval accuracy</th>\n",
    "    <th>eval precision</th>\n",
    "    <th>eval recall</th>\n",
    "    <th>eval f1</th>\n",
    "  </tr>\n",
    "  <tr>\n",
    "    <td style=\"background-color:#4C72B0;\">0.102</td>\n",
    "    <td style=\"background-color:#55A868;\">0.896</td>\n",
    "    <td style=\"background-color:#C44E52;\">0.90</td>\n",
    "     <td style=\"background-color:#8172B2;\">0.896</td>\n",
    "    <td style=\"background-color:#64B5CD;\">0.894</td>\n",
    "  </tr>\n",
    "\n",
    "</table>\n",
    "\n",
    "       '''\n",
    "HTMLRender(model_accurcy_html)"
   ]
  },
  {
   "cell_type": "code",
   "execution_count": null,
   "metadata": {
    "collapsed": false,
    "is_executing": true
   },
   "outputs": [],
   "source": [
    "accuracy_html = '''\n",
    "<img src=\"./image/flan-t5-small-accuracy.png\" alt=\"flan-t5-small-accuracy\" width=\"70%\">\n",
    "'''\n",
    "HTMLRender(accuracy_html)"
   ]
  },
  {
   "cell_type": "code",
   "execution_count": null,
   "metadata": {
    "collapsed": false
   },
   "outputs": [],
   "source": [
    "## Load your adapter from the Hub\n"
   ]
  }
 ],
 "metadata": {
  "kernelspec": {
   "display_name": "Python 3",
   "language": "python",
   "name": "python3"
  },
  "language_info": {
   "codemirror_mode": {
    "name": "ipython",
    "version": 2
   },
   "file_extension": ".py",
   "mimetype": "text/x-python",
   "name": "python",
   "nbconvert_exporter": "python",
   "pygments_lexer": "ipython2",
   "version": "2.7.6"
  }
 },
 "nbformat": 4,
 "nbformat_minor": 0
}
