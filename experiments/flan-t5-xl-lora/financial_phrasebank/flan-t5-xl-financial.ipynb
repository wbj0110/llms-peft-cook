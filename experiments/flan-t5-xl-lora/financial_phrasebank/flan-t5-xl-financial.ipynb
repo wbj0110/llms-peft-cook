{
 "cells": [
  {
   "cell_type": "markdown",
   "source": [
    "Finetuning the model on financial_phrasebank dataset, that consists of pairs of text-labels to classify financial-related sentences, if they are either <span style=\"color: red;\">positive</span>, <span style=\"color: purple;\">neutral</span> or <span style=\"color: green;\">negative</span>."
   ],
   "metadata": {
    "collapsed": false
   }
  },
  {
   "cell_type": "markdown",
   "source": [
    "# 1.Experimental Setup1"
   ],
   "metadata": {
    "collapsed": false
   }
  },
  {
   "cell_type": "markdown",
   "source": [
    "## 1.1 Setup"
   ],
   "metadata": {
    "collapsed": false
   }
  },
  {
   "cell_type": "markdown",
   "source": [
    "## 1.2 Training"
   ],
   "metadata": {
    "collapsed": false
   }
  },
  {
   "cell_type": "markdown",
   "source": [
    "### 1.2.1 Run code on CPU version"
   ],
   "metadata": {
    "collapsed": false
   }
  },
  {
   "cell_type": "code",
   "execution_count": null,
   "outputs": [],
   "source": [
    "!pwd"
   ],
   "metadata": {
    "collapsed": false,
    "is_executing": true
   }
  },
  {
   "cell_type": "code",
   "execution_count": 1,
   "outputs": [
    {
     "name": "stdout",
     "output_type": "stream",
     "text": [
      "/Users/wengbenjue/opt/anaconda3/envs/peft/lib/python3.11/site-packages/bitsandbytes/cextension.py:34: UserWarning: The installed version of bitsandbytes was compiled without GPU support. 8-bit optimizers, 8-bit multiplication, and GPU quantization are unavailable.\r\n",
      "  warn(\"The installed version of bitsandbytes was compiled without GPU support. \"\r\n",
      "'NoneType' object has no attribute 'cadam32bit_grad_fp32'\r\n",
      "/Users/wengbenjue/opt/anaconda3/envs/peft/lib/python3.11/site-packages/trl/trainer/ppo_config.py:141: UserWarning: The `optimize_cuda_cache` arguement will be deprecated soon, please use `optimize_device_cache` instead.\r\n",
      "  warnings.warn(\r\n",
      "Loading checkpoint shards: 100%|██████████████████| 2/2 [00:13<00:00,  6.84s/it]\r\n",
      "use AutoModelForSeq2SeqLM load  model.\r\n",
      "trainable params: 37748736 || all params: 2887505920 || trainable%: 1.3073128521932174\r\n",
      "tokenizer padding setting: </s>\r\n",
      "Sentence: N-Viro operates processing facilities independently as well as in partnership with municipalities .\r\n",
      "number of labels:3\r\n",
      "Running tokenizer on dataset: 100%|█| 4075/4075 [00:00<00:00, 12769.06 examples/\r\n",
      "Running tokenizer on dataset: 100%|█| 453/453 [00:00<00:00, 12716.22 examples/s]\r\n",
      "  0%|                                                    | 0/80 [00:00<?, ?it/s]/Users/wengbenjue/opt/anaconda3/envs/peft/lib/python3.11/site-packages/torch/utils/checkpoint.py:429: UserWarning: torch.utils.checkpoint: please pass in use_reentrant=True or use_reentrant=False explicitly. The default value of use_reentrant will be updated to be False in the future. To maintain current behavior, pass use_reentrant=True. It is recommended that you use use_reentrant=False. Refer to docs for more details on the differences between the two variants.\r\n",
      "  warnings.warn(\r\n",
      "{'loss': 2.8108, 'learning_rate': 0.000875, 'epoch': 0.62}                      \r\n",
      " 20%|███████▍                             | 16/80 [2:21:04<11:25:45, 642.91s/it]\r\n",
      "  0%|                                                     | 0/8 [00:00<?, ?it/s]\u001B[A\r\n",
      " 25%|███████████▎                                 | 2/8 [00:08<00:24,  4.14s/it]\u001B[A\r\n",
      " 38%|████████████████▉                            | 3/8 [00:14<00:24,  4.95s/it]\u001B[A\r\n",
      " 50%|██████████████████████▌                      | 4/8 [00:22<00:25,  6.32s/it]\u001B[A\r\n",
      " 62%|███████████████████████████▌                | 5/8 [16:06<16:36, 332.09s/it]\u001B[A\r\n",
      " 75%|█████████████████████████████████           | 6/8 [16:14<07:29, 224.69s/it]\u001B[A\r\n",
      " 88%|██████████████████████████████████████▌     | 7/8 [16:21<02:34, 154.74s/it]\u001B[A\r\n",
      "                                                                                \u001B[A\r\n",
      "\u001B[A                                                                             {'eval_loss': 0.09284597635269165, 'eval_accuracy': 0.9139072847682119, 'eval_precision': 0.915197192882804, 'eval_recall': 0.9139072847682119, 'eval_f1': 0.9118199311942092, 'eval_runtime': 996.4835, 'eval_samples_per_second': 0.455, 'eval_steps_per_second': 0.008, 'epoch': 1.0}\r\n",
      " 20%|███████▍                             | 16/80 [2:37:40<11:25:45, 642.91s/it]\r\n",
      "100%|████████████████████████████████████████████| 8/8 [16:28<00:00, 107.28s/it]\u001B[A\r\n",
      "                                                                                \u001B[A/Users/wengbenjue/opt/anaconda3/envs/peft/lib/python3.11/site-packages/torch/utils/checkpoint.py:429: UserWarning: torch.utils.checkpoint: please pass in use_reentrant=True or use_reentrant=False explicitly. The default value of use_reentrant will be updated to be False in the future. To maintain current behavior, pass use_reentrant=True. It is recommended that you use use_reentrant=False. Refer to docs for more details on the differences between the two variants.\r\n",
      "  warnings.warn(\r\n",
      "{'loss': 0.185, 'learning_rate': 0.00075, 'epoch': 1.25}                        \r\n",
      "{'loss': 0.0763, 'learning_rate': 0.000625, 'epoch': 1.88}                      \r\n",
      " 40%|███████████████▏                      | 32/80 [7:28:37<3:17:51, 247.33s/it]\r\n",
      "  0%|                                                     | 0/8 [00:00<?, ?it/s]\u001B[A\r\n",
      " 25%|███████████▎                                 | 2/8 [00:10<00:30,  5.01s/it]\u001B[A\r\n",
      " 38%|████████████████▉                            | 3/8 [00:20<00:36,  7.40s/it]\u001B[A\r\n",
      " 50%|██████████████████████▌                      | 4/8 [00:38<00:45, 11.34s/it]\u001B[A\r\n",
      " 62%|████████████████████████████▏                | 5/8 [00:50<00:34, 11.35s/it]\u001B[A\r\n",
      " 75%|█████████████████████████████████▊           | 6/8 [00:53<00:17,  8.71s/it]\u001B[A\r\n",
      " 88%|███████████████████████████████████████▍     | 7/8 [01:10<00:11, 11.23s/it]\u001B[A\r\n",
      "                                                                                \u001B[A\r\n",
      "\u001B[A{'eval_loss': 0.04814097285270691, 'eval_accuracy': 0.9359823399558499, 'eval_precision': 0.9364833341161367, 'eval_recall': 0.9359823399558499, 'eval_f1': 0.9360534291166235, 'eval_runtime': 91.9383, 'eval_samples_per_second': 4.927, 'eval_steps_per_second': 0.087, 'epoch': 2.0}\r\n",
      " 40%|███████████████▏                      | 32/80 [7:30:09<3:17:51, 247.33s/it]\r\n",
      "100%|█████████████████████████████████████████████| 8/8 [01:23<00:00, 10.17s/it]\u001B[A\r\n",
      "                                                                                \u001B[A/Users/wengbenjue/opt/anaconda3/envs/peft/lib/python3.11/site-packages/torch/utils/checkpoint.py:429: UserWarning: torch.utils.checkpoint: please pass in use_reentrant=True or use_reentrant=False explicitly. The default value of use_reentrant will be updated to be False in the future. To maintain current behavior, pass use_reentrant=True. It is recommended that you use use_reentrant=False. Refer to docs for more details on the differences between the two variants.\r\n",
      "  warnings.warn(\r\n",
      "{'loss': 0.0551, 'learning_rate': 0.0005, 'epoch': 2.5}                         \r\n",
      " 60%|████████████████████████                | 48/80 [7:57:49<55:49, 104.67s/it]\r\n",
      "  0%|                                                     | 0/8 [00:00<?, ?it/s]\u001B[A\r\n",
      " 25%|███████████▎                                 | 2/8 [00:08<00:24,  4.12s/it]\u001B[A\r\n",
      " 38%|████████████████▉                            | 3/8 [00:15<00:27,  5.41s/it]\u001B[A\r\n",
      " 50%|██████████████████████▌                      | 4/8 [00:30<00:35,  8.95s/it]\u001B[A\r\n",
      " 62%|████████████████████████████▏                | 5/8 [00:37<00:25,  8.37s/it]\u001B[A\r\n",
      " 75%|█████████████████████████████████▊           | 6/8 [00:44<00:15,  7.88s/it]\u001B[A\r\n",
      " 88%|███████████████████████████████████████▍     | 7/8 [00:55<00:08,  8.91s/it]\u001B[A\r\n",
      "                                                                                \u001B[A\r\n",
      "\u001B[A{'eval_loss': 0.027739480137825012, 'eval_accuracy': 0.9735099337748344, 'eval_precision': 0.9737438069008725, 'eval_recall': 0.9735099337748344, 'eval_f1': 0.9734247223159546, 'eval_runtime': 66.5823, 'eval_samples_per_second': 6.804, 'eval_steps_per_second': 0.12, 'epoch': 3.0}\r\n",
      " 60%|████████████████████████                | 48/80 [7:58:56<55:49, 104.67s/it]\r\n",
      "100%|█████████████████████████████████████████████| 8/8 [00:58<00:00,  6.51s/it]\u001B[A\r\n",
      "                                                                                \u001B[A/Users/wengbenjue/opt/anaconda3/envs/peft/lib/python3.11/site-packages/torch/utils/checkpoint.py:429: UserWarning: torch.utils.checkpoint: please pass in use_reentrant=True or use_reentrant=False explicitly. The default value of use_reentrant will be updated to be False in the future. To maintain current behavior, pass use_reentrant=True. It is recommended that you use use_reentrant=False. Refer to docs for more details on the differences between the two variants.\r\n",
      "  warnings.warn(\r\n",
      "{'loss': 0.0329, 'learning_rate': 0.000375, 'epoch': 3.12}                      \r\n",
      "{'loss': 0.028, 'learning_rate': 0.00025, 'epoch': 3.75}                        \r\n",
      " 80%|████████████████████████████████        | 64/80 [8:39:00<53:02, 198.90s/it]\r\n",
      "  0%|                                                     | 0/8 [00:00<?, ?it/s]\u001B[A\r\n",
      " 25%|███████████▎                                 | 2/8 [00:03<00:10,  1.81s/it]\u001B[A\r\n",
      " 38%|████████████████▉                            | 3/8 [00:09<00:17,  3.55s/it]\u001B[A\r\n",
      " 50%|██████████████████████▌                      | 4/8 [00:18<00:22,  5.70s/it]\u001B[A\r\n",
      " 62%|████████████████████████████▏                | 5/8 [00:29<00:21,  7.25s/it]\u001B[A\r\n",
      " 75%|█████████████████████████████████▊           | 6/8 [00:36<00:14,  7.31s/it]\u001B[A\r\n",
      " 88%|███████████████████████████████████████▍     | 7/8 [00:49<00:09,  9.23s/it]\u001B[A\r\n",
      "                                                                                \u001B[A\r\n",
      "\u001B[A{'eval_loss': 0.02148449793457985, 'eval_accuracy': 0.9757174392935982, 'eval_precision': 0.9759366242387237, 'eval_recall': 0.9757174392935982, 'eval_f1': 0.9756466173853086, 'eval_runtime': 64.4372, 'eval_samples_per_second': 7.03, 'eval_steps_per_second': 0.124, 'epoch': 4.0}\r\n",
      " 80%|████████████████████████████████        | 64/80 [8:40:05<53:02, 198.90s/it]\r\n",
      "100%|█████████████████████████████████████████████| 8/8 [00:58<00:00,  7.24s/it]\u001B[A\r\n",
      "                                                                                \u001B[A/Users/wengbenjue/opt/anaconda3/envs/peft/lib/python3.11/site-packages/torch/utils/checkpoint.py:429: UserWarning: torch.utils.checkpoint: please pass in use_reentrant=True or use_reentrant=False explicitly. The default value of use_reentrant will be updated to be False in the future. To maintain current behavior, pass use_reentrant=True. It is recommended that you use use_reentrant=False. Refer to docs for more details on the differences between the two variants.\r\n",
      "  warnings.warn(\r\n",
      "{'loss': 0.0226, 'learning_rate': 0.000125, 'epoch': 4.38}                      \r\n",
      "{'loss': 0.0228, 'learning_rate': 0.0, 'epoch': 5.0}                            \r\n",
      "100%|████████████████████████████████████████| 80/80 [9:11:50<00:00, 125.42s/it]\r\n",
      "  0%|                                                     | 0/8 [00:00<?, ?it/s]\u001B[A\r\n",
      " 25%|███████████▎                                 | 2/8 [00:10<00:30,  5.10s/it]\u001B[A\r\n",
      " 38%|████████████████▉                            | 3/8 [00:19<00:34,  6.91s/it]\u001B[A\r\n",
      " 50%|██████████████████████▌                      | 4/8 [00:34<00:38,  9.69s/it]\u001B[A\r\n",
      " 62%|████████████████████████████▏                | 5/8 [00:48<00:34, 11.35s/it]\u001B[A\r\n",
      " 75%|█████████████████████████████████▊           | 6/8 [00:56<00:20, 10.31s/it]\u001B[A\r\n",
      " 88%|███████████████████████████████████████▍     | 7/8 [01:09<00:10, 10.97s/it]\u001B[A\r\n",
      "                                                                                \u001B[A\r\n",
      "\u001B[A{'eval_loss': 0.019474931061267853, 'eval_accuracy': 0.9823399558498896, 'eval_precision': 0.9824887577658598, 'eval_recall': 0.9823399558498896, 'eval_f1': 0.9822952386019028, 'eval_runtime': 83.5933, 'eval_samples_per_second': 5.419, 'eval_steps_per_second': 0.096, 'epoch': 5.0}\r\n",
      "100%|████████████████████████████████████████| 80/80 [9:13:13<00:00, 125.42s/it]\r\n",
      "100%|█████████████████████████████████████████████| 8/8 [01:13<00:00,  8.05s/it]\u001B[A\r\n",
      "{'train_runtime': 33193.6411, 'train_samples_per_second': 0.614, 'train_steps_per_second': 0.002, 'train_loss': 0.40419787093997, 'epoch': 5.0}\r\n",
      "100%|████████████████████████████████████████| 80/80 [9:13:13<00:00, 414.92s/it]\r\n"
     ]
    }
   ],
   "source": [
    "!python ../../../peft_train.py \\\n",
    "--model_name ../../../pretrain_models/flan-t5-xl \\\n",
    "--max_seq_len 2048 \\\n",
    "--group_by_length \\\n",
    "--max_steps 200 \\\n",
    "--dataset_name ../../../text-classification/financial_phrasebank \\\n",
    "--num_labels 3 \\\n",
    "--epochs 5 \\\n",
    "--learning_rate 1e-3 \\\n",
    "--per_device_train_batch_size 64 \\\n",
    "--per_device_eval_batch_size 64 \\\n",
    "--model_type SEQ_2_SEQ_LM \\\n",
    "--output_model_path ./result/flan-t5-xl-financial-lora \\\n",
    "--bnb_4bit_compute_dtype float32 \\\n",
    "--use_4b False\n"
   ],
   "metadata": {
    "collapsed": false,
    "ExecuteTime": {
     "end_time": "2023-12-07T03:22:26.317097Z",
     "start_time": "2023-12-06T18:08:19.810651Z"
    }
   }
  },
  {
   "cell_type": "markdown",
   "source": [
    "### 1.2.2 Run code on GPU version\n",
    "Load the model together with the adapter with few lines of code! Check the snippet below to load the adapter from the Hub and run the example evaluation."
   ],
   "metadata": {
    "collapsed": false
   }
  },
  {
   "cell_type": "code",
   "execution_count": null,
   "outputs": [],
   "source": [
    "!pip install -q -U trl transformers accelerate git+https://github.com/huggingface/peft.git\n",
    "!pip install -q datasets bitsandbytes einops wandb evaluate\n",
    "from google.colab import drive\n",
    "drive.mount('/content/drive')\n",
    "%cd /content/drive/MyDrive/Colab Notebooks/llms-peft-cook-colab/experiments/flan-t5-xl-lora/financial_phrasebank"
   ],
   "metadata": {
    "collapsed": false
   }
  },
  {
   "cell_type": "code",
   "execution_count": null,
   "outputs": [],
   "source": [
    "import os\n",
    "os.environ[\"CUDA_VISIBLE_DEVICES\"] = \"0\"\n",
    "!python ../../../peft_train.py \\\n",
    "--model_name google/flan-t5-xl \\\n",
    "--max_seq_len 2048 \\\n",
    "--group_by_length \\\n",
    "--max_steps 200 \\\n",
    "--dataset_name ../../../text-classification/financial_phrasebank \\\n",
    "--num_labels 3 \\\n",
    "--epochs 5 \\\n",
    "--learning_rate 1e-3 \\\n",
    "--per_device_train_batch_size 64 \\\n",
    "--per_device_eval_batch_size 64 \\\n",
    "--model_type SEQ_2_SEQ_LM \\\n",
    "--output_model_path ./result/flan-t5-financial-lora \\\n",
    "--bnb_4bit_compute_dtype float16 \\\n",
    "--load_in_8bit \\\n",
    "--use_4b"
   ],
   "metadata": {
    "collapsed": false,
    "is_executing": true
   }
  },
  {
   "cell_type": "markdown",
   "source": [
    "# Load your adapter from the Hub"
   ],
   "metadata": {
    "collapsed": false
   }
  },
  {
   "cell_type": "code",
   "execution_count": 7,
   "outputs": [],
   "source": [
    "import torch\n",
    "from peft import PeftModel, PeftConfig\n",
    "from transformers import AutoModelForSeq2SeqLM, AutoTokenizer\n",
    "\n",
    "peft_model_id = \"./result/flan-t5-cup-lora\"\n",
    "base_model_name_or_path = '.../../../pretrain_models/google-flan-t5-small'\n",
    "config = PeftConfig.from_pretrained(peft_model_id)\n",
    "\n",
    "# model = AutoModelForSeq2SeqLM.from_pretrained(config.base_model_name_or_path, torch_dtype=\"auto\", device_map=\"auto\")\n",
    "model = AutoModelForSeq2SeqLM.from_pretrained(config.base_model_name_or_path, torch_dtype=\"auto\", device_map=\"cpu\")\n",
    "tokenizer = AutoTokenizer.from_pretrained(config.base_model_name_or_path)\n",
    "\n",
    "# Load the Lora model\n",
    "model = PeftModel.from_pretrained(model, peft_model_id)"
   ],
   "metadata": {
    "collapsed": false,
    "ExecuteTime": {
     "end_time": "2023-12-02T16:37:01.962850Z",
     "start_time": "2023-12-02T16:37:01.696535Z"
    }
   }
  },
  {
   "cell_type": "code",
   "execution_count": 9,
   "outputs": [
    {
     "name": "stdout",
     "output_type": "stream",
     "text": [
      "input sentence:  In January-September 2009 , the Group 's net interest income increased to EUR 112.4 mn from EUR 74.3 mn in January-September 2008 .\n",
      " output prediction:  ['positive positive positive positive positive positive positive positive positive positive']\n"
     ]
    }
   ],
   "source": [
    "model.eval()\n",
    "input_text = \"In January-September 2009 , the Group 's net interest income increased to EUR 112.4 mn from EUR 74.3 mn in January-September 2008 .\"\n",
    "inputs = tokenizer(input_text, return_tensors=\"pt\")\n",
    "\n",
    "outputs = model.generate(input_ids=inputs[\"input_ids\"], max_new_tokens=10)\n",
    "\n",
    "print(\"input sentence: \", input_text)\n",
    "print(\" output prediction: \", tokenizer.batch_decode(outputs.detach().cpu().numpy(), skip_special_tokens=True))"
   ],
   "metadata": {
    "collapsed": false,
    "ExecuteTime": {
     "end_time": "2023-12-02T16:40:55.202266Z",
     "start_time": "2023-12-02T16:40:55.100686Z"
    }
   }
  },
  {
   "cell_type": "code",
   "execution_count": 8,
   "outputs": [
    {
     "name": "stdout",
     "output_type": "stream",
     "text": [
      "input sentence:  In January-September 2009 , the Group 's net interest income increased to EUR 112.4 mn from EUR 74.3 mn in January-September 2008 .\n",
      " output prediction:  ['positive positive positive positive positive positive positive positive positive positive']\n"
     ]
    }
   ],
   "source": [
    "model.eval()\n",
    "input_text = \"In January-September 2009 , the Group 's net interest income increased to EUR 112.4 mn from EUR 74.3 mn in January-September 2008 .\"\n",
    "inputs = tokenizer(input_text, return_tensors=\"pt\")\n",
    "\n",
    "outputs = model.generate(input_ids=inputs[\"input_ids\"], max_new_tokens=10)\n",
    "\n",
    "print(\"input sentence: \", input_text)\n",
    "print(\" output prediction: \", tokenizer.batch_decode(outputs.detach().cpu().numpy(), skip_special_tokens=True))"
   ],
   "metadata": {
    "collapsed": false,
    "ExecuteTime": {
     "end_time": "2023-12-02T16:37:04.919570Z",
     "start_time": "2023-12-02T16:37:04.379496Z"
    }
   }
  },
  {
   "cell_type": "markdown",
   "source": [
    "## 1.3 Experimental Result"
   ],
   "metadata": {
    "collapsed": false
   }
  },
  {
   "cell_type": "code",
   "execution_count": null,
   "outputs": [],
   "source": [
    "class HTMLRender:\n",
    "    def __init__(self,html_str):\n",
    "        self.html_str =html_str\n",
    "    def _repr_html_(self):\n",
    "       return self.html_str\n"
   ],
   "metadata": {
    "collapsed": false,
    "is_executing": true
   }
  },
  {
   "cell_type": "code",
   "execution_count": null,
   "outputs": [],
   "source": [
    "model_accurcy_html = '''\n",
    "<table>\n",
    "  <tr>\n",
    "    <th>eval loss</th>\n",
    "    <th>eval accuracy</th>\n",
    "    <th>eval precision</th>\n",
    "    <th>eval recall</th>\n",
    "    <th>eval f1</th>\n",
    "  </tr>\n",
    "  <tr>\n",
    "    <td style=\"background-color:#4C72B0;\">0.102</td>\n",
    "    <td style=\"background-color:#55A868;\">0.896</td>\n",
    "    <td style=\"background-color:#C44E52;\">0.90</td>\n",
    "     <td style=\"background-color:#8172B2;\">0.896</td>\n",
    "    <td style=\"background-color:#64B5CD;\">0.894</td>\n",
    "  </tr>\n",
    "\n",
    "</table>\n",
    "\n",
    "       '''\n",
    "HTMLRender(model_accurcy_html)"
   ],
   "metadata": {
    "collapsed": false,
    "is_executing": true
   }
  },
  {
   "cell_type": "code",
   "execution_count": null,
   "outputs": [],
   "source": [
    "accuracy_html = '''\n",
    "<img src=\"./image/flan-t5-small-accuracy.png\" alt=\"flan-t5-small-accuracy\" width=\"70%\">\n",
    "'''\n",
    "HTMLRender(accuracy_html)"
   ],
   "metadata": {
    "collapsed": false,
    "is_executing": true
   }
  },
  {
   "cell_type": "code",
   "execution_count": null,
   "outputs": [],
   "source": [
    "## Load your adapter from the Hub\n"
   ],
   "metadata": {
    "collapsed": false
   }
  }
 ],
 "metadata": {
  "kernelspec": {
   "display_name": "Python 3",
   "language": "python",
   "name": "python3"
  },
  "language_info": {
   "codemirror_mode": {
    "name": "ipython",
    "version": 2
   },
   "file_extension": ".py",
   "mimetype": "text/x-python",
   "name": "python",
   "nbconvert_exporter": "python",
   "pygments_lexer": "ipython2",
   "version": "2.7.6"
  }
 },
 "nbformat": 4,
 "nbformat_minor": 0
}
