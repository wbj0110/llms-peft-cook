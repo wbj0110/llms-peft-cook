{
 "cells": [
  {
   "cell_type": "markdown",
   "source": [
    "Finetuning the model on financial_phrasebank dataset, that consists of pairs of text-labels to classify financial-related sentences, if they are either <span style=\"color: red;\">positive</span>, <span style=\"color: purple;\">neutral</span> or <span style=\"color: green;\">negative</span>."
   ],
   "metadata": {
    "collapsed": false
   }
  },
  {
   "cell_type": "markdown",
   "source": [
    "# 1.Experimental Setup1"
   ],
   "metadata": {
    "collapsed": false
   }
  },
  {
   "cell_type": "markdown",
   "source": [
    "## 1.1 Setup"
   ],
   "metadata": {
    "collapsed": false
   }
  },
  {
   "cell_type": "markdown",
   "source": [
    "## 1.2 Training"
   ],
   "metadata": {
    "collapsed": false
   }
  },
  {
   "cell_type": "markdown",
   "source": [
    "### 1.2.1 Run code on CPU version"
   ],
   "metadata": {
    "collapsed": false
   }
  },
  {
   "cell_type": "code",
   "execution_count": null,
   "outputs": [],
   "source": [
    "!pwd"
   ],
   "metadata": {
    "collapsed": false,
    "is_executing": true
   }
  },
  {
   "cell_type": "code",
   "execution_count": 1,
   "outputs": [
    {
     "name": "stdout",
     "output_type": "stream",
     "text": [
      "/Users/wengbenjue/opt/anaconda3/envs/peft/lib/python3.11/site-packages/bitsandbytes/cextension.py:34: UserWarning: The installed version of bitsandbytes was compiled without GPU support. 8-bit optimizers, 8-bit multiplication, and GPU quantization are unavailable.\r\n",
      "  warn(\"The installed version of bitsandbytes was compiled without GPU support. \"\r\n",
      "'NoneType' object has no attribute 'cadam32bit_grad_fp32'\r\n",
      "/Users/wengbenjue/opt/anaconda3/envs/peft/lib/python3.11/site-packages/trl/trainer/ppo_config.py:141: UserWarning: The `optimize_cuda_cache` arguement will be deprecated soon, please use `optimize_device_cache` instead.\r\n",
      "  warnings.warn(\r\n",
      "use AutoModelForSeq2SeqLM load  model.\r\n",
      "trainable params: 18874368 || all params: 802024448 || trainable%: 2.3533407300820834\r\n",
      "tokenizer padding setting: </s>\r\n",
      "auditor_sentiment原始数据集特征: {'sentence': Value(dtype='string', id=None), 'label': Value(dtype='int64', id=None)}\r\n",
      "auditor_sentiment更新后数据集特征: {'sentence': Value(dtype='string', id=None), 'label': ClassLabel(names=['0', '1', '2'], id=None)}\r\n",
      "Sentence: Altia 's operating profit jumped to EUR 47 million from EUR 6.6 million .\r\n",
      "number of labels:3\r\n",
      "Running tokenizer on dataset: 100%|█| 7754/7754 [00:00<00:00, 15851.60 examples/\r\n",
      "Running tokenizer on dataset: 100%|█| 1938/1938 [00:00<00:00, 21493.04 examples/\r\n",
      "  0%|                                                   | 0/150 [00:00<?, ?it/s]/Users/wengbenjue/opt/anaconda3/envs/peft/lib/python3.11/site-packages/torch/utils/checkpoint.py:429: UserWarning: torch.utils.checkpoint: please pass in use_reentrant=True or use_reentrant=False explicitly. The default value of use_reentrant will be updated to be False in the future. To maintain current behavior, pass use_reentrant=True. It is recommended that you use use_reentrant=False. Refer to docs for more details on the differences between the two variants.\r\n",
      "  warnings.warn(\r\n",
      "{'loss': 2.0906, 'learning_rate': 0.0009333333333333333, 'epoch': 0.33}         \r\n",
      "{'loss': 0.534, 'learning_rate': 0.0008666666666666667, 'epoch': 0.66}          \r\n",
      "{'loss': 0.335, 'learning_rate': 0.0008, 'epoch': 0.98}                         \r\n",
      " 20%|████████                                | 30/150 [14:54<1:03:36, 31.81s/it]\r\n",
      "  0%|                                                    | 0/31 [00:00<?, ?it/s]\u001B[A\r\n",
      "  6%|██▊                                         | 2/31 [00:02<00:38,  1.33s/it]\u001B[A\r\n",
      " 10%|████▎                                       | 3/31 [00:04<00:48,  1.72s/it]\u001B[A\r\n",
      " 13%|█████▋                                      | 4/31 [00:07<00:50,  1.86s/it]\u001B[A\r\n",
      " 16%|███████                                     | 5/31 [00:09<00:51,  1.99s/it]\u001B[A\r\n",
      " 19%|████████▌                                   | 6/31 [00:11<00:51,  2.08s/it]\u001B[A\r\n",
      " 23%|█████████▉                                  | 7/31 [00:13<00:50,  2.12s/it]\u001B[A\r\n",
      " 26%|███████████▎                                | 8/31 [00:15<00:49,  2.15s/it]\u001B[A\r\n",
      " 29%|████████████▊                               | 9/31 [00:18<00:47,  2.17s/it]\u001B[A\r\n",
      " 32%|█████████████▊                             | 10/31 [00:20<00:45,  2.18s/it]\u001B[A\r\n",
      " 35%|███████████████▎                           | 11/31 [00:22<00:43,  2.19s/it]\u001B[A\r\n",
      " 39%|████████████████▋                          | 12/31 [00:24<00:41,  2.17s/it]\u001B[A\r\n",
      " 42%|██████████████████                         | 13/31 [00:26<00:39,  2.20s/it]\u001B[A\r\n",
      " 45%|███████████████████▍                       | 14/31 [00:29<00:37,  2.21s/it]\u001B[A\r\n",
      " 48%|████████████████████▊                      | 15/31 [00:31<00:35,  2.25s/it]\u001B[A\r\n",
      " 52%|██████████████████████▏                    | 16/31 [00:33<00:34,  2.27s/it]\u001B[A\r\n",
      " 55%|███████████████████████▌                   | 17/31 [00:36<00:31,  2.26s/it]\u001B[A\r\n",
      " 58%|████████████████████████▉                  | 18/31 [00:38<00:29,  2.25s/it]\u001B[A\r\n",
      " 61%|██████████████████████████▎                | 19/31 [00:40<00:27,  2.26s/it]\u001B[A\r\n",
      " 65%|███████████████████████████▋               | 20/31 [00:42<00:24,  2.26s/it]\u001B[A\r\n",
      " 68%|█████████████████████████████▏             | 21/31 [00:46<00:25,  2.53s/it]\u001B[A\r\n",
      " 71%|██████████████████████████████▌            | 22/31 [00:48<00:23,  2.65s/it]\u001B[A\r\n",
      " 74%|███████████████████████████████▉           | 23/31 [00:51<00:20,  2.62s/it]\u001B[A\r\n",
      " 77%|█████████████████████████████████▎         | 24/31 [00:54<00:18,  2.60s/it]\u001B[A\r\n",
      " 81%|██████████████████████████████████▋        | 25/31 [00:56<00:15,  2.65s/it]\u001B[A\r\n",
      " 84%|████████████████████████████████████       | 26/31 [00:59<00:13,  2.60s/it]\u001B[A\r\n",
      " 87%|█████████████████████████████████████▍     | 27/31 [01:01<00:10,  2.62s/it]\u001B[A\r\n",
      " 90%|██████████████████████████████████████▊    | 28/31 [01:05<00:08,  2.99s/it]\u001B[A\r\n",
      " 94%|████████████████████████████████████████▏  | 29/31 [01:09<00:06,  3.24s/it]\u001B[A\r\n",
      " 97%|█████████████████████████████████████████▌ | 30/31 [01:12<00:03,  3.09s/it]\u001B[A\r\n",
      "                                                                                \u001B[A\r\n",
      "\u001B[A{'eval_loss': 0.28642311692237854, 'eval_accuracy': 0.6596523330283623, 'eval_precision': 0.6649826962090776, 'eval_recall': 0.6596523330283623, 'eval_f1': 0.6058222387852066, 'eval_runtime': 79.634, 'eval_samples_per_second': 24.336, 'eval_steps_per_second': 0.389, 'epoch': 0.98}\r\n",
      " 20%|████████                                | 30/150 [16:28<1:03:36, 31.81s/it]\r\n",
      "100%|███████████████████████████████████████████| 31/31 [01:17<00:00,  3.30s/it]\u001B[A\r\n",
      "                                                                                \u001B[A/Users/wengbenjue/opt/anaconda3/envs/peft/lib/python3.11/site-packages/torch/utils/checkpoint.py:429: UserWarning: torch.utils.checkpoint: please pass in use_reentrant=True or use_reentrant=False explicitly. The default value of use_reentrant will be updated to be False in the future. To maintain current behavior, pass use_reentrant=True. It is recommended that you use use_reentrant=False. Refer to docs for more details on the differences between the two variants.\r\n",
      "  warnings.warn(\r\n",
      "{'loss': 0.2981, 'learning_rate': 0.0007333333333333333, 'epoch': 1.31}         \r\n",
      "{'loss': 0.2712, 'learning_rate': 0.0006666666666666666, 'epoch': 1.64}         \r\n",
      "{'loss': 0.2405, 'learning_rate': 0.0006, 'epoch': 1.97}                        \r\n",
      " 41%|█████████████████                         | 61/150 [33:42<48:54, 32.97s/it]\r\n",
      "  0%|                                                    | 0/31 [00:00<?, ?it/s]\u001B[A\r\n",
      "  6%|██▊                                         | 2/31 [00:02<00:33,  1.16s/it]\u001B[A\r\n",
      " 10%|████▎                                       | 3/31 [00:04<00:44,  1.60s/it]\u001B[A\r\n",
      " 13%|█████▋                                      | 4/31 [00:07<00:53,  2.00s/it]\u001B[A\r\n",
      " 16%|███████                                     | 5/31 [00:09<00:55,  2.13s/it]\u001B[A\r\n",
      " 19%|████████▌                                   | 6/31 [00:12<00:57,  2.29s/it]\u001B[A\r\n",
      " 23%|█████████▉                                  | 7/31 [00:15<00:59,  2.46s/it]\u001B[A\r\n",
      " 26%|███████████▎                                | 8/31 [00:18<01:07,  2.93s/it]\u001B[A\r\n",
      " 29%|████████████▊                               | 9/31 [00:21<01:01,  2.78s/it]\u001B[A\r\n",
      " 32%|█████████████▊                             | 10/31 [00:23<00:55,  2.62s/it]\u001B[A\r\n",
      " 35%|███████████████▎                           | 11/31 [00:26<00:51,  2.58s/it]\u001B[A\r\n",
      " 39%|████████████████▋                          | 12/31 [00:28<00:47,  2.48s/it]\u001B[A\r\n",
      " 42%|██████████████████                         | 13/31 [00:31<00:45,  2.54s/it]\u001B[A\r\n",
      " 45%|███████████████████▍                       | 14/31 [00:33<00:44,  2.60s/it]\u001B[A\r\n",
      " 48%|████████████████████▊                      | 15/31 [00:36<00:40,  2.56s/it]\u001B[A\r\n",
      " 52%|██████████████████████▏                    | 16/31 [00:38<00:38,  2.54s/it]\u001B[A\r\n",
      " 55%|███████████████████████▌                   | 17/31 [00:41<00:35,  2.53s/it]\u001B[A\r\n",
      " 58%|████████████████████████▉                  | 18/31 [00:43<00:32,  2.50s/it]\u001B[A\r\n",
      " 61%|██████████████████████████▎                | 19/31 [00:46<00:29,  2.49s/it]\u001B[A\r\n",
      " 65%|███████████████████████████▋               | 20/31 [00:49<00:28,  2.63s/it]\u001B[A\r\n",
      " 68%|█████████████████████████████▏             | 21/31 [00:51<00:26,  2.64s/it]\u001B[A\r\n",
      " 71%|██████████████████████████████▌            | 22/31 [00:54<00:23,  2.61s/it]\u001B[A\r\n",
      " 74%|███████████████████████████████▉           | 23/31 [00:57<00:20,  2.62s/it]\u001B[A\r\n",
      " 77%|█████████████████████████████████▎         | 24/31 [00:59<00:18,  2.69s/it]\u001B[A\r\n",
      " 81%|██████████████████████████████████▋        | 25/31 [01:02<00:16,  2.69s/it]\u001B[A\r\n",
      " 84%|████████████████████████████████████       | 26/31 [01:05<00:13,  2.69s/it]\u001B[A\r\n",
      " 87%|█████████████████████████████████████▍     | 27/31 [01:07<00:10,  2.65s/it]\u001B[A\r\n",
      " 90%|██████████████████████████████████████▊    | 28/31 [01:10<00:08,  2.79s/it]\u001B[A\r\n",
      " 94%|████████████████████████████████████████▏  | 29/31 [01:14<00:05,  2.89s/it]\u001B[A\r\n",
      " 97%|█████████████████████████████████████████▌ | 30/31 [01:17<00:02,  2.95s/it]\u001B[A\r\n",
      "                                                                                \u001B[A\r\n",
      "\u001B[A{'eval_loss': 0.18245404958724976, 'eval_accuracy': 0.8069533394327539, 'eval_precision': 0.8123100119612015, 'eval_recall': 0.8069533394327539, 'eval_f1': 0.7979261643925923, 'eval_runtime': 82.2134, 'eval_samples_per_second': 23.573, 'eval_steps_per_second': 0.377, 'epoch': 2.0}\r\n",
      " 41%|█████████████████                         | 61/150 [35:04<48:54, 32.97s/it]\r\n",
      "100%|███████████████████████████████████████████| 31/31 [01:19<00:00,  2.41s/it]\u001B[A\r\n",
      "                                                                                \u001B[A/Users/wengbenjue/opt/anaconda3/envs/peft/lib/python3.11/site-packages/torch/utils/checkpoint.py:429: UserWarning: torch.utils.checkpoint: please pass in use_reentrant=True or use_reentrant=False explicitly. The default value of use_reentrant will be updated to be False in the future. To maintain current behavior, pass use_reentrant=True. It is recommended that you use use_reentrant=False. Refer to docs for more details on the differences between the two variants.\r\n",
      "  warnings.warn(\r\n",
      "{'loss': 0.2234, 'learning_rate': 0.0005333333333333334, 'epoch': 2.3}          \r\n",
      "{'loss': 0.201, 'learning_rate': 0.00046666666666666666, 'epoch': 2.62}         \r\n",
      "{'loss': 0.1887, 'learning_rate': 0.0004, 'epoch': 2.95}                        \r\n",
      " 61%|█████████████████████████▍                | 91/150 [52:35<34:37, 35.20s/it]\r\n",
      "  0%|                                                    | 0/31 [00:00<?, ?it/s]\u001B[A\r\n",
      "  6%|██▊                                         | 2/31 [00:02<00:33,  1.14s/it]\u001B[A\r\n",
      " 10%|████▎                                       | 3/31 [00:04<00:44,  1.59s/it]\u001B[A\r\n",
      " 13%|█████▋                                      | 4/31 [00:07<00:53,  1.98s/it]\u001B[A\r\n",
      " 16%|███████                                     | 5/31 [00:09<00:55,  2.13s/it]\u001B[A\r\n",
      " 19%|████████▌                                   | 6/31 [00:11<00:55,  2.22s/it]\u001B[A\r\n",
      " 23%|█████████▉                                  | 7/31 [00:14<00:54,  2.26s/it]\u001B[A\r\n",
      " 26%|███████████▎                                | 8/31 [00:16<00:54,  2.38s/it]\u001B[A\r\n",
      " 29%|████████████▊                               | 9/31 [00:19<00:51,  2.36s/it]\u001B[A\r\n",
      " 32%|█████████████▊                             | 10/31 [00:21<00:50,  2.41s/it]\u001B[A\r\n",
      " 35%|███████████████▎                           | 11/31 [00:24<00:50,  2.53s/it]\u001B[A\r\n",
      " 39%|████████████████▋                          | 12/31 [00:26<00:46,  2.46s/it]\u001B[A\r\n",
      " 42%|██████████████████                         | 13/31 [00:29<00:44,  2.50s/it]\u001B[A\r\n",
      " 45%|███████████████████▍                       | 14/31 [00:32<00:44,  2.61s/it]\u001B[A\r\n",
      " 48%|████████████████████▊                      | 15/31 [00:35<00:45,  2.85s/it]\u001B[A\r\n",
      " 52%|██████████████████████▏                    | 16/31 [00:38<00:43,  2.89s/it]\u001B[A\r\n",
      " 55%|███████████████████████▌                   | 17/31 [00:41<00:40,  2.86s/it]\u001B[A\r\n",
      " 58%|████████████████████████▉                  | 18/31 [00:44<00:36,  2.79s/it]\u001B[A\r\n",
      " 61%|██████████████████████████▎                | 19/31 [00:46<00:33,  2.76s/it]\u001B[A\r\n",
      " 65%|███████████████████████████▋               | 20/31 [00:49<00:30,  2.76s/it]\u001B[A\r\n",
      " 68%|█████████████████████████████▏             | 21/31 [00:52<00:27,  2.74s/it]\u001B[A\r\n",
      " 71%|██████████████████████████████▌            | 22/31 [00:55<00:24,  2.74s/it]\u001B[A\r\n",
      " 74%|███████████████████████████████▉           | 23/31 [00:57<00:21,  2.74s/it]\u001B[A\r\n",
      " 77%|█████████████████████████████████▎         | 24/31 [01:00<00:19,  2.81s/it]\u001B[A\r\n",
      " 81%|██████████████████████████████████▋        | 25/31 [01:03<00:16,  2.82s/it]\u001B[A\r\n",
      " 84%|████████████████████████████████████       | 26/31 [01:06<00:14,  2.82s/it]\u001B[A\r\n",
      " 87%|█████████████████████████████████████▍     | 27/31 [01:09<00:11,  2.79s/it]\u001B[A\r\n",
      " 90%|██████████████████████████████████████▊    | 28/31 [01:12<00:08,  2.86s/it]\u001B[A\r\n",
      " 94%|████████████████████████████████████████▏  | 29/31 [01:15<00:05,  2.89s/it]\u001B[A\r\n",
      " 97%|█████████████████████████████████████████▌ | 30/31 [01:18<00:02,  2.97s/it]\u001B[A\r\n",
      "                                                                                \u001B[A\r\n",
      "\u001B[A{'eval_loss': 0.14037808775901794, 'eval_accuracy': 0.8426349496797805, 'eval_precision': 0.8421123627076501, 'eval_recall': 0.8426349496797805, 'eval_f1': 0.8407453898850362, 'eval_runtime': 83.3583, 'eval_samples_per_second': 23.249, 'eval_steps_per_second': 0.372, 'epoch': 2.98}\r\n",
      " 61%|█████████████████████████▍                | 91/150 [54:09<34:37, 35.20s/it]\r\n",
      "100%|███████████████████████████████████████████| 31/31 [01:20<00:00,  2.46s/it]\u001B[A\r\n",
      "                                                                                \u001B[A/Users/wengbenjue/opt/anaconda3/envs/peft/lib/python3.11/site-packages/torch/utils/checkpoint.py:429: UserWarning: torch.utils.checkpoint: please pass in use_reentrant=True or use_reentrant=False explicitly. The default value of use_reentrant will be updated to be False in the future. To maintain current behavior, pass use_reentrant=True. It is recommended that you use use_reentrant=False. Refer to docs for more details on the differences between the two variants.\r\n",
      "  warnings.warn(\r\n",
      "{'loss': 0.1862, 'learning_rate': 0.0003333333333333333, 'epoch': 3.28}         \r\n",
      " 67%|███████████████████████████▎             | 100/150 [59:06<29:05, 34.92s/it]/Users/wengbenjue/opt/anaconda3/envs/peft/lib/python3.11/site-packages/torch/utils/checkpoint.py:429: UserWarning: torch.utils.checkpoint: please pass in use_reentrant=True or use_reentrant=False explicitly. The default value of use_reentrant will be updated to be False in the future. To maintain current behavior, pass use_reentrant=True. It is recommended that you use use_reentrant=False. Refer to docs for more details on the differences between the two variants.\r\n",
      "  warnings.warn(\r\n",
      "{'loss': 0.1738, 'learning_rate': 0.0002666666666666667, 'epoch': 3.61}         \r\n",
      "{'loss': 0.169, 'learning_rate': 0.0002, 'epoch': 3.93}                         \r\n",
      " 81%|███████████████████████████████▋       | 122/150 [1:11:22<15:04, 32.30s/it]\r\n",
      "  0%|                                                    | 0/31 [00:00<?, ?it/s]\u001B[A\r\n",
      "  6%|██▊                                         | 2/31 [00:02<00:32,  1.13s/it]\u001B[A\r\n",
      " 10%|████▎                                       | 3/31 [00:04<00:43,  1.57s/it]\u001B[A\r\n",
      " 13%|█████▋                                      | 4/31 [00:07<00:52,  1.95s/it]\u001B[A\r\n",
      " 16%|███████                                     | 5/31 [00:09<00:54,  2.09s/it]\u001B[A\r\n",
      " 19%|████████▌                                   | 6/31 [00:11<00:53,  2.15s/it]\u001B[A\r\n",
      " 23%|█████████▉                                  | 7/31 [00:13<00:51,  2.15s/it]\u001B[A\r\n",
      " 26%|███████████▎                                | 8/31 [00:16<00:52,  2.29s/it]\u001B[A\r\n",
      " 29%|████████████▊                               | 9/31 [00:18<00:51,  2.32s/it]\u001B[A\r\n",
      " 32%|█████████████▊                             | 10/31 [00:20<00:47,  2.28s/it]\u001B[A\r\n",
      " 35%|███████████████▎                           | 11/31 [00:23<00:47,  2.37s/it]\u001B[A\r\n",
      " 39%|████████████████▋                          | 12/31 [00:25<00:44,  2.36s/it]\u001B[A\r\n",
      " 42%|██████████████████                         | 13/31 [00:28<00:43,  2.42s/it]\u001B[A\r\n",
      " 45%|███████████████████▍                       | 14/31 [00:31<00:42,  2.51s/it]\u001B[A\r\n",
      " 48%|████████████████████▊                      | 15/31 [00:33<00:39,  2.49s/it]\u001B[A\r\n",
      " 52%|██████████████████████▏                    | 16/31 [00:36<00:37,  2.50s/it]\u001B[A\r\n",
      " 55%|███████████████████████▌                   | 17/31 [00:38<00:35,  2.53s/it]\u001B[A\r\n",
      " 58%|████████████████████████▉                  | 18/31 [00:41<00:32,  2.53s/it]\u001B[A\r\n",
      " 61%|██████████████████████████▎                | 19/31 [00:43<00:30,  2.52s/it]\u001B[A\r\n",
      " 65%|███████████████████████████▋               | 20/31 [00:46<00:28,  2.57s/it]\u001B[A\r\n",
      " 68%|█████████████████████████████▏             | 21/31 [00:48<00:25,  2.56s/it]\u001B[A\r\n",
      " 71%|██████████████████████████████▌            | 22/31 [00:51<00:23,  2.57s/it]\u001B[A\r\n",
      " 74%|███████████████████████████████▉           | 23/31 [00:54<00:20,  2.57s/it]\u001B[A\r\n",
      " 77%|█████████████████████████████████▎         | 24/31 [00:56<00:18,  2.64s/it]\u001B[A\r\n",
      " 81%|██████████████████████████████████▋        | 25/31 [00:59<00:15,  2.64s/it]\u001B[A\r\n",
      " 84%|████████████████████████████████████       | 26/31 [01:02<00:13,  2.63s/it]\u001B[A\r\n",
      " 87%|█████████████████████████████████████▍     | 27/31 [01:04<00:10,  2.65s/it]\u001B[A\r\n",
      " 90%|██████████████████████████████████████▊    | 28/31 [01:07<00:08,  2.70s/it]\u001B[A\r\n",
      " 94%|████████████████████████████████████████▏  | 29/31 [01:10<00:05,  2.67s/it]\u001B[A\r\n",
      " 97%|█████████████████████████████████████████▌ | 30/31 [01:12<00:02,  2.64s/it]\u001B[A\r\n",
      "                                                                                \u001B[A\r\n",
      "\u001B[A{'eval_loss': 0.12332630157470703, 'eval_accuracy': 0.8636779505946935, 'eval_precision': 0.8632240233503597, 'eval_recall': 0.8636779505946935, 'eval_f1': 0.8633550035087367, 'eval_runtime': 77.7672, 'eval_samples_per_second': 24.921, 'eval_steps_per_second': 0.399, 'epoch': 4.0}\r\n",
      " 81%|███████████████████████████████▋       | 122/150 [1:12:40<15:04, 32.30s/it]\r\n",
      "100%|███████████████████████████████████████████| 31/31 [01:15<00:00,  2.21s/it]\u001B[A\r\n",
      "                                                                                \u001B[A/Users/wengbenjue/opt/anaconda3/envs/peft/lib/python3.11/site-packages/torch/utils/checkpoint.py:429: UserWarning: torch.utils.checkpoint: please pass in use_reentrant=True or use_reentrant=False explicitly. The default value of use_reentrant will be updated to be False in the future. To maintain current behavior, pass use_reentrant=True. It is recommended that you use use_reentrant=False. Refer to docs for more details on the differences between the two variants.\r\n",
      "  warnings.warn(\r\n",
      "{'loss': 0.1718, 'learning_rate': 0.00013333333333333334, 'epoch': 4.26}        \r\n",
      "{'loss': 0.1645, 'learning_rate': 6.666666666666667e-05, 'epoch': 4.59}         \r\n",
      "{'loss': 0.165, 'learning_rate': 0.0, 'epoch': 4.92}                            \r\n",
      "100%|███████████████████████████████████████| 150/150 [1:38:23<00:00, 36.48s/it]\r\n",
      "  0%|                                                    | 0/31 [00:00<?, ?it/s]\u001B[A\r\n",
      "  6%|██▊                                         | 2/31 [00:02<00:33,  1.17s/it]\u001B[A\r\n",
      " 10%|████▎                                       | 3/31 [00:04<00:45,  1.61s/it]\u001B[A\r\n",
      " 13%|█████▋                                      | 4/31 [00:07<00:52,  1.94s/it]\u001B[A\r\n",
      " 16%|███████                                     | 5/31 [00:09<00:54,  2.08s/it]\u001B[A\r\n",
      " 19%|████████▌                                   | 6/31 [00:11<00:53,  2.14s/it]\u001B[A\r\n",
      " 23%|█████████▉                                  | 7/31 [00:13<00:51,  2.16s/it]\u001B[A\r\n",
      " 26%|███████████▎                                | 8/31 [00:16<00:52,  2.30s/it]\u001B[A\r\n",
      " 29%|████████████▊                               | 9/31 [00:18<00:51,  2.32s/it]\u001B[A\r\n",
      " 32%|█████████████▊                             | 10/31 [00:21<00:48,  2.30s/it]\u001B[A\r\n",
      " 35%|███████████████▎                           | 11/31 [00:23<00:48,  2.41s/it]\u001B[A\r\n",
      " 39%|████████████████▋                          | 12/31 [00:26<00:45,  2.40s/it]\u001B[A\r\n",
      " 42%|██████████████████                         | 13/31 [00:28<00:44,  2.47s/it]\u001B[A\r\n",
      " 45%|███████████████████▍                       | 14/31 [00:31<00:43,  2.55s/it]\u001B[A\r\n",
      " 48%|████████████████████▊                      | 15/31 [00:34<00:40,  2.56s/it]\u001B[A\r\n",
      " 52%|██████████████████████▏                    | 16/31 [00:36<00:38,  2.57s/it]\u001B[A\r\n",
      " 55%|███████████████████████▌                   | 17/31 [00:39<00:35,  2.55s/it]\u001B[A\r\n",
      " 58%|████████████████████████▉                  | 18/31 [00:41<00:33,  2.56s/it]\u001B[A\r\n",
      " 61%|██████████████████████████▎                | 19/31 [00:44<00:30,  2.58s/it]\u001B[A\r\n",
      " 65%|███████████████████████████▋               | 20/31 [00:47<00:28,  2.62s/it]\u001B[A\r\n",
      " 68%|█████████████████████████████▏             | 21/31 [00:49<00:26,  2.62s/it]\u001B[A\r\n",
      " 71%|██████████████████████████████▌            | 22/31 [00:52<00:23,  2.62s/it]\u001B[A\r\n",
      " 74%|███████████████████████████████▉           | 23/31 [00:54<00:20,  2.57s/it]\u001B[A\r\n",
      " 77%|█████████████████████████████████▎         | 24/31 [00:57<00:18,  2.68s/it]\u001B[A\r\n",
      " 81%|██████████████████████████████████▋        | 25/31 [01:00<00:16,  2.77s/it]\u001B[A\r\n",
      " 84%|████████████████████████████████████       | 26/31 [01:03<00:13,  2.78s/it]\u001B[A\r\n",
      " 87%|█████████████████████████████████████▍     | 27/31 [01:06<00:11,  2.76s/it]\u001B[A\r\n",
      " 90%|██████████████████████████████████████▊    | 28/31 [01:09<00:08,  2.78s/it]\u001B[A\r\n",
      " 94%|████████████████████████████████████████▏  | 29/31 [01:11<00:05,  2.75s/it]\u001B[A\r\n",
      " 97%|█████████████████████████████████████████▌ | 30/31 [01:14<00:02,  2.73s/it]\u001B[A\r\n",
      "                                                                                \u001B[A\r\n",
      "\u001B[A{'eval_loss': 0.11925414204597473, 'eval_accuracy': 0.8746569075937786, 'eval_precision': 0.8750395866960929, 'eval_recall': 0.8746569075937786, 'eval_f1': 0.8743514893944313, 'eval_runtime': 79.2933, 'eval_samples_per_second': 24.441, 'eval_steps_per_second': 0.391, 'epoch': 4.92}\r\n",
      "100%|███████████████████████████████████████| 150/150 [1:39:42<00:00, 36.48s/it]\r\n",
      "100%|███████████████████████████████████████████| 31/31 [01:16<00:00,  2.24s/it]\u001B[A\r\n",
      "{'train_runtime': 5982.6135, 'train_samples_per_second': 6.48, 'train_steps_per_second': 0.025, 'train_loss': 0.360856306552887, 'epoch': 4.92}\r\n",
      "100%|███████████████████████████████████████| 150/150 [1:39:42<00:00, 39.88s/it]\r\n"
     ]
    }
   ],
   "source": [
    "!python ../../../peft_train.py \\\n",
    "--model_name ../../../pretrain_models/flan-t5-large \\\n",
    "--max_seq_len 2048 \\\n",
    "--group_by_length \\\n",
    "--max_steps 200 \\\n",
    "--dataset_name ../../../text-classification/auditor_sentiment \\\n",
    "--num_labels 3 \\\n",
    "--epochs 5 \\\n",
    "--learning_rate 1e-3 \\\n",
    "--per_device_train_batch_size 64 \\\n",
    "--per_device_eval_batch_size 64 \\\n",
    "--model_type SEQ_2_SEQ_LM \\\n",
    "--output_model_path ./result/flan-t5-auditor_sentiment-lora \\\n",
    "--bnb_4bit_compute_dtype float16 \\\n",
    "--use_4b False\n"
   ],
   "metadata": {
    "collapsed": false,
    "ExecuteTime": {
     "end_time": "2023-12-06T14:14:53.044473Z",
     "start_time": "2023-12-06T12:35:00.529744Z"
    }
   }
  },
  {
   "cell_type": "markdown",
   "source": [
    "### 1.2.2 Run code on GPU version\n",
    "Load the model together with the adapter with few lines of code! Check the snippet below to load the adapter from the Hub and run the example evaluation."
   ],
   "metadata": {
    "collapsed": false
   }
  },
  {
   "cell_type": "code",
   "execution_count": null,
   "outputs": [],
   "source": [
    "!pip install -q -U trl transformers accelerate git+https://github.com/huggingface/peft.git\n",
    "!pip install -q datasets bitsandbytes einops wandb evaluate\n",
    "from google.colab import drive\n",
    "drive.mount('/content/drive')\n",
    "%cd /content/drive/MyDrive/Colab Notebooks/llms-peft-cook-colab/experiments/flan-t5-large-lora/auditor_sentiment"
   ],
   "metadata": {
    "collapsed": false
   }
  },
  {
   "cell_type": "code",
   "execution_count": null,
   "outputs": [],
   "source": [
    "import os\n",
    "os.environ[\"CUDA_VISIBLE_DEVICES\"] = \"0\"\n",
    "!python ../../../peft_train.py \\\n",
    "--model_name google/flan-t5-large \\\n",
    "--max_seq_len 2048 \\\n",
    "--group_by_length \\\n",
    "--max_steps 200 \\\n",
    "--dataset_name ../../../text-classification/auditor_sentiment \\\n",
    "--num_labels 3 \\\n",
    "--epochs 5 \\\n",
    "--learning_rate 1e-3 \\\n",
    "--per_device_train_batch_size 64 \\\n",
    "--per_device_eval_batch_size 64 \\\n",
    "--model_type SEQ_2_SEQ_LM \\\n",
    "--output_model_path ./result/flan-t5-auditor_sentiment-lora \\\n",
    "--bnb_4bit_compute_dtype float32 \\\n",
    "--load_in_8bit \\\n",
    "--use_4b"
   ],
   "metadata": {
    "collapsed": false,
    "is_executing": true
   }
  },
  {
   "cell_type": "markdown",
   "source": [
    "# Load your adapter from the Hub"
   ],
   "metadata": {
    "collapsed": false
   }
  },
  {
   "cell_type": "code",
   "execution_count": 7,
   "outputs": [],
   "source": [
    "import torch\n",
    "from peft import PeftModel, PeftConfig\n",
    "from transformers import AutoModelForSeq2SeqLM, AutoTokenizer\n",
    "\n",
    "peft_model_id = \"./result/flan-t5-cup-lora\"\n",
    "base_model_name_or_path = '.../../../pretrain_models/google-flan-t5-small'\n",
    "config = PeftConfig.from_pretrained(peft_model_id)\n",
    "\n",
    "# model = AutoModelForSeq2SeqLM.from_pretrained(config.base_model_name_or_path, torch_dtype=\"auto\", device_map=\"auto\")\n",
    "model = AutoModelForSeq2SeqLM.from_pretrained(config.base_model_name_or_path, torch_dtype=\"auto\", device_map=\"cpu\")\n",
    "tokenizer = AutoTokenizer.from_pretrained(config.base_model_name_or_path)\n",
    "\n",
    "# Load the Lora model\n",
    "model = PeftModel.from_pretrained(model, peft_model_id)"
   ],
   "metadata": {
    "collapsed": false,
    "ExecuteTime": {
     "end_time": "2023-12-02T16:37:01.962850Z",
     "start_time": "2023-12-02T16:37:01.696535Z"
    }
   }
  },
  {
   "cell_type": "code",
   "execution_count": 9,
   "outputs": [
    {
     "name": "stdout",
     "output_type": "stream",
     "text": [
      "input sentence:  In January-September 2009 , the Group 's net interest income increased to EUR 112.4 mn from EUR 74.3 mn in January-September 2008 .\n",
      " output prediction:  ['positive positive positive positive positive positive positive positive positive positive']\n"
     ]
    }
   ],
   "source": [
    "model.eval()\n",
    "input_text = \"In January-September 2009 , the Group 's net interest income increased to EUR 112.4 mn from EUR 74.3 mn in January-September 2008 .\"\n",
    "inputs = tokenizer(input_text, return_tensors=\"pt\")\n",
    "\n",
    "outputs = model.generate(input_ids=inputs[\"input_ids\"], max_new_tokens=10)\n",
    "\n",
    "print(\"input sentence: \", input_text)\n",
    "print(\" output prediction: \", tokenizer.batch_decode(outputs.detach().cpu().numpy(), skip_special_tokens=True))"
   ],
   "metadata": {
    "collapsed": false,
    "ExecuteTime": {
     "end_time": "2023-12-02T16:40:55.202266Z",
     "start_time": "2023-12-02T16:40:55.100686Z"
    }
   }
  },
  {
   "cell_type": "code",
   "execution_count": 8,
   "outputs": [
    {
     "name": "stdout",
     "output_type": "stream",
     "text": [
      "input sentence:  In January-September 2009 , the Group 's net interest income increased to EUR 112.4 mn from EUR 74.3 mn in January-September 2008 .\n",
      " output prediction:  ['positive positive positive positive positive positive positive positive positive positive']\n"
     ]
    }
   ],
   "source": [
    "model.eval()\n",
    "input_text = \"In January-September 2009 , the Group 's net interest income increased to EUR 112.4 mn from EUR 74.3 mn in January-September 2008 .\"\n",
    "inputs = tokenizer(input_text, return_tensors=\"pt\")\n",
    "\n",
    "outputs = model.generate(input_ids=inputs[\"input_ids\"], max_new_tokens=10)\n",
    "\n",
    "print(\"input sentence: \", input_text)\n",
    "print(\" output prediction: \", tokenizer.batch_decode(outputs.detach().cpu().numpy(), skip_special_tokens=True))"
   ],
   "metadata": {
    "collapsed": false,
    "ExecuteTime": {
     "end_time": "2023-12-02T16:37:04.919570Z",
     "start_time": "2023-12-02T16:37:04.379496Z"
    }
   }
  },
  {
   "cell_type": "markdown",
   "source": [
    "## 1.3 Experimental Result"
   ],
   "metadata": {
    "collapsed": false
   }
  },
  {
   "cell_type": "code",
   "execution_count": null,
   "outputs": [],
   "source": [
    "class HTMLRender:\n",
    "    def __init__(self,html_str):\n",
    "        self.html_str =html_str\n",
    "    def _repr_html_(self):\n",
    "       return self.html_str\n"
   ],
   "metadata": {
    "collapsed": false,
    "is_executing": true
   }
  },
  {
   "cell_type": "code",
   "execution_count": null,
   "outputs": [],
   "source": [
    "model_accurcy_html = '''\n",
    "<table>\n",
    "  <tr>\n",
    "    <th>eval loss</th>\n",
    "    <th>eval accuracy</th>\n",
    "    <th>eval precision</th>\n",
    "    <th>eval recall</th>\n",
    "    <th>eval f1</th>\n",
    "  </tr>\n",
    "  <tr>\n",
    "    <td style=\"background-color:#4C72B0;\">0.102</td>\n",
    "    <td style=\"background-color:#55A868;\">0.896</td>\n",
    "    <td style=\"background-color:#C44E52;\">0.90</td>\n",
    "     <td style=\"background-color:#8172B2;\">0.896</td>\n",
    "    <td style=\"background-color:#64B5CD;\">0.894</td>\n",
    "  </tr>\n",
    "\n",
    "</table>\n",
    "\n",
    "       '''\n",
    "HTMLRender(model_accurcy_html)"
   ],
   "metadata": {
    "collapsed": false,
    "is_executing": true
   }
  },
  {
   "cell_type": "code",
   "execution_count": null,
   "outputs": [],
   "source": [
    "accuracy_html = '''\n",
    "<img src=\"./image/flan-t5-small-accuracy.png\" alt=\"flan-t5-small-accuracy\" width=\"70%\">\n",
    "'''\n",
    "HTMLRender(accuracy_html)"
   ],
   "metadata": {
    "collapsed": false,
    "is_executing": true
   }
  },
  {
   "cell_type": "code",
   "execution_count": null,
   "outputs": [],
   "source": [
    "## Load your adapter from the Hub\n"
   ],
   "metadata": {
    "collapsed": false
   }
  }
 ],
 "metadata": {
  "kernelspec": {
   "display_name": "Python 3",
   "language": "python",
   "name": "python3"
  },
  "language_info": {
   "codemirror_mode": {
    "name": "ipython",
    "version": 2
   },
   "file_extension": ".py",
   "mimetype": "text/x-python",
   "name": "python",
   "nbconvert_exporter": "python",
   "pygments_lexer": "ipython2",
   "version": "2.7.6"
  }
 },
 "nbformat": 4,
 "nbformat_minor": 0
}
