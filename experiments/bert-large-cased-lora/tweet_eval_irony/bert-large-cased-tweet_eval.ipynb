{
 "cells": [
  {
   "cell_type": "markdown",
   "metadata": {
    "collapsed": false
   },
   "source": [
    "Finetuning the model on financial_phrasebank dataset, that consists of pairs of text-labels to classify financial-related sentences, if they are either <span style=\"color: red;\">positive</span>, <span style=\"color: purple;\">neutral</span> or <span style=\"color: green;\">negative</span>."
   ]
  },
  {
   "cell_type": "markdown",
   "metadata": {
    "collapsed": false
   },
   "source": [
    "# 1.Experimental Setup1"
   ]
  },
  {
   "cell_type": "markdown",
   "metadata": {
    "collapsed": false
   },
   "source": [
    "## 1.1 Setup"
   ]
  },
  {
   "cell_type": "markdown",
   "metadata": {
    "collapsed": false
   },
   "source": [
    "## 1.2 Training"
   ]
  },
  {
   "cell_type": "markdown",
   "metadata": {
    "collapsed": false
   },
   "source": [
    "### 1.2.1 Run code on CPU version"
   ]
  },
  {
   "cell_type": "code",
   "execution_count": null,
   "metadata": {
    "collapsed": false,
    "is_executing": true
   },
   "outputs": [],
   "source": [
    "!pwd"
   ]
  },
  {
   "cell_type": "code",
   "execution_count": 1,
   "metadata": {
    "collapsed": false,
    "ExecuteTime": {
     "end_time": "2023-12-10T13:52:41.088396Z",
     "start_time": "2023-12-10T12:43:35.145170Z"
    }
   },
   "outputs": [
    {
     "name": "stdout",
     "output_type": "stream",
     "text": [
      "/Users/wengbenjue/opt/anaconda3/envs/peft/lib/python3.11/site-packages/bitsandbytes/cextension.py:34: UserWarning: The installed version of bitsandbytes was compiled without GPU support. 8-bit optimizers, 8-bit multiplication, and GPU quantization are unavailable.\r\n",
      "  warn(\"The installed version of bitsandbytes was compiled without GPU support. \"\r\n",
      "'NoneType' object has no attribute 'cadam32bit_grad_fp32'\r\n",
      "/Users/wengbenjue/opt/anaconda3/envs/peft/lib/python3.11/site-packages/trl/trainer/ppo_config.py:141: UserWarning: The `optimize_cuda_cache` arguement will be deprecated soon, please use `optimize_device_cache` instead.\r\n",
      "  warnings.warn(\r\n",
      "Some weights of BertForSequenceClassification were not initialized from the model checkpoint at ../../../pretrain_models/bert-large-cased and are newly initialized: ['classifier.bias', 'classifier.weight']\r\n",
      "You should probably TRAIN this model on a down-stream task to be able to use it for predictions and inference.\r\n",
      "use AutoModelForSequenceClassification load bert model.\r\n",
      "trainable params: 6293506 || all params: 339874820 || trainable%: 1.8517129336030247\r\n",
      "tokenizer padding setting: [PAD]\r\n",
      "Sentence: seeing ppl walking w/ crutches makes me really excited for the next 3 weeks of my life\r\n",
      "Map: 100%|████████████████████████| 5724/5724 [00:00<00:00, 25921.43 examples/s]\r\n",
      "Map: 100%|████████████████████████| 1910/1910 [00:00<00:00, 25349.80 examples/s]\r\n",
      "Map: 100%|██████████████████████| 19972/19972 [00:00<00:00, 22498.26 examples/s]\r\n",
      "  0%|                                                   | 0/110 [00:00<?, ?it/s]/Users/wengbenjue/opt/anaconda3/envs/peft/lib/python3.11/site-packages/torch/utils/checkpoint.py:429: UserWarning: torch.utils.checkpoint: please pass in use_reentrant=True or use_reentrant=False explicitly. The default value of use_reentrant will be updated to be False in the future. To maintain current behavior, pass use_reentrant=True. It is recommended that you use use_reentrant=False. Refer to docs for more details on the differences between the two variants.\r\n",
      "  warnings.warn(\r\n",
      "{'loss': 0.7577, 'learning_rate': 0.0009090909090909091, 'epoch': 0.44}         \r\n",
      "{'loss': 0.7026, 'learning_rate': 0.0008181818181818183, 'epoch': 0.89}         \r\n",
      " 20%|████████                                | 22/110 [17:11<1:05:36, 44.73s/it]\r\n",
      "  0%|                                                    | 0/30 [00:00<?, ?it/s]\u001B[A\r\n",
      "  7%|██▉                                         | 2/30 [00:03<00:49,  1.77s/it]\u001B[A\r\n",
      " 10%|████▍                                       | 3/30 [00:06<01:05,  2.44s/it]\u001B[A\r\n",
      " 13%|█████▊                                      | 4/30 [00:10<01:11,  2.75s/it]\u001B[A\r\n",
      " 17%|███████▎                                    | 5/30 [00:13<01:13,  2.92s/it]\u001B[A\r\n",
      " 20%|████████▊                                   | 6/30 [00:16<01:15,  3.14s/it]\u001B[A\r\n",
      " 23%|██████████▎                                 | 7/30 [00:20<01:14,  3.23s/it]\u001B[A\r\n",
      " 27%|███████████▋                                | 8/30 [00:23<01:12,  3.31s/it]\u001B[A\r\n",
      " 30%|█████████████▏                              | 9/30 [00:27<01:10,  3.34s/it]\u001B[A\r\n",
      " 33%|██████████████▎                            | 10/30 [00:30<01:04,  3.25s/it]\u001B[A\r\n",
      " 37%|███████████████▊                           | 11/30 [00:34<01:05,  3.46s/it]\u001B[A\r\n",
      " 40%|█████████████████▏                         | 12/30 [00:37<01:02,  3.48s/it]\u001B[A\r\n",
      " 43%|██████████████████▋                        | 13/30 [00:41<00:58,  3.43s/it]\u001B[A\r\n",
      " 47%|████████████████████                       | 14/30 [00:44<00:54,  3.43s/it]\u001B[A\r\n",
      " 50%|█████████████████████▌                     | 15/30 [00:47<00:50,  3.37s/it]\u001B[A\r\n",
      " 53%|██████████████████████▉                    | 16/30 [00:51<00:48,  3.46s/it]\u001B[A\r\n",
      " 57%|████████████████████████▎                  | 17/30 [00:54<00:44,  3.39s/it]\u001B[A\r\n",
      " 60%|█████████████████████████▊                 | 18/30 [00:58<00:40,  3.41s/it]\u001B[A\r\n",
      " 63%|███████████████████████████▏               | 19/30 [01:01<00:38,  3.45s/it]\u001B[A\r\n",
      " 67%|████████████████████████████▋              | 20/30 [01:04<00:33,  3.40s/it]\u001B[A\r\n",
      " 70%|██████████████████████████████             | 21/30 [01:08<00:32,  3.56s/it]\u001B[A\r\n",
      " 73%|███████████████████████████████▌           | 22/30 [01:12<00:29,  3.64s/it]\u001B[A\r\n",
      " 77%|████████████████████████████████▉          | 23/30 [01:16<00:25,  3.61s/it]\u001B[A\r\n",
      " 80%|██████████████████████████████████▍        | 24/30 [01:19<00:21,  3.52s/it]\u001B[A\r\n",
      " 83%|███████████████████████████████████▊       | 25/30 [01:22<00:17,  3.45s/it]\u001B[A\r\n",
      " 87%|█████████████████████████████████████▎     | 26/30 [01:26<00:13,  3.45s/it]\u001B[A\r\n",
      " 90%|██████████████████████████████████████▋    | 27/30 [01:29<00:10,  3.41s/it]\u001B[A\r\n",
      " 93%|████████████████████████████████████████▏  | 28/30 [01:33<00:06,  3.43s/it]\u001B[A\r\n",
      " 97%|█████████████████████████████████████████▌ | 29/30 [01:36<00:03,  3.45s/it]\u001B[A\r\n",
      "                                                                                \u001B[A\r\n",
      "\u001B[A{'eval_loss': 0.6897115111351013, 'eval_accuracy': 0.543455497382199, 'eval_precision': 0.5784510258919409, 'eval_recall': 0.543455497382199, 'eval_f1': 0.5109374931550497, 'eval_runtime': 103.4735, 'eval_samples_per_second': 18.459, 'eval_steps_per_second': 0.29, 'epoch': 0.98}\r\n",
      " 20%|████████                                | 22/110 [19:12<1:05:36, 44.73s/it]\r\n",
      "100%|███████████████████████████████████████████| 30/30 [01:40<00:00,  3.54s/it]\u001B[A\r\n",
      "                                                                                \u001B[A/Users/wengbenjue/opt/anaconda3/envs/peft/lib/python3.11/site-packages/torch/utils/checkpoint.py:429: UserWarning: torch.utils.checkpoint: please pass in use_reentrant=True or use_reentrant=False explicitly. The default value of use_reentrant will be updated to be False in the future. To maintain current behavior, pass use_reentrant=True. It is recommended that you use use_reentrant=False. Refer to docs for more details on the differences between the two variants.\r\n",
      "  warnings.warn(\r\n",
      "{'loss': 0.653, 'learning_rate': 0.0007272727272727273, 'epoch': 1.33}          \r\n",
      "{'loss': 0.6435, 'learning_rate': 0.0006363636363636364, 'epoch': 1.78}         \r\n",
      " 41%|█████████████████▏                        | 45/110 [33:36<39:12, 36.20s/it]\r\n",
      "  0%|                                                    | 0/30 [00:00<?, ?it/s]\u001B[A\r\n",
      "  7%|██▉                                         | 2/30 [00:02<00:34,  1.25s/it]\u001B[A\r\n",
      " 10%|████▍                                       | 3/30 [00:04<00:47,  1.74s/it]\u001B[A\r\n",
      " 13%|█████▊                                      | 4/30 [00:07<00:52,  2.04s/it]\u001B[A\r\n",
      " 17%|███████▎                                    | 5/30 [00:09<00:54,  2.20s/it]\u001B[A\r\n",
      " 20%|████████▊                                   | 6/30 [00:12<00:55,  2.30s/it]\u001B[A\r\n",
      " 23%|██████████▎                                 | 7/30 [00:14<00:54,  2.36s/it]\u001B[A\r\n",
      " 27%|███████████▋                                | 8/30 [00:17<00:53,  2.42s/it]\u001B[A\r\n",
      " 30%|█████████████▏                              | 9/30 [00:19<00:51,  2.44s/it]\u001B[A\r\n",
      " 33%|██████████████▎                            | 10/30 [00:22<00:49,  2.50s/it]\u001B[A\r\n",
      " 37%|███████████████▊                           | 11/30 [00:25<00:48,  2.54s/it]\u001B[A\r\n",
      " 40%|█████████████████▏                         | 12/30 [00:27<00:45,  2.54s/it]\u001B[A\r\n",
      " 43%|██████████████████▋                        | 13/30 [00:30<00:43,  2.54s/it]\u001B[A\r\n",
      " 47%|████████████████████                       | 14/30 [00:33<00:41,  2.58s/it]\u001B[A\r\n",
      " 50%|█████████████████████▌                     | 15/30 [00:35<00:38,  2.54s/it]\u001B[A\r\n",
      " 53%|██████████████████████▉                    | 16/30 [00:38<00:35,  2.56s/it]\u001B[A\r\n",
      " 57%|████████████████████████▎                  | 17/30 [00:40<00:32,  2.53s/it]\u001B[A\r\n",
      " 60%|█████████████████████████▊                 | 18/30 [00:43<00:30,  2.56s/it]\u001B[A\r\n",
      " 63%|███████████████████████████▏               | 19/30 [00:45<00:28,  2.58s/it]\u001B[A\r\n",
      " 67%|████████████████████████████▋              | 20/30 [00:48<00:25,  2.56s/it]\u001B[A\r\n",
      " 70%|██████████████████████████████             | 21/30 [00:50<00:22,  2.53s/it]\u001B[A\r\n",
      " 73%|███████████████████████████████▌           | 22/30 [00:53<00:20,  2.58s/it]\u001B[A\r\n",
      " 77%|████████████████████████████████▉          | 23/30 [00:56<00:18,  2.60s/it]\u001B[A\r\n",
      " 80%|██████████████████████████████████▍        | 24/30 [00:58<00:15,  2.56s/it]\u001B[A\r\n",
      " 83%|███████████████████████████████████▊       | 25/30 [01:01<00:12,  2.53s/it]\u001B[A\r\n",
      " 87%|█████████████████████████████████████▎     | 26/30 [01:03<00:10,  2.54s/it]\u001B[A\r\n",
      " 90%|██████████████████████████████████████▋    | 27/30 [01:06<00:07,  2.54s/it]\u001B[A\r\n",
      " 93%|████████████████████████████████████████▏  | 28/30 [01:08<00:05,  2.52s/it]\u001B[A\r\n",
      " 97%|█████████████████████████████████████████▌ | 29/30 [01:11<00:02,  2.50s/it]\u001B[A\r\n",
      "                                                                                \u001B[A\r\n",
      "\u001B[A{'eval_loss': 0.6248304843902588, 'eval_accuracy': 0.643979057591623, 'eval_precision': 0.6456986688366523, 'eval_recall': 0.643979057591623, 'eval_f1': 0.6397396911767572, 'eval_runtime': 75.7469, 'eval_samples_per_second': 25.216, 'eval_steps_per_second': 0.396, 'epoch': 2.0}\r\n",
      " 41%|█████████████████▏                        | 45/110 [34:51<39:12, 36.20s/it]\r\n",
      "100%|███████████████████████████████████████████| 30/30 [01:13<00:00,  2.38s/it]\u001B[A\r\n",
      "                                                                                \u001B[A/Users/wengbenjue/opt/anaconda3/envs/peft/lib/python3.11/site-packages/torch/utils/checkpoint.py:429: UserWarning: torch.utils.checkpoint: please pass in use_reentrant=True or use_reentrant=False explicitly. The default value of use_reentrant will be updated to be False in the future. To maintain current behavior, pass use_reentrant=True. It is recommended that you use use_reentrant=False. Refer to docs for more details on the differences between the two variants.\r\n",
      "  warnings.warn(\r\n",
      "{'loss': 0.5932, 'learning_rate': 0.0005454545454545455, 'epoch': 2.22}         \r\n",
      "{'loss': 0.5876, 'learning_rate': 0.00045454545454545455, 'epoch': 2.67}        \r\n",
      " 61%|█████████████████████████▌                | 67/110 [45:45<20:47, 29.00s/it]\r\n",
      "  0%|                                                    | 0/30 [00:00<?, ?it/s]\u001B[A\r\n",
      "  7%|██▉                                         | 2/30 [00:02<00:29,  1.05s/it]\u001B[A\r\n",
      " 10%|████▍                                       | 3/30 [00:04<00:39,  1.47s/it]\u001B[A\r\n",
      " 13%|█████▊                                      | 4/30 [00:06<00:42,  1.64s/it]\u001B[A\r\n",
      " 17%|███████▎                                    | 5/30 [00:08<00:44,  1.76s/it]\u001B[A\r\n",
      " 20%|████████▊                                   | 6/30 [00:10<00:44,  1.87s/it]\u001B[A\r\n",
      " 23%|██████████▎                                 | 7/30 [00:12<00:44,  1.94s/it]\u001B[A\r\n",
      " 27%|███████████▋                                | 8/30 [00:14<00:44,  2.00s/it]\u001B[A\r\n",
      " 30%|█████████████▏                              | 9/30 [00:16<00:42,  2.02s/it]\u001B[A\r\n",
      " 33%|██████████████▎                            | 10/30 [00:18<00:40,  2.03s/it]\u001B[A\r\n",
      " 37%|███████████████▊                           | 11/30 [00:20<00:38,  2.02s/it]\u001B[A\r\n",
      " 40%|█████████████████▏                         | 12/30 [00:22<00:36,  2.03s/it]\u001B[A\r\n",
      " 43%|██████████████████▋                        | 13/30 [00:24<00:34,  2.04s/it]\u001B[A\r\n",
      " 47%|████████████████████                       | 14/30 [00:26<00:32,  2.05s/it]\u001B[A\r\n",
      " 50%|█████████████████████▌                     | 15/30 [00:28<00:30,  2.04s/it]\u001B[A\r\n",
      " 53%|██████████████████████▉                    | 16/30 [00:30<00:28,  2.04s/it]\u001B[A\r\n",
      " 57%|████████████████████████▎                  | 17/30 [00:32<00:26,  2.00s/it]\u001B[A\r\n",
      " 60%|█████████████████████████▊                 | 18/30 [00:34<00:23,  1.99s/it]\u001B[A\r\n",
      " 63%|███████████████████████████▏               | 19/30 [00:36<00:22,  2.03s/it]\u001B[A\r\n",
      " 67%|████████████████████████████▋              | 20/30 [00:38<00:20,  2.05s/it]\u001B[A\r\n",
      " 70%|██████████████████████████████             | 21/30 [00:41<00:18,  2.10s/it]\u001B[A\r\n",
      " 73%|███████████████████████████████▌           | 22/30 [00:43<00:17,  2.21s/it]\u001B[A\r\n",
      " 77%|████████████████████████████████▉          | 23/30 [00:45<00:15,  2.23s/it]\u001B[A\r\n",
      " 80%|██████████████████████████████████▍        | 24/30 [00:47<00:13,  2.21s/it]\u001B[A\r\n",
      " 83%|███████████████████████████████████▊       | 25/30 [00:50<00:10,  2.19s/it]\u001B[A\r\n",
      " 87%|█████████████████████████████████████▎     | 26/30 [00:52<00:08,  2.16s/it]\u001B[A\r\n",
      " 90%|██████████████████████████████████████▋    | 27/30 [00:54<00:06,  2.15s/it]\u001B[A\r\n",
      " 93%|████████████████████████████████████████▏  | 28/30 [00:56<00:04,  2.11s/it]\u001B[A\r\n",
      " 97%|█████████████████████████████████████████▌ | 29/30 [00:58<00:02,  2.12s/it]\u001B[A\r\n",
      "                                                                                \u001B[A\r\n",
      "\u001B[A{'eval_loss': 0.5969662666320801, 'eval_accuracy': 0.6837696335078534, 'eval_precision': 0.6898692280453275, 'eval_recall': 0.6837696335078534, 'eval_f1': 0.6831137814107628, 'eval_runtime': 62.2916, 'eval_samples_per_second': 30.662, 'eval_steps_per_second': 0.482, 'epoch': 2.98}\r\n",
      " 61%|█████████████████████████▌                | 67/110 [46:58<20:47, 29.00s/it]\r\n",
      "100%|███████████████████████████████████████████| 30/30 [01:00<00:00,  2.01s/it]\u001B[A\r\n",
      "                                                                                \u001B[A/Users/wengbenjue/opt/anaconda3/envs/peft/lib/python3.11/site-packages/torch/utils/checkpoint.py:429: UserWarning: torch.utils.checkpoint: please pass in use_reentrant=True or use_reentrant=False explicitly. The default value of use_reentrant will be updated to be False in the future. To maintain current behavior, pass use_reentrant=True. It is recommended that you use use_reentrant=False. Refer to docs for more details on the differences between the two variants.\r\n",
      "  warnings.warn(\r\n",
      "{'loss': 0.5465, 'learning_rate': 0.00036363636363636367, 'epoch': 3.11}        \r\n",
      "{'loss': 0.5334, 'learning_rate': 0.00027272727272727274, 'epoch': 3.56}        \r\n",
      "{'loss': 0.531, 'learning_rate': 0.00018181818181818183, 'epoch': 4.0}          \r\n",
      " 82%|██████████████████████████████████▎       | 90/110 [58:23<09:32, 28.63s/it]\r\n",
      "  0%|                                                    | 0/30 [00:00<?, ?it/s]\u001B[A\r\n",
      "  7%|██▉                                         | 2/30 [00:02<00:28,  1.02s/it]\u001B[A\r\n",
      " 10%|████▍                                       | 3/30 [00:04<00:39,  1.47s/it]\u001B[A\r\n",
      " 13%|█████▊                                      | 4/30 [00:06<00:44,  1.70s/it]\u001B[A\r\n",
      " 17%|███████▎                                    | 5/30 [00:08<00:45,  1.82s/it]\u001B[A\r\n",
      " 20%|████████▊                                   | 6/30 [00:10<00:45,  1.88s/it]\u001B[A\r\n",
      " 23%|██████████▎                                 | 7/30 [00:12<00:45,  1.96s/it]\u001B[A\r\n",
      " 27%|███████████▋                                | 8/30 [00:14<00:43,  1.98s/it]\u001B[A\r\n",
      " 30%|█████████████▏                              | 9/30 [00:16<00:41,  1.96s/it]\u001B[A\r\n",
      " 33%|██████████████▎                            | 10/30 [00:18<00:39,  1.98s/it]\u001B[A\r\n",
      " 37%|███████████████▊                           | 11/30 [00:20<00:37,  1.99s/it]\u001B[A\r\n",
      " 40%|█████████████████▏                         | 12/30 [00:22<00:35,  1.98s/it]\u001B[A\r\n",
      " 43%|██████████████████▋                        | 13/30 [00:24<00:34,  2.01s/it]\u001B[A\r\n",
      " 47%|████████████████████                       | 14/30 [00:26<00:32,  2.02s/it]\u001B[A\r\n",
      " 50%|█████████████████████▌                     | 15/30 [00:28<00:30,  2.00s/it]\u001B[A\r\n",
      " 53%|██████████████████████▉                    | 16/30 [00:30<00:28,  2.03s/it]\u001B[A\r\n",
      " 57%|████████████████████████▎                  | 17/30 [00:32<00:26,  2.03s/it]\u001B[A\r\n",
      " 60%|█████████████████████████▊                 | 18/30 [00:34<00:24,  2.01s/it]\u001B[A\r\n",
      " 63%|███████████████████████████▏               | 19/30 [00:36<00:21,  1.98s/it]\u001B[A\r\n",
      " 67%|████████████████████████████▋              | 20/30 [00:38<00:19,  1.98s/it]\u001B[A\r\n",
      " 70%|██████████████████████████████             | 21/30 [00:40<00:18,  2.00s/it]\u001B[A\r\n",
      " 73%|███████████████████████████████▌           | 22/30 [00:42<00:15,  2.00s/it]\u001B[A\r\n",
      " 77%|████████████████████████████████▉          | 23/30 [00:44<00:13,  2.00s/it]\u001B[A\r\n",
      " 80%|██████████████████████████████████▍        | 24/30 [00:46<00:11,  1.99s/it]\u001B[A\r\n",
      " 83%|███████████████████████████████████▊       | 25/30 [00:48<00:09,  1.99s/it]\u001B[A\r\n",
      " 87%|█████████████████████████████████████▎     | 26/30 [00:50<00:07,  1.98s/it]\u001B[A\r\n",
      " 90%|██████████████████████████████████████▋    | 27/30 [00:52<00:05,  1.97s/it]\u001B[A\r\n",
      " 93%|████████████████████████████████████████▏  | 28/30 [00:54<00:03,  1.97s/it]\u001B[A\r\n",
      " 97%|█████████████████████████████████████████▌ | 29/30 [00:56<00:01,  1.96s/it]\u001B[A\r\n",
      "                                                                                \u001B[A\r\n",
      "\u001B[A{'eval_loss': 0.5879839062690735, 'eval_accuracy': 0.7068062827225131, 'eval_precision': 0.7093672350435417, 'eval_recall': 0.7068062827225131, 'eval_f1': 0.7068448601664102, 'eval_runtime': 60.1391, 'eval_samples_per_second': 31.76, 'eval_steps_per_second': 0.499, 'epoch': 4.0}\r\n",
      " 82%|██████████████████████████████████▎       | 90/110 [59:23<09:32, 28.63s/it]\r\n",
      "100%|███████████████████████████████████████████| 30/30 [00:57<00:00,  1.90s/it]\u001B[A\r\n",
      "                                                                                \u001B[A/Users/wengbenjue/opt/anaconda3/envs/peft/lib/python3.11/site-packages/torch/utils/checkpoint.py:429: UserWarning: torch.utils.checkpoint: please pass in use_reentrant=True or use_reentrant=False explicitly. The default value of use_reentrant will be updated to be False in the future. To maintain current behavior, pass use_reentrant=True. It is recommended that you use use_reentrant=False. Refer to docs for more details on the differences between the two variants.\r\n",
      "  warnings.warn(\r\n",
      "{'loss': 0.5038, 'learning_rate': 9.090909090909092e-05, 'epoch': 4.44}         \r\n",
      " 91%|███████████████████████████████████▍   | 100/110 [1:03:43<04:24, 26.43s/it]/Users/wengbenjue/opt/anaconda3/envs/peft/lib/python3.11/site-packages/torch/utils/checkpoint.py:429: UserWarning: torch.utils.checkpoint: please pass in use_reentrant=True or use_reentrant=False explicitly. The default value of use_reentrant will be updated to be False in the future. To maintain current behavior, pass use_reentrant=True. It is recommended that you use use_reentrant=False. Refer to docs for more details on the differences between the two variants.\r\n",
      "  warnings.warn(\r\n",
      "{'loss': 0.4756, 'learning_rate': 0.0, 'epoch': 4.89}                           \r\n",
      "100%|███████████████████████████████████████| 110/110 [1:08:00<00:00, 25.68s/it]\r\n",
      "  0%|                                                    | 0/30 [00:00<?, ?it/s]\u001B[A\r\n",
      "  7%|██▉                                         | 2/30 [00:01<00:27,  1.02it/s]\u001B[A\r\n",
      " 10%|████▍                                       | 3/30 [00:03<00:37,  1.37s/it]\u001B[A\r\n",
      " 13%|█████▊                                      | 4/30 [00:05<00:40,  1.56s/it]\u001B[A\r\n",
      " 17%|███████▎                                    | 5/30 [00:07<00:41,  1.68s/it]\u001B[A\r\n",
      " 20%|████████▊                                   | 6/30 [00:09<00:41,  1.73s/it]\u001B[A\r\n",
      " 23%|██████████▎                                 | 7/30 [00:11<00:40,  1.78s/it]\u001B[A\r\n",
      " 27%|███████████▋                                | 8/30 [00:13<00:40,  1.83s/it]\u001B[A\r\n",
      " 30%|█████████████▏                              | 9/30 [00:15<00:38,  1.83s/it]\u001B[A\r\n",
      " 33%|██████████████▎                            | 10/30 [00:17<00:37,  1.86s/it]\u001B[A\r\n",
      " 37%|███████████████▊                           | 11/30 [00:18<00:35,  1.86s/it]\u001B[A\r\n",
      " 40%|█████████████████▏                         | 12/30 [00:20<00:33,  1.86s/it]\u001B[A\r\n",
      " 43%|██████████████████▋                        | 13/30 [00:22<00:31,  1.87s/it]\u001B[A\r\n",
      " 47%|████████████████████                       | 14/30 [00:24<00:30,  1.89s/it]\u001B[A\r\n",
      " 50%|█████████████████████▌                     | 15/30 [00:26<00:28,  1.91s/it]\u001B[A\r\n",
      " 53%|██████████████████████▉                    | 16/30 [00:28<00:26,  1.89s/it]\u001B[A\r\n",
      " 57%|████████████████████████▎                  | 17/30 [00:30<00:24,  1.89s/it]\u001B[A\r\n",
      " 60%|█████████████████████████▊                 | 18/30 [00:32<00:22,  1.89s/it]\u001B[A\r\n",
      " 63%|███████████████████████████▏               | 19/30 [00:34<00:21,  1.91s/it]\u001B[A\r\n",
      " 67%|████████████████████████████▋              | 20/30 [00:36<00:19,  1.93s/it]\u001B[A\r\n",
      " 70%|██████████████████████████████             | 21/30 [00:38<00:17,  1.93s/it]\u001B[A\r\n",
      " 73%|███████████████████████████████▌           | 22/30 [00:39<00:15,  1.91s/it]\u001B[A\r\n",
      " 77%|████████████████████████████████▉          | 23/30 [00:41<00:13,  1.92s/it]\u001B[A\r\n",
      " 80%|██████████████████████████████████▍        | 24/30 [00:43<00:11,  1.90s/it]\u001B[A\r\n",
      " 83%|███████████████████████████████████▊       | 25/30 [00:45<00:09,  1.91s/it]\u001B[A\r\n",
      " 87%|█████████████████████████████████████▎     | 26/30 [00:47<00:07,  1.89s/it]\u001B[A\r\n",
      " 90%|██████████████████████████████████████▋    | 27/30 [00:49<00:05,  1.93s/it]\u001B[A\r\n",
      " 93%|████████████████████████████████████████▏  | 28/30 [00:51<00:04,  2.03s/it]\u001B[A\r\n",
      " 97%|█████████████████████████████████████████▌ | 29/30 [00:53<00:02,  2.07s/it]\u001B[A\r\n",
      "                                                                                \u001B[A\r\n",
      "\u001B[A{'eval_loss': 0.5920933485031128, 'eval_accuracy': 0.7005235602094241, 'eval_precision': 0.704385837008787, 'eval_recall': 0.7005235602094241, 'eval_f1': 0.7003698720730671, 'eval_runtime': 57.5435, 'eval_samples_per_second': 33.192, 'eval_steps_per_second': 0.521, 'epoch': 4.89}\r\n",
      "100%|███████████████████████████████████████| 110/110 [1:08:57<00:00, 25.68s/it]\r\n",
      "100%|███████████████████████████████████████████| 30/30 [00:55<00:00,  1.93s/it]\u001B[A\r\n",
      "{'train_runtime': 4137.7147, 'train_samples_per_second': 6.917, 'train_steps_per_second': 0.027, 'train_loss': 0.593452635678378, 'epoch': 4.89}\r\n",
      "100%|███████████████████████████████████████| 110/110 [1:08:57<00:00, 37.62s/it]\r\n"
     ]
    }
   ],
   "source": [
    "!python ../../../peft_train.py \\\n",
    "--model_name ../../../pretrain_models/bert-large-cased \\\n",
    "--max_seq_len 2048 \\\n",
    "--group_by_length \\\n",
    "--max_steps 200 \\\n",
    "--dataset_name ../../../text-classification/tweet_eval_irony \\\n",
    "--num_labels 2 \\\n",
    "--epochs 5 \\\n",
    "--learning_rate 1e-3 \\\n",
    "--model_type SEQ_CLS \\\n",
    "--output_model_path ./result/bert-large-cased-tweet_eval_irony-lora \\\n",
    "--bnb_4bit_compute_dtype float32 \\\n",
    "--use_4b False\n"
   ]
  },
  {
   "cell_type": "markdown",
   "metadata": {
    "collapsed": false
   },
   "source": [
    "### 1.2.2 Run code on GPU version\n",
    "Load the model together with the adapter with few lines of code! Check the snippet below to load the adapter from the Hub and run the example evaluation."
   ]
  },
  {
   "cell_type": "code",
   "execution_count": null,
   "metadata": {
    "collapsed": false
   },
   "outputs": [],
   "source": [
    "!pip install -q -U trl transformers accelerate git+https://github.com/huggingface/peft.git\n",
    "!pip install -q datasets bitsandbytes einops wandb evaluate\n",
    "from google.colab import drive\n",
    "drive.mount('/content/drive')\n",
    "%cd /content/drive/MyDrive/Colab Notebooks/llms-peft-cook-colab/experiments/bert-large-cased-lora/tweet_eval_irony"
   ]
  },
  {
   "cell_type": "code",
   "execution_count": 2,
   "metadata": {
    "ExecuteTime": {
     "start_time": "2023-12-04T09:22:51.795569Z"
    },
    "collapsed": false
   },
   "outputs": [
    {
     "name": "stdout",
     "output_type": "stream",
     "text": [
      "/Users/wengbenjue/opt/anaconda3/envs/peft/lib/python3.11/site-packages/bitsandbytes/cextension.py:34: UserWarning: The installed version of bitsandbytes was compiled without GPU support. 8-bit optimizers, 8-bit multiplication, and GPU quantization are unavailable.\n",
      "  warn(\"The installed version of bitsandbytes was compiled without GPU support. \"\n",
      "'NoneType' object has no attribute 'cadam32bit_grad_fp32'\n",
      "/Users/wengbenjue/opt/anaconda3/envs/peft/lib/python3.11/site-packages/trl/trainer/ppo_config.py:141: UserWarning: The `optimize_cuda_cache` arguement will be deprecated soon, please use `optimize_device_cache` instead.\n",
      "  warnings.warn(\n",
      "Traceback (most recent call last):\n",
      "  File \"/Users/wengbenjue/opt/anaconda3/envs/peft/lib/python3.11/site-packages/urllib3/connection.py\", line 174, in _new_conn\n",
      "    conn = connection.create_connection(\n",
      "           ^^^^^^^^^^^^^^^^^^^^^^^^^^^^^\n",
      "  File \"/Users/wengbenjue/opt/anaconda3/envs/peft/lib/python3.11/site-packages/urllib3/util/connection.py\", line 95, in create_connection\n",
      "    raise err\n",
      "  File \"/Users/wengbenjue/opt/anaconda3/envs/peft/lib/python3.11/site-packages/urllib3/util/connection.py\", line 85, in create_connection\n",
      "    sock.connect(sa)\n",
      "TimeoutError: timed out\n",
      "\n",
      "During handling of the above exception, another exception occurred:\n",
      "\n",
      "Traceback (most recent call last):\n",
      "  File \"/Users/wengbenjue/opt/anaconda3/envs/peft/lib/python3.11/site-packages/urllib3/connectionpool.py\", line 715, in urlopen\n",
      "    httplib_response = self._make_request(\n",
      "                       ^^^^^^^^^^^^^^^^^^^\n",
      "  File \"/Users/wengbenjue/opt/anaconda3/envs/peft/lib/python3.11/site-packages/urllib3/connectionpool.py\", line 404, in _make_request\n",
      "    self._validate_conn(conn)\n",
      "  File \"/Users/wengbenjue/opt/anaconda3/envs/peft/lib/python3.11/site-packages/urllib3/connectionpool.py\", line 1058, in _validate_conn\n",
      "    conn.connect()\n",
      "  File \"/Users/wengbenjue/opt/anaconda3/envs/peft/lib/python3.11/site-packages/urllib3/connection.py\", line 363, in connect\n",
      "    self.sock = conn = self._new_conn()\n",
      "                       ^^^^^^^^^^^^^^^^\n",
      "  File \"/Users/wengbenjue/opt/anaconda3/envs/peft/lib/python3.11/site-packages/urllib3/connection.py\", line 179, in _new_conn\n",
      "    raise ConnectTimeoutError(\n",
      "urllib3.exceptions.ConnectTimeoutError: (<urllib3.connection.HTTPSConnection object at 0x2c791ead0>, 'Connection to huggingface.co timed out. (connect timeout=10)')\n",
      "\n",
      "During handling of the above exception, another exception occurred:\n",
      "\n",
      "Traceback (most recent call last):\n",
      "  File \"/Users/wengbenjue/opt/anaconda3/envs/peft/lib/python3.11/site-packages/requests/adapters.py\", line 486, in send\n",
      "    resp = conn.urlopen(\n",
      "           ^^^^^^^^^^^^^\n",
      "  File \"/Users/wengbenjue/opt/anaconda3/envs/peft/lib/python3.11/site-packages/urllib3/connectionpool.py\", line 799, in urlopen\n",
      "    retries = retries.increment(\n",
      "              ^^^^^^^^^^^^^^^^^^\n",
      "  File \"/Users/wengbenjue/opt/anaconda3/envs/peft/lib/python3.11/site-packages/urllib3/util/retry.py\", line 592, in increment\n",
      "    raise MaxRetryError(_pool, url, error or ResponseError(cause))\n",
      "urllib3.exceptions.MaxRetryError: HTTPSConnectionPool(host='huggingface.co', port=443): Max retries exceeded with url: /bert-large-cased/resolve/main/config.json (Caused by ConnectTimeoutError(<urllib3.connection.HTTPSConnection object at 0x2c791ead0>, 'Connection to huggingface.co timed out. (connect timeout=10)'))\n",
      "\n",
      "During handling of the above exception, another exception occurred:\n",
      "\n",
      "Traceback (most recent call last):\n",
      "  File \"/Users/wengbenjue/opt/anaconda3/envs/peft/lib/python3.11/site-packages/huggingface_hub/file_download.py\", line 1247, in hf_hub_download\n",
      "    metadata = get_hf_file_metadata(\n",
      "               ^^^^^^^^^^^^^^^^^^^^^\n",
      "  File \"/Users/wengbenjue/opt/anaconda3/envs/peft/lib/python3.11/site-packages/huggingface_hub/utils/_validators.py\", line 118, in _inner_fn\n",
      "    return fn(*args, **kwargs)\n",
      "           ^^^^^^^^^^^^^^^^^^^\n",
      "  File \"/Users/wengbenjue/opt/anaconda3/envs/peft/lib/python3.11/site-packages/huggingface_hub/file_download.py\", line 1624, in get_hf_file_metadata\n",
      "    r = _request_wrapper(\n",
      "        ^^^^^^^^^^^^^^^^^\n",
      "  File \"/Users/wengbenjue/opt/anaconda3/envs/peft/lib/python3.11/site-packages/huggingface_hub/file_download.py\", line 402, in _request_wrapper\n",
      "    response = _request_wrapper(\n",
      "               ^^^^^^^^^^^^^^^^^\n",
      "  File \"/Users/wengbenjue/opt/anaconda3/envs/peft/lib/python3.11/site-packages/huggingface_hub/file_download.py\", line 425, in _request_wrapper\n",
      "    response = get_session().request(method=method, url=url, **params)\n",
      "               ^^^^^^^^^^^^^^^^^^^^^^^^^^^^^^^^^^^^^^^^^^^^^^^^^^^^^^^\n",
      "  File \"/Users/wengbenjue/opt/anaconda3/envs/peft/lib/python3.11/site-packages/requests/sessions.py\", line 589, in request\n",
      "    resp = self.send(prep, **send_kwargs)\n",
      "           ^^^^^^^^^^^^^^^^^^^^^^^^^^^^^^\n",
      "  File \"/Users/wengbenjue/opt/anaconda3/envs/peft/lib/python3.11/site-packages/requests/sessions.py\", line 703, in send\n",
      "    r = adapter.send(request, **kwargs)\n",
      "        ^^^^^^^^^^^^^^^^^^^^^^^^^^^^^^^\n",
      "  File \"/Users/wengbenjue/opt/anaconda3/envs/peft/lib/python3.11/site-packages/huggingface_hub/utils/_http.py\", line 63, in send\n",
      "    return super().send(request, *args, **kwargs)\n",
      "           ^^^^^^^^^^^^^^^^^^^^^^^^^^^^^^^^^^^^^^\n",
      "  File \"/Users/wengbenjue/opt/anaconda3/envs/peft/lib/python3.11/site-packages/requests/adapters.py\", line 507, in send\n",
      "    raise ConnectTimeout(e, request=request)\n",
      "requests.exceptions.ConnectTimeout: (MaxRetryError(\"HTTPSConnectionPool(host='huggingface.co', port=443): Max retries exceeded with url: /bert-large-cased/resolve/main/config.json (Caused by ConnectTimeoutError(<urllib3.connection.HTTPSConnection object at 0x2c791ead0>, 'Connection to huggingface.co timed out. (connect timeout=10)'))\"), '(Request ID: dc36a3fd-d1f3-4b93-9b78-fe549f3d5aec)')\n",
      "\n",
      "The above exception was the direct cause of the following exception:\n",
      "\n",
      "Traceback (most recent call last):\n",
      "  File \"/Users/wengbenjue/opt/anaconda3/envs/peft/lib/python3.11/site-packages/transformers/utils/hub.py\", line 430, in cached_file\n",
      "    resolved_file = hf_hub_download(\n",
      "                    ^^^^^^^^^^^^^^^^\n",
      "  File \"/Users/wengbenjue/opt/anaconda3/envs/peft/lib/python3.11/site-packages/huggingface_hub/utils/_validators.py\", line 118, in _inner_fn\n",
      "    return fn(*args, **kwargs)\n",
      "           ^^^^^^^^^^^^^^^^^^^\n",
      "  File \"/Users/wengbenjue/opt/anaconda3/envs/peft/lib/python3.11/site-packages/huggingface_hub/file_download.py\", line 1377, in hf_hub_download\n",
      "    raise LocalEntryNotFoundError(\n",
      "huggingface_hub.utils._errors.LocalEntryNotFoundError: An error happened while trying to locate the file on the Hub and we cannot find the requested files in the local cache. Please check your connection and try again or make sure your Internet connection is on.\n",
      "\n",
      "The above exception was the direct cause of the following exception:\n",
      "\n",
      "Traceback (most recent call last):\n",
      "  File \"/Users/wengbenjue/sourcecode/peft/llms-peft-cook/experiments/bert-large-cased-lora/tweet_eval_irony/../../../peft_train.py\", line 360, in <module>\n",
      "    model, peft_config, tokenizer = create_and_prepare_model(script_args)\n",
      "                                    ^^^^^^^^^^^^^^^^^^^^^^^^^^^^^^^^^^^^^\n",
      "  File \"/Users/wengbenjue/sourcecode/peft/llms-peft-cook/experiments/bert-large-cased-lora/tweet_eval_irony/../../../peft_train.py\", line 236, in create_and_prepare_model\n",
      "    model = BertForSequenceClassification.from_pretrained(\n",
      "            ^^^^^^^^^^^^^^^^^^^^^^^^^^^^^^^^^^^^^^^^^^^^^^\n",
      "  File \"/Users/wengbenjue/opt/anaconda3/envs/peft/lib/python3.11/site-packages/transformers/modeling_utils.py\", line 2760, in from_pretrained\n",
      "    config, model_kwargs = cls.config_class.from_pretrained(\n",
      "                           ^^^^^^^^^^^^^^^^^^^^^^^^^^^^^^^^^\n",
      "  File \"/Users/wengbenjue/opt/anaconda3/envs/peft/lib/python3.11/site-packages/transformers/configuration_utils.py\", line 593, in from_pretrained\n",
      "    config_dict, kwargs = cls.get_config_dict(pretrained_model_name_or_path, **kwargs)\n",
      "                          ^^^^^^^^^^^^^^^^^^^^^^^^^^^^^^^^^^^^^^^^^^^^^^^^^^^^^^^^^^^^\n",
      "  File \"/Users/wengbenjue/opt/anaconda3/envs/peft/lib/python3.11/site-packages/transformers/configuration_utils.py\", line 622, in get_config_dict\n",
      "    config_dict, kwargs = cls._get_config_dict(pretrained_model_name_or_path, **kwargs)\n",
      "                          ^^^^^^^^^^^^^^^^^^^^^^^^^^^^^^^^^^^^^^^^^^^^^^^^^^^^^^^^^^^^^\n",
      "  File \"/Users/wengbenjue/opt/anaconda3/envs/peft/lib/python3.11/site-packages/transformers/configuration_utils.py\", line 677, in _get_config_dict\n",
      "    resolved_config_file = cached_file(\n",
      "                           ^^^^^^^^^^^^\n",
      "  File \"/Users/wengbenjue/opt/anaconda3/envs/peft/lib/python3.11/site-packages/transformers/utils/hub.py\", line 470, in cached_file\n",
      "    raise EnvironmentError(\n",
      "OSError: We couldn't connect to 'https://huggingface.co' to load this file, couldn't find it in the cached files and it looks like bert-large-cased is not the path to a directory containing a file named config.json.\n",
      "Checkout your internet connection or see how to run the library in offline mode at 'https://huggingface.co/docs/transformers/installation#offline-mode'.\n"
     ]
    }
   ],
   "source": [
    "import os\n",
    "os.environ[\"CUDA_VISIBLE_DEVICES\"] = \"0\"\n",
    "!python ../../../peft_train.py \\\n",
    "--model_name bert-large-cased \\\n",
    "--max_seq_len 2048 \\\n",
    "--group_by_length \\\n",
    "--max_steps 200 \\\n",
    "--dataset_name ../../../text-classification/tweet_eval_irony \\\n",
    "--num_labels 2 \\\n",
    "--epochs 5 \\\n",
    "--learning_rate 1e-3\\\n",
    "--model_type SEQ_CLS \\\n",
    "--output_model_path ./result/bert-base-cased-tweet_eval_irony-lora \\\n",
    "--bnb_4bit_compute_dtype float16 \\\n",
    "--load_in_8bit \\\n",
    "--use_4b "
   ]
  },
  {
   "cell_type": "markdown",
   "metadata": {
    "collapsed": false
   },
   "source": [
    "# Load your adapter from the Hub"
   ]
  },
  {
   "cell_type": "code",
   "execution_count": 7,
   "metadata": {
    "ExecuteTime": {
     "end_time": "2023-12-02T16:37:01.962850Z",
     "start_time": "2023-12-02T16:37:01.696535Z"
    },
    "collapsed": false
   },
   "outputs": [],
   "source": [
    "import torch\n",
    "from peft import PeftModel, PeftConfig\n",
    "from transformers import AutoModelForSeq2SeqLM, AutoTokenizer\n",
    "\n",
    "peft_model_id = \"./result/flan-t5-cup-lora\"\n",
    "base_model_name_or_path = '.../../../pretrain_models/google-flan-t5-small'\n",
    "config = PeftConfig.from_pretrained(peft_model_id)\n",
    "\n",
    "# model = AutoModelForSeq2SeqLM.from_pretrained(config.base_model_name_or_path, torch_dtype=\"auto\", device_map=\"auto\")\n",
    "model = AutoModelForSeq2SeqLM.from_pretrained(config.base_model_name_or_path, torch_dtype=\"auto\", device_map=\"cpu\")\n",
    "tokenizer = AutoTokenizer.from_pretrained(config.base_model_name_or_path)\n",
    "\n",
    "# Load the Lora model\n",
    "model = PeftModel.from_pretrained(model, peft_model_id)"
   ]
  },
  {
   "cell_type": "code",
   "execution_count": 9,
   "metadata": {
    "ExecuteTime": {
     "end_time": "2023-12-02T16:40:55.202266Z",
     "start_time": "2023-12-02T16:40:55.100686Z"
    },
    "collapsed": false
   },
   "outputs": [
    {
     "name": "stdout",
     "output_type": "stream",
     "text": [
      "input sentence:  In January-September 2009 , the Group 's net interest income increased to EUR 112.4 mn from EUR 74.3 mn in January-September 2008 .\n",
      " output prediction:  ['positive positive positive positive positive positive positive positive positive positive']\n"
     ]
    }
   ],
   "source": [
    "model.eval()\n",
    "input_text = \"In January-September 2009 , the Group 's net interest income increased to EUR 112.4 mn from EUR 74.3 mn in January-September 2008 .\"\n",
    "inputs = tokenizer(input_text, return_tensors=\"pt\")\n",
    "\n",
    "outputs = model.generate(input_ids=inputs[\"input_ids\"], max_new_tokens=10)\n",
    "\n",
    "print(\"input sentence: \", input_text)\n",
    "print(\" output prediction: \", tokenizer.batch_decode(outputs.detach().cpu().numpy(), skip_special_tokens=True))"
   ]
  },
  {
   "cell_type": "code",
   "execution_count": 8,
   "metadata": {
    "ExecuteTime": {
     "end_time": "2023-12-02T16:37:04.919570Z",
     "start_time": "2023-12-02T16:37:04.379496Z"
    },
    "collapsed": false
   },
   "outputs": [
    {
     "name": "stdout",
     "output_type": "stream",
     "text": [
      "input sentence:  In January-September 2009 , the Group 's net interest income increased to EUR 112.4 mn from EUR 74.3 mn in January-September 2008 .\n",
      " output prediction:  ['positive positive positive positive positive positive positive positive positive positive']\n"
     ]
    }
   ],
   "source": [
    "model.eval()\n",
    "input_text = \"In January-September 2009 , the Group 's net interest income increased to EUR 112.4 mn from EUR 74.3 mn in January-September 2008 .\"\n",
    "inputs = tokenizer(input_text, return_tensors=\"pt\")\n",
    "\n",
    "outputs = model.generate(input_ids=inputs[\"input_ids\"], max_new_tokens=10)\n",
    "\n",
    "print(\"input sentence: \", input_text)\n",
    "print(\" output prediction: \", tokenizer.batch_decode(outputs.detach().cpu().numpy(), skip_special_tokens=True))"
   ]
  },
  {
   "cell_type": "markdown",
   "metadata": {
    "collapsed": false
   },
   "source": [
    "## 1.3 Experimental Result"
   ]
  },
  {
   "cell_type": "code",
   "execution_count": null,
   "metadata": {
    "collapsed": false,
    "is_executing": true
   },
   "outputs": [],
   "source": [
    "class HTMLRender:\n",
    "    def __init__(self,html_str):\n",
    "        self.html_str =html_str\n",
    "    def _repr_html_(self):\n",
    "       return self.html_str\n"
   ]
  },
  {
   "cell_type": "code",
   "execution_count": null,
   "metadata": {
    "collapsed": false,
    "is_executing": true
   },
   "outputs": [],
   "source": [
    "model_accurcy_html = '''\n",
    "<table>\n",
    "  <tr>\n",
    "    <th>eval loss</th>\n",
    "    <th>eval accuracy</th>\n",
    "    <th>eval precision</th>\n",
    "    <th>eval recall</th>\n",
    "    <th>eval f1</th>\n",
    "  </tr>\n",
    "  <tr>\n",
    "    <td style=\"background-color:#4C72B0;\">0.102</td>\n",
    "    <td style=\"background-color:#55A868;\">0.896</td>\n",
    "    <td style=\"background-color:#C44E52;\">0.90</td>\n",
    "     <td style=\"background-color:#8172B2;\">0.896</td>\n",
    "    <td style=\"background-color:#64B5CD;\">0.894</td>\n",
    "  </tr>\n",
    "\n",
    "</table>\n",
    "\n",
    "       '''\n",
    "HTMLRender(model_accurcy_html)"
   ]
  },
  {
   "cell_type": "code",
   "execution_count": null,
   "metadata": {
    "collapsed": false,
    "is_executing": true
   },
   "outputs": [],
   "source": [
    "accuracy_html = '''\n",
    "<img src=\"./image/flan-t5-small-accuracy.png\" alt=\"flan-t5-small-accuracy\" width=\"70%\">\n",
    "'''\n",
    "HTMLRender(accuracy_html)"
   ]
  },
  {
   "cell_type": "code",
   "execution_count": null,
   "metadata": {
    "collapsed": false
   },
   "outputs": [],
   "source": [
    "## Load your adapter from the Hub\n"
   ]
  }
 ],
 "metadata": {
  "kernelspec": {
   "display_name": "Python 3",
   "language": "python",
   "name": "python3"
  },
  "language_info": {
   "codemirror_mode": {
    "name": "ipython",
    "version": 3
   },
   "file_extension": ".py",
   "mimetype": "text/x-python",
   "name": "python",
   "nbconvert_exporter": "python",
   "pygments_lexer": "ipython3",
   "version": "3.11.5"
  }
 },
 "nbformat": 4,
 "nbformat_minor": 0
}
