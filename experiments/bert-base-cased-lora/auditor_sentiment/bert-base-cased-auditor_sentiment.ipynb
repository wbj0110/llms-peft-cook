{
 "cells": [
  {
   "cell_type": "markdown",
   "metadata": {
    "collapsed": false
   },
   "source": [
    "Finetuning the model on financial_phrasebank dataset, that consists of pairs of text-labels to classify financial-related sentences, if they are either <span style=\"color: red;\">positive</span>, <span style=\"color: purple;\">neutral</span> or <span style=\"color: green;\">negative</span>."
   ]
  },
  {
   "cell_type": "markdown",
   "metadata": {
    "collapsed": false
   },
   "source": [
    "# 1.Experimental Setup1"
   ]
  },
  {
   "cell_type": "markdown",
   "metadata": {
    "collapsed": false
   },
   "source": [
    "## 1.1 Setup"
   ]
  },
  {
   "cell_type": "markdown",
   "metadata": {
    "collapsed": false
   },
   "source": [
    "## 1.2 Training"
   ]
  },
  {
   "cell_type": "markdown",
   "metadata": {
    "collapsed": false
   },
   "source": [
    "### 1.2.1 Run code on CPU version"
   ]
  },
  {
   "cell_type": "code",
   "execution_count": null,
   "metadata": {
    "collapsed": false,
    "is_executing": true
   },
   "outputs": [],
   "source": [
    "!pwd"
   ]
  },
  {
   "cell_type": "code",
   "execution_count": 1,
   "metadata": {
    "collapsed": false,
    "ExecuteTime": {
     "end_time": "2023-12-12T17:15:20.675663Z",
     "start_time": "2023-12-12T16:59:04.752584Z"
    }
   },
   "outputs": [
    {
     "name": "stdout",
     "output_type": "stream",
     "text": [
      "/Users/wengbenjue/opt/anaconda3/envs/peft/lib/python3.11/site-packages/bitsandbytes/cextension.py:34: UserWarning: The installed version of bitsandbytes was compiled without GPU support. 8-bit optimizers, 8-bit multiplication, and GPU quantization are unavailable.\r\n",
      "  warn(\"The installed version of bitsandbytes was compiled without GPU support. \"\r\n",
      "'NoneType' object has no attribute 'cadam32bit_grad_fp32'\r\n",
      "/Users/wengbenjue/opt/anaconda3/envs/peft/lib/python3.11/site-packages/trl/trainer/ppo_config.py:141: UserWarning: The `optimize_cuda_cache` arguement will be deprecated soon, please use `optimize_device_cache` instead.\r\n",
      "  warnings.warn(\r\n",
      "Some weights of BertForSequenceClassification were not initialized from the model checkpoint at ../../../pretrain_models/bert-base-cased and are newly initialized: ['classifier.bias', 'classifier.weight']\r\n",
      "You should probably TRAIN this model on a down-stream task to be able to use it for predictions and inference.\r\n",
      "use AutoModelForSequenceClassification load bert model.\r\n",
      "trainable params: 2361603 || all params: 110674182 || trainable%: 2.1338337065820827\r\n",
      "tokenizer padding setting: [PAD]\r\n",
      "auditor_sentiment原始数据集特征: {'sentence': Value(dtype='string', id=None), 'label': Value(dtype='int64', id=None)}\r\n",
      "auditor_sentiment更新后数据集特征: {'sentence': Value(dtype='string', id=None), 'label': ClassLabel(names=['0', '1', '2'], id=None)}\r\n",
      "Sentence: Altia 's operating profit jumped to EUR 47 million from EUR 6.6 million .\r\n",
      "  0%|                                                   | 0/150 [00:00<?, ?it/s]/Users/wengbenjue/opt/anaconda3/envs/peft/lib/python3.11/site-packages/torch/utils/checkpoint.py:429: UserWarning: torch.utils.checkpoint: please pass in use_reentrant=True or use_reentrant=False explicitly. The default value of use_reentrant will be updated to be False in the future. To maintain current behavior, pass use_reentrant=True. It is recommended that you use use_reentrant=False. Refer to docs for more details on the differences between the two variants.\r\n",
      "  warnings.warn(\r\n",
      "{'loss': 0.9729, 'learning_rate': 0.0009333333333333333, 'epoch': 0.33}         \r\n",
      "{'loss': 0.8017, 'learning_rate': 0.0008666666666666667, 'epoch': 0.66}         \r\n",
      "{'loss': 0.7275, 'learning_rate': 0.0008, 'epoch': 0.98}                        \r\n",
      " 20%|████████▍                                 | 30/150 [01:46<07:24,  3.71s/it]\r\n",
      "  0%|                                                    | 0/31 [00:00<?, ?it/s]\u001B[A\r\n",
      "  6%|██▊                                         | 2/31 [00:00<00:04,  6.33it/s]\u001B[A\r\n",
      " 10%|████▎                                       | 3/31 [00:00<00:06,  4.40it/s]\u001B[A\r\n",
      " 13%|█████▋                                      | 4/31 [00:00<00:07,  3.77it/s]\u001B[A\r\n",
      " 16%|███████                                     | 5/31 [00:01<00:07,  3.47it/s]\u001B[A\r\n",
      " 19%|████████▌                                   | 6/31 [00:01<00:07,  3.29it/s]\u001B[A\r\n",
      " 23%|█████████▉                                  | 7/31 [00:01<00:07,  3.10it/s]\u001B[A\r\n",
      " 26%|███████████▎                                | 8/31 [00:02<00:07,  2.96it/s]\u001B[A\r\n",
      " 29%|████████████▊                               | 9/31 [00:02<00:07,  2.97it/s]\u001B[A\r\n",
      " 32%|█████████████▊                             | 10/31 [00:03<00:07,  3.00it/s]\u001B[A\r\n",
      " 35%|███████████████▎                           | 11/31 [00:03<00:06,  3.01it/s]\u001B[A\r\n",
      " 39%|████████████████▋                          | 12/31 [00:03<00:06,  3.03it/s]\u001B[A\r\n",
      " 42%|██████████████████                         | 13/31 [00:04<00:05,  3.05it/s]\u001B[A\r\n",
      " 45%|███████████████████▍                       | 14/31 [00:04<00:05,  3.00it/s]\u001B[A\r\n",
      " 48%|████████████████████▊                      | 15/31 [00:04<00:05,  2.90it/s]\u001B[A\r\n",
      " 52%|██████████████████████▏                    | 16/31 [00:05<00:05,  2.79it/s]\u001B[A\r\n",
      " 55%|███████████████████████▌                   | 17/31 [00:05<00:05,  2.80it/s]\u001B[A\r\n",
      " 58%|████████████████████████▉                  | 18/31 [00:05<00:04,  2.87it/s]\u001B[A\r\n",
      " 61%|██████████████████████████▎                | 19/31 [00:06<00:04,  2.92it/s]\u001B[A\r\n",
      " 65%|███████████████████████████▋               | 20/31 [00:06<00:03,  2.94it/s]\u001B[A\r\n",
      " 68%|█████████████████████████████▏             | 21/31 [00:06<00:03,  2.96it/s]\u001B[A\r\n",
      " 71%|██████████████████████████████▌            | 22/31 [00:07<00:03,  2.98it/s]\u001B[A\r\n",
      " 74%|███████████████████████████████▉           | 23/31 [00:07<00:02,  3.01it/s]\u001B[A\r\n",
      " 77%|█████████████████████████████████▎         | 24/31 [00:07<00:02,  3.02it/s]\u001B[A\r\n",
      " 81%|██████████████████████████████████▋        | 25/31 [00:08<00:01,  3.03it/s]\u001B[A\r\n",
      " 84%|████████████████████████████████████       | 26/31 [00:08<00:01,  3.03it/s]\u001B[A\r\n",
      " 87%|█████████████████████████████████████▍     | 27/31 [00:08<00:01,  3.03it/s]\u001B[A\r\n",
      " 90%|██████████████████████████████████████▊    | 28/31 [00:09<00:00,  3.06it/s]\u001B[A\r\n",
      " 94%|████████████████████████████████████████▏  | 29/31 [00:09<00:00,  3.07it/s]\u001B[A\r\n",
      " 97%|█████████████████████████████████████████▌ | 30/31 [00:09<00:00,  3.05it/s]\u001B[A\r\n",
      "                                                                                \u001B[A\r\n",
      "\u001B[A{'eval_loss': 0.6595621705055237, 'eval_accuracy': 0.6718266253869969, 'eval_precision': 0.6465639632019218, 'eval_recall': 0.6718266253869969, 'eval_f1': 0.6460843930943, 'eval_runtime': 11.16, 'eval_samples_per_second': 173.656, 'eval_steps_per_second': 2.778, 'epoch': 0.98}\r\n",
      " 20%|████████▍                                 | 30/150 [02:01<07:24,  3.71s/it]\r\n",
      "100%|███████████████████████████████████████████| 31/31 [00:10<00:00,  1.71it/s]\u001B[A\r\n",
      "                                                                                \u001B[A/Users/wengbenjue/opt/anaconda3/envs/peft/lib/python3.11/site-packages/torch/utils/checkpoint.py:429: UserWarning: torch.utils.checkpoint: please pass in use_reentrant=True or use_reentrant=False explicitly. The default value of use_reentrant will be updated to be False in the future. To maintain current behavior, pass use_reentrant=True. It is recommended that you use use_reentrant=False. Refer to docs for more details on the differences between the two variants.\r\n",
      "  warnings.warn(\r\n",
      "{'loss': 0.6329, 'learning_rate': 0.0007333333333333333, 'epoch': 1.31}         \r\n",
      "{'loss': 0.5729, 'learning_rate': 0.0006666666666666666, 'epoch': 1.64}         \r\n",
      "{'loss': 0.5318, 'learning_rate': 0.0006, 'epoch': 1.97}                        \r\n",
      " 41%|█████████████████                         | 61/150 [04:55<09:41,  6.53s/it]\r\n",
      "  0%|                                                    | 0/31 [00:00<?, ?it/s]\u001B[A\r\n",
      "  6%|██▊                                         | 2/31 [00:00<00:07,  3.95it/s]\u001B[A\r\n",
      " 10%|████▎                                       | 3/31 [00:00<00:09,  2.90it/s]\u001B[A\r\n",
      " 13%|█████▋                                      | 4/31 [00:01<00:10,  2.54it/s]\u001B[A\r\n",
      " 16%|███████                                     | 5/31 [00:01<00:10,  2.39it/s]\u001B[A\r\n",
      " 19%|████████▌                                   | 6/31 [00:02<00:10,  2.29it/s]\u001B[A\r\n",
      " 23%|█████████▉                                  | 7/31 [00:02<00:10,  2.18it/s]\u001B[A\r\n",
      " 26%|███████████▎                                | 8/31 [00:03<00:11,  2.09it/s]\u001B[A\r\n",
      " 29%|████████████▊                               | 9/31 [00:03<00:10,  2.03it/s]\u001B[A\r\n",
      " 32%|█████████████▊                             | 10/31 [00:04<00:10,  1.98it/s]\u001B[A\r\n",
      " 35%|███████████████▎                           | 11/31 [00:05<00:10,  1.93it/s]\u001B[A\r\n",
      " 39%|████████████████▋                          | 12/31 [00:05<00:09,  1.92it/s]\u001B[A\r\n",
      " 42%|██████████████████                         | 13/31 [00:06<00:09,  1.91it/s]\u001B[A\r\n",
      " 45%|███████████████████▍                       | 14/31 [00:06<00:08,  1.94it/s]\u001B[A\r\n",
      " 48%|████████████████████▊                      | 15/31 [00:07<00:08,  1.96it/s]\u001B[A\r\n",
      " 52%|██████████████████████▏                    | 16/31 [00:07<00:07,  2.00it/s]\u001B[A\r\n",
      " 55%|███████████████████████▌                   | 17/31 [00:08<00:06,  2.03it/s]\u001B[A\r\n",
      " 58%|████████████████████████▉                  | 18/31 [00:08<00:06,  2.04it/s]\u001B[A\r\n",
      " 61%|██████████████████████████▎                | 19/31 [00:09<00:05,  2.04it/s]\u001B[A\r\n",
      " 65%|███████████████████████████▋               | 20/31 [00:09<00:05,  2.02it/s]\u001B[A\r\n",
      " 68%|█████████████████████████████▏             | 21/31 [00:10<00:04,  2.01it/s]\u001B[A\r\n",
      " 71%|██████████████████████████████▌            | 22/31 [00:10<00:04,  1.99it/s]\u001B[A\r\n",
      " 74%|███████████████████████████████▉           | 23/31 [00:11<00:03,  2.01it/s]\u001B[A\r\n",
      " 77%|█████████████████████████████████▎         | 24/31 [00:11<00:03,  2.03it/s]\u001B[A\r\n",
      " 81%|██████████████████████████████████▋        | 25/31 [00:11<00:02,  2.06it/s]\u001B[A\r\n",
      " 84%|████████████████████████████████████       | 26/31 [00:12<00:02,  2.05it/s]\u001B[A\r\n",
      " 87%|█████████████████████████████████████▍     | 27/31 [00:12<00:01,  2.04it/s]\u001B[A\r\n",
      " 90%|██████████████████████████████████████▊    | 28/31 [00:13<00:01,  2.03it/s]\u001B[A\r\n",
      " 94%|████████████████████████████████████████▏  | 29/31 [00:13<00:00,  2.02it/s]\u001B[A\r\n",
      " 97%|█████████████████████████████████████████▌ | 30/31 [00:14<00:00,  2.05it/s]\u001B[A\r\n",
      "                                                                                \u001B[A\r\n",
      "\u001B[A{'eval_loss': 0.47598376870155334, 'eval_accuracy': 0.8111455108359134, 'eval_precision': 0.8185731698631424, 'eval_recall': 0.8111455108359134, 'eval_f1': 0.8136456003981177, 'eval_runtime': 15.0611, 'eval_samples_per_second': 128.676, 'eval_steps_per_second': 2.058, 'epoch': 2.0}\r\n",
      " 41%|█████████████████                         | 61/150 [05:10<09:41,  6.53s/it]\r\n",
      "100%|███████████████████████████████████████████| 31/31 [00:14<00:00,  2.56it/s]\u001B[A\r\n",
      "                                                                                \u001B[A/Users/wengbenjue/opt/anaconda3/envs/peft/lib/python3.11/site-packages/torch/utils/checkpoint.py:429: UserWarning: torch.utils.checkpoint: please pass in use_reentrant=True or use_reentrant=False explicitly. The default value of use_reentrant will be updated to be False in the future. To maintain current behavior, pass use_reentrant=True. It is recommended that you use use_reentrant=False. Refer to docs for more details on the differences between the two variants.\r\n",
      "  warnings.warn(\r\n",
      "{'loss': 0.443, 'learning_rate': 0.0005333333333333334, 'epoch': 2.3}           \r\n",
      "{'loss': 0.4362, 'learning_rate': 0.00046666666666666666, 'epoch': 2.62}        \r\n",
      "{'loss': 0.3618, 'learning_rate': 0.0004, 'epoch': 2.95}                        \r\n",
      " 61%|█████████████████████████▍                | 91/150 [08:46<06:51,  6.97s/it]\r\n",
      "  0%|                                                    | 0/31 [00:00<?, ?it/s]\u001B[A\r\n",
      "  6%|██▊                                         | 2/31 [00:00<00:05,  4.90it/s]\u001B[A\r\n",
      " 10%|████▎                                       | 3/31 [00:00<00:09,  2.99it/s]\u001B[A\r\n",
      " 13%|█████▋                                      | 4/31 [00:01<00:10,  2.66it/s]\u001B[A\r\n",
      " 16%|███████                                     | 5/31 [00:01<00:11,  2.35it/s]\u001B[A\r\n",
      " 19%|████████▌                                   | 6/31 [00:02<00:10,  2.32it/s]\u001B[A\r\n",
      " 23%|█████████▉                                  | 7/31 [00:02<00:10,  2.27it/s]\u001B[A\r\n",
      " 26%|███████████▎                                | 8/31 [00:03<00:10,  2.16it/s]\u001B[A\r\n",
      " 29%|████████████▊                               | 9/31 [00:03<00:10,  2.13it/s]\u001B[A\r\n",
      " 32%|█████████████▊                             | 10/31 [00:04<00:09,  2.14it/s]\u001B[A\r\n",
      " 35%|███████████████▎                           | 11/31 [00:04<00:09,  2.07it/s]\u001B[A\r\n",
      " 39%|████████████████▋                          | 12/31 [00:05<00:09,  2.10it/s]\u001B[A\r\n",
      " 42%|██████████████████                         | 13/31 [00:05<00:08,  2.03it/s]\u001B[A\r\n",
      " 45%|███████████████████▍                       | 14/31 [00:06<00:08,  2.09it/s]\u001B[A\r\n",
      " 48%|████████████████████▊                      | 15/31 [00:06<00:07,  2.02it/s]\u001B[A\r\n",
      " 52%|██████████████████████▏                    | 16/31 [00:07<00:07,  2.09it/s]\u001B[A\r\n",
      " 55%|███████████████████████▌                   | 17/31 [00:07<00:06,  2.03it/s]\u001B[A\r\n",
      " 58%|████████████████████████▉                  | 18/31 [00:08<00:06,  2.08it/s]\u001B[A\r\n",
      " 61%|██████████████████████████▎                | 19/31 [00:08<00:05,  2.07it/s]\u001B[A\r\n",
      " 65%|███████████████████████████▋               | 20/31 [00:09<00:05,  2.07it/s]\u001B[A\r\n",
      " 68%|█████████████████████████████▏             | 21/31 [00:09<00:04,  2.09it/s]\u001B[A\r\n",
      " 71%|██████████████████████████████▌            | 22/31 [00:10<00:04,  2.06it/s]\u001B[A\r\n",
      " 74%|███████████████████████████████▉           | 23/31 [00:10<00:03,  2.14it/s]\u001B[A\r\n",
      " 77%|█████████████████████████████████▎         | 24/31 [00:11<00:03,  2.08it/s]\u001B[A\r\n",
      " 81%|██████████████████████████████████▋        | 25/31 [00:11<00:02,  2.11it/s]\u001B[A\r\n",
      " 84%|████████████████████████████████████       | 26/31 [00:11<00:02,  2.17it/s]\u001B[A\r\n",
      " 87%|█████████████████████████████████████▍     | 27/31 [00:12<00:01,  2.09it/s]\u001B[A\r\n",
      " 90%|██████████████████████████████████████▊    | 28/31 [00:12<00:01,  2.13it/s]\u001B[A\r\n",
      " 94%|████████████████████████████████████████▏  | 29/31 [00:13<00:00,  2.12it/s]\u001B[A\r\n",
      " 97%|█████████████████████████████████████████▌ | 30/31 [00:13<00:00,  2.07it/s]\u001B[A\r\n",
      "                                                                                \u001B[A\r\n",
      "\u001B[A{'eval_loss': 0.3602551519870758, 'eval_accuracy': 0.8575851393188855, 'eval_precision': 0.8580695877253894, 'eval_recall': 0.8575851393188855, 'eval_f1': 0.8560699325237473, 'eval_runtime': 14.5177, 'eval_samples_per_second': 133.492, 'eval_steps_per_second': 2.135, 'epoch': 2.98}\r\n",
      " 61%|█████████████████████████▍                | 91/150 [09:02<06:51,  6.97s/it]\r\n",
      "100%|███████████████████████████████████████████| 31/31 [00:14<00:00,  2.64it/s]\u001B[A\r\n",
      "                                                                                \u001B[A/Users/wengbenjue/opt/anaconda3/envs/peft/lib/python3.11/site-packages/torch/utils/checkpoint.py:429: UserWarning: torch.utils.checkpoint: please pass in use_reentrant=True or use_reentrant=False explicitly. The default value of use_reentrant will be updated to be False in the future. To maintain current behavior, pass use_reentrant=True. It is recommended that you use use_reentrant=False. Refer to docs for more details on the differences between the two variants.\r\n",
      "  warnings.warn(\r\n",
      "{'loss': 0.3308, 'learning_rate': 0.0003333333333333333, 'epoch': 3.28}         \r\n",
      " 67%|███████████████████████████▎             | 100/150 [10:01<05:57,  7.14s/it]/Users/wengbenjue/opt/anaconda3/envs/peft/lib/python3.11/site-packages/torch/utils/checkpoint.py:429: UserWarning: torch.utils.checkpoint: please pass in use_reentrant=True or use_reentrant=False explicitly. The default value of use_reentrant will be updated to be False in the future. To maintain current behavior, pass use_reentrant=True. It is recommended that you use use_reentrant=False. Refer to docs for more details on the differences between the two variants.\r\n",
      "  warnings.warn(\r\n",
      "{'loss': 0.3193, 'learning_rate': 0.0002666666666666667, 'epoch': 3.61}         \r\n",
      "{'loss': 0.3105, 'learning_rate': 0.0002, 'epoch': 3.93}                        \r\n",
      " 81%|█████████████████████████████████▎       | 122/150 [12:30<02:58,  6.39s/it]\r\n",
      "  0%|                                                    | 0/31 [00:00<?, ?it/s]\u001B[A\r\n",
      "  6%|██▊                                         | 2/31 [00:00<00:06,  4.22it/s]\u001B[A\r\n",
      " 10%|████▎                                       | 3/31 [00:00<00:09,  3.00it/s]\u001B[A\r\n",
      " 13%|█████▋                                      | 4/31 [00:01<00:11,  2.33it/s]\u001B[A\r\n",
      " 16%|███████                                     | 5/31 [00:01<00:11,  2.31it/s]\u001B[A\r\n",
      " 19%|████████▌                                   | 6/31 [00:02<00:11,  2.15it/s]\u001B[A\r\n",
      " 23%|█████████▉                                  | 7/31 [00:02<00:10,  2.18it/s]\u001B[A\r\n",
      " 26%|███████████▎                                | 8/31 [00:03<00:10,  2.12it/s]\u001B[A\r\n",
      " 29%|████████████▊                               | 9/31 [00:03<00:10,  2.15it/s]\u001B[A\r\n",
      " 32%|█████████████▊                             | 10/31 [00:04<00:09,  2.17it/s]\u001B[A\r\n",
      " 35%|███████████████▎                           | 11/31 [00:04<00:09,  2.07it/s]\u001B[A\r\n",
      " 39%|████████████████▋                          | 12/31 [00:05<00:09,  2.11it/s]\u001B[A\r\n",
      " 42%|██████████████████                         | 13/31 [00:05<00:08,  2.05it/s]\u001B[A\r\n",
      " 45%|███████████████████▍                       | 14/31 [00:06<00:08,  2.09it/s]\u001B[A\r\n",
      " 48%|████████████████████▊                      | 15/31 [00:06<00:07,  2.07it/s]\u001B[A\r\n",
      " 52%|██████████████████████▏                    | 16/31 [00:07<00:07,  2.09it/s]\u001B[A\r\n",
      " 55%|███████████████████████▌                   | 17/31 [00:07<00:06,  2.05it/s]\u001B[A\r\n",
      " 58%|████████████████████████▉                  | 18/31 [00:08<00:06,  2.08it/s]\u001B[A\r\n",
      " 61%|██████████████████████████▎                | 19/31 [00:08<00:05,  2.05it/s]\u001B[A\r\n",
      " 65%|███████████████████████████▋               | 20/31 [00:09<00:05,  2.05it/s]\u001B[A\r\n",
      " 68%|█████████████████████████████▏             | 21/31 [00:09<00:05,  2.00it/s]\u001B[A\r\n",
      " 71%|██████████████████████████████▌            | 22/31 [00:10<00:04,  2.04it/s]\u001B[A\r\n",
      " 74%|███████████████████████████████▉           | 23/31 [00:10<00:03,  2.02it/s]\u001B[A\r\n",
      " 77%|█████████████████████████████████▎         | 24/31 [00:11<00:03,  2.05it/s]\u001B[A\r\n",
      " 81%|██████████████████████████████████▋        | 25/31 [00:11<00:02,  2.04it/s]\u001B[A\r\n",
      " 84%|████████████████████████████████████       | 26/31 [00:12<00:02,  2.06it/s]\u001B[A\r\n",
      " 87%|█████████████████████████████████████▍     | 27/31 [00:12<00:01,  2.09it/s]\u001B[A\r\n",
      " 90%|██████████████████████████████████████▊    | 28/31 [00:13<00:01,  2.01it/s]\u001B[A\r\n",
      " 94%|████████████████████████████████████████▏  | 29/31 [00:13<00:00,  2.05it/s]\u001B[A\r\n",
      " 97%|█████████████████████████████████████████▌ | 30/31 [00:14<00:00,  1.99it/s]\u001B[A\r\n",
      "                                                                                \u001B[A\r\n",
      "\u001B[A{'eval_loss': 0.35896173119544983, 'eval_accuracy': 0.8606811145510835, 'eval_precision': 0.8633731306031786, 'eval_recall': 0.8606811145510835, 'eval_f1': 0.8609819003686535, 'eval_runtime': 14.8436, 'eval_samples_per_second': 130.562, 'eval_steps_per_second': 2.088, 'epoch': 4.0}\r\n",
      " 81%|█████████████████████████████████▎       | 122/150 [12:44<02:58,  6.39s/it]\r\n",
      "100%|███████████████████████████████████████████| 31/31 [00:14<00:00,  2.49it/s]\u001B[A\r\n",
      "                                                                                \u001B[A/Users/wengbenjue/opt/anaconda3/envs/peft/lib/python3.11/site-packages/torch/utils/checkpoint.py:429: UserWarning: torch.utils.checkpoint: please pass in use_reentrant=True or use_reentrant=False explicitly. The default value of use_reentrant will be updated to be False in the future. To maintain current behavior, pass use_reentrant=True. It is recommended that you use use_reentrant=False. Refer to docs for more details on the differences between the two variants.\r\n",
      "  warnings.warn(\r\n",
      "{'loss': 0.2756, 'learning_rate': 0.00013333333333333334, 'epoch': 4.26}        \r\n",
      "{'loss': 0.2785, 'learning_rate': 6.666666666666667e-05, 'epoch': 4.59}         \r\n",
      "{'loss': 0.303, 'learning_rate': 0.0, 'epoch': 4.92}                            \r\n",
      "100%|█████████████████████████████████████████| 150/150 [15:55<00:00,  6.71s/it]\r\n",
      "  0%|                                                    | 0/31 [00:00<?, ?it/s]\u001B[A\r\n",
      "  6%|██▊                                         | 2/31 [00:00<00:07,  3.80it/s]\u001B[A\r\n",
      " 10%|████▎                                       | 3/31 [00:00<00:09,  2.87it/s]\u001B[A\r\n",
      " 13%|█████▋                                      | 4/31 [00:01<00:10,  2.59it/s]\u001B[A\r\n",
      " 16%|███████                                     | 5/31 [00:01<00:11,  2.30it/s]\u001B[A\r\n",
      " 19%|████████▌                                   | 6/31 [00:02<00:11,  2.27it/s]\u001B[A\r\n",
      " 23%|█████████▉                                  | 7/31 [00:02<00:11,  2.13it/s]\u001B[A\r\n",
      " 26%|███████████▎                                | 8/31 [00:03<00:10,  2.19it/s]\u001B[A\r\n",
      " 29%|████████████▊                               | 9/31 [00:03<00:10,  2.06it/s]\u001B[A\r\n",
      " 32%|█████████████▊                             | 10/31 [00:04<00:09,  2.14it/s]\u001B[A\r\n",
      " 35%|███████████████▎                           | 11/31 [00:04<00:09,  2.05it/s]\u001B[A\r\n",
      " 39%|████████████████▋                          | 12/31 [00:05<00:09,  2.11it/s]\u001B[A\r\n",
      " 42%|██████████████████                         | 13/31 [00:05<00:08,  2.04it/s]\u001B[A\r\n",
      " 45%|███████████████████▍                       | 14/31 [00:06<00:08,  2.09it/s]\u001B[A\r\n",
      " 48%|████████████████████▊                      | 15/31 [00:06<00:07,  2.05it/s]\u001B[A\r\n",
      " 52%|██████████████████████▏                    | 16/31 [00:07<00:07,  2.08it/s]\u001B[A\r\n",
      " 55%|███████████████████████▌                   | 17/31 [00:07<00:06,  2.08it/s]\u001B[A\r\n",
      " 58%|████████████████████████▉                  | 18/31 [00:08<00:06,  2.08it/s]\u001B[A\r\n",
      " 61%|██████████████████████████▎                | 19/31 [00:08<00:05,  2.12it/s]\u001B[A\r\n",
      " 65%|███████████████████████████▋               | 20/31 [00:09<00:05,  2.10it/s]\u001B[A\r\n",
      " 68%|█████████████████████████████▏             | 21/31 [00:09<00:04,  2.14it/s]\u001B[A\r\n",
      " 71%|██████████████████████████████▌            | 22/31 [00:10<00:04,  2.17it/s]\u001B[A\r\n",
      " 74%|███████████████████████████████▉           | 23/31 [00:10<00:03,  2.05it/s]\u001B[A\r\n",
      " 77%|█████████████████████████████████▎         | 24/31 [00:11<00:03,  2.12it/s]\u001B[A\r\n",
      " 81%|██████████████████████████████████▋        | 25/31 [00:11<00:02,  2.04it/s]\u001B[A\r\n",
      " 84%|████████████████████████████████████       | 26/31 [00:12<00:02,  2.11it/s]\u001B[A\r\n",
      " 87%|█████████████████████████████████████▍     | 27/31 [00:12<00:01,  2.06it/s]\u001B[A\r\n",
      " 90%|██████████████████████████████████████▊    | 28/31 [00:12<00:01,  2.11it/s]\u001B[A\r\n",
      " 94%|████████████████████████████████████████▏  | 29/31 [00:13<00:00,  2.12it/s]\u001B[A\r\n",
      " 97%|█████████████████████████████████████████▌ | 30/31 [00:13<00:00,  2.10it/s]\u001B[A\r\n",
      "                                                                                \u001B[A\r\n",
      "\u001B[A{'eval_loss': 0.3381478786468506, 'eval_accuracy': 0.8668730650154799, 'eval_precision': 0.8669831570196672, 'eval_recall': 0.8668730650154799, 'eval_f1': 0.8668737391514172, 'eval_runtime': 14.5321, 'eval_samples_per_second': 133.36, 'eval_steps_per_second': 2.133, 'epoch': 4.92}\r\n",
      "100%|█████████████████████████████████████████| 150/150 [16:10<00:00,  6.71s/it]\r\n",
      "100%|███████████████████████████████████████████| 31/31 [00:14<00:00,  2.70it/s]\u001B[A\r\n",
      "{'train_runtime': 970.2278, 'train_samples_per_second': 39.96, 'train_steps_per_second': 0.155, 'train_loss': 0.4865493535995483, 'epoch': 4.92}\r\n",
      "100%|█████████████████████████████████████████| 150/150 [16:10<00:00,  6.47s/it]\r\n"
     ]
    }
   ],
   "source": [
    "!python ../../../peft_train.py \\\n",
    "--model_name ../../../pretrain_models/bert-base-cased \\\n",
    "--max_seq_len 2048 \\\n",
    "--group_by_length \\\n",
    "--max_steps 200 \\\n",
    "--dataset_name ../../../text-classification/auditor_sentiment \\\n",
    "--num_labels 3 \\\n",
    "--epochs 5 \\\n",
    "--learning_rate 1e-3 \\\n",
    "--model_type SEQ_CLS \\\n",
    "--output_model_path ./result/bert-base-cased-auditor_sentiment-lora \\\n",
    "--bnb_4bit_compute_dtype float32 \\\n",
    "--use_4b False\n"
   ]
  },
  {
   "cell_type": "markdown",
   "metadata": {
    "collapsed": false
   },
   "source": [
    "### 1.2.2 Run code on GPU version\n",
    "Load the model together with the adapter with few lines of code! Check the snippet below to load the adapter from the Hub and run the example evaluation."
   ]
  },
  {
   "cell_type": "code",
   "execution_count": null,
   "metadata": {
    "collapsed": false
   },
   "outputs": [],
   "source": [
    "!pip install -q -U trl transformers accelerate git+https://github.com/huggingface/peft.git\n",
    "!pip install -q datasets bitsandbytes einops wandb evaluate\n",
    "from google.colab import drive\n",
    "drive.mount('/content/drive')\n",
    "%cd /content/drive/MyDrive/Colab Notebooks/llms-peft-cook-colab/experiments/bert-base-cased-lora/auditor_sentiment"
   ]
  },
  {
   "cell_type": "code",
   "execution_count": null,
   "metadata": {
    "collapsed": false,
    "is_executing": true
   },
   "outputs": [],
   "source": [
    "import os\n",
    "os.environ[\"CUDA_VISIBLE_DEVICES\"] = \"0\"\n",
    "!python ../../../peft_train.py \\\n",
    "--model_name bert-base-cased \\\n",
    "--max_seq_len 2048 \\\n",
    "--group_by_length \\\n",
    "--max_steps 200 \\\n",
    "--dataset_name ../../../text-classification/auditor_sentiment \\\n",
    "--num_labels 3 \\\n",
    "--epochs 5 \\\n",
    "--learning_rate 1e-3\\\n",
    "--model_type SEQ_CLS \\\n",
    "--output_model_path ./result/bert-base-cased-auditor_sentiment-lora \\\n",
    "--bnb_4bit_compute_dtype float16 \\\n",
    "--load_in_8bit \\\n",
    "--use_4b"
   ]
  },
  {
   "cell_type": "markdown",
   "metadata": {
    "collapsed": false
   },
   "source": [
    "# Load your adapter from the Hub"
   ]
  },
  {
   "cell_type": "code",
   "execution_count": 7,
   "metadata": {
    "ExecuteTime": {
     "end_time": "2023-12-02T16:37:01.962850Z",
     "start_time": "2023-12-02T16:37:01.696535Z"
    },
    "collapsed": false
   },
   "outputs": [],
   "source": [
    "import torch\n",
    "from peft import PeftModel, PeftConfig\n",
    "from transformers import AutoModelForSeq2SeqLM, AutoTokenizer\n",
    "\n",
    "peft_model_id = \"./result/flan-t5-cup-lora\"\n",
    "base_model_name_or_path = '.../../../pretrain_models/google-flan-t5-small'\n",
    "config = PeftConfig.from_pretrained(peft_model_id)\n",
    "\n",
    "# model = AutoModelForSeq2SeqLM.from_pretrained(config.base_model_name_or_path, torch_dtype=\"auto\", device_map=\"auto\")\n",
    "model = AutoModelForSeq2SeqLM.from_pretrained(config.base_model_name_or_path, torch_dtype=\"auto\", device_map=\"cpu\")\n",
    "tokenizer = AutoTokenizer.from_pretrained(config.base_model_name_or_path)\n",
    "\n",
    "# Load the Lora model\n",
    "model = PeftModel.from_pretrained(model, peft_model_id)"
   ]
  },
  {
   "cell_type": "code",
   "execution_count": 9,
   "metadata": {
    "ExecuteTime": {
     "end_time": "2023-12-02T16:40:55.202266Z",
     "start_time": "2023-12-02T16:40:55.100686Z"
    },
    "collapsed": false
   },
   "outputs": [
    {
     "name": "stdout",
     "output_type": "stream",
     "text": [
      "input sentence:  In January-September 2009 , the Group 's net interest income increased to EUR 112.4 mn from EUR 74.3 mn in January-September 2008 .\n",
      " output prediction:  ['positive positive positive positive positive positive positive positive positive positive']\n"
     ]
    }
   ],
   "source": [
    "model.eval()\n",
    "input_text = \"In January-September 2009 , the Group 's net interest income increased to EUR 112.4 mn from EUR 74.3 mn in January-September 2008 .\"\n",
    "inputs = tokenizer(input_text, return_tensors=\"pt\")\n",
    "\n",
    "outputs = model.generate(input_ids=inputs[\"input_ids\"], max_new_tokens=10)\n",
    "\n",
    "print(\"input sentence: \", input_text)\n",
    "print(\" output prediction: \", tokenizer.batch_decode(outputs.detach().cpu().numpy(), skip_special_tokens=True))"
   ]
  },
  {
   "cell_type": "code",
   "execution_count": 8,
   "metadata": {
    "ExecuteTime": {
     "end_time": "2023-12-02T16:37:04.919570Z",
     "start_time": "2023-12-02T16:37:04.379496Z"
    },
    "collapsed": false
   },
   "outputs": [
    {
     "name": "stdout",
     "output_type": "stream",
     "text": [
      "input sentence:  In January-September 2009 , the Group 's net interest income increased to EUR 112.4 mn from EUR 74.3 mn in January-September 2008 .\n",
      " output prediction:  ['positive positive positive positive positive positive positive positive positive positive']\n"
     ]
    }
   ],
   "source": [
    "model.eval()\n",
    "input_text = \"In January-September 2009 , the Group 's net interest income increased to EUR 112.4 mn from EUR 74.3 mn in January-September 2008 .\"\n",
    "inputs = tokenizer(input_text, return_tensors=\"pt\")\n",
    "\n",
    "outputs = model.generate(input_ids=inputs[\"input_ids\"], max_new_tokens=10)\n",
    "\n",
    "print(\"input sentence: \", input_text)\n",
    "print(\" output prediction: \", tokenizer.batch_decode(outputs.detach().cpu().numpy(), skip_special_tokens=True))"
   ]
  },
  {
   "cell_type": "markdown",
   "metadata": {
    "collapsed": false
   },
   "source": [
    "## 1.3 Experimental Result"
   ]
  },
  {
   "cell_type": "code",
   "execution_count": null,
   "metadata": {
    "collapsed": false,
    "is_executing": true
   },
   "outputs": [],
   "source": [
    "class HTMLRender:\n",
    "    def __init__(self,html_str):\n",
    "        self.html_str =html_str\n",
    "    def _repr_html_(self):\n",
    "       return self.html_str\n"
   ]
  },
  {
   "cell_type": "code",
   "execution_count": null,
   "metadata": {
    "collapsed": false,
    "is_executing": true
   },
   "outputs": [],
   "source": [
    "model_accurcy_html = '''\n",
    "<table>\n",
    "  <tr>\n",
    "    <th>eval loss</th>\n",
    "    <th>eval accuracy</th>\n",
    "    <th>eval precision</th>\n",
    "    <th>eval recall</th>\n",
    "    <th>eval f1</th>\n",
    "  </tr>\n",
    "  <tr>\n",
    "    <td style=\"background-color:#4C72B0;\">0.102</td>\n",
    "    <td style=\"background-color:#55A868;\">0.896</td>\n",
    "    <td style=\"background-color:#C44E52;\">0.90</td>\n",
    "     <td style=\"background-color:#8172B2;\">0.896</td>\n",
    "    <td style=\"background-color:#64B5CD;\">0.894</td>\n",
    "  </tr>\n",
    "\n",
    "</table>\n",
    "\n",
    "       '''\n",
    "HTMLRender(model_accurcy_html)"
   ]
  },
  {
   "cell_type": "code",
   "execution_count": null,
   "metadata": {
    "collapsed": false,
    "is_executing": true
   },
   "outputs": [],
   "source": [
    "accuracy_html = '''\n",
    "<img src=\"./image/flan-t5-small-accuracy.png\" alt=\"flan-t5-small-accuracy\" width=\"70%\">\n",
    "'''\n",
    "HTMLRender(accuracy_html)"
   ]
  },
  {
   "cell_type": "code",
   "execution_count": null,
   "metadata": {
    "collapsed": false
   },
   "outputs": [],
   "source": [
    "## Load your adapter from the Hub\n"
   ]
  }
 ],
 "metadata": {
  "kernelspec": {
   "display_name": "Python 3",
   "language": "python",
   "name": "python3"
  },
  "language_info": {
   "codemirror_mode": {
    "name": "ipython",
    "version": 3
   },
   "file_extension": ".py",
   "mimetype": "text/x-python",
   "name": "python",
   "nbconvert_exporter": "python",
   "pygments_lexer": "ipython3",
   "version": "3.11.5"
  }
 },
 "nbformat": 4,
 "nbformat_minor": 0
}
