{
 "cells": [
  {
   "cell_type": "markdown",
   "source": [
    "Finetuning the model on financial_phrasebank dataset, that consists of pairs of text-labels to classify financial-related sentences, if they are either <span style=\"color: red;\">positive</span>, <span style=\"color: purple;\">neutral</span> or <span style=\"color: green;\">negative</span>."
   ],
   "metadata": {
    "collapsed": false
   }
  },
  {
   "cell_type": "markdown",
   "source": [
    "# 1.Experimental Setup1"
   ],
   "metadata": {
    "collapsed": false
   }
  },
  {
   "cell_type": "markdown",
   "source": [
    "## 1.1 Setup"
   ],
   "metadata": {
    "collapsed": false
   }
  },
  {
   "cell_type": "markdown",
   "source": [
    "## 1.2 Training"
   ],
   "metadata": {
    "collapsed": false
   }
  },
  {
   "cell_type": "markdown",
   "source": [
    "### 1.2.1 Run code on CPU version"
   ],
   "metadata": {
    "collapsed": false
   }
  },
  {
   "cell_type": "code",
   "execution_count": null,
   "outputs": [],
   "source": [
    "!pwd"
   ],
   "metadata": {
    "collapsed": false,
    "is_executing": true
   }
  },
  {
   "cell_type": "code",
   "execution_count": 1,
   "outputs": [
    {
     "name": "stdout",
     "output_type": "stream",
     "text": [
      "/Users/wengbenjue/opt/anaconda3/envs/peft/lib/python3.11/site-packages/bitsandbytes/cextension.py:34: UserWarning: The installed version of bitsandbytes was compiled without GPU support. 8-bit optimizers, 8-bit multiplication, and GPU quantization are unavailable.\r\n",
      "  warn(\"The installed version of bitsandbytes was compiled without GPU support. \"\r\n",
      "'NoneType' object has no attribute 'cadam32bit_grad_fp32'\r\n",
      "/Users/wengbenjue/opt/anaconda3/envs/peft/lib/python3.11/site-packages/trl/trainer/ppo_config.py:141: UserWarning: The `optimize_cuda_cache` arguement will be deprecated soon, please use `optimize_device_cache` instead.\r\n",
      "  warnings.warn(\r\n",
      "Some weights of BertForSequenceClassification were not initialized from the model checkpoint at ../../../pretrain_models/bert-base-cased and are newly initialized: ['classifier.bias', 'classifier.weight']\r\n",
      "You should probably TRAIN this model on a down-stream task to be able to use it for predictions and inference.\r\n",
      "use AutoModelForSequenceClassification load bert model.\r\n",
      "trainable params: 2360834 || all params: 110672644 || trainable%: 2.133168518138954\r\n",
      "tokenizer padding setting: [PAD]\r\n",
      "Sentence: seeing ppl walking w/ crutches makes me really excited for the next 3 weeks of my life\r\n",
      "Map: 100%|████████████████████████| 1910/1910 [00:00<00:00, 26108.89 examples/s]\r\n",
      "  0%|                                                   | 0/110 [00:00<?, ?it/s]/Users/wengbenjue/opt/anaconda3/envs/peft/lib/python3.11/site-packages/torch/utils/checkpoint.py:429: UserWarning: torch.utils.checkpoint: please pass in use_reentrant=True or use_reentrant=False explicitly. The default value of use_reentrant will be updated to be False in the future. To maintain current behavior, pass use_reentrant=True. It is recommended that you use use_reentrant=False. Refer to docs for more details on the differences between the two variants.\r\n",
      "  warnings.warn(\r\n",
      "{'loss': 0.7296, 'learning_rate': 0.0009090909090909091, 'epoch': 0.44}         \r\n",
      "{'loss': 0.6777, 'learning_rate': 0.0008181818181818183, 'epoch': 0.89}         \r\n",
      " 20%|████████▍                                 | 22/110 [04:39<18:33, 12.66s/it]\r\n",
      "  0%|                                                    | 0/30 [00:00<?, ?it/s]\u001B[A\r\n",
      "  7%|██▉                                         | 2/30 [00:01<00:14,  1.89it/s]\u001B[A\r\n",
      " 10%|████▍                                       | 3/30 [00:02<00:20,  1.34it/s]\u001B[A\r\n",
      " 13%|█████▊                                      | 4/30 [00:03<00:22,  1.16it/s]\u001B[A\r\n",
      " 17%|███████▎                                    | 5/30 [00:04<00:22,  1.12it/s]\u001B[A\r\n",
      " 20%|████████▊                                   | 6/30 [00:05<00:22,  1.05it/s]\u001B[A\r\n",
      " 23%|██████████▎                                 | 7/30 [00:06<00:22,  1.02it/s]\u001B[A\r\n",
      " 27%|███████████▋                                | 8/30 [00:07<00:21,  1.03it/s]\u001B[A\r\n",
      " 30%|█████████████▏                              | 9/30 [00:08<00:20,  1.01it/s]\u001B[A\r\n",
      " 33%|██████████████▎                            | 10/30 [00:09<00:19,  1.02it/s]\u001B[A\r\n",
      " 37%|███████████████▊                           | 11/30 [00:10<00:19,  1.01s/it]\u001B[A\r\n",
      " 40%|█████████████████▏                         | 12/30 [00:11<00:18,  1.01s/it]\u001B[A\r\n",
      " 43%|██████████████████▋                        | 13/30 [00:12<00:17,  1.02s/it]\u001B[A\r\n",
      " 47%|████████████████████                       | 14/30 [00:13<00:15,  1.00it/s]\u001B[A\r\n",
      " 50%|█████████████████████▌                     | 15/30 [00:14<00:15,  1.00s/it]\u001B[A\r\n",
      " 53%|██████████████████████▉                    | 16/30 [00:15<00:13,  1.00it/s]\u001B[A\r\n",
      " 57%|████████████████████████▎                  | 17/30 [00:16<00:13,  1.00s/it]\u001B[A\r\n",
      " 60%|█████████████████████████▊                 | 18/30 [00:17<00:12,  1.01s/it]\u001B[A\r\n",
      " 63%|███████████████████████████▏               | 19/30 [00:18<00:10,  1.01it/s]\u001B[A\r\n",
      " 67%|████████████████████████████▋              | 20/30 [00:19<00:10,  1.00s/it]\u001B[A\r\n",
      " 70%|██████████████████████████████             | 21/30 [00:20<00:08,  1.02it/s]\u001B[A\r\n",
      " 73%|███████████████████████████████▌           | 22/30 [00:21<00:07,  1.01it/s]\u001B[A\r\n",
      " 77%|████████████████████████████████▉          | 23/30 [00:22<00:06,  1.02it/s]\u001B[A\r\n",
      " 80%|██████████████████████████████████▍        | 24/30 [00:23<00:05,  1.01it/s]\u001B[A\r\n",
      " 83%|███████████████████████████████████▊       | 25/30 [00:24<00:05,  1.00s/it]\u001B[A\r\n",
      " 87%|█████████████████████████████████████▎     | 26/30 [00:25<00:03,  1.05it/s]\u001B[A\r\n",
      " 90%|██████████████████████████████████████▋    | 27/30 [00:26<00:02,  1.04it/s]\u001B[A\r\n",
      " 93%|████████████████████████████████████████▏  | 28/30 [00:27<00:02,  1.01s/it]\u001B[A\r\n",
      " 97%|█████████████████████████████████████████▌ | 29/30 [00:28<00:01,  1.05s/it]\u001B[A\r\n",
      "                                                                                \u001B[A\r\n",
      "\u001B[A{'eval_loss': 0.6593590974807739, 'eval_accuracy': 0.6073298429319371, 'eval_precision': 0.6071951786897536, 'eval_recall': 0.6073298429319371, 'eval_f1': 0.6034604219090762, 'eval_runtime': 30.8292, 'eval_samples_per_second': 61.954, 'eval_steps_per_second': 0.973, 'epoch': 0.98}\r\n",
      " 20%|████████▍                                 | 22/110 [05:16<18:33, 12.66s/it]\r\n",
      "100%|███████████████████████████████████████████| 30/30 [00:29<00:00,  1.21s/it]\u001B[A\r\n",
      "                                                                                \u001B[A/Users/wengbenjue/opt/anaconda3/envs/peft/lib/python3.11/site-packages/torch/utils/checkpoint.py:429: UserWarning: torch.utils.checkpoint: please pass in use_reentrant=True or use_reentrant=False explicitly. The default value of use_reentrant will be updated to be False in the future. To maintain current behavior, pass use_reentrant=True. It is recommended that you use use_reentrant=False. Refer to docs for more details on the differences between the two variants.\r\n",
      "  warnings.warn(\r\n",
      "{'loss': 0.641, 'learning_rate': 0.0007272727272727273, 'epoch': 1.33}          \r\n",
      "{'loss': 0.6082, 'learning_rate': 0.0006363636363636364, 'epoch': 1.78}         \r\n",
      " 41%|█████████████████▏                        | 45/110 [09:55<13:02, 12.03s/it]\r\n",
      "  0%|                                                    | 0/30 [00:00<?, ?it/s]\u001B[A\r\n",
      "  7%|██▉                                         | 2/30 [00:00<00:13,  2.05it/s]\u001B[A\r\n",
      " 10%|████▍                                       | 3/30 [00:01<00:18,  1.45it/s]\u001B[A\r\n",
      " 13%|█████▊                                      | 4/30 [00:02<00:21,  1.22it/s]\u001B[A\r\n",
      " 17%|███████▎                                    | 5/30 [00:03<00:22,  1.13it/s]\u001B[A\r\n",
      " 20%|████████▊                                   | 6/30 [00:05<00:22,  1.06it/s]\u001B[A\r\n",
      " 23%|██████████▎                                 | 7/30 [00:06<00:22,  1.02it/s]\u001B[A\r\n",
      " 27%|███████████▋                                | 8/30 [00:06<00:20,  1.06it/s]\u001B[A\r\n",
      " 30%|█████████████▏                              | 9/30 [00:07<00:19,  1.10it/s]\u001B[A\r\n",
      " 33%|██████████████▎                            | 10/30 [00:08<00:18,  1.11it/s]\u001B[A\r\n",
      " 37%|███████████████▊                           | 11/30 [00:09<00:18,  1.02it/s]\u001B[A\r\n",
      " 40%|█████████████████▏                         | 12/30 [00:10<00:18,  1.01s/it]\u001B[A\r\n",
      " 43%|██████████████████▋                        | 13/30 [00:11<00:16,  1.01it/s]\u001B[A\r\n",
      " 47%|████████████████████                       | 14/30 [00:12<00:16,  1.02s/it]\u001B[A\r\n",
      " 50%|█████████████████████▌                     | 15/30 [00:13<00:15,  1.02s/it]\u001B[A\r\n",
      " 53%|██████████████████████▉                    | 16/30 [00:14<00:14,  1.00s/it]\u001B[A\r\n",
      " 57%|████████████████████████▎                  | 17/30 [00:15<00:12,  1.06it/s]\u001B[A\r\n",
      " 60%|█████████████████████████▊                 | 18/30 [00:16<00:10,  1.10it/s]\u001B[A\r\n",
      " 63%|███████████████████████████▏               | 19/30 [00:17<00:09,  1.12it/s]\u001B[A\r\n",
      " 67%|████████████████████████████▋              | 20/30 [00:18<00:09,  1.04it/s]\u001B[A\r\n",
      " 70%|██████████████████████████████             | 21/30 [00:19<00:08,  1.05it/s]\u001B[A\r\n",
      " 73%|███████████████████████████████▌           | 22/30 [00:20<00:07,  1.04it/s]\u001B[A\r\n",
      " 77%|████████████████████████████████▉          | 23/30 [00:21<00:06,  1.00it/s]\u001B[A\r\n",
      " 80%|██████████████████████████████████▍        | 24/30 [00:22<00:06,  1.05s/it]\u001B[A\r\n",
      " 83%|███████████████████████████████████▊       | 25/30 [00:23<00:05,  1.09s/it]\u001B[A\r\n",
      " 87%|█████████████████████████████████████▎     | 26/30 [00:24<00:04,  1.04s/it]\u001B[A\r\n",
      " 90%|██████████████████████████████████████▋    | 27/30 [00:25<00:03,  1.03s/it]\u001B[A\r\n",
      " 93%|████████████████████████████████████████▏  | 28/30 [00:26<00:01,  1.01it/s]\u001B[A\r\n",
      " 97%|█████████████████████████████████████████▌ | 29/30 [00:27<00:00,  1.03it/s]\u001B[A\r\n",
      "                                                                                \u001B[A\r\n",
      "\u001B[A{'eval_loss': 0.626452624797821, 'eval_accuracy': 0.6764397905759162, 'eval_precision': 0.6763181775351975, 'eval_recall': 0.6764397905759162, 'eval_f1': 0.6754647608866454, 'eval_runtime': 29.4837, 'eval_samples_per_second': 64.782, 'eval_steps_per_second': 1.018, 'epoch': 2.0}\r\n",
      " 41%|█████████████████▏                        | 45/110 [10:25<13:02, 12.03s/it]\r\n",
      "100%|███████████████████████████████████████████| 30/30 [00:28<00:00,  1.15it/s]\u001B[A\r\n",
      "                                                                                \u001B[A/Users/wengbenjue/opt/anaconda3/envs/peft/lib/python3.11/site-packages/torch/utils/checkpoint.py:429: UserWarning: torch.utils.checkpoint: please pass in use_reentrant=True or use_reentrant=False explicitly. The default value of use_reentrant will be updated to be False in the future. To maintain current behavior, pass use_reentrant=True. It is recommended that you use use_reentrant=False. Refer to docs for more details on the differences between the two variants.\r\n",
      "  warnings.warn(\r\n",
      "{'loss': 0.5585, 'learning_rate': 0.0005454545454545455, 'epoch': 2.22}         \r\n",
      "{'loss': 0.5499, 'learning_rate': 0.00045454545454545455, 'epoch': 2.67}        \r\n",
      " 61%|█████████████████████████▌                | 67/110 [14:46<07:49, 10.93s/it]\r\n",
      "  0%|                                                    | 0/30 [00:00<?, ?it/s]\u001B[A\r\n",
      "  7%|██▉                                         | 2/30 [00:00<00:08,  3.20it/s]\u001B[A\r\n",
      " 10%|████▍                                       | 3/30 [00:01<00:13,  2.08it/s]\u001B[A\r\n",
      " 13%|█████▊                                      | 4/30 [00:02<00:15,  1.65it/s]\u001B[A\r\n",
      " 17%|███████▎                                    | 5/30 [00:03<00:17,  1.43it/s]\u001B[A\r\n",
      " 20%|████████▊                                   | 6/30 [00:03<00:17,  1.38it/s]\u001B[A\r\n",
      " 23%|██████████▎                                 | 7/30 [00:04<00:17,  1.34it/s]\u001B[A\r\n",
      " 27%|███████████▋                                | 8/30 [00:05<00:16,  1.35it/s]\u001B[A\r\n",
      " 30%|█████████████▏                              | 9/30 [00:06<00:16,  1.30it/s]\u001B[A\r\n",
      " 33%|██████████████▎                            | 10/30 [00:07<00:16,  1.25it/s]\u001B[A\r\n",
      " 37%|███████████████▊                           | 11/30 [00:07<00:15,  1.26it/s]\u001B[A\r\n",
      " 40%|█████████████████▏                         | 12/30 [00:08<00:13,  1.29it/s]\u001B[A\r\n",
      " 43%|██████████████████▋                        | 13/30 [00:09<00:12,  1.34it/s]\u001B[A\r\n",
      " 47%|████████████████████                       | 14/30 [00:09<00:11,  1.33it/s]\u001B[A\r\n",
      " 50%|█████████████████████▌                     | 15/30 [00:10<00:11,  1.31it/s]\u001B[A\r\n",
      " 53%|██████████████████████▉                    | 16/30 [00:11<00:10,  1.28it/s]\u001B[A\r\n",
      " 57%|████████████████████████▎                  | 17/30 [00:12<00:09,  1.34it/s]\u001B[A\r\n",
      " 60%|█████████████████████████▊                 | 18/30 [00:13<00:09,  1.29it/s]\u001B[A\r\n",
      " 63%|███████████████████████████▏               | 19/30 [00:13<00:08,  1.31it/s]\u001B[A\r\n",
      " 67%|████████████████████████████▋              | 20/30 [00:14<00:07,  1.35it/s]\u001B[A\r\n",
      " 70%|██████████████████████████████             | 21/30 [00:15<00:06,  1.30it/s]\u001B[A\r\n",
      " 73%|███████████████████████████████▌           | 22/30 [00:16<00:06,  1.27it/s]\u001B[A\r\n",
      " 77%|████████████████████████████████▉          | 23/30 [00:17<00:05,  1.24it/s]\u001B[A\r\n",
      " 80%|██████████████████████████████████▍        | 24/30 [00:17<00:04,  1.30it/s]\u001B[A\r\n",
      " 83%|███████████████████████████████████▊       | 25/30 [00:18<00:03,  1.29it/s]\u001B[A\r\n",
      " 87%|█████████████████████████████████████▎     | 26/30 [00:19<00:03,  1.28it/s]\u001B[A\r\n",
      " 90%|██████████████████████████████████████▋    | 27/30 [00:20<00:02,  1.25it/s]\u001B[A\r\n",
      " 93%|████████████████████████████████████████▏  | 28/30 [00:20<00:01,  1.25it/s]\u001B[A\r\n",
      " 97%|█████████████████████████████████████████▌ | 29/30 [00:21<00:00,  1.29it/s]\u001B[A\r\n",
      "                                                                                \u001B[A\r\n",
      "\u001B[A{'eval_loss': 0.6230023503303528, 'eval_accuracy': 0.6785340314136126, 'eval_precision': 0.678270921725976, 'eval_recall': 0.6785340314136126, 'eval_f1': 0.6782765442780758, 'eval_runtime': 23.1236, 'eval_samples_per_second': 82.6, 'eval_steps_per_second': 1.297, 'epoch': 2.98}\r\n",
      " 61%|█████████████████████████▌                | 67/110 [15:13<07:49, 10.93s/it]\r\n",
      "100%|███████████████████████████████████████████| 30/30 [00:22<00:00,  1.35it/s]\u001B[A\r\n",
      "                                                                                \u001B[A/Users/wengbenjue/opt/anaconda3/envs/peft/lib/python3.11/site-packages/torch/utils/checkpoint.py:429: UserWarning: torch.utils.checkpoint: please pass in use_reentrant=True or use_reentrant=False explicitly. The default value of use_reentrant will be updated to be False in the future. To maintain current behavior, pass use_reentrant=True. It is recommended that you use use_reentrant=False. Refer to docs for more details on the differences between the two variants.\r\n",
      "  warnings.warn(\r\n",
      "{'loss': 0.5212, 'learning_rate': 0.00036363636363636367, 'epoch': 3.11}        \r\n",
      "{'loss': 0.4812, 'learning_rate': 0.00027272727272727274, 'epoch': 3.56}        \r\n",
      "{'loss': 0.4924, 'learning_rate': 0.00018181818181818183, 'epoch': 4.0}         \r\n",
      " 82%|██████████████████████████████████▎       | 90/110 [19:17<03:31, 10.59s/it]\r\n",
      "  0%|                                                    | 0/30 [00:00<?, ?it/s]\u001B[A\r\n",
      "  7%|██▉                                         | 2/30 [00:00<00:11,  2.34it/s]\u001B[A\r\n",
      " 10%|████▍                                       | 3/30 [00:01<00:16,  1.66it/s]\u001B[A\r\n",
      " 13%|█████▊                                      | 4/30 [00:02<00:17,  1.45it/s]\u001B[A\r\n",
      " 17%|███████▎                                    | 5/30 [00:03<00:17,  1.40it/s]\u001B[A\r\n",
      " 20%|████████▊                                   | 6/30 [00:04<00:17,  1.37it/s]\u001B[A\r\n",
      " 23%|██████████▎                                 | 7/30 [00:04<00:17,  1.32it/s]\u001B[A\r\n",
      " 27%|███████████▋                                | 8/30 [00:05<00:17,  1.27it/s]\u001B[A\r\n",
      " 30%|█████████████▏                              | 9/30 [00:06<00:16,  1.24it/s]\u001B[A\r\n",
      " 33%|██████████████▎                            | 10/30 [00:07<00:16,  1.25it/s]\u001B[A\r\n",
      " 37%|███████████████▊                           | 11/30 [00:08<00:15,  1.25it/s]\u001B[A\r\n",
      " 40%|█████████████████▏                         | 12/30 [00:09<00:14,  1.23it/s]\u001B[A\r\n",
      " 43%|██████████████████▋                        | 13/30 [00:09<00:14,  1.17it/s]\u001B[A\r\n",
      " 47%|████████████████████                       | 14/30 [00:10<00:13,  1.20it/s]\u001B[A\r\n",
      " 50%|█████████████████████▌                     | 15/30 [00:11<00:12,  1.25it/s]\u001B[A\r\n",
      " 53%|██████████████████████▉                    | 16/30 [00:12<00:11,  1.26it/s]\u001B[A\r\n",
      " 57%|████████████████████████▎                  | 17/30 [00:13<00:10,  1.24it/s]\u001B[A\r\n",
      " 60%|█████████████████████████▊                 | 18/30 [00:13<00:09,  1.23it/s]\u001B[A\r\n",
      " 63%|███████████████████████████▏               | 19/30 [00:14<00:08,  1.26it/s]\u001B[A\r\n",
      " 67%|████████████████████████████▋              | 20/30 [00:15<00:07,  1.29it/s]\u001B[A\r\n",
      " 70%|██████████████████████████████             | 21/30 [00:16<00:06,  1.29it/s]\u001B[A\r\n",
      " 73%|███████████████████████████████▌           | 22/30 [00:16<00:05,  1.34it/s]\u001B[A\r\n",
      " 77%|████████████████████████████████▉          | 23/30 [00:17<00:05,  1.30it/s]\u001B[A\r\n",
      " 80%|██████████████████████████████████▍        | 24/30 [00:18<00:04,  1.29it/s]\u001B[A\r\n",
      " 83%|███████████████████████████████████▊       | 25/30 [00:19<00:04,  1.22it/s]\u001B[A\r\n",
      " 87%|█████████████████████████████████████▎     | 26/30 [00:20<00:03,  1.24it/s]\u001B[A\r\n",
      " 90%|██████████████████████████████████████▋    | 27/30 [00:20<00:02,  1.28it/s]\u001B[A\r\n",
      " 93%|████████████████████████████████████████▏  | 28/30 [00:21<00:01,  1.26it/s]\u001B[A\r\n",
      " 97%|█████████████████████████████████████████▌ | 29/30 [00:22<00:00,  1.24it/s]\u001B[A\r\n",
      "                                                                                \u001B[A\r\n",
      "\u001B[A{'eval_loss': 0.6499838829040527, 'eval_accuracy': 0.6680628272251309, 'eval_precision': 0.6711710508850709, 'eval_recall': 0.6680628272251309, 'eval_f1': 0.6679944022551124, 'eval_runtime': 24.0236, 'eval_samples_per_second': 79.505, 'eval_steps_per_second': 1.249, 'epoch': 4.0}\r\n",
      " 82%|██████████████████████████████████▎       | 90/110 [19:41<03:31, 10.59s/it]\r\n",
      "100%|███████████████████████████████████████████| 30/30 [00:23<00:00,  1.28it/s]\u001B[A\r\n",
      "                                                                                \u001B[A/Users/wengbenjue/opt/anaconda3/envs/peft/lib/python3.11/site-packages/torch/utils/checkpoint.py:429: UserWarning: torch.utils.checkpoint: please pass in use_reentrant=True or use_reentrant=False explicitly. The default value of use_reentrant will be updated to be False in the future. To maintain current behavior, pass use_reentrant=True. It is recommended that you use use_reentrant=False. Refer to docs for more details on the differences between the two variants.\r\n",
      "  warnings.warn(\r\n",
      "{'loss': 0.461, 'learning_rate': 9.090909090909092e-05, 'epoch': 4.44}          \r\n",
      " 91%|█████████████████████████████████████▎   | 100/110 [21:33<01:55, 11.60s/it]/Users/wengbenjue/opt/anaconda3/envs/peft/lib/python3.11/site-packages/torch/utils/checkpoint.py:429: UserWarning: torch.utils.checkpoint: please pass in use_reentrant=True or use_reentrant=False explicitly. The default value of use_reentrant will be updated to be False in the future. To maintain current behavior, pass use_reentrant=True. It is recommended that you use use_reentrant=False. Refer to docs for more details on the differences between the two variants.\r\n",
      "  warnings.warn(\r\n",
      "{'loss': 0.4475, 'learning_rate': 0.0, 'epoch': 4.89}                           \r\n",
      "100%|█████████████████████████████████████████| 110/110 [23:24<00:00, 11.03s/it]\r\n",
      "  0%|                                                    | 0/30 [00:00<?, ?it/s]\u001B[A\r\n",
      "  7%|██▉                                         | 2/30 [00:00<00:12,  2.21it/s]\u001B[A\r\n",
      " 10%|████▍                                       | 3/30 [00:01<00:15,  1.74it/s]\u001B[A\r\n",
      " 13%|█████▊                                      | 4/30 [00:02<00:15,  1.64it/s]\u001B[A\r\n",
      " 17%|███████▎                                    | 5/30 [00:03<00:16,  1.53it/s]\u001B[A\r\n",
      " 20%|████████▊                                   | 6/30 [00:03<00:16,  1.45it/s]\u001B[A\r\n",
      " 23%|██████████▎                                 | 7/30 [00:04<00:16,  1.36it/s]\u001B[A\r\n",
      " 27%|███████████▋                                | 8/30 [00:05<00:15,  1.39it/s]\u001B[A\r\n",
      " 30%|█████████████▏                              | 9/30 [00:06<00:15,  1.34it/s]\u001B[A\r\n",
      " 33%|██████████████▎                            | 10/30 [00:06<00:14,  1.34it/s]\u001B[A\r\n",
      " 37%|███████████████▊                           | 11/30 [00:07<00:13,  1.36it/s]\u001B[A\r\n",
      " 40%|█████████████████▏                         | 12/30 [00:08<00:13,  1.31it/s]\u001B[A\r\n",
      " 43%|██████████████████▋                        | 13/30 [00:09<00:13,  1.26it/s]\u001B[A\r\n",
      " 47%|████████████████████                       | 14/30 [00:10<00:12,  1.25it/s]\u001B[A\r\n",
      " 50%|█████████████████████▌                     | 15/30 [00:10<00:11,  1.29it/s]\u001B[A\r\n",
      " 53%|██████████████████████▉                    | 16/30 [00:11<00:10,  1.32it/s]\u001B[A\r\n",
      " 57%|████████████████████████▎                  | 17/30 [00:12<00:10,  1.27it/s]\u001B[A\r\n",
      " 60%|█████████████████████████▊                 | 18/30 [00:13<00:09,  1.27it/s]\u001B[A\r\n",
      " 63%|███████████████████████████▏               | 19/30 [00:14<00:09,  1.21it/s]\u001B[A\r\n",
      " 67%|████████████████████████████▋              | 20/30 [00:14<00:08,  1.25it/s]\u001B[A\r\n",
      " 70%|██████████████████████████████             | 21/30 [00:15<00:07,  1.23it/s]\u001B[A\r\n",
      " 73%|███████████████████████████████▌           | 22/30 [00:16<00:06,  1.21it/s]\u001B[A\r\n",
      " 77%|████████████████████████████████▉          | 23/30 [00:17<00:05,  1.19it/s]\u001B[A\r\n",
      " 80%|██████████████████████████████████▍        | 24/30 [00:18<00:04,  1.23it/s]\u001B[A\r\n",
      " 83%|███████████████████████████████████▊       | 25/30 [00:18<00:03,  1.28it/s]\u001B[A\r\n",
      " 87%|█████████████████████████████████████▎     | 26/30 [00:19<00:03,  1.29it/s]\u001B[A\r\n",
      " 90%|██████████████████████████████████████▋    | 27/30 [00:20<00:02,  1.29it/s]\u001B[A\r\n",
      " 93%|████████████████████████████████████████▏  | 28/30 [00:21<00:01,  1.32it/s]\u001B[A\r\n",
      " 97%|█████████████████████████████████████████▌ | 29/30 [00:21<00:00,  1.40it/s]\u001B[A\r\n",
      "                                                                                \u001B[A\r\n",
      "\u001B[A{'eval_loss': 0.6573609709739685, 'eval_accuracy': 0.6680628272251309, 'eval_precision': 0.6737885234210572, 'eval_recall': 0.6680628272251309, 'eval_f1': 0.6674094054427422, 'eval_runtime': 23.3133, 'eval_samples_per_second': 81.927, 'eval_steps_per_second': 1.287, 'epoch': 4.89}\r\n",
      "100%|█████████████████████████████████████████| 110/110 [23:47<00:00, 11.03s/it]\r\n",
      "100%|███████████████████████████████████████████| 30/30 [00:22<00:00,  1.37it/s]\u001B[A\r\n",
      "{'train_runtime': 1427.5349, 'train_samples_per_second': 20.049, 'train_steps_per_second': 0.077, 'train_loss': 0.560747463052923, 'epoch': 4.89}\r\n",
      "100%|█████████████████████████████████████████| 110/110 [23:47<00:00, 12.98s/it]\r\n"
     ]
    }
   ],
   "source": [
    "!python ../../../peft_train.py \\\n",
    "--model_name ../../../pretrain_models/bert-base-cased \\\n",
    "--max_seq_len 2048 \\\n",
    "--group_by_length \\\n",
    "--max_steps 200 \\\n",
    "--dataset_name ../../../text-classification/tweet_eval_irony \\\n",
    "--num_labels 2 \\\n",
    "--epochs 5 \\\n",
    "--learning_rate 1e-3 \\\n",
    "--per_device_train_batch_size 64 \\\n",
    "--per_device_eval_batch_size 64 \\\n",
    "--model_type SEQ_CLS \\\n",
    "--output_model_path ./result/fbert-base-cased-tweet_eval_irony-lora \\\n",
    "--bnb_4bit_compute_dtype float32 \\\n",
    "--use_4b False\n"
   ],
   "metadata": {
    "collapsed": false,
    "ExecuteTime": {
     "end_time": "2023-12-10T14:35:25.235451Z",
     "start_time": "2023-12-10T14:11:32.698656Z"
    }
   }
  },
  {
   "cell_type": "markdown",
   "source": [
    "### 1.2.2 Run code on GPU version\n",
    "Load the model together with the adapter with few lines of code! Check the snippet below to load the adapter from the Hub and run the example evaluation."
   ],
   "metadata": {
    "collapsed": false
   }
  },
  {
   "cell_type": "code",
   "execution_count": null,
   "outputs": [],
   "source": [
    "!pip install -q -U trl transformers accelerate git+https://github.com/huggingface/peft.git\n",
    "!pip install -q datasets bitsandbytes einops wandb evaluate\n",
    "from google.colab import drive\n",
    "drive.mount('/content/drive')\n",
    "%cd /content/drive/MyDrive/Colab Notebooks/llms-peft-cook-colab/experiments/bert-base-cased-lora/tweet_eval_irony"
   ],
   "metadata": {
    "collapsed": false
   }
  },
  {
   "cell_type": "code",
   "execution_count": null,
   "outputs": [],
   "source": [
    "import os\n",
    "os.environ[\"CUDA_VISIBLE_DEVICES\"] = \"0\"\n",
    "!python ../../../peft_train.py \\\n",
    "--model_name bert-base-cased \\\n",
    "--max_seq_len 2048 \\\n",
    "--group_by_length \\\n",
    "--max_steps 200 \\\n",
    "--dataset_name ../../../text-classification/tweet_eval_irony \\\n",
    "--num_labels 2 \\\n",
    "--epochs 5 \\\n",
    "--learning_rate 1e-3 \\\n",
    "--per_device_train_batch_size 64 \\\n",
    "--per_device_eval_batch_size 64 \\\n",
    "--model_type SEQ_CLS \\\n",
    "--output_model_path ./result/bert-base-cased-tweet_eval_irony-lora \\\n",
    "--bnb_4bit_compute_dtype float16 \\\n",
    "--load_in_8bit \\\n",
    "--use_4b"
   ],
   "metadata": {
    "collapsed": false,
    "is_executing": true
   }
  },
  {
   "cell_type": "markdown",
   "source": [
    "# Load your adapter from the Hub"
   ],
   "metadata": {
    "collapsed": false
   }
  },
  {
   "cell_type": "code",
   "execution_count": 7,
   "outputs": [],
   "source": [
    "import torch\n",
    "from peft import PeftModel, PeftConfig\n",
    "from transformers import AutoModelForSeq2SeqLM, AutoTokenizer\n",
    "\n",
    "peft_model_id = \"./result/flan-t5-cup-lora\"\n",
    "base_model_name_or_path = '.../../../pretrain_models/google-flan-t5-small'\n",
    "config = PeftConfig.from_pretrained(peft_model_id)\n",
    "\n",
    "# model = AutoModelForSeq2SeqLM.from_pretrained(config.base_model_name_or_path, torch_dtype=\"auto\", device_map=\"auto\")\n",
    "model = AutoModelForSeq2SeqLM.from_pretrained(config.base_model_name_or_path, torch_dtype=\"auto\", device_map=\"cpu\")\n",
    "tokenizer = AutoTokenizer.from_pretrained(config.base_model_name_or_path)\n",
    "\n",
    "# Load the Lora model\n",
    "model = PeftModel.from_pretrained(model, peft_model_id)"
   ],
   "metadata": {
    "collapsed": false,
    "ExecuteTime": {
     "end_time": "2023-12-02T16:37:01.962850Z",
     "start_time": "2023-12-02T16:37:01.696535Z"
    }
   }
  },
  {
   "cell_type": "code",
   "execution_count": 9,
   "outputs": [
    {
     "name": "stdout",
     "output_type": "stream",
     "text": [
      "input sentence:  In January-September 2009 , the Group 's net interest income increased to EUR 112.4 mn from EUR 74.3 mn in January-September 2008 .\n",
      " output prediction:  ['positive positive positive positive positive positive positive positive positive positive']\n"
     ]
    }
   ],
   "source": [
    "model.eval()\n",
    "input_text = \"In January-September 2009 , the Group 's net interest income increased to EUR 112.4 mn from EUR 74.3 mn in January-September 2008 .\"\n",
    "inputs = tokenizer(input_text, return_tensors=\"pt\")\n",
    "\n",
    "outputs = model.generate(input_ids=inputs[\"input_ids\"], max_new_tokens=10)\n",
    "\n",
    "print(\"input sentence: \", input_text)\n",
    "print(\" output prediction: \", tokenizer.batch_decode(outputs.detach().cpu().numpy(), skip_special_tokens=True))"
   ],
   "metadata": {
    "collapsed": false,
    "ExecuteTime": {
     "end_time": "2023-12-02T16:40:55.202266Z",
     "start_time": "2023-12-02T16:40:55.100686Z"
    }
   }
  },
  {
   "cell_type": "code",
   "execution_count": 8,
   "outputs": [
    {
     "name": "stdout",
     "output_type": "stream",
     "text": [
      "input sentence:  In January-September 2009 , the Group 's net interest income increased to EUR 112.4 mn from EUR 74.3 mn in January-September 2008 .\n",
      " output prediction:  ['positive positive positive positive positive positive positive positive positive positive']\n"
     ]
    }
   ],
   "source": [
    "model.eval()\n",
    "input_text = \"In January-September 2009 , the Group 's net interest income increased to EUR 112.4 mn from EUR 74.3 mn in January-September 2008 .\"\n",
    "inputs = tokenizer(input_text, return_tensors=\"pt\")\n",
    "\n",
    "outputs = model.generate(input_ids=inputs[\"input_ids\"], max_new_tokens=10)\n",
    "\n",
    "print(\"input sentence: \", input_text)\n",
    "print(\" output prediction: \", tokenizer.batch_decode(outputs.detach().cpu().numpy(), skip_special_tokens=True))"
   ],
   "metadata": {
    "collapsed": false,
    "ExecuteTime": {
     "end_time": "2023-12-02T16:37:04.919570Z",
     "start_time": "2023-12-02T16:37:04.379496Z"
    }
   }
  },
  {
   "cell_type": "markdown",
   "source": [
    "## 1.3 Experimental Result"
   ],
   "metadata": {
    "collapsed": false
   }
  },
  {
   "cell_type": "code",
   "execution_count": null,
   "outputs": [],
   "source": [
    "class HTMLRender:\n",
    "    def __init__(self,html_str):\n",
    "        self.html_str =html_str\n",
    "    def _repr_html_(self):\n",
    "       return self.html_str\n"
   ],
   "metadata": {
    "collapsed": false,
    "is_executing": true
   }
  },
  {
   "cell_type": "code",
   "execution_count": null,
   "outputs": [],
   "source": [
    "model_accurcy_html = '''\n",
    "<table>\n",
    "  <tr>\n",
    "    <th>eval loss</th>\n",
    "    <th>eval accuracy</th>\n",
    "    <th>eval precision</th>\n",
    "    <th>eval recall</th>\n",
    "    <th>eval f1</th>\n",
    "  </tr>\n",
    "  <tr>\n",
    "    <td style=\"background-color:#4C72B0;\">0.102</td>\n",
    "    <td style=\"background-color:#55A868;\">0.896</td>\n",
    "    <td style=\"background-color:#C44E52;\">0.90</td>\n",
    "     <td style=\"background-color:#8172B2;\">0.896</td>\n",
    "    <td style=\"background-color:#64B5CD;\">0.894</td>\n",
    "  </tr>\n",
    "\n",
    "</table>\n",
    "\n",
    "       '''\n",
    "HTMLRender(model_accurcy_html)"
   ],
   "metadata": {
    "collapsed": false,
    "is_executing": true
   }
  },
  {
   "cell_type": "code",
   "execution_count": null,
   "outputs": [],
   "source": [
    "accuracy_html = '''\n",
    "<img src=\"./image/flan-t5-small-accuracy.png\" alt=\"flan-t5-small-accuracy\" width=\"70%\">\n",
    "'''\n",
    "HTMLRender(accuracy_html)"
   ],
   "metadata": {
    "collapsed": false,
    "is_executing": true
   }
  },
  {
   "cell_type": "code",
   "execution_count": null,
   "outputs": [],
   "source": [
    "## Load your adapter from the Hub\n"
   ],
   "metadata": {
    "collapsed": false
   }
  }
 ],
 "metadata": {
  "kernelspec": {
   "display_name": "Python 3",
   "language": "python",
   "name": "python3"
  },
  "language_info": {
   "codemirror_mode": {
    "name": "ipython",
    "version": 2
   },
   "file_extension": ".py",
   "mimetype": "text/x-python",
   "name": "python",
   "nbconvert_exporter": "python",
   "pygments_lexer": "ipython2",
   "version": "2.7.6"
  }
 },
 "nbformat": 4,
 "nbformat_minor": 0
}
