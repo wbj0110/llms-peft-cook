{
 "cells": [
  {
   "cell_type": "markdown",
   "metadata": {
    "collapsed": false
   },
   "source": [
    "Finetuning the model on financial_phrasebank dataset, that consists of pairs of text-labels to classify financial-related sentences, if they are either <span style=\"color: red;\">positive</span>, <span style=\"color: purple;\">neutral</span> or <span style=\"color: green;\">negative</span>."
   ]
  },
  {
   "cell_type": "markdown",
   "metadata": {
    "collapsed": false
   },
   "source": [
    "# 1.Experimental Setup1"
   ]
  },
  {
   "cell_type": "markdown",
   "metadata": {
    "collapsed": false
   },
   "source": [
    "## 1.1 Setup"
   ]
  },
  {
   "cell_type": "markdown",
   "metadata": {
    "collapsed": false
   },
   "source": [
    "## 1.2 Training"
   ]
  },
  {
   "cell_type": "markdown",
   "metadata": {
    "collapsed": false
   },
   "source": [
    "### 1.2.1 Run code on CPU version"
   ]
  },
  {
   "cell_type": "code",
   "execution_count": null,
   "metadata": {
    "collapsed": false,
    "is_executing": true
   },
   "outputs": [],
   "source": [
    "!pwd"
   ]
  },
  {
   "cell_type": "code",
   "execution_count": 1,
   "metadata": {
    "collapsed": false,
    "ExecuteTime": {
     "end_time": "2023-12-06T02:19:52.459861Z",
     "start_time": "2023-12-06T02:04:21.390242Z"
    }
   },
   "outputs": [
    {
     "name": "stdout",
     "output_type": "stream",
     "text": [
      "/Users/wengbenjue/opt/anaconda3/envs/peft/lib/python3.11/site-packages/bitsandbytes/cextension.py:34: UserWarning: The installed version of bitsandbytes was compiled without GPU support. 8-bit optimizers, 8-bit multiplication, and GPU quantization are unavailable.\r\n",
      "  warn(\"The installed version of bitsandbytes was compiled without GPU support. \"\r\n",
      "'NoneType' object has no attribute 'cadam32bit_grad_fp32'\r\n",
      "/Users/wengbenjue/opt/anaconda3/envs/peft/lib/python3.11/site-packages/trl/trainer/ppo_config.py:141: UserWarning: The `optimize_cuda_cache` arguement will be deprecated soon, please use `optimize_device_cache` instead.\r\n",
      "  warnings.warn(\r\n",
      "use AutoModelForSeq2SeqLM load  model.\r\n",
      "You are using the default legacy behaviour of the <class 'transformers.models.t5.tokenization_t5.T5Tokenizer'>. This is expected, and simply means that the `legacy` (previous) behavior will be used so nothing changes for you. If you want to use the new behaviour, set `legacy=False`. This should only be set if you understand what it means, and thouroughly read the reason why this was added as explained in https://github.com/huggingface/transformers/pull/24565\r\n",
      "trainable params: 7077888 || all params: 254655744 || trainable%: 2.779394601050114\r\n",
      "tokenizer padding setting: </s>\r\n",
      "Sentence: N-Viro operates processing facilities independently as well as in partnership with municipalities .\r\n",
      "number of labels:3\r\n",
      "Running tokenizer on dataset: 100%|█| 4075/4075 [00:00<00:00, 22218.71 examples/\r\n",
      "Running tokenizer on dataset: 100%|█| 453/453 [00:00<00:00, 20981.94 examples/s]\r\n",
      "  0%|                                                    | 0/80 [00:00<?, ?it/s]/Users/wengbenjue/opt/anaconda3/envs/peft/lib/python3.11/site-packages/torch/utils/checkpoint.py:429: UserWarning: torch.utils.checkpoint: please pass in use_reentrant=True or use_reentrant=False explicitly. The default value of use_reentrant will be updated to be False in the future. To maintain current behavior, pass use_reentrant=True. It is recommended that you use use_reentrant=False. Refer to docs for more details on the differences between the two variants.\r\n",
      "  warnings.warn(\r\n",
      "{'loss': 3.0625, 'learning_rate': 0.000875, 'epoch': 0.62}                      \r\n",
      " 20%|████████▌                                  | 16/80 [02:39<11:00, 10.33s/it]\r\n",
      "  0%|                                                     | 0/8 [00:00<?, ?it/s]\u001B[A\r\n",
      " 25%|███████████▎                                 | 2/8 [00:00<00:02,  2.52it/s]\u001B[A\r\n",
      " 38%|████████████████▉                            | 3/8 [00:01<00:02,  1.87it/s]\u001B[A\r\n",
      " 50%|██████████████████████▌                      | 4/8 [00:02<00:02,  1.72it/s]\u001B[A\r\n",
      " 62%|████████████████████████████▏                | 5/8 [00:02<00:01,  1.53it/s]\u001B[A\r\n",
      " 75%|█████████████████████████████████▊           | 6/8 [00:03<00:01,  1.46it/s]\u001B[A\r\n",
      " 88%|███████████████████████████████████████▍     | 7/8 [00:04<00:00,  1.50it/s]\u001B[A\r\n",
      "                                                                                \u001B[A\r\n",
      "\u001B[A{'eval_loss': 0.30915746092796326, 'eval_accuracy': 0.6269315673289183, 'eval_precision': 0.7885832690041849, 'eval_recall': 0.6269315673289183, 'eval_f1': 0.6363881243848131, 'eval_runtime': 8.1286, 'eval_samples_per_second': 55.729, 'eval_steps_per_second': 0.984, 'epoch': 1.0}\r\n",
      " 20%|████████▌                                  | 16/80 [02:47<11:00, 10.33s/it]\r\n",
      "100%|█████████████████████████████████████████████| 8/8 [00:07<00:00,  1.46s/it]\u001B[A\r\n",
      "                                                                                \u001B[A/Users/wengbenjue/opt/anaconda3/envs/peft/lib/python3.11/site-packages/torch/utils/checkpoint.py:429: UserWarning: torch.utils.checkpoint: please pass in use_reentrant=True or use_reentrant=False explicitly. The default value of use_reentrant will be updated to be False in the future. To maintain current behavior, pass use_reentrant=True. It is recommended that you use use_reentrant=False. Refer to docs for more details on the differences between the two variants.\r\n",
      "  warnings.warn(\r\n",
      "{'loss': 0.8815, 'learning_rate': 0.00075, 'epoch': 1.25}                       \r\n",
      "{'loss': 0.2084, 'learning_rate': 0.000625, 'epoch': 1.88}                      \r\n",
      " 40%|█████████████████▏                         | 32/80 [05:29<09:19, 11.66s/it]\r\n",
      "  0%|                                                     | 0/8 [00:00<?, ?it/s]\u001B[A\r\n",
      " 25%|███████████▎                                 | 2/8 [00:00<00:02,  2.11it/s]\u001B[A\r\n",
      " 38%|████████████████▉                            | 3/8 [00:01<00:03,  1.52it/s]\u001B[A\r\n",
      " 50%|██████████████████████▌                      | 4/8 [00:02<00:02,  1.37it/s]\u001B[A\r\n",
      " 62%|████████████████████████████▏                | 5/8 [00:03<00:02,  1.29it/s]\u001B[A\r\n",
      " 75%|█████████████████████████████████▊           | 6/8 [00:04<00:01,  1.22it/s]\u001B[A\r\n",
      " 88%|███████████████████████████████████████▍     | 7/8 [00:05<00:00,  1.21it/s]\u001B[A\r\n",
      "                                                                                \u001B[A\r\n",
      "\u001B[A{'eval_loss': 0.10317075997591019, 'eval_accuracy': 0.8719646799116998, 'eval_precision': 0.8722841208300025, 'eval_recall': 0.8719646799116998, 'eval_f1': 0.8718341692957022, 'eval_runtime': 6.3845, 'eval_samples_per_second': 70.953, 'eval_steps_per_second': 1.253, 'epoch': 2.0}\r\n",
      " 40%|█████████████████▏                         | 32/80 [05:36<09:19, 11.66s/it]\r\n",
      "100%|█████████████████████████████████████████████| 8/8 [00:05<00:00,  1.60it/s]\u001B[A\r\n",
      "                                                                                \u001B[A/Users/wengbenjue/opt/anaconda3/envs/peft/lib/python3.11/site-packages/torch/utils/checkpoint.py:429: UserWarning: torch.utils.checkpoint: please pass in use_reentrant=True or use_reentrant=False explicitly. The default value of use_reentrant will be updated to be False in the future. To maintain current behavior, pass use_reentrant=True. It is recommended that you use use_reentrant=False. Refer to docs for more details on the differences between the two variants.\r\n",
      "  warnings.warn(\r\n",
      "{'loss': 0.1583, 'learning_rate': 0.0005, 'epoch': 2.5}                         \r\n",
      " 60%|█████████████████████████▊                 | 48/80 [08:56<06:14, 11.71s/it]\r\n",
      "  0%|                                                     | 0/8 [00:00<?, ?it/s]\u001B[A\r\n",
      " 25%|███████████▎                                 | 2/8 [00:00<00:02,  2.48it/s]\u001B[A\r\n",
      " 38%|████████████████▉                            | 3/8 [00:01<00:02,  1.95it/s]\u001B[A\r\n",
      " 50%|██████████████████████▌                      | 4/8 [00:02<00:02,  1.57it/s]\u001B[A\r\n",
      " 62%|████████████████████████████▏                | 5/8 [00:03<00:02,  1.41it/s]\u001B[A\r\n",
      " 75%|█████████████████████████████████▊           | 6/8 [00:03<00:01,  1.36it/s]\u001B[A\r\n",
      " 88%|███████████████████████████████████████▍     | 7/8 [00:04<00:00,  1.40it/s]\u001B[A\r\n",
      "                                                                                \u001B[A\r\n",
      "\u001B[A{'eval_loss': 0.08957492560148239, 'eval_accuracy': 0.8962472406181016, 'eval_precision': 0.8960030591819276, 'eval_recall': 0.8962472406181016, 'eval_f1': 0.8940370524127266, 'eval_runtime': 5.636, 'eval_samples_per_second': 80.376, 'eval_steps_per_second': 1.419, 'epoch': 3.0}\r\n",
      " 60%|█████████████████████████▊                 | 48/80 [09:02<06:14, 11.71s/it]\r\n",
      "100%|█████████████████████████████████████████████| 8/8 [00:04<00:00,  1.87it/s]\u001B[A\r\n",
      "                                                                                \u001B[A/Users/wengbenjue/opt/anaconda3/envs/peft/lib/python3.11/site-packages/torch/utils/checkpoint.py:429: UserWarning: torch.utils.checkpoint: please pass in use_reentrant=True or use_reentrant=False explicitly. The default value of use_reentrant will be updated to be False in the future. To maintain current behavior, pass use_reentrant=True. It is recommended that you use use_reentrant=False. Refer to docs for more details on the differences between the two variants.\r\n",
      "  warnings.warn(\r\n",
      "{'loss': 0.1263, 'learning_rate': 0.000375, 'epoch': 3.12}                      \r\n",
      "{'loss': 0.104, 'learning_rate': 0.00025, 'epoch': 3.75}                        \r\n",
      " 80%|██████████████████████████████████▍        | 64/80 [12:04<02:57, 11.11s/it]\r\n",
      "  0%|                                                     | 0/8 [00:00<?, ?it/s]\u001B[A\r\n",
      " 25%|███████████▎                                 | 2/8 [00:00<00:02,  2.55it/s]\u001B[A\r\n",
      " 38%|████████████████▉                            | 3/8 [00:01<00:02,  1.84it/s]\u001B[A\r\n",
      " 50%|██████████████████████▌                      | 4/8 [00:02<00:02,  1.51it/s]\u001B[A\r\n",
      " 62%|████████████████████████████▏                | 5/8 [00:03<00:02,  1.37it/s]\u001B[A\r\n",
      " 75%|█████████████████████████████████▊           | 6/8 [00:03<00:01,  1.40it/s]\u001B[A\r\n",
      " 88%|███████████████████████████████████████▍     | 7/8 [00:04<00:00,  1.35it/s]\u001B[A\r\n",
      "                                                                                \u001B[A\r\n",
      "\u001B[A{'eval_loss': 0.07190418243408203, 'eval_accuracy': 0.9050772626931567, 'eval_precision': 0.9042561000166831, 'eval_recall': 0.9050772626931567, 'eval_f1': 0.9039388717694778, 'eval_runtime': 5.783, 'eval_samples_per_second': 78.333, 'eval_steps_per_second': 1.383, 'epoch': 4.0}\r\n",
      " 80%|██████████████████████████████████▍        | 64/80 [12:09<02:57, 11.11s/it]\r\n",
      "100%|█████████████████████████████████████████████| 8/8 [00:04<00:00,  1.78it/s]\u001B[A\r\n",
      "                                                                                \u001B[A/Users/wengbenjue/opt/anaconda3/envs/peft/lib/python3.11/site-packages/torch/utils/checkpoint.py:429: UserWarning: torch.utils.checkpoint: please pass in use_reentrant=True or use_reentrant=False explicitly. The default value of use_reentrant will be updated to be False in the future. To maintain current behavior, pass use_reentrant=True. It is recommended that you use use_reentrant=False. Refer to docs for more details on the differences between the two variants.\r\n",
      "  warnings.warn(\r\n",
      "{'loss': 0.0902, 'learning_rate': 0.000125, 'epoch': 4.38}                      \r\n",
      "{'loss': 0.1014, 'learning_rate': 0.0, 'epoch': 5.0}                            \r\n",
      "100%|███████████████████████████████████████████| 80/80 [15:19<00:00, 11.91s/it]\r\n",
      "  0%|                                                     | 0/8 [00:00<?, ?it/s]\u001B[A\r\n",
      " 25%|███████████▎                                 | 2/8 [00:00<00:02,  2.32it/s]\u001B[A\r\n",
      " 38%|████████████████▉                            | 3/8 [00:01<00:02,  1.87it/s]\u001B[A\r\n",
      " 50%|██████████████████████▌                      | 4/8 [00:02<00:02,  1.50it/s]\u001B[A\r\n",
      " 62%|████████████████████████████▏                | 5/8 [00:03<00:02,  1.37it/s]\u001B[A\r\n",
      " 75%|█████████████████████████████████▊           | 6/8 [00:04<00:01,  1.33it/s]\u001B[A\r\n",
      " 88%|███████████████████████████████████████▍     | 7/8 [00:04<00:00,  1.34it/s]\u001B[A\r\n",
      "                                                                                \u001B[A\r\n",
      "\u001B[A{'eval_loss': 0.06833896785974503, 'eval_accuracy': 0.9183222958057395, 'eval_precision': 0.9180408817395526, 'eval_recall': 0.9183222958057395, 'eval_f1': 0.9171346320178666, 'eval_runtime': 5.8126, 'eval_samples_per_second': 77.934, 'eval_steps_per_second': 1.376, 'epoch': 5.0}\r\n",
      "100%|███████████████████████████████████████████| 80/80 [15:25<00:00, 11.91s/it]\r\n",
      "100%|█████████████████████████████████████████████| 8/8 [00:05<00:00,  1.76it/s]\u001B[A\r\n",
      "{'train_runtime': 925.7545, 'train_samples_per_second': 22.009, 'train_steps_per_second': 0.086, 'train_loss': 0.5915892839431762, 'epoch': 5.0}\r\n",
      "100%|███████████████████████████████████████████| 80/80 [15:25<00:00, 11.57s/it]\r\n"
     ]
    }
   ],
   "source": [
    "!python ../../../peft_train.py \\\n",
    "--model_name ../../../pretrain_models/flan-t5-base \\\n",
    "--max_seq_len 2048 \\\n",
    "--group_by_length \\\n",
    "--max_steps 200 \\\n",
    "--dataset_name ../../../text-classification/financial_phrasebank \\\n",
    "--num_labels 3 \\\n",
    "--epochs 5 \\\n",
    "--learning_rate 1e-3 \\\n",
    "--per_device_train_batch_size 64 \\\n",
    "--per_device_eval_batch_size 64 \\\n",
    "--model_type SEQ_2_SEQ_LM \\\n",
    "--output_model_path ./result/flan-t5-base-financial-lora \\\n",
    "--bnb_4bit_compute_dtype float16 \\\n",
    "--enable_peft  True \\\n",
    "--load_in_8bit False \\\n",
    "--use_4b False\n"
   ]
  },
  {
   "cell_type": "markdown",
   "metadata": {
    "collapsed": false
   },
   "source": [
    "### 1.2.2 Run code on GPU version\n",
    "Load the model together with the adapter with few lines of code! Check the snippet below to load the adapter from the Hub and run the example evaluation."
   ]
  },
  {
   "cell_type": "code",
   "execution_count": null,
   "metadata": {
    "collapsed": false
   },
   "outputs": [],
   "source": [
    "!pip install -q -U trl transformers accelerate git+https://github.com/huggingface/peft.git\n",
    "!pip install -q datasets bitsandbytes einops wandb evaluate\n",
    "from google.colab import drive\n",
    "drive.mount('/content/drive')\n",
    "%cd /content/drive/MyDrive/Colab Notebooks/llms-peft-cook-colab/experiments/flan-t5-base-lora/financial_phrasebank"
   ]
  },
  {
   "cell_type": "code",
   "execution_count": null,
   "metadata": {
    "collapsed": false,
    "is_executing": true
   },
   "outputs": [],
   "source": [
    "import os\n",
    "os.environ[\"CUDA_VISIBLE_DEVICES\"] = \"0\"\n",
    "!python ../../../peft_train.py \\\n",
    "--model_name google/flan-t5-base \\\n",
    "--max_seq_len 2048 \\\n",
    "--group_by_length \\\n",
    "--max_steps 200 \\\n",
    "--dataset_name ../../../text-classification/financial_phrasebank \\\n",
    "--num_labels 3 \\\n",
    "--epochs 5 \\\n",
    "--learning_rate 1e-3 \\\n",
    "--per_device_train_batch_size 64 \\\n",
    "--per_device_eval_batch_size 64 \\\n",
    "--model_type SEQ_2_SEQ_LM \\\n",
    "--output_model_path ./result/flan-t5-base-financial-lora \\\n",
    "--bnb_4bit_compute_dtype float32 \\\n",
    "--need_hyperparameters_search False \\\n",
    "--enable_peft  True\\\n",
    "--load_in_8bit \\\n",
    "--use_4b"
   ]
  },
  {
   "cell_type": "markdown",
   "metadata": {
    "collapsed": false
   },
   "source": [
    "# Load your adapter from the Hub"
   ]
  },
  {
   "cell_type": "code",
   "execution_count": 7,
   "metadata": {
    "ExecuteTime": {
     "end_time": "2023-12-02T16:37:01.962850Z",
     "start_time": "2023-12-02T16:37:01.696535Z"
    },
    "collapsed": false
   },
   "outputs": [],
   "source": [
    "import torch\n",
    "from peft import PeftModel, PeftConfig\n",
    "from transformers import AutoModelForSeq2SeqLM, AutoTokenizer\n",
    "\n",
    "peft_model_id = \"./result/flan-t5-cup-lora\"\n",
    "base_model_name_or_path = '.../../../pretrain_models/google-flan-t5-small'\n",
    "config = PeftConfig.from_pretrained(peft_model_id)\n",
    "\n",
    "# model = AutoModelForSeq2SeqLM.from_pretrained(config.base_model_name_or_path, torch_dtype=\"auto\", device_map=\"auto\")\n",
    "model = AutoModelForSeq2SeqLM.from_pretrained(config.base_model_name_or_path, torch_dtype=\"auto\", device_map=\"cpu\")\n",
    "tokenizer = AutoTokenizer.from_pretrained(config.base_model_name_or_path)\n",
    "\n",
    "# Load the Lora model\n",
    "model = PeftModel.from_pretrained(model, peft_model_id)"
   ]
  },
  {
   "cell_type": "code",
   "execution_count": 9,
   "metadata": {
    "ExecuteTime": {
     "end_time": "2023-12-02T16:40:55.202266Z",
     "start_time": "2023-12-02T16:40:55.100686Z"
    },
    "collapsed": false
   },
   "outputs": [
    {
     "name": "stdout",
     "output_type": "stream",
     "text": [
      "input sentence:  In January-September 2009 , the Group 's net interest income increased to EUR 112.4 mn from EUR 74.3 mn in January-September 2008 .\n",
      " output prediction:  ['positive positive positive positive positive positive positive positive positive positive']\n"
     ]
    }
   ],
   "source": [
    "model.eval()\n",
    "input_text = \"In January-September 2009 , the Group 's net interest income increased to EUR 112.4 mn from EUR 74.3 mn in January-September 2008 .\"\n",
    "inputs = tokenizer(input_text, return_tensors=\"pt\")\n",
    "\n",
    "outputs = model.generate(input_ids=inputs[\"input_ids\"], max_new_tokens=10)\n",
    "\n",
    "print(\"input sentence: \", input_text)\n",
    "print(\" output prediction: \", tokenizer.batch_decode(outputs.detach().cpu().numpy(), skip_special_tokens=True))"
   ]
  },
  {
   "cell_type": "code",
   "execution_count": 8,
   "metadata": {
    "ExecuteTime": {
     "end_time": "2023-12-02T16:37:04.919570Z",
     "start_time": "2023-12-02T16:37:04.379496Z"
    },
    "collapsed": false
   },
   "outputs": [
    {
     "name": "stdout",
     "output_type": "stream",
     "text": [
      "input sentence:  In January-September 2009 , the Group 's net interest income increased to EUR 112.4 mn from EUR 74.3 mn in January-September 2008 .\n",
      " output prediction:  ['positive positive positive positive positive positive positive positive positive positive']\n"
     ]
    }
   ],
   "source": [
    "model.eval()\n",
    "input_text = \"In January-September 2009 , the Group 's net interest income increased to EUR 112.4 mn from EUR 74.3 mn in January-September 2008 .\"\n",
    "inputs = tokenizer(input_text, return_tensors=\"pt\")\n",
    "\n",
    "outputs = model.generate(input_ids=inputs[\"input_ids\"], max_new_tokens=10)\n",
    "\n",
    "print(\"input sentence: \", input_text)\n",
    "print(\" output prediction: \", tokenizer.batch_decode(outputs.detach().cpu().numpy(), skip_special_tokens=True))"
   ]
  },
  {
   "cell_type": "markdown",
   "metadata": {
    "collapsed": false
   },
   "source": [
    "## 1.3 Experimental Result"
   ]
  },
  {
   "cell_type": "code",
   "execution_count": null,
   "metadata": {
    "collapsed": false,
    "is_executing": true
   },
   "outputs": [],
   "source": [
    "class HTMLRender:\n",
    "    def __init__(self,html_str):\n",
    "        self.html_str =html_str\n",
    "    def _repr_html_(self):\n",
    "       return self.html_str\n"
   ]
  },
  {
   "cell_type": "code",
   "execution_count": null,
   "metadata": {
    "collapsed": false,
    "is_executing": true
   },
   "outputs": [],
   "source": [
    "model_accurcy_html = '''\n",
    "<table>\n",
    "  <tr>\n",
    "    <th>eval loss</th>\n",
    "    <th>eval accuracy</th>\n",
    "    <th>eval precision</th>\n",
    "    <th>eval recall</th>\n",
    "    <th>eval f1</th>\n",
    "  </tr>\n",
    "  <tr>\n",
    "    <td style=\"background-color:#4C72B0;\">0.102</td>\n",
    "    <td style=\"background-color:#55A868;\">0.896</td>\n",
    "    <td style=\"background-color:#C44E52;\">0.90</td>\n",
    "     <td style=\"background-color:#8172B2;\">0.896</td>\n",
    "    <td style=\"background-color:#64B5CD;\">0.894</td>\n",
    "  </tr>\n",
    "\n",
    "</table>\n",
    "\n",
    "       '''\n",
    "HTMLRender(model_accurcy_html)"
   ]
  },
  {
   "cell_type": "code",
   "execution_count": null,
   "metadata": {
    "collapsed": false,
    "is_executing": true
   },
   "outputs": [],
   "source": [
    "accuracy_html = '''\n",
    "<img src=\"./image/flan-t5-small-accuracy.png\" alt=\"flan-t5-small-accuracy\" width=\"70%\">\n",
    "'''\n",
    "HTMLRender(accuracy_html)"
   ]
  },
  {
   "cell_type": "code",
   "execution_count": null,
   "metadata": {
    "collapsed": false
   },
   "outputs": [],
   "source": [
    "## Load your adapter from the Hub\n"
   ]
  }
 ],
 "metadata": {
  "kernelspec": {
   "display_name": "Python 3",
   "language": "python",
   "name": "python3"
  },
  "language_info": {
   "codemirror_mode": {
    "name": "ipython",
    "version": 3
   },
   "file_extension": ".py",
   "mimetype": "text/x-python",
   "name": "python",
   "nbconvert_exporter": "python",
   "pygments_lexer": "ipython3",
   "version": "3.11.5"
  }
 },
 "nbformat": 4,
 "nbformat_minor": 0
}
