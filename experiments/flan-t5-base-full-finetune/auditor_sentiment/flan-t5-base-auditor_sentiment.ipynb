{
 "cells": [
  {
   "cell_type": "markdown",
   "metadata": {
    "collapsed": false
   },
   "source": [
    "Finetuning the model on financial_phrasebank dataset, that consists of pairs of text-labels to classify financial-related sentences, if they are either <span style=\"color: red;\">positive</span>, <span style=\"color: purple;\">neutral</span> or <span style=\"color: green;\">negative</span>."
   ]
  },
  {
   "cell_type": "markdown",
   "metadata": {
    "collapsed": false
   },
   "source": [
    "# 1.Experimental Setup1"
   ]
  },
  {
   "cell_type": "markdown",
   "metadata": {
    "collapsed": false
   },
   "source": [
    "## 1.1 Setup"
   ]
  },
  {
   "cell_type": "markdown",
   "metadata": {
    "collapsed": false
   },
   "source": [
    "## 1.2 Training"
   ]
  },
  {
   "cell_type": "markdown",
   "metadata": {
    "collapsed": false
   },
   "source": [
    "### 1.2.1 Run code on CPU version"
   ]
  },
  {
   "cell_type": "code",
   "execution_count": null,
   "metadata": {
    "collapsed": false,
    "is_executing": true
   },
   "outputs": [],
   "source": [
    "!pwd"
   ]
  },
  {
   "cell_type": "code",
   "execution_count": 5,
   "metadata": {
    "collapsed": false,
    "ExecuteTime": {
     "end_time": "2023-12-05T20:54:53.712021Z",
     "start_time": "2023-12-05T16:50:00.638926Z"
    }
   },
   "outputs": [
    {
     "name": "stdout",
     "output_type": "stream",
     "text": [
      "/Users/wengbenjue/opt/anaconda3/envs/peft/lib/python3.11/site-packages/bitsandbytes/cextension.py:34: UserWarning: The installed version of bitsandbytes was compiled without GPU support. 8-bit optimizers, 8-bit multiplication, and GPU quantization are unavailable.\r\n",
      "  warn(\"The installed version of bitsandbytes was compiled without GPU support. \"\r\n",
      "'NoneType' object has no attribute 'cadam32bit_grad_fp32'\r\n",
      "/Users/wengbenjue/opt/anaconda3/envs/peft/lib/python3.11/site-packages/trl/trainer/ppo_config.py:141: UserWarning: The `optimize_cuda_cache` arguement will be deprecated soon, please use `optimize_device_cache` instead.\r\n",
      "  warnings.warn(\r\n",
      "use AutoModelForSeq2SeqLM load  model.\r\n",
      "You are using the default legacy behaviour of the <class 'transformers.models.t5.tokenization_t5.T5Tokenizer'>. This is expected, and simply means that the `legacy` (previous) behavior will be used so nothing changes for you. If you want to use the new behaviour, set `legacy=False`. This should only be set if you understand what it means, and thouroughly read the reason why this was added as explained in https://github.com/huggingface/transformers/pull/24565\r\n",
      "trainable params: 247577856 || all params: 247577856 || trainable%: 100.0\r\n",
      "tokenizer padding setting: </s>\r\n",
      "auditor_sentiment原始数据集特征: {'sentence': Value(dtype='string', id=None), 'label': Value(dtype='int64', id=None)}\r\n",
      "auditor_sentiment更新后数据集特征: {'sentence': Value(dtype='string', id=None), 'label': ClassLabel(names=['0', '1', '2'], id=None)}\r\n",
      "Sentence: Altia 's operating profit jumped to EUR 47 million from EUR 6.6 million .\r\n",
      "number of labels:3\r\n",
      "Running tokenizer on dataset: 100%|█| 7754/7754 [00:00<00:00, 22711.37 examples/\r\n",
      "Running tokenizer on dataset: 100%|█| 1938/1938 [00:00<00:00, 23047.65 examples/\r\n",
      "  0%|                                                   | 0/150 [00:00<?, ?it/s]/Users/wengbenjue/opt/anaconda3/envs/peft/lib/python3.11/site-packages/torch/utils/checkpoint.py:429: UserWarning: torch.utils.checkpoint: please pass in use_reentrant=True or use_reentrant=False explicitly. The default value of use_reentrant will be updated to be False in the future. To maintain current behavior, pass use_reentrant=True. It is recommended that you use use_reentrant=False. Refer to docs for more details on the differences between the two variants.\r\n",
      "  warnings.warn(\r\n",
      "{'loss': 0.6155, 'learning_rate': 0.0009333333333333333, 'epoch': 0.33}         \r\n",
      "{'loss': 0.188, 'learning_rate': 0.0008666666666666667, 'epoch': 0.66}          \r\n",
      "{'loss': 0.1201, 'learning_rate': 0.0008, 'epoch': 0.98}                        \r\n",
      " 20%|████████▍                                 | 30/150 [07:30<31:27, 15.73s/it]\r\n",
      "  0%|                                                    | 0/31 [00:00<?, ?it/s]\u001B[A\r\n",
      "  6%|██▊                                         | 2/31 [00:01<00:15,  1.84it/s]\u001B[A\r\n",
      " 10%|████▎                                       | 3/31 [00:02<00:20,  1.37it/s]\u001B[A\r\n",
      " 13%|█████▋                                      | 4/31 [00:03<00:21,  1.23it/s]\u001B[A\r\n",
      " 16%|███████                                     | 5/31 [00:03<00:22,  1.18it/s]\u001B[A\r\n",
      " 19%|████████▌                                   | 6/31 [00:04<00:22,  1.12it/s]\u001B[A\r\n",
      " 23%|█████████▉                                  | 7/31 [00:05<00:21,  1.10it/s]\u001B[A\r\n",
      " 26%|███████████▎                                | 8/31 [00:06<00:21,  1.08it/s]\u001B[A\r\n",
      " 29%|████████████▊                               | 9/31 [00:07<00:20,  1.06it/s]\u001B[A\r\n",
      " 32%|█████████████▊                             | 10/31 [00:08<00:19,  1.09it/s]\u001B[A\r\n",
      " 35%|███████████████▎                           | 11/31 [00:09<00:18,  1.08it/s]\u001B[A\r\n",
      " 39%|████████████████▋                          | 12/31 [00:10<00:17,  1.07it/s]\u001B[A\r\n",
      " 42%|██████████████████                         | 13/31 [00:11<00:17,  1.05it/s]\u001B[A\r\n",
      " 45%|███████████████████▍                       | 14/31 [00:12<00:16,  1.04it/s]\u001B[A\r\n",
      " 48%|████████████████████▊                      | 15/31 [00:13<00:15,  1.04it/s]\u001B[A\r\n",
      " 52%|██████████████████████▏                    | 16/31 [00:14<00:14,  1.02it/s]\u001B[A\r\n",
      " 55%|███████████████████████▌                   | 17/31 [00:15<00:13,  1.03it/s]\u001B[A\r\n",
      " 58%|████████████████████████▉                  | 18/31 [00:16<00:12,  1.04it/s]\u001B[A\r\n",
      " 61%|██████████████████████████▎                | 19/31 [00:17<00:11,  1.03it/s]\u001B[A\r\n",
      " 65%|███████████████████████████▋               | 20/31 [00:18<00:10,  1.04it/s]\u001B[A\r\n",
      " 68%|█████████████████████████████▏             | 21/31 [00:19<00:09,  1.06it/s]\u001B[A\r\n",
      " 71%|██████████████████████████████▌            | 22/31 [00:20<00:08,  1.07it/s]\u001B[A\r\n",
      " 74%|███████████████████████████████▉           | 23/31 [00:21<00:07,  1.05it/s]\u001B[A\r\n",
      " 77%|█████████████████████████████████▎         | 24/31 [00:22<00:06,  1.04it/s]\u001B[A\r\n",
      " 81%|██████████████████████████████████▋        | 25/31 [00:23<00:05,  1.03it/s]\u001B[A\r\n",
      " 84%|████████████████████████████████████       | 26/31 [00:24<00:05,  1.03s/it]\u001B[A\r\n",
      " 87%|█████████████████████████████████████▍     | 27/31 [00:25<00:04,  1.05s/it]\u001B[A\r\n",
      " 90%|██████████████████████████████████████▊    | 28/31 [00:26<00:03,  1.10s/it]\u001B[A\r\n",
      " 94%|████████████████████████████████████████▏  | 29/31 [00:27<00:02,  1.12s/it]\u001B[A\r\n",
      " 97%|█████████████████████████████████████████▌ | 30/31 [00:29<00:01,  1.32s/it]\u001B[A\r\n",
      "                                                                                \u001B[A\r\n",
      "\u001B[A{'eval_loss': 0.10961522907018661, 'eval_accuracy': 0.8828911253430924, 'eval_precision': 0.8841004206910377, 'eval_recall': 0.8828911253430924, 'eval_f1': 0.8831170186060786, 'eval_runtime': 37.0388, 'eval_samples_per_second': 52.323, 'eval_steps_per_second': 0.837, 'epoch': 0.98}\r\n",
      " 20%|████████▍                                 | 30/150 [08:15<31:27, 15.73s/it]\r\n",
      "100%|███████████████████████████████████████████| 31/31 [00:36<00:00,  2.58s/it]\u001B[A\r\n",
      "                                                                                \u001B[A/Users/wengbenjue/opt/anaconda3/envs/peft/lib/python3.11/site-packages/torch/utils/checkpoint.py:429: UserWarning: torch.utils.checkpoint: please pass in use_reentrant=True or use_reentrant=False explicitly. The default value of use_reentrant will be updated to be False in the future. To maintain current behavior, pass use_reentrant=True. It is recommended that you use use_reentrant=False. Refer to docs for more details on the differences between the two variants.\r\n",
      "  warnings.warn(\r\n",
      "{'loss': 0.0821, 'learning_rate': 0.0007333333333333333, 'epoch': 1.31}         \r\n",
      "{'loss': 0.0596, 'learning_rate': 0.0006666666666666666, 'epoch': 1.64}         \r\n",
      "{'loss': 0.0542, 'learning_rate': 0.0006, 'epoch': 1.97}                        \r\n",
      " 41%|█████████████████                         | 61/150 [15:29<20:02, 13.51s/it]\r\n",
      "  0%|                                                    | 0/31 [00:00<?, ?it/s]\u001B[A\r\n",
      "  6%|██▊                                         | 2/31 [00:00<00:12,  2.29it/s]\u001B[A\r\n",
      " 10%|████▎                                       | 3/31 [00:01<00:16,  1.71it/s]\u001B[A\r\n",
      " 13%|█████▋                                      | 4/31 [00:02<00:18,  1.47it/s]\u001B[A\r\n",
      " 16%|███████                                     | 5/31 [00:03<00:19,  1.35it/s]\u001B[A\r\n",
      " 19%|████████▌                                   | 6/31 [00:04<00:21,  1.15it/s]\u001B[A\r\n",
      " 23%|█████████▉                                  | 7/31 [00:05<00:20,  1.17it/s]\u001B[A\r\n",
      " 26%|███████████▎                                | 8/31 [00:06<00:19,  1.20it/s]\u001B[A\r\n",
      " 29%|████████████▊                               | 9/31 [00:07<00:20,  1.08it/s]\u001B[A\r\n",
      " 32%|█████████████▊                             | 10/31 [00:08<00:18,  1.13it/s]\u001B[A\r\n",
      " 35%|███████████████▎                           | 11/31 [00:09<00:18,  1.06it/s]\u001B[A\r\n",
      " 39%|████████████████▋                          | 12/31 [00:09<00:17,  1.09it/s]\u001B[A\r\n",
      " 42%|██████████████████                         | 13/31 [00:11<00:17,  1.01it/s]\u001B[A\r\n",
      " 45%|███████████████████▍                       | 14/31 [00:12<00:17,  1.04s/it]\u001B[A\r\n",
      " 48%|████████████████████▊                      | 15/31 [00:13<00:15,  1.02it/s]\u001B[A\r\n",
      " 52%|██████████████████████▏                    | 16/31 [00:14<00:15,  1.04s/it]\u001B[A\r\n",
      " 55%|███████████████████████▌                   | 17/31 [00:15<00:14,  1.06s/it]\u001B[A\r\n",
      " 58%|████████████████████████▉                  | 18/31 [00:16<00:15,  1.19s/it]\u001B[A\r\n",
      " 61%|██████████████████████████▎                | 19/31 [00:18<00:14,  1.22s/it]\u001B[A\r\n",
      " 65%|███████████████████████████▋               | 20/31 [00:19<00:13,  1.22s/it]\u001B[A\r\n",
      " 68%|█████████████████████████████▏             | 21/31 [00:20<00:12,  1.24s/it]\u001B[A\r\n",
      " 71%|██████████████████████████████▌            | 22/31 [00:21<00:11,  1.26s/it]\u001B[A\r\n",
      " 74%|███████████████████████████████▉           | 23/31 [00:23<00:10,  1.25s/it]\u001B[A\r\n",
      " 77%|█████████████████████████████████▎         | 24/31 [00:24<00:08,  1.25s/it]\u001B[A\r\n",
      " 81%|██████████████████████████████████▋        | 25/31 [00:25<00:07,  1.26s/it]\u001B[A\r\n",
      " 84%|████████████████████████████████████       | 26/31 [00:26<00:06,  1.25s/it]\u001B[A\r\n",
      " 87%|█████████████████████████████████████▍     | 27/31 [00:28<00:05,  1.26s/it]\u001B[A\r\n",
      " 90%|██████████████████████████████████████▊    | 28/31 [00:29<00:03,  1.15s/it]\u001B[A\r\n",
      " 94%|████████████████████████████████████████▏  | 29/31 [00:30<00:02,  1.21s/it]\u001B[A\r\n",
      " 97%|█████████████████████████████████████████▌ | 30/31 [00:32<00:01,  1.30s/it]\u001B[A\r\n",
      "                                                                                \u001B[A\r\n",
      "\u001B[A{'eval_loss': 0.12637129426002502, 'eval_accuracy': 0.8810612991765783, 'eval_precision': 0.8829097016826303, 'eval_recall': 0.8810612991765783, 'eval_f1': 0.8814791549649069, 'eval_runtime': 35.2589, 'eval_samples_per_second': 54.965, 'eval_steps_per_second': 0.879, 'epoch': 2.0}\r\n",
      " 41%|█████████████████                         | 61/150 [16:04<20:02, 13.51s/it]\r\n",
      "100%|███████████████████████████████████████████| 31/31 [00:34<00:00,  1.14s/it]\u001B[A\r\n",
      "                                                                                \u001B[A/Users/wengbenjue/opt/anaconda3/envs/peft/lib/python3.11/site-packages/torch/utils/checkpoint.py:429: UserWarning: torch.utils.checkpoint: please pass in use_reentrant=True or use_reentrant=False explicitly. The default value of use_reentrant will be updated to be False in the future. To maintain current behavior, pass use_reentrant=True. It is recommended that you use use_reentrant=False. Refer to docs for more details on the differences between the two variants.\r\n",
      "  warnings.warn(\r\n",
      "{'loss': 0.0335, 'learning_rate': 0.0005333333333333334, 'epoch': 2.3}          \r\n",
      "{'loss': 0.0228, 'learning_rate': 0.00046666666666666666, 'epoch': 2.62}        \r\n",
      "{'loss': 0.0175, 'learning_rate': 0.0004, 'epoch': 2.95}                        \r\n",
      " 61%|██████████████████████▍              | 91/150 [2:11:53<4:59:10, 304.25s/it]\r\n",
      "  0%|                                                    | 0/31 [00:00<?, ?it/s]\u001B[A\r\n",
      "  6%|██▊                                         | 2/31 [00:00<00:08,  3.34it/s]\u001B[A\r\n",
      " 10%|████▎                                       | 3/31 [00:01<00:12,  2.29it/s]\u001B[A\r\n",
      " 13%|█████▋                                      | 4/31 [00:01<00:13,  1.97it/s]\u001B[A\r\n",
      " 16%|███████                                     | 5/31 [00:02<00:14,  1.86it/s]\u001B[A\r\n",
      " 19%|████████▌                                   | 6/31 [00:03<00:17,  1.47it/s]\u001B[A\r\n",
      " 23%|█████████▉                                  | 7/31 [00:04<00:15,  1.52it/s]\u001B[A\r\n",
      " 26%|███████████▎                                | 8/31 [00:04<00:15,  1.53it/s]\u001B[A\r\n",
      " 29%|████████████▊                               | 9/31 [00:06<00:19,  1.13it/s]\u001B[A\r\n",
      " 32%|█████████████▊                             | 10/31 [00:06<00:16,  1.25it/s]\u001B[A\r\n",
      " 35%|███████████████▎                           | 11/31 [00:07<00:16,  1.18it/s]\u001B[A\r\n",
      " 39%|████████████████▋                          | 12/31 [00:08<00:14,  1.28it/s]\u001B[A\r\n",
      " 42%|██████████████████                         | 13/31 [00:09<00:15,  1.14it/s]\u001B[A\r\n",
      " 45%|███████████████████▍                       | 14/31 [00:10<00:15,  1.10it/s]\u001B[A\r\n",
      " 48%|████████████████████▊                      | 15/31 [00:11<00:13,  1.20it/s]\u001B[A\r\n",
      " 52%|██████████████████████▏                    | 16/31 [00:11<00:12,  1.17it/s]\u001B[A\r\n",
      " 55%|███████████████████████▌                   | 17/31 [00:12<00:12,  1.14it/s]\u001B[A\r\n",
      " 58%|████████████████████████▉                  | 18/31 [00:13<00:12,  1.07it/s]\u001B[A\r\n",
      " 61%|██████████████████████████▎                | 19/31 [00:14<00:11,  1.07it/s]\u001B[A\r\n",
      " 65%|███████████████████████████▋               | 20/31 [00:15<00:10,  1.03it/s]\u001B[A\r\n",
      " 68%|█████████████████████████████▏             | 21/31 [00:16<00:09,  1.02it/s]\u001B[A\r\n",
      " 71%|██████████████████████████████▌            | 22/31 [00:17<00:08,  1.03it/s]\u001B[A\r\n",
      " 74%|███████████████████████████████▉           | 23/31 [00:18<00:07,  1.03it/s]\u001B[A\r\n",
      " 77%|█████████████████████████████████▎         | 24/31 [00:19<00:06,  1.01it/s]\u001B[A\r\n",
      " 81%|██████████████████████████████████▋        | 25/31 [00:20<00:05,  1.00it/s]\u001B[A\r\n",
      " 84%|████████████████████████████████████       | 26/31 [00:21<00:05,  1.01s/it]\u001B[A\r\n",
      " 87%|█████████████████████████████████████▍     | 27/31 [00:22<00:04,  1.02s/it]\u001B[A\r\n",
      " 90%|██████████████████████████████████████▊    | 28/31 [00:24<00:03,  1.04s/it]\u001B[A\r\n",
      " 94%|████████████████████████████████████████▏  | 29/31 [00:25<00:02,  1.06s/it]\u001B[A\r\n",
      " 97%|█████████████████████████████████████████▌ | 30/31 [00:26<00:01,  1.07s/it]\u001B[A\r\n",
      "                                                                                \u001B[A\r\n",
      "\u001B[A{'eval_loss': 0.23128768801689148, 'eval_accuracy': 0.8645928636779506, 'eval_precision': 0.8686022753225159, 'eval_recall': 0.8645928636779506, 'eval_f1': 0.8656436392850144, 'eval_runtime': 28.8089, 'eval_samples_per_second': 67.271, 'eval_steps_per_second': 1.076, 'epoch': 2.98}\r\n",
      " 61%|██████████████████████▍              | 91/150 [2:12:26<4:59:10, 304.25s/it]\r\n",
      "100%|███████████████████████████████████████████| 31/31 [00:28<00:00,  1.04it/s]\u001B[A\r\n",
      "                                                                                \u001B[A/Users/wengbenjue/opt/anaconda3/envs/peft/lib/python3.11/site-packages/torch/utils/checkpoint.py:429: UserWarning: torch.utils.checkpoint: please pass in use_reentrant=True or use_reentrant=False explicitly. The default value of use_reentrant will be updated to be False in the future. To maintain current behavior, pass use_reentrant=True. It is recommended that you use use_reentrant=False. Refer to docs for more details on the differences between the two variants.\r\n",
      "  warnings.warn(\r\n",
      "{'loss': 0.0151, 'learning_rate': 0.0003333333333333333, 'epoch': 3.28}         \r\n",
      " 67%|████████████████████████            | 100/150 [2:45:35<2:34:05, 184.90s/it]/Users/wengbenjue/opt/anaconda3/envs/peft/lib/python3.11/site-packages/torch/utils/checkpoint.py:429: UserWarning: torch.utils.checkpoint: please pass in use_reentrant=True or use_reentrant=False explicitly. The default value of use_reentrant will be updated to be False in the future. To maintain current behavior, pass use_reentrant=True. It is recommended that you use use_reentrant=False. Refer to docs for more details on the differences between the two variants.\r\n",
      "  warnings.warn(\r\n",
      "{'loss': 0.0145, 'learning_rate': 0.0002666666666666667, 'epoch': 3.61}         \r\n",
      "{'loss': 0.0134, 'learning_rate': 0.0002, 'epoch': 3.93}                        \r\n",
      " 81%|███████████████████████████████▋       | 122/150 [3:31:05<27:24, 58.74s/it]\r\n",
      "  0%|                                                    | 0/31 [00:00<?, ?it/s]\u001B[A\r\n",
      "  6%|██▊                                         | 2/31 [00:00<00:04,  6.60it/s]\u001B[A\r\n",
      " 10%|████▎                                       | 3/31 [00:00<00:06,  4.64it/s]\u001B[A\r\n",
      " 13%|█████▋                                      | 4/31 [00:00<00:06,  4.02it/s]\u001B[A\r\n",
      " 16%|███████                                     | 5/31 [00:01<00:06,  3.73it/s]\u001B[A\r\n",
      " 19%|████████▌                                   | 6/31 [00:01<00:10,  2.47it/s]\u001B[A\r\n",
      " 23%|█████████▉                                  | 7/31 [00:02<00:08,  2.69it/s]\u001B[A\r\n",
      " 26%|███████████▎                                | 8/31 [00:02<00:08,  2.86it/s]\u001B[A\r\n",
      " 29%|████████████▊                               | 9/31 [00:02<00:08,  2.71it/s]\u001B[A\r\n",
      " 32%|█████████████▊                             | 10/31 [00:03<00:07,  2.87it/s]\u001B[A\r\n",
      " 35%|███████████████▎                           | 11/31 [00:03<00:07,  2.50it/s]\u001B[A\r\n",
      " 39%|████████████████▋                          | 12/31 [00:04<00:07,  2.70it/s]\u001B[A\r\n",
      " 42%|██████████████████                         | 13/31 [00:04<00:07,  2.31it/s]\u001B[A\r\n",
      " 45%|███████████████████▍                       | 14/31 [00:05<00:08,  2.05it/s]\u001B[A\r\n",
      " 48%|████████████████████▊                      | 15/31 [00:05<00:06,  2.32it/s]\u001B[A\r\n",
      " 52%|██████████████████████▏                    | 16/31 [00:06<00:06,  2.18it/s]\u001B[A\r\n",
      " 55%|███████████████████████▌                   | 17/31 [00:06<00:06,  2.06it/s]\u001B[A\r\n",
      " 58%|████████████████████████▉                  | 18/31 [00:06<00:05,  2.19it/s]\u001B[A\r\n",
      " 61%|██████████████████████████▎                | 19/31 [00:07<00:05,  2.38it/s]\u001B[A\r\n",
      " 65%|███████████████████████████▋               | 20/31 [00:07<00:04,  2.42it/s]\u001B[A\r\n",
      " 68%|█████████████████████████████▏             | 21/31 [00:08<00:04,  2.50it/s]\u001B[A\r\n",
      " 71%|██████████████████████████████▌            | 22/31 [00:08<00:03,  2.60it/s]\u001B[A\r\n",
      " 74%|███████████████████████████████▉           | 23/31 [00:08<00:03,  2.38it/s]\u001B[A\r\n",
      " 77%|█████████████████████████████████▎         | 24/31 [00:09<00:02,  2.38it/s]\u001B[A\r\n",
      " 81%|██████████████████████████████████▋        | 25/31 [00:10<00:03,  1.99it/s]\u001B[A\r\n",
      " 84%|████████████████████████████████████       | 26/31 [00:10<00:02,  1.79it/s]\u001B[A\r\n",
      " 87%|█████████████████████████████████████▍     | 27/31 [00:11<00:02,  1.67it/s]\u001B[A\r\n",
      " 90%|██████████████████████████████████████▊    | 28/31 [00:12<00:01,  1.57it/s]\u001B[A\r\n",
      " 94%|████████████████████████████████████████▏  | 29/31 [00:12<00:01,  1.50it/s]\u001B[A\r\n",
      " 97%|█████████████████████████████████████████▌ | 30/31 [00:13<00:00,  1.42it/s]\u001B[A\r\n",
      "                                                                                \u001B[A\r\n",
      "\u001B[A{'eval_loss': 0.2191162407398224, 'eval_accuracy': 0.8819762122598354, 'eval_precision': 0.8818902043878024, 'eval_recall': 0.8819762122598354, 'eval_f1': 0.8819254723066117, 'eval_runtime': 14.9679, 'eval_samples_per_second': 129.477, 'eval_steps_per_second': 2.071, 'epoch': 4.0}\r\n",
      " 81%|███████████████████████████████▋       | 122/150 [3:31:20<27:24, 58.74s/it]\r\n",
      "100%|███████████████████████████████████████████| 31/31 [00:14<00:00,  1.63it/s]\u001B[A\r\n",
      "                                                                                \u001B[A/Users/wengbenjue/opt/anaconda3/envs/peft/lib/python3.11/site-packages/torch/utils/checkpoint.py:429: UserWarning: torch.utils.checkpoint: please pass in use_reentrant=True or use_reentrant=False explicitly. The default value of use_reentrant will be updated to be False in the future. To maintain current behavior, pass use_reentrant=True. It is recommended that you use use_reentrant=False. Refer to docs for more details on the differences between the two variants.\r\n",
      "  warnings.warn(\r\n",
      "{'loss': 0.0083, 'learning_rate': 0.00013333333333333334, 'epoch': 4.26}        \r\n",
      "{'loss': 0.0074, 'learning_rate': 6.666666666666667e-05, 'epoch': 4.59}         \r\n",
      "{'loss': 0.0074, 'learning_rate': 0.0, 'epoch': 4.92}                           \r\n",
      "100%|███████████████████████████████████████| 150/150 [4:04:36<00:00, 16.88s/it]\r\n",
      "  0%|                                                    | 0/31 [00:00<?, ?it/s]\u001B[A\r\n",
      "  6%|██▊                                         | 2/31 [00:00<00:04,  6.59it/s]\u001B[A\r\n",
      " 10%|████▎                                       | 3/31 [00:00<00:06,  4.64it/s]\u001B[A\r\n",
      " 13%|█████▋                                      | 4/31 [00:00<00:06,  4.02it/s]\u001B[A\r\n",
      " 16%|███████                                     | 5/31 [00:01<00:06,  3.73it/s]\u001B[A\r\n",
      " 19%|████████▌                                   | 6/31 [00:01<00:07,  3.40it/s]\u001B[A\r\n",
      " 23%|█████████▉                                  | 7/31 [00:01<00:07,  3.36it/s]\u001B[A\r\n",
      " 26%|███████████▎                                | 8/31 [00:02<00:06,  3.34it/s]\u001B[A\r\n",
      " 29%|████████████▊                               | 9/31 [00:02<00:06,  3.21it/s]\u001B[A\r\n",
      " 32%|█████████████▊                             | 10/31 [00:02<00:06,  3.23it/s]\u001B[A\r\n",
      " 35%|███████████████▎                           | 11/31 [00:03<00:06,  3.13it/s]\u001B[A\r\n",
      " 39%|████████████████▋                          | 12/31 [00:03<00:05,  3.17it/s]\u001B[A\r\n",
      " 42%|██████████████████                         | 13/31 [00:03<00:05,  3.10it/s]\u001B[A\r\n",
      " 45%|███████████████████▍                       | 14/31 [00:04<00:05,  3.05it/s]\u001B[A\r\n",
      " 48%|████████████████████▊                      | 15/31 [00:04<00:05,  3.11it/s]\u001B[A\r\n",
      " 52%|██████████████████████▏                    | 16/31 [00:04<00:04,  3.05it/s]\u001B[A\r\n",
      " 55%|███████████████████████▌                   | 17/31 [00:05<00:04,  3.01it/s]\u001B[A\r\n",
      " 58%|████████████████████████▉                  | 18/31 [00:05<00:04,  3.00it/s]\u001B[A\r\n",
      " 61%|██████████████████████████▎                | 19/31 [00:05<00:04,  2.99it/s]\u001B[A\r\n",
      " 65%|███████████████████████████▋               | 20/31 [00:06<00:03,  2.95it/s]\u001B[A\r\n",
      " 68%|█████████████████████████████▏             | 21/31 [00:06<00:03,  2.97it/s]\u001B[A\r\n",
      " 71%|██████████████████████████████▌            | 22/31 [00:06<00:03,  2.98it/s]\u001B[A\r\n",
      " 74%|███████████████████████████████▉           | 23/31 [00:07<00:02,  3.00it/s]\u001B[A\r\n",
      " 77%|█████████████████████████████████▎         | 24/31 [00:07<00:02,  3.00it/s]\u001B[A\r\n",
      " 81%|██████████████████████████████████▋        | 25/31 [00:07<00:02,  3.00it/s]\u001B[A\r\n",
      " 84%|████████████████████████████████████       | 26/31 [00:08<00:01,  2.96it/s]\u001B[A\r\n",
      " 87%|█████████████████████████████████████▍     | 27/31 [00:08<00:01,  2.93it/s]\u001B[A\r\n",
      " 90%|██████████████████████████████████████▊    | 28/31 [00:08<00:01,  2.87it/s]\u001B[A\r\n",
      " 94%|████████████████████████████████████████▏  | 29/31 [00:09<00:00,  2.86it/s]\u001B[A\r\n",
      " 97%|█████████████████████████████████████████▌ | 30/31 [00:09<00:00,  2.88it/s]\u001B[A\r\n",
      "                                                                                \u001B[A\r\n",
      "\u001B[A{'eval_loss': 0.23738279938697815, 'eval_accuracy': 0.8828911253430924, 'eval_precision': 0.8826906772831299, 'eval_recall': 0.8828911253430924, 'eval_f1': 0.8827743005598472, 'eval_runtime': 10.1864, 'eval_samples_per_second': 190.253, 'eval_steps_per_second': 3.043, 'epoch': 4.92}\r\n",
      "100%|███████████████████████████████████████| 150/150 [4:04:46<00:00, 16.88s/it]\r\n",
      "100%|███████████████████████████████████████████| 31/31 [00:09<00:00,  3.54it/s]\u001B[A\r\n",
      "{'train_runtime': 14686.8088, 'train_samples_per_second': 2.64, 'train_steps_per_second': 0.01, 'train_loss': 0.0839653243124485, 'epoch': 4.92}\r\n",
      "100%|███████████████████████████████████████| 150/150 [4:04:46<00:00, 97.91s/it]\r\n"
     ]
    }
   ],
   "source": [
    "!python ../../../peft_train.py \\\n",
    "--model_name ../../../pretrain_models/flan-t5-base \\\n",
    "--max_seq_len 2048 \\\n",
    "--group_by_length \\\n",
    "--max_steps 200 \\\n",
    "--dataset_name ../../../text-classification/auditor_sentiment \\\n",
    "--num_labels 3 \\\n",
    "--epochs 5 \\\n",
    "--learning_rate 1e-3 \\\n",
    "--per_device_train_batch_size 64 \\\n",
    "--per_device_eval_batch_size 64 \\\n",
    "--model_type SEQ_2_SEQ_LM \\\n",
    "--output_model_path ./result/flan-t5-base-auditor_sentiment \\\n",
    "--need_hyperparameters_search False \\\n",
    "--enable_peft False \\\n",
    "--bnb_4bit_compute_dtype float16 \\\n",
    "--use_4b False\n"
   ]
  },
  {
   "cell_type": "markdown",
   "metadata": {
    "collapsed": false
   },
   "source": [
    "### 1.2.2 Run code on GPU version\n",
    "Load the model together with the adapter with few lines of code! Check the snippet below to load the adapter from the Hub and run the example evaluation."
   ]
  },
  {
   "cell_type": "code",
   "execution_count": null,
   "metadata": {
    "collapsed": false
   },
   "outputs": [],
   "source": [
    "!pip install -q -U trl transformers accelerate git+https://github.com/huggingface/peft.git\n",
    "!pip install -q datasets bitsandbytes einops wandb evaluate\n",
    "from google.colab import drive\n",
    "drive.mount('/content/drive')\n",
    "%cd /content/drive/MyDrive/Colab Notebooks/llms-peft-cook-colab/experiments/flan-t5-base-full-finetune/auditor_sentiment"
   ]
  },
  {
   "cell_type": "code",
   "execution_count": null,
   "metadata": {
    "collapsed": false,
    "is_executing": true
   },
   "outputs": [],
   "source": [
    "import os\n",
    "os.environ[\"CUDA_VISIBLE_DEVICES\"] = \"0\"\n",
    "!python ../../../peft_train.py \\\n",
    "--model_name google/flan-t5-base \\\n",
    "--max_seq_len 2048 \\\n",
    "--group_by_length \\\n",
    "--max_steps 200 \\\n",
    "--dataset_name ../../../text-classification/auditor_sentiment \\\n",
    "--num_labels 3 \\\n",
    "--epochs 5 \\\n",
    "--learning_rate 1e-3\\\n",
    "--per_device_train_batch_size 64 \\\n",
    "--per_device_eval_batch_size 64 \\\n",
    "--model_type SEQ_2_SEQ_LM \\\n",
    "--output_model_path ./result/flan-t5-base-auditor_sentiment \\\n",
    "--bnb_4bit_compute_dtype float16 \\\n",
    "--need_hyperparameters_search False \\\n",
    "--enable_peft False \\\n",
    "--use_4b False\n"
   ]
  },
  {
   "cell_type": "markdown",
   "metadata": {
    "collapsed": false
   },
   "source": [
    "# Load your adapter from the Hub"
   ]
  },
  {
   "cell_type": "code",
   "execution_count": 7,
   "metadata": {
    "ExecuteTime": {
     "end_time": "2023-12-02T16:37:01.962850Z",
     "start_time": "2023-12-02T16:37:01.696535Z"
    },
    "collapsed": false
   },
   "outputs": [],
   "source": [
    "import torch\n",
    "from peft import PeftModel, PeftConfig\n",
    "from transformers import AutoModelForSeq2SeqLM, AutoTokenizer\n",
    "\n",
    "peft_model_id = \"./result/flan-t5-cup-lora\"\n",
    "base_model_name_or_path = '.../../../pretrain_models/google-flan-t5-small'\n",
    "config = PeftConfig.from_pretrained(peft_model_id)\n",
    "\n",
    "# model = AutoModelForSeq2SeqLM.from_pretrained(config.base_model_name_or_path, torch_dtype=\"auto\", device_map=\"auto\")\n",
    "model = AutoModelForSeq2SeqLM.from_pretrained(config.base_model_name_or_path, torch_dtype=\"auto\", device_map=\"cpu\")\n",
    "tokenizer = AutoTokenizer.from_pretrained(config.base_model_name_or_path)\n",
    "\n",
    "# Load the Lora model\n",
    "model = PeftModel.from_pretrained(model, peft_model_id)"
   ]
  },
  {
   "cell_type": "code",
   "execution_count": 9,
   "metadata": {
    "ExecuteTime": {
     "end_time": "2023-12-02T16:40:55.202266Z",
     "start_time": "2023-12-02T16:40:55.100686Z"
    },
    "collapsed": false
   },
   "outputs": [
    {
     "name": "stdout",
     "output_type": "stream",
     "text": [
      "input sentence:  In January-September 2009 , the Group 's net interest income increased to EUR 112.4 mn from EUR 74.3 mn in January-September 2008 .\n",
      " output prediction:  ['positive positive positive positive positive positive positive positive positive positive']\n"
     ]
    }
   ],
   "source": [
    "model.eval()\n",
    "input_text = \"In January-September 2009 , the Group 's net interest income increased to EUR 112.4 mn from EUR 74.3 mn in January-September 2008 .\"\n",
    "inputs = tokenizer(input_text, return_tensors=\"pt\")\n",
    "\n",
    "outputs = model.generate(input_ids=inputs[\"input_ids\"], max_new_tokens=10)\n",
    "\n",
    "print(\"input sentence: \", input_text)\n",
    "print(\" output prediction: \", tokenizer.batch_decode(outputs.detach().cpu().numpy(), skip_special_tokens=True))"
   ]
  },
  {
   "cell_type": "code",
   "execution_count": 8,
   "metadata": {
    "ExecuteTime": {
     "end_time": "2023-12-02T16:37:04.919570Z",
     "start_time": "2023-12-02T16:37:04.379496Z"
    },
    "collapsed": false
   },
   "outputs": [
    {
     "name": "stdout",
     "output_type": "stream",
     "text": [
      "input sentence:  In January-September 2009 , the Group 's net interest income increased to EUR 112.4 mn from EUR 74.3 mn in January-September 2008 .\n",
      " output prediction:  ['positive positive positive positive positive positive positive positive positive positive']\n"
     ]
    }
   ],
   "source": [
    "model.eval()\n",
    "input_text = \"In January-September 2009 , the Group 's net interest income increased to EUR 112.4 mn from EUR 74.3 mn in January-September 2008 .\"\n",
    "inputs = tokenizer(input_text, return_tensors=\"pt\")\n",
    "\n",
    "outputs = model.generate(input_ids=inputs[\"input_ids\"], max_new_tokens=10)\n",
    "\n",
    "print(\"input sentence: \", input_text)\n",
    "print(\" output prediction: \", tokenizer.batch_decode(outputs.detach().cpu().numpy(), skip_special_tokens=True))"
   ]
  },
  {
   "cell_type": "markdown",
   "metadata": {
    "collapsed": false
   },
   "source": [
    "## 1.3 Experimental Result"
   ]
  },
  {
   "cell_type": "code",
   "execution_count": null,
   "metadata": {
    "collapsed": false,
    "is_executing": true
   },
   "outputs": [],
   "source": [
    "class HTMLRender:\n",
    "    def __init__(self,html_str):\n",
    "        self.html_str =html_str\n",
    "    def _repr_html_(self):\n",
    "       return self.html_str\n"
   ]
  },
  {
   "cell_type": "code",
   "execution_count": null,
   "metadata": {
    "collapsed": false,
    "is_executing": true
   },
   "outputs": [],
   "source": [
    "model_accurcy_html = '''\n",
    "<table>\n",
    "  <tr>\n",
    "    <th>eval loss</th>\n",
    "    <th>eval accuracy</th>\n",
    "    <th>eval precision</th>\n",
    "    <th>eval recall</th>\n",
    "    <th>eval f1</th>\n",
    "  </tr>\n",
    "  <tr>\n",
    "    <td style=\"background-color:#4C72B0;\">0.102</td>\n",
    "    <td style=\"background-color:#55A868;\">0.896</td>\n",
    "    <td style=\"background-color:#C44E52;\">0.90</td>\n",
    "     <td style=\"background-color:#8172B2;\">0.896</td>\n",
    "    <td style=\"background-color:#64B5CD;\">0.894</td>\n",
    "  </tr>\n",
    "\n",
    "</table>\n",
    "\n",
    "       '''\n",
    "HTMLRender(model_accurcy_html)"
   ]
  },
  {
   "cell_type": "code",
   "execution_count": null,
   "metadata": {
    "collapsed": false,
    "is_executing": true
   },
   "outputs": [],
   "source": [
    "accuracy_html = '''\n",
    "<img src=\"./image/flan-t5-small-accuracy.png\" alt=\"flan-t5-small-accuracy\" width=\"70%\">\n",
    "'''\n",
    "HTMLRender(accuracy_html)"
   ]
  },
  {
   "cell_type": "code",
   "execution_count": null,
   "metadata": {
    "collapsed": false
   },
   "outputs": [],
   "source": [
    "## Load your adapter from the Hub\n"
   ]
  }
 ],
 "metadata": {
  "kernelspec": {
   "display_name": "Python 3",
   "language": "python",
   "name": "python3"
  },
  "language_info": {
   "codemirror_mode": {
    "name": "ipython",
    "version": 2
   },
   "file_extension": ".py",
   "mimetype": "text/x-python",
   "name": "python",
   "nbconvert_exporter": "python",
   "pygments_lexer": "ipython2",
   "version": "2.7.6"
  }
 },
 "nbformat": 4,
 "nbformat_minor": 0
}
