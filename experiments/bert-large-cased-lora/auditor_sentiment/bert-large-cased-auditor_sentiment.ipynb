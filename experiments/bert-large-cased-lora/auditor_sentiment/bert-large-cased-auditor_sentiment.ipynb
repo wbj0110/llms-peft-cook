{
 "cells": [
  {
   "cell_type": "markdown",
   "metadata": {
    "collapsed": false
   },
   "source": [
    "Finetuning the model on financial_phrasebank dataset, that consists of pairs of text-labels to classify financial-related sentences, if they are either <span style=\"color: red;\">positive</span>, <span style=\"color: purple;\">neutral</span> or <span style=\"color: green;\">negative</span>."
   ]
  },
  {
   "cell_type": "markdown",
   "metadata": {
    "collapsed": false
   },
   "source": [
    "# 1.Experimental Setup1"
   ]
  },
  {
   "cell_type": "markdown",
   "metadata": {
    "collapsed": false
   },
   "source": [
    "## 1.1 Setup"
   ]
  },
  {
   "cell_type": "markdown",
   "metadata": {
    "collapsed": false
   },
   "source": [
    "## 1.2 Training"
   ]
  },
  {
   "cell_type": "markdown",
   "metadata": {
    "collapsed": false
   },
   "source": [
    "### 1.2.1 Run code on CPU version"
   ]
  },
  {
   "cell_type": "code",
   "execution_count": null,
   "metadata": {
    "collapsed": false,
    "is_executing": true
   },
   "outputs": [],
   "source": [
    "!pwd"
   ]
  },
  {
   "cell_type": "code",
   "execution_count": 1,
   "metadata": {
    "collapsed": false,
    "ExecuteTime": {
     "start_time": "2023-12-12T17:17:08.329907Z"
    }
   },
   "outputs": [
    {
     "name": "stdout",
     "output_type": "stream",
     "text": [
      "/Users/wengbenjue/opt/anaconda3/envs/peft/lib/python3.11/site-packages/bitsandbytes/cextension.py:34: UserWarning: The installed version of bitsandbytes was compiled without GPU support. 8-bit optimizers, 8-bit multiplication, and GPU quantization are unavailable.\r\n",
      "  warn(\"The installed version of bitsandbytes was compiled without GPU support. \"\r\n",
      "'NoneType' object has no attribute 'cadam32bit_grad_fp32'\r\n",
      "/Users/wengbenjue/opt/anaconda3/envs/peft/lib/python3.11/site-packages/trl/trainer/ppo_config.py:141: UserWarning: The `optimize_cuda_cache` arguement will be deprecated soon, please use `optimize_device_cache` instead.\r\n",
      "  warnings.warn(\r\n",
      "Some weights of BertForSequenceClassification were not initialized from the model checkpoint at ../../../pretrain_models/bert-large-cased and are newly initialized: ['classifier.weight', 'classifier.bias']\r\n",
      "You should probably TRAIN this model on a down-stream task to be able to use it for predictions and inference.\r\n",
      "use AutoModelForSequenceClassification load bert model.\r\n",
      "trainable params: 6294531 || all params: 339876870 || trainable%: 1.8520033446230102\r\n",
      "tokenizer padding setting: [PAD]\r\n",
      "auditor_sentiment原始数据集特征: {'sentence': Value(dtype='string', id=None), 'label': Value(dtype='int64', id=None)}\r\n",
      "auditor_sentiment更新后数据集特征: {'sentence': Value(dtype='string', id=None), 'label': ClassLabel(names=['0', '1', '2'], id=None)}\r\n",
      "Sentence: Altia 's operating profit jumped to EUR 47 million from EUR 6.6 million .\r\n",
      "  0%|                                                   | 0/150 [00:00<?, ?it/s]/Users/wengbenjue/opt/anaconda3/envs/peft/lib/python3.11/site-packages/torch/utils/checkpoint.py:429: UserWarning: torch.utils.checkpoint: please pass in use_reentrant=True or use_reentrant=False explicitly. The default value of use_reentrant will be updated to be False in the future. To maintain current behavior, pass use_reentrant=True. It is recommended that you use use_reentrant=False. Refer to docs for more details on the differences between the two variants.\r\n",
      "  warnings.warn(\r\n",
      "{'loss': 0.9485, 'learning_rate': 0.0009333333333333333, 'epoch': 0.33}         \r\n",
      "{'loss': 0.8209, 'learning_rate': 0.0008666666666666667, 'epoch': 0.66}         \r\n",
      "{'loss': 0.6934, 'learning_rate': 0.0008, 'epoch': 0.98}                        \r\n",
      " 20%|████████▍                                 | 30/150 [10:14<39:32, 19.77s/it]\r\n",
      "  0%|                                                    | 0/31 [00:00<?, ?it/s]\u001B[A\r\n",
      "  6%|██▊                                         | 2/31 [00:01<00:25,  1.13it/s]\u001B[A\r\n",
      " 10%|████▎                                       | 3/31 [00:03<00:34,  1.23s/it]\u001B[A\r\n",
      " 13%|█████▋                                      | 4/31 [00:05<00:36,  1.34s/it]\u001B[A\r\n",
      " 16%|███████                                     | 5/31 [00:06<00:36,  1.40s/it]\u001B[A\r\n",
      " 19%|████████▌                                   | 6/31 [00:08<00:36,  1.44s/it]\u001B[A\r\n",
      " 23%|█████████▉                                  | 7/31 [00:09<00:35,  1.48s/it]\u001B[A\r\n",
      " 26%|███████████▎                                | 8/31 [00:11<00:34,  1.50s/it]\u001B[A\r\n",
      " 29%|████████████▊                               | 9/31 [00:12<00:32,  1.50s/it]\u001B[A\r\n",
      " 32%|█████████████▊                             | 10/31 [00:14<00:31,  1.51s/it]\u001B[A\r\n",
      " 35%|███████████████▎                           | 11/31 [00:15<00:30,  1.51s/it]\u001B[A\r\n",
      " 39%|████████████████▋                          | 12/31 [00:17<00:28,  1.50s/it]\u001B[A\r\n",
      " 42%|██████████████████                         | 13/31 [00:18<00:27,  1.51s/it]\u001B[A\r\n",
      " 45%|███████████████████▍                       | 14/31 [00:20<00:25,  1.47s/it]\u001B[A\r\n",
      " 48%|████████████████████▊                      | 15/31 [00:21<00:23,  1.46s/it]\u001B[A\r\n",
      " 52%|██████████████████████▏                    | 16/31 [00:22<00:21,  1.46s/it]\u001B[A\r\n",
      " 55%|███████████████████████▌                   | 17/31 [00:24<00:20,  1.46s/it]\u001B[A\r\n",
      " 58%|████████████████████████▉                  | 18/31 [00:25<00:18,  1.45s/it]\u001B[A\r\n",
      " 61%|██████████████████████████▎                | 19/31 [00:27<00:17,  1.47s/it]\u001B[A\r\n",
      " 65%|███████████████████████████▋               | 20/31 [00:28<00:16,  1.47s/it]\u001B[A\r\n",
      " 68%|█████████████████████████████▏             | 21/31 [00:30<00:14,  1.50s/it]\u001B[A\r\n",
      " 71%|██████████████████████████████▌            | 22/31 [00:31<00:13,  1.50s/it]\u001B[A\r\n",
      " 74%|███████████████████████████████▉           | 23/31 [00:33<00:12,  1.53s/it]\u001B[A\r\n",
      " 77%|█████████████████████████████████▎         | 24/31 [00:35<00:10,  1.54s/it]\u001B[A\r\n",
      " 81%|██████████████████████████████████▋        | 25/31 [00:36<00:09,  1.53s/it]\u001B[A\r\n",
      " 84%|████████████████████████████████████       | 26/31 [00:38<00:07,  1.53s/it]\u001B[A\r\n",
      " 87%|█████████████████████████████████████▍     | 27/31 [00:39<00:06,  1.55s/it]\u001B[A\r\n",
      " 90%|██████████████████████████████████████▊    | 28/31 [00:41<00:04,  1.54s/it]\u001B[A\r\n",
      " 94%|████████████████████████████████████████▏  | 29/31 [00:42<00:03,  1.53s/it]\u001B[A\r\n",
      " 97%|█████████████████████████████████████████▌ | 30/31 [00:44<00:01,  1.54s/it]\u001B[A\r\n",
      "                                                                                \u001B[A\r\n",
      "\u001B[A{'eval_loss': 0.5188372135162354, 'eval_accuracy': 0.7966976264189887, 'eval_precision': 0.7951595004503158, 'eval_recall': 0.7966976264189887, 'eval_f1': 0.7870530920203865, 'eval_runtime': 47.8319, 'eval_samples_per_second': 40.517, 'eval_steps_per_second': 0.648, 'epoch': 0.98}\r\n",
      " 20%|████████▍                                 | 30/150 [11:10<39:32, 19.77s/it]\r\n",
      "100%|███████████████████████████████████████████| 31/31 [00:46<00:00,  1.81s/it]\u001B[A\r\n",
      "                                                                                \u001B[A/Users/wengbenjue/opt/anaconda3/envs/peft/lib/python3.11/site-packages/torch/utils/checkpoint.py:429: UserWarning: torch.utils.checkpoint: please pass in use_reentrant=True or use_reentrant=False explicitly. The default value of use_reentrant will be updated to be False in the future. To maintain current behavior, pass use_reentrant=True. It is recommended that you use use_reentrant=False. Refer to docs for more details on the differences between the two variants.\r\n",
      "  warnings.warn(\r\n",
      "{'loss': 0.4667, 'learning_rate': 0.0007333333333333333, 'epoch': 1.31}         \r\n",
      "{'loss': 0.4228, 'learning_rate': 0.0006666666666666666, 'epoch': 1.64}         \r\n",
      "{'loss': 0.3897, 'learning_rate': 0.0006, 'epoch': 1.97}                        \r\n",
      " 41%|█████████████████                         | 61/150 [20:17<24:23, 16.44s/it]\r\n",
      "  0%|                                                    | 0/31 [00:00<?, ?it/s]\u001B[A\r\n",
      "  6%|██▊                                         | 2/31 [00:01<00:15,  1.82it/s]\u001B[A\r\n",
      " 10%|████▎                                       | 3/31 [00:02<00:25,  1.10it/s]\u001B[A\r\n",
      " 13%|█████▋                                      | 4/31 [00:03<00:29,  1.10s/it]\u001B[A\r\n",
      " 16%|███████                                     | 5/31 [00:05<00:31,  1.21s/it]\u001B[A\r\n",
      " 19%|████████▌                                   | 6/31 [00:06<00:30,  1.23s/it]\u001B[A\r\n",
      " 23%|█████████▉                                  | 7/31 [00:07<00:29,  1.24s/it]\u001B[A\r\n",
      " 26%|███████████▎                                | 8/31 [00:09<00:28,  1.23s/it]\u001B[A\r\n",
      " 29%|████████████▊                               | 9/31 [00:10<00:27,  1.23s/it]\u001B[A\r\n",
      " 32%|█████████████▊                             | 10/31 [00:11<00:26,  1.26s/it]\u001B[A\r\n",
      " 35%|███████████████▎                           | 11/31 [00:12<00:25,  1.27s/it]\u001B[A\r\n",
      " 39%|████████████████▋                          | 12/31 [00:14<00:23,  1.26s/it]\u001B[A\r\n",
      " 42%|██████████████████                         | 13/31 [00:15<00:22,  1.25s/it]\u001B[A\r\n",
      " 45%|███████████████████▍                       | 14/31 [00:16<00:21,  1.26s/it]\u001B[A\r\n",
      " 48%|████████████████████▊                      | 15/31 [00:18<00:20,  1.28s/it]\u001B[A\r\n",
      " 52%|██████████████████████▏                    | 16/31 [00:19<00:19,  1.30s/it]\u001B[A\r\n",
      " 55%|███████████████████████▌                   | 17/31 [00:20<00:18,  1.31s/it]\u001B[A\r\n",
      " 58%|████████████████████████▉                  | 18/31 [00:22<00:17,  1.33s/it]\u001B[A\r\n",
      " 61%|██████████████████████████▎                | 19/31 [00:23<00:15,  1.32s/it]\u001B[A\r\n",
      " 65%|███████████████████████████▋               | 20/31 [00:24<00:14,  1.33s/it]\u001B[A\r\n",
      " 68%|█████████████████████████████▏             | 21/31 [00:25<00:12,  1.27s/it]\u001B[A\r\n",
      " 71%|██████████████████████████████▌            | 22/31 [00:27<00:11,  1.24s/it]\u001B[A\r\n",
      " 74%|███████████████████████████████▉           | 23/31 [00:28<00:09,  1.25s/it]\u001B[A\r\n",
      " 77%|█████████████████████████████████▎         | 24/31 [00:29<00:08,  1.28s/it]\u001B[A\r\n",
      " 81%|██████████████████████████████████▋        | 25/31 [00:31<00:07,  1.31s/it]\u001B[A\r\n",
      " 84%|████████████████████████████████████       | 26/31 [00:32<00:06,  1.29s/it]\u001B[A\r\n",
      " 87%|█████████████████████████████████████▍     | 27/31 [00:33<00:05,  1.27s/it]\u001B[A\r\n",
      " 90%|██████████████████████████████████████▊    | 28/31 [00:34<00:03,  1.26s/it]\u001B[A\r\n",
      " 94%|████████████████████████████████████████▏  | 29/31 [00:35<00:02,  1.26s/it]\u001B[A\r\n",
      " 97%|█████████████████████████████████████████▌ | 30/31 [00:37<00:01,  1.26s/it]\u001B[A\r\n",
      "                                                                                \u001B[A\r\n",
      "\u001B[A{'eval_loss': 0.3185100555419922, 'eval_accuracy': 0.8782249742002064, 'eval_precision': 0.8776910206534733, 'eval_recall': 0.8782249742002064, 'eval_f1': 0.8775882844628646, 'eval_runtime': 38.6977, 'eval_samples_per_second': 50.08, 'eval_steps_per_second': 0.801, 'epoch': 2.0}\r\n",
      " 41%|█████████████████                         | 61/150 [20:56<24:23, 16.44s/it]\r\n",
      "100%|███████████████████████████████████████████| 31/31 [00:37<00:00,  1.01s/it]\u001B[A\r\n",
      "                                                                                \u001B[A/Users/wengbenjue/opt/anaconda3/envs/peft/lib/python3.11/site-packages/torch/utils/checkpoint.py:429: UserWarning: torch.utils.checkpoint: please pass in use_reentrant=True or use_reentrant=False explicitly. The default value of use_reentrant will be updated to be False in the future. To maintain current behavior, pass use_reentrant=True. It is recommended that you use use_reentrant=False. Refer to docs for more details on the differences between the two variants.\r\n",
      "  warnings.warn(\r\n",
      "{'loss': 0.3115, 'learning_rate': 0.0005333333333333334, 'epoch': 2.3}          \r\n",
      "{'loss': 0.3015, 'learning_rate': 0.00046666666666666666, 'epoch': 2.62}        \r\n",
      "{'loss': 0.2668, 'learning_rate': 0.0004, 'epoch': 2.95}                        \r\n",
      " 61%|█████████████████████████▍                | 91/150 [29:49<18:27, 18.76s/it]\r\n",
      "  0%|                                                    | 0/31 [00:00<?, ?it/s]\u001B[A\r\n",
      "  6%|██▊                                         | 2/31 [00:01<00:21,  1.36it/s]\u001B[A\r\n",
      " 10%|████▎                                       | 3/31 [00:02<00:28,  1.02s/it]\u001B[A\r\n",
      " 13%|█████▋                                      | 4/31 [00:04<00:31,  1.15s/it]\u001B[A\r\n",
      " 16%|███████                                     | 5/31 [00:05<00:32,  1.24s/it]\u001B[A\r\n",
      " 19%|████████▌                                   | 6/31 [00:07<00:32,  1.30s/it]\u001B[A\r\n",
      " 23%|█████████▉                                  | 7/31 [00:08<00:32,  1.34s/it]\u001B[A\r\n",
      " 26%|███████████▎                                | 8/31 [00:09<00:30,  1.35s/it]\u001B[A\r\n",
      " 29%|████████████▊                               | 9/31 [00:11<00:30,  1.40s/it]\u001B[A\r\n",
      " 32%|█████████████▊                             | 10/31 [00:12<00:29,  1.38s/it]\u001B[A\r\n",
      " 35%|███████████████▎                           | 11/31 [00:14<00:28,  1.45s/it]\u001B[A\r\n",
      " 39%|████████████████▋                          | 12/31 [00:16<00:28,  1.52s/it]\u001B[A\r\n",
      " 42%|██████████████████                         | 13/31 [00:17<00:28,  1.59s/it]\u001B[A\r\n",
      " 45%|███████████████████▍                       | 14/31 [00:19<00:27,  1.60s/it]\u001B[A\r\n",
      " 48%|████████████████████▊                      | 15/31 [00:21<00:25,  1.62s/it]\u001B[A\r\n",
      " 52%|██████████████████████▏                    | 16/31 [00:22<00:23,  1.54s/it]\u001B[A\r\n",
      " 55%|███████████████████████▌                   | 17/31 [00:23<00:20,  1.46s/it]\u001B[A\r\n",
      " 58%|████████████████████████▉                  | 18/31 [00:24<00:18,  1.40s/it]\u001B[A\r\n",
      " 61%|██████████████████████████▎                | 19/31 [00:26<00:16,  1.36s/it]\u001B[A\r\n",
      " 65%|███████████████████████████▋               | 20/31 [00:27<00:14,  1.33s/it]\u001B[A\r\n",
      " 68%|█████████████████████████████▏             | 21/31 [00:28<00:13,  1.38s/it]\u001B[A\r\n",
      " 71%|██████████████████████████████▌            | 22/31 [00:30<00:13,  1.45s/it]\u001B[A\r\n",
      " 74%|███████████████████████████████▉           | 23/31 [00:32<00:11,  1.50s/it]\u001B[A\r\n",
      " 77%|█████████████████████████████████▎         | 24/31 [00:33<00:10,  1.56s/it]\u001B[A\r\n",
      " 81%|██████████████████████████████████▋        | 25/31 [00:35<00:09,  1.57s/it]\u001B[A\r\n",
      " 84%|████████████████████████████████████       | 26/31 [00:37<00:07,  1.59s/it]\u001B[A\r\n",
      " 87%|█████████████████████████████████████▍     | 27/31 [00:38<00:06,  1.58s/it]\u001B[A\r\n",
      " 90%|██████████████████████████████████████▊    | 28/31 [00:40<00:04,  1.61s/it]\u001B[A\r\n",
      " 94%|████████████████████████████████████████▏  | 29/31 [00:41<00:03,  1.60s/it]\u001B[A\r\n",
      " 97%|█████████████████████████████████████████▌ | 30/31 [00:43<00:01,  1.63s/it]\u001B[A\r\n",
      "                                                                                \u001B[A\r\n",
      "\u001B[A{'eval_loss': 0.29823434352874756, 'eval_accuracy': 0.8771929824561403, 'eval_precision': 0.8774042271265751, 'eval_recall': 0.8771929824561403, 'eval_f1': 0.8772794018316034, 'eval_runtime': 45.4991, 'eval_samples_per_second': 42.594, 'eval_steps_per_second': 0.681, 'epoch': 2.98}\r\n",
      " 61%|█████████████████████████▍                | 91/150 [30:40<18:27, 18.76s/it]\r\n",
      "100%|███████████████████████████████████████████| 31/31 [00:44<00:00,  1.28s/it]\u001B[A\r\n",
      "                                                                                \u001B[A/Users/wengbenjue/opt/anaconda3/envs/peft/lib/python3.11/site-packages/torch/utils/checkpoint.py:429: UserWarning: torch.utils.checkpoint: please pass in use_reentrant=True or use_reentrant=False explicitly. The default value of use_reentrant will be updated to be False in the future. To maintain current behavior, pass use_reentrant=True. It is recommended that you use use_reentrant=False. Refer to docs for more details on the differences between the two variants.\r\n",
      "  warnings.warn(\r\n",
      "{'loss': 0.2356, 'learning_rate': 0.0003333333333333333, 'epoch': 3.28}         \r\n",
      " 67%|███████████████████████████▎             | 100/150 [33:40<18:16, 21.94s/it]/Users/wengbenjue/opt/anaconda3/envs/peft/lib/python3.11/site-packages/torch/utils/checkpoint.py:429: UserWarning: torch.utils.checkpoint: please pass in use_reentrant=True or use_reentrant=False explicitly. The default value of use_reentrant will be updated to be False in the future. To maintain current behavior, pass use_reentrant=True. It is recommended that you use use_reentrant=False. Refer to docs for more details on the differences between the two variants.\r\n",
      "  warnings.warn(\r\n",
      "{'loss': 0.2216, 'learning_rate': 0.0002666666666666667, 'epoch': 3.61}         \r\n",
      "{'loss': 0.2108, 'learning_rate': 0.0002, 'epoch': 3.93}                        \r\n",
      " 81%|█████████████████████████████████▎       | 122/150 [44:21<21:32, 46.15s/it]\r\n",
      "  0%|                                                    | 0/31 [00:00<?, ?it/s]\u001B[A\r\n",
      "  6%|██▊                                         | 2/31 [00:03<00:51,  1.77s/it]\u001B[A\r\n",
      " 10%|████▎                                       | 3/31 [00:07<01:14,  2.64s/it]\u001B[A\r\n",
      " 13%|█████▋                                      | 4/31 [00:11<01:24,  3.14s/it]\u001B[A\r\n",
      " 16%|███████                                     | 5/31 [00:15<01:27,  3.37s/it]\u001B[A\r\n",
      " 19%|████████▌                                   | 6/31 [00:18<01:27,  3.49s/it]\u001B[A\r\n",
      " 23%|█████████▉                                  | 7/31 [00:22<01:24,  3.53s/it]\u001B[A\r\n",
      " 26%|███████████▎                                | 8/31 [00:26<01:24,  3.66s/it]\u001B[A\r\n",
      " 29%|████████████▊                               | 9/31 [00:30<01:20,  3.66s/it]\u001B[A\r\n",
      " 32%|█████████████▊                             | 10/31 [00:33<01:17,  3.69s/it]\u001B[A\r\n",
      " 35%|███████████████▎                           | 11/31 [00:37<01:14,  3.74s/it]\u001B[A\r\n",
      " 39%|████████████████▋                          | 12/31 [00:41<01:11,  3.74s/it]\u001B[A\r\n",
      " 42%|██████████████████                         | 13/31 [00:45<01:07,  3.76s/it]\u001B[A\r\n",
      " 45%|███████████████████▍                       | 14/31 [00:48<01:02,  3.70s/it]\u001B[A\r\n",
      " 48%|████████████████████▊                      | 15/31 [00:52<00:59,  3.74s/it]\u001B[A\r\n",
      " 52%|██████████████████████▏                    | 16/31 [00:56<00:56,  3.78s/it]\u001B[A\r\n",
      " 55%|███████████████████████▌                   | 17/31 [01:00<00:52,  3.77s/it]\u001B[A\r\n",
      " 58%|████████████████████████▉                  | 18/31 [01:03<00:48,  3.71s/it]\u001B[A\r\n",
      " 61%|██████████████████████████▎                | 19/31 [01:07<00:44,  3.72s/it]\u001B[A\r\n",
      " 65%|███████████████████████████▋               | 20/31 [01:11<00:41,  3.76s/it]\u001B[A\r\n",
      " 68%|█████████████████████████████▏             | 21/31 [01:15<00:38,  3.82s/it]\u001B[A\r\n",
      " 71%|██████████████████████████████▌            | 22/31 [01:19<00:34,  3.79s/it]\u001B[A\r\n",
      " 74%|███████████████████████████████▉           | 23/31 [01:22<00:30,  3.80s/it]\u001B[A\r\n",
      " 77%|█████████████████████████████████▎         | 24/31 [01:26<00:26,  3.84s/it]\u001B[A\r\n",
      " 81%|██████████████████████████████████▋        | 25/31 [01:30<00:22,  3.77s/it]\u001B[A\r\n",
      " 84%|████████████████████████████████████       | 26/31 [01:34<00:18,  3.71s/it]\u001B[A\r\n",
      " 87%|█████████████████████████████████████▍     | 27/31 [01:37<00:15,  3.76s/it]\u001B[A\r\n",
      " 90%|██████████████████████████████████████▊    | 28/31 [01:41<00:11,  3.78s/it]\u001B[A\r\n",
      " 94%|████████████████████████████████████████▏  | 29/31 [01:45<00:07,  3.89s/it]\u001B[A\r\n",
      " 97%|█████████████████████████████████████████▌ | 30/31 [01:49<00:03,  3.86s/it]\u001B[A\r\n",
      "                                                                                \u001B[A\r\n",
      "\u001B[A{'eval_loss': 0.3033187687397003, 'eval_accuracy': 0.8648090815273478, 'eval_precision': 0.8672254979967711, 'eval_recall': 0.8648090815273478, 'eval_f1': 0.8653452885371555, 'eval_runtime': 114.7747, 'eval_samples_per_second': 16.885, 'eval_steps_per_second': 0.27, 'epoch': 4.0}\r\n",
      " 81%|█████████████████████████████████▎       | 122/150 [46:16<21:32, 46.15s/it]\r\n",
      "100%|███████████████████████████████████████████| 31/31 [01:51<00:00,  3.09s/it]\u001B[A\r\n",
      "                                                                                \u001B[A/Users/wengbenjue/opt/anaconda3/envs/peft/lib/python3.11/site-packages/torch/utils/checkpoint.py:429: UserWarning: torch.utils.checkpoint: please pass in use_reentrant=True or use_reentrant=False explicitly. The default value of use_reentrant will be updated to be False in the future. To maintain current behavior, pass use_reentrant=True. It is recommended that you use use_reentrant=False. Refer to docs for more details on the differences between the two variants.\r\n",
      "  warnings.warn(\r\n",
      "{'loss': 0.1851, 'learning_rate': 0.00013333333333333334, 'epoch': 4.26}        \r\n",
      "{'loss': 0.187, 'learning_rate': 6.666666666666667e-05, 'epoch': 4.59}          \r\n",
      "{'loss': 0.211, 'learning_rate': 0.0, 'epoch': 4.92}                            \r\n",
      "100%|███████████████████████████████████████| 150/150 [1:12:18<00:00, 55.93s/it]\r\n",
      "  0%|                                                    | 0/31 [00:00<?, ?it/s]\u001B[A\r\n",
      "  6%|██▊                                         | 2/31 [00:04<01:08,  2.37s/it]\u001B[A\r\n",
      " 10%|████▎                                       | 3/31 [00:08<01:28,  3.15s/it]\u001B[A\r\n",
      " 13%|█████▋                                      | 4/31 [00:13<01:38,  3.63s/it]\u001B[A\r\n",
      " 16%|███████                                     | 5/31 [00:17<01:39,  3.82s/it]\u001B[A\r\n",
      " 19%|████████▌                                   | 6/31 [00:21<01:40,  4.01s/it]\u001B[A\r\n",
      " 23%|█████████▉                                  | 7/31 [00:26<01:37,  4.07s/it]\u001B[A\r\n",
      " 26%|███████████▎                                | 8/31 [00:30<01:38,  4.27s/it]\u001B[A\r\n",
      " 29%|████████████▊                               | 9/31 [00:35<01:34,  4.31s/it]\u001B[A\r\n",
      " 32%|█████████████▊                             | 10/31 [00:40<01:33,  4.46s/it]\u001B[A\r\n",
      " 35%|███████████████▎                           | 11/31 [00:43<01:25,  4.29s/it]\u001B[A\r\n",
      " 39%|████████████████▋                          | 12/31 [00:47<01:18,  4.13s/it]\u001B[A\r\n",
      " 42%|██████████████████                         | 13/31 [00:51<01:14,  4.15s/it]\u001B[A\r\n",
      " 45%|███████████████████▍                       | 14/31 [00:56<01:10,  4.17s/it]\u001B[A\r\n",
      " 48%|████████████████████▊                      | 15/31 [01:00<01:07,  4.23s/it]\u001B[A\r\n",
      " 52%|██████████████████████▏                    | 16/31 [01:04<01:03,  4.23s/it]\u001B[A\r\n",
      " 55%|███████████████████████▌                   | 17/31 [01:09<01:00,  4.34s/it]\u001B[A\r\n",
      " 58%|████████████████████████▉                  | 18/31 [01:13<00:55,  4.30s/it]\u001B[A\r\n",
      " 61%|██████████████████████████▎                | 19/31 [01:17<00:49,  4.09s/it]\u001B[A\r\n",
      " 65%|███████████████████████████▋               | 20/31 [01:21<00:44,  4.02s/it]\u001B[A\r\n",
      " 68%|█████████████████████████████▏             | 21/31 [01:24<00:39,  3.91s/it]\u001B[A\r\n",
      " 71%|██████████████████████████████▌            | 22/31 [01:28<00:35,  3.89s/it]\u001B[A\r\n",
      " 74%|███████████████████████████████▉           | 23/31 [01:32<00:31,  3.92s/it]\u001B[A\r\n",
      " 77%|█████████████████████████████████▎         | 24/31 [01:36<00:27,  3.94s/it]\u001B[A\r\n",
      " 81%|██████████████████████████████████▋        | 25/31 [01:40<00:23,  3.97s/it]\u001B[A\r\n",
      " 84%|████████████████████████████████████       | 26/31 [01:44<00:19,  3.91s/it]\u001B[A\r\n",
      " 87%|█████████████████████████████████████▍     | 27/31 [01:48<00:15,  3.98s/it]\u001B[A\r\n",
      " 90%|██████████████████████████████████████▊    | 28/31 [01:52<00:11,  3.97s/it]\u001B[A\r\n",
      " 94%|████████████████████████████████████████▏  | 29/31 [01:56<00:07,  3.99s/it]\u001B[A\r\n",
      " 97%|█████████████████████████████████████████▌ | 30/31 [02:00<00:03,  3.90s/it]\u001B[A\r\n",
      "                                                                                \u001B[A\r\n",
      "\u001B[A{'eval_loss': 0.3116345703601837, 'eval_accuracy': 0.8730650154798761, 'eval_precision': 0.8731619773415439, 'eval_recall': 0.8730650154798761, 'eval_f1': 0.8730249601535645, 'eval_runtime': 125.2992, 'eval_samples_per_second': 15.467, 'eval_steps_per_second': 0.247, 'epoch': 4.92}\r\n",
      "100%|███████████████████████████████████████| 150/150 [1:14:23<00:00, 55.93s/it]\r\n",
      "100%|███████████████████████████████████████████| 31/31 [02:01<00:00,  3.11s/it]\u001B[A\r\n",
      "{'train_runtime': 4463.5067, 'train_samples_per_second': 8.686, 'train_steps_per_second': 0.034, 'train_loss': 0.39152859926223754, 'epoch': 4.92}\r\n",
      "100%|███████████████████████████████████████| 150/150 [1:14:23<00:00, 29.76s/it]\r\n"
     ]
    }
   ],
   "source": [
    "!python ../../../peft_train.py \\\n",
    "--model_name ../../../pretrain_models/bert-large-cased \\\n",
    "--max_seq_len 2048 \\\n",
    "--group_by_length \\\n",
    "--max_steps 200 \\\n",
    "--dataset_name ../../../text-classification/auditor_sentiment \\\n",
    "--num_labels 3 \\\n",
    "--epochs 5 \\\n",
    "--learning_rate 1e-3 \\\n",
    "--model_type SEQ_CLS \\\n",
    "--output_model_path ./result/bert-large-cased-auditor_sentiment-lora \\\n",
    "--bnb_4bit_compute_dtype float32 \\\n",
    "--use_4b False\n"
   ]
  },
  {
   "cell_type": "markdown",
   "metadata": {
    "collapsed": false
   },
   "source": [
    "### 1.2.2 Run code on GPU version\n",
    "Load the model together with the adapter with few lines of code! Check the snippet below to load the adapter from the Hub and run the example evaluation."
   ]
  },
  {
   "cell_type": "code",
   "execution_count": null,
   "metadata": {
    "collapsed": false
   },
   "outputs": [],
   "source": [
    "!pip install -q -U trl transformers accelerate git+https://github.com/huggingface/peft.git\n",
    "!pip install -q datasets bitsandbytes einops wandb evaluate\n",
    "from google.colab import drive\n",
    "drive.mount('/content/drive')\n",
    "%cd /content/drive/MyDrive/Colab Notebooks/llms-peft-cook-colab/experiments/bert-large-cased-lora/auditor_sentiment"
   ]
  },
  {
   "cell_type": "code",
   "execution_count": null,
   "metadata": {
    "collapsed": false,
    "is_executing": true
   },
   "outputs": [],
   "source": [
    "import os\n",
    "os.environ[\"CUDA_VISIBLE_DEVICES\"] = \"0\"\n",
    "!python ../../../peft_train.py \\\n",
    "--model_name bert-large-cased \\\n",
    "--max_seq_len 2048 \\\n",
    "--group_by_length \\\n",
    "--max_steps 200 \\\n",
    "--dataset_name ../../../text-classification/auditor_sentiment \\\n",
    "--num_labels 3 \\\n",
    "--epochs 5 \\\n",
    "--learning_rate 1e-3\\\n",
    "--model_type SEQ_CLS \\\n",
    "--output_model_path ./result/bert-large-cased-auditor_sentiment-lora \\\n",
    "--bnb_4bit_compute_dtype float16 \\\n",
    "--load_in_8bit \\\n",
    "--use_4b"
   ]
  },
  {
   "cell_type": "markdown",
   "metadata": {
    "collapsed": false
   },
   "source": [
    "# Load your adapter from the Hub"
   ]
  },
  {
   "cell_type": "code",
   "execution_count": 7,
   "metadata": {
    "ExecuteTime": {
     "end_time": "2023-12-02T16:37:01.962850Z",
     "start_time": "2023-12-02T16:37:01.696535Z"
    },
    "collapsed": false
   },
   "outputs": [],
   "source": [
    "import torch\n",
    "from peft import PeftModel, PeftConfig\n",
    "from transformers import AutoModelForSeq2SeqLM, AutoTokenizer\n",
    "\n",
    "peft_model_id = \"./result/flan-t5-cup-lora\"\n",
    "base_model_name_or_path = '.../../../pretrain_models/google-flan-t5-small'\n",
    "config = PeftConfig.from_pretrained(peft_model_id)\n",
    "\n",
    "# model = AutoModelForSeq2SeqLM.from_pretrained(config.base_model_name_or_path, torch_dtype=\"auto\", device_map=\"auto\")\n",
    "model = AutoModelForSeq2SeqLM.from_pretrained(config.base_model_name_or_path, torch_dtype=\"auto\", device_map=\"cpu\")\n",
    "tokenizer = AutoTokenizer.from_pretrained(config.base_model_name_or_path)\n",
    "\n",
    "# Load the Lora model\n",
    "model = PeftModel.from_pretrained(model, peft_model_id)"
   ]
  },
  {
   "cell_type": "code",
   "execution_count": 9,
   "metadata": {
    "ExecuteTime": {
     "end_time": "2023-12-02T16:40:55.202266Z",
     "start_time": "2023-12-02T16:40:55.100686Z"
    },
    "collapsed": false
   },
   "outputs": [
    {
     "name": "stdout",
     "output_type": "stream",
     "text": [
      "input sentence:  In January-September 2009 , the Group 's net interest income increased to EUR 112.4 mn from EUR 74.3 mn in January-September 2008 .\n",
      " output prediction:  ['positive positive positive positive positive positive positive positive positive positive']\n"
     ]
    }
   ],
   "source": [
    "model.eval()\n",
    "input_text = \"In January-September 2009 , the Group 's net interest income increased to EUR 112.4 mn from EUR 74.3 mn in January-September 2008 .\"\n",
    "inputs = tokenizer(input_text, return_tensors=\"pt\")\n",
    "\n",
    "outputs = model.generate(input_ids=inputs[\"input_ids\"], max_new_tokens=10)\n",
    "\n",
    "print(\"input sentence: \", input_text)\n",
    "print(\" output prediction: \", tokenizer.batch_decode(outputs.detach().cpu().numpy(), skip_special_tokens=True))"
   ]
  },
  {
   "cell_type": "code",
   "execution_count": 8,
   "metadata": {
    "ExecuteTime": {
     "end_time": "2023-12-02T16:37:04.919570Z",
     "start_time": "2023-12-02T16:37:04.379496Z"
    },
    "collapsed": false
   },
   "outputs": [
    {
     "name": "stdout",
     "output_type": "stream",
     "text": [
      "input sentence:  In January-September 2009 , the Group 's net interest income increased to EUR 112.4 mn from EUR 74.3 mn in January-September 2008 .\n",
      " output prediction:  ['positive positive positive positive positive positive positive positive positive positive']\n"
     ]
    }
   ],
   "source": [
    "model.eval()\n",
    "input_text = \"In January-September 2009 , the Group 's net interest income increased to EUR 112.4 mn from EUR 74.3 mn in January-September 2008 .\"\n",
    "inputs = tokenizer(input_text, return_tensors=\"pt\")\n",
    "\n",
    "outputs = model.generate(input_ids=inputs[\"input_ids\"], max_new_tokens=10)\n",
    "\n",
    "print(\"input sentence: \", input_text)\n",
    "print(\" output prediction: \", tokenizer.batch_decode(outputs.detach().cpu().numpy(), skip_special_tokens=True))"
   ]
  },
  {
   "cell_type": "markdown",
   "metadata": {
    "collapsed": false
   },
   "source": [
    "## 1.3 Experimental Result"
   ]
  },
  {
   "cell_type": "code",
   "execution_count": null,
   "metadata": {
    "collapsed": false,
    "is_executing": true
   },
   "outputs": [],
   "source": [
    "class HTMLRender:\n",
    "    def __init__(self,html_str):\n",
    "        self.html_str =html_str\n",
    "    def _repr_html_(self):\n",
    "       return self.html_str\n"
   ]
  },
  {
   "cell_type": "code",
   "execution_count": null,
   "metadata": {
    "collapsed": false,
    "is_executing": true
   },
   "outputs": [],
   "source": [
    "model_accurcy_html = '''\n",
    "<table>\n",
    "  <tr>\n",
    "    <th>eval loss</th>\n",
    "    <th>eval accuracy</th>\n",
    "    <th>eval precision</th>\n",
    "    <th>eval recall</th>\n",
    "    <th>eval f1</th>\n",
    "  </tr>\n",
    "  <tr>\n",
    "    <td style=\"background-color:#4C72B0;\">0.102</td>\n",
    "    <td style=\"background-color:#55A868;\">0.896</td>\n",
    "    <td style=\"background-color:#C44E52;\">0.90</td>\n",
    "     <td style=\"background-color:#8172B2;\">0.896</td>\n",
    "    <td style=\"background-color:#64B5CD;\">0.894</td>\n",
    "  </tr>\n",
    "\n",
    "</table>\n",
    "\n",
    "       '''\n",
    "HTMLRender(model_accurcy_html)"
   ]
  },
  {
   "cell_type": "code",
   "execution_count": null,
   "metadata": {
    "collapsed": false,
    "is_executing": true
   },
   "outputs": [],
   "source": [
    "accuracy_html = '''\n",
    "<img src=\"./image/flan-t5-small-accuracy.png\" alt=\"flan-t5-small-accuracy\" width=\"70%\">\n",
    "'''\n",
    "HTMLRender(accuracy_html)"
   ]
  },
  {
   "cell_type": "code",
   "execution_count": null,
   "metadata": {
    "collapsed": false
   },
   "outputs": [],
   "source": [
    "## Load your adapter from the Hub\n"
   ]
  }
 ],
 "metadata": {
  "kernelspec": {
   "display_name": "Python 3",
   "language": "python",
   "name": "python3"
  },
  "language_info": {
   "codemirror_mode": {
    "name": "ipython",
    "version": 3
   },
   "file_extension": ".py",
   "mimetype": "text/x-python",
   "name": "python",
   "nbconvert_exporter": "python",
   "pygments_lexer": "ipython3",
   "version": "3.11.5"
  }
 },
 "nbformat": 4,
 "nbformat_minor": 0
}
