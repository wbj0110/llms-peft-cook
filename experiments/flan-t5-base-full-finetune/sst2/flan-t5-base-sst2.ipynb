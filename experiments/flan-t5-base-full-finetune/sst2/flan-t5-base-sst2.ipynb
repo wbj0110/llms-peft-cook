{
 "cells": [
  {
   "cell_type": "markdown",
   "source": [
    "Finetuning the model on financial_phrasebank dataset, that consists of pairs of text-labels to classify financial-related sentences, if they are either <span style=\"color: red;\">positive</span>, <span style=\"color: purple;\">neutral</span> or <span style=\"color: green;\">negative</span>."
   ],
   "metadata": {
    "collapsed": false
   }
  },
  {
   "cell_type": "markdown",
   "source": [
    "# 1.Experimental Setup1"
   ],
   "metadata": {
    "collapsed": false
   }
  },
  {
   "cell_type": "markdown",
   "source": [
    "## 1.1 Setup"
   ],
   "metadata": {
    "collapsed": false
   }
  },
  {
   "cell_type": "markdown",
   "source": [
    "## 1.2 Training"
   ],
   "metadata": {
    "collapsed": false
   }
  },
  {
   "cell_type": "markdown",
   "source": [
    "### 1.2.1 Run code on CPU version"
   ],
   "metadata": {
    "collapsed": false
   }
  },
  {
   "cell_type": "code",
   "execution_count": null,
   "outputs": [],
   "source": [
    "!pwd"
   ],
   "metadata": {
    "collapsed": false,
    "is_executing": true
   }
  },
  {
   "cell_type": "code",
   "execution_count": 1,
   "outputs": [
    {
     "name": "stdout",
     "output_type": "stream",
     "text": [
      "/Users/wengbenjue/opt/anaconda3/envs/peft/lib/python3.11/site-packages/bitsandbytes/cextension.py:34: UserWarning: The installed version of bitsandbytes was compiled without GPU support. 8-bit optimizers, 8-bit multiplication, and GPU quantization are unavailable.\r\n",
      "  warn(\"The installed version of bitsandbytes was compiled without GPU support. \"\r\n",
      "'NoneType' object has no attribute 'cadam32bit_grad_fp32'\r\n",
      "/Users/wengbenjue/opt/anaconda3/envs/peft/lib/python3.11/site-packages/trl/trainer/ppo_config.py:141: UserWarning: The `optimize_cuda_cache` arguement will be deprecated soon, please use `optimize_device_cache` instead.\r\n",
      "  warnings.warn(\r\n",
      "use AutoModelForSeq2SeqLM load  model.\r\n",
      "You are using the default legacy behaviour of the <class 'transformers.models.t5.tokenization_t5.T5Tokenizer'>. This is expected, and simply means that the `legacy` (previous) behavior will be used so nothing changes for you. If you want to use the new behaviour, set `legacy=False`. This should only be set if you understand what it means, and thouroughly read the reason why this was added as explained in https://github.com/huggingface/transformers/pull/24565\r\n",
      "trainable params: 247577856 || all params: 247577856 || trainable%: 100.0\r\n",
      "tokenizer padding setting: </s>\r\n",
      "Sentence: uneasy mishmash of styles and genres .\r\n",
      "number of labels:2\r\n",
      "Running tokenizer on dataset: 100%|█| 3642/3642 [00:00<00:00, 26061.18 examples/\r\n",
      "Running tokenizer on dataset: 100%|█| 1744/1744 [00:00<00:00, 26420.53 examples/\r\n",
      "  0%|                                                    | 0/70 [00:00<?, ?it/s]/Users/wengbenjue/opt/anaconda3/envs/peft/lib/python3.11/site-packages/torch/utils/checkpoint.py:429: UserWarning: torch.utils.checkpoint: please pass in use_reentrant=True or use_reentrant=False explicitly. The default value of use_reentrant will be updated to be False in the future. To maintain current behavior, pass use_reentrant=True. It is recommended that you use use_reentrant=False. Refer to docs for more details on the differences between the two variants.\r\n",
      "  warnings.warn(\r\n",
      "{'loss': 0.5458, 'learning_rate': 0.0008571428571428571, 'epoch': 0.7}          \r\n",
      " 20%|████████▌                                  | 14/70 [01:53<11:06, 11.90s/it]\r\n",
      "  0%|                                                    | 0/28 [00:00<?, ?it/s]\u001B[A\r\n",
      "  7%|███▏                                        | 2/28 [00:00<00:11,  2.20it/s]\u001B[A\r\n",
      " 11%|████▋                                       | 3/28 [00:01<00:17,  1.43it/s]\u001B[A\r\n",
      " 14%|██████▎                                     | 4/28 [00:02<00:19,  1.24it/s]\u001B[A\r\n",
      " 18%|███████▊                                    | 5/28 [00:03<00:19,  1.17it/s]\u001B[A\r\n",
      " 21%|█████████▍                                  | 6/28 [00:04<00:18,  1.19it/s]\u001B[A\r\n",
      " 25%|███████████                                 | 7/28 [00:05<00:18,  1.11it/s]\u001B[A\r\n",
      " 29%|████████████▌                               | 8/28 [00:06<00:18,  1.08it/s]\u001B[A\r\n",
      " 32%|██████████████▏                             | 9/28 [00:07<00:17,  1.07it/s]\u001B[A\r\n",
      " 36%|███████████████▎                           | 10/28 [00:08<00:17,  1.00it/s]\u001B[A\r\n",
      " 39%|████████████████▉                          | 11/28 [00:09<00:16,  1.05it/s]\u001B[A\r\n",
      " 43%|██████████████████▍                        | 12/28 [00:10<00:15,  1.02it/s]\u001B[A\r\n",
      " 46%|███████████████████▉                       | 13/28 [00:11<00:14,  1.03it/s]\u001B[A\r\n",
      " 50%|█████████████████████▌                     | 14/28 [00:12<00:13,  1.01it/s]\u001B[A\r\n",
      " 54%|███████████████████████                    | 15/28 [00:13<00:12,  1.08it/s]\u001B[A\r\n",
      " 57%|████████████████████████▌                  | 16/28 [00:14<00:11,  1.03it/s]\u001B[A\r\n",
      " 61%|██████████████████████████                 | 17/28 [00:15<00:10,  1.01it/s]\u001B[A\r\n",
      " 64%|███████████████████████████▋               | 18/28 [00:16<00:09,  1.03it/s]\u001B[A\r\n",
      " 68%|█████████████████████████████▏             | 19/28 [00:17<00:09,  1.03s/it]\u001B[A\r\n",
      " 71%|██████████████████████████████▋            | 20/28 [00:18<00:08,  1.09s/it]\u001B[A\r\n",
      " 75%|████████████████████████████████▎          | 21/28 [00:20<00:07,  1.10s/it]\u001B[A\r\n",
      " 79%|█████████████████████████████████▊         | 22/28 [00:21<00:06,  1.09s/it]\u001B[A\r\n",
      " 82%|███████████████████████████████████▎       | 23/28 [00:22<00:05,  1.15s/it]\u001B[A\r\n",
      " 86%|████████████████████████████████████▊      | 24/28 [00:23<00:04,  1.18s/it]\u001B[A\r\n",
      " 89%|██████████████████████████████████████▍    | 25/28 [00:24<00:03,  1.14s/it]\u001B[A\r\n",
      " 93%|███████████████████████████████████████▉   | 26/28 [00:26<00:02,  1.20s/it]\u001B[A\r\n",
      " 96%|█████████████████████████████████████████▍ | 27/28 [00:27<00:01,  1.20s/it]\u001B[A\r\n",
      "                                                                                \u001B[A\r\n",
      "\u001B[A{'eval_loss': 10.19779109954834, 'eval_accuracy': 0.5091743119266054, 'eval_precision': 0.25925847992593215, 'eval_recall': 0.5091743119266054, 'eval_f1': 0.34357658737904684, 'eval_runtime': 31.8879, 'eval_samples_per_second': 54.692, 'eval_steps_per_second': 0.878, 'epoch': 0.98}\r\n",
      " 20%|████████▌                                  | 14/70 [02:32<11:06, 11.90s/it]\r\n",
      "100%|███████████████████████████████████████████| 28/28 [00:30<00:00,  1.72s/it]\u001B[A\r\n",
      "                                                                                \u001B[A/Users/wengbenjue/opt/anaconda3/envs/peft/lib/python3.11/site-packages/torch/utils/checkpoint.py:429: UserWarning: torch.utils.checkpoint: please pass in use_reentrant=True or use_reentrant=False explicitly. The default value of use_reentrant will be updated to be False in the future. To maintain current behavior, pass use_reentrant=True. It is recommended that you use use_reentrant=False. Refer to docs for more details on the differences between the two variants.\r\n",
      "  warnings.warn(\r\n",
      "{'loss': 0.0, 'learning_rate': 0.0007142857142857143, 'epoch': 1.4}             \r\n",
      " 40%|█████████████████▏                         | 28/70 [05:04<04:47,  6.84s/it]\r\n",
      "  0%|                                                    | 0/28 [00:00<?, ?it/s]\u001B[A\r\n",
      "  7%|███▏                                        | 2/28 [00:00<00:03,  6.60it/s]\u001B[A\r\n",
      " 11%|████▋                                       | 3/28 [00:00<00:05,  4.48it/s]\u001B[A\r\n",
      " 14%|██████▎                                     | 4/28 [00:00<00:06,  3.95it/s]\u001B[A\r\n",
      " 18%|███████▊                                    | 5/28 [00:01<00:06,  3.69it/s]\u001B[A\r\n",
      " 21%|█████████▍                                  | 6/28 [00:01<00:06,  3.55it/s]\u001B[A\r\n",
      " 25%|███████████                                 | 7/28 [00:01<00:06,  3.46it/s]\u001B[A\r\n",
      " 29%|████████████▌                               | 8/28 [00:02<00:08,  2.44it/s]\u001B[A\r\n",
      " 32%|██████████████▏                             | 9/28 [00:02<00:07,  2.66it/s]\u001B[A\r\n",
      " 36%|███████████████▎                           | 10/28 [00:03<00:06,  2.83it/s]\u001B[A\r\n",
      " 39%|████████████████▉                          | 11/28 [00:03<00:05,  2.96it/s]\u001B[A\r\n",
      " 43%|██████████████████▍                        | 12/28 [00:04<00:06,  2.33it/s]\u001B[A\r\n",
      " 46%|███████████████████▉                       | 13/28 [00:04<00:05,  2.57it/s]\u001B[A\r\n",
      " 50%|█████████████████████▌                     | 14/28 [00:05<00:06,  2.13it/s]\u001B[A\r\n",
      " 54%|███████████████████████                    | 15/28 [00:05<00:05,  2.39it/s]\u001B[A\r\n",
      " 57%|████████████████████████▌                  | 16/28 [00:05<00:04,  2.58it/s]\u001B[A\r\n",
      " 61%|██████████████████████████                 | 17/28 [00:06<00:05,  2.19it/s]\u001B[A\r\n",
      " 64%|███████████████████████████▋               | 18/28 [00:06<00:04,  2.43it/s]\u001B[A\r\n",
      " 68%|█████████████████████████████▏             | 19/28 [00:07<00:04,  1.81it/s]\u001B[A\r\n",
      " 71%|██████████████████████████████▋            | 20/28 [00:07<00:04,  1.85it/s]\u001B[A\r\n",
      " 75%|████████████████████████████████▎          | 21/28 [00:08<00:03,  1.91it/s]\u001B[A\r\n",
      " 79%|█████████████████████████████████▊         | 22/28 [00:08<00:03,  1.94it/s]\u001B[A\r\n",
      " 82%|███████████████████████████████████▎       | 23/28 [00:09<00:02,  1.94it/s]\u001B[A\r\n",
      " 86%|████████████████████████████████████▊      | 24/28 [00:09<00:02,  1.91it/s]\u001B[A\r\n",
      " 89%|██████████████████████████████████████▍    | 25/28 [00:10<00:01,  1.89it/s]\u001B[A\r\n",
      " 93%|███████████████████████████████████████▉   | 26/28 [00:11<00:01,  1.90it/s]\u001B[A\r\n",
      " 96%|█████████████████████████████████████████▍ | 27/28 [00:11<00:00,  1.79it/s]\u001B[A\r\n",
      "                                                                                \u001B[A\r\n",
      "\u001B[A{'eval_loss': 10.676003456115723, 'eval_accuracy': 0.5091743119266054, 'eval_precision': 0.25925847992593215, 'eval_recall': 0.5091743119266054, 'eval_f1': 0.34357658737904684, 'eval_runtime': 12.2659, 'eval_samples_per_second': 142.182, 'eval_steps_per_second': 2.283, 'epoch': 1.96}\r\n",
      " 40%|█████████████████▏                         | 28/70 [05:18<04:47,  6.84s/it]\r\n",
      "100%|███████████████████████████████████████████| 28/28 [00:11<00:00,  2.35it/s]\u001B[A\r\n",
      "                                                                                \u001B[A/Users/wengbenjue/opt/anaconda3/envs/peft/lib/python3.11/site-packages/torch/utils/checkpoint.py:429: UserWarning: torch.utils.checkpoint: please pass in use_reentrant=True or use_reentrant=False explicitly. The default value of use_reentrant will be updated to be False in the future. To maintain current behavior, pass use_reentrant=True. It is recommended that you use use_reentrant=False. Refer to docs for more details on the differences between the two variants.\r\n",
      "  warnings.warn(\r\n",
      "{'loss': 0.0, 'learning_rate': 0.0005714285714285714, 'epoch': 2.11}            \r\n",
      "{'loss': 0.0, 'learning_rate': 0.00042857142857142855, 'epoch': 2.81}           \r\n",
      " 60%|█████████████████████████▊                 | 42/70 [08:00<07:37, 16.35s/it]\r\n",
      "  0%|                                                    | 0/28 [00:00<?, ?it/s]\u001B[A\r\n",
      "  7%|███▏                                        | 2/28 [00:01<00:15,  1.68it/s]\u001B[A\r\n",
      " 11%|████▋                                       | 3/28 [00:02<00:20,  1.22it/s]\u001B[A\r\n",
      " 14%|██████▎                                     | 4/28 [00:02<00:18,  1.31it/s]\u001B[A\r\n",
      " 18%|███████▊                                    | 5/28 [00:04<00:20,  1.14it/s]\u001B[A\r\n",
      " 21%|█████████▍                                  | 6/28 [00:05<00:22,  1.01s/it]\u001B[A\r\n",
      " 25%|███████████                                 | 7/28 [00:06<00:21,  1.02s/it]\u001B[A\r\n",
      " 29%|████████████▌                               | 8/28 [00:07<00:23,  1.16s/it]\u001B[A\r\n",
      " 32%|██████████████▏                             | 9/28 [00:09<00:22,  1.19s/it]\u001B[A\r\n",
      " 36%|███████████████▎                           | 10/28 [00:10<00:20,  1.16s/it]\u001B[A\r\n",
      " 39%|████████████████▉                          | 11/28 [00:10<00:16,  1.02it/s]\u001B[A\r\n",
      " 43%|██████████████████▍                        | 12/28 [00:12<00:17,  1.08s/it]\u001B[A\r\n",
      " 46%|███████████████████▉                       | 13/28 [00:12<00:14,  1.03it/s]\u001B[A\r\n",
      " 50%|█████████████████████▌                     | 14/28 [00:13<00:14,  1.00s/it]\u001B[A\r\n",
      " 54%|███████████████████████                    | 15/28 [00:14<00:12,  1.05it/s]\u001B[A\r\n",
      " 57%|████████████████████████▌                  | 16/28 [00:15<00:11,  1.06it/s]\u001B[A\r\n",
      " 61%|██████████████████████████                 | 17/28 [00:16<00:11,  1.00s/it]\u001B[A\r\n",
      " 64%|███████████████████████████▋               | 18/28 [00:17<00:10,  1.06s/it]\u001B[A\r\n",
      " 68%|█████████████████████████████▏             | 19/28 [00:19<00:12,  1.35s/it]\u001B[A\r\n",
      " 71%|██████████████████████████████▋            | 20/28 [00:21<00:10,  1.32s/it]\u001B[A\r\n",
      " 75%|████████████████████████████████▎          | 21/28 [00:22<00:09,  1.33s/it]\u001B[A\r\n",
      " 79%|█████████████████████████████████▊         | 22/28 [00:23<00:07,  1.33s/it]\u001B[A\r\n",
      " 82%|███████████████████████████████████▎       | 23/28 [00:25<00:06,  1.32s/it]\u001B[A\r\n",
      " 86%|████████████████████████████████████▊      | 24/28 [00:26<00:05,  1.34s/it]\u001B[A\r\n",
      " 89%|██████████████████████████████████████▍    | 25/28 [00:28<00:04,  1.62s/it]\u001B[A\r\n",
      " 93%|███████████████████████████████████████▉   | 26/28 [00:30<00:03,  1.57s/it]\u001B[A\r\n",
      " 96%|█████████████████████████████████████████▍ | 27/28 [00:33<00:01,  1.91s/it]\u001B[A\r\n",
      "                                                                                \u001B[A\r\n",
      "\u001B[A{'eval_loss': 10.914247512817383, 'eval_accuracy': 0.5091743119266054, 'eval_precision': 0.25925847992593215, 'eval_recall': 0.5091743119266054, 'eval_f1': 0.34357658737904684, 'eval_runtime': 36.3434, 'eval_samples_per_second': 47.987, 'eval_steps_per_second': 0.77, 'epoch': 2.95}\r\n",
      " 60%|█████████████████████████▊                 | 42/70 [08:48<07:37, 16.35s/it]\r\n",
      "100%|███████████████████████████████████████████| 28/28 [00:35<00:00,  1.61s/it]\u001B[A\r\n",
      "                                                                                \u001B[A/Users/wengbenjue/opt/anaconda3/envs/peft/lib/python3.11/site-packages/torch/utils/checkpoint.py:429: UserWarning: torch.utils.checkpoint: please pass in use_reentrant=True or use_reentrant=False explicitly. The default value of use_reentrant will be updated to be False in the future. To maintain current behavior, pass use_reentrant=True. It is recommended that you use use_reentrant=False. Refer to docs for more details on the differences between the two variants.\r\n",
      "  warnings.warn(\r\n",
      "{'loss': 0.0, 'learning_rate': 0.0002857142857142857, 'epoch': 3.51}            \r\n",
      " 81%|███████████████████████████████████        | 57/70 [12:57<03:36, 16.66s/it]\r\n",
      "  0%|                                                    | 0/28 [00:00<?, ?it/s]\u001B[A\r\n",
      "  7%|███▏                                        | 2/28 [00:00<00:11,  2.35it/s]\u001B[A\r\n",
      " 11%|████▋                                       | 3/28 [00:01<00:16,  1.52it/s]\u001B[A\r\n",
      " 14%|██████▎                                     | 4/28 [00:02<00:17,  1.37it/s]\u001B[A\r\n",
      " 18%|███████▊                                    | 5/28 [00:03<00:19,  1.20it/s]\u001B[A\r\n",
      " 21%|█████████▍                                  | 6/28 [00:04<00:19,  1.16it/s]\u001B[A\r\n",
      " 25%|███████████                                 | 7/28 [00:05<00:18,  1.14it/s]\u001B[A\r\n",
      " 29%|████████████▌                               | 8/28 [00:06<00:20,  1.02s/it]\u001B[A\r\n",
      " 32%|██████████████▏                             | 9/28 [00:07<00:18,  1.00it/s]\u001B[A\r\n",
      " 36%|███████████████▎                           | 10/28 [00:08<00:17,  1.02it/s]\u001B[A\r\n",
      " 39%|████████████████▉                          | 11/28 [00:09<00:16,  1.00it/s]\u001B[A\r\n",
      " 43%|██████████████████▍                        | 12/28 [00:10<00:16,  1.05s/it]\u001B[A\r\n",
      " 46%|███████████████████▉                       | 13/28 [00:12<00:15,  1.05s/it]\u001B[A\r\n",
      " 50%|█████████████████████▌                     | 14/28 [00:13<00:16,  1.18s/it]\u001B[A\r\n",
      " 54%|███████████████████████                    | 15/28 [00:14<00:14,  1.12s/it]\u001B[A\r\n",
      " 57%|████████████████████████▌                  | 16/28 [00:14<00:11,  1.08it/s]\u001B[A\r\n",
      " 61%|██████████████████████████                 | 17/28 [00:16<00:11,  1.08s/it]\u001B[A\r\n",
      " 64%|███████████████████████████▋               | 18/28 [00:17<00:10,  1.07s/it]\u001B[A\r\n",
      " 68%|█████████████████████████████▏             | 19/28 [00:21<00:17,  1.95s/it]\u001B[A\r\n",
      " 71%|██████████████████████████████▋            | 20/28 [00:27<00:25,  3.22s/it]\u001B[A\r\n",
      " 75%|████████████████████████████████▎          | 21/28 [00:32<00:25,  3.67s/it]\u001B[A\r\n",
      " 79%|█████████████████████████████████▊         | 22/28 [00:39<00:28,  4.70s/it]\u001B[A\r\n",
      " 82%|███████████████████████████████████▎       | 23/28 [00:42<00:21,  4.25s/it]\u001B[A\r\n",
      " 86%|████████████████████████████████████▊      | 24/28 [00:46<00:16,  4.06s/it]\u001B[A\r\n",
      " 89%|██████████████████████████████████████▍    | 25/28 [00:49<00:11,  3.89s/it]\u001B[A\r\n",
      " 93%|███████████████████████████████████████▉   | 26/28 [00:52<00:07,  3.68s/it]\u001B[A\r\n",
      " 96%|█████████████████████████████████████████▍ | 27/28 [01:00<00:04,  4.82s/it]\u001B[A\r\n",
      "                                                                                \u001B[A\r\n",
      "\u001B[A{'eval_loss': 10.958222389221191, 'eval_accuracy': 0.5091743119266054, 'eval_precision': 0.25925847992593215, 'eval_recall': 0.5091743119266054, 'eval_f1': 0.34357658737904684, 'eval_runtime': 69.6358, 'eval_samples_per_second': 25.045, 'eval_steps_per_second': 0.402, 'epoch': 4.0}\r\n",
      " 81%|███████████████████████████████████        | 57/70 [14:07<03:36, 16.66s/it]\r\n",
      "100%|███████████████████████████████████████████| 28/28 [01:08<00:00,  5.05s/it]\u001B[A\r\n",
      "                                                                                \u001B[A/Users/wengbenjue/opt/anaconda3/envs/peft/lib/python3.11/site-packages/torch/utils/checkpoint.py:429: UserWarning: torch.utils.checkpoint: please pass in use_reentrant=True or use_reentrant=False explicitly. The default value of use_reentrant will be updated to be False in the future. To maintain current behavior, pass use_reentrant=True. It is recommended that you use use_reentrant=False. Refer to docs for more details on the differences between the two variants.\r\n",
      "  warnings.warn(\r\n",
      "{'loss': 0.0, 'learning_rate': 0.00014285714285714284, 'epoch': 4.21}           \r\n",
      "{'loss': 0.0, 'learning_rate': 0.0, 'epoch': 4.91}                              \r\n",
      "100%|███████████████████████████████████████████| 70/70 [17:55<00:00, 17.76s/it]\r\n",
      "  0%|                                                    | 0/28 [00:00<?, ?it/s]\u001B[A\r\n",
      "  7%|███▏                                        | 2/28 [00:01<00:13,  1.86it/s]\u001B[A\r\n",
      " 11%|████▋                                       | 3/28 [00:02<00:19,  1.30it/s]\u001B[A\r\n",
      " 14%|██████▎                                     | 4/28 [00:03<00:19,  1.21it/s]\u001B[A\r\n",
      " 18%|███████▊                                    | 5/28 [00:04<00:20,  1.12it/s]\u001B[A\r\n",
      " 21%|█████████▍                                  | 6/28 [00:04<00:19,  1.13it/s]\u001B[A\r\n",
      " 25%|███████████                                 | 7/28 [00:06<00:19,  1.06it/s]\u001B[A\r\n",
      " 29%|████████████▌                               | 8/28 [00:09<00:35,  1.79s/it]\u001B[A\r\n",
      " 32%|██████████████▏                             | 9/28 [00:10<00:30,  1.61s/it]\u001B[A\r\n",
      " 36%|███████████████▎                           | 10/28 [00:11<00:24,  1.37s/it]\u001B[A\r\n",
      " 39%|████████████████▉                          | 11/28 [00:12<00:21,  1.25s/it]\u001B[A\r\n",
      " 43%|██████████████████▍                        | 12/28 [00:16<00:33,  2.07s/it]\u001B[A\r\n",
      " 46%|███████████████████▉                       | 13/28 [00:17<00:25,  1.73s/it]\u001B[A\r\n",
      " 50%|█████████████████████▌                     | 14/28 [00:19<00:23,  1.66s/it]\u001B[A\r\n",
      " 54%|███████████████████████                    | 15/28 [00:20<00:19,  1.49s/it]\u001B[A\r\n",
      " 57%|████████████████████████▌                  | 16/28 [00:21<00:16,  1.35s/it]\u001B[A\r\n",
      " 61%|██████████████████████████                 | 17/28 [00:22<00:15,  1.40s/it]\u001B[A\r\n",
      " 64%|███████████████████████████▋               | 18/28 [00:23<00:12,  1.25s/it]\u001B[A\r\n",
      " 68%|█████████████████████████████▏             | 19/28 [00:25<00:12,  1.44s/it]\u001B[A\r\n",
      " 71%|██████████████████████████████▋            | 20/28 [00:26<00:11,  1.43s/it]\u001B[A\r\n",
      " 75%|████████████████████████████████▎          | 21/28 [00:27<00:09,  1.32s/it]\u001B[A\r\n",
      " 79%|█████████████████████████████████▊         | 22/28 [00:29<00:07,  1.33s/it]\u001B[A\r\n",
      " 82%|███████████████████████████████████▎       | 23/28 [00:30<00:06,  1.33s/it]\u001B[A\r\n",
      " 86%|████████████████████████████████████▊      | 24/28 [00:32<00:05,  1.36s/it]\u001B[A\r\n",
      " 89%|██████████████████████████████████████▍    | 25/28 [00:33<00:04,  1.43s/it]\u001B[A\r\n",
      " 93%|███████████████████████████████████████▉   | 26/28 [00:35<00:02,  1.43s/it]\u001B[A\r\n",
      " 96%|█████████████████████████████████████████▍ | 27/28 [00:37<00:01,  1.58s/it]\u001B[A\r\n",
      "                                                                                \u001B[A\r\n",
      "\u001B[A{'eval_loss': 10.961657524108887, 'eval_accuracy': 0.5091743119266054, 'eval_precision': 0.25925847992593215, 'eval_recall': 0.5091743119266054, 'eval_f1': 0.34357658737904684, 'eval_runtime': 40.6037, 'eval_samples_per_second': 42.952, 'eval_steps_per_second': 0.69, 'epoch': 4.91}\r\n",
      "100%|███████████████████████████████████████████| 70/70 [18:35<00:00, 17.76s/it]\r\n",
      "100%|███████████████████████████████████████████| 28/28 [00:39<00:00,  1.53s/it]\u001B[A\r\n",
      "{'train_runtime': 1116.0019, 'train_samples_per_second': 16.317, 'train_steps_per_second': 0.063, 'train_loss': 0.07797775482273996, 'epoch': 4.91}\r\n",
      "100%|███████████████████████████████████████████| 70/70 [18:36<00:00, 15.94s/it]\r\n"
     ]
    }
   ],
   "source": [
    "!python ../../../peft_train.py \\\n",
    "--model_name ../../../pretrain_models/flan-t5-base \\\n",
    "--max_seq_len 2048 \\\n",
    "--group_by_length \\\n",
    "--max_steps 200 \\\n",
    "--dataset_name ../../../text-classification/sst2 \\\n",
    "--num_labels 2 \\\n",
    "--epochs 5 \\\n",
    "--learning_rate 1e-3 \\\n",
    "--per_device_train_batch_size 64 \\\n",
    "--per_device_eval_batch_size 64 \\\n",
    "--model_type SEQ_2_SEQ_LM \\\n",
    "--output_model_path ./result/flan-t5-base-sst2-lora \\\n",
    "--need_hyperparameters_search False \\\n",
    "--enable_peft False \\\n",
    "--bnb_4bit_compute_dtype float32 \\\n",
    "--use_4b False\n"
   ],
   "metadata": {
    "collapsed": false,
    "ExecuteTime": {
     "end_time": "2023-12-06T01:43:22.427431Z",
     "start_time": "2023-12-06T01:24:38.401222Z"
    }
   }
  },
  {
   "cell_type": "markdown",
   "source": [
    "### 1.2.2 Run code on GPU version\n",
    "Load the model together with the adapter with few lines of code! Check the snippet below to load the adapter from the Hub and run the example evaluation."
   ],
   "metadata": {
    "collapsed": false
   }
  },
  {
   "cell_type": "code",
   "execution_count": null,
   "outputs": [],
   "source": [
    "!pip install -q -U trl transformers accelerate git+https://github.com/huggingface/peft.git\n",
    "!pip install -q datasets bitsandbytes einops wandb evaluate\n",
    "from google.colab import drive\n",
    "drive.mount('/content/drive')\n",
    "%cd /content/drive/MyDrive/Colab Notebooks/llms-peft-cook-colab/experiments/flan-t5-base-full-finetune/sst2"
   ],
   "metadata": {
    "collapsed": false
   }
  },
  {
   "cell_type": "code",
   "execution_count": null,
   "outputs": [],
   "source": [
    "import os\n",
    "os.environ[\"CUDA_VISIBLE_DEVICES\"] = \"0\"\n",
    "!python ../../../peft_train.py \\\n",
    "--model_name google/flan-t5-base \\\n",
    "--max_seq_len 2048 \\\n",
    "--group_by_length \\\n",
    "--max_steps 200 \\\n",
    "--dataset_name ../../../text-classification/sst2 \\\n",
    "--num_labels 2 \\\n",
    "--epochs 5 \\\n",
    "--learning_rate 1e-3\\\n",
    "--model_type SEQ_2_SEQ_LM \\\n",
    "--output_model_path ./result/flan-t5-base-sst2-lora \\\n",
    "--bnb_4bit_compute_dtype float16 \\\n",
    "--need_hyperparameters_search False \\\n",
    "--enable_peft False \\\n",
    "--use_4b False"
   ],
   "metadata": {
    "collapsed": false,
    "is_executing": true
   }
  },
  {
   "cell_type": "markdown",
   "source": [
    "# Load your adapter from the Hub"
   ],
   "metadata": {
    "collapsed": false
   }
  },
  {
   "cell_type": "code",
   "execution_count": 7,
   "outputs": [],
   "source": [
    "import torch\n",
    "from peft import PeftModel, PeftConfig\n",
    "from transformers import AutoModelForSeq2SeqLM, AutoTokenizer\n",
    "\n",
    "peft_model_id = \"./result/flan-t5-cup-lora\"\n",
    "base_model_name_or_path = '.../../../pretrain_models/google-flan-t5-small'\n",
    "config = PeftConfig.from_pretrained(peft_model_id)\n",
    "\n",
    "# model = AutoModelForSeq2SeqLM.from_pretrained(config.base_model_name_or_path, torch_dtype=\"auto\", device_map=\"auto\")\n",
    "model = AutoModelForSeq2SeqLM.from_pretrained(config.base_model_name_or_path, torch_dtype=\"auto\", device_map=\"cpu\")\n",
    "tokenizer = AutoTokenizer.from_pretrained(config.base_model_name_or_path)\n",
    "\n",
    "# Load the Lora model\n",
    "model = PeftModel.from_pretrained(model, peft_model_id)"
   ],
   "metadata": {
    "collapsed": false,
    "ExecuteTime": {
     "end_time": "2023-12-02T16:37:01.962850Z",
     "start_time": "2023-12-02T16:37:01.696535Z"
    }
   }
  },
  {
   "cell_type": "code",
   "execution_count": 9,
   "outputs": [
    {
     "name": "stdout",
     "output_type": "stream",
     "text": [
      "input sentence:  In January-September 2009 , the Group 's net interest income increased to EUR 112.4 mn from EUR 74.3 mn in January-September 2008 .\n",
      " output prediction:  ['positive positive positive positive positive positive positive positive positive positive']\n"
     ]
    }
   ],
   "source": [
    "model.eval()\n",
    "input_text = \"In January-September 2009 , the Group 's net interest income increased to EUR 112.4 mn from EUR 74.3 mn in January-September 2008 .\"\n",
    "inputs = tokenizer(input_text, return_tensors=\"pt\")\n",
    "\n",
    "outputs = model.generate(input_ids=inputs[\"input_ids\"], max_new_tokens=10)\n",
    "\n",
    "print(\"input sentence: \", input_text)\n",
    "print(\" output prediction: \", tokenizer.batch_decode(outputs.detach().cpu().numpy(), skip_special_tokens=True))"
   ],
   "metadata": {
    "collapsed": false,
    "ExecuteTime": {
     "end_time": "2023-12-02T16:40:55.202266Z",
     "start_time": "2023-12-02T16:40:55.100686Z"
    }
   }
  },
  {
   "cell_type": "code",
   "execution_count": 8,
   "outputs": [
    {
     "name": "stdout",
     "output_type": "stream",
     "text": [
      "input sentence:  In January-September 2009 , the Group 's net interest income increased to EUR 112.4 mn from EUR 74.3 mn in January-September 2008 .\n",
      " output prediction:  ['positive positive positive positive positive positive positive positive positive positive']\n"
     ]
    }
   ],
   "source": [
    "model.eval()\n",
    "input_text = \"In January-September 2009 , the Group 's net interest income increased to EUR 112.4 mn from EUR 74.3 mn in January-September 2008 .\"\n",
    "inputs = tokenizer(input_text, return_tensors=\"pt\")\n",
    "\n",
    "outputs = model.generate(input_ids=inputs[\"input_ids\"], max_new_tokens=10)\n",
    "\n",
    "print(\"input sentence: \", input_text)\n",
    "print(\" output prediction: \", tokenizer.batch_decode(outputs.detach().cpu().numpy(), skip_special_tokens=True))"
   ],
   "metadata": {
    "collapsed": false,
    "ExecuteTime": {
     "end_time": "2023-12-02T16:37:04.919570Z",
     "start_time": "2023-12-02T16:37:04.379496Z"
    }
   }
  },
  {
   "cell_type": "markdown",
   "source": [
    "## 1.3 Experimental Result"
   ],
   "metadata": {
    "collapsed": false
   }
  },
  {
   "cell_type": "code",
   "execution_count": null,
   "outputs": [],
   "source": [
    "class HTMLRender:\n",
    "    def __init__(self,html_str):\n",
    "        self.html_str =html_str\n",
    "    def _repr_html_(self):\n",
    "       return self.html_str\n"
   ],
   "metadata": {
    "collapsed": false,
    "is_executing": true
   }
  },
  {
   "cell_type": "code",
   "execution_count": null,
   "outputs": [],
   "source": [
    "model_accurcy_html = '''\n",
    "<table>\n",
    "  <tr>\n",
    "    <th>eval loss</th>\n",
    "    <th>eval accuracy</th>\n",
    "    <th>eval precision</th>\n",
    "    <th>eval recall</th>\n",
    "    <th>eval f1</th>\n",
    "  </tr>\n",
    "  <tr>\n",
    "    <td style=\"background-color:#4C72B0;\">0.102</td>\n",
    "    <td style=\"background-color:#55A868;\">0.896</td>\n",
    "    <td style=\"background-color:#C44E52;\">0.90</td>\n",
    "     <td style=\"background-color:#8172B2;\">0.896</td>\n",
    "    <td style=\"background-color:#64B5CD;\">0.894</td>\n",
    "  </tr>\n",
    "\n",
    "</table>\n",
    "\n",
    "       '''\n",
    "HTMLRender(model_accurcy_html)"
   ],
   "metadata": {
    "collapsed": false,
    "is_executing": true
   }
  },
  {
   "cell_type": "code",
   "execution_count": null,
   "outputs": [],
   "source": [
    "accuracy_html = '''\n",
    "<img src=\"./image/flan-t5-small-accuracy.png\" alt=\"flan-t5-small-accuracy\" width=\"70%\">\n",
    "'''\n",
    "HTMLRender(accuracy_html)"
   ],
   "metadata": {
    "collapsed": false,
    "is_executing": true
   }
  },
  {
   "cell_type": "code",
   "execution_count": null,
   "outputs": [],
   "source": [
    "## Load your adapter from the Hub\n"
   ],
   "metadata": {
    "collapsed": false
   }
  }
 ],
 "metadata": {
  "kernelspec": {
   "display_name": "Python 3",
   "language": "python",
   "name": "python3"
  },
  "language_info": {
   "codemirror_mode": {
    "name": "ipython",
    "version": 2
   },
   "file_extension": ".py",
   "mimetype": "text/x-python",
   "name": "python",
   "nbconvert_exporter": "python",
   "pygments_lexer": "ipython2",
   "version": "2.7.6"
  }
 },
 "nbformat": 4,
 "nbformat_minor": 0
}
