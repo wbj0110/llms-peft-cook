{
 "cells": [
  {
   "cell_type": "markdown",
   "source": [
    "Finetuning the model on financial_phrasebank dataset, that consists of pairs of text-labels to classify financial-related sentences, if they are either <span style=\"color: red;\">positive</span>, <span style=\"color: purple;\">neutral</span> or <span style=\"color: green;\">negative</span>."
   ],
   "metadata": {
    "collapsed": false
   }
  },
  {
   "cell_type": "markdown",
   "source": [
    "# 1.Experimental Setup1"
   ],
   "metadata": {
    "collapsed": false
   }
  },
  {
   "cell_type": "markdown",
   "source": [
    "## 1.1 Setup"
   ],
   "metadata": {
    "collapsed": false
   }
  },
  {
   "cell_type": "markdown",
   "source": [
    "## 1.2 Training"
   ],
   "metadata": {
    "collapsed": false
   }
  },
  {
   "cell_type": "markdown",
   "source": [
    "### 1.2.1 Run code on CPU version"
   ],
   "metadata": {
    "collapsed": false
   }
  },
  {
   "cell_type": "code",
   "execution_count": null,
   "outputs": [],
   "source": [
    "!pwd"
   ],
   "metadata": {
    "collapsed": false,
    "is_executing": true
   }
  },
  {
   "cell_type": "code",
   "execution_count": 1,
   "outputs": [
    {
     "name": "stdout",
     "output_type": "stream",
     "text": [
      "/Users/wengbenjue/opt/anaconda3/envs/peft/lib/python3.11/site-packages/bitsandbytes/cextension.py:34: UserWarning: The installed version of bitsandbytes was compiled without GPU support. 8-bit optimizers, 8-bit multiplication, and GPU quantization are unavailable.\r\n",
      "  warn(\"The installed version of bitsandbytes was compiled without GPU support. \"\r\n",
      "'NoneType' object has no attribute 'cadam32bit_grad_fp32'\r\n",
      "/Users/wengbenjue/opt/anaconda3/envs/peft/lib/python3.11/site-packages/trl/trainer/ppo_config.py:141: UserWarning: The `optimize_cuda_cache` arguement will be deprecated soon, please use `optimize_device_cache` instead.\r\n",
      "  warnings.warn(\r\n",
      "Some weights of BertForSequenceClassification were not initialized from the model checkpoint at ../../../pretrain_models/bert-large-cased and are newly initialized: ['classifier.bias', 'classifier.weight']\r\n",
      "You should probably TRAIN this model on a down-stream task to be able to use it for predictions and inference.\r\n",
      "use AutoModelForSequenceClassification load bert model.\r\n",
      "trainable params: 6294531 || all params: 339876870 || trainable%: 1.8520033446230102\r\n",
      "tokenizer padding setting: [PAD]\r\n",
      "Sentence: N-Viro operates processing facilities independently as well as in partnership with municipalities .\r\n",
      "Map: 100%|█████████████████████████| 4075/4075 [00:00<00:00, 8099.36 examples/s]\r\n",
      "Map: 100%|██████████████████████████| 453/453 [00:00<00:00, 10185.70 examples/s]\r\n",
      "  0%|                                                    | 0/80 [00:00<?, ?it/s]/Users/wengbenjue/opt/anaconda3/envs/peft/lib/python3.11/site-packages/torch/utils/checkpoint.py:429: UserWarning: torch.utils.checkpoint: please pass in use_reentrant=True or use_reentrant=False explicitly. The default value of use_reentrant will be updated to be False in the future. To maintain current behavior, pass use_reentrant=True. It is recommended that you use use_reentrant=False. Refer to docs for more details on the differences between the two variants.\r\n",
      "  warnings.warn(\r\n",
      "{'loss': 0.8065, 'learning_rate': 0.000875, 'epoch': 0.62}                      \r\n",
      " 20%|████████▌                                  | 16/80 [14:32<59:12, 55.51s/it]\r\n",
      "  0%|                                                     | 0/8 [00:00<?, ?it/s]\u001B[A\r\n",
      " 25%|███████████▎                                 | 2/8 [00:04<00:13,  2.25s/it]\u001B[A\r\n",
      " 38%|████████████████▉                            | 3/8 [00:08<00:15,  3.03s/it]\u001B[A\r\n",
      " 50%|██████████████████████▌                      | 4/8 [00:12<00:13,  3.40s/it]\u001B[A\r\n",
      " 62%|████████████████████████████▏                | 5/8 [00:16<00:10,  3.63s/it]\u001B[A\r\n",
      " 75%|█████████████████████████████████▊           | 6/8 [00:21<00:07,  3.86s/it]\u001B[A\r\n",
      " 88%|███████████████████████████████████████▍     | 7/8 [00:25<00:03,  3.97s/it]\u001B[A\r\n",
      "                                                                                \u001B[A\r\n",
      "\u001B[A{'eval_loss': 0.39463019371032715, 'eval_accuracy': 0.8189845474613686, 'eval_precision': 0.7320248745484019, 'eval_recall': 0.8189845474613686, 'eval_f1': 0.7684845530091226, 'eval_runtime': 32.1757, 'eval_samples_per_second': 14.079, 'eval_steps_per_second': 0.249, 'epoch': 1.0}\r\n",
      " 20%|████████▌                                  | 16/80 [15:04<59:12, 55.51s/it]\r\n",
      "100%|█████████████████████████████████████████████| 8/8 [00:27<00:00,  3.48s/it]\u001B[A\r\n",
      "                                                                                \u001B[A/Users/wengbenjue/opt/anaconda3/envs/peft/lib/python3.11/site-packages/torch/utils/checkpoint.py:429: UserWarning: torch.utils.checkpoint: please pass in use_reentrant=True or use_reentrant=False explicitly. The default value of use_reentrant will be updated to be False in the future. To maintain current behavior, pass use_reentrant=True. It is recommended that you use use_reentrant=False. Refer to docs for more details on the differences between the two variants.\r\n",
      "  warnings.warn(\r\n",
      "{'loss': 0.4614, 'learning_rate': 0.00075, 'epoch': 1.25}                       \r\n",
      "{'loss': 0.3853, 'learning_rate': 0.000625, 'epoch': 1.88}                      \r\n",
      " 40%|█████████████████▏                         | 32/80 [29:54<45:21, 56.70s/it]\r\n",
      "  0%|                                                     | 0/8 [00:00<?, ?it/s]\u001B[A\r\n",
      " 25%|███████████▎                                 | 2/8 [00:04<00:12,  2.06s/it]\u001B[A\r\n",
      " 38%|████████████████▉                            | 3/8 [00:08<00:14,  2.84s/it]\u001B[A\r\n",
      " 50%|██████████████████████▌                      | 4/8 [00:11<00:12,  3.25s/it]\u001B[A\r\n",
      " 62%|████████████████████████████▏                | 5/8 [00:16<00:10,  3.58s/it]\u001B[A\r\n",
      " 75%|█████████████████████████████████▊           | 6/8 [00:20<00:07,  3.80s/it]\u001B[A\r\n",
      " 88%|███████████████████████████████████████▍     | 7/8 [00:24<00:03,  3.85s/it]\u001B[A\r\n",
      "                                                                                \u001B[A\r\n",
      "\u001B[A{'eval_loss': 0.3136587142944336, 'eval_accuracy': 0.8410596026490066, 'eval_precision': 0.7640224848504216, 'eval_recall': 0.8410596026490066, 'eval_f1': 0.7918325447366812, 'eval_runtime': 29.3741, 'eval_samples_per_second': 15.422, 'eval_steps_per_second': 0.272, 'epoch': 2.0}\r\n",
      " 40%|█████████████████▏                         | 32/80 [30:24<45:21, 56.70s/it]\r\n",
      "100%|█████████████████████████████████████████████| 8/8 [00:25<00:00,  2.84s/it]\u001B[A\r\n",
      "                                                                                \u001B[A/Users/wengbenjue/opt/anaconda3/envs/peft/lib/python3.11/site-packages/torch/utils/checkpoint.py:429: UserWarning: torch.utils.checkpoint: please pass in use_reentrant=True or use_reentrant=False explicitly. The default value of use_reentrant will be updated to be False in the future. To maintain current behavior, pass use_reentrant=True. It is recommended that you use use_reentrant=False. Refer to docs for more details on the differences between the two variants.\r\n",
      "  warnings.warn(\r\n",
      "{'loss': 0.309, 'learning_rate': 0.0005, 'epoch': 2.5}                          \r\n",
      " 60%|█████████████████████████▊                 | 48/80 [42:06<20:21, 38.18s/it]\r\n",
      "  0%|                                                     | 0/8 [00:00<?, ?it/s]\u001B[A\r\n",
      " 25%|███████████▎                                 | 2/8 [00:02<00:08,  1.36s/it]\u001B[A\r\n",
      " 38%|████████████████▉                            | 3/8 [00:05<00:09,  1.94s/it]\u001B[A\r\n",
      " 50%|██████████████████████▌                      | 4/8 [00:08<00:08,  2.18s/it]\u001B[A\r\n",
      " 62%|████████████████████████████▏                | 5/8 [00:10<00:07,  2.35s/it]\u001B[A\r\n",
      " 75%|█████████████████████████████████▊           | 6/8 [00:13<00:04,  2.45s/it]\u001B[A\r\n",
      " 88%|███████████████████████████████████████▍     | 7/8 [00:15<00:02,  2.48s/it]\u001B[A\r\n",
      "                                                                                \u001B[A\r\n",
      "\u001B[A{'eval_loss': 0.09184873104095459, 'eval_accuracy': 0.9668874172185431, 'eval_precision': 0.9687153394712755, 'eval_recall': 0.9668874172185431, 'eval_f1': 0.9673233782476018, 'eval_runtime': 19.0506, 'eval_samples_per_second': 23.779, 'eval_steps_per_second': 0.42, 'epoch': 3.0}\r\n",
      " 60%|█████████████████████████▊                 | 48/80 [42:25<20:21, 38.18s/it]\r\n",
      "100%|█████████████████████████████████████████████| 8/8 [00:16<00:00,  1.84s/it]\u001B[A\r\n",
      "                                                                                \u001B[A/Users/wengbenjue/opt/anaconda3/envs/peft/lib/python3.11/site-packages/torch/utils/checkpoint.py:429: UserWarning: torch.utils.checkpoint: please pass in use_reentrant=True or use_reentrant=False explicitly. The default value of use_reentrant will be updated to be False in the future. To maintain current behavior, pass use_reentrant=True. It is recommended that you use use_reentrant=False. Refer to docs for more details on the differences between the two variants.\r\n",
      "  warnings.warn(\r\n",
      "{'loss': 0.1582, 'learning_rate': 0.000375, 'epoch': 3.12}                      \r\n",
      "{'loss': 0.0879, 'learning_rate': 0.00025, 'epoch': 3.75}                       \r\n",
      " 80%|██████████████████████████████████▍        | 64/80 [50:38<06:12, 23.28s/it]\r\n",
      "  0%|                                                     | 0/8 [00:00<?, ?it/s]\u001B[A\r\n",
      " 25%|███████████▎                                 | 2/8 [00:01<00:03,  1.70it/s]\u001B[A\r\n",
      " 38%|████████████████▉                            | 3/8 [00:02<00:04,  1.21it/s]\u001B[A\r\n",
      " 50%|██████████████████████▌                      | 4/8 [00:03<00:04,  1.07s/it]\u001B[A\r\n",
      " 62%|████████████████████████████▏                | 5/8 [00:05<00:03,  1.23s/it]\u001B[A\r\n",
      " 75%|█████████████████████████████████▊           | 6/8 [00:06<00:02,  1.33s/it]\u001B[A\r\n",
      " 88%|███████████████████████████████████████▍     | 7/8 [00:08<00:01,  1.37s/it]\u001B[A\r\n",
      "                                                                                \u001B[A\r\n",
      "\u001B[A{'eval_loss': 0.05898527801036835, 'eval_accuracy': 0.9713024282560706, 'eval_precision': 0.9728508383508132, 'eval_recall': 0.9713024282560706, 'eval_f1': 0.9715802933249295, 'eval_runtime': 9.8212, 'eval_samples_per_second': 46.125, 'eval_steps_per_second': 0.815, 'epoch': 4.0}\r\n",
      " 80%|██████████████████████████████████▍        | 64/80 [50:48<06:12, 23.28s/it]\r\n",
      "100%|█████████████████████████████████████████████| 8/8 [00:08<00:00,  1.00it/s]\u001B[A\r\n",
      "                                                                                \u001B[A/Users/wengbenjue/opt/anaconda3/envs/peft/lib/python3.11/site-packages/torch/utils/checkpoint.py:429: UserWarning: torch.utils.checkpoint: please pass in use_reentrant=True or use_reentrant=False explicitly. The default value of use_reentrant will be updated to be False in the future. To maintain current behavior, pass use_reentrant=True. It is recommended that you use use_reentrant=False. Refer to docs for more details on the differences between the two variants.\r\n",
      "  warnings.warn(\r\n",
      "{'loss': 0.0786, 'learning_rate': 0.000125, 'epoch': 4.38}                      \r\n",
      "{'loss': 0.0545, 'learning_rate': 0.0, 'epoch': 5.0}                            \r\n",
      "100%|███████████████████████████████████████████| 80/80 [56:12<00:00, 20.80s/it]\r\n",
      "  0%|                                                     | 0/8 [00:00<?, ?it/s]\u001B[A\r\n",
      " 25%|███████████▎                                 | 2/8 [00:01<00:04,  1.29it/s]\u001B[A\r\n",
      " 38%|████████████████▉                            | 3/8 [00:03<00:05,  1.09s/it]\u001B[A\r\n",
      " 50%|██████████████████████▌                      | 4/8 [00:04<00:04,  1.23s/it]\u001B[A\r\n",
      " 62%|████████████████████████████▏                | 5/8 [00:05<00:03,  1.30s/it]\u001B[A\r\n",
      " 75%|█████████████████████████████████▊           | 6/8 [00:07<00:02,  1.36s/it]\u001B[A\r\n",
      " 88%|███████████████████████████████████████▍     | 7/8 [00:08<00:01,  1.42s/it]\u001B[A\r\n",
      "                                                                                \u001B[A\r\n",
      "\u001B[A{'eval_loss': 0.0633135512471199, 'eval_accuracy': 0.9823399558498896, 'eval_precision': 0.9832339043657526, 'eval_recall': 0.9823399558498896, 'eval_f1': 0.9820998053882738, 'eval_runtime': 10.8101, 'eval_samples_per_second': 41.905, 'eval_steps_per_second': 0.74, 'epoch': 5.0}\r\n",
      "100%|███████████████████████████████████████████| 80/80 [56:23<00:00, 20.80s/it]\r\n",
      "100%|█████████████████████████████████████████████| 8/8 [00:09<00:00,  1.04s/it]\u001B[A\r\n",
      "{'train_runtime': 3383.3492, 'train_samples_per_second': 6.022, 'train_steps_per_second': 0.024, 'train_loss': 0.2926630169153214, 'epoch': 5.0}\r\n",
      "100%|███████████████████████████████████████████| 80/80 [56:23<00:00, 42.29s/it]\r\n"
     ]
    }
   ],
   "source": [
    "!python ../../../peft_train.py \\\n",
    "--model_name ../../../pretrain_models/bert-large-cased \\\n",
    "--max_seq_len 2048 \\\n",
    "--group_by_length \\\n",
    "--max_steps 200 \\\n",
    "--dataset_name ../../../text-classification/financial_phrasebank \\\n",
    "--num_labels 3 \\\n",
    "--epochs 5 \\\n",
    "--learning_rate 1e-3 \\\n",
    "--model_type SEQ_CLS \\\n",
    "--output_model_path ./result/bert-large-cased-financial-lora \\\n",
    "--bnb_4bit_compute_dtype float32 \\\n",
    "--use_4b False\n"
   ],
   "metadata": {
    "collapsed": false,
    "ExecuteTime": {
     "end_time": "2023-12-12T18:53:04.936862Z",
     "start_time": "2023-12-12T17:56:21.774048Z"
    }
   }
  },
  {
   "cell_type": "markdown",
   "source": [
    "### 1.2.2 Run code on GPU version\n",
    "Load the model together with the adapter with few lines of code! Check the snippet below to load the adapter from the Hub and run the example evaluation."
   ],
   "metadata": {
    "collapsed": false
   }
  },
  {
   "cell_type": "code",
   "execution_count": null,
   "outputs": [],
   "source": [
    "!pip install -q -U trl transformers accelerate git+https://github.com/huggingface/peft.git\n",
    "!pip install -q datasets bitsandbytes einops wandb evaluate\n",
    "from google.colab import drive\n",
    "drive.mount('/content/drive')\n",
    "%cd /content/drive/MyDrive/Colab Notebooks/llms-peft-cook-colab/experiments/bert-large-cased-lora/financial_phrasebank"
   ],
   "metadata": {
    "collapsed": false
   }
  },
  {
   "cell_type": "code",
   "execution_count": null,
   "outputs": [],
   "source": [
    "import os\n",
    "os.environ[\"CUDA_VISIBLE_DEVICES\"] = \"0\"\n",
    "!python ../../../peft_train.py \\\n",
    "--model_name bert-large-cased \\\n",
    "--max_seq_len 2048 \\\n",
    "--group_by_length \\\n",
    "--max_steps 200 \\\n",
    "--dataset_name ../../../text-classification/financial_phrasebank \\\n",
    "--num_labels 3 \\\n",
    "--epochs 5 \\\n",
    "--learning_rate 1e-3\\\n",
    "--model_type SEQ_CLS \\\n",
    "--output_model_path ./result/bert-large-cased-financial-lora \\\n",
    "--bnb_4bit_compute_dtype float16 \\\n",
    "--load_in_8bit \\\n",
    "--use_4b"
   ],
   "metadata": {
    "collapsed": false,
    "is_executing": true
   }
  },
  {
   "cell_type": "markdown",
   "source": [
    "# Load your adapter from the Hub"
   ],
   "metadata": {
    "collapsed": false
   }
  },
  {
   "cell_type": "code",
   "execution_count": 7,
   "outputs": [],
   "source": [
    "import torch\n",
    "from peft import PeftModel, PeftConfig\n",
    "from transformers import AutoModelForSeq2SeqLM, AutoTokenizer\n",
    "\n",
    "peft_model_id = \"./result/flan-t5-cup-lora\"\n",
    "base_model_name_or_path = '.../../../pretrain_models/google-flan-t5-small'\n",
    "config = PeftConfig.from_pretrained(peft_model_id)\n",
    "\n",
    "# model = AutoModelForSeq2SeqLM.from_pretrained(config.base_model_name_or_path, torch_dtype=\"auto\", device_map=\"auto\")\n",
    "model = AutoModelForSeq2SeqLM.from_pretrained(config.base_model_name_or_path, torch_dtype=\"auto\", device_map=\"cpu\")\n",
    "tokenizer = AutoTokenizer.from_pretrained(config.base_model_name_or_path)\n",
    "\n",
    "# Load the Lora model\n",
    "model = PeftModel.from_pretrained(model, peft_model_id)"
   ],
   "metadata": {
    "collapsed": false,
    "ExecuteTime": {
     "end_time": "2023-12-02T16:37:01.962850Z",
     "start_time": "2023-12-02T16:37:01.696535Z"
    }
   }
  },
  {
   "cell_type": "code",
   "execution_count": 9,
   "outputs": [
    {
     "name": "stdout",
     "output_type": "stream",
     "text": [
      "input sentence:  In January-September 2009 , the Group 's net interest income increased to EUR 112.4 mn from EUR 74.3 mn in January-September 2008 .\n",
      " output prediction:  ['positive positive positive positive positive positive positive positive positive positive']\n"
     ]
    }
   ],
   "source": [
    "model.eval()\n",
    "input_text = \"In January-September 2009 , the Group 's net interest income increased to EUR 112.4 mn from EUR 74.3 mn in January-September 2008 .\"\n",
    "inputs = tokenizer(input_text, return_tensors=\"pt\")\n",
    "\n",
    "outputs = model.generate(input_ids=inputs[\"input_ids\"], max_new_tokens=10)\n",
    "\n",
    "print(\"input sentence: \", input_text)\n",
    "print(\" output prediction: \", tokenizer.batch_decode(outputs.detach().cpu().numpy(), skip_special_tokens=True))"
   ],
   "metadata": {
    "collapsed": false,
    "ExecuteTime": {
     "end_time": "2023-12-02T16:40:55.202266Z",
     "start_time": "2023-12-02T16:40:55.100686Z"
    }
   }
  },
  {
   "cell_type": "code",
   "execution_count": 8,
   "outputs": [
    {
     "name": "stdout",
     "output_type": "stream",
     "text": [
      "input sentence:  In January-September 2009 , the Group 's net interest income increased to EUR 112.4 mn from EUR 74.3 mn in January-September 2008 .\n",
      " output prediction:  ['positive positive positive positive positive positive positive positive positive positive']\n"
     ]
    }
   ],
   "source": [
    "model.eval()\n",
    "input_text = \"In January-September 2009 , the Group 's net interest income increased to EUR 112.4 mn from EUR 74.3 mn in January-September 2008 .\"\n",
    "inputs = tokenizer(input_text, return_tensors=\"pt\")\n",
    "\n",
    "outputs = model.generate(input_ids=inputs[\"input_ids\"], max_new_tokens=10)\n",
    "\n",
    "print(\"input sentence: \", input_text)\n",
    "print(\" output prediction: \", tokenizer.batch_decode(outputs.detach().cpu().numpy(), skip_special_tokens=True))"
   ],
   "metadata": {
    "collapsed": false,
    "ExecuteTime": {
     "end_time": "2023-12-02T16:37:04.919570Z",
     "start_time": "2023-12-02T16:37:04.379496Z"
    }
   }
  },
  {
   "cell_type": "markdown",
   "source": [
    "## 1.3 Experimental Result"
   ],
   "metadata": {
    "collapsed": false
   }
  },
  {
   "cell_type": "code",
   "execution_count": null,
   "outputs": [],
   "source": [
    "class HTMLRender:\n",
    "    def __init__(self,html_str):\n",
    "        self.html_str =html_str\n",
    "    def _repr_html_(self):\n",
    "       return self.html_str\n"
   ],
   "metadata": {
    "collapsed": false,
    "is_executing": true
   }
  },
  {
   "cell_type": "code",
   "execution_count": null,
   "outputs": [],
   "source": [
    "model_accurcy_html = '''\n",
    "<table>\n",
    "  <tr>\n",
    "    <th>eval loss</th>\n",
    "    <th>eval accuracy</th>\n",
    "    <th>eval precision</th>\n",
    "    <th>eval recall</th>\n",
    "    <th>eval f1</th>\n",
    "  </tr>\n",
    "  <tr>\n",
    "    <td style=\"background-color:#4C72B0;\">0.102</td>\n",
    "    <td style=\"background-color:#55A868;\">0.896</td>\n",
    "    <td style=\"background-color:#C44E52;\">0.90</td>\n",
    "     <td style=\"background-color:#8172B2;\">0.896</td>\n",
    "    <td style=\"background-color:#64B5CD;\">0.894</td>\n",
    "  </tr>\n",
    "\n",
    "</table>\n",
    "\n",
    "       '''\n",
    "HTMLRender(model_accurcy_html)"
   ],
   "metadata": {
    "collapsed": false,
    "is_executing": true
   }
  },
  {
   "cell_type": "code",
   "execution_count": null,
   "outputs": [],
   "source": [
    "accuracy_html = '''\n",
    "<img src=\"./image/flan-t5-small-accuracy.png\" alt=\"flan-t5-small-accuracy\" width=\"70%\">\n",
    "'''\n",
    "HTMLRender(accuracy_html)"
   ],
   "metadata": {
    "collapsed": false,
    "is_executing": true
   }
  },
  {
   "cell_type": "code",
   "execution_count": null,
   "outputs": [],
   "source": [
    "## Load your adapter from the Hub\n"
   ],
   "metadata": {
    "collapsed": false
   }
  }
 ],
 "metadata": {
  "kernelspec": {
   "display_name": "Python 3",
   "language": "python",
   "name": "python3"
  },
  "language_info": {
   "codemirror_mode": {
    "name": "ipython",
    "version": 2
   },
   "file_extension": ".py",
   "mimetype": "text/x-python",
   "name": "python",
   "nbconvert_exporter": "python",
   "pygments_lexer": "ipython2",
   "version": "2.7.6"
  }
 },
 "nbformat": 4,
 "nbformat_minor": 0
}
