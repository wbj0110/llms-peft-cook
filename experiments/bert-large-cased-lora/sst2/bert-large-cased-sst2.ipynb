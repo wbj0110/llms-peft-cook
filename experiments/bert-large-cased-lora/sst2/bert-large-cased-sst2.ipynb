{
 "cells": [
  {
   "cell_type": "markdown",
   "metadata": {
    "collapsed": false
   },
   "source": [
    "Finetuning the model on financial_phrasebank dataset, that consists of pairs of text-labels to classify financial-related sentences, if they are either <span style=\"color: red;\">positive</span>, <span style=\"color: purple;\">neutral</span> or <span style=\"color: green;\">negative</span>."
   ]
  },
  {
   "cell_type": "markdown",
   "metadata": {
    "collapsed": false
   },
   "source": [
    "# 1.Experimental Setup1"
   ]
  },
  {
   "cell_type": "markdown",
   "metadata": {
    "collapsed": false
   },
   "source": [
    "## 1.1 Setup"
   ]
  },
  {
   "cell_type": "markdown",
   "metadata": {
    "collapsed": false
   },
   "source": [
    "## 1.2 Training"
   ]
  },
  {
   "cell_type": "markdown",
   "metadata": {
    "collapsed": false
   },
   "source": [
    "### 1.2.1 Run code on CPU version"
   ]
  },
  {
   "cell_type": "code",
   "execution_count": 1,
   "metadata": {
    "ExecuteTime": {
     "end_time": "2023-12-04T09:22:42.186361Z",
     "start_time": "2023-12-04T09:22:41.975268Z"
    },
    "collapsed": false
   },
   "outputs": [
    {
     "name": "stdout",
     "output_type": "stream",
     "text": [
      "/Users/wengbenjue/sourcecode/peft/llms-peft-cook/experiments/bert-large-cased-lora/sst2\r\n"
     ]
    }
   ],
   "source": [
    "!pwd"
   ]
  },
  {
   "cell_type": "code",
   "execution_count": 4,
   "metadata": {
    "ExecuteTime": {
     "start_time": "2023-12-05T03:53:22.491292Z"
    },
    "collapsed": false,
    "is_executing": true
   },
   "outputs": [
    {
     "name": "stdout",
     "output_type": "stream",
     "text": [
      "/Users/wengbenjue/opt/anaconda3/envs/peft/lib/python3.11/site-packages/bitsandbytes/cextension.py:34: UserWarning: The installed version of bitsandbytes was compiled without GPU support. 8-bit optimizers, 8-bit multiplication, and GPU quantization are unavailable.\n",
      "  warn(\"The installed version of bitsandbytes was compiled without GPU support. \"\n",
      "'NoneType' object has no attribute 'cadam32bit_grad_fp32'\n",
      "/Users/wengbenjue/opt/anaconda3/envs/peft/lib/python3.11/site-packages/trl/trainer/ppo_config.py:141: UserWarning: The `optimize_cuda_cache` arguement will be deprecated soon, please use `optimize_device_cache` instead.\n",
      "  warnings.warn(\n",
      "Some weights of BertForSequenceClassification were not initialized from the model checkpoint at ../../../pretrain_models/bert-large-cased and are newly initialized: ['classifier.bias', 'classifier.weight']\n",
      "You should probably TRAIN this model on a down-stream task to be able to use it for predictions and inference.\n",
      "use AutoModelForSequenceClassification load bert model.\n",
      "trainable params: 6293506 || all params: 339874820 || trainable%: 1.8517129336030247\n",
      "tokenizer padding setting: [PAD]\n",
      "Sentence: uneasy mishmash of styles and genres .\n",
      "  0%|                                                    | 0/70 [00:00<?, ?it/s]/Users/wengbenjue/opt/anaconda3/envs/peft/lib/python3.11/site-packages/torch/utils/checkpoint.py:429: UserWarning: torch.utils.checkpoint: please pass in use_reentrant=True or use_reentrant=False explicitly. The default value of use_reentrant will be updated to be False in the future. To maintain current behavior, pass use_reentrant=True. It is recommended that you use use_reentrant=False. Refer to docs for more details on the differences between the two variants.\n",
      "  warnings.warn(\n",
      "{'loss': 0.0, 'learning_rate': 0.0008571428571428571, 'epoch': 0.7}             \n",
      " 20%|████████▌                                  | 14/70 [03:31<17:32, 18.79s/it]\n",
      "  0%|                                                    | 0/28 [00:00<?, ?it/s]\u001b[A\n",
      "  7%|███▏                                        | 2/28 [00:01<00:21,  1.21it/s]\u001b[A\n",
      " 11%|████▋                                       | 3/28 [00:03<00:30,  1.22s/it]\u001b[A\n",
      " 14%|██████▎                                     | 4/28 [00:04<00:32,  1.34s/it]\u001b[A\n",
      " 18%|███████▊                                    | 5/28 [00:06<00:34,  1.50s/it]\u001b[A\n",
      " 21%|█████████▍                                  | 6/28 [00:08<00:34,  1.55s/it]\u001b[A\n",
      " 25%|███████████                                 | 7/28 [00:10<00:34,  1.66s/it]\u001b[A\n",
      " 29%|████████████▌                               | 8/28 [00:11<00:33,  1.65s/it]\u001b[A\n",
      " 32%|██████████████▏                             | 9/28 [00:13<00:32,  1.71s/it]\u001b[A\n",
      " 36%|███████████████▎                           | 10/28 [00:15<00:31,  1.73s/it]\u001b[A\n",
      " 39%|████████████████▉                          | 11/28 [00:17<00:30,  1.79s/it]\u001b[A\n",
      " 43%|██████████████████▍                        | 12/28 [00:19<00:28,  1.77s/it]\u001b[A\n",
      " 46%|███████████████████▉                       | 13/28 [00:21<00:27,  1.81s/it]\u001b[A\n",
      " 50%|█████████████████████▌                     | 14/28 [00:22<00:25,  1.83s/it]\u001b[A\n",
      " 54%|███████████████████████                    | 15/28 [00:24<00:23,  1.84s/it]\u001b[A\n",
      " 57%|████████████████████████▌                  | 16/28 [00:26<00:21,  1.83s/it]\u001b[A\n",
      " 61%|██████████████████████████                 | 17/28 [00:28<00:20,  1.83s/it]\u001b[A\n",
      " 64%|███████████████████████████▋               | 18/28 [00:30<00:18,  1.90s/it]\u001b[A\n",
      " 68%|█████████████████████████████▏             | 19/28 [00:32<00:16,  1.85s/it]\u001b[A\n",
      " 71%|██████████████████████████████▋            | 20/28 [00:34<00:15,  1.90s/it]\u001b[A\n",
      " 75%|████████████████████████████████▎          | 21/28 [00:36<00:13,  1.88s/it]\u001b[A\n",
      " 79%|█████████████████████████████████▊         | 22/28 [00:38<00:11,  1.92s/it]\u001b[A\n",
      " 82%|███████████████████████████████████▎       | 23/28 [00:39<00:09,  1.88s/it]\u001b[A\n",
      " 86%|████████████████████████████████████▊      | 24/28 [00:41<00:07,  1.90s/it]\u001b[A\n",
      " 89%|██████████████████████████████████████▍    | 25/28 [00:43<00:05,  1.88s/it]\u001b[A\n",
      " 93%|███████████████████████████████████████▉   | 26/28 [00:45<00:03,  1.95s/it]\u001b[A\n",
      " 96%|█████████████████████████████████████████▍ | 27/28 [00:47<00:01,  1.93s/it]\u001b[A\n",
      "                                                                                \u001b[A\n",
      "\u001b[A{'eval_loss': 1.1014585494995117, 'eval_accuracy': 0.49311926605504586, 'eval_precision': 0.7506379837604135, 'eval_recall': 0.49311926605504586, 'eval_f1': 0.3282544047023555, 'eval_runtime': 50.826, 'eval_samples_per_second': 34.313, 'eval_steps_per_second': 0.551, 'epoch': 0.98}\n",
      " 20%|████████▌                                  | 14/70 [04:28<17:32, 18.79s/it]\n",
      "100%|███████████████████████████████████████████| 28/28 [00:49<00:00,  1.78s/it]\u001b[A\n",
      "                                                                                \u001b[A/Users/wengbenjue/opt/anaconda3/envs/peft/lib/python3.11/site-packages/torch/utils/checkpoint.py:429: UserWarning: torch.utils.checkpoint: please pass in use_reentrant=True or use_reentrant=False explicitly. The default value of use_reentrant will be updated to be False in the future. To maintain current behavior, pass use_reentrant=True. It is recommended that you use use_reentrant=False. Refer to docs for more details on the differences between the two variants.\n",
      "  warnings.warn(\n",
      "{'loss': 0.0, 'learning_rate': 0.0007142857142857143, 'epoch': 1.4}             \n",
      " 40%|█████████████████▏                         | 28/70 [10:02<15:17, 21.83s/it]\n",
      "  0%|                                                    | 0/28 [00:00<?, ?it/s]\u001b[A\n",
      "  7%|███▏                                        | 2/28 [00:01<00:21,  1.23it/s]\u001b[A\n",
      " 11%|████▋                                       | 3/28 [00:03<00:30,  1.20s/it]\u001b[A\n",
      " 14%|██████▎                                     | 4/28 [00:04<00:31,  1.33s/it]\u001b[A\n",
      " 18%|███████▊                                    | 5/28 [00:06<00:33,  1.47s/it]\u001b[A\n",
      " 21%|█████████▍                                  | 6/28 [00:08<00:32,  1.49s/it]\u001b[A\n",
      " 25%|███████████                                 | 7/28 [00:09<00:32,  1.56s/it]\u001b[A\n",
      " 29%|████████████▌                               | 8/28 [00:11<00:30,  1.55s/it]\u001b[A\n",
      " 32%|██████████████▏                             | 9/28 [00:13<00:30,  1.59s/it]\u001b[A\n",
      " 36%|███████████████▎                           | 10/28 [00:14<00:28,  1.56s/it]\u001b[A\n",
      " 39%|████████████████▉                          | 11/28 [00:16<00:27,  1.59s/it]\u001b[A\n",
      " 43%|██████████████████▍                        | 12/28 [00:17<00:25,  1.62s/it]\u001b[A\n",
      " 46%|███████████████████▉                       | 13/28 [00:19<00:24,  1.61s/it]\u001b[A\n",
      " 50%|█████████████████████▌                     | 14/28 [00:21<00:22,  1.64s/it]\u001b[A\n",
      " 54%|███████████████████████                    | 15/28 [00:22<00:20,  1.61s/it]\u001b[A\n",
      " 57%|████████████████████████▌                  | 16/28 [00:24<00:19,  1.65s/it]\u001b[A\n",
      " 61%|██████████████████████████                 | 17/28 [00:26<00:17,  1.61s/it]\u001b[A\n",
      " 64%|███████████████████████████▋               | 18/28 [00:27<00:16,  1.64s/it]\u001b[A\n",
      " 68%|█████████████████████████████▏             | 19/28 [00:29<00:14,  1.57s/it]\u001b[A\n",
      " 71%|██████████████████████████████▋            | 20/28 [00:30<00:12,  1.60s/it]\u001b[A\n",
      " 75%|████████████████████████████████▎          | 21/28 [00:32<00:11,  1.61s/it]\u001b[A\n",
      " 79%|█████████████████████████████████▊         | 22/28 [00:34<00:09,  1.61s/it]\u001b[A\n",
      " 82%|███████████████████████████████████▎       | 23/28 [00:35<00:08,  1.63s/it]\u001b[A\n",
      " 86%|████████████████████████████████████▊      | 24/28 [00:37<00:06,  1.62s/it]\u001b[A\n",
      " 89%|██████████████████████████████████████▍    | 25/28 [00:39<00:04,  1.66s/it]\u001b[A\n",
      " 93%|███████████████████████████████████████▉   | 26/28 [00:40<00:03,  1.62s/it]\u001b[A\n",
      " 96%|█████████████████████████████████████████▍ | 27/28 [00:42<00:01,  1.62s/it]\u001b[A\n",
      "                                                                                \u001b[A\n",
      "\u001b[A{'eval_loss': 1.1014585494995117, 'eval_accuracy': 0.49311926605504586, 'eval_precision': 0.7506379837604135, 'eval_recall': 0.49311926605504586, 'eval_f1': 0.3282544047023555, 'eval_runtime': 44.3519, 'eval_samples_per_second': 39.322, 'eval_steps_per_second': 0.631, 'epoch': 1.96}\n",
      " 40%|█████████████████▏                         | 28/70 [10:57<15:17, 21.83s/it]\n",
      "100%|███████████████████████████████████████████| 28/28 [00:42<00:00,  1.29s/it]\u001b[A\n",
      "                                                                                \u001b[A/Users/wengbenjue/opt/anaconda3/envs/peft/lib/python3.11/site-packages/torch/utils/checkpoint.py:429: UserWarning: torch.utils.checkpoint: please pass in use_reentrant=True or use_reentrant=False explicitly. The default value of use_reentrant will be updated to be False in the future. To maintain current behavior, pass use_reentrant=True. It is recommended that you use use_reentrant=False. Refer to docs for more details on the differences between the two variants.\n",
      "  warnings.warn(\n",
      "{'loss': 0.0, 'learning_rate': 0.0005714285714285714, 'epoch': 2.11}            \n",
      "{'loss': 0.0, 'learning_rate': 0.00042857142857142855, 'epoch': 2.81}           \n",
      " 60%|█████████████████████████▊                 | 42/70 [15:56<10:22, 22.23s/it]\n",
      "  0%|                                                    | 0/28 [00:00<?, ?it/s]\u001b[A\n",
      "  7%|███▏                                        | 2/28 [00:01<00:22,  1.18it/s]\u001b[A\n",
      " 11%|████▋                                       | 3/28 [00:03<00:28,  1.15s/it]\u001b[A\n",
      " 14%|██████▎                                     | 4/28 [00:04<00:31,  1.32s/it]\u001b[A\n",
      " 18%|███████▊                                    | 5/28 [00:06<00:31,  1.35s/it]\u001b[A\n",
      " 21%|█████████▍                                  | 6/28 [00:07<00:29,  1.36s/it]\u001b[A\n",
      " 25%|███████████                                 | 7/28 [00:09<00:30,  1.45s/it]\u001b[A\n",
      " 29%|████████████▌                               | 8/28 [00:10<00:30,  1.52s/it]\u001b[A\n",
      " 32%|██████████████▏                             | 9/28 [00:12<00:27,  1.47s/it]\u001b[A\n",
      " 36%|███████████████▎                           | 10/28 [00:13<00:27,  1.53s/it]\u001b[A\n",
      " 39%|████████████████▉                          | 11/28 [00:15<00:25,  1.47s/it]\u001b[A\n",
      " 43%|██████████████████▍                        | 12/28 [00:16<00:23,  1.45s/it]\u001b[A\n",
      " 46%|███████████████████▉                       | 13/28 [00:18<00:21,  1.44s/it]\u001b[A\n",
      " 50%|█████████████████████▌                     | 14/28 [00:19<00:19,  1.39s/it]\u001b[A\n",
      " 54%|███████████████████████                    | 15/28 [00:21<00:19,  1.46s/it]\u001b[A\n",
      " 57%|████████████████████████▌                  | 16/28 [00:22<00:16,  1.41s/it]\u001b[A\n",
      " 61%|██████████████████████████                 | 17/28 [00:23<00:15,  1.36s/it]\u001b[A\n",
      " 64%|███████████████████████████▋               | 18/28 [00:24<00:13,  1.34s/it]\u001b[A\n",
      " 68%|█████████████████████████████▏             | 19/28 [00:26<00:11,  1.32s/it]\u001b[A\n",
      " 71%|██████████████████████████████▋            | 20/28 [00:27<00:10,  1.32s/it]\u001b[A\n",
      " 75%|████████████████████████████████▎          | 21/28 [00:28<00:09,  1.35s/it]\u001b[A\n",
      " 79%|█████████████████████████████████▊         | 22/28 [00:30<00:08,  1.36s/it]\u001b[A\n",
      " 82%|███████████████████████████████████▎       | 23/28 [00:31<00:06,  1.34s/it]\u001b[A\n",
      " 86%|████████████████████████████████████▊      | 24/28 [00:32<00:05,  1.33s/it]\u001b[A\n",
      " 89%|██████████████████████████████████████▍    | 25/28 [00:34<00:03,  1.31s/it]\u001b[A\n",
      " 93%|███████████████████████████████████████▉   | 26/28 [00:35<00:02,  1.31s/it]\u001b[A\n",
      " 96%|█████████████████████████████████████████▍ | 27/28 [00:36<00:01,  1.29s/it]\u001b[A\n",
      "                                                                                \u001b[A\n",
      "\u001b[A{'eval_loss': 1.1014585494995117, 'eval_accuracy': 0.49311926605504586, 'eval_precision': 0.7506379837604135, 'eval_recall': 0.49311926605504586, 'eval_f1': 0.3282544047023555, 'eval_runtime': 38.8847, 'eval_samples_per_second': 44.851, 'eval_steps_per_second': 0.72, 'epoch': 2.95}\n",
      " 60%|█████████████████████████▊                 | 42/70 [16:51<10:22, 22.23s/it]\n",
      "100%|███████████████████████████████████████████| 28/28 [00:37<00:00,  1.09s/it]\u001b[A\n",
      "                                                                                \u001b[A/Users/wengbenjue/opt/anaconda3/envs/peft/lib/python3.11/site-packages/torch/utils/checkpoint.py:429: UserWarning: torch.utils.checkpoint: please pass in use_reentrant=True or use_reentrant=False explicitly. The default value of use_reentrant will be updated to be False in the future. To maintain current behavior, pass use_reentrant=True. It is recommended that you use use_reentrant=False. Refer to docs for more details on the differences between the two variants.\n",
      "  warnings.warn(\n",
      "{'loss': 0.0, 'learning_rate': 0.0002857142857142857, 'epoch': 3.51}            \n",
      " 81%|██████████████████████████████▉       | 57/70 [1:43:07<1:42:18, 472.23s/it]\n",
      "  0%|                                                    | 0/28 [00:00<?, ?it/s]\u001b[A\n",
      "  7%|███▏                                        | 2/28 [00:01<00:14,  1.75it/s]\u001b[A\n",
      " 11%|████▋                                       | 3/28 [00:02<00:21,  1.17it/s]\u001b[A\n",
      " 14%|██████▎                                     | 4/28 [00:03<00:22,  1.06it/s]\u001b[A\n",
      " 18%|███████▊                                    | 5/28 [00:04<00:24,  1.08s/it]\u001b[A\n",
      " 21%|█████████▍                                  | 6/28 [00:05<00:24,  1.11s/it]\u001b[A\n",
      " 25%|███████████                                 | 7/28 [00:07<00:24,  1.16s/it]\u001b[A\n",
      " 29%|████████████▌                               | 8/28 [00:08<00:23,  1.18s/it]\u001b[A\n",
      " 32%|██████████████▏                             | 9/28 [00:09<00:22,  1.18s/it]\u001b[A\n",
      " 36%|███████████████▎                           | 10/28 [00:10<00:21,  1.21s/it]\u001b[A\n",
      " 39%|████████████████▉                          | 11/28 [00:12<00:20,  1.19s/it]\u001b[A\n",
      " 43%|██████████████████▍                        | 12/28 [00:13<00:19,  1.19s/it]\u001b[A\n",
      " 46%|███████████████████▉                       | 13/28 [00:14<00:17,  1.18s/it]\u001b[A\n",
      " 50%|█████████████████████▌                     | 14/28 [00:15<00:17,  1.24s/it]\u001b[A\n",
      " 54%|███████████████████████                    | 15/28 [00:16<00:15,  1.20s/it]\u001b[A\n",
      " 57%|████████████████████████▌                  | 16/28 [00:18<00:14,  1.23s/it]\u001b[A\n",
      " 61%|██████████████████████████                 | 17/28 [00:19<00:13,  1.20s/it]\u001b[A\n",
      " 64%|███████████████████████████▋               | 18/28 [00:20<00:12,  1.21s/it]\u001b[A\n",
      " 68%|█████████████████████████████▏             | 19/28 [00:21<00:11,  1.22s/it]\u001b[A\n",
      " 71%|██████████████████████████████▋            | 20/28 [00:22<00:09,  1.19s/it]\u001b[A\n",
      " 75%|████████████████████████████████▎          | 21/28 [00:24<00:08,  1.18s/it]\u001b[A\n",
      " 79%|█████████████████████████████████▊         | 22/28 [00:25<00:07,  1.19s/it]\u001b[A\n",
      " 82%|███████████████████████████████████▎       | 23/28 [00:26<00:06,  1.22s/it]\u001b[A\n",
      " 86%|████████████████████████████████████▊      | 24/28 [00:27<00:04,  1.19s/it]\u001b[A\n",
      " 89%|██████████████████████████████████████▍    | 25/28 [00:28<00:03,  1.22s/it]\u001b[A\n",
      " 93%|███████████████████████████████████████▉   | 26/28 [00:30<00:02,  1.22s/it]\u001b[A\n",
      " 96%|█████████████████████████████████████████▍ | 27/28 [00:31<00:01,  1.19s/it]\u001b[A\n",
      "                                                                                \u001b[A\n",
      "\u001b[A{'eval_loss': 1.1014585494995117, 'eval_accuracy': 0.49311926605504586, 'eval_precision': 0.7506379837604135, 'eval_recall': 0.49311926605504586, 'eval_f1': 0.3282544047023555, 'eval_runtime': 33.0367, 'eval_samples_per_second': 52.79, 'eval_steps_per_second': 0.848, 'epoch': 4.0}\n",
      " 81%|██████████████████████████████▉       | 57/70 [1:43:40<1:42:18, 472.23s/it]\n",
      "100%|███████████████████████████████████████████| 28/28 [00:31<00:00,  1.05it/s]\u001b[A\n",
      "                                                                                \u001b[A/Users/wengbenjue/opt/anaconda3/envs/peft/lib/python3.11/site-packages/torch/utils/checkpoint.py:429: UserWarning: torch.utils.checkpoint: please pass in use_reentrant=True or use_reentrant=False explicitly. The default value of use_reentrant will be updated to be False in the future. To maintain current behavior, pass use_reentrant=True. It is recommended that you use use_reentrant=False. Refer to docs for more details on the differences between the two variants.\n",
      "  warnings.warn(\n",
      "{'loss': 0.0, 'learning_rate': 0.00014285714285714284, 'epoch': 4.21}           \n",
      "{'loss': 0.0, 'learning_rate': 0.0, 'epoch': 4.91}                              \n",
      "100%|████████████████████████████████████████| 70/70 [3:02:24<00:00, 444.03s/it]\n",
      "  0%|                                                    | 0/28 [00:00<?, ?it/s]\u001b[A\n",
      "  7%|███▏                                        | 2/28 [00:01<00:16,  1.58it/s]\u001b[A\n",
      " 11%|████▋                                       | 3/28 [00:02<00:20,  1.19it/s]\u001b[A\n",
      " 14%|██████▎                                     | 4/28 [00:03<00:22,  1.05it/s]\u001b[A\n",
      " 18%|███████▊                                    | 5/28 [00:04<00:24,  1.07s/it]\u001b[A\n",
      " 21%|█████████▍                                  | 6/28 [00:05<00:23,  1.09s/it]\u001b[A\n",
      " 25%|███████████                                 | 7/28 [00:07<00:24,  1.16s/it]\u001b[A\n",
      " 29%|████████████▌                               | 8/28 [00:08<00:22,  1.14s/it]\u001b[A\n",
      " 32%|██████████████▏                             | 9/28 [00:09<00:22,  1.17s/it]\u001b[A\n",
      " 36%|███████████████▎                           | 10/28 [00:10<00:21,  1.18s/it]\u001b[A\n",
      " 39%|████████████████▉                          | 11/28 [00:12<00:20,  1.19s/it]\u001b[A\n",
      " 43%|██████████████████▍                        | 12/28 [00:13<00:18,  1.18s/it]\u001b[A\n",
      " 46%|███████████████████▉                       | 13/28 [00:14<00:17,  1.18s/it]\u001b[A\n",
      " 50%|█████████████████████▌                     | 14/28 [00:15<00:17,  1.21s/it]\u001b[A\n",
      " 54%|███████████████████████                    | 15/28 [00:16<00:15,  1.19s/it]\u001b[A\n",
      " 57%|████████████████████████▌                  | 16/28 [00:18<00:14,  1.23s/it]\u001b[A\n",
      " 61%|██████████████████████████                 | 17/28 [00:19<00:13,  1.19s/it]\u001b[A\n",
      " 64%|███████████████████████████▋               | 18/28 [00:20<00:12,  1.22s/it]\u001b[A\n",
      " 68%|█████████████████████████████▏             | 19/28 [00:21<00:10,  1.21s/it]\u001b[A\n",
      " 71%|██████████████████████████████▋            | 20/28 [00:22<00:09,  1.21s/it]\u001b[A\n",
      " 75%|████████████████████████████████▎          | 21/28 [00:24<00:08,  1.19s/it]\u001b[A\n",
      " 79%|█████████████████████████████████▊         | 22/28 [00:25<00:07,  1.18s/it]\u001b[A\n",
      " 82%|███████████████████████████████████▎       | 23/28 [00:26<00:06,  1.22s/it]\u001b[A\n",
      " 86%|████████████████████████████████████▊      | 24/28 [00:27<00:04,  1.20s/it]\u001b[A\n",
      " 89%|██████████████████████████████████████▍    | 25/28 [00:28<00:03,  1.22s/it]\u001b[A\n",
      " 93%|███████████████████████████████████████▉   | 26/28 [00:30<00:02,  1.20s/it]\u001b[A\n",
      " 96%|█████████████████████████████████████████▍ | 27/28 [00:31<00:01,  1.22s/it]\u001b[A\n",
      "                                                                                \u001b[A\n",
      "\u001b[A{'eval_loss': 1.1014585494995117, 'eval_accuracy': 0.49311926605504586, 'eval_precision': 0.7506379837604135, 'eval_recall': 0.49311926605504586, 'eval_f1': 0.3282544047023555, 'eval_runtime': 32.9457, 'eval_samples_per_second': 52.936, 'eval_steps_per_second': 0.85, 'epoch': 4.91}\n",
      "100%|████████████████████████████████████████| 70/70 [3:02:57<00:00, 444.03s/it]\n",
      "100%|███████████████████████████████████████████| 28/28 [00:31<00:00,  1.03it/s]\u001b[A\n",
      "{'train_runtime': 10977.398, 'train_samples_per_second': 1.659, 'train_steps_per_second': 0.006, 'train_loss': 0.0, 'epoch': 4.91}\n",
      "100%|████████████████████████████████████████| 70/70 [3:02:57<00:00, 156.82s/it]\n"
     ]
    }
   ],
   "source": [
    "!python ../../../peft_train.py \\\n",
    "--model_name ../../../pretrain_models/bert-large-cased \\\n",
    "--max_seq_len 2048 \\\n",
    "--group_by_length \\\n",
    "--max_steps 200 \\\n",
    "--dataset_name ../../../text-classification/sst2 \\\n",
    "--num_labels 2 \\\n",
    "--epochs 5 \\\n",
    "--learning_rate 1e-3 \\\n",
    "--per_device_train_batch_size 64 \\\n",
    "--per_device_eval_batch_size 64 \\\n",
    "--model_type SEQ_CLS \\\n",
    "--output_model_path ./result/bert-large-cased-sst2-lora \\\n",
    "--bnb_4bit_compute_dtype float16 \\\n",
    "--use_4b False\n"
   ]
  },
  {
   "cell_type": "markdown",
   "metadata": {
    "collapsed": false
   },
   "source": [
    "### 1.2.2 Run code on GPU version\n",
    "Load the model together with the adapter with few lines of code! Check the snippet below to load the adapter from the Hub and run the example evaluation."
   ]
  },
  {
   "cell_type": "code",
   "execution_count": null,
   "metadata": {
    "collapsed": false
   },
   "outputs": [],
   "source": [
    "!pip install -q -U trl transformers accelerate git+https://github.com/huggingface/peft.git\n",
    "!pip install -q datasets bitsandbytes einops wandb evaluate\n",
    "from google.colab import drive\n",
    "drive.mount('/content/drive')\n",
    "%cd /content/drive/MyDrive/Colab Notebooks/llms-peft-cook-colab/experiments/bert-large-cased-lora/sst2"
   ]
  },
  {
   "cell_type": "code",
   "execution_count": null,
   "metadata": {
    "collapsed": false,
    "is_executing": true
   },
   "outputs": [],
   "source": [
    "import os\n",
    "os.environ[\"CUDA_VISIBLE_DEVICES\"] = \"0\"\n",
    "!python ../../../peft_train.py \\\n",
    "--model_name bert-large-cased \\\n",
    "--max_seq_len 2048 \\\n",
    "--group_by_length \\\n",
    "--max_steps 200 \\\n",
    "--dataset_name ../../../text-classification/sst2 \\\n",
    "--num_labels 2 \\\n",
    "--epochs 5 \\\n",
    "--learning_rate 1e-3 \\\n",
    "--per_device_train_batch_size 64 \\\n",
    "--per_device_eval_batch_size 64 \\\n",
    "--model_type SEQ_CLS \\\n",
    "--output_model_path ./result/bert-large-cased-sst2-lora \\\n",
    "--bnb_4bit_compute_dtype float16 \\\n",
    "--load_in_8bit \\\n",
    "--use_4b"
   ]
  },
  {
   "cell_type": "markdown",
   "metadata": {
    "collapsed": false
   },
   "source": [
    "# Load your adapter from the Hub"
   ]
  },
  {
   "cell_type": "code",
   "execution_count": 7,
   "metadata": {
    "ExecuteTime": {
     "end_time": "2023-12-02T16:37:01.962850Z",
     "start_time": "2023-12-02T16:37:01.696535Z"
    },
    "collapsed": false
   },
   "outputs": [],
   "source": [
    "import torch\n",
    "from peft import PeftModel, PeftConfig\n",
    "from transformers import AutoModelForSeq2SeqLM, AutoTokenizer\n",
    "\n",
    "peft_model_id = \"./result/flan-t5-cup-lora\"\n",
    "base_model_name_or_path = '.../../../pretrain_models/google-flan-t5-small'\n",
    "config = PeftConfig.from_pretrained(peft_model_id)\n",
    "\n",
    "# model = AutoModelForSeq2SeqLM.from_pretrained(config.base_model_name_or_path, torch_dtype=\"auto\", device_map=\"auto\")\n",
    "model = AutoModelForSeq2SeqLM.from_pretrained(config.base_model_name_or_path, torch_dtype=\"auto\", device_map=\"cpu\")\n",
    "tokenizer = AutoTokenizer.from_pretrained(config.base_model_name_or_path)\n",
    "\n",
    "# Load the Lora model\n",
    "model = PeftModel.from_pretrained(model, peft_model_id)"
   ]
  },
  {
   "cell_type": "code",
   "execution_count": 9,
   "metadata": {
    "ExecuteTime": {
     "end_time": "2023-12-02T16:40:55.202266Z",
     "start_time": "2023-12-02T16:40:55.100686Z"
    },
    "collapsed": false
   },
   "outputs": [
    {
     "name": "stdout",
     "output_type": "stream",
     "text": [
      "input sentence:  In January-September 2009 , the Group 's net interest income increased to EUR 112.4 mn from EUR 74.3 mn in January-September 2008 .\n",
      " output prediction:  ['positive positive positive positive positive positive positive positive positive positive']\n"
     ]
    }
   ],
   "source": [
    "model.eval()\n",
    "input_text = \"In January-September 2009 , the Group 's net interest income increased to EUR 112.4 mn from EUR 74.3 mn in January-September 2008 .\"\n",
    "inputs = tokenizer(input_text, return_tensors=\"pt\")\n",
    "\n",
    "outputs = model.generate(input_ids=inputs[\"input_ids\"], max_new_tokens=10)\n",
    "\n",
    "print(\"input sentence: \", input_text)\n",
    "print(\" output prediction: \", tokenizer.batch_decode(outputs.detach().cpu().numpy(), skip_special_tokens=True))"
   ]
  },
  {
   "cell_type": "code",
   "execution_count": 8,
   "metadata": {
    "ExecuteTime": {
     "end_time": "2023-12-02T16:37:04.919570Z",
     "start_time": "2023-12-02T16:37:04.379496Z"
    },
    "collapsed": false
   },
   "outputs": [
    {
     "name": "stdout",
     "output_type": "stream",
     "text": [
      "input sentence:  In January-September 2009 , the Group 's net interest income increased to EUR 112.4 mn from EUR 74.3 mn in January-September 2008 .\n",
      " output prediction:  ['positive positive positive positive positive positive positive positive positive positive']\n"
     ]
    }
   ],
   "source": [
    "model.eval()\n",
    "input_text = \"In January-September 2009 , the Group 's net interest income increased to EUR 112.4 mn from EUR 74.3 mn in January-September 2008 .\"\n",
    "inputs = tokenizer(input_text, return_tensors=\"pt\")\n",
    "\n",
    "outputs = model.generate(input_ids=inputs[\"input_ids\"], max_new_tokens=10)\n",
    "\n",
    "print(\"input sentence: \", input_text)\n",
    "print(\" output prediction: \", tokenizer.batch_decode(outputs.detach().cpu().numpy(), skip_special_tokens=True))"
   ]
  },
  {
   "cell_type": "markdown",
   "metadata": {
    "collapsed": false
   },
   "source": [
    "## 1.3 Experimental Result"
   ]
  },
  {
   "cell_type": "code",
   "execution_count": null,
   "metadata": {
    "collapsed": false,
    "is_executing": true
   },
   "outputs": [],
   "source": [
    "class HTMLRender:\n",
    "    def __init__(self,html_str):\n",
    "        self.html_str =html_str\n",
    "    def _repr_html_(self):\n",
    "       return self.html_str\n"
   ]
  },
  {
   "cell_type": "code",
   "execution_count": null,
   "metadata": {
    "collapsed": false,
    "is_executing": true
   },
   "outputs": [],
   "source": [
    "model_accurcy_html = '''\n",
    "<table>\n",
    "  <tr>\n",
    "    <th>eval loss</th>\n",
    "    <th>eval accuracy</th>\n",
    "    <th>eval precision</th>\n",
    "    <th>eval recall</th>\n",
    "    <th>eval f1</th>\n",
    "  </tr>\n",
    "  <tr>\n",
    "    <td style=\"background-color:#4C72B0;\">0.102</td>\n",
    "    <td style=\"background-color:#55A868;\">0.896</td>\n",
    "    <td style=\"background-color:#C44E52;\">0.90</td>\n",
    "     <td style=\"background-color:#8172B2;\">0.896</td>\n",
    "    <td style=\"background-color:#64B5CD;\">0.894</td>\n",
    "  </tr>\n",
    "\n",
    "</table>\n",
    "\n",
    "       '''\n",
    "HTMLRender(model_accurcy_html)"
   ]
  },
  {
   "cell_type": "code",
   "execution_count": null,
   "metadata": {
    "collapsed": false,
    "is_executing": true
   },
   "outputs": [],
   "source": [
    "accuracy_html = '''\n",
    "<img src=\"./image/flan-t5-small-accuracy.png\" alt=\"flan-t5-small-accuracy\" width=\"70%\">\n",
    "'''\n",
    "HTMLRender(accuracy_html)"
   ]
  },
  {
   "cell_type": "code",
   "execution_count": null,
   "metadata": {
    "collapsed": false
   },
   "outputs": [],
   "source": [
    "## Load your adapter from the Hub\n"
   ]
  }
 ],
 "metadata": {
  "kernelspec": {
   "display_name": "Python 3",
   "language": "python",
   "name": "python3"
  },
  "language_info": {
   "codemirror_mode": {
    "name": "ipython",
    "version": 3
   },
   "file_extension": ".py",
   "mimetype": "text/x-python",
   "name": "python",
   "nbconvert_exporter": "python",
   "pygments_lexer": "ipython3",
   "version": "3.11.5"
  }
 },
 "nbformat": 4,
 "nbformat_minor": 0
}
