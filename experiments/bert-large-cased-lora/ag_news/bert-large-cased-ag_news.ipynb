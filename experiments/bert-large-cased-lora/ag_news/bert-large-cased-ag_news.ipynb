{
 "cells": [
  {
   "cell_type": "markdown",
   "source": [
    "Finetuning the model on financial_phrasebank dataset, that consists of pairs of text-labels to classify financial-related sentences, if they are either <span style=\"color: red;\">positive</span>, <span style=\"color: purple;\">neutral</span> or <span style=\"color: green;\">negative</span>."
   ],
   "metadata": {
    "collapsed": false
   }
  },
  {
   "cell_type": "markdown",
   "source": [
    "# 1.Experimental Setup1"
   ],
   "metadata": {
    "collapsed": false
   }
  },
  {
   "cell_type": "markdown",
   "source": [
    "## 1.1 Setup"
   ],
   "metadata": {
    "collapsed": false
   }
  },
  {
   "cell_type": "markdown",
   "source": [
    "## 1.2 Training"
   ],
   "metadata": {
    "collapsed": false
   }
  },
  {
   "cell_type": "markdown",
   "source": [
    "### 1.2.1 Run code on CPU version"
   ],
   "metadata": {
    "collapsed": false
   }
  },
  {
   "cell_type": "code",
   "execution_count": null,
   "outputs": [],
   "source": [
    "!pwd"
   ],
   "metadata": {
    "collapsed": false,
    "is_executing": true
   }
  },
  {
   "cell_type": "code",
   "execution_count": 1,
   "outputs": [
    {
     "name": "stdout",
     "output_type": "stream",
     "text": [
      "/Users/wengbenjue/opt/anaconda3/envs/peft/lib/python3.11/site-packages/bitsandbytes/cextension.py:34: UserWarning: The installed version of bitsandbytes was compiled without GPU support. 8-bit optimizers, 8-bit multiplication, and GPU quantization are unavailable.\r\n",
      "  warn(\"The installed version of bitsandbytes was compiled without GPU support. \"\r\n",
      "'NoneType' object has no attribute 'cadam32bit_grad_fp32'\r\n",
      "/Users/wengbenjue/opt/anaconda3/envs/peft/lib/python3.11/site-packages/trl/trainer/ppo_config.py:141: UserWarning: The `optimize_cuda_cache` arguement will be deprecated soon, please use `optimize_device_cache` instead.\r\n",
      "  warnings.warn(\r\n",
      "Some weights of BertForSequenceClassification were not initialized from the model checkpoint at ../../../pretrain_models/bert-large-cased and are newly initialized: ['classifier.weight', 'classifier.bias']\r\n",
      "You should probably TRAIN this model on a down-stream task to be able to use it for predictions and inference.\r\n",
      "use AutoModelForSequenceClassification load bert model.\r\n",
      "trainable params: 6295556 || all params: 339878920 || trainable%: 1.8522937521397327\r\n",
      "tokenizer padding setting: [PAD]\r\n",
      "Sentence: 5 EU ministers back digital passports FLORENCE Interior ministers from the five largest West European countries have agreed to adopt digital fingerprinting on passports, officials here said, but a second day of talks on Monday found them still deadlocked on a plan to create migrant holding \r\n",
      "Map: 100%|████████████████████████| 3040/3040 [00:00<00:00, 18204.34 examples/s]\r\n",
      "  0%|                                                   | 0/235 [00:00<?, ?it/s]/Users/wengbenjue/opt/anaconda3/envs/peft/lib/python3.11/site-packages/torch/utils/checkpoint.py:429: UserWarning: torch.utils.checkpoint: please pass in use_reentrant=True or use_reentrant=False explicitly. The default value of use_reentrant will be updated to be False in the future. To maintain current behavior, pass use_reentrant=True. It is recommended that you use use_reentrant=False. Refer to docs for more details on the differences between the two variants.\r\n",
      "  warnings.warn(\r\n",
      "{'loss': 1.451, 'learning_rate': 0.0009574468085106384, 'epoch': 0.21}          \r\n",
      "{'loss': 0.9155, 'learning_rate': 0.0009148936170212766, 'epoch': 0.42}         \r\n",
      "{'loss': 0.6192, 'learning_rate': 0.0008723404255319149, 'epoch': 0.63}         \r\n",
      "{'loss': 0.3506, 'learning_rate': 0.0008297872340425531, 'epoch': 0.84}         \r\n",
      " 20%|████████                                | 47/235 [33:22<1:58:44, 37.90s/it]\r\n",
      "  0%|                                                    | 0/48 [00:00<?, ?it/s]\u001B[A\r\n",
      "  4%|█▊                                          | 2/48 [00:02<00:55,  1.21s/it]\u001B[A\r\n",
      "  6%|██▊                                         | 3/48 [00:04<01:15,  1.68s/it]\u001B[A\r\n",
      "  8%|███▋                                        | 4/48 [00:07<01:28,  2.01s/it]\u001B[A\r\n",
      " 10%|████▌                                       | 5/48 [00:09<01:35,  2.23s/it]\u001B[A\r\n",
      " 12%|█████▌                                      | 6/48 [00:12<01:38,  2.35s/it]\u001B[A\r\n",
      " 15%|██████▍                                     | 7/48 [00:15<01:39,  2.42s/it]\u001B[A\r\n",
      " 17%|███████▎                                    | 8/48 [00:17<01:39,  2.48s/it]\u001B[A\r\n",
      " 19%|████████▎                                   | 9/48 [00:20<01:37,  2.50s/it]\u001B[A\r\n",
      " 21%|████████▉                                  | 10/48 [00:22<01:35,  2.52s/it]\u001B[A\r\n",
      " 23%|█████████▊                                 | 11/48 [00:25<01:35,  2.58s/it]\u001B[A\r\n",
      " 25%|██████████▊                                | 12/48 [00:28<01:33,  2.61s/it]\u001B[A\r\n",
      " 27%|███████████▋                               | 13/48 [00:30<01:31,  2.62s/it]\u001B[A\r\n",
      " 29%|████████████▌                              | 14/48 [00:33<01:29,  2.63s/it]\u001B[A\r\n",
      " 31%|█████████████▍                             | 15/48 [00:36<01:25,  2.61s/it]\u001B[A\r\n",
      " 33%|██████████████▎                            | 16/48 [00:38<01:23,  2.60s/it]\u001B[A\r\n",
      " 35%|███████████████▏                           | 17/48 [00:41<01:19,  2.57s/it]\u001B[A\r\n",
      " 38%|████████████████▏                          | 18/48 [00:43<01:17,  2.57s/it]\u001B[A\r\n",
      " 40%|█████████████████                          | 19/48 [00:46<01:14,  2.56s/it]\u001B[A\r\n",
      " 42%|█████████████████▉                         | 20/48 [00:48<01:11,  2.56s/it]\u001B[A\r\n",
      " 44%|██████████████████▊                        | 21/48 [00:51<01:09,  2.58s/it]\u001B[A\r\n",
      " 46%|███████████████████▋                       | 22/48 [00:54<01:06,  2.57s/it]\u001B[A\r\n",
      " 48%|████████████████████▌                      | 23/48 [00:56<01:04,  2.59s/it]\u001B[A\r\n",
      " 50%|█████████████████████▌                     | 24/48 [00:59<01:02,  2.59s/it]\u001B[A\r\n",
      " 52%|██████████████████████▍                    | 25/48 [01:02<01:01,  2.66s/it]\u001B[A\r\n",
      " 54%|███████████████████████▎                   | 26/48 [01:04<00:58,  2.65s/it]\u001B[A\r\n",
      " 56%|████████████████████████▏                  | 27/48 [01:07<00:55,  2.63s/it]\u001B[A\r\n",
      " 58%|█████████████████████████                  | 28/48 [01:09<00:52,  2.61s/it]\u001B[A\r\n",
      " 60%|█████████████████████████▉                 | 29/48 [01:12<00:49,  2.60s/it]\u001B[A\r\n",
      " 62%|██████████████████████████▉                | 30/48 [01:15<00:46,  2.61s/it]\u001B[A\r\n",
      " 65%|███████████████████████████▊               | 31/48 [01:17<00:44,  2.63s/it]\u001B[A\r\n",
      " 67%|████████████████████████████▋              | 32/48 [01:20<00:41,  2.62s/it]\u001B[A\r\n",
      " 69%|█████████████████████████████▌             | 33/48 [01:22<00:38,  2.59s/it]\u001B[A\r\n",
      " 71%|██████████████████████████████▍            | 34/48 [01:25<00:36,  2.60s/it]\u001B[A\r\n",
      " 73%|███████████████████████████████▎           | 35/48 [01:28<00:34,  2.63s/it]\u001B[A\r\n",
      " 75%|████████████████████████████████▎          | 36/48 [01:30<00:31,  2.64s/it]\u001B[A\r\n",
      " 77%|█████████████████████████████████▏         | 37/48 [01:33<00:29,  2.67s/it]\u001B[A\r\n",
      " 79%|██████████████████████████████████         | 38/48 [01:36<00:27,  2.71s/it]\u001B[A\r\n",
      " 81%|██████████████████████████████████▉        | 39/48 [01:38<00:23,  2.65s/it]\u001B[A\r\n",
      " 83%|███████████████████████████████████▊       | 40/48 [01:41<00:21,  2.64s/it]\u001B[A\r\n",
      " 85%|████████████████████████████████████▋      | 41/48 [01:44<00:18,  2.64s/it]\u001B[A\r\n",
      " 88%|█████████████████████████████████████▋     | 42/48 [01:46<00:15,  2.66s/it]\u001B[A\r\n",
      " 90%|██████████████████████████████████████▌    | 43/48 [01:49<00:13,  2.66s/it]\u001B[A\r\n",
      " 92%|███████████████████████████████████████▍   | 44/48 [01:52<00:10,  2.62s/it]\u001B[A\r\n",
      " 94%|████████████████████████████████████████▎  | 45/48 [01:54<00:07,  2.62s/it]\u001B[A\r\n",
      " 96%|█████████████████████████████████████████▏ | 46/48 [01:57<00:05,  2.56s/it]\u001B[A\r\n",
      " 98%|██████████████████████████████████████████ | 47/48 [01:59<00:02,  2.58s/it]\u001B[A\r\n",
      "                                                                                \u001B[A\r\n",
      "\u001B[A{'eval_loss': 0.3448667824268341, 'eval_accuracy': 0.8845394736842105, 'eval_precision': 0.8851184197906674, 'eval_recall': 0.8845394736842105, 'eval_f1': 0.883282331580846, 'eval_runtime': 124.7204, 'eval_samples_per_second': 24.375, 'eval_steps_per_second': 0.385, 'epoch': 0.99}\r\n",
      " 20%|████████                                | 47/235 [35:45<1:58:44, 37.90s/it]\r\n",
      "100%|███████████████████████████████████████████| 48/48 [02:01<00:00,  2.47s/it]\u001B[A\r\n",
      "                                                                                \u001B[A/Users/wengbenjue/opt/anaconda3/envs/peft/lib/python3.11/site-packages/torch/utils/checkpoint.py:429: UserWarning: torch.utils.checkpoint: please pass in use_reentrant=True or use_reentrant=False explicitly. The default value of use_reentrant will be updated to be False in the future. To maintain current behavior, pass use_reentrant=True. It is recommended that you use use_reentrant=False. Refer to docs for more details on the differences between the two variants.\r\n",
      "  warnings.warn(\r\n",
      "{'loss': 0.3269, 'learning_rate': 0.0007872340425531915, 'epoch': 1.05}         \r\n",
      "{'loss': 0.3063, 'learning_rate': 0.0007446808510638298, 'epoch': 1.26}         \r\n",
      "{'loss': 0.2573, 'learning_rate': 0.0007021276595744682, 'epoch': 1.47}         \r\n",
      "{'loss': 0.2722, 'learning_rate': 0.0006595744680851064, 'epoch': 1.68}         \r\n",
      "{'loss': 0.2515, 'learning_rate': 0.0006170212765957447, 'epoch': 1.89}         \r\n",
      " 40%|████████████████▏                       | 95/235 [59:20<1:07:02, 28.73s/it]\r\n",
      "  0%|                                                    | 0/48 [00:00<?, ?it/s]\u001B[A\r\n",
      "  4%|█▊                                          | 2/48 [00:01<00:45,  1.00it/s]\u001B[A\r\n",
      "  6%|██▊                                         | 3/48 [00:03<01:03,  1.40s/it]\u001B[A\r\n",
      "  8%|███▋                                        | 4/48 [00:05<01:10,  1.60s/it]\u001B[A\r\n",
      " 10%|████▌                                       | 5/48 [00:07<01:13,  1.72s/it]\u001B[A\r\n",
      " 12%|█████▌                                      | 6/48 [00:09<01:14,  1.78s/it]\u001B[A\r\n",
      " 15%|██████▍                                     | 7/48 [00:11<01:16,  1.86s/it]\u001B[A\r\n",
      " 17%|███████▎                                    | 8/48 [00:13<01:13,  1.84s/it]\u001B[A\r\n",
      " 19%|████████▎                                   | 9/48 [00:15<01:11,  1.84s/it]\u001B[A\r\n",
      " 21%|████████▉                                  | 10/48 [00:17<01:11,  1.89s/it]\u001B[A\r\n",
      " 23%|█████████▊                                 | 11/48 [00:19<01:12,  1.95s/it]\u001B[A\r\n",
      " 25%|██████████▊                                | 12/48 [00:21<01:10,  1.96s/it]\u001B[A\r\n",
      " 27%|███████████▋                               | 13/48 [00:23<01:08,  1.96s/it]\u001B[A\r\n",
      " 29%|████████████▌                              | 14/48 [00:25<01:07,  1.97s/it]\u001B[A\r\n",
      " 31%|█████████████▍                             | 15/48 [00:27<01:04,  1.97s/it]\u001B[A\r\n",
      " 33%|██████████████▎                            | 16/48 [00:29<01:02,  1.95s/it]\u001B[A\r\n",
      " 35%|███████████████▏                           | 17/48 [00:31<01:00,  1.95s/it]\u001B[A\r\n",
      " 38%|████████████████▏                          | 18/48 [00:33<00:58,  1.95s/it]\u001B[A\r\n",
      " 40%|█████████████████                          | 19/48 [00:35<00:56,  1.93s/it]\u001B[A\r\n",
      " 42%|█████████████████▉                         | 20/48 [00:37<00:54,  1.94s/it]\u001B[A\r\n",
      " 44%|██████████████████▊                        | 21/48 [00:39<00:52,  1.95s/it]\u001B[A\r\n",
      " 46%|███████████████████▋                       | 22/48 [00:40<00:50,  1.93s/it]\u001B[A\r\n",
      " 48%|████████████████████▌                      | 23/48 [00:42<00:48,  1.93s/it]\u001B[A\r\n",
      " 50%|█████████████████████▌                     | 24/48 [00:44<00:46,  1.93s/it]\u001B[A\r\n",
      " 52%|██████████████████████▍                    | 25/48 [00:46<00:44,  1.95s/it]\u001B[A\r\n",
      " 54%|███████████████████████▎                   | 26/48 [00:48<00:43,  1.96s/it]\u001B[A\r\n",
      " 56%|████████████████████████▏                  | 27/48 [00:50<00:41,  1.99s/it]\u001B[A\r\n",
      " 58%|█████████████████████████                  | 28/48 [00:52<00:39,  1.99s/it]\u001B[A\r\n",
      " 60%|█████████████████████████▉                 | 29/48 [00:54<00:37,  1.95s/it]\u001B[A\r\n",
      " 62%|██████████████████████████▉                | 30/48 [00:56<00:34,  1.93s/it]\u001B[A\r\n",
      " 65%|███████████████████████████▊               | 31/48 [00:58<00:32,  1.91s/it]\u001B[A\r\n",
      " 67%|████████████████████████████▋              | 32/48 [01:00<00:30,  1.92s/it]\u001B[A\r\n",
      " 69%|█████████████████████████████▌             | 33/48 [01:02<00:28,  1.90s/it]\u001B[A\r\n",
      " 71%|██████████████████████████████▍            | 34/48 [01:04<00:26,  1.92s/it]\u001B[A\r\n",
      " 73%|███████████████████████████████▎           | 35/48 [01:06<00:24,  1.90s/it]\u001B[A\r\n",
      " 75%|████████████████████████████████▎          | 36/48 [01:07<00:22,  1.87s/it]\u001B[A\r\n",
      " 77%|█████████████████████████████████▏         | 37/48 [01:09<00:20,  1.87s/it]\u001B[A\r\n",
      " 79%|██████████████████████████████████         | 38/48 [01:11<00:18,  1.89s/it]\u001B[A\r\n",
      " 81%|██████████████████████████████████▉        | 39/48 [01:13<00:17,  1.90s/it]\u001B[A\r\n",
      " 83%|███████████████████████████████████▊       | 40/48 [01:15<00:15,  1.90s/it]\u001B[A\r\n",
      " 85%|████████████████████████████████████▋      | 41/48 [01:17<00:13,  1.89s/it]\u001B[A\r\n",
      " 88%|█████████████████████████████████████▋     | 42/48 [01:19<00:11,  1.95s/it]\u001B[A\r\n",
      " 90%|██████████████████████████████████████▌    | 43/48 [01:21<00:09,  1.98s/it]\u001B[A\r\n",
      " 92%|███████████████████████████████████████▍   | 44/48 [01:23<00:07,  1.98s/it]\u001B[A\r\n",
      " 94%|████████████████████████████████████████▎  | 45/48 [01:25<00:05,  1.95s/it]\u001B[A\r\n",
      " 96%|█████████████████████████████████████████▏ | 46/48 [01:27<00:03,  1.93s/it]\u001B[A\r\n",
      " 98%|██████████████████████████████████████████ | 47/48 [01:28<00:01,  1.89s/it]\u001B[A\r\n",
      "                                                                                \u001B[A\r\n",
      "\u001B[A{'eval_loss': 0.28596776723861694, 'eval_accuracy': 0.9049342105263158, 'eval_precision': 0.9099893513886609, 'eval_recall': 0.9049342105263158, 'eval_f1': 0.9044502988974246, 'eval_runtime': 92.0503, 'eval_samples_per_second': 33.025, 'eval_steps_per_second': 0.521, 'epoch': 2.0}\r\n",
      " 40%|███████████████▎                      | 95/235 [1:00:52<1:07:02, 28.73s/it]\r\n",
      "100%|███████████████████████████████████████████| 48/48 [01:30<00:00,  1.63s/it]\u001B[A\r\n",
      "                                                                                \u001B[A/Users/wengbenjue/opt/anaconda3/envs/peft/lib/python3.11/site-packages/torch/utils/checkpoint.py:429: UserWarning: torch.utils.checkpoint: please pass in use_reentrant=True or use_reentrant=False explicitly. The default value of use_reentrant will be updated to be False in the future. To maintain current behavior, pass use_reentrant=True. It is recommended that you use use_reentrant=False. Refer to docs for more details on the differences between the two variants.\r\n",
      "  warnings.warn(\r\n",
      "{'loss': 0.23, 'learning_rate': 0.0005744680851063831, 'epoch': 2.11}           \r\n",
      " 43%|███████████████▋                     | 100/235 [1:03:00<1:13:51, 32.83s/it]/Users/wengbenjue/opt/anaconda3/envs/peft/lib/python3.11/site-packages/torch/utils/checkpoint.py:429: UserWarning: torch.utils.checkpoint: please pass in use_reentrant=True or use_reentrant=False explicitly. The default value of use_reentrant will be updated to be False in the future. To maintain current behavior, pass use_reentrant=True. It is recommended that you use use_reentrant=False. Refer to docs for more details on the differences between the two variants.\r\n",
      "  warnings.warn(\r\n",
      "{'loss': 0.2232, 'learning_rate': 0.0005319148936170213, 'epoch': 2.32}         \r\n",
      "{'loss': 0.2225, 'learning_rate': 0.0004893617021276596, 'epoch': 2.53}         \r\n",
      "{'loss': 0.2175, 'learning_rate': 0.00044680851063829785, 'epoch': 2.74}        \r\n",
      "{'loss': 0.1904, 'learning_rate': 0.00040425531914893613, 'epoch': 2.95}        \r\n",
      " 60%|███████████████████████▌               | 142/235 [1:23:12<48:19, 31.18s/it]\r\n",
      "  0%|                                                    | 0/48 [00:00<?, ?it/s]\u001B[A\r\n",
      "  4%|█▊                                          | 2/48 [00:02<00:50,  1.09s/it]\u001B[A\r\n",
      "  6%|██▊                                         | 3/48 [00:04<01:03,  1.42s/it]\u001B[A\r\n",
      "  8%|███▋                                        | 4/48 [00:06<01:15,  1.71s/it]\u001B[A\r\n",
      " 10%|████▌                                       | 5/48 [00:08<01:15,  1.75s/it]\u001B[A\r\n",
      " 12%|█████▌                                      | 6/48 [00:10<01:18,  1.86s/it]\u001B[A\r\n",
      " 15%|██████▍                                     | 7/48 [00:12<01:17,  1.89s/it]\u001B[A\r\n",
      " 17%|███████▎                                    | 8/48 [00:14<01:19,  1.98s/it]\u001B[A\r\n",
      " 19%|████████▎                                   | 9/48 [00:16<01:16,  1.97s/it]\u001B[A\r\n",
      " 21%|████████▉                                  | 10/48 [00:18<01:13,  1.92s/it]\u001B[A\r\n",
      " 23%|█████████▊                                 | 11/48 [00:19<01:05,  1.76s/it]\u001B[A\r\n",
      " 25%|██████████▊                                | 12/48 [00:20<01:00,  1.67s/it]\u001B[A\r\n",
      " 27%|███████████▋                               | 13/48 [00:22<00:56,  1.61s/it]\u001B[A\r\n",
      " 29%|████████████▌                              | 14/48 [00:23<00:51,  1.52s/it]\u001B[A\r\n",
      " 31%|█████████████▍                             | 15/48 [00:25<00:50,  1.54s/it]\u001B[A\r\n",
      " 33%|██████████████▎                            | 16/48 [00:26<00:49,  1.55s/it]\u001B[A\r\n",
      " 35%|███████████████▏                           | 17/48 [00:28<00:48,  1.56s/it]\u001B[A\r\n",
      " 38%|████████████████▏                          | 18/48 [00:29<00:46,  1.55s/it]\u001B[A\r\n",
      " 40%|█████████████████                          | 19/48 [00:31<00:43,  1.50s/it]\u001B[A\r\n",
      " 42%|█████████████████▉                         | 20/48 [00:32<00:42,  1.53s/it]\u001B[A\r\n",
      " 44%|██████████████████▊                        | 21/48 [00:34<00:41,  1.53s/it]\u001B[A\r\n",
      " 46%|███████████████████▋                       | 22/48 [00:35<00:38,  1.49s/it]\u001B[A\r\n",
      " 48%|████████████████████▌                      | 23/48 [00:37<00:37,  1.48s/it]\u001B[A\r\n",
      " 50%|█████████████████████▌                     | 24/48 [00:38<00:35,  1.47s/it]\u001B[A\r\n",
      " 52%|██████████████████████▍                    | 25/48 [00:40<00:32,  1.41s/it]\u001B[A\r\n",
      " 54%|███████████████████████▎                   | 26/48 [00:41<00:32,  1.46s/it]\u001B[A\r\n",
      " 56%|████████████████████████▏                  | 27/48 [00:43<00:30,  1.48s/it]\u001B[A\r\n",
      " 58%|█████████████████████████                  | 28/48 [00:44<00:30,  1.53s/it]\u001B[A\r\n",
      " 60%|█████████████████████████▉                 | 29/48 [00:46<00:29,  1.54s/it]\u001B[A\r\n",
      " 62%|██████████████████████████▉                | 30/48 [00:47<00:28,  1.56s/it]\u001B[A\r\n",
      " 65%|███████████████████████████▊               | 31/48 [00:49<00:26,  1.55s/it]\u001B[A\r\n",
      " 67%|████████████████████████████▋              | 32/48 [00:50<00:24,  1.53s/it]\u001B[A\r\n",
      " 69%|█████████████████████████████▌             | 33/48 [00:52<00:22,  1.53s/it]\u001B[A\r\n",
      " 71%|██████████████████████████████▍            | 34/48 [00:53<00:21,  1.51s/it]\u001B[A\r\n",
      " 73%|███████████████████████████████▎           | 35/48 [00:55<00:19,  1.48s/it]\u001B[A\r\n",
      " 75%|████████████████████████████████▎          | 36/48 [00:56<00:17,  1.46s/it]\u001B[A\r\n",
      " 77%|█████████████████████████████████▏         | 37/48 [00:58<00:16,  1.48s/it]\u001B[A\r\n",
      " 79%|██████████████████████████████████         | 38/48 [00:59<00:15,  1.51s/it]\u001B[A\r\n",
      " 81%|██████████████████████████████████▉        | 39/48 [01:01<00:13,  1.49s/it]\u001B[A\r\n",
      " 83%|███████████████████████████████████▊       | 40/48 [01:02<00:11,  1.50s/it]\u001B[A\r\n",
      " 85%|████████████████████████████████████▋      | 41/48 [01:04<00:10,  1.49s/it]\u001B[A\r\n",
      " 88%|█████████████████████████████████████▋     | 42/48 [01:05<00:08,  1.47s/it]\u001B[A\r\n",
      " 90%|██████████████████████████████████████▌    | 43/48 [01:07<00:07,  1.46s/it]\u001B[A\r\n",
      " 92%|███████████████████████████████████████▍   | 44/48 [01:08<00:06,  1.51s/it]\u001B[A\r\n",
      " 94%|████████████████████████████████████████▎  | 45/48 [01:10<00:04,  1.53s/it]\u001B[A\r\n",
      " 96%|█████████████████████████████████████████▏ | 46/48 [01:11<00:03,  1.52s/it]\u001B[A\r\n",
      " 98%|██████████████████████████████████████████ | 47/48 [01:13<00:01,  1.46s/it]\u001B[A\r\n",
      "                                                                                \u001B[A\r\n",
      "\u001B[A{'eval_loss': 0.23929919302463531, 'eval_accuracy': 0.9217105263157894, 'eval_precision': 0.922942895443284, 'eval_recall': 0.9217105263157894, 'eval_f1': 0.9213765852028372, 'eval_runtime': 76.0574, 'eval_samples_per_second': 39.97, 'eval_steps_per_second': 0.631, 'epoch': 2.99}\r\n",
      " 60%|███████████████████████▌               | 142/235 [1:24:43<48:19, 31.18s/it]\r\n",
      "100%|███████████████████████████████████████████| 48/48 [01:13<00:00,  1.25s/it]\u001B[A\r\n",
      "                                                                                \u001B[A/Users/wengbenjue/opt/anaconda3/envs/peft/lib/python3.11/site-packages/torch/utils/checkpoint.py:429: UserWarning: torch.utils.checkpoint: please pass in use_reentrant=True or use_reentrant=False explicitly. The default value of use_reentrant will be updated to be False in the future. To maintain current behavior, pass use_reentrant=True. It is recommended that you use use_reentrant=False. Refer to docs for more details on the differences between the two variants.\r\n",
      "  warnings.warn(\r\n",
      "{'loss': 0.1791, 'learning_rate': 0.0003617021276595745, 'epoch': 3.16}         \r\n",
      "{'loss': 0.1565, 'learning_rate': 0.0003191489361702128, 'epoch': 3.37}         \r\n",
      "{'loss': 0.181, 'learning_rate': 0.0002765957446808511, 'epoch': 3.58}          \r\n",
      "{'loss': 0.1597, 'learning_rate': 0.00023404255319148937, 'epoch': 3.79}        \r\n",
      "{'loss': 0.1525, 'learning_rate': 0.00019148936170212765, 'epoch': 4.0}         \r\n",
      " 81%|███████████████████████████████▌       | 190/235 [1:48:19<22:13, 29.63s/it]\r\n",
      "  0%|                                                    | 0/48 [00:00<?, ?it/s]\u001B[A\r\n",
      "  4%|█▊                                          | 2/48 [00:01<00:45,  1.02it/s]\u001B[A\r\n",
      "  6%|██▊                                         | 3/48 [00:04<01:07,  1.50s/it]\u001B[A\r\n",
      "  8%|███▋                                        | 4/48 [00:06<01:13,  1.67s/it]\u001B[A\r\n",
      " 10%|████▌                                       | 5/48 [00:08<01:18,  1.82s/it]\u001B[A\r\n",
      " 12%|█████▌                                      | 6/48 [00:10<01:17,  1.84s/it]\u001B[A\r\n",
      " 15%|██████▍                                     | 7/48 [00:12<01:21,  1.98s/it]\u001B[A\r\n",
      " 17%|███████▎                                    | 8/48 [00:14<01:20,  2.02s/it]\u001B[A\r\n",
      " 19%|████████▎                                   | 9/48 [00:16<01:23,  2.15s/it]\u001B[A\r\n",
      " 21%|████████▉                                  | 10/48 [00:19<01:20,  2.13s/it]\u001B[A\r\n",
      " 23%|█████████▊                                 | 11/48 [00:21<01:18,  2.13s/it]\u001B[A\r\n",
      " 25%|██████████▊                                | 12/48 [00:23<01:13,  2.05s/it]\u001B[A\r\n",
      " 27%|███████████▋                               | 13/48 [00:25<01:12,  2.08s/it]\u001B[A\r\n",
      " 29%|████████████▌                              | 14/48 [00:27<01:08,  2.03s/it]\u001B[A\r\n",
      " 31%|█████████████▍                             | 15/48 [00:29<01:09,  2.09s/it]\u001B[A\r\n",
      " 33%|██████████████▎                            | 16/48 [00:31<01:05,  2.05s/it]\u001B[A\r\n",
      " 35%|███████████████▏                           | 17/48 [00:33<01:03,  2.06s/it]\u001B[A\r\n",
      " 38%|████████████████▏                          | 18/48 [00:35<01:00,  2.03s/it]\u001B[A\r\n",
      " 40%|█████████████████                          | 19/48 [00:37<01:00,  2.09s/it]\u001B[A\r\n",
      " 42%|█████████████████▉                         | 20/48 [00:39<00:57,  2.05s/it]\u001B[A\r\n",
      " 44%|██████████████████▊                        | 21/48 [00:41<00:56,  2.08s/it]\u001B[A\r\n",
      " 46%|███████████████████▋                       | 22/48 [00:43<00:52,  2.02s/it]\u001B[A\r\n",
      " 48%|████████████████████▌                      | 23/48 [00:45<00:50,  2.01s/it]\u001B[A\r\n",
      " 50%|█████████████████████▌                     | 24/48 [00:47<00:49,  2.08s/it]\u001B[A\r\n",
      " 52%|██████████████████████▍                    | 25/48 [00:49<00:47,  2.07s/it]\u001B[A\r\n",
      " 54%|███████████████████████▎                   | 26/48 [00:51<00:46,  2.10s/it]\u001B[A\r\n",
      " 56%|████████████████████████▏                  | 27/48 [00:53<00:43,  2.05s/it]\u001B[A\r\n",
      " 58%|█████████████████████████                  | 28/48 [00:56<00:41,  2.07s/it]\u001B[A\r\n",
      " 60%|█████████████████████████▉                 | 29/48 [00:58<00:39,  2.06s/it]\u001B[A\r\n",
      " 62%|██████████████████████████▉                | 30/48 [01:00<00:37,  2.07s/it]\u001B[A\r\n",
      " 65%|███████████████████████████▊               | 31/48 [01:02<00:35,  2.06s/it]\u001B[A\r\n",
      " 67%|████████████████████████████▋              | 32/48 [01:04<00:33,  2.11s/it]\u001B[A\r\n",
      " 69%|█████████████████████████████▌             | 33/48 [01:06<00:30,  2.03s/it]\u001B[A\r\n",
      " 71%|██████████████████████████████▍            | 34/48 [01:08<00:29,  2.09s/it]\u001B[A\r\n",
      " 73%|███████████████████████████████▎           | 35/48 [01:10<00:26,  2.04s/it]\u001B[A\r\n",
      " 75%|████████████████████████████████▎          | 36/48 [01:12<00:24,  2.07s/it]\u001B[A\r\n",
      " 77%|█████████████████████████████████▏         | 37/48 [01:14<00:22,  2.03s/it]\u001B[A\r\n",
      " 79%|██████████████████████████████████         | 38/48 [01:16<00:20,  2.03s/it]\u001B[A\r\n",
      " 81%|██████████████████████████████████▉        | 39/48 [01:18<00:17,  1.99s/it]\u001B[A\r\n",
      " 83%|███████████████████████████████████▊       | 40/48 [01:20<00:16,  2.07s/it]\u001B[A\r\n",
      " 85%|████████████████████████████████████▋      | 41/48 [01:22<00:14,  2.05s/it]\u001B[A\r\n",
      " 88%|█████████████████████████████████████▋     | 42/48 [01:24<00:12,  2.09s/it]\u001B[A\r\n",
      " 90%|██████████████████████████████████████▌    | 43/48 [01:26<00:10,  2.02s/it]\u001B[A\r\n",
      " 92%|███████████████████████████████████████▍   | 44/48 [01:28<00:08,  2.07s/it]\u001B[A\r\n",
      " 94%|████████████████████████████████████████▎  | 45/48 [01:30<00:06,  2.02s/it]\u001B[A\r\n",
      " 96%|█████████████████████████████████████████▏ | 46/48 [01:32<00:04,  2.04s/it]\u001B[A\r\n",
      " 98%|██████████████████████████████████████████ | 47/48 [01:34<00:02,  2.02s/it]\u001B[A\r\n",
      "                                                                                \u001B[A\r\n",
      "\u001B[A{'eval_loss': 0.21477334201335907, 'eval_accuracy': 0.9355263157894737, 'eval_precision': 0.9357842931880781, 'eval_recall': 0.9355263157894737, 'eval_f1': 0.9353348466535313, 'eval_runtime': 98.3202, 'eval_samples_per_second': 30.919, 'eval_steps_per_second': 0.488, 'epoch': 4.0}\r\n",
      " 81%|███████████████████████████████▌       | 190/235 [1:49:57<22:13, 29.63s/it]\r\n",
      "100%|███████████████████████████████████████████| 48/48 [01:36<00:00,  1.77s/it]\u001B[A\r\n",
      "                                                                                \u001B[A/Users/wengbenjue/opt/anaconda3/envs/peft/lib/python3.11/site-packages/torch/utils/checkpoint.py:429: UserWarning: torch.utils.checkpoint: please pass in use_reentrant=True or use_reentrant=False explicitly. The default value of use_reentrant will be updated to be False in the future. To maintain current behavior, pass use_reentrant=True. It is recommended that you use use_reentrant=False. Refer to docs for more details on the differences between the two variants.\r\n",
      "  warnings.warn(\r\n",
      "{'loss': 0.1554, 'learning_rate': 0.00014893617021276596, 'epoch': 4.21}        \r\n",
      " 85%|█████████████████████████████████▏     | 200/235 [1:54:03<13:43, 23.53s/it]/Users/wengbenjue/opt/anaconda3/envs/peft/lib/python3.11/site-packages/torch/utils/checkpoint.py:429: UserWarning: torch.utils.checkpoint: please pass in use_reentrant=True or use_reentrant=False explicitly. The default value of use_reentrant will be updated to be False in the future. To maintain current behavior, pass use_reentrant=True. It is recommended that you use use_reentrant=False. Refer to docs for more details on the differences between the two variants.\r\n",
      "  warnings.warn(\r\n",
      "{'loss': 0.136, 'learning_rate': 0.00010638297872340425, 'epoch': 4.42}         \r\n",
      "{'loss': 0.1382, 'learning_rate': 6.382978723404255e-05, 'epoch': 4.63}         \r\n",
      "{'loss': 0.1458, 'learning_rate': 2.1276595744680852e-05, 'epoch': 4.84}        \r\n",
      "100%|███████████████████████████████████████| 235/235 [2:04:44<00:00, 20.00s/it]\r\n",
      "  0%|                                                    | 0/48 [00:00<?, ?it/s]\u001B[A\r\n",
      "  4%|█▊                                          | 2/48 [00:01<00:39,  1.16it/s]\u001B[A\r\n",
      "  6%|██▊                                         | 3/48 [00:03<00:51,  1.14s/it]\u001B[A\r\n",
      "  8%|███▋                                        | 4/48 [00:04<00:58,  1.33s/it]\u001B[A\r\n",
      " 10%|████▌                                       | 5/48 [00:06<01:01,  1.43s/it]\u001B[A\r\n",
      " 12%|█████▌                                      | 6/48 [00:08<01:02,  1.49s/it]\u001B[A\r\n",
      " 15%|██████▍                                     | 7/48 [00:09<01:00,  1.47s/it]\u001B[A\r\n",
      " 17%|███████▎                                    | 8/48 [00:11<01:01,  1.54s/it]\u001B[A\r\n",
      " 19%|████████▎                                   | 9/48 [00:12<01:00,  1.55s/it]\u001B[A\r\n",
      " 21%|████████▉                                  | 10/48 [00:14<00:57,  1.52s/it]\u001B[A\r\n",
      " 23%|█████████▊                                 | 11/48 [00:15<00:57,  1.56s/it]\u001B[A\r\n",
      " 25%|██████████▊                                | 12/48 [00:17<00:56,  1.56s/it]\u001B[A\r\n",
      " 27%|███████████▋                               | 13/48 [00:19<00:54,  1.55s/it]\u001B[A\r\n",
      " 29%|████████████▌                              | 14/48 [00:20<00:53,  1.56s/it]\u001B[A\r\n",
      " 31%|█████████████▍                             | 15/48 [00:22<00:52,  1.61s/it]\u001B[A\r\n",
      " 33%|██████████████▎                            | 16/48 [00:23<00:51,  1.61s/it]\u001B[A\r\n",
      " 35%|███████████████▏                           | 17/48 [00:25<00:49,  1.58s/it]\u001B[A\r\n",
      " 38%|████████████████▏                          | 18/48 [00:26<00:46,  1.56s/it]\u001B[A\r\n",
      " 40%|█████████████████                          | 19/48 [00:28<00:45,  1.58s/it]\u001B[A\r\n",
      " 42%|█████████████████▉                         | 20/48 [00:30<00:43,  1.57s/it]\u001B[A\r\n",
      " 44%|██████████████████▊                        | 21/48 [00:31<00:42,  1.57s/it]\u001B[A\r\n",
      " 46%|███████████████████▋                       | 22/48 [00:33<00:41,  1.61s/it]\u001B[A\r\n",
      " 48%|████████████████████▌                      | 23/48 [00:34<00:40,  1.60s/it]\u001B[A\r\n",
      " 50%|█████████████████████▌                     | 24/48 [00:36<00:36,  1.54s/it]\u001B[A\r\n",
      " 52%|██████████████████████▍                    | 25/48 [00:38<00:36,  1.57s/it]\u001B[A\r\n",
      " 54%|███████████████████████▎                   | 26/48 [00:39<00:34,  1.57s/it]\u001B[A\r\n",
      " 56%|████████████████████████▏                  | 27/48 [00:41<00:32,  1.56s/it]\u001B[A\r\n",
      " 58%|█████████████████████████                  | 28/48 [00:42<00:31,  1.55s/it]\u001B[A\r\n",
      " 60%|█████████████████████████▉                 | 29/48 [00:44<00:29,  1.57s/it]\u001B[A\r\n",
      " 62%|██████████████████████████▉                | 30/48 [00:45<00:28,  1.57s/it]\u001B[A\r\n",
      " 65%|███████████████████████████▊               | 31/48 [00:47<00:26,  1.57s/it]\u001B[A\r\n",
      " 67%|████████████████████████████▋              | 32/48 [00:48<00:25,  1.57s/it]\u001B[A\r\n",
      " 69%|█████████████████████████████▌             | 33/48 [00:50<00:23,  1.60s/it]\u001B[A\r\n",
      " 71%|██████████████████████████████▍            | 34/48 [00:52<00:22,  1.62s/it]\u001B[A\r\n",
      " 73%|███████████████████████████████▎           | 35/48 [00:53<00:20,  1.56s/it]\u001B[A\r\n",
      " 75%|████████████████████████████████▎          | 36/48 [00:55<00:18,  1.58s/it]\u001B[A\r\n",
      " 77%|█████████████████████████████████▏         | 37/48 [00:57<00:17,  1.62s/it]\u001B[A\r\n",
      " 79%|██████████████████████████████████         | 38/48 [00:58<00:16,  1.60s/it]\u001B[A\r\n",
      " 81%|██████████████████████████████████▉        | 39/48 [01:00<00:14,  1.59s/it]\u001B[A\r\n",
      " 83%|███████████████████████████████████▊       | 40/48 [01:01<00:12,  1.58s/it]\u001B[A\r\n",
      " 85%|████████████████████████████████████▋      | 41/48 [01:03<00:11,  1.64s/it]\u001B[A\r\n",
      " 88%|█████████████████████████████████████▋     | 42/48 [01:05<00:09,  1.64s/it]\u001B[A\r\n",
      " 90%|██████████████████████████████████████▌    | 43/48 [01:06<00:08,  1.63s/it]\u001B[A\r\n",
      " 92%|███████████████████████████████████████▍   | 44/48 [01:08<00:06,  1.60s/it]\u001B[A\r\n",
      " 94%|████████████████████████████████████████▎  | 45/48 [01:09<00:04,  1.61s/it]\u001B[A\r\n",
      " 96%|█████████████████████████████████████████▏ | 46/48 [01:11<00:03,  1.61s/it]\u001B[A\r\n",
      " 98%|██████████████████████████████████████████ | 47/48 [01:13<00:01,  1.61s/it]\u001B[A\r\n",
      "                                                                                \u001B[A\r\n",
      "\u001B[A{'eval_loss': 0.20897176861763, 'eval_accuracy': 0.9361842105263158, 'eval_precision': 0.9369276776583206, 'eval_recall': 0.9361842105263158, 'eval_f1': 0.9359661787302581, 'eval_runtime': 75.2268, 'eval_samples_per_second': 40.411, 'eval_steps_per_second': 0.638, 'epoch': 4.95}\r\n",
      "100%|███████████████████████████████████████| 235/235 [2:05:59<00:00, 20.00s/it]\r\n",
      "100%|███████████████████████████████████████████| 48/48 [01:14<00:00,  1.38s/it]\u001B[A\r\n",
      "{'train_runtime': 7559.9493, 'train_samples_per_second': 8.042, 'train_steps_per_second': 0.031, 'train_loss': 0.3114024398174692, 'epoch': 4.95}\r\n",
      "100%|███████████████████████████████████████| 235/235 [2:05:59<00:00, 32.17s/it]\r\n"
     ]
    }
   ],
   "source": [
    "!python ../../../peft_train.py \\\n",
    "--model_name ../../../pretrain_models/bert-large-cased \\\n",
    "--max_seq_len 2048 \\\n",
    "--group_by_length \\\n",
    "--max_steps 200 \\\n",
    "--dataset_name ../../../text-classification/ag_news \\\n",
    "--num_labels 4 \\\n",
    "--epochs 5 \\\n",
    "--learning_rate 1e-3 \\\n",
    "--model_type SEQ_CLS \\\n",
    "--output_model_path ./result/bert-large-cased-ag_news-lora \\\n",
    "--bnb_4bit_compute_dtype float32 \\\n",
    "--use_4b False\n"
   ],
   "metadata": {
    "collapsed": false,
    "ExecuteTime": {
     "end_time": "2023-12-10T14:49:31.816622Z",
     "start_time": "2023-12-10T12:43:25.725576Z"
    }
   }
  },
  {
   "cell_type": "markdown",
   "source": [
    "### 1.2.2 Run code on GPU version\n",
    "Load the model together with the adapter with few lines of code! Check the snippet below to load the adapter from the Hub and run the example evaluation."
   ],
   "metadata": {
    "collapsed": false
   }
  },
  {
   "cell_type": "code",
   "execution_count": null,
   "outputs": [],
   "source": [
    "!pip install -q -U trl transformers accelerate git+https://github.com/huggingface/peft.git\n",
    "!pip install -q datasets bitsandbytes einops wandb evaluate\n",
    "from google.colab import drive\n",
    "drive.mount('/content/drive')\n",
    "%cd /content/drive/MyDrive/Colab Notebooks/llms-peft-cook-colab/experiments/bert-large-cased-lora/ag_news"
   ],
   "metadata": {
    "collapsed": false
   }
  },
  {
   "cell_type": "code",
   "execution_count": 1,
   "outputs": [
    {
     "name": "stdout",
     "output_type": "stream",
     "text": [
      "/Users/wengbenjue/opt/anaconda3/envs/peft/lib/python3.11/site-packages/bitsandbytes/cextension.py:34: UserWarning: The installed version of bitsandbytes was compiled without GPU support. 8-bit optimizers, 8-bit multiplication, and GPU quantization are unavailable.\r\n",
      "  warn(\"The installed version of bitsandbytes was compiled without GPU support. \"\r\n",
      "'NoneType' object has no attribute 'cadam32bit_grad_fp32'\r\n",
      "/Users/wengbenjue/opt/anaconda3/envs/peft/lib/python3.11/site-packages/trl/trainer/ppo_config.py:141: UserWarning: The `optimize_cuda_cache` arguement will be deprecated soon, please use `optimize_device_cache` instead.\r\n",
      "  warnings.warn(\r\n",
      "Using the latest cached version of the module from /Users/wengbenjue/.cache/huggingface/modules/evaluate_modules/metrics/evaluate-metric--accuracy/f887c0aab52c2d38e1f8a215681126379eca617f96c447638f751434e8e65b14 (last modified on Mon Apr 24 01:17:15 2023) since it couldn't be found locally at evaluate-metric--accuracy, or remotely on the Hugging Face Hub.\r\n",
      "Traceback (most recent call last):\r\n",
      "  File \"/Users/wengbenjue/sourcecode/peft/llms-peft-cook/experiments/flan-t5-base-lora/ag_news/../../../peft_train.py\", line 353, in <module>\r\n",
      "    model, peft_config, tokenizer = create_and_prepare_model(script_args)\r\n",
      "                                    ^^^^^^^^^^^^^^^^^^^^^^^^^^^^^^^^^^^^^\r\n",
      "  File \"/Users/wengbenjue/sourcecode/peft/llms-peft-cook/experiments/flan-t5-base-lora/ag_news/../../../peft_train.py\", line 253, in create_and_prepare_model\r\n",
      "    model = AutoModelForSeq2SeqLM.from_pretrained(\r\n",
      "            ^^^^^^^^^^^^^^^^^^^^^^^^^^^^^^^^^^^^^^\r\n",
      "  File \"/Users/wengbenjue/opt/anaconda3/envs/peft/lib/python3.11/site-packages/transformers/models/auto/auto_factory.py\", line 566, in from_pretrained\r\n",
      "    return model_class.from_pretrained(\r\n",
      "           ^^^^^^^^^^^^^^^^^^^^^^^^^^^^\r\n",
      "  File \"/Users/wengbenjue/opt/anaconda3/envs/peft/lib/python3.11/site-packages/transformers/modeling_utils.py\", line 2714, in from_pretrained\r\n",
      "    raise ImportError(\r\n",
      "ImportError: Using `load_in_8bit=True` requires Accelerate: `pip install accelerate` and the latest version of bitsandbytes `pip install -i https://test.pypi.org/simple/ bitsandbytes` or pip install bitsandbytes` \r\n"
     ]
    }
   ],
   "source": [
    "import os\n",
    "os.environ[\"CUDA_VISIBLE_DEVICES\"] = \"0\"\n",
    "!python ../../../peft_train.py \\\n",
    "--model_name bert-large-cased \\\n",
    "--max_seq_len 2048 \\\n",
    "--group_by_length \\\n",
    "--max_steps 200 \\\n",
    "--dataset_name ../../../text-classification/ag_news \\\n",
    "--num_labels 2 \\\n",
    "--epochs 5 \\\n",
    "--learning_rate 1e-3\\\n",
    "--model_type SEQ_CLS \\\n",
    "--output_model_path ./result/bert-base-cased-ag_news-lora \\\n",
    "--bnb_4bit_compute_dtype float16 \\\n",
    "--load_in_8bit \\\n",
    "--use_4b"
   ],
   "metadata": {
    "collapsed": false,
    "ExecuteTime": {
     "end_time": "2023-12-03T10:03:39.029735Z",
     "start_time": "2023-12-03T09:56:00.036957Z"
    }
   }
  },
  {
   "cell_type": "markdown",
   "source": [
    "# Load your adapter from the Hub"
   ],
   "metadata": {
    "collapsed": false
   }
  },
  {
   "cell_type": "code",
   "execution_count": 7,
   "outputs": [],
   "source": [
    "import torch\n",
    "from peft import PeftModel, PeftConfig\n",
    "from transformers import AutoModelForSeq2SeqLM, AutoTokenizer\n",
    "\n",
    "peft_model_id = \"./result/flan-t5-cup-lora\"\n",
    "base_model_name_or_path = '.../../../pretrain_models/google-flan-t5-small'\n",
    "config = PeftConfig.from_pretrained(peft_model_id)\n",
    "\n",
    "# model = AutoModelForSeq2SeqLM.from_pretrained(config.base_model_name_or_path, torch_dtype=\"auto\", device_map=\"auto\")\n",
    "model = AutoModelForSeq2SeqLM.from_pretrained(config.base_model_name_or_path, torch_dtype=\"auto\", device_map=\"cpu\")\n",
    "tokenizer = AutoTokenizer.from_pretrained(config.base_model_name_or_path)\n",
    "\n",
    "# Load the Lora model\n",
    "model = PeftModel.from_pretrained(model, peft_model_id)"
   ],
   "metadata": {
    "collapsed": false,
    "ExecuteTime": {
     "end_time": "2023-12-02T16:37:01.962850Z",
     "start_time": "2023-12-02T16:37:01.696535Z"
    }
   }
  },
  {
   "cell_type": "code",
   "execution_count": 9,
   "outputs": [
    {
     "name": "stdout",
     "output_type": "stream",
     "text": [
      "input sentence:  In January-September 2009 , the Group 's net interest income increased to EUR 112.4 mn from EUR 74.3 mn in January-September 2008 .\n",
      " output prediction:  ['positive positive positive positive positive positive positive positive positive positive']\n"
     ]
    }
   ],
   "source": [
    "model.eval()\n",
    "input_text = \"In January-September 2009 , the Group 's net interest income increased to EUR 112.4 mn from EUR 74.3 mn in January-September 2008 .\"\n",
    "inputs = tokenizer(input_text, return_tensors=\"pt\")\n",
    "\n",
    "outputs = model.generate(input_ids=inputs[\"input_ids\"], max_new_tokens=10)\n",
    "\n",
    "print(\"input sentence: \", input_text)\n",
    "print(\" output prediction: \", tokenizer.batch_decode(outputs.detach().cpu().numpy(), skip_special_tokens=True))"
   ],
   "metadata": {
    "collapsed": false,
    "ExecuteTime": {
     "end_time": "2023-12-02T16:40:55.202266Z",
     "start_time": "2023-12-02T16:40:55.100686Z"
    }
   }
  },
  {
   "cell_type": "code",
   "execution_count": 8,
   "outputs": [
    {
     "name": "stdout",
     "output_type": "stream",
     "text": [
      "input sentence:  In January-September 2009 , the Group 's net interest income increased to EUR 112.4 mn from EUR 74.3 mn in January-September 2008 .\n",
      " output prediction:  ['positive positive positive positive positive positive positive positive positive positive']\n"
     ]
    }
   ],
   "source": [
    "model.eval()\n",
    "input_text = \"In January-September 2009 , the Group 's net interest income increased to EUR 112.4 mn from EUR 74.3 mn in January-September 2008 .\"\n",
    "inputs = tokenizer(input_text, return_tensors=\"pt\")\n",
    "\n",
    "outputs = model.generate(input_ids=inputs[\"input_ids\"], max_new_tokens=10)\n",
    "\n",
    "print(\"input sentence: \", input_text)\n",
    "print(\" output prediction: \", tokenizer.batch_decode(outputs.detach().cpu().numpy(), skip_special_tokens=True))"
   ],
   "metadata": {
    "collapsed": false,
    "ExecuteTime": {
     "end_time": "2023-12-02T16:37:04.919570Z",
     "start_time": "2023-12-02T16:37:04.379496Z"
    }
   }
  },
  {
   "cell_type": "markdown",
   "source": [
    "## 1.3 Experimental Result"
   ],
   "metadata": {
    "collapsed": false
   }
  },
  {
   "cell_type": "code",
   "execution_count": 1,
   "outputs": [],
   "source": [
    "class HTMLRender:\n",
    "    def __init__(self,html_str):\n",
    "        self.html_str =html_str\n",
    "    def _repr_html_(self):\n",
    "       return self.html_str\n"
   ],
   "metadata": {
    "collapsed": false,
    "ExecuteTime": {
     "end_time": "2023-12-12T16:43:21.390701Z",
     "start_time": "2023-12-12T16:43:21.385275Z"
    }
   }
  },
  {
   "cell_type": "code",
   "execution_count": 2,
   "outputs": [
    {
     "data": {
      "text/plain": "<__main__.HTMLRender at 0x1111a8710>",
      "text/html": "\n<table>\n  <tr>\n    <th>eval loss</th>\n    <th>eval accuracy</th>\n    <th>eval precision</th>\n    <th>eval recall</th>\n    <th>eval f1</th>\n  </tr>\n  <tr>\n    <td style=\"background-color:#4C72B0;\">0.102</td>\n    <td style=\"background-color:#55A868;\">0.896</td>\n    <td style=\"background-color:#C44E52;\">0.90</td>\n     <td style=\"background-color:#8172B2;\">0.896</td>\n    <td style=\"background-color:#64B5CD;\">0.894</td>\n  </tr>\n\n</table>\n\n       "
     },
     "execution_count": 2,
     "metadata": {},
     "output_type": "execute_result"
    }
   ],
   "source": [
    "model_accurcy_html = '''\n",
    "<table>\n",
    "  <tr>\n",
    "    <th>eval loss</th>\n",
    "    <th>eval accuracy</th>\n",
    "    <th>eval precision</th>\n",
    "    <th>eval recall</th>\n",
    "    <th>eval f1</th>\n",
    "  </tr>\n",
    "  <tr>\n",
    "    <td style=\"background-color:#4C72B0;\">0.102</td>\n",
    "    <td style=\"background-color:#55A868;\">0.896</td>\n",
    "    <td style=\"background-color:#C44E52;\">0.90</td>\n",
    "     <td style=\"background-color:#8172B2;\">0.896</td>\n",
    "    <td style=\"background-color:#64B5CD;\">0.894</td>\n",
    "  </tr>\n",
    "\n",
    "</table>\n",
    "\n",
    "       '''\n",
    "HTMLRender(model_accurcy_html)"
   ],
   "metadata": {
    "collapsed": false,
    "ExecuteTime": {
     "end_time": "2023-12-12T16:43:22.069398Z",
     "start_time": "2023-12-12T16:43:22.062164Z"
    }
   }
  },
  {
   "cell_type": "code",
   "execution_count": null,
   "outputs": [],
   "source": [
    "accuracy_html = '''\n",
    "<img src=\"./image/flan-t5-small-accuracy.png\" alt=\"flan-t5-small-accuracy\" width=\"70%\">\n",
    "'''\n",
    "HTMLRender(accuracy_html)"
   ],
   "metadata": {
    "collapsed": false,
    "is_executing": true
   }
  },
  {
   "cell_type": "code",
   "execution_count": null,
   "outputs": [],
   "source": [
    "## Load your adapter from the Hub\n"
   ],
   "metadata": {
    "collapsed": false
   }
  }
 ],
 "metadata": {
  "kernelspec": {
   "display_name": "Python 3",
   "language": "python",
   "name": "python3"
  },
  "language_info": {
   "codemirror_mode": {
    "name": "ipython",
    "version": 2
   },
   "file_extension": ".py",
   "mimetype": "text/x-python",
   "name": "python",
   "nbconvert_exporter": "python",
   "pygments_lexer": "ipython2",
   "version": "2.7.6"
  }
 },
 "nbformat": 4,
 "nbformat_minor": 0
}
