{
 "cells": [
  {
   "cell_type": "markdown",
   "source": [
    "Finetuning the model on financial_phrasebank dataset, that consists of pairs of text-labels to classify financial-related sentences, if they are either <span style=\"color: red;\">positive</span>, <span style=\"color: purple;\">neutral</span> or <span style=\"color: green;\">negative</span>."
   ],
   "metadata": {
    "collapsed": false
   }
  },
  {
   "cell_type": "markdown",
   "source": [
    "# 1.Experimental Setup1"
   ],
   "metadata": {
    "collapsed": false
   }
  },
  {
   "cell_type": "markdown",
   "source": [
    "## 1.1 Setup"
   ],
   "metadata": {
    "collapsed": false
   }
  },
  {
   "cell_type": "markdown",
   "source": [
    "## 1.2 Training"
   ],
   "metadata": {
    "collapsed": false
   }
  },
  {
   "cell_type": "markdown",
   "source": [
    "### 1.2.1 Run code on CPU version"
   ],
   "metadata": {
    "collapsed": false
   }
  },
  {
   "cell_type": "code",
   "execution_count": null,
   "outputs": [],
   "source": [
    "!pwd"
   ],
   "metadata": {
    "collapsed": false,
    "is_executing": true
   }
  },
  {
   "cell_type": "markdown",
   "source": [
    "### 1.2.2 Run code on GPU version\n",
    "Load the model together with the adapter with few lines of code! Check the snippet below to load the adapter from the Hub and run the example evaluation."
   ],
   "metadata": {
    "collapsed": false
   }
  },
  {
   "cell_type": "code",
   "execution_count": 1,
   "outputs": [
    {
     "name": "stdout",
     "output_type": "stream",
     "text": [
      "/Users/wengbenjue/opt/anaconda3/envs/peft/lib/python3.11/site-packages/bitsandbytes/cextension.py:34: UserWarning: The installed version of bitsandbytes was compiled without GPU support. 8-bit optimizers, 8-bit multiplication, and GPU quantization are unavailable.\r\n",
      "  warn(\"The installed version of bitsandbytes was compiled without GPU support. \"\r\n",
      "'NoneType' object has no attribute 'cadam32bit_grad_fp32'\r\n",
      "/Users/wengbenjue/opt/anaconda3/envs/peft/lib/python3.11/site-packages/trl/trainer/ppo_config.py:141: UserWarning: The `optimize_cuda_cache` arguement will be deprecated soon, please use `optimize_device_cache` instead.\r\n",
      "  warnings.warn(\r\n",
      "use AutoModelForSeq2SeqLM load  model.\r\n",
      "trainable params: 18874368 || all params: 802024448 || trainable%: 2.3533407300820834\r\n",
      "tokenizer padding setting: </s>\r\n",
      "Sentence: N-Viro operates processing facilities independently as well as in partnership with municipalities .\r\n",
      "number of labels:3\r\n",
      "Running tokenizer on dataset: 100%|█| 4075/4075 [00:00<00:00, 17348.86 examples/\r\n",
      "Running tokenizer on dataset: 100%|█| 453/453 [00:00<00:00, 22388.20 examples/s]\r\n",
      "  0%|                                                    | 0/80 [00:00<?, ?it/s]/Users/wengbenjue/opt/anaconda3/envs/peft/lib/python3.11/site-packages/torch/utils/checkpoint.py:429: UserWarning: torch.utils.checkpoint: please pass in use_reentrant=True or use_reentrant=False explicitly. The default value of use_reentrant will be updated to be False in the future. To maintain current behavior, pass use_reentrant=True. It is recommended that you use use_reentrant=False. Refer to docs for more details on the differences between the two variants.\r\n",
      "  warnings.warn(\r\n",
      "{'loss': 2.8064, 'learning_rate': 0.000875, 'epoch': 0.62}                      \r\n",
      " 20%|████████▌                                  | 16/80 [09:47<43:33, 40.83s/it]\r\n",
      "  0%|                                                     | 0/8 [00:00<?, ?it/s]\u001B[A\r\n",
      " 25%|███████████▎                                 | 2/8 [00:02<00:08,  1.37s/it]\u001B[A\r\n",
      " 38%|████████████████▉                            | 3/8 [00:05<00:09,  1.89s/it]\u001B[A\r\n",
      " 50%|██████████████████████▌                      | 4/8 [00:07<00:08,  2.16s/it]\u001B[A\r\n",
      " 62%|████████████████████████████▏                | 5/8 [00:11<00:07,  2.60s/it]\u001B[A\r\n",
      " 75%|█████████████████████████████████▊           | 6/8 [00:14<00:05,  2.61s/it]\u001B[A\r\n",
      " 88%|███████████████████████████████████████▍     | 7/8 [00:16<00:02,  2.60s/it]\u001B[A\r\n",
      "                                                                                \u001B[A\r\n",
      "\u001B[A{'eval_loss': 0.13636167347431183, 'eval_accuracy': 0.82560706401766, 'eval_precision': 0.8485770044652855, 'eval_recall': 0.82560706401766, 'eval_f1': 0.814306013761201, 'eval_runtime': 22.5826, 'eval_samples_per_second': 20.06, 'eval_steps_per_second': 0.354, 'epoch': 1.0}\r\n",
      " 20%|████████▌                                  | 16/80 [10:09<43:33, 40.83s/it]\r\n",
      "100%|█████████████████████████████████████████████| 8/8 [00:19<00:00,  2.76s/it]\u001B[A\r\n",
      "                                                                                \u001B[A/Users/wengbenjue/opt/anaconda3/envs/peft/lib/python3.11/site-packages/torch/utils/checkpoint.py:429: UserWarning: torch.utils.checkpoint: please pass in use_reentrant=True or use_reentrant=False explicitly. The default value of use_reentrant will be updated to be False in the future. To maintain current behavior, pass use_reentrant=True. It is recommended that you use use_reentrant=False. Refer to docs for more details on the differences between the two variants.\r\n",
      "  warnings.warn(\r\n",
      "{'loss': 0.308, 'learning_rate': 0.00075, 'epoch': 1.25}                        \r\n",
      "{'loss': 0.1078, 'learning_rate': 0.000625, 'epoch': 1.88}                      \r\n",
      " 40%|█████████████████▏                         | 32/80 [20:16<28:48, 36.00s/it]\r\n",
      "  0%|                                                     | 0/8 [00:00<?, ?it/s]\u001B[A\r\n",
      " 25%|███████████▎                                 | 2/8 [00:02<00:08,  1.41s/it]\u001B[A\r\n",
      " 38%|████████████████▉                            | 3/8 [00:05<00:09,  1.95s/it]\u001B[A\r\n",
      " 50%|██████████████████████▌                      | 4/8 [00:07<00:08,  2.07s/it]\u001B[A\r\n",
      " 62%|████████████████████████████▏                | 5/8 [00:12<00:09,  3.10s/it]\u001B[A\r\n",
      " 75%|█████████████████████████████████▊           | 6/8 [00:16<00:06,  3.28s/it]\u001B[A\r\n",
      " 88%|███████████████████████████████████████▍     | 7/8 [00:19<00:03,  3.23s/it]\u001B[A\r\n",
      "                                                                                \u001B[A\r\n",
      "\u001B[A{'eval_loss': 0.051016684621572495, 'eval_accuracy': 0.9359823399558499, 'eval_precision': 0.9358010077582564, 'eval_recall': 0.9359823399558499, 'eval_f1': 0.9352622006799635, 'eval_runtime': 25.4343, 'eval_samples_per_second': 17.811, 'eval_steps_per_second': 0.315, 'epoch': 2.0}\r\n",
      " 40%|█████████████████▏                         | 32/80 [20:41<28:48, 36.00s/it]\r\n",
      "100%|█████████████████████████████████████████████| 8/8 [00:22<00:00,  3.07s/it]\u001B[A\r\n",
      "                                                                                \u001B[A/Users/wengbenjue/opt/anaconda3/envs/peft/lib/python3.11/site-packages/torch/utils/checkpoint.py:429: UserWarning: torch.utils.checkpoint: please pass in use_reentrant=True or use_reentrant=False explicitly. The default value of use_reentrant will be updated to be False in the future. To maintain current behavior, pass use_reentrant=True. It is recommended that you use use_reentrant=False. Refer to docs for more details on the differences between the two variants.\r\n",
      "  warnings.warn(\r\n",
      "{'loss': 0.0743, 'learning_rate': 0.0005, 'epoch': 2.5}                         \r\n",
      " 60%|█████████████████████████▊                 | 48/80 [30:30<18:48, 35.26s/it]\r\n",
      "  0%|                                                     | 0/8 [00:00<?, ?it/s]\u001B[A\r\n",
      " 25%|███████████▎                                 | 2/8 [00:02<00:06,  1.10s/it]\u001B[A\r\n",
      " 38%|████████████████▉                            | 3/8 [00:04<00:08,  1.71s/it]\u001B[A\r\n",
      " 50%|██████████████████████▌                      | 4/8 [00:07<00:08,  2.01s/it]\u001B[A\r\n",
      " 62%|████████████████████████████▏                | 5/8 [00:09<00:06,  2.24s/it]\u001B[A\r\n",
      " 75%|█████████████████████████████████▊           | 6/8 [00:12<00:04,  2.32s/it]\u001B[A\r\n",
      " 88%|███████████████████████████████████████▍     | 7/8 [00:15<00:02,  2.41s/it]\u001B[A\r\n",
      "                                                                                \u001B[A\r\n",
      "\u001B[A{'eval_loss': 0.030473364517092705, 'eval_accuracy': 0.9690949227373068, 'eval_precision': 0.9692865151216062, 'eval_recall': 0.9690949227373068, 'eval_f1': 0.9691365134209937, 'eval_runtime': 20.7008, 'eval_samples_per_second': 21.883, 'eval_steps_per_second': 0.386, 'epoch': 3.0}\r\n",
      " 60%|█████████████████████████▊                 | 48/80 [30:50<18:48, 35.26s/it]\r\n",
      "100%|█████████████████████████████████████████████| 8/8 [00:18<00:00,  2.42s/it]\u001B[A\r\n",
      "                                                                                \u001B[A/Users/wengbenjue/opt/anaconda3/envs/peft/lib/python3.11/site-packages/torch/utils/checkpoint.py:429: UserWarning: torch.utils.checkpoint: please pass in use_reentrant=True or use_reentrant=False explicitly. The default value of use_reentrant will be updated to be False in the future. To maintain current behavior, pass use_reentrant=True. It is recommended that you use use_reentrant=False. Refer to docs for more details on the differences between the two variants.\r\n",
      "  warnings.warn(\r\n",
      "{'loss': 0.0517, 'learning_rate': 0.000375, 'epoch': 3.12}                      \r\n",
      "{'loss': 0.0441, 'learning_rate': 0.00025, 'epoch': 3.75}                       \r\n",
      " 80%|██████████████████████████████████▍        | 64/80 [48:37<15:04, 56.54s/it]\r\n",
      "  0%|                                                     | 0/8 [00:00<?, ?it/s]\u001B[A\r\n",
      " 25%|███████████▎                                 | 2/8 [00:04<00:13,  2.31s/it]\u001B[A\r\n",
      " 38%|████████████████▉                            | 3/8 [00:09<00:16,  3.36s/it]\u001B[A\r\n",
      " 50%|██████████████████████▌                      | 4/8 [00:12<00:13,  3.32s/it]\u001B[A\r\n",
      " 62%|████████████████████████████▏                | 5/8 [00:18<00:12,  4.08s/it]\u001B[A\r\n",
      " 75%|█████████████████████████████████▊           | 6/8 [00:23<00:08,  4.37s/it]\u001B[A\r\n",
      " 88%|███████████████████████████████████████▍     | 7/8 [00:28<00:04,  4.58s/it]\u001B[A\r\n",
      "                                                                                \u001B[A\r\n",
      "\u001B[A{'eval_loss': 0.026331402361392975, 'eval_accuracy': 0.9713024282560706, 'eval_precision': 0.9718662799306933, 'eval_recall': 0.9713024282560706, 'eval_f1': 0.9713839955838249, 'eval_runtime': 34.0691, 'eval_samples_per_second': 13.297, 'eval_steps_per_second': 0.235, 'epoch': 4.0}\r\n",
      " 80%|██████████████████████████████████▍        | 64/80 [49:11<15:04, 56.54s/it]\r\n",
      "100%|█████████████████████████████████████████████| 8/8 [00:29<00:00,  3.41s/it]\u001B[A\r\n",
      "                                                                                \u001B[A/Users/wengbenjue/opt/anaconda3/envs/peft/lib/python3.11/site-packages/torch/utils/checkpoint.py:429: UserWarning: torch.utils.checkpoint: please pass in use_reentrant=True or use_reentrant=False explicitly. The default value of use_reentrant will be updated to be False in the future. To maintain current behavior, pass use_reentrant=True. It is recommended that you use use_reentrant=False. Refer to docs for more details on the differences between the two variants.\r\n",
      "  warnings.warn(\r\n",
      "{'loss': 0.0389, 'learning_rate': 0.000125, 'epoch': 4.38}                      \r\n",
      "{'loss': 0.0393, 'learning_rate': 0.0, 'epoch': 5.0}                            \r\n",
      "100%|█████████████████████████████████████████| 80/80 [1:05:40<00:00, 60.93s/it]\r\n",
      "  0%|                                                     | 0/8 [00:00<?, ?it/s]\u001B[A\r\n",
      " 25%|███████████▎                                 | 2/8 [00:03<00:11,  1.90s/it]\u001B[A\r\n",
      " 38%|████████████████▉                            | 3/8 [00:07<00:12,  2.55s/it]\u001B[A\r\n",
      " 50%|██████████████████████▌                      | 4/8 [00:11<00:12,  3.16s/it]\u001B[A\r\n",
      " 62%|████████████████████████████▏                | 5/8 [00:15<00:10,  3.36s/it]\u001B[A\r\n",
      " 75%|█████████████████████████████████▊           | 6/8 [00:19<00:07,  3.62s/it]\u001B[A\r\n",
      " 88%|███████████████████████████████████████▍     | 7/8 [00:23<00:03,  3.67s/it]\u001B[A\r\n",
      "                                                                                \u001B[A\r\n",
      "\u001B[A{'eval_loss': 0.025469765067100525, 'eval_accuracy': 0.9735099337748344, 'eval_precision': 0.9738876899877466, 'eval_recall': 0.9735099337748344, 'eval_f1': 0.9735432087822508, 'eval_runtime': 28.4973, 'eval_samples_per_second': 15.896, 'eval_steps_per_second': 0.281, 'epoch': 5.0}\r\n",
      "100%|█████████████████████████████████████████| 80/80 [1:06:09<00:00, 60.93s/it]\r\n",
      "100%|█████████████████████████████████████████████| 8/8 [00:24<00:00,  2.94s/it]\u001B[A\r\n",
      "{'train_runtime': 3969.1343, 'train_samples_per_second': 5.133, 'train_steps_per_second': 0.02, 'train_loss': 0.4338005010038614, 'epoch': 5.0}\r\n",
      "100%|█████████████████████████████████████████| 80/80 [1:06:09<00:00, 49.61s/it]\r\n"
     ]
    }
   ],
   "source": [
    "!python ../../../peft_train.py \\\n",
    "--model_name ../../../pretrain_models/flan-t5-large \\\n",
    "--max_seq_len 2048 \\\n",
    "--group_by_length \\\n",
    "--max_steps 200 \\\n",
    "--dataset_name ../../../text-classification/financial_phrasebank \\\n",
    "--num_labels 3 \\\n",
    "--epochs 5 \\\n",
    "--learning_rate 1e-3 \\\n",
    "--per_device_train_batch_size 64 \\\n",
    "--per_device_eval_batch_size 64 \\\n",
    "--model_type SEQ_2_SEQ_LM \\\n",
    "--output_model_path ./result/flan-t5-financial-lora \\\n",
    "--bnb_4bit_compute_dtype float16 \\\n",
    "--use_4b False\n"
   ],
   "metadata": {
    "collapsed": false,
    "ExecuteTime": {
     "end_time": "2023-12-06T17:34:00.407888Z",
     "start_time": "2023-12-06T16:27:40.344256Z"
    }
   }
  },
  {
   "cell_type": "code",
   "execution_count": null,
   "outputs": [],
   "source": [
    "!pip install -q -U trl transformers accelerate git+https://github.com/huggingface/peft.git\n",
    "!pip install -q datasets bitsandbytes einops wandb evaluate\n",
    "from google.colab import drive\n",
    "drive.mount('/content/drive')\n",
    "%cd /content/drive/MyDrive/Colab Notebooks/llms-peft-cook-colab/experiments/flan-t5-large-lora/financial_phrasebank"
   ],
   "metadata": {
    "collapsed": false
   }
  },
  {
   "cell_type": "code",
   "execution_count": null,
   "outputs": [],
   "source": [
    "import os\n",
    "os.environ[\"CUDA_VISIBLE_DEVICES\"] = \"0\"\n",
    "!python ../../../peft_train.py \\\n",
    "--model_name google/flan-t5-large \\\n",
    "--max_seq_len 2048 \\\n",
    "--group_by_length \\\n",
    "--max_steps 200 \\\n",
    "--dataset_name ../../../text-classification/financial_phrasebank \\\n",
    "--num_labels 3 \\\n",
    "--epochs 5 \\\n",
    "--learning_rate 1e-3 \\\n",
    "--per_device_train_batch_size 64 \\\n",
    "--per_device_eval_batch_size 64 \\\n",
    "--model_type SEQ_2_SEQ_LM \\\n",
    "--output_model_path ./result/flan-t5-financial-lora \\\n",
    "--bnb_4bit_compute_dtype float32 \\\n",
    "--load_in_8bit \\\n",
    "--use_4b"
   ],
   "metadata": {
    "collapsed": false,
    "is_executing": true
   }
  },
  {
   "cell_type": "markdown",
   "source": [
    "# Load your adapter from the Hub"
   ],
   "metadata": {
    "collapsed": false
   }
  },
  {
   "cell_type": "code",
   "execution_count": 7,
   "outputs": [],
   "source": [
    "import torch\n",
    "from peft import PeftModel, PeftConfig\n",
    "from transformers import AutoModelForSeq2SeqLM, AutoTokenizer\n",
    "\n",
    "peft_model_id = \"./result/flan-t5-cup-lora\"\n",
    "base_model_name_or_path = '.../../../pretrain_models/google-flan-t5-small'\n",
    "config = PeftConfig.from_pretrained(peft_model_id)\n",
    "\n",
    "# model = AutoModelForSeq2SeqLM.from_pretrained(config.base_model_name_or_path, torch_dtype=\"auto\", device_map=\"auto\")\n",
    "model = AutoModelForSeq2SeqLM.from_pretrained(config.base_model_name_or_path, torch_dtype=\"auto\", device_map=\"cpu\")\n",
    "tokenizer = AutoTokenizer.from_pretrained(config.base_model_name_or_path)\n",
    "\n",
    "# Load the Lora model\n",
    "model = PeftModel.from_pretrained(model, peft_model_id)"
   ],
   "metadata": {
    "collapsed": false,
    "ExecuteTime": {
     "end_time": "2023-12-02T16:37:01.962850Z",
     "start_time": "2023-12-02T16:37:01.696535Z"
    }
   }
  },
  {
   "cell_type": "code",
   "execution_count": 9,
   "outputs": [
    {
     "name": "stdout",
     "output_type": "stream",
     "text": [
      "input sentence:  In January-September 2009 , the Group 's net interest income increased to EUR 112.4 mn from EUR 74.3 mn in January-September 2008 .\n",
      " output prediction:  ['positive positive positive positive positive positive positive positive positive positive']\n"
     ]
    }
   ],
   "source": [
    "model.eval()\n",
    "input_text = \"In January-September 2009 , the Group 's net interest income increased to EUR 112.4 mn from EUR 74.3 mn in January-September 2008 .\"\n",
    "inputs = tokenizer(input_text, return_tensors=\"pt\")\n",
    "\n",
    "outputs = model.generate(input_ids=inputs[\"input_ids\"], max_new_tokens=10)\n",
    "\n",
    "print(\"input sentence: \", input_text)\n",
    "print(\" output prediction: \", tokenizer.batch_decode(outputs.detach().cpu().numpy(), skip_special_tokens=True))"
   ],
   "metadata": {
    "collapsed": false,
    "ExecuteTime": {
     "end_time": "2023-12-02T16:40:55.202266Z",
     "start_time": "2023-12-02T16:40:55.100686Z"
    }
   }
  },
  {
   "cell_type": "code",
   "execution_count": 8,
   "outputs": [
    {
     "name": "stdout",
     "output_type": "stream",
     "text": [
      "input sentence:  In January-September 2009 , the Group 's net interest income increased to EUR 112.4 mn from EUR 74.3 mn in January-September 2008 .\n",
      " output prediction:  ['positive positive positive positive positive positive positive positive positive positive']\n"
     ]
    }
   ],
   "source": [
    "model.eval()\n",
    "input_text = \"In January-September 2009 , the Group 's net interest income increased to EUR 112.4 mn from EUR 74.3 mn in January-September 2008 .\"\n",
    "inputs = tokenizer(input_text, return_tensors=\"pt\")\n",
    "\n",
    "outputs = model.generate(input_ids=inputs[\"input_ids\"], max_new_tokens=10)\n",
    "\n",
    "print(\"input sentence: \", input_text)\n",
    "print(\" output prediction: \", tokenizer.batch_decode(outputs.detach().cpu().numpy(), skip_special_tokens=True))"
   ],
   "metadata": {
    "collapsed": false,
    "ExecuteTime": {
     "end_time": "2023-12-02T16:37:04.919570Z",
     "start_time": "2023-12-02T16:37:04.379496Z"
    }
   }
  },
  {
   "cell_type": "markdown",
   "source": [
    "## 1.3 Experimental Result"
   ],
   "metadata": {
    "collapsed": false
   }
  },
  {
   "cell_type": "code",
   "execution_count": null,
   "outputs": [],
   "source": [
    "class HTMLRender:\n",
    "    def __init__(self,html_str):\n",
    "        self.html_str =html_str\n",
    "    def _repr_html_(self):\n",
    "       return self.html_str\n"
   ],
   "metadata": {
    "collapsed": false,
    "is_executing": true
   }
  },
  {
   "cell_type": "code",
   "execution_count": null,
   "outputs": [],
   "source": [
    "model_accurcy_html = '''\n",
    "<table>\n",
    "  <tr>\n",
    "    <th>eval loss</th>\n",
    "    <th>eval accuracy</th>\n",
    "    <th>eval precision</th>\n",
    "    <th>eval recall</th>\n",
    "    <th>eval f1</th>\n",
    "  </tr>\n",
    "  <tr>\n",
    "    <td style=\"background-color:#4C72B0;\">0.102</td>\n",
    "    <td style=\"background-color:#55A868;\">0.896</td>\n",
    "    <td style=\"background-color:#C44E52;\">0.90</td>\n",
    "     <td style=\"background-color:#8172B2;\">0.896</td>\n",
    "    <td style=\"background-color:#64B5CD;\">0.894</td>\n",
    "  </tr>\n",
    "\n",
    "</table>\n",
    "\n",
    "       '''\n",
    "HTMLRender(model_accurcy_html)"
   ],
   "metadata": {
    "collapsed": false,
    "is_executing": true
   }
  },
  {
   "cell_type": "code",
   "execution_count": null,
   "outputs": [],
   "source": [
    "accuracy_html = '''\n",
    "<img src=\"./image/flan-t5-small-accuracy.png\" alt=\"flan-t5-small-accuracy\" width=\"70%\">\n",
    "'''\n",
    "HTMLRender(accuracy_html)"
   ],
   "metadata": {
    "collapsed": false,
    "is_executing": true
   }
  },
  {
   "cell_type": "code",
   "execution_count": null,
   "outputs": [],
   "source": [
    "## Load your adapter from the Hub\n"
   ],
   "metadata": {
    "collapsed": false
   }
  }
 ],
 "metadata": {
  "kernelspec": {
   "display_name": "Python 3",
   "language": "python",
   "name": "python3"
  },
  "language_info": {
   "codemirror_mode": {
    "name": "ipython",
    "version": 2
   },
   "file_extension": ".py",
   "mimetype": "text/x-python",
   "name": "python",
   "nbconvert_exporter": "python",
   "pygments_lexer": "ipython2",
   "version": "2.7.6"
  }
 },
 "nbformat": 4,
 "nbformat_minor": 0
}
